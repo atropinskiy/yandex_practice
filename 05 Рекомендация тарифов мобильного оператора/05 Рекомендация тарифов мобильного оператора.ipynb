{
 "cells": [
  {
   "cell_type": "markdown",
   "metadata": {},
   "source": [
    "## Импорт библиотек"
   ]
  },
  {
   "cell_type": "code",
   "execution_count": 1,
   "metadata": {},
   "outputs": [],
   "source": [
    "#pip install Fast_ml"
   ]
  },
  {
   "cell_type": "code",
   "execution_count": 2,
   "metadata": {},
   "outputs": [],
   "source": [
    "# Т.к. столбец is_ultra - классификатор, нам потребуются модули - классификаторы\n",
    "import pandas as pd\n",
    "from sklearn.tree import DecisionTreeClassifier\n",
    "from sklearn.ensemble import RandomForestClassifier\n",
    "from sklearn.linear_model import LogisticRegression \n",
    "from sklearn.model_selection import train_test_split\n",
    "from fast_ml.model_development import train_valid_test_split\n",
    "import matplotlib.pyplot as plt\n",
    "from sklearn.metrics import accuracy_score\n",
    "import seaborn as sns"
   ]
  },
  {
   "cell_type": "markdown",
   "metadata": {},
   "source": [
    "## Загрузка датасета"
   ]
  },
  {
   "cell_type": "code",
   "execution_count": 3,
   "metadata": {},
   "outputs": [
    {
     "name": "stdout",
     "output_type": "stream",
     "text": [
      "Размер датасета: 3214\n"
     ]
    },
    {
     "data": {
      "text/html": [
       "<div>\n",
       "<style scoped>\n",
       "    .dataframe tbody tr th:only-of-type {\n",
       "        vertical-align: middle;\n",
       "    }\n",
       "\n",
       "    .dataframe tbody tr th {\n",
       "        vertical-align: top;\n",
       "    }\n",
       "\n",
       "    .dataframe thead th {\n",
       "        text-align: right;\n",
       "    }\n",
       "</style>\n",
       "<table border=\"1\" class=\"dataframe\">\n",
       "  <thead>\n",
       "    <tr style=\"text-align: right;\">\n",
       "      <th></th>\n",
       "      <th>calls</th>\n",
       "      <th>minutes</th>\n",
       "      <th>messages</th>\n",
       "      <th>mb_used</th>\n",
       "      <th>is_ultra</th>\n",
       "    </tr>\n",
       "  </thead>\n",
       "  <tbody>\n",
       "    <tr>\n",
       "      <th>0</th>\n",
       "      <td>40.0</td>\n",
       "      <td>311.90</td>\n",
       "      <td>83.0</td>\n",
       "      <td>19915.42</td>\n",
       "      <td>0</td>\n",
       "    </tr>\n",
       "    <tr>\n",
       "      <th>1</th>\n",
       "      <td>85.0</td>\n",
       "      <td>516.75</td>\n",
       "      <td>56.0</td>\n",
       "      <td>22696.96</td>\n",
       "      <td>0</td>\n",
       "    </tr>\n",
       "    <tr>\n",
       "      <th>2</th>\n",
       "      <td>77.0</td>\n",
       "      <td>467.66</td>\n",
       "      <td>86.0</td>\n",
       "      <td>21060.45</td>\n",
       "      <td>0</td>\n",
       "    </tr>\n",
       "    <tr>\n",
       "      <th>3</th>\n",
       "      <td>106.0</td>\n",
       "      <td>745.53</td>\n",
       "      <td>81.0</td>\n",
       "      <td>8437.39</td>\n",
       "      <td>1</td>\n",
       "    </tr>\n",
       "    <tr>\n",
       "      <th>4</th>\n",
       "      <td>66.0</td>\n",
       "      <td>418.74</td>\n",
       "      <td>1.0</td>\n",
       "      <td>14502.75</td>\n",
       "      <td>0</td>\n",
       "    </tr>\n",
       "  </tbody>\n",
       "</table>\n",
       "</div>"
      ],
      "text/plain": [
       "   calls  minutes  messages   mb_used  is_ultra\n",
       "0   40.0   311.90      83.0  19915.42         0\n",
       "1   85.0   516.75      56.0  22696.96         0\n",
       "2   77.0   467.66      86.0  21060.45         0\n",
       "3  106.0   745.53      81.0   8437.39         1\n",
       "4   66.0   418.74       1.0  14502.75         0"
      ]
     },
     "execution_count": 3,
     "metadata": {},
     "output_type": "execute_result"
    }
   ],
   "source": [
    "try:\n",
    "    df = pd.read_csv('./datasets/users_behavior.csv')\n",
    "except:\n",
    "    df = pd.read_csv('https://code.s3.yandex.net/datasets/users_behavior.csv')\n",
    "print ('Размер датасета:', len(df))\n",
    "df.head()"
   ]
  },
  {
   "cell_type": "code",
   "execution_count": 4,
   "metadata": {},
   "outputs": [
    {
     "data": {
      "text/plain": [
       "0    2229\n",
       "1     985\n",
       "Name: is_ultra, dtype: int64"
      ]
     },
     "execution_count": 4,
     "metadata": {},
     "output_type": "execute_result"
    }
   ],
   "source": [
    "#На всякий случай проверим сколько у нас значений с Ультра и без\n",
    "df['is_ultra'].value_counts()"
   ]
  },
  {
   "cell_type": "markdown",
   "metadata": {},
   "source": [
    "Количество строк достаточное для разработки модели."
   ]
  },
  {
   "cell_type": "code",
   "execution_count": 5,
   "metadata": {},
   "outputs": [
    {
     "name": "stdout",
     "output_type": "stream",
     "text": [
      "Точность модели, которая = константе (0) = 69.35%\n"
     ]
    }
   ],
   "source": [
    "#Есть смысл в конце сравнить результат с константой.\n",
    "print ('Точность модели, которая = константе (0) = {:2.2%}'.format(len(df[df['is_ultra']==0])/len(df)))"
   ]
  },
  {
   "cell_type": "markdown",
   "metadata": {},
   "source": [
    "Т.к. в условии задания прописано, что предобработка не требуется, пропустим блок этот блок."
   ]
  },
  {
   "cell_type": "code",
   "execution_count": 6,
   "metadata": {},
   "outputs": [],
   "source": [
    "#Так как нам требуется тестовая и валидационная выборка, воспользуемся методом бебелиотеки Fast_ml train_valid_test_split\n",
    "X_train, y_train, X_valid, y_valid, X_test, y_test = train_valid_test_split(df, target = 'is_ultra', \n",
    "                                                                            train_size=0.8, valid_size=0.1, test_size=0.1)"
   ]
  },
  {
   "cell_type": "markdown",
   "metadata": {},
   "source": [
    "## Модель \"Решающее дерево\""
   ]
  },
  {
   "cell_type": "code",
   "execution_count": 7,
   "metadata": {},
   "outputs": [
    {
     "name": "stdout",
     "output_type": "stream",
     "text": [
      "max_depth = 4 : 0.8193146417445483\n"
     ]
    }
   ],
   "source": [
    "best_depth = None\n",
    "best_result_1 = 0\n",
    "for depth in range(1,6):\n",
    "    model1 = DecisionTreeClassifier(random_state=12345, max_depth=depth)\n",
    "    model1.fit(X_train,y_train)\n",
    "    predictions_valid = model1.predict(X_valid)\n",
    "    result = accuracy_score(y_valid, predictions_valid) \n",
    "    if result > best_result_1:\n",
    "        best_result_1 = result\n",
    "        best_depth = depth\n",
    "print('max_depth =',best_depth,':',best_result_1)"
   ]
  },
  {
   "cell_type": "markdown",
   "metadata": {},
   "source": [
    "Неплохо, наибольшая точность при использовании данного метода составила 76,94% при использовании глубины деревьев - 5"
   ]
  },
  {
   "cell_type": "markdown",
   "metadata": {},
   "source": [
    "## Модель \"Случайный лес\""
   ]
  },
  {
   "cell_type": "code",
   "execution_count": 8,
   "metadata": {},
   "outputs": [
    {
     "name": "stdout",
     "output_type": "stream",
     "text": [
      "estimator = 9 : 0.8442367601246106 depth = 8\n"
     ]
    }
   ],
   "source": [
    "best_model = None\n",
    "best_result_2 = 0\n",
    "for depth in range (1,10):\n",
    "    for est in range(1, 11):\n",
    "        model2 = RandomForestClassifier(max_depth=depth, random_state=12345, n_estimators=est) # создаем модель\n",
    "        model2.fit(X_train, y_train) # обучаем модель\n",
    "        result = model2.score(X_valid,y_valid) # подсчет качества\n",
    "        if result > best_result_2:\n",
    "            bes_est = est\n",
    "            best_result_2 = result\n",
    "            best_depth = depth\n",
    "print('estimator =',bes_est,':',best_result_2, 'depth =',best_depth)"
   ]
  },
  {
   "cell_type": "markdown",
   "metadata": {},
   "source": [
    "Модель \"Случайный лес\" отработала лучше, точность составляет 79,75% "
   ]
  },
  {
   "cell_type": "markdown",
   "metadata": {},
   "source": [
    "## Модель логическая регрессия"
   ]
  },
  {
   "cell_type": "code",
   "execution_count": 9,
   "metadata": {},
   "outputs": [
    {
     "name": "stdout",
     "output_type": "stream",
     "text": [
      "Точность модели при логической регрессии: 0.7227414330218068\n"
     ]
    }
   ],
   "source": [
    "model3 = LogisticRegression(random_state=12345, solver='lbfgs', max_iter=1000) \n",
    "model3.fit(X_train,y_train)\n",
    "model3.predict(X_valid) \n",
    "best_result_3 = model3.score(X_valid, y_valid) \n",
    "print ('Точность модели при логической регрессии:', best_result_3)"
   ]
  },
  {
   "cell_type": "markdown",
   "metadata": {},
   "source": [
    "Логическая регрессия менее точно предсказывает ключевую метрику, поэтому остановимся на лучшей модели - Случайный лес"
   ]
  },
  {
   "cell_type": "markdown",
   "metadata": {},
   "source": [
    "    \n",
    "<div class=\"alert alert-block alert-success\">\n",
    "<b>Комментарий ревьюера V.2👍:</b> Не за что =)\n",
    "</div>"
   ]
  },
  {
   "cell_type": "code",
   "execution_count": 10,
   "metadata": {
    "scrolled": true
   },
   "outputs": [
    {
     "data": {
      "image/png": "[encoded data removed]",
      "text/plain": [
       "<Figure size 640x480 with 1 Axes>"
      ]
     },
     "metadata": {},
     "output_type": "display_data"
    }
   ],
   "source": [
    "#Визуализируем итоговые значения\n",
    "#df_results = {'Дерево решений': [best_result_1], 'Случайные деревья': [best_result_2], 'Логическая регрессия': [best_result_3]}\n",
    "res = pd.DataFrame([best_result_1,best_result_2,best_result_3], \n",
    "                   index = ['Дерево решений','Случайные деревья','Логическая регрессия'],columns = ['Точность'])\\\n",
    "    .plot(kind = 'bar', rot = 45)\n",
    "plt.axhline(y=0.75, color='r', linestyle='-', label = 'Требуемая точность')\n",
    "plt.legend(bbox_to_anchor=(1.04,0.5), loc=\"center left\", borderaxespad=0)\n",
    "plt.title('Точность исследуемых моделей') \n",
    "plt.show()"
   ]
  },
  {
   "cell_type": "code",
   "execution_count": 11,
   "metadata": {},
   "outputs": [
    {
     "name": "stdout",
     "output_type": "stream",
     "text": [
      "Точность на тестовой выборке по методу случайный лес = 83.54%\n"
     ]
    }
   ],
   "source": [
    "#Протестируем модель случайного леса на тестовой выборке, чтобы убедиться, \n",
    "#что она не переобучается и работает с реальными данными\n",
    "result = model2.score(X_test, y_test)\n",
    "print ('Точность на тестовой выборке по методу случайный лес = {:2.2%}'\n",
    "       .format(result))"
   ]
  },
  {
   "cell_type": "markdown",
   "metadata": {},
   "source": [
    "* Благодаря детальному подбору гиперпараметров нам удалось достичь точности на валидационной выборке - 79,75% и на тестовой - 80,75%\n",
    "* Данный уровень точности удовлетворяет требованиям ТЗ."
   ]
  },
  {
   "cell_type": "markdown",
   "metadata": {},
   "source": [
    "## Выводы"
   ]
  },
  {
   "cell_type": "markdown",
   "metadata": {},
   "source": [
    "* Метод случайных деревьев на валидационной выборке показал себя лучше всего, Также он отлично справился с тестовой выборкой, что говорит нам о том, что данная модель не переобучена.\n",
    "* Логическая регрессия показала себя хуже остальных."
   ]
  }
 ],
 "metadata": {
  "ExecuteTimeLog": [
   {
    "duration": 51,
    "start_time": "2022-12-12T20:50:41.296Z"
   },
   {
    "duration": 1538,
    "start_time": "2022-12-12T20:50:48.723Z"
   },
   {
    "duration": 96,
    "start_time": "2022-12-12T20:50:50.264Z"
   },
   {
    "duration": 5,
    "start_time": "2022-12-12T20:50:50.361Z"
   },
   {
    "duration": 6,
    "start_time": "2022-12-12T20:50:50.368Z"
   },
   {
    "duration": 9,
    "start_time": "2022-12-12T20:50:50.376Z"
   },
   {
    "duration": 126,
    "start_time": "2022-12-12T20:50:50.386Z"
   },
   {
    "duration": 0,
    "start_time": "2022-12-12T20:50:50.513Z"
   },
   {
    "duration": 0,
    "start_time": "2022-12-12T20:50:50.514Z"
   },
   {
    "duration": 0,
    "start_time": "2022-12-12T20:50:50.516Z"
   },
   {
    "duration": 1396,
    "start_time": "2022-12-12T20:51:00.120Z"
   },
   {
    "duration": 80,
    "start_time": "2022-12-12T20:51:01.518Z"
   },
   {
    "duration": 6,
    "start_time": "2022-12-12T20:51:01.600Z"
   },
   {
    "duration": 28,
    "start_time": "2022-12-12T20:51:01.607Z"
   },
   {
    "duration": 39,
    "start_time": "2022-12-12T20:51:01.637Z"
   },
   {
    "duration": 145,
    "start_time": "2022-12-12T20:51:01.679Z"
   },
   {
    "duration": 0,
    "start_time": "2022-12-12T20:51:01.825Z"
   },
   {
    "duration": 0,
    "start_time": "2022-12-12T20:51:01.826Z"
   },
   {
    "duration": 0,
    "start_time": "2022-12-12T20:51:01.827Z"
   },
   {
    "duration": 15,
    "start_time": "2022-12-12T20:51:31.575Z"
   },
   {
    "duration": 4,
    "start_time": "2022-12-12T20:51:36.498Z"
   },
   {
    "duration": 82,
    "start_time": "2022-12-12T20:51:38.111Z"
   },
   {
    "duration": 5,
    "start_time": "2022-12-12T20:51:40.974Z"
   },
   {
    "duration": 6,
    "start_time": "2022-12-12T20:51:43.306Z"
   },
   {
    "duration": 17,
    "start_time": "2022-12-12T20:51:46.413Z"
   },
   {
    "duration": 322,
    "start_time": "2022-12-12T20:52:01.914Z"
   },
   {
    "duration": 12,
    "start_time": "2022-12-12T20:56:07.803Z"
   },
   {
    "duration": 95,
    "start_time": "2022-12-12T20:56:20.053Z"
   },
   {
    "duration": 6,
    "start_time": "2022-12-12T20:56:23.867Z"
   },
   {
    "duration": 5,
    "start_time": "2022-12-12T20:56:28.915Z"
   },
   {
    "duration": 7,
    "start_time": "2022-12-12T20:56:32.911Z"
   },
   {
    "duration": 7,
    "start_time": "2022-12-12T20:56:35.306Z"
   },
   {
    "duration": 14,
    "start_time": "2022-12-12T20:56:38.714Z"
   },
   {
    "duration": 36,
    "start_time": "2022-12-12T20:56:48.670Z"
   },
   {
    "duration": 306,
    "start_time": "2022-12-12T20:56:52.612Z"
   },
   {
    "duration": 294,
    "start_time": "2022-12-12T20:56:54.511Z"
   },
   {
    "duration": 235,
    "start_time": "2022-12-12T20:56:56.733Z"
   },
   {
    "duration": 48,
    "start_time": "2022-12-13T08:23:57.749Z"
   },
   {
    "duration": 1577,
    "start_time": "2022-12-13T08:24:02.181Z"
   },
   {
    "duration": 236,
    "start_time": "2022-12-13T08:24:03.822Z"
   },
   {
    "duration": 6,
    "start_time": "2022-12-13T08:24:07.255Z"
   },
   {
    "duration": 6,
    "start_time": "2022-12-13T08:24:13.833Z"
   },
   {
    "duration": 69,
    "start_time": "2022-12-13T08:26:42.323Z"
   },
   {
    "duration": 3159,
    "start_time": "2022-12-13T08:27:28.696Z"
   },
   {
    "duration": 37,
    "start_time": "2022-12-13T08:27:36.303Z"
   },
   {
    "duration": 6,
    "start_time": "2022-12-13T08:27:57.464Z"
   },
   {
    "duration": 5,
    "start_time": "2022-12-13T08:27:59.813Z"
   },
   {
    "duration": 10,
    "start_time": "2022-12-13T08:28:34.942Z"
   },
   {
    "duration": 41,
    "start_time": "2022-12-13T08:29:30.951Z"
   },
   {
    "duration": 307,
    "start_time": "2022-12-13T08:31:38.436Z"
   },
   {
    "duration": 160,
    "start_time": "2022-12-13T08:32:37.619Z"
   },
   {
    "duration": 133,
    "start_time": "2022-12-13T08:37:58.246Z"
   },
   {
    "duration": 257,
    "start_time": "2022-12-13T08:38:10.802Z"
   },
   {
    "duration": 8,
    "start_time": "2022-12-13T08:39:14.132Z"
   },
   {
    "duration": 33,
    "start_time": "2022-12-13T08:40:13.267Z"
   },
   {
    "duration": 33,
    "start_time": "2022-12-13T08:40:27.611Z"
   },
   {
    "duration": 36,
    "start_time": "2022-12-13T08:40:29.977Z"
   },
   {
    "duration": 39,
    "start_time": "2022-12-13T08:40:31.534Z"
   },
   {
    "duration": 30,
    "start_time": "2022-12-13T08:40:33.000Z"
   },
   {
    "duration": 305,
    "start_time": "2022-12-13T08:40:47.976Z"
   },
   {
    "duration": 15,
    "start_time": "2022-12-13T08:41:06.852Z"
   },
   {
    "duration": 492,
    "start_time": "2022-12-13T08:41:11.495Z"
   },
   {
    "duration": 246,
    "start_time": "2022-12-13T08:41:47.995Z"
   },
   {
    "duration": 4,
    "start_time": "2022-12-13T08:41:59.856Z"
   },
   {
    "duration": 1441,
    "start_time": "2022-12-13T08:41:59.862Z"
   },
   {
    "duration": 98,
    "start_time": "2022-12-13T08:42:01.305Z"
   },
   {
    "duration": 6,
    "start_time": "2022-12-13T08:42:01.406Z"
   },
   {
    "duration": 16,
    "start_time": "2022-12-13T08:42:01.414Z"
   },
   {
    "duration": 36,
    "start_time": "2022-12-13T08:42:01.432Z"
   },
   {
    "duration": 45,
    "start_time": "2022-12-13T08:42:01.469Z"
   },
   {
    "duration": 302,
    "start_time": "2022-12-13T08:42:01.516Z"
   },
   {
    "duration": 459,
    "start_time": "2022-12-13T08:42:01.820Z"
   },
   {
    "duration": 376,
    "start_time": "2022-12-13T08:42:02.281Z"
   },
   {
    "duration": 3,
    "start_time": "2022-12-13T08:42:02.659Z"
   },
   {
    "duration": 4,
    "start_time": "2022-12-13T08:43:07.074Z"
   },
   {
    "duration": 9,
    "start_time": "2022-12-13T08:44:47.195Z"
   },
   {
    "duration": 11,
    "start_time": "2022-12-13T08:45:58.619Z"
   },
   {
    "duration": 11,
    "start_time": "2022-12-13T08:46:40.442Z"
   },
   {
    "duration": 12,
    "start_time": "2022-12-13T08:47:14.005Z"
   },
   {
    "duration": 11,
    "start_time": "2022-12-13T08:47:17.871Z"
   },
   {
    "duration": 11,
    "start_time": "2022-12-13T08:47:54.696Z"
   },
   {
    "duration": 52,
    "start_time": "2022-12-13T08:49:46.803Z"
   },
   {
    "duration": 5,
    "start_time": "2022-12-13T08:52:18.951Z"
   },
   {
    "duration": 4,
    "start_time": "2022-12-13T08:54:29.746Z"
   },
   {
    "duration": 1539,
    "start_time": "2022-12-13T08:54:29.752Z"
   },
   {
    "duration": 101,
    "start_time": "2022-12-13T08:54:31.294Z"
   },
   {
    "duration": 13,
    "start_time": "2022-12-13T08:54:31.396Z"
   },
   {
    "duration": 8,
    "start_time": "2022-12-13T08:54:31.411Z"
   },
   {
    "duration": 16,
    "start_time": "2022-12-13T08:54:31.421Z"
   },
   {
    "duration": 57,
    "start_time": "2022-12-13T08:54:31.439Z"
   },
   {
    "duration": 381,
    "start_time": "2022-12-13T08:54:31.498Z"
   },
   {
    "duration": 399,
    "start_time": "2022-12-13T08:54:31.881Z"
   },
   {
    "duration": 376,
    "start_time": "2022-12-13T08:54:32.282Z"
   },
   {
    "duration": 21,
    "start_time": "2022-12-13T08:54:32.660Z"
   },
   {
    "duration": 52,
    "start_time": "2022-12-13T08:54:32.682Z"
   },
   {
    "duration": 5,
    "start_time": "2022-12-13T08:54:32.735Z"
   },
   {
    "duration": 4,
    "start_time": "2022-12-13T08:56:40.134Z"
   },
   {
    "duration": 260,
    "start_time": "2022-12-13T08:57:05.366Z"
   },
   {
    "duration": 109,
    "start_time": "2022-12-13T08:59:17.111Z"
   },
   {
    "duration": 70,
    "start_time": "2022-12-13T08:59:36.320Z"
   },
   {
    "duration": 102,
    "start_time": "2022-12-13T08:59:47.550Z"
   },
   {
    "duration": 139,
    "start_time": "2022-12-13T08:59:58.487Z"
   },
   {
    "duration": 4,
    "start_time": "2022-12-13T09:00:16.343Z"
   },
   {
    "duration": 8,
    "start_time": "2022-12-13T09:00:24.571Z"
   },
   {
    "duration": 8,
    "start_time": "2022-12-13T09:00:44.840Z"
   },
   {
    "duration": 11,
    "start_time": "2022-12-13T09:01:18.700Z"
   },
   {
    "duration": 21,
    "start_time": "2022-12-13T09:01:28.199Z"
   },
   {
    "duration": 319,
    "start_time": "2022-12-13T09:01:42.619Z"
   },
   {
    "duration": 310,
    "start_time": "2022-12-13T09:01:51.771Z"
   },
   {
    "duration": 14,
    "start_time": "2022-12-13T09:02:09.375Z"
   },
   {
    "duration": 14,
    "start_time": "2022-12-13T09:03:37.532Z"
   },
   {
    "duration": 3,
    "start_time": "2022-12-13T09:04:06.909Z"
   },
   {
    "duration": 9,
    "start_time": "2022-12-13T09:04:10.830Z"
   },
   {
    "duration": 12,
    "start_time": "2022-12-13T09:04:17.516Z"
   },
   {
    "duration": 14,
    "start_time": "2022-12-13T09:04:27.092Z"
   },
   {
    "duration": 4,
    "start_time": "2022-12-13T09:11:52.510Z"
   },
   {
    "duration": 9,
    "start_time": "2022-12-13T09:11:57.439Z"
   },
   {
    "duration": 11,
    "start_time": "2022-12-13T09:12:26.623Z"
   },
   {
    "duration": 14,
    "start_time": "2022-12-13T09:12:38.158Z"
   },
   {
    "duration": 17,
    "start_time": "2022-12-13T09:13:02.155Z"
   },
   {
    "duration": 13,
    "start_time": "2022-12-13T09:13:56.825Z"
   },
   {
    "duration": 14,
    "start_time": "2022-12-13T09:14:03.013Z"
   },
   {
    "duration": 9,
    "start_time": "2022-12-13T09:17:37.839Z"
   },
   {
    "duration": 7,
    "start_time": "2022-12-13T09:17:45.709Z"
   },
   {
    "duration": 6,
    "start_time": "2022-12-13T09:17:59.460Z"
   },
   {
    "duration": 10,
    "start_time": "2022-12-13T09:18:03.944Z"
   },
   {
    "duration": 12,
    "start_time": "2022-12-13T09:18:34.004Z"
   },
   {
    "duration": 12,
    "start_time": "2022-12-13T09:18:49.165Z"
   },
   {
    "duration": 10,
    "start_time": "2022-12-13T09:20:01.733Z"
   },
   {
    "duration": 237,
    "start_time": "2022-12-13T09:20:53.200Z"
   },
   {
    "duration": 432,
    "start_time": "2022-12-13T09:21:08.741Z"
   },
   {
    "duration": 542,
    "start_time": "2022-12-13T09:21:50.603Z"
   },
   {
    "duration": 474,
    "start_time": "2022-12-13T09:22:11.274Z"
   },
   {
    "duration": 537,
    "start_time": "2022-12-13T09:25:57.997Z"
   },
   {
    "duration": 527,
    "start_time": "2022-12-13T09:26:08.814Z"
   },
   {
    "duration": 481,
    "start_time": "2022-12-13T09:30:26.457Z"
   },
   {
    "duration": 73,
    "start_time": "2022-12-13T15:49:06.411Z"
   },
   {
    "duration": 53,
    "start_time": "2022-12-13T15:49:14.113Z"
   },
   {
    "duration": 5,
    "start_time": "2022-12-13T15:49:25.530Z"
   },
   {
    "duration": 1413,
    "start_time": "2022-12-13T15:49:25.537Z"
   },
   {
    "duration": 0,
    "start_time": "2022-12-13T15:49:26.955Z"
   },
   {
    "duration": 0,
    "start_time": "2022-12-13T15:49:26.957Z"
   },
   {
    "duration": 0,
    "start_time": "2022-12-13T15:49:26.965Z"
   },
   {
    "duration": 0,
    "start_time": "2022-12-13T15:49:26.968Z"
   },
   {
    "duration": 0,
    "start_time": "2022-12-13T15:49:26.970Z"
   },
   {
    "duration": 0,
    "start_time": "2022-12-13T15:49:26.972Z"
   },
   {
    "duration": 0,
    "start_time": "2022-12-13T15:49:26.973Z"
   },
   {
    "duration": 0,
    "start_time": "2022-12-13T15:49:26.975Z"
   },
   {
    "duration": 0,
    "start_time": "2022-12-13T15:49:26.977Z"
   },
   {
    "duration": 0,
    "start_time": "2022-12-13T15:49:26.978Z"
   },
   {
    "duration": 0,
    "start_time": "2022-12-13T15:49:26.980Z"
   },
   {
    "duration": 0,
    "start_time": "2022-12-13T15:49:26.982Z"
   },
   {
    "duration": 3864,
    "start_time": "2022-12-13T15:49:36.812Z"
   },
   {
    "duration": 749,
    "start_time": "2022-12-13T15:49:40.681Z"
   },
   {
    "duration": 189,
    "start_time": "2022-12-13T15:49:41.433Z"
   },
   {
    "duration": 7,
    "start_time": "2022-12-13T15:49:42.430Z"
   },
   {
    "duration": 8,
    "start_time": "2022-12-13T15:49:46.484Z"
   },
   {
    "duration": 10,
    "start_time": "2022-12-13T15:49:49.690Z"
   },
   {
    "duration": 36,
    "start_time": "2022-12-13T15:49:56.097Z"
   },
   {
    "duration": 3645,
    "start_time": "2022-12-13T15:50:05.385Z"
   },
   {
    "duration": 2399,
    "start_time": "2022-12-13T15:50:39.846Z"
   },
   {
    "duration": 51,
    "start_time": "2022-12-13T15:52:07.642Z"
   },
   {
    "duration": 14,
    "start_time": "2022-12-13T15:52:17.141Z"
   },
   {
    "duration": 1292,
    "start_time": "2022-12-13T15:52:27.083Z"
   },
   {
    "duration": 320,
    "start_time": "2022-12-13T15:52:29.799Z"
   },
   {
    "duration": 21,
    "start_time": "2022-12-13T15:52:33.782Z"
   },
   {
    "duration": 8,
    "start_time": "2022-12-13T15:52:44.410Z"
   },
   {
    "duration": 9,
    "start_time": "2022-12-13T15:56:43.831Z"
   }
  ],
  "kernelspec": {
   "display_name": "Python 3 (ipykernel)",
   "language": "python",
   "name": "python3"
  },
  "language_info": {
   "codemirror_mode": {
    "name": "ipython",
    "version": 3
   },
   "file_extension": ".py",
   "mimetype": "text/x-python",
   "name": "python",
   "nbconvert_exporter": "python",
   "pygments_lexer": "ipython3",
   "version": "3.10.5"
  },
  "toc": {
   "base_numbering": 1,
   "nav_menu": {},
   "number_sections": true,
   "sideBar": true,
   "skip_h1_title": true,
   "title_cell": "Table of Contents",
   "title_sidebar": "Contents",
   "toc_cell": false,
   "toc_position": {},
   "toc_section_display": true,
   "toc_window_display": false
  },
  "vscode": {
   "interpreter": {
    "hash": "69a9047f428b72ee57fafcc30cfc1150f80b59105df1fa51f1e4927e742c9d0b"
   }
  }
 },
 "nbformat": 4,
 "nbformat_minor": 2
}

{
 "cells": [
  {
   "cell_type": "markdown",
   "metadata": {},
   "source": [
    "<div class=\"alert alert-block alert-info\">\n",
    "<b>Комментарий ревьюера:</b>\n",
    "\n",
    "Метрика этого проекта RMSE (Root Mean Squared Error) является одной из наиболее распространенных метрик для оценки качества моделей машинного обучения. Она измеряет среднюю ошибку модели в прогнозировании целевых значений.\n",
    "    \n",
    "Я заметил, что в этом проекте ты несколько раз путаешь название этой метрики (не MSE, не MAE)\n",
    "    \n",
    "Вот простое объяснение этой метрики:\n",
    "    \n",
    "В простых словах, RMSE означает среднее значение квадратных отклонений между прогнозируемыми значениями модели и реальными значениями целевой переменной. Чем меньше значение RMSE, тем лучше модель.\n",
    "\n",
    "RMSE можно интерпретировать как среднее расстояние между прогнозами модели и реальными значениями. Она измеряется в тех же единицах, что и целевая переменная, что делает ее удобной для понимания и интерпретации результатов модели.\n",
    "\n",
    "Например, если мы используем модель для прогнозирования стоимости недвижимости, RMSE покажет, на сколько денег в среднем наша модель ошибается в своих прогнозах. Если RMSE равна 50 000, это означает, что наша модель ошибается в среднем на 50 000 долларов при прогнозировании стоимости недвижимости.\n",
    "</div>"
   ]
  },
  {
   "cell_type": "markdown",
   "metadata": {},
   "source": [
    "Привет, Александр!)\n",
    "<br> Меня зовут Дуолан 👋 Буду проверять твой проект. Давай вместе доведем его до идеала 😉\n",
    "<br> Дальнейшее общение будет происходить на «ты», если это не вызывает никаких проблем.\n",
    "<br> Желательно реагировать на каждый мой комментарий («исправил», «не понятно как исправить ошибку», ...)\n",
    "<br> Пожалуйста, не удаляй мои комментарии, они будут необходимы для повторного ревью.\n",
    "\n",
    "Комментарии будут в <font color='green'>зеленой</font>, <font color='blue'>синей</font> или <font color='red'>красной</font> рамках:\n",
    "\n",
    "<div class=\"alert alert-block alert-success\">\n",
    "<b>✔️ Успех:</b> Если все сделано отлично\n",
    "</div>\n",
    "\n",
    "<div class=\"alert alert-block alert-warning\">\n",
    "<b>⚠️ Совет:</b> Если можно немного улучшить\n",
    "</div>\n",
    "\n",
    "<div class=\"alert alert-block alert-danger\">\n",
    "<b>❌ Замечание:</b> Если требуются исправления\n",
    "</div>\n",
    "\n",
    "Работа не может быть принята с красными комментариями.\n",
    "\n",
    "-------------------\n",
    "\n",
    "Будет очень хорошо, если ты будешь помечать свои действия следующим образом:\n",
    "\n",
    "<div class=\"alert alert-block alert-info\">\n",
    "<b>Комментарий студента:</b> ...\n",
    "</div>\n",
    "\n",
    "<div class=\"alert alert-block alert-info\">\n",
    "<b>Изменения:</b> Были внесены следующие изменения ...\n",
    "</div>"
   ]
  },
  {
   "cell_type": "markdown",
   "metadata": {},
   "source": [
    "### Опсание проекта  \n",
    "Сервис по продаже автомобилей с пробегом «Не бит, не крашен» разрабатывает приложение, чтобы привлечь новых клиентов. В нём можно будет узнать рыночную стоимость своего автомобиля. \n",
    "### Импорт библиотек"
   ]
  },
  {
   "cell_type": "code",
   "execution_count": 2,
   "metadata": {
    "scrolled": true
   },
   "outputs": [],
   "source": [
    "#pip install phik"
   ]
  },
  {
   "cell_type": "code",
   "execution_count": 3,
   "metadata": {},
   "outputs": [],
   "source": [
    "#pip install category_encoders"
   ]
  },
  {
   "cell_type": "code",
   "execution_count": 4,
   "metadata": {},
   "outputs": [],
   "source": [
    "#pip install -U scikit-learn==1.2.2"
   ]
  },
  {
   "cell_type": "code",
   "execution_count": 5,
   "metadata": {},
   "outputs": [],
   "source": [
    "import pandas as pd\n",
    "import numpy as np\n",
    "\n",
    "import matplotlib.pyplot as plt\n",
    "import seaborn as sns\n",
    "\n",
    "from phik.report import plot_correlation_matrix\n",
    "\n",
    "from sklearn.model_selection import (train_test_split,\n",
    "                                     GridSearchCV)\n",
    "from sklearn.linear_model import LinearRegression\n",
    "from sklearn.tree import DecisionTreeRegressor\n",
    "from sklearn.metrics import mean_squared_error\n",
    "from sklearn.preprocessing import (OrdinalEncoder, \n",
    "                                   OneHotEncoder,\n",
    "                                   StandardScaler,\n",
    "                                  LabelEncoder)\n",
    "from sklearn.compose import make_column_transformer\n",
    "\n",
    "from lightgbm import LGBMRegressor\n",
    "from catboost import CatBoostRegressor, Pool"
   ]
  },
  {
   "cell_type": "markdown",
   "metadata": {},
   "source": [
    "<div class=\"alert alert-block alert-success\">\n",
    "<b>✔️ Успех:</b>\n",
    "\n",
    "Импорт выглядит отлично 👍\n",
    "</div>"
   ]
  },
  {
   "cell_type": "markdown",
   "metadata": {},
   "source": [
    "### Загрузка датафрейма и предопобработка данных"
   ]
  },
  {
   "cell_type": "code",
   "execution_count": 6,
   "metadata": {},
   "outputs": [
    {
     "data": {
      "text/html": [
       "<div>\n",
       "<style scoped>\n",
       "    .dataframe tbody tr th:only-of-type {\n",
       "        vertical-align: middle;\n",
       "    }\n",
       "\n",
       "    .dataframe tbody tr th {\n",
       "        vertical-align: top;\n",
       "    }\n",
       "\n",
       "    .dataframe thead th {\n",
       "        text-align: right;\n",
       "    }\n",
       "</style>\n",
       "<table border=\"1\" class=\"dataframe\">\n",
       "  <thead>\n",
       "    <tr style=\"text-align: right;\">\n",
       "      <th></th>\n",
       "      <th>DateCrawled</th>\n",
       "      <th>Price</th>\n",
       "      <th>VehicleType</th>\n",
       "      <th>RegistrationYear</th>\n",
       "      <th>Gearbox</th>\n",
       "      <th>Power</th>\n",
       "      <th>Model</th>\n",
       "      <th>Kilometer</th>\n",
       "      <th>RegistrationMonth</th>\n",
       "      <th>FuelType</th>\n",
       "      <th>Brand</th>\n",
       "      <th>Repaired</th>\n",
       "      <th>DateCreated</th>\n",
       "      <th>NumberOfPictures</th>\n",
       "      <th>PostalCode</th>\n",
       "      <th>LastSeen</th>\n",
       "    </tr>\n",
       "  </thead>\n",
       "  <tbody>\n",
       "    <tr>\n",
       "      <th>0</th>\n",
       "      <td>2016-03-24 11:52:17</td>\n",
       "      <td>480</td>\n",
       "      <td>NaN</td>\n",
       "      <td>1993</td>\n",
       "      <td>manual</td>\n",
       "      <td>0</td>\n",
       "      <td>golf</td>\n",
       "      <td>150000</td>\n",
       "      <td>0</td>\n",
       "      <td>petrol</td>\n",
       "      <td>volkswagen</td>\n",
       "      <td>NaN</td>\n",
       "      <td>2016-03-24 00:00:00</td>\n",
       "      <td>0</td>\n",
       "      <td>70435</td>\n",
       "      <td>2016-04-07 03:16:57</td>\n",
       "    </tr>\n",
       "    <tr>\n",
       "      <th>1</th>\n",
       "      <td>2016-03-24 10:58:45</td>\n",
       "      <td>18300</td>\n",
       "      <td>coupe</td>\n",
       "      <td>2011</td>\n",
       "      <td>manual</td>\n",
       "      <td>190</td>\n",
       "      <td>NaN</td>\n",
       "      <td>125000</td>\n",
       "      <td>5</td>\n",
       "      <td>gasoline</td>\n",
       "      <td>audi</td>\n",
       "      <td>yes</td>\n",
       "      <td>2016-03-24 00:00:00</td>\n",
       "      <td>0</td>\n",
       "      <td>66954</td>\n",
       "      <td>2016-04-07 01:46:50</td>\n",
       "    </tr>\n",
       "    <tr>\n",
       "      <th>2</th>\n",
       "      <td>2016-03-14 12:52:21</td>\n",
       "      <td>9800</td>\n",
       "      <td>suv</td>\n",
       "      <td>2004</td>\n",
       "      <td>auto</td>\n",
       "      <td>163</td>\n",
       "      <td>grand</td>\n",
       "      <td>125000</td>\n",
       "      <td>8</td>\n",
       "      <td>gasoline</td>\n",
       "      <td>jeep</td>\n",
       "      <td>NaN</td>\n",
       "      <td>2016-03-14 00:00:00</td>\n",
       "      <td>0</td>\n",
       "      <td>90480</td>\n",
       "      <td>2016-04-05 12:47:46</td>\n",
       "    </tr>\n",
       "    <tr>\n",
       "      <th>3</th>\n",
       "      <td>2016-03-17 16:54:04</td>\n",
       "      <td>1500</td>\n",
       "      <td>small</td>\n",
       "      <td>2001</td>\n",
       "      <td>manual</td>\n",
       "      <td>75</td>\n",
       "      <td>golf</td>\n",
       "      <td>150000</td>\n",
       "      <td>6</td>\n",
       "      <td>petrol</td>\n",
       "      <td>volkswagen</td>\n",
       "      <td>no</td>\n",
       "      <td>2016-03-17 00:00:00</td>\n",
       "      <td>0</td>\n",
       "      <td>91074</td>\n",
       "      <td>2016-03-17 17:40:17</td>\n",
       "    </tr>\n",
       "    <tr>\n",
       "      <th>4</th>\n",
       "      <td>2016-03-31 17:25:20</td>\n",
       "      <td>3600</td>\n",
       "      <td>small</td>\n",
       "      <td>2008</td>\n",
       "      <td>manual</td>\n",
       "      <td>69</td>\n",
       "      <td>fabia</td>\n",
       "      <td>90000</td>\n",
       "      <td>7</td>\n",
       "      <td>gasoline</td>\n",
       "      <td>skoda</td>\n",
       "      <td>no</td>\n",
       "      <td>2016-03-31 00:00:00</td>\n",
       "      <td>0</td>\n",
       "      <td>60437</td>\n",
       "      <td>2016-04-06 10:17:21</td>\n",
       "    </tr>\n",
       "  </tbody>\n",
       "</table>\n",
       "</div>"
      ],
      "text/plain": [
       "           DateCrawled  Price VehicleType  RegistrationYear Gearbox  Power  \\\n",
       "0  2016-03-24 11:52:17    480         NaN              1993  manual      0   \n",
       "1  2016-03-24 10:58:45  18300       coupe              2011  manual    190   \n",
       "2  2016-03-14 12:52:21   9800         suv              2004    auto    163   \n",
       "3  2016-03-17 16:54:04   1500       small              2001  manual     75   \n",
       "4  2016-03-31 17:25:20   3600       small              2008  manual     69   \n",
       "\n",
       "   Model  Kilometer  RegistrationMonth  FuelType       Brand Repaired  \\\n",
       "0   golf     150000                  0    petrol  volkswagen      NaN   \n",
       "1    NaN     125000                  5  gasoline        audi      yes   \n",
       "2  grand     125000                  8  gasoline        jeep      NaN   \n",
       "3   golf     150000                  6    petrol  volkswagen       no   \n",
       "4  fabia      90000                  7  gasoline       skoda       no   \n",
       "\n",
       "           DateCreated  NumberOfPictures  PostalCode             LastSeen  \n",
       "0  2016-03-24 00:00:00                 0       70435  2016-04-07 03:16:57  \n",
       "1  2016-03-24 00:00:00                 0       66954  2016-04-07 01:46:50  \n",
       "2  2016-03-14 00:00:00                 0       90480  2016-04-05 12:47:46  \n",
       "3  2016-03-17 00:00:00                 0       91074  2016-03-17 17:40:17  \n",
       "4  2016-03-31 00:00:00                 0       60437  2016-04-06 10:17:21  "
      ]
     },
     "execution_count": 6,
     "metadata": {},
     "output_type": "execute_result"
    }
   ],
   "source": [
    "try:\n",
    "    df = pd.read_csv('./datasets/autos.csv')\n",
    "except:\n",
    "    df = pd.read_csv('https://code.s3.yandex.net/datasets/autos.csv')\n",
    "\n",
    "df.head()"
   ]
  },
  {
   "cell_type": "code",
   "execution_count": 7,
   "metadata": {},
   "outputs": [
    {
     "name": "stdout",
     "output_type": "stream",
     "text": [
      "<class 'pandas.core.frame.DataFrame'>\n",
      "RangeIndex: 354369 entries, 0 to 354368\n",
      "Data columns (total 16 columns):\n",
      " #   Column             Non-Null Count   Dtype \n",
      "---  ------             --------------   ----- \n",
      " 0   DateCrawled        354369 non-null  object\n",
      " 1   Price              354369 non-null  int64 \n",
      " 2   VehicleType        316879 non-null  object\n",
      " 3   RegistrationYear   354369 non-null  int64 \n",
      " 4   Gearbox            334536 non-null  object\n",
      " 5   Power              354369 non-null  int64 \n",
      " 6   Model              334664 non-null  object\n",
      " 7   Kilometer          354369 non-null  int64 \n",
      " 8   RegistrationMonth  354369 non-null  int64 \n",
      " 9   FuelType           321474 non-null  object\n",
      " 10  Brand              354369 non-null  object\n",
      " 11  Repaired           283215 non-null  object\n",
      " 12  DateCreated        354369 non-null  object\n",
      " 13  NumberOfPictures   354369 non-null  int64 \n",
      " 14  PostalCode         354369 non-null  int64 \n",
      " 15  LastSeen           354369 non-null  object\n",
      "dtypes: int64(7), object(9)\n",
      "memory usage: 43.3+ MB\n"
     ]
    }
   ],
   "source": [
    "df.info()"
   ]
  },
  {
   "cell_type": "markdown",
   "metadata": {},
   "source": [
    "1. Названия столбцов стоит превести к pep8\n",
    "2. Дата скачивания ну бедт участвовать в модели, поэтому можно не менять формат на дату.\n",
    "3. Price - целевой целочисленный признак, нас это устраивает, но возможно входе разрабоки модели его придется привести к формату Float\n",
    "4. Datecreated - дата создания анкеты, нас мало интересует, возможно он сможет пригодиться, если мы увидим странные данные в старых анкетах, они могут быть не актуальны и в этом случае можно было бы отбросить часть старых данных.\n",
    "5. NumberOfPictures - Мы не хотим, чтобы предсказание цены учитывало \"Качество создания объявления\" (я бы уточнил у заказчика) Кол-во фото скорее всего увеличивает конверсию, но это не является критерием стоимости самого автомобиля.\n",
    "6. Почтовый индекс в модели участвовать не будет. То же самое с полем RegistrationMonth.\n",
    "7. Lastseen - аналогично"
   ]
  },
  {
   "cell_type": "code",
   "execution_count": 8,
   "metadata": {},
   "outputs": [],
   "source": [
    "#Переименование столбцов:\n",
    "df.columns = ['date_published', 'price', 'vehicle_type', \n",
    "              'registration_year', 'gearbox', 'power', \n",
    "              'model', 'kilometer', 'month_registration', \n",
    "              'fuel_type', 'brand', 'repaired', 'date_created', \n",
    "              'pictures', 'postal_code', 'lastseen']"
   ]
  },
  {
   "cell_type": "markdown",
   "metadata": {},
   "source": [
    "<div class=\"alert alert-block alert-success\">\n",
    "<b>✔️ Успех:</b> \n",
    "\n",
    "Работать с такими названиями гораздо удобнее)\n",
    "</div>"
   ]
  },
  {
   "cell_type": "code",
   "execution_count": 9,
   "metadata": {},
   "outputs": [
    {
     "data": {
      "image/png": "[encoded data removed]",
      "text/plain": [
       "<Figure size 500x200 with 1 Axes>"
      ]
     },
     "metadata": {},
     "output_type": "display_data"
    }
   ],
   "source": [
    "df.isna().sum()[df.isna().sum()>0].sort_values().plot(kind ='barh', figsize=(5,2))\n",
    "plt.title('Количество пропусков в столбцах:')\n",
    "plt.show()"
   ]
  },
  {
   "cell_type": "markdown",
   "metadata": {},
   "source": [
    "* Первый осмотр показывает, что поле \"Модель\" мы вряд ли сможем заполнить, поэтому скорее всего придется по нему отбросить пропуски. Возможно эти же поля не содержат в себе Gearbox.\n",
    "* В столбце repaired возможно пропуски означают отсутствие\n",
    "* Столбец vehicle_type и fuel_type для определенных моделей может быть всегда один. "
   ]
  },
  {
   "cell_type": "code",
   "execution_count": 10,
   "metadata": {},
   "outputs": [
    {
     "data": {
      "image/png": "[encoded data removed]",
      "text/plain": [
       "<Figure size 500x200 with 1 Axes>"
      ]
     },
     "metadata": {},
     "output_type": "display_data"
    }
   ],
   "source": [
    "df.isna().mean()[df.isna().mean()>0].sort_values().plot(kind ='barh', figsize=(5,2))\n",
    "plt.title('Доля пропусков в столбцах:')\n",
    "plt.show()"
   ]
  },
  {
   "cell_type": "markdown",
   "metadata": {},
   "source": [
    "В процентном соотношении количество пропусков доходит до 20%, что критично.\n",
    "Можно попробовать восстановить поля \"vehicle_type\" Например, если модель имеет только один тип кузова - проставить такой везде.\n",
    "То же самое можно сделать с Fuel type."
   ]
  },
  {
   "cell_type": "code",
   "execution_count": 11,
   "metadata": {},
   "outputs": [],
   "source": [
    "#Сохраним размер df перед началом преобразований.\n",
    "df_start = len(df)\n",
    "#Т.к. мы часто будем смотреть сколько данных отбросили - сделаем функцию, которая будет считать потери\n",
    "def lost_values():\n",
    "    display('Доля отбросанных значений {:2.2%}'.format(1-len(df)/df_start))"
   ]
  },
  {
   "cell_type": "code",
   "execution_count": 12,
   "metadata": {},
   "outputs": [
    {
     "data": {
      "text/plain": [
       "4"
      ]
     },
     "execution_count": 12,
     "metadata": {},
     "output_type": "execute_result"
    }
   ],
   "source": [
    "df.duplicated().sum()"
   ]
  },
  {
   "cell_type": "code",
   "execution_count": 13,
   "metadata": {},
   "outputs": [
    {
     "data": {
      "text/plain": [
       "'Доля отбросанных значений 0.00%'"
      ]
     },
     "metadata": {},
     "output_type": "display_data"
    }
   ],
   "source": [
    "#Отбросим 4 явных дубликата\n",
    "df = df.drop_duplicates()\n",
    "lost_values()"
   ]
  },
  {
   "cell_type": "markdown",
   "metadata": {},
   "source": [
    "<div class=\"alert alert-block alert-success\">\n",
    "<b>✔️ Успех:</b>\n",
    "\n",
    "От явных дубликатов избавились 👍\n",
    "</div>"
   ]
  },
  {
   "cell_type": "code",
   "execution_count": 14,
   "metadata": {},
   "outputs": [],
   "source": [
    "# Перед тем, как удалять строки с na стоит посмотреть наличие аномалий, возможно часть na откинется из-за аномальных значений.\n",
    "# Сразу выделим только те столбцы, которые можно будет использовать в модели\n",
    "df = df[['vehicle_type','registration_year','gearbox',\n",
    "                'power', 'model', 'fuel_type', 'brand', 'repaired', 'price']]\n",
    "# Все столбцы с пропусками понадобятся нам в модели."
   ]
  },
  {
   "cell_type": "markdown",
   "metadata": {},
   "source": [
    "<div class=\"alert alert-block alert-success\">\n",
    "<b>✔️ Успех:</b>\n",
    "\n",
    "Удалить неинформативные признаки - хорошее решение 👍\n",
    "</div>"
   ]
  },
  {
   "cell_type": "code",
   "execution_count": 15,
   "metadata": {},
   "outputs": [
    {
     "data": {
      "text/html": [
       "<div>\n",
       "<style scoped>\n",
       "    .dataframe tbody tr th:only-of-type {\n",
       "        vertical-align: middle;\n",
       "    }\n",
       "\n",
       "    .dataframe tbody tr th {\n",
       "        vertical-align: top;\n",
       "    }\n",
       "\n",
       "    .dataframe thead th {\n",
       "        text-align: right;\n",
       "    }\n",
       "</style>\n",
       "<table border=\"1\" class=\"dataframe\">\n",
       "  <thead>\n",
       "    <tr style=\"text-align: right;\">\n",
       "      <th></th>\n",
       "      <th>vehicle_type</th>\n",
       "      <th>registration_year</th>\n",
       "      <th>gearbox</th>\n",
       "      <th>power</th>\n",
       "      <th>model</th>\n",
       "      <th>fuel_type</th>\n",
       "      <th>brand</th>\n",
       "      <th>repaired</th>\n",
       "      <th>price</th>\n",
       "    </tr>\n",
       "  </thead>\n",
       "  <tbody>\n",
       "    <tr>\n",
       "      <th>count</th>\n",
       "      <td>316875</td>\n",
       "      <td>354365.000000</td>\n",
       "      <td>334532</td>\n",
       "      <td>354365.000000</td>\n",
       "      <td>334660</td>\n",
       "      <td>321470</td>\n",
       "      <td>354365</td>\n",
       "      <td>283211</td>\n",
       "      <td>354365.000000</td>\n",
       "    </tr>\n",
       "    <tr>\n",
       "      <th>unique</th>\n",
       "      <td>8</td>\n",
       "      <td>NaN</td>\n",
       "      <td>2</td>\n",
       "      <td>NaN</td>\n",
       "      <td>250</td>\n",
       "      <td>7</td>\n",
       "      <td>40</td>\n",
       "      <td>2</td>\n",
       "      <td>NaN</td>\n",
       "    </tr>\n",
       "    <tr>\n",
       "      <th>top</th>\n",
       "      <td>sedan</td>\n",
       "      <td>NaN</td>\n",
       "      <td>manual</td>\n",
       "      <td>NaN</td>\n",
       "      <td>golf</td>\n",
       "      <td>petrol</td>\n",
       "      <td>volkswagen</td>\n",
       "      <td>no</td>\n",
       "      <td>NaN</td>\n",
       "    </tr>\n",
       "    <tr>\n",
       "      <th>freq</th>\n",
       "      <td>91457</td>\n",
       "      <td>NaN</td>\n",
       "      <td>268249</td>\n",
       "      <td>NaN</td>\n",
       "      <td>29232</td>\n",
       "      <td>216349</td>\n",
       "      <td>77012</td>\n",
       "      <td>247158</td>\n",
       "      <td>NaN</td>\n",
       "    </tr>\n",
       "    <tr>\n",
       "      <th>mean</th>\n",
       "      <td>NaN</td>\n",
       "      <td>2004.234481</td>\n",
       "      <td>NaN</td>\n",
       "      <td>110.093816</td>\n",
       "      <td>NaN</td>\n",
       "      <td>NaN</td>\n",
       "      <td>NaN</td>\n",
       "      <td>NaN</td>\n",
       "      <td>4416.679830</td>\n",
       "    </tr>\n",
       "    <tr>\n",
       "      <th>std</th>\n",
       "      <td>NaN</td>\n",
       "      <td>90.228466</td>\n",
       "      <td>NaN</td>\n",
       "      <td>189.851330</td>\n",
       "      <td>NaN</td>\n",
       "      <td>NaN</td>\n",
       "      <td>NaN</td>\n",
       "      <td>NaN</td>\n",
       "      <td>4514.176349</td>\n",
       "    </tr>\n",
       "    <tr>\n",
       "      <th>min</th>\n",
       "      <td>NaN</td>\n",
       "      <td>1000.000000</td>\n",
       "      <td>NaN</td>\n",
       "      <td>0.000000</td>\n",
       "      <td>NaN</td>\n",
       "      <td>NaN</td>\n",
       "      <td>NaN</td>\n",
       "      <td>NaN</td>\n",
       "      <td>0.000000</td>\n",
       "    </tr>\n",
       "    <tr>\n",
       "      <th>25%</th>\n",
       "      <td>NaN</td>\n",
       "      <td>1999.000000</td>\n",
       "      <td>NaN</td>\n",
       "      <td>69.000000</td>\n",
       "      <td>NaN</td>\n",
       "      <td>NaN</td>\n",
       "      <td>NaN</td>\n",
       "      <td>NaN</td>\n",
       "      <td>1050.000000</td>\n",
       "    </tr>\n",
       "    <tr>\n",
       "      <th>50%</th>\n",
       "      <td>NaN</td>\n",
       "      <td>2003.000000</td>\n",
       "      <td>NaN</td>\n",
       "      <td>105.000000</td>\n",
       "      <td>NaN</td>\n",
       "      <td>NaN</td>\n",
       "      <td>NaN</td>\n",
       "      <td>NaN</td>\n",
       "      <td>2700.000000</td>\n",
       "    </tr>\n",
       "    <tr>\n",
       "      <th>75%</th>\n",
       "      <td>NaN</td>\n",
       "      <td>2008.000000</td>\n",
       "      <td>NaN</td>\n",
       "      <td>143.000000</td>\n",
       "      <td>NaN</td>\n",
       "      <td>NaN</td>\n",
       "      <td>NaN</td>\n",
       "      <td>NaN</td>\n",
       "      <td>6400.000000</td>\n",
       "    </tr>\n",
       "    <tr>\n",
       "      <th>max</th>\n",
       "      <td>NaN</td>\n",
       "      <td>9999.000000</td>\n",
       "      <td>NaN</td>\n",
       "      <td>20000.000000</td>\n",
       "      <td>NaN</td>\n",
       "      <td>NaN</td>\n",
       "      <td>NaN</td>\n",
       "      <td>NaN</td>\n",
       "      <td>20000.000000</td>\n",
       "    </tr>\n",
       "  </tbody>\n",
       "</table>\n",
       "</div>"
      ],
      "text/plain": [
       "       vehicle_type  registration_year gearbox          power   model  \\\n",
       "count        316875      354365.000000  334532  354365.000000  334660   \n",
       "unique            8                NaN       2            NaN     250   \n",
       "top           sedan                NaN  manual            NaN    golf   \n",
       "freq          91457                NaN  268249            NaN   29232   \n",
       "mean            NaN        2004.234481     NaN     110.093816     NaN   \n",
       "std             NaN          90.228466     NaN     189.851330     NaN   \n",
       "min             NaN        1000.000000     NaN       0.000000     NaN   \n",
       "25%             NaN        1999.000000     NaN      69.000000     NaN   \n",
       "50%             NaN        2003.000000     NaN     105.000000     NaN   \n",
       "75%             NaN        2008.000000     NaN     143.000000     NaN   \n",
       "max             NaN        9999.000000     NaN   20000.000000     NaN   \n",
       "\n",
       "       fuel_type       brand repaired          price  \n",
       "count     321470      354365   283211  354365.000000  \n",
       "unique         7          40        2            NaN  \n",
       "top       petrol  volkswagen       no            NaN  \n",
       "freq      216349       77012   247158            NaN  \n",
       "mean         NaN         NaN      NaN    4416.679830  \n",
       "std          NaN         NaN      NaN    4514.176349  \n",
       "min          NaN         NaN      NaN       0.000000  \n",
       "25%          NaN         NaN      NaN    1050.000000  \n",
       "50%          NaN         NaN      NaN    2700.000000  \n",
       "75%          NaN         NaN      NaN    6400.000000  \n",
       "max          NaN         NaN      NaN   20000.000000  "
      ]
     },
     "metadata": {},
     "output_type": "display_data"
    },
    {
     "data": {
      "text/html": [
       "<style type=\"text/css\">\n",
       "</style>\n",
       "<table id=\"T_cfee7\">\n",
       "  <thead>\n",
       "    <tr>\n",
       "      <th class=\"blank level0\" >&nbsp;</th>\n",
       "      <th id=\"T_cfee7_level0_col0\" class=\"col_heading level0 col0\" >registration_year</th>\n",
       "      <th id=\"T_cfee7_level0_col1\" class=\"col_heading level0 col1\" >power</th>\n",
       "      <th id=\"T_cfee7_level0_col2\" class=\"col_heading level0 col2\" >price</th>\n",
       "    </tr>\n",
       "  </thead>\n",
       "  <tbody>\n",
       "    <tr>\n",
       "      <th id=\"T_cfee7_level0_row0\" class=\"row_heading level0 row0\" >count</th>\n",
       "      <td id=\"T_cfee7_row0_col0\" class=\"data row0 col0\" >354365.00</td>\n",
       "      <td id=\"T_cfee7_row0_col1\" class=\"data row0 col1\" >354365.00</td>\n",
       "      <td id=\"T_cfee7_row0_col2\" class=\"data row0 col2\" >354365.00</td>\n",
       "    </tr>\n",
       "    <tr>\n",
       "      <th id=\"T_cfee7_level0_row1\" class=\"row_heading level0 row1\" >mean</th>\n",
       "      <td id=\"T_cfee7_row1_col0\" class=\"data row1 col0\" >2004.23</td>\n",
       "      <td id=\"T_cfee7_row1_col1\" class=\"data row1 col1\" >110.09</td>\n",
       "      <td id=\"T_cfee7_row1_col2\" class=\"data row1 col2\" >4416.68</td>\n",
       "    </tr>\n",
       "    <tr>\n",
       "      <th id=\"T_cfee7_level0_row2\" class=\"row_heading level0 row2\" >std</th>\n",
       "      <td id=\"T_cfee7_row2_col0\" class=\"data row2 col0\" >90.23</td>\n",
       "      <td id=\"T_cfee7_row2_col1\" class=\"data row2 col1\" >189.85</td>\n",
       "      <td id=\"T_cfee7_row2_col2\" class=\"data row2 col2\" >4514.18</td>\n",
       "    </tr>\n",
       "    <tr>\n",
       "      <th id=\"T_cfee7_level0_row3\" class=\"row_heading level0 row3\" >min</th>\n",
       "      <td id=\"T_cfee7_row3_col0\" class=\"data row3 col0\" >1000.00</td>\n",
       "      <td id=\"T_cfee7_row3_col1\" class=\"data row3 col1\" >0.00</td>\n",
       "      <td id=\"T_cfee7_row3_col2\" class=\"data row3 col2\" >0.00</td>\n",
       "    </tr>\n",
       "    <tr>\n",
       "      <th id=\"T_cfee7_level0_row4\" class=\"row_heading level0 row4\" >25%</th>\n",
       "      <td id=\"T_cfee7_row4_col0\" class=\"data row4 col0\" >1999.00</td>\n",
       "      <td id=\"T_cfee7_row4_col1\" class=\"data row4 col1\" >69.00</td>\n",
       "      <td id=\"T_cfee7_row4_col2\" class=\"data row4 col2\" >1050.00</td>\n",
       "    </tr>\n",
       "    <tr>\n",
       "      <th id=\"T_cfee7_level0_row5\" class=\"row_heading level0 row5\" >50%</th>\n",
       "      <td id=\"T_cfee7_row5_col0\" class=\"data row5 col0\" >2003.00</td>\n",
       "      <td id=\"T_cfee7_row5_col1\" class=\"data row5 col1\" >105.00</td>\n",
       "      <td id=\"T_cfee7_row5_col2\" class=\"data row5 col2\" >2700.00</td>\n",
       "    </tr>\n",
       "    <tr>\n",
       "      <th id=\"T_cfee7_level0_row6\" class=\"row_heading level0 row6\" >75%</th>\n",
       "      <td id=\"T_cfee7_row6_col0\" class=\"data row6 col0\" >2008.00</td>\n",
       "      <td id=\"T_cfee7_row6_col1\" class=\"data row6 col1\" >143.00</td>\n",
       "      <td id=\"T_cfee7_row6_col2\" class=\"data row6 col2\" >6400.00</td>\n",
       "    </tr>\n",
       "    <tr>\n",
       "      <th id=\"T_cfee7_level0_row7\" class=\"row_heading level0 row7\" >max</th>\n",
       "      <td id=\"T_cfee7_row7_col0\" class=\"data row7 col0\" >9999.00</td>\n",
       "      <td id=\"T_cfee7_row7_col1\" class=\"data row7 col1\" >20000.00</td>\n",
       "      <td id=\"T_cfee7_row7_col2\" class=\"data row7 col2\" >20000.00</td>\n",
       "    </tr>\n",
       "    <tr>\n",
       "      <th id=\"T_cfee7_level0_row8\" class=\"row_heading level0 row8\" >0.010000</th>\n",
       "      <td id=\"T_cfee7_row8_col0\" class=\"data row8 col0\" >1980.00</td>\n",
       "      <td id=\"T_cfee7_row8_col1\" class=\"data row8 col1\" >0.00</td>\n",
       "      <td id=\"T_cfee7_row8_col2\" class=\"data row8 col2\" >0.00</td>\n",
       "    </tr>\n",
       "    <tr>\n",
       "      <th id=\"T_cfee7_level0_row9\" class=\"row_heading level0 row9\" >0.020000</th>\n",
       "      <td id=\"T_cfee7_row9_col0\" class=\"data row9 col0\" >1987.00</td>\n",
       "      <td id=\"T_cfee7_row9_col1\" class=\"data row9 col1\" >0.00</td>\n",
       "      <td id=\"T_cfee7_row9_col2\" class=\"data row9 col2\" >0.00</td>\n",
       "    </tr>\n",
       "    <tr>\n",
       "      <th id=\"T_cfee7_level0_row10\" class=\"row_heading level0 row10\" >0.980000</th>\n",
       "      <td id=\"T_cfee7_row10_col0\" class=\"data row10 col0\" >2017.00</td>\n",
       "      <td id=\"T_cfee7_row10_col1\" class=\"data row10 col1\" >258.00</td>\n",
       "      <td id=\"T_cfee7_row10_col2\" class=\"data row10 col2\" >17499.00</td>\n",
       "    </tr>\n",
       "    <tr>\n",
       "      <th id=\"T_cfee7_level0_row11\" class=\"row_heading level0 row11\" >0.990000</th>\n",
       "      <td id=\"T_cfee7_row11_col0\" class=\"data row11 col0\" >2018.00</td>\n",
       "      <td id=\"T_cfee7_row11_col1\" class=\"data row11 col1\" >300.00</td>\n",
       "      <td id=\"T_cfee7_row11_col2\" class=\"data row11 col2\" >18800.00</td>\n",
       "    </tr>\n",
       "  </tbody>\n",
       "</table>\n"
      ],
      "text/plain": [
       "<pandas.io.formats.style.Styler at 0x2213aebb6a0>"
      ]
     },
     "execution_count": 15,
     "metadata": {},
     "output_type": "execute_result"
    }
   ],
   "source": [
    "display(df.describe(include='all'))\n",
    "pd.concat([df.describe(),df.quantile([0.01,0.02,0.98,0.99], numeric_only= True)]).style.format('{:.2f}')"
   ]
  },
  {
   "cell_type": "markdown",
   "metadata": {},
   "source": [
    "1. Есть поля с 0 ценой, стоит их отбросить, т.к. цену мы сможем только предсказывать. Для обучения они не нужны.\n",
    "2. Есть несколько полей с аномальным годом выпуска, их тоже нужно будет отбросить.\n",
    "3. В поле power есть значение 20 000\n",
    "\n",
    "Итого:\n",
    "1. Отбрасываем года < 1980\n",
    "2. По мощности и цене построим гистограмму, чтобы понять что нужно отбросить с нижней стороны."
   ]
  },
  {
   "cell_type": "code",
   "execution_count": 16,
   "metadata": {},
   "outputs": [
    {
     "data": {
      "image/png": "[encoded data removed]",
      "text/plain": [
       "<Figure size 640x480 with 1 Axes>"
      ]
     },
     "metadata": {},
     "output_type": "display_data"
    }
   ],
   "source": [
    "df[df['price']<500]['price'].hist(bins = 50)\n",
    "plt.show()"
   ]
  },
  {
   "cell_type": "markdown",
   "metadata": {},
   "source": [
    "На бюджетные авто в основном ставят круглый ценник. Распределение по ценовым сегментам имеет схожу форму, поэтому скорее всего так и есть.\n",
    "Отбросим значения менее 50 долларов."
   ]
  },
  {
   "cell_type": "code",
   "execution_count": 17,
   "metadata": {},
   "outputs": [
    {
     "data": {
      "image/png": "[encoded data removed]",
      "text/plain": [
       "<Figure size 640x480 with 1 Axes>"
      ]
     },
     "metadata": {},
     "output_type": "display_data"
    }
   ],
   "source": [
    "df[df['power']<100]['power'].hist(bins = 50)\n",
    "plt.show()"
   ]
  },
  {
   "cell_type": "markdown",
   "metadata": {},
   "source": [
    "Тут явно видно, что менее 20 лошадиных сил - почти всегда нули. "
   ]
  },
  {
   "cell_type": "code",
   "execution_count": 18,
   "metadata": {},
   "outputs": [
    {
     "data": {
      "image/png": "[encoded data removed]",
      "text/plain": [
       "<Figure size 640x480 with 1 Axes>"
      ]
     },
     "metadata": {},
     "output_type": "display_data"
    }
   ],
   "source": [
    "df[df['registration_year']<1980]['registration_year'].hist(bins = 50)\n",
    "plt.show()"
   ]
  },
  {
   "cell_type": "markdown",
   "metadata": {},
   "source": [
    "Ситуация ясна - небольшое количество 1000 годов. "
   ]
  },
  {
   "cell_type": "code",
   "execution_count": 19,
   "metadata": {},
   "outputs": [
    {
     "data": {
      "text/plain": [
       "'Доля отбросанных значений 13.71%'"
      ]
     },
     "metadata": {},
     "output_type": "display_data"
    }
   ],
   "source": [
    "# Убираем аномалии:\n",
    "df = df[(df['price'] > 50) & \n",
    "        (df['power'] > 20) &\n",
    "        (df['registration_year']>1950) & (df['registration_year']<2021)]\n",
    "lost_values()"
   ]
  },
  {
   "cell_type": "markdown",
   "metadata": {},
   "source": [
    "<div class=\"alert alert-block alert-success\">\n",
    "<b>✔️ Успех:</b>\n",
    "\n",
    "С аномальными значениями успешно справились 👍\n",
    "</div>"
   ]
  },
  {
   "cell_type": "markdown",
   "metadata": {},
   "source": [
    "Много, но мы не сможем их корректно зааполнить. Обнадеживает, что датафрейм допольно большой и нам хватит данных для качественного обучения."
   ]
  },
  {
   "cell_type": "code",
   "execution_count": 20,
   "metadata": {},
   "outputs": [
    {
     "data": {
      "image/png": "[encoded data removed]",
      "text/plain": [
       "<Figure size 500x200 with 1 Axes>"
      ]
     },
     "metadata": {},
     "output_type": "display_data"
    }
   ],
   "source": [
    "df.isna().mean()[df.isna().mean()>0].sort_values().plot(kind ='barh', figsize=(5,2))\n",
    "plt.title('Доля пропусков в столбцах:')\n",
    "plt.show()"
   ]
  },
  {
   "cell_type": "markdown",
   "metadata": {},
   "source": [
    "* Все равно осталось довольно много пропусков, которые мы уже не можем удалять.\n",
    "* Модель восстановить будет невозможно, заменим ее на unknown\n",
    "* Отсальные поля будем заполнять популярными значениями для модели."
   ]
  },
  {
   "cell_type": "code",
   "execution_count": 21,
   "metadata": {},
   "outputs": [
    {
     "data": {
      "text/plain": [
       "vehicle_type         0\n",
       "registration_year    0\n",
       "gearbox              0\n",
       "power                0\n",
       "model                0\n",
       "fuel_type            0\n",
       "brand                0\n",
       "repaired             0\n",
       "price                0\n",
       "dtype: int64"
      ]
     },
     "execution_count": 21,
     "metadata": {},
     "output_type": "execute_result"
    }
   ],
   "source": [
    "df['model'] = df['model'].fillna('unknown')\n",
    "\n",
    "mode_columns = ['repaired','vehicle_type','fuel_type','gearbox']\n",
    "\n",
    "for col in mode_columns:\n",
    "    df[col] = df.groupby('model')[col].transform(lambda x:x.fillna((x.mode()[0])))\n",
    "\n",
    "df.isna().sum()"
   ]
  },
  {
   "cell_type": "markdown",
   "metadata": {},
   "source": [
    "<div class=\"alert alert-block alert-success\">\n",
    "<b>✔️ Успех:</b>\n",
    "\n",
    "Пропуски успешно заполнены 👍 Модели теперь не будут капризничать)\n",
    "</div>"
   ]
  },
  {
   "cell_type": "code",
   "execution_count": 22,
   "metadata": {},
   "outputs": [
    {
     "name": "stdout",
     "output_type": "stream",
     "text": [
      "354369 305769\n"
     ]
    },
    {
     "data": {
      "text/plain": [
       "'Доля отбросанных значений 13.71%'"
      ]
     },
     "metadata": {},
     "output_type": "display_data"
    }
   ],
   "source": [
    "print (df_start, len(df))\n",
    "lost_values()\n"
   ]
  },
  {
   "cell_type": "markdown",
   "metadata": {},
   "source": [
    "#### Выводы по итогу предобработки данных:\n",
    "    1. Изначально мы получили датафрейм, в которых было большое количество пропусков. По не которым полям доля доходила до 20%.\n",
    "    2. Часть данных была заполнена некорректно, 13,7% данных были сверх реальных цифр, поэтому мы их сразу исключилий.\n",
    "    3. В оставшихся полях пропуски мы заполнили модой для модели машины, что вполне допустимо в этой ситуации.\n"
   ]
  },
  {
   "cell_type": "markdown",
   "metadata": {},
   "source": [
    "<div class=\"alert alert-block alert-success\">\n",
    "<b>✔️ Успех:</b>\n",
    "\n",
    "Данные успешно обработаны 👍\n",
    "</div>"
   ]
  },
  {
   "cell_type": "markdown",
   "metadata": {},
   "source": [
    "### Построение моделей\n",
    "\n",
    "Т.к. целевой столбец - числовой и нам надо будет считать RMSE будем использовать следующие модели для предсказания цены:  \n",
    "    1. LinearRegression - для обычной линейной регрессии  \n",
    "    2. DecisionTreeRegressor - для обычной линейной регрессии  \n",
    "    3. LightGBM - для градиентного бустинга  \n",
    "    4. CatBoost - для градиентного бустинга  \n",
    "\n"
   ]
  },
  {
   "cell_type": "markdown",
   "metadata": {},
   "source": [
    "#### Подготовка выборок для обучения:"
   ]
  },
  {
   "cell_type": "code",
   "execution_count": 23,
   "metadata": {},
   "outputs": [],
   "source": [
    "X = df.drop('price', axis=1)\n",
    "y = df['price']"
   ]
  },
  {
   "cell_type": "code",
   "execution_count": 24,
   "metadata": {},
   "outputs": [
    {
     "name": "stdout",
     "output_type": "stream",
     "text": [
      "<class 'pandas.core.frame.DataFrame'>\n",
      "Int64Index: 305769 entries, 1 to 354368\n",
      "Data columns (total 8 columns):\n",
      " #   Column             Non-Null Count   Dtype \n",
      "---  ------             --------------   ----- \n",
      " 0   vehicle_type       305769 non-null  object\n",
      " 1   registration_year  305769 non-null  int64 \n",
      " 2   gearbox            305769 non-null  object\n",
      " 3   power              305769 non-null  int64 \n",
      " 4   model              305769 non-null  object\n",
      " 5   fuel_type          305769 non-null  object\n",
      " 6   brand              305769 non-null  object\n",
      " 7   repaired           305769 non-null  object\n",
      "dtypes: int64(2), object(6)\n",
      "memory usage: 21.0+ MB\n"
     ]
    },
    {
     "data": {
      "text/plain": [
       "None"
      ]
     },
     "metadata": {},
     "output_type": "display_data"
    }
   ],
   "source": [
    "display(X.info())\n",
    "# Числовые столбцы: registration_year, power\n",
    "# Категориальные столбцы: vehicle_type, gearbox, model, fuel_type, brand, repaired"
   ]
  },
  {
   "cell_type": "code",
   "execution_count": 25,
   "metadata": {},
   "outputs": [
    {
     "name": "stdout",
     "output_type": "stream",
     "text": [
      "['vehicle_type', 'gearbox', 'model', 'fuel_type', 'brand', 'repaired']\n",
      "['registration_year', 'power']\n"
     ]
    },
    {
     "data": {
      "text/html": [
       "<div>\n",
       "<style scoped>\n",
       "    .dataframe tbody tr th:only-of-type {\n",
       "        vertical-align: middle;\n",
       "    }\n",
       "\n",
       "    .dataframe tbody tr th {\n",
       "        vertical-align: top;\n",
       "    }\n",
       "\n",
       "    .dataframe thead th {\n",
       "        text-align: right;\n",
       "    }\n",
       "</style>\n",
       "<table border=\"1\" class=\"dataframe\">\n",
       "  <thead>\n",
       "    <tr style=\"text-align: right;\">\n",
       "      <th></th>\n",
       "      <th>vehicle_type</th>\n",
       "      <th>registration_year</th>\n",
       "      <th>gearbox</th>\n",
       "      <th>power</th>\n",
       "      <th>model</th>\n",
       "      <th>fuel_type</th>\n",
       "      <th>brand</th>\n",
       "      <th>repaired</th>\n",
       "      <th>price</th>\n",
       "    </tr>\n",
       "  </thead>\n",
       "  <tbody>\n",
       "    <tr>\n",
       "      <th>1</th>\n",
       "      <td>coupe</td>\n",
       "      <td>2011</td>\n",
       "      <td>manual</td>\n",
       "      <td>190</td>\n",
       "      <td>unknown</td>\n",
       "      <td>gasoline</td>\n",
       "      <td>audi</td>\n",
       "      <td>yes</td>\n",
       "      <td>18300</td>\n",
       "    </tr>\n",
       "    <tr>\n",
       "      <th>2</th>\n",
       "      <td>suv</td>\n",
       "      <td>2004</td>\n",
       "      <td>auto</td>\n",
       "      <td>163</td>\n",
       "      <td>grand</td>\n",
       "      <td>gasoline</td>\n",
       "      <td>jeep</td>\n",
       "      <td>no</td>\n",
       "      <td>9800</td>\n",
       "    </tr>\n",
       "    <tr>\n",
       "      <th>3</th>\n",
       "      <td>small</td>\n",
       "      <td>2001</td>\n",
       "      <td>manual</td>\n",
       "      <td>75</td>\n",
       "      <td>golf</td>\n",
       "      <td>petrol</td>\n",
       "      <td>volkswagen</td>\n",
       "      <td>no</td>\n",
       "      <td>1500</td>\n",
       "    </tr>\n",
       "    <tr>\n",
       "      <th>4</th>\n",
       "      <td>small</td>\n",
       "      <td>2008</td>\n",
       "      <td>manual</td>\n",
       "      <td>69</td>\n",
       "      <td>fabia</td>\n",
       "      <td>gasoline</td>\n",
       "      <td>skoda</td>\n",
       "      <td>no</td>\n",
       "      <td>3600</td>\n",
       "    </tr>\n",
       "    <tr>\n",
       "      <th>5</th>\n",
       "      <td>sedan</td>\n",
       "      <td>1995</td>\n",
       "      <td>manual</td>\n",
       "      <td>102</td>\n",
       "      <td>3er</td>\n",
       "      <td>petrol</td>\n",
       "      <td>bmw</td>\n",
       "      <td>yes</td>\n",
       "      <td>650</td>\n",
       "    </tr>\n",
       "  </tbody>\n",
       "</table>\n",
       "</div>"
      ],
      "text/plain": [
       "  vehicle_type  registration_year gearbox  power    model fuel_type  \\\n",
       "1        coupe               2011  manual    190  unknown  gasoline   \n",
       "2          suv               2004    auto    163    grand  gasoline   \n",
       "3        small               2001  manual     75     golf    petrol   \n",
       "4        small               2008  manual     69    fabia  gasoline   \n",
       "5        sedan               1995  manual    102      3er    petrol   \n",
       "\n",
       "        brand repaired  price  \n",
       "1        audi      yes  18300  \n",
       "2        jeep       no   9800  \n",
       "3  volkswagen       no   1500  \n",
       "4       skoda       no   3600  \n",
       "5         bmw      yes    650  "
      ]
     },
     "execution_count": 25,
     "metadata": {},
     "output_type": "execute_result"
    }
   ],
   "source": [
    "cat_columns = X.select_dtypes(include='object').columns.to_list()\n",
    "digital_columns = X.drop(cat_columns,axis = 1).columns.to_list()\n",
    "print (cat_columns)\n",
    "print (digital_columns)\n",
    "df.head()"
   ]
  },
  {
   "cell_type": "code",
   "execution_count": 26,
   "metadata": {},
   "outputs": [
    {
     "data": {
      "image/png": "[encoded data removed]",
      "text/plain": [
       "<Figure size 640x480 with 2 Axes>"
      ]
     },
     "metadata": {},
     "output_type": "display_data"
    }
   ],
   "source": [
    "phik_overview = df.phik_matrix(interval_cols=['registration_year','power','price'])\n",
    "sns.heatmap(phik_overview,annot=True)\n",
    "plt.show()\n"
   ]
  },
  {
   "cell_type": "markdown",
   "metadata": {},
   "source": [
    "* C целевым столбцом коррелируют дата регистрации и модель, что логично и для нас не критично.\n",
    "* А вот корреляция цены и года регистрации, а также модели и коробки передач плохо для линейной регрессии, что скорее всего повлияет на качество модели."
   ]
  },
  {
   "cell_type": "code",
   "execution_count": 27,
   "metadata": {},
   "outputs": [],
   "source": [
    "X_train, X_test, y_train, y_test = train_test_split(\n",
    "    X, y, test_size=0.25, random_state=12345)\n",
    "\n",
    "# Для корректной работы бибилиотек в столбце признаков выделим категориальные признаки\n",
    "X_train[cat_columns] = X_train[cat_columns].astype(\"category\")\n",
    "X_test[cat_columns] = X_test[cat_columns].astype(\"category\")"
   ]
  },
  {
   "cell_type": "markdown",
   "metadata": {},
   "source": [
    "<div class=\"alert alert-block alert-success\">\n",
    "<b>✔️ Успех:</b> \n",
    "\n",
    "Данные поделены верно, пропорции выбраны адекватные 👍\n",
    "</div>"
   ]
  },
  {
   "cell_type": "markdown",
   "metadata": {},
   "source": [
    "### Обучение различных моделей"
   ]
  },
  {
   "cell_type": "markdown",
   "metadata": {},
   "source": [
    "#### LIGHT GBM"
   ]
  },
  {
   "cell_type": "code",
   "execution_count": 63,
   "metadata": {},
   "outputs": [
    {
     "name": "stdout",
     "output_type": "stream",
     "text": [
      "Лучший результат: 1705.7597215129513\n",
      "Лучшие параметры: {'depth': 4, 'learning_rate': 0.1, 'num_leaves': 250}\n",
      "CPU times: total: 15.7 s\n",
      "Wall time: 9.22 s\n"
     ]
    }
   ],
   "source": [
    "%%time\n",
    "\n",
    "model_lgbm = LGBMRegressor(\n",
    "                      random_state=12345) #Я перебирал разные параметры. В целях экономии времени оставил наиболее подходящий.\n",
    "\n",
    "lgbm_grid = {'learning_rate': [0.03, 0.1],\n",
    "       'depth': [4, 6, 10],\n",
    "       'num_leaves': [150, 200, 250]}\n",
    "\n",
    "grid_lgbm = GridSearchCV(estimator=model_lgbm, \n",
    "                     param_grid = lgbm_grid, \n",
    "                     cv = 2, \n",
    "                     n_jobs=-1,\n",
    "                     scoring='neg_root_mean_squared_error')\n",
    "\n",
    "\n",
    "grid_lgbm.fit(X_train, y_train)\n",
    "res_lgbm = -grid_lgbm.best_score_\n",
    "\n",
    "print ('Лучший результат:', res_lgbm)\n",
    "print ('Лучшие параметры:', grid_lgbm.best_params_)\n"
   ]
  },
  {
   "cell_type": "markdown",
   "metadata": {},
   "source": [
    "* Хорошее MSE (по условию задачи требуется менее 2500)\n",
    "* Обучение проходило довольно долго - 14с."
   ]
  },
  {
   "cell_type": "markdown",
   "metadata": {},
   "source": [
    "#### CAT BOOST"
   ]
  },
  {
   "cell_type": "code",
   "execution_count": 49,
   "metadata": {},
   "outputs": [
    {
     "name": "stdout",
     "output_type": "stream",
     "text": [
      "Лучший результат: 1826.7641282448699\n",
      "Лучшие параметры: {'depth': 10, 'l2_leaf_reg': 1, 'learning_rate': 0.1}\n",
      "CPU times: total: 28.3 s\n",
      "Wall time: 1min 1s\n"
     ]
    }
   ],
   "source": [
    "%%time\n",
    "catboost = CatBoostRegressor(logging_level = 'Silent',\n",
    "                             cat_features = cat_columns,\n",
    "                             iterations=100\n",
    "                            )\n",
    "cb_grid = {'learning_rate': [0.03, 0.1],\n",
    "       'depth': [4, 6, 10],\n",
    "       'l2_leaf_reg': [1, 3, 5, 7, 9]}\n",
    "grid  = GridSearchCV(estimator=catboost, \n",
    "                     param_grid = cb_grid, \n",
    "                     cv = 2, \n",
    "                     n_jobs=-1,\n",
    "                     scoring='neg_root_mean_squared_error')\n",
    "\n",
    "grid.fit(X_train, y_train)\n",
    "\n",
    "\n",
    "print ('Лучший результат:', -grid.best_score_)\n",
    "print ('Лучшие параметры:', grid.best_params_)"
   ]
  },
  {
   "cell_type": "markdown",
   "metadata": {},
   "source": [
    "* MSE хуже, чем в GBM, зато время обработки - в 3 раза быстрее, чем в Light GBM"
   ]
  },
  {
   "cell_type": "markdown",
   "metadata": {},
   "source": [
    "#### Линейная регрессия\n",
    "Т.к. классические методы не работают с незакодированными категориальными признаками. Сделаем для них отдельные признаки"
   ]
  },
  {
   "cell_type": "code",
   "execution_count": 30,
   "metadata": {},
   "outputs": [
    {
     "data": {
      "text/html": [
       "<div>\n",
       "<style scoped>\n",
       "    .dataframe tbody tr th:only-of-type {\n",
       "        vertical-align: middle;\n",
       "    }\n",
       "\n",
       "    .dataframe tbody tr th {\n",
       "        vertical-align: top;\n",
       "    }\n",
       "\n",
       "    .dataframe thead th {\n",
       "        text-align: right;\n",
       "    }\n",
       "</style>\n",
       "<table border=\"1\" class=\"dataframe\">\n",
       "  <thead>\n",
       "    <tr style=\"text-align: right;\">\n",
       "      <th></th>\n",
       "      <th>vehicle_type</th>\n",
       "      <th>registration_year</th>\n",
       "      <th>gearbox</th>\n",
       "      <th>power</th>\n",
       "      <th>model</th>\n",
       "      <th>fuel_type</th>\n",
       "      <th>brand</th>\n",
       "      <th>repaired</th>\n",
       "    </tr>\n",
       "  </thead>\n",
       "  <tbody>\n",
       "    <tr>\n",
       "      <th>244440</th>\n",
       "      <td>7.0</td>\n",
       "      <td>1998</td>\n",
       "      <td>1.0</td>\n",
       "      <td>136</td>\n",
       "      <td>42.0</td>\n",
       "      <td>6.0</td>\n",
       "      <td>24.0</td>\n",
       "      <td>1.0</td>\n",
       "    </tr>\n",
       "    <tr>\n",
       "      <th>8153</th>\n",
       "      <td>5.0</td>\n",
       "      <td>2012</td>\n",
       "      <td>0.0</td>\n",
       "      <td>70</td>\n",
       "      <td>106.0</td>\n",
       "      <td>6.0</td>\n",
       "      <td>32.0</td>\n",
       "      <td>0.0</td>\n",
       "    </tr>\n",
       "    <tr>\n",
       "      <th>179129</th>\n",
       "      <td>0.0</td>\n",
       "      <td>2006</td>\n",
       "      <td>0.0</td>\n",
       "      <td>150</td>\n",
       "      <td>237.0</td>\n",
       "      <td>2.0</td>\n",
       "      <td>20.0</td>\n",
       "      <td>0.0</td>\n",
       "    </tr>\n",
       "    <tr>\n",
       "      <th>295443</th>\n",
       "      <td>7.0</td>\n",
       "      <td>2000</td>\n",
       "      <td>1.0</td>\n",
       "      <td>83</td>\n",
       "      <td>166.0</td>\n",
       "      <td>6.0</td>\n",
       "      <td>22.0</td>\n",
       "      <td>0.0</td>\n",
       "    </tr>\n",
       "    <tr>\n",
       "      <th>184607</th>\n",
       "      <td>0.0</td>\n",
       "      <td>2008</td>\n",
       "      <td>1.0</td>\n",
       "      <td>75</td>\n",
       "      <td>50.0</td>\n",
       "      <td>2.0</td>\n",
       "      <td>5.0</td>\n",
       "      <td>0.0</td>\n",
       "    </tr>\n",
       "  </tbody>\n",
       "</table>\n",
       "</div>"
      ],
      "text/plain": [
       "        vehicle_type  registration_year  gearbox  power  model  fuel_type  \\\n",
       "244440           7.0               1998      1.0    136   42.0        6.0   \n",
       "8153             5.0               2012      0.0     70  106.0        6.0   \n",
       "179129           0.0               2006      0.0    150  237.0        2.0   \n",
       "295443           7.0               2000      1.0     83  166.0        6.0   \n",
       "184607           0.0               2008      1.0     75   50.0        2.0   \n",
       "\n",
       "        brand  repaired  \n",
       "244440   24.0       1.0  \n",
       "8153     32.0       0.0  \n",
       "179129   20.0       0.0  \n",
       "295443   22.0       0.0  \n",
       "184607    5.0       0.0  "
      ]
     },
     "execution_count": 30,
     "metadata": {},
     "output_type": "execute_result"
    }
   ],
   "source": [
    "ord_encoder = OrdinalEncoder()\n",
    "X_train_coded = X_train.copy()\n",
    "X_train_coded[cat_columns] = ord_encoder.fit_transform(X_train[cat_columns])\n",
    "X_test_coded = X_test.copy()\n",
    "X_test_coded[cat_columns] = ord_encoder.fit_transform(X_test[cat_columns])\n",
    "X_train_coded.head()"
   ]
  },
  {
   "cell_type": "code",
   "execution_count": 59,
   "metadata": {},
   "outputs": [
    {
     "name": "stdout",
     "output_type": "stream",
     "text": [
      "MSE с помощью классической линейной регрессии = 3790.23\n",
      "CPU times: total: 46.9 ms\n",
      "Wall time: 44.8 ms\n"
     ]
    }
   ],
   "source": [
    "%%time \n",
    "#Посмотрим как отработает модель с кодированием Ordinal\n",
    "model_lr = LinearRegression()\n",
    "model_lr.fit(X_train_coded,y_train)\n",
    "y_pred = model_lr.predict(X_test_coded)\n",
    "res_lr = mean_squared_error(y_pred, y_test)**0.5\n",
    "print ('MSE с помощью классической линейной регрессии = {:2.2f}'.format(mean_squared_error(y_pred, y_test)**0.5))\n"
   ]
  },
  {
   "cell_type": "markdown",
   "metadata": {},
   "source": [
    "* Как и ожидалось линейная регрессия отработала плохо по 2 причинам.\n",
    "    1. Между некоторыми признаками есть сильная корреляция.\n",
    "    2. Метод кодирования Ordinal является не самым лучшим, т.к. он фактически делаем измеримую разницу между названиями, хотя по факту этого быть не должно.\n",
    "* Попробуем дать линейной регрессии второй шанс и использовать метод кодирования OHE. Также применим StandartScaker к числовым столбцам"
   ]
  },
  {
   "cell_type": "code",
   "execution_count": 32,
   "metadata": {},
   "outputs": [
    {
     "data": {
      "text/html": [
       "<div>\n",
       "<style scoped>\n",
       "    .dataframe tbody tr th:only-of-type {\n",
       "        vertical-align: middle;\n",
       "    }\n",
       "\n",
       "    .dataframe tbody tr th {\n",
       "        vertical-align: top;\n",
       "    }\n",
       "\n",
       "    .dataframe thead th {\n",
       "        text-align: right;\n",
       "    }\n",
       "</style>\n",
       "<table border=\"1\" class=\"dataframe\">\n",
       "  <thead>\n",
       "    <tr style=\"text-align: right;\">\n",
       "      <th></th>\n",
       "      <th>vehicle_type_convertible</th>\n",
       "      <th>vehicle_type_coupe</th>\n",
       "      <th>vehicle_type_other</th>\n",
       "      <th>vehicle_type_sedan</th>\n",
       "      <th>vehicle_type_small</th>\n",
       "      <th>vehicle_type_suv</th>\n",
       "      <th>vehicle_type_wagon</th>\n",
       "      <th>gearbox_manual</th>\n",
       "      <th>model_145</th>\n",
       "      <th>model_147</th>\n",
       "      <th>...</th>\n",
       "      <th>brand_sonstige_autos</th>\n",
       "      <th>brand_subaru</th>\n",
       "      <th>brand_suzuki</th>\n",
       "      <th>brand_toyota</th>\n",
       "      <th>brand_trabant</th>\n",
       "      <th>brand_volkswagen</th>\n",
       "      <th>brand_volvo</th>\n",
       "      <th>repaired_yes</th>\n",
       "      <th>registration_year</th>\n",
       "      <th>power</th>\n",
       "    </tr>\n",
       "  </thead>\n",
       "  <tbody>\n",
       "    <tr>\n",
       "      <th>0</th>\n",
       "      <td>0.0</td>\n",
       "      <td>0.0</td>\n",
       "      <td>0.0</td>\n",
       "      <td>0.0</td>\n",
       "      <td>0.0</td>\n",
       "      <td>0.0</td>\n",
       "      <td>1.0</td>\n",
       "      <td>1.0</td>\n",
       "      <td>0.0</td>\n",
       "      <td>0.0</td>\n",
       "      <td>...</td>\n",
       "      <td>0.0</td>\n",
       "      <td>0.0</td>\n",
       "      <td>0.0</td>\n",
       "      <td>0.0</td>\n",
       "      <td>0.0</td>\n",
       "      <td>0.0</td>\n",
       "      <td>0.0</td>\n",
       "      <td>1.0</td>\n",
       "      <td>-0.778733</td>\n",
       "      <td>0.065360</td>\n",
       "    </tr>\n",
       "    <tr>\n",
       "      <th>1</th>\n",
       "      <td>0.0</td>\n",
       "      <td>0.0</td>\n",
       "      <td>0.0</td>\n",
       "      <td>0.0</td>\n",
       "      <td>1.0</td>\n",
       "      <td>0.0</td>\n",
       "      <td>0.0</td>\n",
       "      <td>0.0</td>\n",
       "      <td>0.0</td>\n",
       "      <td>0.0</td>\n",
       "      <td>...</td>\n",
       "      <td>0.0</td>\n",
       "      <td>0.0</td>\n",
       "      <td>0.0</td>\n",
       "      <td>0.0</td>\n",
       "      <td>0.0</td>\n",
       "      <td>0.0</td>\n",
       "      <td>0.0</td>\n",
       "      <td>0.0</td>\n",
       "      <td>1.263930</td>\n",
       "      <td>-0.294735</td>\n",
       "    </tr>\n",
       "    <tr>\n",
       "      <th>2</th>\n",
       "      <td>0.0</td>\n",
       "      <td>0.0</td>\n",
       "      <td>0.0</td>\n",
       "      <td>0.0</td>\n",
       "      <td>0.0</td>\n",
       "      <td>0.0</td>\n",
       "      <td>0.0</td>\n",
       "      <td>0.0</td>\n",
       "      <td>0.0</td>\n",
       "      <td>0.0</td>\n",
       "      <td>...</td>\n",
       "      <td>0.0</td>\n",
       "      <td>0.0</td>\n",
       "      <td>0.0</td>\n",
       "      <td>0.0</td>\n",
       "      <td>0.0</td>\n",
       "      <td>0.0</td>\n",
       "      <td>0.0</td>\n",
       "      <td>0.0</td>\n",
       "      <td>0.388503</td>\n",
       "      <td>0.141744</td>\n",
       "    </tr>\n",
       "    <tr>\n",
       "      <th>3</th>\n",
       "      <td>0.0</td>\n",
       "      <td>0.0</td>\n",
       "      <td>0.0</td>\n",
       "      <td>0.0</td>\n",
       "      <td>0.0</td>\n",
       "      <td>0.0</td>\n",
       "      <td>1.0</td>\n",
       "      <td>1.0</td>\n",
       "      <td>0.0</td>\n",
       "      <td>0.0</td>\n",
       "      <td>...</td>\n",
       "      <td>0.0</td>\n",
       "      <td>0.0</td>\n",
       "      <td>0.0</td>\n",
       "      <td>0.0</td>\n",
       "      <td>0.0</td>\n",
       "      <td>0.0</td>\n",
       "      <td>0.0</td>\n",
       "      <td>0.0</td>\n",
       "      <td>-0.486924</td>\n",
       "      <td>-0.223807</td>\n",
       "    </tr>\n",
       "    <tr>\n",
       "      <th>4</th>\n",
       "      <td>0.0</td>\n",
       "      <td>0.0</td>\n",
       "      <td>0.0</td>\n",
       "      <td>0.0</td>\n",
       "      <td>0.0</td>\n",
       "      <td>0.0</td>\n",
       "      <td>0.0</td>\n",
       "      <td>1.0</td>\n",
       "      <td>0.0</td>\n",
       "      <td>0.0</td>\n",
       "      <td>...</td>\n",
       "      <td>0.0</td>\n",
       "      <td>0.0</td>\n",
       "      <td>0.0</td>\n",
       "      <td>0.0</td>\n",
       "      <td>0.0</td>\n",
       "      <td>0.0</td>\n",
       "      <td>0.0</td>\n",
       "      <td>0.0</td>\n",
       "      <td>0.680312</td>\n",
       "      <td>-0.267455</td>\n",
       "    </tr>\n",
       "  </tbody>\n",
       "</table>\n",
       "<p>5 rows × 305 columns</p>\n",
       "</div>"
      ],
      "text/plain": [
       "   vehicle_type_convertible  vehicle_type_coupe  vehicle_type_other  \\\n",
       "0                       0.0                 0.0                 0.0   \n",
       "1                       0.0                 0.0                 0.0   \n",
       "2                       0.0                 0.0                 0.0   \n",
       "3                       0.0                 0.0                 0.0   \n",
       "4                       0.0                 0.0                 0.0   \n",
       "\n",
       "   vehicle_type_sedan  vehicle_type_small  vehicle_type_suv  \\\n",
       "0                 0.0                 0.0               0.0   \n",
       "1                 0.0                 1.0               0.0   \n",
       "2                 0.0                 0.0               0.0   \n",
       "3                 0.0                 0.0               0.0   \n",
       "4                 0.0                 0.0               0.0   \n",
       "\n",
       "   vehicle_type_wagon  gearbox_manual  model_145  model_147  ...  \\\n",
       "0                 1.0             1.0        0.0        0.0  ...   \n",
       "1                 0.0             0.0        0.0        0.0  ...   \n",
       "2                 0.0             0.0        0.0        0.0  ...   \n",
       "3                 1.0             1.0        0.0        0.0  ...   \n",
       "4                 0.0             1.0        0.0        0.0  ...   \n",
       "\n",
       "   brand_sonstige_autos  brand_subaru  brand_suzuki  brand_toyota  \\\n",
       "0                   0.0           0.0           0.0           0.0   \n",
       "1                   0.0           0.0           0.0           0.0   \n",
       "2                   0.0           0.0           0.0           0.0   \n",
       "3                   0.0           0.0           0.0           0.0   \n",
       "4                   0.0           0.0           0.0           0.0   \n",
       "\n",
       "   brand_trabant  brand_volkswagen  brand_volvo  repaired_yes  \\\n",
       "0            0.0               0.0          0.0           1.0   \n",
       "1            0.0               0.0          0.0           0.0   \n",
       "2            0.0               0.0          0.0           0.0   \n",
       "3            0.0               0.0          0.0           0.0   \n",
       "4            0.0               0.0          0.0           0.0   \n",
       "\n",
       "   registration_year     power  \n",
       "0          -0.778733  0.065360  \n",
       "1           1.263930 -0.294735  \n",
       "2           0.388503  0.141744  \n",
       "3          -0.486924 -0.223807  \n",
       "4           0.680312 -0.267455  \n",
       "\n",
       "[5 rows x 305 columns]"
      ]
     },
     "execution_count": 32,
     "metadata": {},
     "output_type": "execute_result"
    }
   ],
   "source": [
    "# Создадим трансформер, который будет обрабатывать данные. Количественные - с помощью StandartScaler, качественные - OHE\n",
    "X_train_ohe = X_train.copy()\n",
    "\n",
    "col_transformer_ridge = make_column_transformer(\n",
    "    (\n",
    "        OneHotEncoder(drop='first', handle_unknown='ignore'),\n",
    "        cat_columns\n",
    "    ),\n",
    "    (\n",
    "        StandardScaler(), \n",
    "        digital_columns\n",
    "    ),\n",
    "    remainder='passthrough',\n",
    "    verbose_feature_names_out=False\n",
    ")\n",
    "\n",
    "X_train_ohe = pd.DataFrame.sparse.from_spmatrix(\n",
    "    col_transformer_ridge.fit_transform(X_train_ohe),\n",
    "    columns=col_transformer_ridge.get_feature_names_out()\n",
    ")\n",
    "X_train_ohe.head()"
   ]
  },
  {
   "cell_type": "code",
   "execution_count": 33,
   "metadata": {},
   "outputs": [
    {
     "data": {
      "text/html": [
       "<div>\n",
       "<style scoped>\n",
       "    .dataframe tbody tr th:only-of-type {\n",
       "        vertical-align: middle;\n",
       "    }\n",
       "\n",
       "    .dataframe tbody tr th {\n",
       "        vertical-align: top;\n",
       "    }\n",
       "\n",
       "    .dataframe thead th {\n",
       "        text-align: right;\n",
       "    }\n",
       "</style>\n",
       "<table border=\"1\" class=\"dataframe\">\n",
       "  <thead>\n",
       "    <tr style=\"text-align: right;\">\n",
       "      <th></th>\n",
       "      <th>vehicle_type_convertible</th>\n",
       "      <th>vehicle_type_coupe</th>\n",
       "      <th>vehicle_type_other</th>\n",
       "      <th>vehicle_type_sedan</th>\n",
       "      <th>vehicle_type_small</th>\n",
       "      <th>vehicle_type_suv</th>\n",
       "      <th>vehicle_type_wagon</th>\n",
       "      <th>gearbox_manual</th>\n",
       "      <th>model_145</th>\n",
       "      <th>model_147</th>\n",
       "      <th>...</th>\n",
       "      <th>brand_sonstige_autos</th>\n",
       "      <th>brand_subaru</th>\n",
       "      <th>brand_suzuki</th>\n",
       "      <th>brand_toyota</th>\n",
       "      <th>brand_trabant</th>\n",
       "      <th>brand_volkswagen</th>\n",
       "      <th>brand_volvo</th>\n",
       "      <th>repaired_yes</th>\n",
       "      <th>registration_year</th>\n",
       "      <th>power</th>\n",
       "    </tr>\n",
       "  </thead>\n",
       "  <tbody>\n",
       "    <tr>\n",
       "      <th>0</th>\n",
       "      <td>0.0</td>\n",
       "      <td>0.0</td>\n",
       "      <td>0.0</td>\n",
       "      <td>0.0</td>\n",
       "      <td>0.0</td>\n",
       "      <td>0.0</td>\n",
       "      <td>0.0</td>\n",
       "      <td>1.0</td>\n",
       "      <td>0.0</td>\n",
       "      <td>0.0</td>\n",
       "      <td>...</td>\n",
       "      <td>0.0</td>\n",
       "      <td>0.0</td>\n",
       "      <td>0.0</td>\n",
       "      <td>0.0</td>\n",
       "      <td>0.0</td>\n",
       "      <td>0.0</td>\n",
       "      <td>0.0</td>\n",
       "      <td>0.0</td>\n",
       "      <td>1.555739</td>\n",
       "      <td>0.174480</td>\n",
       "    </tr>\n",
       "    <tr>\n",
       "      <th>1</th>\n",
       "      <td>0.0</td>\n",
       "      <td>1.0</td>\n",
       "      <td>0.0</td>\n",
       "      <td>0.0</td>\n",
       "      <td>0.0</td>\n",
       "      <td>0.0</td>\n",
       "      <td>0.0</td>\n",
       "      <td>0.0</td>\n",
       "      <td>0.0</td>\n",
       "      <td>0.0</td>\n",
       "      <td>...</td>\n",
       "      <td>0.0</td>\n",
       "      <td>0.0</td>\n",
       "      <td>0.0</td>\n",
       "      <td>0.0</td>\n",
       "      <td>0.0</td>\n",
       "      <td>0.0</td>\n",
       "      <td>0.0</td>\n",
       "      <td>0.0</td>\n",
       "      <td>-0.778733</td>\n",
       "      <td>-0.267455</td>\n",
       "    </tr>\n",
       "    <tr>\n",
       "      <th>2</th>\n",
       "      <td>0.0</td>\n",
       "      <td>0.0</td>\n",
       "      <td>0.0</td>\n",
       "      <td>0.0</td>\n",
       "      <td>0.0</td>\n",
       "      <td>0.0</td>\n",
       "      <td>1.0</td>\n",
       "      <td>1.0</td>\n",
       "      <td>0.0</td>\n",
       "      <td>0.0</td>\n",
       "      <td>...</td>\n",
       "      <td>0.0</td>\n",
       "      <td>0.0</td>\n",
       "      <td>0.0</td>\n",
       "      <td>0.0</td>\n",
       "      <td>0.0</td>\n",
       "      <td>0.0</td>\n",
       "      <td>0.0</td>\n",
       "      <td>0.0</td>\n",
       "      <td>-0.195115</td>\n",
       "      <td>0.141744</td>\n",
       "    </tr>\n",
       "    <tr>\n",
       "      <th>3</th>\n",
       "      <td>0.0</td>\n",
       "      <td>0.0</td>\n",
       "      <td>0.0</td>\n",
       "      <td>0.0</td>\n",
       "      <td>1.0</td>\n",
       "      <td>0.0</td>\n",
       "      <td>0.0</td>\n",
       "      <td>1.0</td>\n",
       "      <td>0.0</td>\n",
       "      <td>0.0</td>\n",
       "      <td>...</td>\n",
       "      <td>0.0</td>\n",
       "      <td>0.0</td>\n",
       "      <td>0.0</td>\n",
       "      <td>0.0</td>\n",
       "      <td>0.0</td>\n",
       "      <td>0.0</td>\n",
       "      <td>0.0</td>\n",
       "      <td>1.0</td>\n",
       "      <td>-0.632829</td>\n",
       "      <td>-0.349295</td>\n",
       "    </tr>\n",
       "    <tr>\n",
       "      <th>4</th>\n",
       "      <td>0.0</td>\n",
       "      <td>0.0</td>\n",
       "      <td>0.0</td>\n",
       "      <td>0.0</td>\n",
       "      <td>1.0</td>\n",
       "      <td>0.0</td>\n",
       "      <td>0.0</td>\n",
       "      <td>0.0</td>\n",
       "      <td>0.0</td>\n",
       "      <td>0.0</td>\n",
       "      <td>...</td>\n",
       "      <td>0.0</td>\n",
       "      <td>0.0</td>\n",
       "      <td>0.0</td>\n",
       "      <td>0.0</td>\n",
       "      <td>0.0</td>\n",
       "      <td>0.0</td>\n",
       "      <td>0.0</td>\n",
       "      <td>0.0</td>\n",
       "      <td>1.263930</td>\n",
       "      <td>-0.011023</td>\n",
       "    </tr>\n",
       "  </tbody>\n",
       "</table>\n",
       "<p>5 rows × 305 columns</p>\n",
       "</div>"
      ],
      "text/plain": [
       "   vehicle_type_convertible  vehicle_type_coupe  vehicle_type_other  \\\n",
       "0                       0.0                 0.0                 0.0   \n",
       "1                       0.0                 1.0                 0.0   \n",
       "2                       0.0                 0.0                 0.0   \n",
       "3                       0.0                 0.0                 0.0   \n",
       "4                       0.0                 0.0                 0.0   \n",
       "\n",
       "   vehicle_type_sedan  vehicle_type_small  vehicle_type_suv  \\\n",
       "0                 0.0                 0.0               0.0   \n",
       "1                 0.0                 0.0               0.0   \n",
       "2                 0.0                 0.0               0.0   \n",
       "3                 0.0                 1.0               0.0   \n",
       "4                 0.0                 1.0               0.0   \n",
       "\n",
       "   vehicle_type_wagon  gearbox_manual  model_145  model_147  ...  \\\n",
       "0                 0.0             1.0        0.0        0.0  ...   \n",
       "1                 0.0             0.0        0.0        0.0  ...   \n",
       "2                 1.0             1.0        0.0        0.0  ...   \n",
       "3                 0.0             1.0        0.0        0.0  ...   \n",
       "4                 0.0             0.0        0.0        0.0  ...   \n",
       "\n",
       "   brand_sonstige_autos  brand_subaru  brand_suzuki  brand_toyota  \\\n",
       "0                   0.0           0.0           0.0           0.0   \n",
       "1                   0.0           0.0           0.0           0.0   \n",
       "2                   0.0           0.0           0.0           0.0   \n",
       "3                   0.0           0.0           0.0           0.0   \n",
       "4                   0.0           0.0           0.0           0.0   \n",
       "\n",
       "   brand_trabant  brand_volkswagen  brand_volvo  repaired_yes  \\\n",
       "0            0.0               0.0          0.0           0.0   \n",
       "1            0.0               0.0          0.0           0.0   \n",
       "2            0.0               0.0          0.0           0.0   \n",
       "3            0.0               0.0          0.0           1.0   \n",
       "4            0.0               0.0          0.0           0.0   \n",
       "\n",
       "   registration_year     power  \n",
       "0           1.555739  0.174480  \n",
       "1          -0.778733 -0.267455  \n",
       "2          -0.195115  0.141744  \n",
       "3          -0.632829 -0.349295  \n",
       "4           1.263930 -0.011023  \n",
       "\n",
       "[5 rows x 305 columns]"
      ]
     },
     "execution_count": 33,
     "metadata": {},
     "output_type": "execute_result"
    }
   ],
   "source": [
    "# трансформируем тестовую выборку\n",
    "X_test_ohe = X_test.copy()\n",
    "X_test_ohe = pd.DataFrame.sparse.from_spmatrix(\n",
    "    col_transformer_ridge.transform(X_test_ohe),\n",
    "    columns=col_transformer_ridge.get_feature_names_out()\n",
    ")\n",
    "X_test_ohe.head()"
   ]
  },
  {
   "cell_type": "markdown",
   "metadata": {},
   "source": [
    "Благодаря конутруктору количество столбцов совпадает в тестовой и обучающей выборках не смотря на то, что уникальные столбцы в некоторых столбцах не повторяются."
   ]
  },
  {
   "cell_type": "code",
   "execution_count": 34,
   "metadata": {},
   "outputs": [
    {
     "name": "stdout",
     "output_type": "stream",
     "text": [
      "MSE с помощью классической линейной регрессии = 3221.19\n",
      "CPU times: total: 2.12 s\n",
      "Wall time: 1.98 s\n"
     ]
    }
   ],
   "source": [
    "%%time \n",
    "#Посмотрим как отработает модель с кодированием Ordinal\n",
    "model_lr = LinearRegression()\n",
    "model_lr.fit(X_train_ohe,y_train)\n",
    "y_pred = model_lr.predict(X_test_ohe)\n",
    "print ('MSE с помощью классической линейной регрессии = {:2.2f}'.format(mean_squared_error(y_pred, y_test)**0.5))"
   ]
  },
  {
   "cell_type": "markdown",
   "metadata": {},
   "source": [
    "<div class=\"alert alert-block alert-danger\">\n",
    "<b>❌ Замечание:</b>\n",
    "\n",
    "Кодировать данные стоит после разбиения)\n",
    "\n",
    "Кодирование переменных до разделения на обучающий и тестовый наборы может привести к \"утечке данных\". Это происходит потому, что кодирование во всем наборе данных, включая тестовый набор, может позволить модели запомнить целевые значения в тестовом наборе, которые не являются репрезентативными для реальных данных, с которыми модель еще не сталкивалась. Это может привести к чрезмерной подгонке и дать слишком оптимистичную оценку эффективности модели. Важно сначала разделить данные на обучающий и тестовый наборы, а затем выполнить кодирование, чтобы предотвратить утечку данных.\n",
    "</div>"
   ]
  },
  {
   "cell_type": "markdown",
   "metadata": {},
   "source": [
    "<div class=\"alert alert-block alert-warning\">\n",
    "<b>⚠️ Совет:</b>\n",
    "\n",
    "Для прямого кодирования также есть вариант с fit и transform - OneHotEncoder из sklearn.\n",
    "  \n",
    "Вот блокнот с объяснением OneHotEncoder, make_column_transformer и make_pipeline:\n",
    "\n",
    "https://colab.research.google.com/drive/1_gAMXcQKoCShB_l8FNtYEejMnosm9mvt?usp=sharing\n",
    "</div>"
   ]
  },
  {
   "cell_type": "markdown",
   "metadata": {},
   "source": [
    "#### Дерево решений"
   ]
  },
  {
   "cell_type": "code",
   "execution_count": 64,
   "metadata": {},
   "outputs": [
    {
     "name": "stdout",
     "output_type": "stream",
     "text": [
      "Лучшие параметры: {'max_depth': 16, 'max_features': 9}\n",
      "Best MSE score:  1933.4534660655645\n",
      "CPU times: total: 828 ms\n",
      "Wall time: 2.26 s\n"
     ]
    }
   ],
   "source": [
    "%%time\n",
    "model_dr = DecisionTreeRegressor(max_depth=15, random_state=12345) \n",
    "param_grid_dr = {\n",
    "    'max_depth': [3,9,14,16],\n",
    "    'max_features': [3,9,12]\n",
    "    \n",
    "}\n",
    "gs_dr = GridSearchCV(\n",
    "    model_dr, \n",
    "    param_grid=param_grid_dr, \n",
    "    scoring='neg_root_mean_squared_error', \n",
    "    cv = 5,\n",
    "    n_jobs=-1\n",
    ")\n",
    "\n",
    "gs_dr.fit (X_train_coded, y_train)\n",
    "\n",
    "res_dr = -gs_dr.best_score_\n",
    "print ('Лучшие параметры:',gs_dr.best_params_)\n",
    "print ('Best MSE score: ', res_dr)"
   ]
  },
  {
   "cell_type": "markdown",
   "metadata": {},
   "source": [
    "* А вот Дерево решений дало неплохое качество с высокой скоростью.\n",
    "* MSE получилось 1910, что ниже чем, в CAT boost и выше, чем в LGB.\n",
    "* Но здесь стоит отметить, что мы не подбирали гиперпараметры циклом. Если бы мы оставили тут цикл например для MAX DEPth, время обучения увеличилось бы в n - раз."
   ]
  },
  {
   "cell_type": "code",
   "execution_count": 62,
   "metadata": {},
   "outputs": [
    {
     "data": {
      "text/html": [
       "<div>\n",
       "<style scoped>\n",
       "    .dataframe tbody tr th:only-of-type {\n",
       "        vertical-align: middle;\n",
       "    }\n",
       "\n",
       "    .dataframe tbody tr th {\n",
       "        vertical-align: top;\n",
       "    }\n",
       "\n",
       "    .dataframe thead th {\n",
       "        text-align: right;\n",
       "    }\n",
       "</style>\n",
       "<table border=\"1\" class=\"dataframe\">\n",
       "  <thead>\n",
       "    <tr style=\"text-align: right;\">\n",
       "      <th></th>\n",
       "      <th>Время обучения(сек)</th>\n",
       "      <th>RMSE</th>\n",
       "    </tr>\n",
       "  </thead>\n",
       "  <tbody>\n",
       "    <tr>\n",
       "      <th>LGBM</th>\n",
       "      <td>16.10</td>\n",
       "      <td>2</td>\n",
       "    </tr>\n",
       "    <tr>\n",
       "      <th>CAT</th>\n",
       "      <td>28.30</td>\n",
       "      <td>5</td>\n",
       "    </tr>\n",
       "    <tr>\n",
       "      <th>Линейная регрессия</th>\n",
       "      <td>2.12</td>\n",
       "      <td>5</td>\n",
       "    </tr>\n",
       "    <tr>\n",
       "      <th>Дерево решений</th>\n",
       "      <td>0.93</td>\n",
       "      <td>5</td>\n",
       "    </tr>\n",
       "  </tbody>\n",
       "</table>\n",
       "</div>"
      ],
      "text/plain": [
       "                    Время обучения(сек)  RMSE\n",
       "LGBM                              16.10     2\n",
       "CAT                               28.30     5\n",
       "Линейная регрессия                 2.12     5\n",
       "Дерево решений                     0.93     5"
      ]
     },
     "execution_count": 62,
     "metadata": {},
     "output_type": "execute_result"
    }
   ],
   "source": [
    "results = pd.DataFrame(data=[[16.1,res_],[28.3,5],[2.12,5],[0.93,5]],\n",
    "                       index=['LGBM','CAT','Линейная регрессия','Дерево решений'],\n",
    "                       columns=['Время обучения (сек)', 'RMSE'])\n",
    "results"
   ]
  },
  {
   "cell_type": "markdown",
   "metadata": {},
   "source": [
    "<div class=\"alert alert-block alert-danger\">\n",
    "<b>❌ Замечание:</b>\n",
    "\n",
    "Для моделей, основанных на деревьях решений, лучше использовать порядковое кодирование (OrdinalEncoder). Это должно ускорить их работу. Так как при большом количестве признаков, модель будет долго искать оптимальный сплит.\n",
    "</div>"
   ]
  },
  {
   "cell_type": "markdown",
   "metadata": {},
   "source": [
    "<div class=\"alert alert-block alert-danger\">\n",
    "<b>❌ Замечание:</b>\n",
    "\n",
    "Стоит добавить оптимизацию (подбор гиперпараметров) хотя бы для одной модели.\n",
    "    \n",
    "В обучении нужно использовать кросс-валидацию, если у тебя всего две выборки.\n",
    "\n",
    "Можешь подбор гиперпараметров выполнить через GridSearchCV / RandomizedSearchCV ?)\n",
    "\n",
    "Либо можешь разделить данные на три выборки, и для обучения и анализа моделей использовать валидационную выборку.\n",
    "</div>"
   ]
  },
  {
   "cell_type": "markdown",
   "metadata": {},
   "source": [
    "## Анализ моделей"
   ]
  },
  {
   "cell_type": "markdown",
   "metadata": {},
   "source": [
    "<div class=\"alert alert-block alert-danger\">\n",
    "<b>❌ Замечание:</b>\n",
    "    \n",
    "Анализ моделей не должен включать тестовую выборку. Тестовая выборка используется в самом конце - в финальном тестировании лучшей модели. Выбирать лучшую модель, основываясь на результатах на тестовой выборке кажется неверным, так как это может привести к переобучению.\n",
    "\n",
    "Если валидационной выборки нет, то анализ моделей должен выглядеть так:\n",
    "\n",
    "1. RMSE вычисляется с помощью кросс-валидации на тренировочной выборке\n",
    "2. Время обучения = время model.fit(X_train, y_train)\n",
    "3. Время предсказания = model.predict(X_train)\n",
    "</div>"
   ]
  },
  {
   "cell_type": "markdown",
   "metadata": {},
   "source": [
    "<div class=\"alert alert-block alert-warning\">\n",
    "<b>⚠️ Совет:</b>\n",
    "\n",
    "Приятно было бы видеть результаты в информативной таблице\n",
    "</div>"
   ]
  },
  {
   "cell_type": "markdown",
   "metadata": {},
   "source": [
    "## Тестирование лучшей модели"
   ]
  },
  {
   "cell_type": "markdown",
   "metadata": {},
   "source": [
    "<div class=\"alert alert-block alert-danger\">\n",
    "<b>❌ Замечание:</b>\n",
    "\n",
    "После анализа моделей нужно порекомендовать заказчику одну модель на основе его критериев и провести на ней финальное тестирование.\n",
    "    \n",
    "Лучше в обучении и анализе не использовать тестовую выборку. Выбирать лучшую модель, основываясь на результатах на тестовой выборке кажется неверным, так как это может привести к переобучению.\n",
    "</div>"
   ]
  },
  {
   "cell_type": "markdown",
   "metadata": {},
   "source": [
    "<div class=\"alert alert-block alert-info\">\n",
    "<b>Комментарий ревьюера:</b>\n",
    "\n",
    "Чтобы все было ясно, напишу конкретный план (структуру) обучения и анализа моделей:\n",
    "\n",
    "1. Обучение моделей. В обучении нужно рассмотреть хотя бы одну простую модель и один бустинг. Подбор гиперпараметров нужно провести хотя бы одной модели. Тут есть два варианта:\n",
    "    - без валидационной выборки. Здесь нужно подбирать гиперпараметры с помощью кросс-валидации (GridSearchCV, RandomizedSearchCV или вручную (cross_val_score));\n",
    "    - валидационная выборка есть. Здесь можно не использовать кросс-валидацию и подбирать гиперпараметры вручную.  \n",
    "2. Анализ моделей. После нахождения лучших гиперпараметров стоит измерить время обучения, предсказания и RMSE. Тут тоже есть два варианта:\n",
    "    - без валидационной выборки. RMSE на кросс-валидации. Время обучения = время model.fit(X_train). Время предсказания  = model.predict(X_train);\n",
    "    - валидационная выборка есть. RMSE на validation. Время обучения = время model.fit(X_train). Время предсказания = время model.predict(X_valid).  \n",
    "    \n",
    "    После этого напиши вывод по анализу (можешь также результаты моделей занести в общую таблицу) и посоветуй заказчику одну модель на основе его критериев;\n",
    "3. Тестирование. Рассчитай финальную метрику лучшей модели на тестовой выборке (до этого тестовая выборка нигде не должна использоваться!). RMSE должно быть меньше 2500. Если метрика не дотягивает, попробуй исправить мои замечания, также можешь потюнить гиперпараметры (на этапе обучения моделей, не на тестовой выборке!)\n",
    "</div>"
   ]
  },
  {
   "cell_type": "markdown",
   "metadata": {},
   "source": [
    "### Итоговые выводы  \n",
    "1. В первой части мы детально изучили датафрейм. Привели их к формату PEP8\n",
    "2. В ходе предобработки удалили дубликаты, заполнили пропуски, где это возможно.\n",
    "3. Далее разделили данные на обучающую и тестовую выборки и на этих данных обучили 4 модели:\n",
    "   1. Градиентный бустинг модель Light - GBM - оказалась самой точной, но не самой быстрой*.\n",
    "   2. Градиентный бустинг модель CAT - GBM - отработала быстрее всего с хорошей точностью*.\n",
    "   3. Классицеская линейная регрессия - отработала с неудовлетворительным уровнем точности с длительным временем обучения.\n",
    "   4. Дерево решений. Без учета перебора гиперпараметров отработала быстро с хорошим уровнем точности.\n",
    "4. Для каждой модели рассчитали МАЕ"
   ]
  },
  {
   "cell_type": "markdown",
   "metadata": {},
   "source": [
    "<div class=\"alert alert-block alert-success\">\n",
    "<b>✔️ Успех:</b>\n",
    "\n",
    "Вывод соответствует исследованию 👍\n",
    "</div>"
   ]
  },
  {
   "cell_type": "markdown",
   "metadata": {},
   "source": [
    "# <font color='orange'>Общее впечатление</font>\n",
    "* Этот проект выполнен очень хорошо\n",
    "* Видно, что приложено много усилий\n",
    "* Молодец, что структурируешь ноутбук, приятно проверять такие работы\n",
    "* У тебя чистый и лаконичный код\n",
    "* Мне было интересно читать твои промежуточные выводы\n",
    "* Твой уровень подачи материала находится на высоком уровне\n",
    "* Исправь, пожалуйста, мои замечания. Затем отправляй на повторную проверку\n",
    "* Жду новую версию проекта 👋"
   ]
  },
  {
   "cell_type": "markdown",
   "metadata": {},
   "source": [
    "# <font color='orange'>Рекомендации 🔥</font>\n",
    "* Доступное объяснение про работу градиентного бустинга https://www.youtube.com/watch?v=ZNJ3lKyI-EY&t=995s\n",
    "* После просмотра видео можешь почитать статью про ансамбли и бустинги https://habr.com/ru/company/ods/blog/645887/\n",
    "* Подбор гиперпараметров для CatBoost https://habr.com/ru/company/otus/blog/527554/\n",
    "* Подбор гиперпараметров для LightGBM https://programmersought.com/article/40776531516/\n",
    "* Разумные способы кодирования категориальных данных для машинного обучения https://machinelearningmastery.ru/smarter-ways-to-encode-categorical-data-for-machine-learning-part-1-of-3-6dca2f71b159/\n",
    "* Статья про \"непонятную\" метрику ROC-AUC https://dyakonov.org/2017/07/28/auc-roc-площадь-под-кривой-ошибок/\n",
    "* Хочешь подтянуть математику для DS?) https://academy.stepik.org/math-for-data-science\n",
    "* Результы обучения моделей можно визуализировать 😎 https://www.datatechnotes.com/2019/08/elasticnet-regression-example-in-python.html\n",
    "* В нашем деле нужно быть всегда в курсе всех новинок, новостей и тд, вот тут публикуют новости в области DS: https://www.infoq.com/data-analysis/news/\n",
    "* Всем аналитикам данных рекомендую книгу Даниела Канемана \"Думай медленно, решай быстро\""
   ]
  }
 ],
 "metadata": {
  "ExecuteTimeLog": [
   {
    "duration": 1392,
    "start_time": "2023-03-09T12:48:14.150Z"
   },
   {
    "duration": 0,
    "start_time": "2023-03-09T12:48:15.544Z"
   },
   {
    "duration": 0,
    "start_time": "2023-03-09T12:48:15.545Z"
   },
   {
    "duration": 0,
    "start_time": "2023-03-09T12:48:15.547Z"
   },
   {
    "duration": 0,
    "start_time": "2023-03-09T12:48:15.548Z"
   },
   {
    "duration": 0,
    "start_time": "2023-03-09T12:48:15.549Z"
   },
   {
    "duration": 0,
    "start_time": "2023-03-09T12:48:15.550Z"
   },
   {
    "duration": 0,
    "start_time": "2023-03-09T12:48:15.551Z"
   },
   {
    "duration": 0,
    "start_time": "2023-03-09T12:48:15.552Z"
   },
   {
    "duration": 0,
    "start_time": "2023-03-09T12:48:15.553Z"
   },
   {
    "duration": 0,
    "start_time": "2023-03-09T12:48:15.555Z"
   },
   {
    "duration": 0,
    "start_time": "2023-03-09T12:48:15.556Z"
   },
   {
    "duration": 0,
    "start_time": "2023-03-09T12:48:15.557Z"
   },
   {
    "duration": 0,
    "start_time": "2023-03-09T12:48:15.558Z"
   },
   {
    "duration": 0,
    "start_time": "2023-03-09T12:48:15.559Z"
   },
   {
    "duration": 0,
    "start_time": "2023-03-09T12:48:15.560Z"
   },
   {
    "duration": 0,
    "start_time": "2023-03-09T12:48:15.562Z"
   },
   {
    "duration": 0,
    "start_time": "2023-03-09T12:48:15.563Z"
   },
   {
    "duration": 0,
    "start_time": "2023-03-09T12:48:15.564Z"
   },
   {
    "duration": 0,
    "start_time": "2023-03-09T12:48:15.565Z"
   },
   {
    "duration": 0,
    "start_time": "2023-03-09T12:48:15.566Z"
   },
   {
    "duration": 0,
    "start_time": "2023-03-09T12:48:15.567Z"
   },
   {
    "duration": 0,
    "start_time": "2023-03-09T12:48:15.611Z"
   },
   {
    "duration": 0,
    "start_time": "2023-03-09T12:48:15.613Z"
   },
   {
    "duration": 0,
    "start_time": "2023-03-09T12:48:15.614Z"
   },
   {
    "duration": 0,
    "start_time": "2023-03-09T12:48:15.616Z"
   },
   {
    "duration": 0,
    "start_time": "2023-03-09T12:48:15.617Z"
   },
   {
    "duration": 0,
    "start_time": "2023-03-09T12:48:15.618Z"
   },
   {
    "duration": 2992,
    "start_time": "2023-03-09T12:48:40.711Z"
   },
   {
    "duration": 2005,
    "start_time": "2023-03-09T12:48:49.575Z"
   },
   {
    "duration": 1512,
    "start_time": "2023-03-09T12:48:51.583Z"
   },
   {
    "duration": 1875,
    "start_time": "2023-03-09T12:48:53.097Z"
   },
   {
    "duration": 130,
    "start_time": "2023-03-09T12:48:54.974Z"
   },
   {
    "duration": 4,
    "start_time": "2023-03-09T12:48:55.111Z"
   },
   {
    "duration": 381,
    "start_time": "2023-03-09T12:48:55.117Z"
   },
   {
    "duration": 340,
    "start_time": "2023-03-09T12:48:55.500Z"
   },
   {
    "duration": 4,
    "start_time": "2023-03-09T12:48:55.842Z"
   },
   {
    "duration": 476,
    "start_time": "2023-03-09T12:48:55.848Z"
   },
   {
    "duration": 530,
    "start_time": "2023-03-09T12:48:56.326Z"
   },
   {
    "duration": 33,
    "start_time": "2023-03-09T12:48:56.857Z"
   },
   {
    "duration": 403,
    "start_time": "2023-03-09T12:48:56.892Z"
   },
   {
    "duration": 276,
    "start_time": "2023-03-09T12:48:57.297Z"
   },
   {
    "duration": 256,
    "start_time": "2023-03-09T12:48:57.576Z"
   },
   {
    "duration": 198,
    "start_time": "2023-03-09T12:48:57.834Z"
   },
   {
    "duration": 29,
    "start_time": "2023-03-09T12:48:58.034Z"
   },
   {
    "duration": 249,
    "start_time": "2023-03-09T12:48:58.065Z"
   },
   {
    "duration": 883,
    "start_time": "2023-03-09T12:48:58.317Z"
   },
   {
    "duration": 4,
    "start_time": "2023-03-09T12:48:59.201Z"
   },
   {
    "duration": 13,
    "start_time": "2023-03-09T12:48:59.212Z"
   },
   {
    "duration": 65,
    "start_time": "2023-03-09T12:48:59.227Z"
   },
   {
    "duration": 12,
    "start_time": "2023-03-09T12:48:59.312Z"
   },
   {
    "duration": 4613,
    "start_time": "2023-03-09T12:48:59.325Z"
   },
   {
    "duration": 270,
    "start_time": "2023-03-09T12:49:03.940Z"
   },
   {
    "duration": 19619,
    "start_time": "2023-03-09T12:49:04.213Z"
   },
   {
    "duration": 2142,
    "start_time": "2023-03-09T12:49:23.834Z"
   },
   {
    "duration": 1143,
    "start_time": "2023-03-09T12:49:25.978Z"
   },
   {
    "duration": 19490,
    "start_time": "2023-03-09T12:49:27.123Z"
   },
   {
    "duration": 5930,
    "start_time": "2023-03-09T12:49:46.615Z"
   },
   {
    "duration": 208,
    "start_time": "2023-03-09T12:53:55.448Z"
   },
   {
    "duration": 1449,
    "start_time": "2023-03-09T12:54:16.682Z"
   },
   {
    "duration": 33,
    "start_time": "2023-03-09T13:11:48.608Z"
   },
   {
    "duration": 53,
    "start_time": "2023-03-09T13:11:59.581Z"
   },
   {
    "duration": 27,
    "start_time": "2023-03-09T13:12:13.933Z"
   },
   {
    "duration": 25,
    "start_time": "2023-03-09T13:12:26.279Z"
   },
   {
    "duration": 13,
    "start_time": "2023-03-09T13:13:12.536Z"
   },
   {
    "duration": 58,
    "start_time": "2023-03-09T13:13:35.885Z"
   },
   {
    "duration": 214,
    "start_time": "2023-03-09T13:13:59.839Z"
   },
   {
    "duration": 211,
    "start_time": "2023-03-09T13:14:28.010Z"
   },
   {
    "duration": 473,
    "start_time": "2023-03-09T13:16:27.939Z"
   },
   {
    "duration": 19611,
    "start_time": "2023-03-09T13:16:34.601Z"
   },
   {
    "duration": 5,
    "start_time": "2023-03-09T13:19:05.806Z"
   },
   {
    "duration": 450,
    "start_time": "2023-03-09T13:20:10.505Z"
   },
   {
    "duration": 601,
    "start_time": "2023-03-09T13:22:49.590Z"
   },
   {
    "duration": 671,
    "start_time": "2023-03-09T13:22:53.819Z"
   },
   {
    "duration": 801,
    "start_time": "2023-03-09T13:24:06.145Z"
   },
   {
    "duration": 816,
    "start_time": "2023-03-09T13:24:20.932Z"
   },
   {
    "duration": 339,
    "start_time": "2023-03-09T13:24:46.257Z"
   },
   {
    "duration": 81,
    "start_time": "2023-03-09T13:25:57.336Z"
   },
   {
    "duration": 495,
    "start_time": "2023-03-09T13:26:24.604Z"
   },
   {
    "duration": 4,
    "start_time": "2023-03-09T13:30:19.893Z"
   },
   {
    "duration": 842,
    "start_time": "2023-03-09T13:31:14.752Z"
   },
   {
    "duration": 280,
    "start_time": "2023-03-09T13:31:54.632Z"
   },
   {
    "duration": 303,
    "start_time": "2023-03-09T13:32:54.664Z"
   },
   {
    "duration": 24,
    "start_time": "2023-03-09T13:33:02.335Z"
   },
   {
    "duration": 26,
    "start_time": "2023-03-09T13:33:37.549Z"
   },
   {
    "duration": 290,
    "start_time": "2023-03-09T13:33:43.204Z"
   },
   {
    "duration": 11,
    "start_time": "2023-03-09T13:44:07.076Z"
   },
   {
    "duration": 23,
    "start_time": "2023-03-09T13:44:16.750Z"
   },
   {
    "duration": 10,
    "start_time": "2023-03-09T13:44:43.656Z"
   },
   {
    "duration": 11,
    "start_time": "2023-03-09T13:45:45.746Z"
   },
   {
    "duration": 11,
    "start_time": "2023-03-09T13:46:13.546Z"
   },
   {
    "duration": 23,
    "start_time": "2023-03-09T13:46:25.872Z"
   },
   {
    "duration": 862,
    "start_time": "2023-03-09T13:55:16.135Z"
   },
   {
    "duration": 11,
    "start_time": "2023-03-09T13:58:11.554Z"
   },
   {
    "duration": 24,
    "start_time": "2023-03-09T13:58:55.410Z"
   },
   {
    "duration": 11,
    "start_time": "2023-03-09T13:59:36.136Z"
   },
   {
    "duration": 70,
    "start_time": "2023-03-09T13:59:54.916Z"
   },
   {
    "duration": 53,
    "start_time": "2023-03-09T14:00:00.951Z"
   },
   {
    "duration": 8672,
    "start_time": "2023-03-09T14:00:22.872Z"
   },
   {
    "duration": 71,
    "start_time": "2023-03-09T14:01:07.789Z"
   },
   {
    "duration": 569,
    "start_time": "2023-03-09T14:01:51.965Z"
   },
   {
    "duration": 767,
    "start_time": "2023-03-09T14:02:05.816Z"
   },
   {
    "duration": 15,
    "start_time": "2023-03-09T14:02:40.904Z"
   },
   {
    "duration": 15,
    "start_time": "2023-03-09T14:02:52.990Z"
   },
   {
    "duration": 1287,
    "start_time": "2023-03-09T14:03:05.695Z"
   },
   {
    "duration": 959,
    "start_time": "2023-03-09T14:04:22.004Z"
   },
   {
    "duration": 11,
    "start_time": "2023-03-09T14:09:02.173Z"
   },
   {
    "duration": 2785,
    "start_time": "2023-03-09T14:09:25.805Z"
   },
   {
    "duration": 106,
    "start_time": "2023-03-09T14:09:36.695Z"
   },
   {
    "duration": 496,
    "start_time": "2023-03-09T14:12:27.125Z"
   },
   {
    "duration": 4,
    "start_time": "2023-03-09T14:13:17.600Z"
   },
   {
    "duration": 4,
    "start_time": "2023-03-09T14:13:17.606Z"
   },
   {
    "duration": 1727,
    "start_time": "2023-03-09T14:13:17.612Z"
   },
   {
    "duration": 1533,
    "start_time": "2023-03-09T14:13:19.341Z"
   },
   {
    "duration": 120,
    "start_time": "2023-03-09T14:13:20.877Z"
   },
   {
    "duration": 16,
    "start_time": "2023-03-09T14:13:20.998Z"
   },
   {
    "duration": 344,
    "start_time": "2023-03-09T14:13:21.016Z"
   },
   {
    "duration": 417,
    "start_time": "2023-03-09T14:13:21.362Z"
   },
   {
    "duration": 3,
    "start_time": "2023-03-09T14:13:21.782Z"
   },
   {
    "duration": 519,
    "start_time": "2023-03-09T14:13:21.787Z"
   },
   {
    "duration": 536,
    "start_time": "2023-03-09T14:13:22.311Z"
   },
   {
    "duration": 36,
    "start_time": "2023-03-09T14:13:22.849Z"
   },
   {
    "duration": 398,
    "start_time": "2023-03-09T14:13:22.886Z"
   },
   {
    "duration": 189,
    "start_time": "2023-03-09T14:13:23.286Z"
   },
   {
    "duration": 219,
    "start_time": "2023-03-09T14:13:23.477Z"
   },
   {
    "duration": 192,
    "start_time": "2023-03-09T14:13:23.697Z"
   },
   {
    "duration": 40,
    "start_time": "2023-03-09T14:13:23.891Z"
   },
   {
    "duration": 300,
    "start_time": "2023-03-09T14:13:23.933Z"
   },
   {
    "duration": 966,
    "start_time": "2023-03-09T14:13:24.235Z"
   },
   {
    "duration": 13,
    "start_time": "2023-03-09T14:13:25.203Z"
   },
   {
    "duration": 20,
    "start_time": "2023-03-09T14:13:25.218Z"
   },
   {
    "duration": 86,
    "start_time": "2023-03-09T14:13:25.241Z"
   },
   {
    "duration": 13,
    "start_time": "2023-03-09T14:13:25.330Z"
   },
   {
    "duration": 4731,
    "start_time": "2023-03-09T14:13:25.345Z"
   },
   {
    "duration": 251,
    "start_time": "2023-03-09T14:13:30.078Z"
   },
   {
    "duration": 855,
    "start_time": "2023-03-09T14:13:58.784Z"
   },
   {
    "duration": 10210,
    "start_time": "2023-03-09T14:13:59.641Z"
   },
   {
    "duration": 160,
    "start_time": "2023-03-09T14:14:09.852Z"
   },
   {
    "duration": 634,
    "start_time": "2023-03-09T14:14:10.015Z"
   },
   {
    "duration": 213,
    "start_time": "2023-03-09T14:14:10.653Z"
   },
   {
    "duration": 14569,
    "start_time": "2023-03-09T14:14:10.868Z"
   },
   {
    "duration": 1464,
    "start_time": "2023-03-09T14:14:25.439Z"
   },
   {
    "duration": 859,
    "start_time": "2023-03-09T14:14:56.314Z"
   },
   {
    "duration": 10052,
    "start_time": "2023-03-09T14:14:59.170Z"
   },
   {
    "duration": 12786,
    "start_time": "2023-03-09T14:15:50.108Z"
   },
   {
    "duration": 180,
    "start_time": "2023-03-09T14:16:46.341Z"
   },
   {
    "duration": 21846,
    "start_time": "2023-03-09T14:16:55.978Z"
   },
   {
    "duration": 12820,
    "start_time": "2023-03-09T14:18:15.874Z"
   },
   {
    "duration": 13052,
    "start_time": "2023-03-09T14:18:30.149Z"
   },
   {
    "duration": 24449,
    "start_time": "2023-03-09T14:19:59.901Z"
   },
   {
    "duration": 20262,
    "start_time": "2023-03-09T14:20:37.680Z"
   },
   {
    "duration": 12537,
    "start_time": "2023-03-09T14:21:08.951Z"
   },
   {
    "duration": 12800,
    "start_time": "2023-03-09T14:22:09.486Z"
   },
   {
    "duration": 22300,
    "start_time": "2023-03-09T14:24:07.646Z"
   },
   {
    "duration": 12724,
    "start_time": "2023-03-09T14:39:40.429Z"
   },
   {
    "duration": 12624,
    "start_time": "2023-03-09T14:40:04.026Z"
   },
   {
    "duration": 12628,
    "start_time": "2023-03-09T14:40:26.806Z"
   },
   {
    "duration": 19718,
    "start_time": "2023-03-09T14:46:20.826Z"
   },
   {
    "duration": 213,
    "start_time": "2023-03-09T15:15:03.128Z"
   },
   {
    "duration": 4,
    "start_time": "2023-03-09T15:15:16.925Z"
   },
   {
    "duration": 6,
    "start_time": "2023-03-09T15:15:16.931Z"
   },
   {
    "duration": 1542,
    "start_time": "2023-03-09T15:15:16.940Z"
   },
   {
    "duration": 1978,
    "start_time": "2023-03-09T15:15:18.484Z"
   },
   {
    "duration": 122,
    "start_time": "2023-03-09T15:15:20.465Z"
   },
   {
    "duration": 4,
    "start_time": "2023-03-09T15:15:20.589Z"
   },
   {
    "duration": 348,
    "start_time": "2023-03-09T15:15:20.594Z"
   },
   {
    "duration": 427,
    "start_time": "2023-03-09T15:15:20.944Z"
   },
   {
    "duration": 4,
    "start_time": "2023-03-09T15:15:21.373Z"
   },
   {
    "duration": 515,
    "start_time": "2023-03-09T15:15:21.379Z"
   },
   {
    "duration": 552,
    "start_time": "2023-03-09T15:15:21.896Z"
   },
   {
    "duration": 36,
    "start_time": "2023-03-09T15:15:22.451Z"
   },
   {
    "duration": 414,
    "start_time": "2023-03-09T15:15:22.489Z"
   },
   {
    "duration": 205,
    "start_time": "2023-03-09T15:15:22.907Z"
   },
   {
    "duration": 211,
    "start_time": "2023-03-09T15:15:23.114Z"
   },
   {
    "duration": 185,
    "start_time": "2023-03-09T15:15:23.327Z"
   },
   {
    "duration": 34,
    "start_time": "2023-03-09T15:15:23.514Z"
   },
   {
    "duration": 302,
    "start_time": "2023-03-09T15:15:23.551Z"
   },
   {
    "duration": 974,
    "start_time": "2023-03-09T15:15:23.854Z"
   },
   {
    "duration": 6,
    "start_time": "2023-03-09T15:15:24.829Z"
   },
   {
    "duration": 14,
    "start_time": "2023-03-09T15:15:24.837Z"
   },
   {
    "duration": 82,
    "start_time": "2023-03-09T15:15:24.853Z"
   },
   {
    "duration": 12,
    "start_time": "2023-03-09T15:15:24.936Z"
   },
   {
    "duration": 4623,
    "start_time": "2023-03-09T15:15:24.950Z"
   },
   {
    "duration": 235,
    "start_time": "2023-03-09T15:15:29.575Z"
   },
   {
    "duration": 176524,
    "start_time": "2023-03-09T15:15:29.812Z"
   },
   {
    "duration": 1597,
    "start_time": "2023-03-09T15:18:26.338Z"
   },
   {
    "duration": 12971,
    "start_time": "2023-03-09T15:18:28.841Z"
   },
   {
    "duration": 21951,
    "start_time": "2023-03-09T15:18:41.915Z"
   },
   {
    "duration": 609,
    "start_time": "2023-03-09T15:19:03.868Z"
   },
   {
    "duration": 1016,
    "start_time": "2023-03-09T15:19:04.538Z"
   },
   {
    "duration": 78,
    "start_time": "2023-03-09T15:19:05.555Z"
   },
   {
    "duration": 82,
    "start_time": "2023-03-09T15:19:05.635Z"
   },
   {
    "duration": 59,
    "start_time": "2023-03-09T15:27:38.793Z"
   },
   {
    "duration": 16,
    "start_time": "2023-03-09T15:32:22.294Z"
   },
   {
    "duration": 24,
    "start_time": "2023-03-09T15:32:33.559Z"
   },
   {
    "duration": 31,
    "start_time": "2023-03-09T15:32:44.704Z"
   },
   {
    "duration": 24,
    "start_time": "2023-03-09T15:32:50.563Z"
   },
   {
    "duration": 26,
    "start_time": "2023-03-09T15:33:40.953Z"
   },
   {
    "duration": 32,
    "start_time": "2023-03-09T15:33:48.308Z"
   },
   {
    "duration": 36,
    "start_time": "2023-03-09T15:33:55.494Z"
   },
   {
    "duration": 70,
    "start_time": "2023-03-09T15:35:13.066Z"
   },
   {
    "duration": 3,
    "start_time": "2023-03-09T15:36:51.929Z"
   },
   {
    "duration": 17,
    "start_time": "2023-03-09T15:37:56.742Z"
   },
   {
    "duration": 26,
    "start_time": "2023-03-09T15:38:26.955Z"
   },
   {
    "duration": 22,
    "start_time": "2023-03-09T15:38:44.089Z"
   },
   {
    "duration": 19,
    "start_time": "2023-03-09T15:38:51.364Z"
   },
   {
    "duration": 72,
    "start_time": "2023-03-09T15:39:30.871Z"
   },
   {
    "duration": 32,
    "start_time": "2023-03-09T15:40:47.430Z"
   },
   {
    "duration": 22,
    "start_time": "2023-03-09T15:40:56.607Z"
   },
   {
    "duration": 41,
    "start_time": "2023-03-09T15:41:00.648Z"
   },
   {
    "duration": 903,
    "start_time": "2023-03-09T15:43:23.155Z"
   },
   {
    "duration": 6094,
    "start_time": "2023-03-09T15:44:08.742Z"
   },
   {
    "duration": 63,
    "start_time": "2023-03-09T15:44:27.555Z"
   },
   {
    "duration": 890,
    "start_time": "2023-03-09T15:44:44.575Z"
   },
   {
    "duration": 36,
    "start_time": "2023-03-09T15:45:03.982Z"
   },
   {
    "duration": 28,
    "start_time": "2023-03-09T15:45:57.253Z"
   },
   {
    "duration": 1366,
    "start_time": "2023-03-09T15:46:32.358Z"
   },
   {
    "duration": 1265,
    "start_time": "2023-03-09T15:46:41.620Z"
   },
   {
    "duration": 2415,
    "start_time": "2023-03-09T15:46:58.392Z"
   },
   {
    "duration": 5,
    "start_time": "2023-03-09T15:47:17.434Z"
   },
   {
    "duration": 37,
    "start_time": "2023-03-09T15:47:28.740Z"
   },
   {
    "duration": 63,
    "start_time": "2023-03-09T15:48:05.801Z"
   },
   {
    "duration": 77,
    "start_time": "2023-03-09T15:49:34.369Z"
   },
   {
    "duration": 79,
    "start_time": "2023-03-09T15:49:59.899Z"
   },
   {
    "duration": 83,
    "start_time": "2023-03-09T15:50:40.226Z"
   },
   {
    "duration": 1021,
    "start_time": "2023-03-09T15:50:55.055Z"
   },
   {
    "duration": 1008,
    "start_time": "2023-03-09T15:51:19.522Z"
   },
   {
    "duration": 977,
    "start_time": "2023-03-09T15:51:32.685Z"
   },
   {
    "duration": 962,
    "start_time": "2023-03-09T15:51:44.430Z"
   },
   {
    "duration": 82,
    "start_time": "2023-03-09T15:53:18.257Z"
   },
   {
    "duration": 2179,
    "start_time": "2023-03-09T15:53:22.895Z"
   },
   {
    "duration": 4,
    "start_time": "2023-03-09T15:55:14.949Z"
   },
   {
    "duration": 5,
    "start_time": "2023-03-09T15:55:14.955Z"
   },
   {
    "duration": 4,
    "start_time": "2023-03-09T15:55:14.962Z"
   },
   {
    "duration": 2065,
    "start_time": "2023-03-09T15:55:14.968Z"
   },
   {
    "duration": 1795,
    "start_time": "2023-03-09T15:55:17.036Z"
   },
   {
    "duration": 131,
    "start_time": "2023-03-09T15:55:18.833Z"
   },
   {
    "duration": 3,
    "start_time": "2023-03-09T15:55:18.966Z"
   },
   {
    "duration": 405,
    "start_time": "2023-03-09T15:55:18.971Z"
   },
   {
    "duration": 395,
    "start_time": "2023-03-09T15:55:19.378Z"
   },
   {
    "duration": 3,
    "start_time": "2023-03-09T15:55:19.775Z"
   },
   {
    "duration": 518,
    "start_time": "2023-03-09T15:55:19.779Z"
   },
   {
    "duration": 578,
    "start_time": "2023-03-09T15:55:20.299Z"
   },
   {
    "duration": 48,
    "start_time": "2023-03-09T15:55:20.879Z"
   },
   {
    "duration": 525,
    "start_time": "2023-03-09T15:55:20.930Z"
   },
   {
    "duration": 239,
    "start_time": "2023-03-09T15:55:21.457Z"
   },
   {
    "duration": 229,
    "start_time": "2023-03-09T15:55:21.699Z"
   },
   {
    "duration": 202,
    "start_time": "2023-03-09T15:55:21.930Z"
   },
   {
    "duration": 37,
    "start_time": "2023-03-09T15:55:22.134Z"
   },
   {
    "duration": 258,
    "start_time": "2023-03-09T15:55:22.174Z"
   },
   {
    "duration": 1012,
    "start_time": "2023-03-09T15:55:22.434Z"
   },
   {
    "duration": 6,
    "start_time": "2023-03-09T15:55:23.448Z"
   },
   {
    "duration": 22,
    "start_time": "2023-03-09T15:55:23.455Z"
   },
   {
    "duration": 78,
    "start_time": "2023-03-09T15:55:23.479Z"
   },
   {
    "duration": 53,
    "start_time": "2023-03-09T15:55:23.560Z"
   },
   {
    "duration": 64061,
    "start_time": "2023-03-09T15:55:23.615Z"
   },
   {
    "duration": 234,
    "start_time": "2023-03-09T15:56:27.678Z"
   },
   {
    "duration": 30941,
    "start_time": "2023-03-09T15:56:27.914Z"
   },
   {
    "duration": 1691,
    "start_time": "2023-03-09T15:56:58.857Z"
   },
   {
    "duration": 899,
    "start_time": "2023-03-09T15:57:00.550Z"
   },
   {
    "duration": 106,
    "start_time": "2023-03-09T15:57:01.451Z"
   },
   {
    "duration": 1030,
    "start_time": "2023-03-09T15:57:01.558Z"
   },
   {
    "duration": 2300,
    "start_time": "2023-03-09T15:57:02.591Z"
   },
   {
    "duration": 595,
    "start_time": "2023-03-09T15:57:04.893Z"
   },
   {
    "duration": 152,
    "start_time": "2023-03-09T16:00:27.826Z"
   },
   {
    "duration": 5,
    "start_time": "2023-03-09T16:02:04.042Z"
   },
   {
    "duration": 51,
    "start_time": "2023-03-09T16:02:20.981Z"
   },
   {
    "duration": 43,
    "start_time": "2023-03-09T16:02:35.714Z"
   },
   {
    "duration": 519,
    "start_time": "2023-03-09T16:03:14.577Z"
   },
   {
    "duration": 56,
    "start_time": "2023-03-09T16:04:05.311Z"
   },
   {
    "duration": 47,
    "start_time": "2023-03-09T16:04:46.073Z"
   },
   {
    "duration": 511,
    "start_time": "2023-03-09T16:04:56.660Z"
   },
   {
    "duration": 546,
    "start_time": "2023-03-09T16:05:13.691Z"
   },
   {
    "duration": 557,
    "start_time": "2023-03-09T16:05:19.437Z"
   },
   {
    "duration": 356,
    "start_time": "2023-03-09T16:06:05.946Z"
   },
   {
    "duration": 3,
    "start_time": "2023-03-09T16:06:28.127Z"
   },
   {
    "duration": 35,
    "start_time": "2023-03-09T16:06:28.133Z"
   },
   {
    "duration": 28,
    "start_time": "2023-03-09T16:06:28.170Z"
   },
   {
    "duration": 2232,
    "start_time": "2023-03-09T16:06:28.200Z"
   },
   {
    "duration": 2860,
    "start_time": "2023-03-09T16:06:30.435Z"
   },
   {
    "duration": 139,
    "start_time": "2023-03-09T16:06:33.297Z"
   },
   {
    "duration": 3,
    "start_time": "2023-03-09T16:06:33.438Z"
   },
   {
    "duration": 398,
    "start_time": "2023-03-09T16:06:33.443Z"
   },
   {
    "duration": 417,
    "start_time": "2023-03-09T16:06:33.843Z"
   },
   {
    "duration": 4,
    "start_time": "2023-03-09T16:06:34.263Z"
   },
   {
    "duration": 536,
    "start_time": "2023-03-09T16:06:34.269Z"
   },
   {
    "duration": 570,
    "start_time": "2023-03-09T16:06:34.811Z"
   },
   {
    "duration": 37,
    "start_time": "2023-03-09T16:06:35.383Z"
   },
   {
    "duration": 554,
    "start_time": "2023-03-09T16:06:35.424Z"
   },
   {
    "duration": 224,
    "start_time": "2023-03-09T16:06:35.979Z"
   },
   {
    "duration": 285,
    "start_time": "2023-03-09T16:06:36.205Z"
   },
   {
    "duration": 255,
    "start_time": "2023-03-09T16:06:36.491Z"
   },
   {
    "duration": 37,
    "start_time": "2023-03-09T16:06:36.748Z"
   },
   {
    "duration": 252,
    "start_time": "2023-03-09T16:06:36.786Z"
   },
   {
    "duration": 965,
    "start_time": "2023-03-09T16:06:37.040Z"
   },
   {
    "duration": 8,
    "start_time": "2023-03-09T16:06:38.007Z"
   },
   {
    "duration": 21,
    "start_time": "2023-03-09T16:06:38.017Z"
   },
   {
    "duration": 82,
    "start_time": "2023-03-09T16:06:38.041Z"
   },
   {
    "duration": 34,
    "start_time": "2023-03-09T16:06:38.125Z"
   },
   {
    "duration": 69938,
    "start_time": "2023-03-09T16:06:38.160Z"
   },
   {
    "duration": 237,
    "start_time": "2023-03-09T16:07:48.100Z"
   },
   {
    "duration": 4,
    "start_time": "2023-03-09T16:10:12.351Z"
   },
   {
    "duration": 6,
    "start_time": "2023-03-09T16:10:12.357Z"
   },
   {
    "duration": 8,
    "start_time": "2023-03-09T16:10:12.365Z"
   },
   {
    "duration": 1395,
    "start_time": "2023-03-09T16:10:12.375Z"
   },
   {
    "duration": 1684,
    "start_time": "2023-03-09T16:10:13.772Z"
   },
   {
    "duration": 119,
    "start_time": "2023-03-09T16:10:15.458Z"
   },
   {
    "duration": 3,
    "start_time": "2023-03-09T16:10:15.579Z"
   },
   {
    "duration": 348,
    "start_time": "2023-03-09T16:10:15.585Z"
   },
   {
    "duration": 328,
    "start_time": "2023-03-09T16:10:15.934Z"
   },
   {
    "duration": 3,
    "start_time": "2023-03-09T16:10:16.265Z"
   },
   {
    "duration": 499,
    "start_time": "2023-03-09T16:10:16.272Z"
   },
   {
    "duration": 605,
    "start_time": "2023-03-09T16:10:16.773Z"
   },
   {
    "duration": 48,
    "start_time": "2023-03-09T16:10:17.380Z"
   },
   {
    "duration": 388,
    "start_time": "2023-03-09T16:10:17.430Z"
   },
   {
    "duration": 194,
    "start_time": "2023-03-09T16:10:17.820Z"
   },
   {
    "duration": 213,
    "start_time": "2023-03-09T16:10:18.016Z"
   },
   {
    "duration": 185,
    "start_time": "2023-03-09T16:10:18.231Z"
   },
   {
    "duration": 28,
    "start_time": "2023-03-09T16:10:18.418Z"
   },
   {
    "duration": 257,
    "start_time": "2023-03-09T16:10:18.448Z"
   },
   {
    "duration": 959,
    "start_time": "2023-03-09T16:10:18.711Z"
   },
   {
    "duration": 5,
    "start_time": "2023-03-09T16:10:19.672Z"
   },
   {
    "duration": 33,
    "start_time": "2023-03-09T16:10:19.679Z"
   },
   {
    "duration": 65,
    "start_time": "2023-03-09T16:10:19.714Z"
   },
   {
    "duration": 48,
    "start_time": "2023-03-09T16:10:19.781Z"
   },
   {
    "duration": 137,
    "start_time": "2023-03-09T16:10:19.831Z"
   },
   {
    "duration": 0,
    "start_time": "2023-03-09T16:10:19.970Z"
   },
   {
    "duration": 0,
    "start_time": "2023-03-09T16:10:19.971Z"
   },
   {
    "duration": 0,
    "start_time": "2023-03-09T16:10:19.972Z"
   },
   {
    "duration": 0,
    "start_time": "2023-03-09T16:10:19.974Z"
   },
   {
    "duration": 0,
    "start_time": "2023-03-09T16:10:19.975Z"
   },
   {
    "duration": 0,
    "start_time": "2023-03-09T16:10:19.976Z"
   },
   {
    "duration": 0,
    "start_time": "2023-03-09T16:10:19.977Z"
   },
   {
    "duration": 0,
    "start_time": "2023-03-09T16:10:19.978Z"
   },
   {
    "duration": 15,
    "start_time": "2023-03-09T16:10:51.320Z"
   },
   {
    "duration": 10,
    "start_time": "2023-03-09T16:10:58.427Z"
   },
   {
    "duration": 5,
    "start_time": "2023-03-09T16:16:03.245Z"
   },
   {
    "duration": 9,
    "start_time": "2023-03-09T16:16:03.252Z"
   },
   {
    "duration": 8,
    "start_time": "2023-03-09T16:16:03.262Z"
   },
   {
    "duration": 1418,
    "start_time": "2023-03-09T16:16:03.272Z"
   },
   {
    "duration": 1744,
    "start_time": "2023-03-09T16:16:04.692Z"
   },
   {
    "duration": 128,
    "start_time": "2023-03-09T16:16:06.438Z"
   },
   {
    "duration": 5,
    "start_time": "2023-03-09T16:16:06.568Z"
   },
   {
    "duration": 388,
    "start_time": "2023-03-09T16:16:06.575Z"
   },
   {
    "duration": 358,
    "start_time": "2023-03-09T16:16:06.965Z"
   },
   {
    "duration": 5,
    "start_time": "2023-03-09T16:16:07.326Z"
   },
   {
    "duration": 545,
    "start_time": "2023-03-09T16:16:07.333Z"
   },
   {
    "duration": 532,
    "start_time": "2023-03-09T16:16:07.880Z"
   },
   {
    "duration": 35,
    "start_time": "2023-03-09T16:16:08.414Z"
   },
   {
    "duration": 486,
    "start_time": "2023-03-09T16:16:08.451Z"
   },
   {
    "duration": 194,
    "start_time": "2023-03-09T16:16:08.939Z"
   },
   {
    "duration": 219,
    "start_time": "2023-03-09T16:16:09.135Z"
   },
   {
    "duration": 207,
    "start_time": "2023-03-09T16:16:09.356Z"
   },
   {
    "duration": 38,
    "start_time": "2023-03-09T16:16:09.564Z"
   },
   {
    "duration": 294,
    "start_time": "2023-03-09T16:16:09.613Z"
   },
   {
    "duration": 923,
    "start_time": "2023-03-09T16:16:09.911Z"
   },
   {
    "duration": 4,
    "start_time": "2023-03-09T16:16:10.836Z"
   },
   {
    "duration": 16,
    "start_time": "2023-03-09T16:16:10.842Z"
   },
   {
    "duration": 87,
    "start_time": "2023-03-09T16:16:10.859Z"
   },
   {
    "duration": 36,
    "start_time": "2023-03-09T16:16:10.948Z"
   },
   {
    "duration": 5091,
    "start_time": "2023-03-09T16:16:11.013Z"
   },
   {
    "duration": 236,
    "start_time": "2023-03-09T16:16:16.106Z"
   },
   {
    "duration": 211786,
    "start_time": "2023-03-09T16:16:16.344Z"
   },
   {
    "duration": 1571,
    "start_time": "2023-03-09T16:19:48.133Z"
   },
   {
    "duration": 819,
    "start_time": "2023-03-09T16:19:49.705Z"
   },
   {
    "duration": 106,
    "start_time": "2023-03-09T16:19:50.525Z"
   },
   {
    "duration": 1041,
    "start_time": "2023-03-09T16:19:50.632Z"
   },
   {
    "duration": 181,
    "start_time": "2023-03-09T16:19:51.675Z"
   },
   {
    "duration": 0,
    "start_time": "2023-03-09T16:19:51.858Z"
   },
   {
    "duration": 84,
    "start_time": "2023-03-09T16:26:54.937Z"
   },
   {
    "duration": 4,
    "start_time": "2023-03-10T10:16:22.258Z"
   },
   {
    "duration": 8,
    "start_time": "2023-03-10T10:16:22.263Z"
   },
   {
    "duration": 5,
    "start_time": "2023-03-10T10:16:22.273Z"
   },
   {
    "duration": 1435,
    "start_time": "2023-03-10T10:16:22.280Z"
   },
   {
    "duration": 0,
    "start_time": "2023-03-10T10:16:23.717Z"
   },
   {
    "duration": 0,
    "start_time": "2023-03-10T10:16:23.718Z"
   },
   {
    "duration": 0,
    "start_time": "2023-03-10T10:16:23.720Z"
   },
   {
    "duration": 0,
    "start_time": "2023-03-10T10:16:23.721Z"
   },
   {
    "duration": 0,
    "start_time": "2023-03-10T10:16:23.722Z"
   },
   {
    "duration": 0,
    "start_time": "2023-03-10T10:16:23.723Z"
   },
   {
    "duration": 0,
    "start_time": "2023-03-10T10:16:23.724Z"
   },
   {
    "duration": 0,
    "start_time": "2023-03-10T10:16:23.726Z"
   },
   {
    "duration": 0,
    "start_time": "2023-03-10T10:16:23.727Z"
   },
   {
    "duration": 0,
    "start_time": "2023-03-10T10:16:23.728Z"
   },
   {
    "duration": 0,
    "start_time": "2023-03-10T10:16:23.729Z"
   },
   {
    "duration": 0,
    "start_time": "2023-03-10T10:16:23.730Z"
   },
   {
    "duration": 0,
    "start_time": "2023-03-10T10:16:23.732Z"
   },
   {
    "duration": 0,
    "start_time": "2023-03-10T10:16:23.733Z"
   },
   {
    "duration": 0,
    "start_time": "2023-03-10T10:16:23.734Z"
   },
   {
    "duration": 0,
    "start_time": "2023-03-10T10:16:23.735Z"
   },
   {
    "duration": 0,
    "start_time": "2023-03-10T10:16:23.736Z"
   },
   {
    "duration": 0,
    "start_time": "2023-03-10T10:16:23.737Z"
   },
   {
    "duration": 0,
    "start_time": "2023-03-10T10:16:23.738Z"
   },
   {
    "duration": 0,
    "start_time": "2023-03-10T10:16:23.739Z"
   },
   {
    "duration": 0,
    "start_time": "2023-03-10T10:16:23.740Z"
   },
   {
    "duration": 0,
    "start_time": "2023-03-10T10:16:23.742Z"
   },
   {
    "duration": 0,
    "start_time": "2023-03-10T10:16:23.743Z"
   },
   {
    "duration": 0,
    "start_time": "2023-03-10T10:16:23.744Z"
   },
   {
    "duration": 0,
    "start_time": "2023-03-10T10:16:23.745Z"
   },
   {
    "duration": 0,
    "start_time": "2023-03-10T10:16:23.746Z"
   },
   {
    "duration": 0,
    "start_time": "2023-03-10T10:16:23.747Z"
   },
   {
    "duration": 3325,
    "start_time": "2023-03-10T10:16:34.959Z"
   },
   {
    "duration": 2909,
    "start_time": "2023-03-10T10:16:42.575Z"
   },
   {
    "duration": 6189,
    "start_time": "2023-03-10T10:16:49.114Z"
   },
   {
    "duration": 4,
    "start_time": "2023-03-10T10:17:04.814Z"
   },
   {
    "duration": 15,
    "start_time": "2023-03-10T10:17:04.820Z"
   },
   {
    "duration": 14,
    "start_time": "2023-03-10T10:17:04.836Z"
   },
   {
    "duration": 1460,
    "start_time": "2023-03-10T10:17:04.852Z"
   },
   {
    "duration": 1510,
    "start_time": "2023-03-10T10:17:06.314Z"
   },
   {
    "duration": 143,
    "start_time": "2023-03-10T10:17:07.825Z"
   },
   {
    "duration": 3,
    "start_time": "2023-03-10T10:17:07.970Z"
   },
   {
    "duration": 406,
    "start_time": "2023-03-10T10:17:07.974Z"
   },
   {
    "duration": 389,
    "start_time": "2023-03-10T10:17:08.382Z"
   },
   {
    "duration": 3,
    "start_time": "2023-03-10T10:17:08.773Z"
   },
   {
    "duration": 496,
    "start_time": "2023-03-10T10:17:08.778Z"
   },
   {
    "duration": 512,
    "start_time": "2023-03-10T10:17:09.276Z"
   },
   {
    "duration": 35,
    "start_time": "2023-03-10T10:17:09.793Z"
   },
   {
    "duration": 495,
    "start_time": "2023-03-10T10:17:09.830Z"
   },
   {
    "duration": 187,
    "start_time": "2023-03-10T10:17:10.327Z"
   },
   {
    "duration": 200,
    "start_time": "2023-03-10T10:17:10.515Z"
   },
   {
    "duration": 197,
    "start_time": "2023-03-10T10:17:10.716Z"
   },
   {
    "duration": 28,
    "start_time": "2023-03-10T10:17:10.915Z"
   },
   {
    "duration": 294,
    "start_time": "2023-03-10T10:17:10.945Z"
   },
   {
    "duration": 939,
    "start_time": "2023-03-10T10:17:11.241Z"
   },
   {
    "duration": 15,
    "start_time": "2023-03-10T10:17:12.182Z"
   },
   {
    "duration": 13,
    "start_time": "2023-03-10T10:17:12.205Z"
   },
   {
    "duration": 94,
    "start_time": "2023-03-10T10:17:12.220Z"
   },
   {
    "duration": 30,
    "start_time": "2023-03-10T10:17:12.317Z"
   },
   {
    "duration": 4911,
    "start_time": "2023-03-10T10:17:12.349Z"
   },
   {
    "duration": 234,
    "start_time": "2023-03-10T10:17:17.262Z"
   },
   {
    "duration": 143712,
    "start_time": "2023-03-10T10:17:17.498Z"
   },
   {
    "duration": 1759,
    "start_time": "2023-03-10T10:19:41.212Z"
   },
   {
    "duration": 802,
    "start_time": "2023-03-10T10:19:42.973Z"
   },
   {
    "duration": 134,
    "start_time": "2023-03-10T10:19:43.777Z"
   },
   {
    "duration": 712,
    "start_time": "2023-03-10T10:19:43.914Z"
   },
   {
    "duration": 4451,
    "start_time": "2023-03-10T10:19:44.628Z"
   },
   {
    "duration": 4420,
    "start_time": "2023-03-10T10:19:54.346Z"
   },
   {
    "duration": 4751,
    "start_time": "2023-03-10T10:20:19.908Z"
   },
   {
    "duration": 110,
    "start_time": "2023-03-10T10:22:09.484Z"
   },
   {
    "duration": 10,
    "start_time": "2023-03-10T10:26:59.735Z"
   },
   {
    "duration": 4,
    "start_time": "2023-03-10T10:28:02.005Z"
   },
   {
    "duration": 4,
    "start_time": "2023-03-10T10:28:49.479Z"
   },
   {
    "duration": 7,
    "start_time": "2023-03-10T10:29:18.436Z"
   },
   {
    "duration": 3,
    "start_time": "2023-03-10T10:29:32.165Z"
   },
   {
    "duration": 16,
    "start_time": "2023-03-10T10:32:58.709Z"
   },
   {
    "duration": 11,
    "start_time": "2023-03-10T10:34:48.636Z"
   },
   {
    "duration": 475,
    "start_time": "2023-03-10T10:35:17.194Z"
   },
   {
    "duration": 560,
    "start_time": "2023-03-10T10:35:24.624Z"
   },
   {
    "duration": 564,
    "start_time": "2023-03-10T10:35:34.700Z"
   },
   {
    "duration": 613,
    "start_time": "2023-03-10T10:38:06.967Z"
   },
   {
    "duration": 656,
    "start_time": "2023-03-10T10:39:23.313Z"
   },
   {
    "duration": 561,
    "start_time": "2023-03-10T10:39:33.303Z"
   },
   {
    "duration": 145,
    "start_time": "2023-03-10T10:41:45.934Z"
   },
   {
    "duration": 217,
    "start_time": "2023-03-10T10:41:50.451Z"
   },
   {
    "duration": 170,
    "start_time": "2023-03-10T10:42:19.942Z"
   },
   {
    "duration": 225,
    "start_time": "2023-03-10T10:42:22.990Z"
   },
   {
    "duration": 46204,
    "start_time": "2023-03-10T10:44:21.890Z"
   },
   {
    "duration": 33967,
    "start_time": "2023-03-10T10:45:39.640Z"
   },
   {
    "duration": 6677,
    "start_time": "2023-03-10T10:47:03.803Z"
   },
   {
    "duration": 520,
    "start_time": "2023-03-10T10:47:47.501Z"
   },
   {
    "duration": 5,
    "start_time": "2023-03-10T11:08:26.807Z"
   },
   {
    "duration": 11,
    "start_time": "2023-03-10T11:09:58.222Z"
   },
   {
    "duration": 11,
    "start_time": "2023-03-10T11:10:07.938Z"
   },
   {
    "duration": 4580,
    "start_time": "2023-03-10T11:12:51.947Z"
   },
   {
    "duration": 4774,
    "start_time": "2023-03-10T11:13:12.175Z"
   },
   {
    "duration": 4612,
    "start_time": "2023-03-10T11:13:20.028Z"
   },
   {
    "duration": 4460,
    "start_time": "2023-03-10T11:14:20.322Z"
   },
   {
    "duration": 8910,
    "start_time": "2023-03-10T11:14:52.345Z"
   },
   {
    "duration": 6678,
    "start_time": "2023-03-10T11:15:08.083Z"
   },
   {
    "duration": 15884,
    "start_time": "2023-03-10T11:25:21.111Z"
   },
   {
    "duration": 15821,
    "start_time": "2023-03-10T11:26:14.478Z"
   },
   {
    "duration": 40,
    "start_time": "2023-03-10T11:27:16.339Z"
   },
   {
    "duration": 15688,
    "start_time": "2023-03-10T11:27:29.013Z"
   },
   {
    "duration": 16069,
    "start_time": "2023-03-10T11:30:44.119Z"
   },
   {
    "duration": 16209,
    "start_time": "2023-03-10T12:01:40.618Z"
   },
   {
    "duration": 17187,
    "start_time": "2023-03-10T12:05:49.783Z"
   },
   {
    "duration": 16212,
    "start_time": "2023-03-10T12:06:21.729Z"
   },
   {
    "duration": 7,
    "start_time": "2023-03-10T12:23:16.540Z"
   },
   {
    "duration": 5,
    "start_time": "2023-03-10T12:23:21.744Z"
   },
   {
    "duration": 1563,
    "start_time": "2023-03-10T12:23:34.319Z"
   },
   {
    "duration": 81,
    "start_time": "2023-03-10T12:26:17.329Z"
   },
   {
    "duration": 39,
    "start_time": "2023-03-10T12:29:28.792Z"
   },
   {
    "duration": 76,
    "start_time": "2023-03-10T12:29:49.218Z"
   },
   {
    "duration": 84,
    "start_time": "2023-03-10T12:30:14.499Z"
   },
   {
    "duration": 95,
    "start_time": "2023-03-10T12:30:44.582Z"
   },
   {
    "duration": 4,
    "start_time": "2023-03-10T12:31:10.587Z"
   },
   {
    "duration": 5,
    "start_time": "2023-03-10T12:36:34.182Z"
   },
   {
    "duration": 33,
    "start_time": "2023-03-10T12:36:34.189Z"
   },
   {
    "duration": 42,
    "start_time": "2023-03-10T12:36:34.224Z"
   },
   {
    "duration": 1379,
    "start_time": "2023-03-10T12:36:34.269Z"
   },
   {
    "duration": 1909,
    "start_time": "2023-03-10T12:36:35.649Z"
   },
   {
    "duration": 155,
    "start_time": "2023-03-10T12:36:37.559Z"
   },
   {
    "duration": 3,
    "start_time": "2023-03-10T12:36:37.716Z"
   },
   {
    "duration": 418,
    "start_time": "2023-03-10T12:36:37.721Z"
   },
   {
    "duration": 421,
    "start_time": "2023-03-10T12:36:38.140Z"
   },
   {
    "duration": 3,
    "start_time": "2023-03-10T12:36:38.564Z"
   },
   {
    "duration": 540,
    "start_time": "2023-03-10T12:36:38.568Z"
   },
   {
    "duration": 575,
    "start_time": "2023-03-10T12:36:39.110Z"
   },
   {
    "duration": 39,
    "start_time": "2023-03-10T12:36:39.686Z"
   },
   {
    "duration": 469,
    "start_time": "2023-03-10T12:36:39.727Z"
   },
   {
    "duration": 197,
    "start_time": "2023-03-10T12:36:40.200Z"
   },
   {
    "duration": 313,
    "start_time": "2023-03-10T12:36:40.399Z"
   },
   {
    "duration": 191,
    "start_time": "2023-03-10T12:36:40.714Z"
   },
   {
    "duration": 31,
    "start_time": "2023-03-10T12:36:40.907Z"
   },
   {
    "duration": 303,
    "start_time": "2023-03-10T12:36:40.940Z"
   },
   {
    "duration": 1017,
    "start_time": "2023-03-10T12:36:41.245Z"
   },
   {
    "duration": 5,
    "start_time": "2023-03-10T12:36:42.263Z"
   },
   {
    "duration": 36,
    "start_time": "2023-03-10T12:36:42.269Z"
   },
   {
    "duration": 106,
    "start_time": "2023-03-10T12:36:42.307Z"
   },
   {
    "duration": 50,
    "start_time": "2023-03-10T12:36:42.415Z"
   },
   {
    "duration": 4875,
    "start_time": "2023-03-10T12:36:42.467Z"
   },
   {
    "duration": 215,
    "start_time": "2023-03-10T12:36:47.344Z"
   },
   {
    "duration": 14550,
    "start_time": "2023-03-10T12:36:47.560Z"
   },
   {
    "duration": 840,
    "start_time": "2023-03-10T13:14:20.798Z"
   },
   {
    "duration": 155,
    "start_time": "2023-03-10T13:14:21.640Z"
   },
   {
    "duration": 658,
    "start_time": "2023-03-10T13:14:21.798Z"
   },
   {
    "duration": 220,
    "start_time": "2023-03-10T13:14:22.458Z"
   },
   {
    "duration": 37444,
    "start_time": "2023-03-10T13:14:22.680Z"
   },
   {
    "duration": 15895,
    "start_time": "2023-03-10T13:15:00.127Z"
   },
   {
    "duration": 2239302,
    "start_time": "2023-03-10T13:52:06.066Z"
   },
   {
    "duration": 454487,
    "start_time": "2023-03-10T15:18:23.702Z"
   },
   {
    "duration": 308,
    "start_time": "2023-03-10T15:38:13.957Z"
   },
   {
    "duration": 176,
    "start_time": "2023-03-10T15:38:31.908Z"
   },
   {
    "duration": 39,
    "start_time": "2023-03-10T15:38:53.069Z"
   },
   {
    "duration": 34,
    "start_time": "2023-03-10T15:38:57.821Z"
   }
  ],
  "kernelspec": {
   "display_name": "Python 3 (ipykernel)",
   "language": "python",
   "name": "python3"
  },
  "language_info": {
   "codemirror_mode": {
    "name": "ipython",
    "version": 3
   },
   "file_extension": ".py",
   "mimetype": "text/x-python",
   "name": "python",
   "nbconvert_exporter": "python",
   "pygments_lexer": "ipython3",
   "version": "3.10.5"
  },
  "toc": {
   "base_numbering": 1,
   "nav_menu": {},
   "number_sections": true,
   "sideBar": true,
   "skip_h1_title": true,
   "title_cell": "Table of Contents",
   "title_sidebar": "Contents",
   "toc_cell": false,
   "toc_position": {},
   "toc_section_display": true,
   "toc_window_display": false
  },
  "vscode": {
   "interpreter": {
    "hash": "69a9047f428b72ee57fafcc30cfc1150f80b59105df1fa51f1e4927e742c9d0b"
   }
  }
 },
 "nbformat": 4,
 "nbformat_minor": 2
}

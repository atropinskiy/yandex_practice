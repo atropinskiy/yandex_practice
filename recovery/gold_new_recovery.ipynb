{
 "cells": [
  {
   "attachments": {},
   "cell_type": "markdown",
   "metadata": {},
   "source": [
    "#### Описание задачи. Проект: Добыча золота - исследование технологического процесса\n",
    "* Нам предстоит изучить технологический процесс восстановления золота.  \n",
    "* Ниже представлена схема и основные характеристики, накопленные за определенный период времени.\n",
    "* Задача - минимизировать количество убыточных предприятий, выбрать и посчитать метрики качества и научить моедль их предсказывать.\n",
    "\n",
    "#### 1. Общее знакомство с датафреймом и условиями задачи"
   ]
  },
  {
   "cell_type": "code",
   "execution_count": 285,
   "metadata": {},
   "outputs": [],
   "source": [
    "# Импорт бибилиотек\n",
    "import pandas as pd\n",
    "import numpy as np\n",
    "import sweetviz as sv\n",
    "import seaborn as sns\n",
    "import pandas_profiling\n",
    "from IPython.display import Image\n",
    "import plotly.graph_objects as go\n",
    "import plotly.express as px\n",
    "from sklearn.metrics import mean_absolute_error\n",
    "import matplotlib.pyplot as plt\n",
    "import missingno as msno"
   ]
  },
  {
   "cell_type": "code",
   "execution_count": 237,
   "metadata": {},
   "outputs": [],
   "source": [
    "# Загрузка датафрейма\n",
    "try:\n",
    "    df_full = pd.read_csv('./datasets/gold_recovery_full_new.csv')\n",
    "    df_train = pd.read_csv('./datasets/gold_recovery_train_new.csv')\n",
    "    df_test = pd.read_csv('./datasets/gold_recovery_test_new.csv')\n",
    "except:\n",
    "    df_full = pd.read_csv('https://code.s3.yandex.net/datasets/gold_recovery_full_new.csv')\n",
    "    df_train = pd.read_csv('https://code.s3.yandex.net/datasets/gold_recovery_train_new.csv')\n",
    "    df_test = pd.read_csv('https://code.s3.yandex.net/datasets/gold_recovery_test_new.csv')"
   ]
  },
  {
   "cell_type": "code",
   "execution_count": 238,
   "metadata": {},
   "outputs": [
    {
     "name": "stdout",
     "output_type": "stream",
     "text": [
      "(14149, 87)\n",
      "(5290, 53)\n",
      "(19439, 87)\n"
     ]
    }
   ],
   "source": [
    "print(df_train.shape)\n",
    "print(df_test.shape)\n",
    "print(df_full.shape)"
   ]
  },
  {
   "attachments": {},
   "cell_type": "markdown",
   "metadata": {},
   "source": [
    "В тестовой выборке меньше колонок, чем в остальных на 34\n",
    "Посмотрим что это за поля"
   ]
  },
  {
   "cell_type": "code",
   "execution_count": 239,
   "metadata": {},
   "outputs": [
    {
     "name": "stdout",
     "output_type": "stream",
     "text": [
      "Количество столбцов, которых нет в df_test:  34\n",
      "Всего столбцов, в df_train:  87\n",
      "Оставшееся количество столбцов 53\n"
     ]
    },
    {
     "data": {
      "text/plain": [
       "['final.output.concentrate_ag',\n",
       " 'final.output.concentrate_pb',\n",
       " 'final.output.concentrate_sol',\n",
       " 'final.output.concentrate_au',\n",
       " 'final.output.recovery',\n",
       " 'final.output.tail_ag',\n",
       " 'final.output.tail_pb',\n",
       " 'final.output.tail_sol',\n",
       " 'final.output.tail_au',\n",
       " 'primary_cleaner.output.concentrate_ag',\n",
       " 'primary_cleaner.output.concentrate_pb',\n",
       " 'primary_cleaner.output.concentrate_sol',\n",
       " 'primary_cleaner.output.concentrate_au',\n",
       " 'primary_cleaner.output.tail_ag',\n",
       " 'primary_cleaner.output.tail_pb',\n",
       " 'primary_cleaner.output.tail_sol',\n",
       " 'primary_cleaner.output.tail_au',\n",
       " 'rougher.calculation.sulfate_to_au_concentrate',\n",
       " 'rougher.calculation.floatbank10_sulfate_to_au_feed',\n",
       " 'rougher.calculation.floatbank11_sulfate_to_au_feed',\n",
       " 'rougher.calculation.au_pb_ratio',\n",
       " 'rougher.output.concentrate_ag',\n",
       " 'rougher.output.concentrate_pb',\n",
       " 'rougher.output.concentrate_sol',\n",
       " 'rougher.output.concentrate_au',\n",
       " 'rougher.output.recovery',\n",
       " 'rougher.output.tail_ag',\n",
       " 'rougher.output.tail_pb',\n",
       " 'rougher.output.tail_sol',\n",
       " 'rougher.output.tail_au',\n",
       " 'secondary_cleaner.output.tail_ag',\n",
       " 'secondary_cleaner.output.tail_pb',\n",
       " 'secondary_cleaner.output.tail_sol',\n",
       " 'secondary_cleaner.output.tail_au']"
      ]
     },
     "execution_count": 239,
     "metadata": {},
     "output_type": "execute_result"
    }
   ],
   "source": [
    "lost_cols = []\n",
    "for col in df_full.columns:\n",
    "    if col not in df_test.columns: lost_cols.append(col)\n",
    "print ('Количество столбцов, которых нет в df_test: ', len(lost_cols))\n",
    "print ('Всего столбцов, в df_train: ', len(df_train.columns))\n",
    "print ('Оставшееся количество столбцов', len(df_train.columns)-len(lost_cols))\n",
    "lost_cols"
   ]
  },
  {
   "attachments": {},
   "cell_type": "markdown",
   "metadata": {},
   "source": [
    "1. Мы видим, что все поля, которых нет в df_test содержат в себе параметр output, это может говорить о том, что параметры продукта нам известны только в обучающей выборке, а в тестовой нам эти параметры не дают.  \n",
    "Список новых полей достаточно большой. Будет полезным оставить здесь краткую информацию о процессах.  \n",
    "\n",
    "--------------------------\n",
    "Стадии:\n",
    "* rougher — флотация\n",
    "* primary_cleaner — первичная очистка\n",
    "* secondary_cleaner — вторичная очистка\n",
    "* final — финальные характеристики\n",
    "-------------------------------\n",
    "Параметры:\n",
    "* input — параметры сырья\n",
    "* output — параметры продукта\n",
    "* state — параметры, характеризующие текущее состояние этапа\n",
    "* calculation — расчётные характеристики"
   ]
  },
  {
   "cell_type": "code",
   "execution_count": 240,
   "metadata": {},
   "outputs": [
    {
     "data": {
      "text/plain": [
       "'Технологический процесс'"
      ]
     },
     "metadata": {},
     "output_type": "display_data"
    },
    {
     "data": {
      "text/html": [
       "<img src=\"https://pictures.s3.yandex.net/resources/viruchka_1576238830.jpg\" width=\"800\"/>"
      ],
      "text/plain": [
       "<IPython.core.display.Image object>"
      ]
     },
     "metadata": {},
     "output_type": "display_data"
    }
   ],
   "source": [
    "display('Технологический процесс', Image(url='https://pictures.s3.yandex.net/resources/viruchka_1576238830.jpg',width = 800))"
   ]
  },
  {
   "attachments": {},
   "cell_type": "markdown",
   "metadata": {},
   "source": [
    "1. **Флотация**\n",
    "Во флотационную установку подаётся смесь золотосодержащей руды. После обогащения получается черновой концентрат и «отвальные хвосты», то есть остатки продукта с низкой концентрацией ценных металлов.\n",
    "На стабильность этого процесса влияет непостоянное и неоптимальное физико-химическое состояние флотационной пульпы (смеси твёрдых частиц и жидкости).\n",
    "2. **Очистка** \n",
    "Черновой концентрат проходит две очистки. На выходе получается финальный концентрат и новые отвальные хвосты."
   ]
  },
  {
   "cell_type": "code",
   "execution_count": 241,
   "metadata": {},
   "outputs": [
    {
     "data": {
      "text/plain": [
       "'Эффективность обогащения рассчитывается по формуле'"
      ]
     },
     "metadata": {},
     "output_type": "display_data"
    },
    {
     "data": {
      "text/html": [
       "<img src=\"https://pictures.s3.yandex.net/resources/Recovery_1576238822.jpg\" width=\"800\"/>"
      ],
      "text/plain": [
       "<IPython.core.display.Image object>"
      ]
     },
     "metadata": {},
     "output_type": "display_data"
    }
   ],
   "source": [
    "display('Эффективность обогащения рассчитывается по формуле', Image(url='https://pictures.s3.yandex.net/resources/Recovery_1576238822.jpg',width = 800))"
   ]
  },
  {
   "attachments": {},
   "cell_type": "markdown",
   "metadata": {},
   "source": [
    "* C — доля золота в концентрате после флотации/очистки;\n",
    "* F — доля золота в сырье/концентрате до флотации/очистки;\n",
    "* T — доля золота в отвальных хвостах после флотации/очистки."
   ]
  },
  {
   "attachments": {},
   "cell_type": "markdown",
   "metadata": {},
   "source": [
    "Другие признаки (Технологический процесс):  \n",
    "\n",
    "* Rougher feed — исходное сырье\n",
    "* Rougher additions (или reagent additions) — флотационные реагенты: Xanthate, Sulphate, Depressant\n",
    "* Xanthate **— ксантогенат (промотер, или активатор флотации);\n",
    "* Sulphate — сульфат (на данном производстве сульфид натрия);\n",
    "* Depressant — депрессант (силикат натрия).\n",
    "* Rougher process (англ. «грубый процесс») — флотация\n",
    "* Rougher tails — отвальные хвосты\n",
    "* Float banks — флотационная установка\n",
    "* Cleaner process — очистка\n",
    "* Rougher Au — черновой концентрат золота\n",
    "* Final Au — финальный концентрат золота\n",
    "\n",
    "-------------------\n",
    "* air amount — объём воздуха\n",
    "* fluid levels — уровень жидкости\n",
    "* feed size — размер гранул сырья\n",
    "* feed rate — скорость подачи"
   ]
  },
  {
   "cell_type": "code",
   "execution_count": 242,
   "metadata": {},
   "outputs": [
    {
     "data": {
      "text/plain": [
       "'Метрика sMAPE вычисляется так:'"
      ]
     },
     "metadata": {},
     "output_type": "display_data"
    },
    {
     "data": {
      "text/html": [
       "<img src=\"https://pictures.s3.yandex.net/resources/smape_1576238825.jpg\" width=\"800\"/>"
      ],
      "text/plain": [
       "<IPython.core.display.Image object>"
      ]
     },
     "metadata": {},
     "output_type": "display_data"
    }
   ],
   "source": [
    "display('Метрика sMAPE вычисляется так:', Image(url='https://pictures.s3.yandex.net/resources/smape_1576238825.jpg',width = 800))"
   ]
  },
  {
   "cell_type": "code",
   "execution_count": 243,
   "metadata": {},
   "outputs": [
    {
     "data": {
      "text/plain": [
       "'Итоговая метрика складывается из двух величин::'"
      ]
     },
     "metadata": {},
     "output_type": "display_data"
    },
    {
     "data": {
      "text/html": [
       "<img src=\"https://pictures.s3.yandex.net/resources/_smape_1576238814.jpg\" width=\"800\"/>"
      ],
      "text/plain": [
       "<IPython.core.display.Image object>"
      ]
     },
     "metadata": {},
     "output_type": "display_data"
    }
   ],
   "source": [
    "display('Итоговая метрика складывается из двух величин::', Image(url='https://pictures.s3.yandex.net/resources/_smape_1576238814.jpg',width = 800))"
   ]
  },
  {
   "attachments": {},
   "cell_type": "markdown",
   "metadata": {},
   "source": [
    "#### Вывод после ознакомления с датафреймом и технологическим процессом.\n",
    "1. У нас 2 больших этапа, на выходе из которых на этапе мы получаем черновой концентрат (rough), после чего из него получается финальный продукт (final)\n",
    "2. Нам нужно будет проверить качество данных, после чего для каждого из этапов разработать модель, позволяющую предсказывать итог с минимальным mApe (относительный MAP)\n",
    "3. После предобработки данных нам потребуется разбить все признаки по этапам, выполнить предобработку, после чего подобрать наилучший вид модели с наилучшими глобальными параметрами."
   ]
  },
  {
   "cell_type": "code",
   "execution_count": 244,
   "metadata": {},
   "outputs": [
    {
     "data": {
      "text/html": [
       "<div>\n",
       "<style scoped>\n",
       "    .dataframe tbody tr th:only-of-type {\n",
       "        vertical-align: middle;\n",
       "    }\n",
       "\n",
       "    .dataframe tbody tr th {\n",
       "        vertical-align: top;\n",
       "    }\n",
       "\n",
       "    .dataframe thead th {\n",
       "        text-align: right;\n",
       "    }\n",
       "</style>\n",
       "<table border=\"1\" class=\"dataframe\">\n",
       "  <thead>\n",
       "    <tr style=\"text-align: right;\">\n",
       "      <th></th>\n",
       "      <th>missed_values</th>\n",
       "    </tr>\n",
       "  </thead>\n",
       "  <tbody>\n",
       "    <tr>\n",
       "      <th>secondary_cleaner.output.tail_sol</th>\n",
       "      <td>1605</td>\n",
       "    </tr>\n",
       "    <tr>\n",
       "      <th>rougher.state.floatbank10_e_air</th>\n",
       "      <td>436</td>\n",
       "    </tr>\n",
       "    <tr>\n",
       "      <th>rougher.input.floatbank11_xanthate</th>\n",
       "      <td>428</td>\n",
       "    </tr>\n",
       "    <tr>\n",
       "      <th>primary_cleaner.output.concentrate_sol</th>\n",
       "      <td>286</td>\n",
       "    </tr>\n",
       "    <tr>\n",
       "      <th>secondary_cleaner.state.floatbank2_a_air</th>\n",
       "      <td>217</td>\n",
       "    </tr>\n",
       "    <tr>\n",
       "      <th>final.output.concentrate_sol</th>\n",
       "      <td>211</td>\n",
       "    </tr>\n",
       "    <tr>\n",
       "      <th>rougher.input.feed_size</th>\n",
       "      <td>144</td>\n",
       "    </tr>\n",
       "    <tr>\n",
       "      <th>primary_cleaner.input.xanthate</th>\n",
       "      <td>100</td>\n",
       "    </tr>\n",
       "    <tr>\n",
       "      <th>rougher.input.feed_pb</th>\n",
       "      <td>100</td>\n",
       "    </tr>\n",
       "    <tr>\n",
       "      <th>final.output.tail_pb</th>\n",
       "      <td>100</td>\n",
       "    </tr>\n",
       "    <tr>\n",
       "      <th>primary_cleaner.output.concentrate_pb</th>\n",
       "      <td>86</td>\n",
       "    </tr>\n",
       "    <tr>\n",
       "      <th>rougher.input.feed_sol</th>\n",
       "      <td>78</td>\n",
       "    </tr>\n",
       "    <tr>\n",
       "      <th>primary_cleaner.output.tail_sol</th>\n",
       "      <td>46</td>\n",
       "    </tr>\n",
       "    <tr>\n",
       "      <th>rougher.input.floatbank11_sulfate</th>\n",
       "      <td>36</td>\n",
       "    </tr>\n",
       "    <tr>\n",
       "      <th>primary_cleaner.input.depressant</th>\n",
       "      <td>32</td>\n",
       "    </tr>\n",
       "    <tr>\n",
       "      <th>rougher.input.floatbank10_sulfate</th>\n",
       "      <td>29</td>\n",
       "    </tr>\n",
       "    <tr>\n",
       "      <th>rougher.output.concentrate_sol</th>\n",
       "      <td>22</td>\n",
       "    </tr>\n",
       "    <tr>\n",
       "      <th>secondary_cleaner.state.floatbank2_b_air</th>\n",
       "      <td>21</td>\n",
       "    </tr>\n",
       "    <tr>\n",
       "      <th>primary_cleaner.input.sulfate</th>\n",
       "      <td>20</td>\n",
       "    </tr>\n",
       "    <tr>\n",
       "      <th>primary_cleaner.output.tail_pb</th>\n",
       "      <td>15</td>\n",
       "    </tr>\n",
       "    <tr>\n",
       "      <th>secondary_cleaner.output.tail_pb</th>\n",
       "      <td>10</td>\n",
       "    </tr>\n",
       "    <tr>\n",
       "      <th>rougher.input.feed_rate</th>\n",
       "      <td>8</td>\n",
       "    </tr>\n",
       "    <tr>\n",
       "      <th>rougher.input.floatbank10_xanthate</th>\n",
       "      <td>8</td>\n",
       "    </tr>\n",
       "    <tr>\n",
       "      <th>secondary_cleaner.state.floatbank4_a_air</th>\n",
       "      <td>6</td>\n",
       "    </tr>\n",
       "    <tr>\n",
       "      <th>final.output.tail_sol</th>\n",
       "      <td>5</td>\n",
       "    </tr>\n",
       "    <tr>\n",
       "      <th>secondary_cleaner.state.floatbank3_a_air</th>\n",
       "      <td>4</td>\n",
       "    </tr>\n",
       "    <tr>\n",
       "      <th>primary_cleaner.state.floatbank8_a_air</th>\n",
       "      <td>4</td>\n",
       "    </tr>\n",
       "    <tr>\n",
       "      <th>primary_cleaner.state.floatbank8_b_air</th>\n",
       "      <td>4</td>\n",
       "    </tr>\n",
       "    <tr>\n",
       "      <th>primary_cleaner.state.floatbank8_d_air</th>\n",
       "      <td>3</td>\n",
       "    </tr>\n",
       "    <tr>\n",
       "      <th>primary_cleaner.state.floatbank8_c_air</th>\n",
       "      <td>2</td>\n",
       "    </tr>\n",
       "    <tr>\n",
       "      <th>secondary_cleaner.output.tail_ag</th>\n",
       "      <td>2</td>\n",
       "    </tr>\n",
       "    <tr>\n",
       "      <th>secondary_cleaner.state.floatbank6_a_air</th>\n",
       "      <td>2</td>\n",
       "    </tr>\n",
       "    <tr>\n",
       "      <th>rougher.state.floatbank10_b_level</th>\n",
       "      <td>1</td>\n",
       "    </tr>\n",
       "    <tr>\n",
       "      <th>rougher.state.floatbank10_b_air</th>\n",
       "      <td>1</td>\n",
       "    </tr>\n",
       "    <tr>\n",
       "      <th>rougher.state.floatbank10_c_level</th>\n",
       "      <td>1</td>\n",
       "    </tr>\n",
       "    <tr>\n",
       "      <th>rougher.state.floatbank10_c_air</th>\n",
       "      <td>1</td>\n",
       "    </tr>\n",
       "    <tr>\n",
       "      <th>secondary_cleaner.state.floatbank3_a_level</th>\n",
       "      <td>1</td>\n",
       "    </tr>\n",
       "    <tr>\n",
       "      <th>secondary_cleaner.state.floatbank2_a_level</th>\n",
       "      <td>1</td>\n",
       "    </tr>\n",
       "    <tr>\n",
       "      <th>secondary_cleaner.state.floatbank2_b_level</th>\n",
       "      <td>1</td>\n",
       "    </tr>\n",
       "    <tr>\n",
       "      <th>rougher.state.floatbank10_a_air</th>\n",
       "      <td>1</td>\n",
       "    </tr>\n",
       "    <tr>\n",
       "      <th>secondary_cleaner.state.floatbank3_b_air</th>\n",
       "      <td>1</td>\n",
       "    </tr>\n",
       "    <tr>\n",
       "      <th>secondary_cleaner.state.floatbank3_b_level</th>\n",
       "      <td>1</td>\n",
       "    </tr>\n",
       "    <tr>\n",
       "      <th>secondary_cleaner.state.floatbank4_a_level</th>\n",
       "      <td>1</td>\n",
       "    </tr>\n",
       "    <tr>\n",
       "      <th>secondary_cleaner.state.floatbank4_b_air</th>\n",
       "      <td>1</td>\n",
       "    </tr>\n",
       "    <tr>\n",
       "      <th>secondary_cleaner.state.floatbank4_b_level</th>\n",
       "      <td>1</td>\n",
       "    </tr>\n",
       "    <tr>\n",
       "      <th>secondary_cleaner.state.floatbank5_a_air</th>\n",
       "      <td>1</td>\n",
       "    </tr>\n",
       "    <tr>\n",
       "      <th>secondary_cleaner.state.floatbank5_a_level</th>\n",
       "      <td>1</td>\n",
       "    </tr>\n",
       "    <tr>\n",
       "      <th>secondary_cleaner.state.floatbank5_b_air</th>\n",
       "      <td>1</td>\n",
       "    </tr>\n",
       "    <tr>\n",
       "      <th>secondary_cleaner.state.floatbank5_b_level</th>\n",
       "      <td>1</td>\n",
       "    </tr>\n",
       "    <tr>\n",
       "      <th>rougher.state.floatbank10_a_level</th>\n",
       "      <td>1</td>\n",
       "    </tr>\n",
       "    <tr>\n",
       "      <th>secondary_cleaner.state.floatbank6_a_level</th>\n",
       "      <td>1</td>\n",
       "    </tr>\n",
       "    <tr>\n",
       "      <th>rougher.calculation.floatbank11_sulfate_to_au_feed</th>\n",
       "      <td>1</td>\n",
       "    </tr>\n",
       "    <tr>\n",
       "      <th>rougher.calculation.floatbank10_sulfate_to_au_feed</th>\n",
       "      <td>1</td>\n",
       "    </tr>\n",
       "    <tr>\n",
       "      <th>primary_cleaner.state.floatbank8_d_level</th>\n",
       "      <td>1</td>\n",
       "    </tr>\n",
       "    <tr>\n",
       "      <th>primary_cleaner.state.floatbank8_c_level</th>\n",
       "      <td>1</td>\n",
       "    </tr>\n",
       "    <tr>\n",
       "      <th>primary_cleaner.state.floatbank8_b_level</th>\n",
       "      <td>1</td>\n",
       "    </tr>\n",
       "    <tr>\n",
       "      <th>primary_cleaner.state.floatbank8_a_level</th>\n",
       "      <td>1</td>\n",
       "    </tr>\n",
       "    <tr>\n",
       "      <th>primary_cleaner.output.tail_ag</th>\n",
       "      <td>1</td>\n",
       "    </tr>\n",
       "    <tr>\n",
       "      <th>final.output.concentrate_ag</th>\n",
       "      <td>1</td>\n",
       "    </tr>\n",
       "    <tr>\n",
       "      <th>rougher.calculation.sulfate_to_au_concentrate</th>\n",
       "      <td>1</td>\n",
       "    </tr>\n",
       "    <tr>\n",
       "      <th>rougher.output.tail_ag</th>\n",
       "      <td>1</td>\n",
       "    </tr>\n",
       "    <tr>\n",
       "      <th>final.output.concentrate_pb</th>\n",
       "      <td>1</td>\n",
       "    </tr>\n",
       "  </tbody>\n",
       "</table>\n",
       "</div>"
      ],
      "text/plain": [
       "                                                    missed_values\n",
       "secondary_cleaner.output.tail_sol                            1605\n",
       "rougher.state.floatbank10_e_air                               436\n",
       "rougher.input.floatbank11_xanthate                            428\n",
       "primary_cleaner.output.concentrate_sol                        286\n",
       "secondary_cleaner.state.floatbank2_a_air                      217\n",
       "final.output.concentrate_sol                                  211\n",
       "rougher.input.feed_size                                       144\n",
       "primary_cleaner.input.xanthate                                100\n",
       "rougher.input.feed_pb                                         100\n",
       "final.output.tail_pb                                          100\n",
       "primary_cleaner.output.concentrate_pb                          86\n",
       "rougher.input.feed_sol                                         78\n",
       "primary_cleaner.output.tail_sol                                46\n",
       "rougher.input.floatbank11_sulfate                              36\n",
       "primary_cleaner.input.depressant                               32\n",
       "rougher.input.floatbank10_sulfate                              29\n",
       "rougher.output.concentrate_sol                                 22\n",
       "secondary_cleaner.state.floatbank2_b_air                       21\n",
       "primary_cleaner.input.sulfate                                  20\n",
       "primary_cleaner.output.tail_pb                                 15\n",
       "secondary_cleaner.output.tail_pb                               10\n",
       "rougher.input.feed_rate                                         8\n",
       "rougher.input.floatbank10_xanthate                              8\n",
       "secondary_cleaner.state.floatbank4_a_air                        6\n",
       "final.output.tail_sol                                           5\n",
       "secondary_cleaner.state.floatbank3_a_air                        4\n",
       "primary_cleaner.state.floatbank8_a_air                          4\n",
       "primary_cleaner.state.floatbank8_b_air                          4\n",
       "primary_cleaner.state.floatbank8_d_air                          3\n",
       "primary_cleaner.state.floatbank8_c_air                          2\n",
       "secondary_cleaner.output.tail_ag                                2\n",
       "secondary_cleaner.state.floatbank6_a_air                        2\n",
       "rougher.state.floatbank10_b_level                               1\n",
       "rougher.state.floatbank10_b_air                                 1\n",
       "rougher.state.floatbank10_c_level                               1\n",
       "rougher.state.floatbank10_c_air                                 1\n",
       "secondary_cleaner.state.floatbank3_a_level                      1\n",
       "secondary_cleaner.state.floatbank2_a_level                      1\n",
       "secondary_cleaner.state.floatbank2_b_level                      1\n",
       "rougher.state.floatbank10_a_air                                 1\n",
       "secondary_cleaner.state.floatbank3_b_air                        1\n",
       "secondary_cleaner.state.floatbank3_b_level                      1\n",
       "secondary_cleaner.state.floatbank4_a_level                      1\n",
       "secondary_cleaner.state.floatbank4_b_air                        1\n",
       "secondary_cleaner.state.floatbank4_b_level                      1\n",
       "secondary_cleaner.state.floatbank5_a_air                        1\n",
       "secondary_cleaner.state.floatbank5_a_level                      1\n",
       "secondary_cleaner.state.floatbank5_b_air                        1\n",
       "secondary_cleaner.state.floatbank5_b_level                      1\n",
       "rougher.state.floatbank10_a_level                               1\n",
       "secondary_cleaner.state.floatbank6_a_level                      1\n",
       "rougher.calculation.floatbank11_sulfate_to_au_feed              1\n",
       "rougher.calculation.floatbank10_sulfate_to_au_feed              1\n",
       "primary_cleaner.state.floatbank8_d_level                        1\n",
       "primary_cleaner.state.floatbank8_c_level                        1\n",
       "primary_cleaner.state.floatbank8_b_level                        1\n",
       "primary_cleaner.state.floatbank8_a_level                        1\n",
       "primary_cleaner.output.tail_ag                                  1\n",
       "final.output.concentrate_ag                                     1\n",
       "rougher.calculation.sulfate_to_au_concentrate                   1\n",
       "rougher.output.tail_ag                                          1\n",
       "final.output.concentrate_pb                                     1"
      ]
     },
     "execution_count": 244,
     "metadata": {},
     "output_type": "execute_result"
    }
   ],
   "source": [
    "pd.options.display.max_rows = 100\n",
    "pd.options.display.max_columns = 100\n",
    "dataframes = [df_train,df_full,df_test] #На протяжении проекты мы будем работать 3 датафреймами, удобно будет создать список для функций.\n",
    "def null_df(df):\n",
    "    return (\n",
    "    df.isna()\n",
    "        .sum()\n",
    "        .sort_values(ascending=False)\n",
    "        .loc[lambda x: x > 0]\n",
    "        .to_frame())\n",
    "\n",
    "\n",
    "df = null_df(df_train)\n",
    "df.columns = ['missed_values']\n",
    "df\n"
   ]
  },
  {
   "cell_type": "code",
   "execution_count": 245,
   "metadata": {},
   "outputs": [
    {
     "data": {
      "text/html": [
       "<div>\n",
       "<style scoped>\n",
       "    .dataframe tbody tr th:only-of-type {\n",
       "        vertical-align: middle;\n",
       "    }\n",
       "\n",
       "    .dataframe tbody tr th {\n",
       "        vertical-align: top;\n",
       "    }\n",
       "\n",
       "    .dataframe thead th {\n",
       "        text-align: right;\n",
       "    }\n",
       "</style>\n",
       "<table border=\"1\" class=\"dataframe\">\n",
       "  <thead>\n",
       "    <tr style=\"text-align: right;\">\n",
       "      <th></th>\n",
       "      <th></th>\n",
       "      <th>product</th>\n",
       "    </tr>\n",
       "    <tr>\n",
       "      <th>stage</th>\n",
       "      <th>parametr</th>\n",
       "      <th></th>\n",
       "    </tr>\n",
       "  </thead>\n",
       "  <tbody>\n",
       "    <tr>\n",
       "      <th>final</th>\n",
       "      <th>output</th>\n",
       "      <td>9</td>\n",
       "    </tr>\n",
       "    <tr>\n",
       "      <th rowspan=\"3\" valign=\"top\">primary_cleaner</th>\n",
       "      <th>input</th>\n",
       "      <td>4</td>\n",
       "    </tr>\n",
       "    <tr>\n",
       "      <th>output</th>\n",
       "      <td>8</td>\n",
       "    </tr>\n",
       "    <tr>\n",
       "      <th>state</th>\n",
       "      <td>8</td>\n",
       "    </tr>\n",
       "    <tr>\n",
       "      <th rowspan=\"4\" valign=\"top\">rougher</th>\n",
       "      <th>calculation</th>\n",
       "      <td>4</td>\n",
       "    </tr>\n",
       "    <tr>\n",
       "      <th>input</th>\n",
       "      <td>10</td>\n",
       "    </tr>\n",
       "    <tr>\n",
       "      <th>output</th>\n",
       "      <td>9</td>\n",
       "    </tr>\n",
       "    <tr>\n",
       "      <th>state</th>\n",
       "      <td>12</td>\n",
       "    </tr>\n",
       "    <tr>\n",
       "      <th rowspan=\"2\" valign=\"top\">secondary_cleaner</th>\n",
       "      <th>output</th>\n",
       "      <td>4</td>\n",
       "    </tr>\n",
       "    <tr>\n",
       "      <th>state</th>\n",
       "      <td>18</td>\n",
       "    </tr>\n",
       "  </tbody>\n",
       "</table>\n",
       "</div>"
      ],
      "text/plain": [
       "                               product\n",
       "stage             parametr            \n",
       "final             output             9\n",
       "primary_cleaner   input              4\n",
       "                  output             8\n",
       "                  state              8\n",
       "rougher           calculation        4\n",
       "                  input             10\n",
       "                  output             9\n",
       "                  state             12\n",
       "secondary_cleaner output             4\n",
       "                  state             18"
      ]
     },
     "metadata": {},
     "output_type": "display_data"
    }
   ],
   "source": [
    "df_category = pd.DataFrame(df_train.columns)\n",
    "df_category[['stage','parametr','product']]=df_category[0].str.split('.',expand=True)\n",
    "df_category = df_category.drop([0], axis = 1)\n",
    "display(df_category.groupby(['stage','parametr']).count())\n"
   ]
  },
  {
   "attachments": {},
   "cell_type": "markdown",
   "metadata": {},
   "source": [
    "Ну вот теперь список параметров начинает поддаваться пониманию.  \n",
    "Мы видим:\n",
    "* На финальной стадии есть только параметры output\n",
    "* На предшествующем этапе есть доп. параметр output\n",
    "* Больше всего параметров на этапе флотации - 35, на 1 чисткее - 20, на 2 чистке - 22, на финальной - 9\n",
    "* calculation есть только на этапе roughter"
   ]
  },
  {
   "cell_type": "code",
   "execution_count": 246,
   "metadata": {},
   "outputs": [
    {
     "data": {
      "text/plain": [
       "'Выходные данные этапа флотации'"
      ]
     },
     "metadata": {},
     "output_type": "display_data"
    },
    {
     "data": {
      "text/html": [
       "<div>\n",
       "<style scoped>\n",
       "    .dataframe tbody tr th:only-of-type {\n",
       "        vertical-align: middle;\n",
       "    }\n",
       "\n",
       "    .dataframe tbody tr th {\n",
       "        vertical-align: top;\n",
       "    }\n",
       "\n",
       "    .dataframe thead th {\n",
       "        text-align: right;\n",
       "    }\n",
       "</style>\n",
       "<table border=\"1\" class=\"dataframe\">\n",
       "  <thead>\n",
       "    <tr style=\"text-align: right;\">\n",
       "      <th></th>\n",
       "      <th>product</th>\n",
       "      <th>final</th>\n",
       "      <th>primary_cleaner</th>\n",
       "      <th>rougher</th>\n",
       "      <th>secondary_cleaner</th>\n",
       "    </tr>\n",
       "  </thead>\n",
       "  <tbody>\n",
       "    <tr>\n",
       "      <th>0</th>\n",
       "      <td>au_pb_ratio</td>\n",
       "      <td>0.0</td>\n",
       "      <td>0.0</td>\n",
       "      <td>1.0</td>\n",
       "      <td>0.0</td>\n",
       "    </tr>\n",
       "    <tr>\n",
       "      <th>1</th>\n",
       "      <td>concentrate_ag</td>\n",
       "      <td>1.0</td>\n",
       "      <td>1.0</td>\n",
       "      <td>1.0</td>\n",
       "      <td>0.0</td>\n",
       "    </tr>\n",
       "    <tr>\n",
       "      <th>2</th>\n",
       "      <td>concentrate_au</td>\n",
       "      <td>1.0</td>\n",
       "      <td>1.0</td>\n",
       "      <td>1.0</td>\n",
       "      <td>0.0</td>\n",
       "    </tr>\n",
       "    <tr>\n",
       "      <th>3</th>\n",
       "      <td>concentrate_pb</td>\n",
       "      <td>1.0</td>\n",
       "      <td>1.0</td>\n",
       "      <td>1.0</td>\n",
       "      <td>0.0</td>\n",
       "    </tr>\n",
       "    <tr>\n",
       "      <th>4</th>\n",
       "      <td>concentrate_sol</td>\n",
       "      <td>1.0</td>\n",
       "      <td>1.0</td>\n",
       "      <td>1.0</td>\n",
       "      <td>0.0</td>\n",
       "    </tr>\n",
       "    <tr>\n",
       "      <th>6</th>\n",
       "      <td>feed_ag</td>\n",
       "      <td>0.0</td>\n",
       "      <td>0.0</td>\n",
       "      <td>1.0</td>\n",
       "      <td>0.0</td>\n",
       "    </tr>\n",
       "    <tr>\n",
       "      <th>7</th>\n",
       "      <td>feed_au</td>\n",
       "      <td>0.0</td>\n",
       "      <td>0.0</td>\n",
       "      <td>1.0</td>\n",
       "      <td>0.0</td>\n",
       "    </tr>\n",
       "    <tr>\n",
       "      <th>8</th>\n",
       "      <td>feed_pb</td>\n",
       "      <td>0.0</td>\n",
       "      <td>0.0</td>\n",
       "      <td>1.0</td>\n",
       "      <td>0.0</td>\n",
       "    </tr>\n",
       "    <tr>\n",
       "      <th>9</th>\n",
       "      <td>feed_rate</td>\n",
       "      <td>0.0</td>\n",
       "      <td>0.0</td>\n",
       "      <td>1.0</td>\n",
       "      <td>0.0</td>\n",
       "    </tr>\n",
       "    <tr>\n",
       "      <th>10</th>\n",
       "      <td>feed_size</td>\n",
       "      <td>0.0</td>\n",
       "      <td>1.0</td>\n",
       "      <td>1.0</td>\n",
       "      <td>0.0</td>\n",
       "    </tr>\n",
       "    <tr>\n",
       "      <th>11</th>\n",
       "      <td>feed_sol</td>\n",
       "      <td>0.0</td>\n",
       "      <td>0.0</td>\n",
       "      <td>1.0</td>\n",
       "      <td>0.0</td>\n",
       "    </tr>\n",
       "    <tr>\n",
       "      <th>12</th>\n",
       "      <td>floatbank10_a_air</td>\n",
       "      <td>0.0</td>\n",
       "      <td>0.0</td>\n",
       "      <td>1.0</td>\n",
       "      <td>0.0</td>\n",
       "    </tr>\n",
       "    <tr>\n",
       "      <th>13</th>\n",
       "      <td>floatbank10_a_level</td>\n",
       "      <td>0.0</td>\n",
       "      <td>0.0</td>\n",
       "      <td>1.0</td>\n",
       "      <td>0.0</td>\n",
       "    </tr>\n",
       "    <tr>\n",
       "      <th>14</th>\n",
       "      <td>floatbank10_b_air</td>\n",
       "      <td>0.0</td>\n",
       "      <td>0.0</td>\n",
       "      <td>1.0</td>\n",
       "      <td>0.0</td>\n",
       "    </tr>\n",
       "    <tr>\n",
       "      <th>15</th>\n",
       "      <td>floatbank10_b_level</td>\n",
       "      <td>0.0</td>\n",
       "      <td>0.0</td>\n",
       "      <td>1.0</td>\n",
       "      <td>0.0</td>\n",
       "    </tr>\n",
       "    <tr>\n",
       "      <th>16</th>\n",
       "      <td>floatbank10_c_air</td>\n",
       "      <td>0.0</td>\n",
       "      <td>0.0</td>\n",
       "      <td>1.0</td>\n",
       "      <td>0.0</td>\n",
       "    </tr>\n",
       "    <tr>\n",
       "      <th>17</th>\n",
       "      <td>floatbank10_c_level</td>\n",
       "      <td>0.0</td>\n",
       "      <td>0.0</td>\n",
       "      <td>1.0</td>\n",
       "      <td>0.0</td>\n",
       "    </tr>\n",
       "    <tr>\n",
       "      <th>18</th>\n",
       "      <td>floatbank10_d_air</td>\n",
       "      <td>0.0</td>\n",
       "      <td>0.0</td>\n",
       "      <td>1.0</td>\n",
       "      <td>0.0</td>\n",
       "    </tr>\n",
       "    <tr>\n",
       "      <th>19</th>\n",
       "      <td>floatbank10_d_level</td>\n",
       "      <td>0.0</td>\n",
       "      <td>0.0</td>\n",
       "      <td>1.0</td>\n",
       "      <td>0.0</td>\n",
       "    </tr>\n",
       "    <tr>\n",
       "      <th>20</th>\n",
       "      <td>floatbank10_e_air</td>\n",
       "      <td>0.0</td>\n",
       "      <td>0.0</td>\n",
       "      <td>1.0</td>\n",
       "      <td>0.0</td>\n",
       "    </tr>\n",
       "    <tr>\n",
       "      <th>21</th>\n",
       "      <td>floatbank10_e_level</td>\n",
       "      <td>0.0</td>\n",
       "      <td>0.0</td>\n",
       "      <td>1.0</td>\n",
       "      <td>0.0</td>\n",
       "    </tr>\n",
       "    <tr>\n",
       "      <th>22</th>\n",
       "      <td>floatbank10_f_air</td>\n",
       "      <td>0.0</td>\n",
       "      <td>0.0</td>\n",
       "      <td>1.0</td>\n",
       "      <td>0.0</td>\n",
       "    </tr>\n",
       "    <tr>\n",
       "      <th>23</th>\n",
       "      <td>floatbank10_f_level</td>\n",
       "      <td>0.0</td>\n",
       "      <td>0.0</td>\n",
       "      <td>1.0</td>\n",
       "      <td>0.0</td>\n",
       "    </tr>\n",
       "    <tr>\n",
       "      <th>24</th>\n",
       "      <td>floatbank10_sulfate</td>\n",
       "      <td>0.0</td>\n",
       "      <td>0.0</td>\n",
       "      <td>1.0</td>\n",
       "      <td>0.0</td>\n",
       "    </tr>\n",
       "    <tr>\n",
       "      <th>25</th>\n",
       "      <td>floatbank10_sulfate_to_au_feed</td>\n",
       "      <td>0.0</td>\n",
       "      <td>0.0</td>\n",
       "      <td>1.0</td>\n",
       "      <td>0.0</td>\n",
       "    </tr>\n",
       "    <tr>\n",
       "      <th>26</th>\n",
       "      <td>floatbank10_xanthate</td>\n",
       "      <td>0.0</td>\n",
       "      <td>0.0</td>\n",
       "      <td>1.0</td>\n",
       "      <td>0.0</td>\n",
       "    </tr>\n",
       "    <tr>\n",
       "      <th>27</th>\n",
       "      <td>floatbank11_sulfate</td>\n",
       "      <td>0.0</td>\n",
       "      <td>0.0</td>\n",
       "      <td>1.0</td>\n",
       "      <td>0.0</td>\n",
       "    </tr>\n",
       "    <tr>\n",
       "      <th>28</th>\n",
       "      <td>floatbank11_sulfate_to_au_feed</td>\n",
       "      <td>0.0</td>\n",
       "      <td>0.0</td>\n",
       "      <td>1.0</td>\n",
       "      <td>0.0</td>\n",
       "    </tr>\n",
       "    <tr>\n",
       "      <th>29</th>\n",
       "      <td>floatbank11_xanthate</td>\n",
       "      <td>0.0</td>\n",
       "      <td>0.0</td>\n",
       "      <td>1.0</td>\n",
       "      <td>0.0</td>\n",
       "    </tr>\n",
       "    <tr>\n",
       "      <th>56</th>\n",
       "      <td>recovery</td>\n",
       "      <td>1.0</td>\n",
       "      <td>0.0</td>\n",
       "      <td>1.0</td>\n",
       "      <td>0.0</td>\n",
       "    </tr>\n",
       "    <tr>\n",
       "      <th>58</th>\n",
       "      <td>sulfate_to_au_concentrate</td>\n",
       "      <td>0.0</td>\n",
       "      <td>0.0</td>\n",
       "      <td>1.0</td>\n",
       "      <td>0.0</td>\n",
       "    </tr>\n",
       "    <tr>\n",
       "      <th>59</th>\n",
       "      <td>tail_ag</td>\n",
       "      <td>1.0</td>\n",
       "      <td>1.0</td>\n",
       "      <td>1.0</td>\n",
       "      <td>1.0</td>\n",
       "    </tr>\n",
       "    <tr>\n",
       "      <th>60</th>\n",
       "      <td>tail_au</td>\n",
       "      <td>1.0</td>\n",
       "      <td>1.0</td>\n",
       "      <td>1.0</td>\n",
       "      <td>1.0</td>\n",
       "    </tr>\n",
       "    <tr>\n",
       "      <th>61</th>\n",
       "      <td>tail_pb</td>\n",
       "      <td>1.0</td>\n",
       "      <td>1.0</td>\n",
       "      <td>1.0</td>\n",
       "      <td>1.0</td>\n",
       "    </tr>\n",
       "    <tr>\n",
       "      <th>62</th>\n",
       "      <td>tail_sol</td>\n",
       "      <td>1.0</td>\n",
       "      <td>1.0</td>\n",
       "      <td>1.0</td>\n",
       "      <td>1.0</td>\n",
       "    </tr>\n",
       "  </tbody>\n",
       "</table>\n",
       "</div>"
      ],
      "text/plain": [
       "                           product  final  primary_cleaner  rougher  \\\n",
       "0                      au_pb_ratio    0.0              0.0      1.0   \n",
       "1                   concentrate_ag    1.0              1.0      1.0   \n",
       "2                   concentrate_au    1.0              1.0      1.0   \n",
       "3                   concentrate_pb    1.0              1.0      1.0   \n",
       "4                  concentrate_sol    1.0              1.0      1.0   \n",
       "6                          feed_ag    0.0              0.0      1.0   \n",
       "7                          feed_au    0.0              0.0      1.0   \n",
       "8                          feed_pb    0.0              0.0      1.0   \n",
       "9                        feed_rate    0.0              0.0      1.0   \n",
       "10                       feed_size    0.0              1.0      1.0   \n",
       "11                        feed_sol    0.0              0.0      1.0   \n",
       "12               floatbank10_a_air    0.0              0.0      1.0   \n",
       "13             floatbank10_a_level    0.0              0.0      1.0   \n",
       "14               floatbank10_b_air    0.0              0.0      1.0   \n",
       "15             floatbank10_b_level    0.0              0.0      1.0   \n",
       "16               floatbank10_c_air    0.0              0.0      1.0   \n",
       "17             floatbank10_c_level    0.0              0.0      1.0   \n",
       "18               floatbank10_d_air    0.0              0.0      1.0   \n",
       "19             floatbank10_d_level    0.0              0.0      1.0   \n",
       "20               floatbank10_e_air    0.0              0.0      1.0   \n",
       "21             floatbank10_e_level    0.0              0.0      1.0   \n",
       "22               floatbank10_f_air    0.0              0.0      1.0   \n",
       "23             floatbank10_f_level    0.0              0.0      1.0   \n",
       "24             floatbank10_sulfate    0.0              0.0      1.0   \n",
       "25  floatbank10_sulfate_to_au_feed    0.0              0.0      1.0   \n",
       "26            floatbank10_xanthate    0.0              0.0      1.0   \n",
       "27             floatbank11_sulfate    0.0              0.0      1.0   \n",
       "28  floatbank11_sulfate_to_au_feed    0.0              0.0      1.0   \n",
       "29            floatbank11_xanthate    0.0              0.0      1.0   \n",
       "56                        recovery    1.0              0.0      1.0   \n",
       "58       sulfate_to_au_concentrate    0.0              0.0      1.0   \n",
       "59                         tail_ag    1.0              1.0      1.0   \n",
       "60                         tail_au    1.0              1.0      1.0   \n",
       "61                         tail_pb    1.0              1.0      1.0   \n",
       "62                        tail_sol    1.0              1.0      1.0   \n",
       "\n",
       "    secondary_cleaner  \n",
       "0                 0.0  \n",
       "1                 0.0  \n",
       "2                 0.0  \n",
       "3                 0.0  \n",
       "4                 0.0  \n",
       "6                 0.0  \n",
       "7                 0.0  \n",
       "8                 0.0  \n",
       "9                 0.0  \n",
       "10                0.0  \n",
       "11                0.0  \n",
       "12                0.0  \n",
       "13                0.0  \n",
       "14                0.0  \n",
       "15                0.0  \n",
       "16                0.0  \n",
       "17                0.0  \n",
       "18                0.0  \n",
       "19                0.0  \n",
       "20                0.0  \n",
       "21                0.0  \n",
       "22                0.0  \n",
       "23                0.0  \n",
       "24                0.0  \n",
       "25                0.0  \n",
       "26                0.0  \n",
       "27                0.0  \n",
       "28                0.0  \n",
       "29                0.0  \n",
       "56                0.0  \n",
       "58                0.0  \n",
       "59                1.0  \n",
       "60                1.0  \n",
       "61                1.0  \n",
       "62                1.0  "
      ]
     },
     "metadata": {},
     "output_type": "display_data"
    },
    {
     "data": {
      "text/plain": [
       "'Выходные данные финального этапа'"
      ]
     },
     "metadata": {},
     "output_type": "display_data"
    },
    {
     "data": {
      "text/html": [
       "<div>\n",
       "<style scoped>\n",
       "    .dataframe tbody tr th:only-of-type {\n",
       "        vertical-align: middle;\n",
       "    }\n",
       "\n",
       "    .dataframe tbody tr th {\n",
       "        vertical-align: top;\n",
       "    }\n",
       "\n",
       "    .dataframe thead th {\n",
       "        text-align: right;\n",
       "    }\n",
       "</style>\n",
       "<table border=\"1\" class=\"dataframe\">\n",
       "  <thead>\n",
       "    <tr style=\"text-align: right;\">\n",
       "      <th></th>\n",
       "      <th>product</th>\n",
       "      <th>final</th>\n",
       "      <th>primary_cleaner</th>\n",
       "      <th>rougher</th>\n",
       "      <th>secondary_cleaner</th>\n",
       "    </tr>\n",
       "  </thead>\n",
       "  <tbody>\n",
       "    <tr>\n",
       "      <th>1</th>\n",
       "      <td>concentrate_ag</td>\n",
       "      <td>1.0</td>\n",
       "      <td>1.0</td>\n",
       "      <td>1.0</td>\n",
       "      <td>0.0</td>\n",
       "    </tr>\n",
       "    <tr>\n",
       "      <th>2</th>\n",
       "      <td>concentrate_au</td>\n",
       "      <td>1.0</td>\n",
       "      <td>1.0</td>\n",
       "      <td>1.0</td>\n",
       "      <td>0.0</td>\n",
       "    </tr>\n",
       "    <tr>\n",
       "      <th>3</th>\n",
       "      <td>concentrate_pb</td>\n",
       "      <td>1.0</td>\n",
       "      <td>1.0</td>\n",
       "      <td>1.0</td>\n",
       "      <td>0.0</td>\n",
       "    </tr>\n",
       "    <tr>\n",
       "      <th>4</th>\n",
       "      <td>concentrate_sol</td>\n",
       "      <td>1.0</td>\n",
       "      <td>1.0</td>\n",
       "      <td>1.0</td>\n",
       "      <td>0.0</td>\n",
       "    </tr>\n",
       "    <tr>\n",
       "      <th>56</th>\n",
       "      <td>recovery</td>\n",
       "      <td>1.0</td>\n",
       "      <td>0.0</td>\n",
       "      <td>1.0</td>\n",
       "      <td>0.0</td>\n",
       "    </tr>\n",
       "    <tr>\n",
       "      <th>59</th>\n",
       "      <td>tail_ag</td>\n",
       "      <td>1.0</td>\n",
       "      <td>1.0</td>\n",
       "      <td>1.0</td>\n",
       "      <td>1.0</td>\n",
       "    </tr>\n",
       "    <tr>\n",
       "      <th>60</th>\n",
       "      <td>tail_au</td>\n",
       "      <td>1.0</td>\n",
       "      <td>1.0</td>\n",
       "      <td>1.0</td>\n",
       "      <td>1.0</td>\n",
       "    </tr>\n",
       "    <tr>\n",
       "      <th>61</th>\n",
       "      <td>tail_pb</td>\n",
       "      <td>1.0</td>\n",
       "      <td>1.0</td>\n",
       "      <td>1.0</td>\n",
       "      <td>1.0</td>\n",
       "    </tr>\n",
       "    <tr>\n",
       "      <th>62</th>\n",
       "      <td>tail_sol</td>\n",
       "      <td>1.0</td>\n",
       "      <td>1.0</td>\n",
       "      <td>1.0</td>\n",
       "      <td>1.0</td>\n",
       "    </tr>\n",
       "  </tbody>\n",
       "</table>\n",
       "</div>"
      ],
      "text/plain": [
       "            product  final  primary_cleaner  rougher  secondary_cleaner\n",
       "1    concentrate_ag    1.0              1.0      1.0                0.0\n",
       "2    concentrate_au    1.0              1.0      1.0                0.0\n",
       "3    concentrate_pb    1.0              1.0      1.0                0.0\n",
       "4   concentrate_sol    1.0              1.0      1.0                0.0\n",
       "56         recovery    1.0              0.0      1.0                0.0\n",
       "59          tail_ag    1.0              1.0      1.0                1.0\n",
       "60          tail_au    1.0              1.0      1.0                1.0\n",
       "61          tail_pb    1.0              1.0      1.0                1.0\n",
       "62         tail_sol    1.0              1.0      1.0                1.0"
      ]
     },
     "metadata": {},
     "output_type": "display_data"
    }
   ],
   "source": [
    "df_pivot = pd.pivot_table(\n",
    "    data = df_category\n",
    "    ,columns=df_category['stage']\n",
    "    ,aggfunc='count'\n",
    "    ,index='product',).reset_index()\n",
    "df_pivot.columns = ['product','final','primary_cleaner','rougher','secondary_cleaner']\n",
    "df_pivot = df_pivot.fillna(0)\n",
    "df_pivot = df_pivot.reset_index(drop = True)\n",
    "#df_pivot[df_pivot['final']!= 0]\n",
    "display('Выходные данные этапа флотации',df_pivot[df_pivot['rougher']!=0])\n",
    "display('Выходные данные финального этапа',df_pivot[df_pivot['final']!=0])"
   ]
  },
  {
   "attachments": {},
   "cell_type": "markdown",
   "metadata": {},
   "source": [
    "Теперь еще проще будет брать данные для каждого этапа. Также обратил внимание на следующее:\n",
    "* Параметры tail есть на всех 4 этапах - это остатки\n",
    "* Параметры concentrate есть на всех этапах кроме secondary cleaner\n",
    "\n",
    "#### Вывод после анализа столбцов:\n",
    "* Нам удалось струтурировать столбцы\n",
    "* Понять, на каких этапах, какие данные мы получаем.\n",
    "* Понять какие продукты на какой стадии встречаются.\n",
    "* В перспективе мы готовы создавать модели для нужных этапов.\n",
    "\n",
    "#### Задание 1.2 Проверьте, что эффективность обогащения рассчитана правильно\n",
    "* Проверьте, что эффективность обогащения рассчитана правильно. Вычислите её на обучающей выборке для признака rougher.output.recovery. Найдите MAE между вашими расчётами и значением признака. Опишите выводы."
   ]
  },
  {
   "cell_type": "code",
   "execution_count": 247,
   "metadata": {},
   "outputs": [
    {
     "data": {
      "text/plain": [
       "'Эффективность обогащения рассчитывается по формуле'"
      ]
     },
     "metadata": {},
     "output_type": "display_data"
    },
    {
     "data": {
      "text/html": [
       "<img src=\"https://pictures.s3.yandex.net/resources/Recovery_1576238822.jpg\" width=\"800\"/>"
      ],
      "text/plain": [
       "<IPython.core.display.Image object>"
      ]
     },
     "metadata": {},
     "output_type": "display_data"
    }
   ],
   "source": [
    "display('Эффективность обогащения рассчитывается по формуле', Image(url='https://pictures.s3.yandex.net/resources/Recovery_1576238822.jpg',width = 800))"
   ]
  },
  {
   "attachments": {},
   "cell_type": "markdown",
   "metadata": {},
   "source": [
    "C — доля золота в концентрате после флотации/очистки;  \n",
    "F — доля золота в сырье/концентрате до флотации/очистки;  \n",
    "T — доля золота в отвальных хвостах после флотации/очистки."
   ]
  },
  {
   "attachments": {},
   "cell_type": "markdown",
   "metadata": {},
   "source": [
    "Нам надо понять какие конретно столбцы соответствуют C,F,T для"
   ]
  },
  {
   "cell_type": "code",
   "execution_count": 248,
   "metadata": {},
   "outputs": [],
   "source": [
    "# Функция расчета рекавери\n",
    "def calc_recovery(df,C,F,T):\n",
    "    return (df[C]*(df[F]-df[T]))/(df[F]*(df[C]-df[T]))*100"
   ]
  },
  {
   "cell_type": "code",
   "execution_count": 249,
   "metadata": {},
   "outputs": [
    {
     "data": {
      "text/plain": [
       "rougher.calculation.sulfate_to_au_concentrate           1\n",
       "rougher.calculation.floatbank10_sulfate_to_au_feed      1\n",
       "rougher.calculation.floatbank11_sulfate_to_au_feed      1\n",
       "rougher.calculation.au_pb_ratio                         0\n",
       "rougher.input.feed_ag                                   0\n",
       "rougher.input.feed_pb                                 100\n",
       "rougher.input.feed_rate                                 8\n",
       "rougher.input.feed_size                               144\n",
       "rougher.input.feed_sol                                 78\n",
       "rougher.input.feed_au                                   0\n",
       "rougher.input.floatbank10_sulfate                      29\n",
       "rougher.input.floatbank10_xanthate                      8\n",
       "rougher.input.floatbank11_sulfate                      36\n",
       "rougher.input.floatbank11_xanthate                    428\n",
       "rougher.output.concentrate_ag                           0\n",
       "rougher.output.concentrate_pb                           0\n",
       "rougher.output.concentrate_sol                         22\n",
       "rougher.output.concentrate_au                           0\n",
       "rougher.output.recovery                                 0\n",
       "rougher.output.tail_ag                                  1\n",
       "rougher.output.tail_pb                                  0\n",
       "rougher.output.tail_sol                                 0\n",
       "rougher.output.tail_au                                  0\n",
       "rougher.state.floatbank10_a_air                         1\n",
       "rougher.state.floatbank10_a_level                       1\n",
       "rougher.state.floatbank10_b_air                         1\n",
       "rougher.state.floatbank10_b_level                       1\n",
       "rougher.state.floatbank10_c_air                         1\n",
       "rougher.state.floatbank10_c_level                       1\n",
       "rougher.state.floatbank10_d_air                         0\n",
       "rougher.state.floatbank10_d_level                       0\n",
       "rougher.state.floatbank10_e_air                       436\n",
       "rougher.state.floatbank10_e_level                       0\n",
       "rougher.state.floatbank10_f_air                         0\n",
       "rougher.state.floatbank10_f_level                       0\n",
       "dtype: int64"
      ]
     },
     "execution_count": 249,
     "metadata": {},
     "output_type": "execute_result"
    }
   ],
   "source": [
    "df_train.filter(like = 'rougher',axis=1).isna().sum()"
   ]
  },
  {
   "attachments": {},
   "cell_type": "markdown",
   "metadata": {},
   "source": [
    "* Отличная новость, столбец output_concentrate_au без пропусков, соответственно его можно использовать для расчета без обработки пропусков. Он и есть - C\n",
    "* Столбец input.feed_au также не содержит пропусков, это - F\n",
    "* Столбец rougher.output.tail_au  не содержит пропусков, это - T"
   ]
  },
  {
   "cell_type": "code",
   "execution_count": 250,
   "metadata": {},
   "outputs": [
    {
     "data": {
      "text/html": [
       "<div>\n",
       "<style scoped>\n",
       "    .dataframe tbody tr th:only-of-type {\n",
       "        vertical-align: middle;\n",
       "    }\n",
       "\n",
       "    .dataframe tbody tr th {\n",
       "        vertical-align: top;\n",
       "    }\n",
       "\n",
       "    .dataframe thead th {\n",
       "        text-align: right;\n",
       "    }\n",
       "</style>\n",
       "<table border=\"1\" class=\"dataframe\">\n",
       "  <thead>\n",
       "    <tr style=\"text-align: right;\">\n",
       "      <th></th>\n",
       "      <th>rougher.output.recovery</th>\n",
       "      <th>rougher.output.recovery.calc</th>\n",
       "    </tr>\n",
       "  </thead>\n",
       "  <tbody>\n",
       "    <tr>\n",
       "      <th>1303</th>\n",
       "      <td>75.992103</td>\n",
       "      <td>75.992103</td>\n",
       "    </tr>\n",
       "    <tr>\n",
       "      <th>13236</th>\n",
       "      <td>81.673075</td>\n",
       "      <td>81.673075</td>\n",
       "    </tr>\n",
       "    <tr>\n",
       "      <th>2986</th>\n",
       "      <td>80.303892</td>\n",
       "      <td>80.303892</td>\n",
       "    </tr>\n",
       "    <tr>\n",
       "      <th>1168</th>\n",
       "      <td>80.109252</td>\n",
       "      <td>80.109252</td>\n",
       "    </tr>\n",
       "    <tr>\n",
       "      <th>3432</th>\n",
       "      <td>75.729313</td>\n",
       "      <td>75.729313</td>\n",
       "    </tr>\n",
       "    <tr>\n",
       "      <th>11480</th>\n",
       "      <td>93.223865</td>\n",
       "      <td>93.223865</td>\n",
       "    </tr>\n",
       "    <tr>\n",
       "      <th>4156</th>\n",
       "      <td>66.134334</td>\n",
       "      <td>66.134334</td>\n",
       "    </tr>\n",
       "    <tr>\n",
       "      <th>6658</th>\n",
       "      <td>81.905166</td>\n",
       "      <td>81.905166</td>\n",
       "    </tr>\n",
       "    <tr>\n",
       "      <th>5893</th>\n",
       "      <td>85.107538</td>\n",
       "      <td>85.107538</td>\n",
       "    </tr>\n",
       "    <tr>\n",
       "      <th>227</th>\n",
       "      <td>80.675516</td>\n",
       "      <td>80.675516</td>\n",
       "    </tr>\n",
       "  </tbody>\n",
       "</table>\n",
       "</div>"
      ],
      "text/plain": [
       "       rougher.output.recovery  rougher.output.recovery.calc\n",
       "1303                 75.992103                     75.992103\n",
       "13236                81.673075                     81.673075\n",
       "2986                 80.303892                     80.303892\n",
       "1168                 80.109252                     80.109252\n",
       "3432                 75.729313                     75.729313\n",
       "11480                93.223865                     93.223865\n",
       "4156                 66.134334                     66.134334\n",
       "6658                 81.905166                     81.905166\n",
       "5893                 85.107538                     85.107538\n",
       "227                  80.675516                     80.675516"
      ]
     },
     "execution_count": 250,
     "metadata": {},
     "output_type": "execute_result"
    }
   ],
   "source": [
    "c = 'rougher.output.concentrate_au'\n",
    "f = 'rougher.input.feed_au'\n",
    "t = 'rougher.output.tail_au'\n",
    "df_train['rougher.output.recovery.calc']=calc_recovery(df_train,c,f,t)\n",
    "df_train[['rougher.output.recovery','rougher.output.recovery.calc']].sample(10)"
   ]
  },
  {
   "attachments": {},
   "cell_type": "markdown",
   "metadata": {},
   "source": [
    "На первый взгляд данные похожи, но мы посмотрели только 10 значений, надо проверить, а есть ли строки, где значения не совпали"
   ]
  },
  {
   "cell_type": "code",
   "execution_count": 251,
   "metadata": {},
   "outputs": [
    {
     "name": "stdout",
     "output_type": "stream",
     "text": [
      "Размер train_df:  14149\n",
      "Количество расхождений:  7437\n"
     ]
    }
   ],
   "source": [
    "#Посчитаем количество строк, где расчетные данные и изначальные не совпали\n",
    "print ('Размер train_df: ',len(df_train))\n",
    "print('Количество расхождений: ', len(df_train[df_train['rougher.output.recovery'] != df_train['rougher.output.recovery.calc']]))"
   ]
  },
  {
   "attachments": {},
   "cell_type": "markdown",
   "metadata": {},
   "source": [
    "Примерно половина значений не совпали точь в точь.\n",
    "Посчитаем МАЕ"
   ]
  },
  {
   "cell_type": "code",
   "execution_count": 252,
   "metadata": {},
   "outputs": [
    {
     "name": "stdout",
     "output_type": "stream",
     "text": [
      "МАЕ rougher.output.recovery и rougher.output.recovery.calc =  9.73512347450521e-15\n"
     ]
    }
   ],
   "source": [
    "print('МАЕ rougher.output.recovery и rougher.output.recovery.calc = ',mean_absolute_error(\n",
    "    df_train['rougher.output.recovery'], \n",
    "    df_train['rougher.output.recovery.calc']))\n",
    "    "
   ]
  },
  {
   "attachments": {},
   "cell_type": "markdown",
   "metadata": {},
   "source": [
    "Мы получили крайне низкое значение МАЕ, из чего можно сделать вывод, что в датафрейме расчет рекавери сделан верно с незначительной погрешностью, которой можно пренебречь, это же мы увидели при сравнении 10 случайных значений.  \n",
    "#### Задание 1.3 Проанализируйте признаки, недоступные в тестовой выборке. Что это за параметры? К какому типу относятся?\n",
    "Ранее мы выводили список полей, которых нет в test_df. Там можно было обратить внимание на то, что из test df исключены значения output.\n",
    "Также в test данных нет значений столбцов:\n",
    "* rougher.calculation.sulfate_to_au_concentrate\n",
    "* rougher.calculation.floatbank10_sulfate_to_au_feed\n",
    "* rougher.calculation.floatbank11_sulfate_to_au_feed\n",
    "* rougher.calculation.au_pb_ratio\n",
    "\n",
    "Предобработку будем выполнять для данных, которые будем использовать для обучения модели, для этого необходимо подготовить итоговый список"
   ]
  },
  {
   "cell_type": "code",
   "execution_count": 253,
   "metadata": {},
   "outputs": [
    {
     "name": "stdout",
     "output_type": "stream",
     "text": [
      "53\n"
     ]
    },
    {
     "data": {
      "text/plain": [
       "date                                           0\n",
       "primary_cleaner.input.sulfate                  4\n",
       "primary_cleaner.input.depressant               5\n",
       "primary_cleaner.input.feed_size                0\n",
       "primary_cleaner.input.xanthate                 4\n",
       "primary_cleaner.state.floatbank8_a_air         0\n",
       "primary_cleaner.state.floatbank8_a_level       0\n",
       "primary_cleaner.state.floatbank8_b_air         0\n",
       "primary_cleaner.state.floatbank8_b_level       0\n",
       "primary_cleaner.state.floatbank8_c_air         0\n",
       "primary_cleaner.state.floatbank8_c_level       0\n",
       "primary_cleaner.state.floatbank8_d_air         0\n",
       "primary_cleaner.state.floatbank8_d_level       0\n",
       "rougher.input.feed_ag                          0\n",
       "rougher.input.feed_pb                          0\n",
       "rougher.input.feed_rate                        3\n",
       "rougher.input.feed_size                        1\n",
       "rougher.input.feed_sol                        21\n",
       "rougher.input.feed_au                          0\n",
       "rougher.input.floatbank10_sulfate              5\n",
       "rougher.input.floatbank10_xanthate             0\n",
       "rougher.input.floatbank11_sulfate              8\n",
       "rougher.input.floatbank11_xanthate            25\n",
       "rougher.state.floatbank10_a_air                0\n",
       "rougher.state.floatbank10_a_level              0\n",
       "rougher.state.floatbank10_b_air                0\n",
       "rougher.state.floatbank10_b_level              0\n",
       "rougher.state.floatbank10_c_air                0\n",
       "rougher.state.floatbank10_c_level              0\n",
       "rougher.state.floatbank10_d_air                0\n",
       "rougher.state.floatbank10_d_level              0\n",
       "rougher.state.floatbank10_e_air                0\n",
       "rougher.state.floatbank10_e_level              0\n",
       "rougher.state.floatbank10_f_air                0\n",
       "rougher.state.floatbank10_f_level              0\n",
       "secondary_cleaner.state.floatbank2_a_air       3\n",
       "secondary_cleaner.state.floatbank2_a_level     0\n",
       "secondary_cleaner.state.floatbank2_b_air       2\n",
       "secondary_cleaner.state.floatbank2_b_level     0\n",
       "secondary_cleaner.state.floatbank3_a_air       9\n",
       "secondary_cleaner.state.floatbank3_a_level     0\n",
       "secondary_cleaner.state.floatbank3_b_air       0\n",
       "secondary_cleaner.state.floatbank3_b_level     0\n",
       "secondary_cleaner.state.floatbank4_a_air       0\n",
       "secondary_cleaner.state.floatbank4_a_level     0\n",
       "secondary_cleaner.state.floatbank4_b_air       0\n",
       "secondary_cleaner.state.floatbank4_b_level     0\n",
       "secondary_cleaner.state.floatbank5_a_air       0\n",
       "secondary_cleaner.state.floatbank5_a_level     0\n",
       "secondary_cleaner.state.floatbank5_b_air       0\n",
       "secondary_cleaner.state.floatbank5_b_level     0\n",
       "secondary_cleaner.state.floatbank6_a_air       0\n",
       "secondary_cleaner.state.floatbank6_a_level     0\n",
       "dtype: int64"
      ]
     },
     "execution_count": 253,
     "metadata": {},
     "output_type": "execute_result"
    }
   ],
   "source": [
    "print(len(df_test.columns))\n",
    "df_test.isna().sum()"
   ]
  },
  {
   "attachments": {},
   "cell_type": "markdown",
   "metadata": {},
   "source": [
    "Основные типы столбцов - признаков:\n",
    "* State\n",
    "* Input"
   ]
  },
  {
   "cell_type": "code",
   "execution_count": 254,
   "metadata": {},
   "outputs": [
    {
     "name": "stdout",
     "output_type": "stream",
     "text": [
      "Количество столбцов state(состояния) =  38\n",
      "Количество столбцов input(параметры сырья) =  14\n",
      "В столбце date пропусков нет, также мы не будем использовать их для обучения\n"
     ]
    }
   ],
   "source": [
    "print('Количество столбцов state(состояния) = ', len(df_test.filter(like = 'state', axis=1).columns))\n",
    "print('Количество столбцов input(параметры сырья) = ', len(df_test.filter(like = 'input', axis=1).columns))\n",
    "print ('В столбце date пропусков нет, также мы не будем использовать их для обучения')"
   ]
  },
  {
   "cell_type": "code",
   "execution_count": 255,
   "metadata": {},
   "outputs": [
    {
     "data": {
      "text/plain": [
       "52"
      ]
     },
     "execution_count": 255,
     "metadata": {},
     "output_type": "execute_result"
    }
   ],
   "source": [
    "train_cols = df_test.drop('date', axis=1).columns\n",
    "len(train_cols)"
   ]
  },
  {
   "attachments": {},
   "cell_type": "markdown",
   "metadata": {},
   "source": [
    "Итого получили 52 столбца признаков для обучения, произведем предобработку.\n",
    "#### Задание 1.4 Проведите предобработку данных."
   ]
  },
  {
   "cell_type": "code",
   "execution_count": 256,
   "metadata": {},
   "outputs": [
    {
     "name": "stdout",
     "output_type": "stream",
     "text": [
      "Изначальный размер датафрейма 14149\n"
     ]
    }
   ],
   "source": [
    "start_df = len(df_train)\n",
    "print('Изначальный размер датафрейма',start_df)"
   ]
  },
  {
   "cell_type": "code",
   "execution_count": 257,
   "metadata": {},
   "outputs": [
    {
     "data": {
      "text/plain": [
       "0"
      ]
     },
     "execution_count": 257,
     "metadata": {},
     "output_type": "execute_result"
    }
   ],
   "source": [
    "df_train[train_cols].duplicated().sum()"
   ]
  },
  {
   "attachments": {},
   "cell_type": "markdown",
   "metadata": {},
   "source": [
    "Явных дубликатов нет."
   ]
  },
  {
   "cell_type": "code",
   "execution_count": 258,
   "metadata": {},
   "outputs": [
    {
     "data": {
      "text/plain": [
       "rougher.state.floatbank10_e_air               436\n",
       "rougher.input.floatbank11_xanthate            428\n",
       "secondary_cleaner.state.floatbank2_a_air      217\n",
       "rougher.input.feed_size                       144\n",
       "rougher.input.feed_pb                         100\n",
       "primary_cleaner.input.xanthate                100\n",
       "rougher.input.feed_sol                         78\n",
       "rougher.input.floatbank11_sulfate              36\n",
       "primary_cleaner.input.depressant               32\n",
       "rougher.input.floatbank10_sulfate              29\n",
       "secondary_cleaner.state.floatbank2_b_air       21\n",
       "primary_cleaner.input.sulfate                  20\n",
       "rougher.input.feed_rate                         8\n",
       "rougher.input.floatbank10_xanthate              8\n",
       "secondary_cleaner.state.floatbank4_a_air        6\n",
       "primary_cleaner.state.floatbank8_a_air          4\n",
       "primary_cleaner.state.floatbank8_b_air          4\n",
       "secondary_cleaner.state.floatbank3_a_air        4\n",
       "primary_cleaner.state.floatbank8_d_air          3\n",
       "secondary_cleaner.state.floatbank6_a_air        2\n",
       "primary_cleaner.state.floatbank8_c_air          2\n",
       "secondary_cleaner.state.floatbank4_b_level      1\n",
       "secondary_cleaner.state.floatbank5_b_level      1\n",
       "secondary_cleaner.state.floatbank2_b_level      1\n",
       "secondary_cleaner.state.floatbank3_a_level      1\n",
       "secondary_cleaner.state.floatbank4_a_level      1\n",
       "secondary_cleaner.state.floatbank3_b_air        1\n",
       "secondary_cleaner.state.floatbank3_b_level      1\n",
       "secondary_cleaner.state.floatbank5_a_air        1\n",
       "secondary_cleaner.state.floatbank5_b_air        1\n",
       "secondary_cleaner.state.floatbank4_b_air        1\n",
       "secondary_cleaner.state.floatbank5_a_level      1\n",
       "secondary_cleaner.state.floatbank2_a_level      1\n",
       "rougher.state.floatbank10_c_air                 1\n",
       "rougher.state.floatbank10_a_air                 1\n",
       "rougher.state.floatbank10_b_air                 1\n",
       "primary_cleaner.state.floatbank8_a_level        1\n",
       "primary_cleaner.state.floatbank8_b_level        1\n",
       "primary_cleaner.state.floatbank8_c_level        1\n",
       "primary_cleaner.state.floatbank8_d_level        1\n",
       "rougher.state.floatbank10_a_level               1\n",
       "secondary_cleaner.state.floatbank6_a_level      1\n",
       "rougher.state.floatbank10_b_level               1\n",
       "rougher.state.floatbank10_c_level               1\n",
       "rougher.state.floatbank10_f_air                 0\n",
       "rougher.input.feed_au                           0\n",
       "rougher.input.feed_ag                           0\n",
       "rougher.state.floatbank10_d_air                 0\n",
       "rougher.state.floatbank10_d_level               0\n",
       "rougher.state.floatbank10_e_level               0\n",
       "primary_cleaner.input.feed_size                 0\n",
       "rougher.state.floatbank10_f_level               0\n",
       "dtype: int64"
      ]
     },
     "execution_count": 258,
     "metadata": {},
     "output_type": "execute_result"
    }
   ],
   "source": [
    "\n",
    "(df_train[train_cols]\n",
    "    .isna()\n",
    "    .sum()\n",
    "    .sort_values(ascending=False))"
   ]
  },
  {
   "attachments": {},
   "cell_type": "markdown",
   "metadata": {},
   "source": [
    "Большинство столбцов содержат незначительное количество пропусков, удалим строки, где кол-во пропусков менее 20"
   ]
  },
  {
   "cell_type": "code",
   "execution_count": 261,
   "metadata": {},
   "outputs": [
    {
     "name": "stdout",
     "output_type": "stream",
     "text": [
      "Оставшиеся столбцы с пропусками\n",
      "rougher.state.floatbank10_e_air             433\n",
      "rougher.input.floatbank11_xanthate          403\n",
      "secondary_cleaner.state.floatbank2_a_air    210\n",
      "rougher.input.feed_size                     143\n",
      "rougher.input.feed_pb                       100\n",
      "primary_cleaner.input.xanthate               85\n",
      "rougher.input.feed_sol                       60\n",
      "rougher.input.floatbank11_sulfate            30\n",
      "primary_cleaner.input.depressant             19\n",
      "rougher.input.floatbank10_sulfate            15\n",
      "dtype: int64\n",
      "Итоговая потеря данных: 0.003463142271538655\n"
     ]
    }
   ],
   "source": [
    "columns_to_dropna = (df_train[train_cols]\n",
    "    .isna()\n",
    "    .sum()\n",
    "    .to_frame())\n",
    "columns_to_dropna.columns = ['missing_values']\n",
    "columns_to_dropna = columns_to_dropna[columns_to_dropna['missing_values']<20].index\n",
    "df_train = df_train.dropna(subset=columns_to_dropna)\n",
    "print ('Оставшиеся столбцы с пропусками')\n",
    "missing_to_work = (df_train[train_cols]\n",
    "    .isna()\n",
    "    .sum()[df_train[train_cols].isna().sum() > 0]\n",
    "    .sort_values(ascending= False))\n",
    "print(missing_to_work)\n",
    "print('Итоговая потеря данных: {:d.}', 1-len(df_train)/start_df)\n"
   ]
  },
  {
   "cell_type": "code",
   "execution_count": 289,
   "metadata": {},
   "outputs": [
    {
     "ename": "IndexError",
     "evalue": "tuple index out of range",
     "output_type": "error",
     "traceback": [
      "\u001b[1;31m---------------------------------------------------------------------------\u001b[0m",
      "\u001b[1;31mIndexError\u001b[0m                                Traceback (most recent call last)",
      "\u001b[1;32mf:\\MyGit\\yandex_practice\\gold_new.ipynb Cell 44\u001b[0m in \u001b[0;36m<cell line: 5>\u001b[1;34m()\u001b[0m\n\u001b[0;32m      <a href='vscode-notebook-cell:/f%3A/MyGit/yandex_practice/gold_new.ipynb#Y125sZmlsZQ%3D%3D?line=0'>1</a>\u001b[0m \u001b[39m#sns.heatmap(df[missing_to_work.index].isnull(), cmap=sns.color_palette(colours))\u001b[39;00m\n\u001b[0;32m      <a href='vscode-notebook-cell:/f%3A/MyGit/yandex_practice/gold_new.ipynb#Y125sZmlsZQ%3D%3D?line=1'>2</a>\u001b[0m \u001b[39mcls\u001b[39m \u001b[39m=\u001b[39m missing_to_work\u001b[39m.\u001b[39mindex\n\u001b[1;32m----> <a href='vscode-notebook-cell:/f%3A/MyGit/yandex_practice/gold_new.ipynb#Y125sZmlsZQ%3D%3D?line=4'>5</a>\u001b[0m msno\u001b[39m.\u001b[39;49mmatrix(df_test[\u001b[39mcls\u001b[39;49m[\u001b[39m1\u001b[39;49m]])\n\u001b[0;32m      <a href='vscode-notebook-cell:/f%3A/MyGit/yandex_practice/gold_new.ipynb#Y125sZmlsZQ%3D%3D?line=5'>6</a>\u001b[0m plt\u001b[39m.\u001b[39mshow()\n",
      "File \u001b[1;32mc:\\Users\\atropinskiy\\AppData\\Local\\Programs\\Python\\Python310\\lib\\site-packages\\missingno\\missingno.py:40\u001b[0m, in \u001b[0;36mmatrix\u001b[1;34m(df, filter, n, p, sort, figsize, width_ratios, color, fontsize, labels, label_rotation, sparkline, freq, ax)\u001b[0m\n\u001b[0;32m     37\u001b[0m df \u001b[39m=\u001b[39m nullity_sort(df, sort\u001b[39m=\u001b[39msort, axis\u001b[39m=\u001b[39m\u001b[39m'\u001b[39m\u001b[39mcolumns\u001b[39m\u001b[39m'\u001b[39m)\n\u001b[0;32m     39\u001b[0m height \u001b[39m=\u001b[39m df\u001b[39m.\u001b[39mshape[\u001b[39m0\u001b[39m]\n\u001b[1;32m---> 40\u001b[0m width \u001b[39m=\u001b[39m df\u001b[39m.\u001b[39;49mshape[\u001b[39m1\u001b[39;49m]\n\u001b[0;32m     42\u001b[0m \u001b[39m# z is the color-mask array, g is a NxNx3 matrix. Apply the z color-mask to set the RGB of each pixel.\u001b[39;00m\n\u001b[0;32m     43\u001b[0m z \u001b[39m=\u001b[39m df\u001b[39m.\u001b[39mnotnull()\u001b[39m.\u001b[39mvalues\n",
      "\u001b[1;31mIndexError\u001b[0m: tuple index out of range"
     ]
    }
   ],
   "source": [
    "#sns.heatmap(df[missing_to_work.index].isnull(), cmap=sns.color_palette(colours))\n",
    "cls = missing_to_work.index\n",
    "\n",
    "\n",
    "msno.matrix(df_test[cls[1]])\n",
    "plt.show()"
   ]
  },
  {
   "cell_type": "code",
   "execution_count": null,
   "metadata": {},
   "outputs": [],
   "source": []
  }
 ],
 "metadata": {
  "kernelspec": {
   "display_name": "Python 3",
   "language": "python",
   "name": "python3"
  },
  "language_info": {
   "codemirror_mode": {
    "name": "ipython",
    "version": 3
   },
   "file_extension": ".py",
   "mimetype": "text/x-python",
   "name": "python",
   "nbconvert_exporter": "python",
   "pygments_lexer": "ipython3",
   "version": "3.10.5"
  },
  "orig_nbformat": 4,
  "vscode": {
   "interpreter": {
    "hash": "69a9047f428b72ee57fafcc30cfc1150f80b59105df1fa51f1e4927e742c9d0b"
   }
  }
 },
 "nbformat": 4,
 "nbformat_minor": 2
}

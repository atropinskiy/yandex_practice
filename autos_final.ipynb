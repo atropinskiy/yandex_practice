{
 "cells": [
  {
   "cell_type": "markdown",
   "metadata": {},
   "source": [
    "<div class=\"alert alert-block alert-info\">\n",
    "<b>Комментарий ревьюера:</b>\n",
    "\n",
    "Метрика этого проекта RMSE (Root Mean Squared Error) является одной из наиболее распространенных метрик для оценки качества моделей машинного обучения. Она измеряет среднюю ошибку модели в прогнозировании целевых значений.\n",
    "    \n",
    "Я заметил, что в этом проекте ты несколько раз путаешь название этой метрики (не MSE, не MAE)\n",
    "    \n",
    "Вот простое объяснение этой метрики:\n",
    "    \n",
    "В простых словах, RMSE означает среднее значение квадратных отклонений между прогнозируемыми значениями модели и реальными значениями целевой переменной. Чем меньше значение RMSE, тем лучше модель.\n",
    "\n",
    "RMSE можно интерпретировать как среднее расстояние между прогнозами модели и реальными значениями. Она измеряется в тех же единицах, что и целевая переменная, что делает ее удобной для понимания и интерпретации результатов модели.\n",
    "\n",
    "Например, если мы используем модель для прогнозирования стоимости недвижимости, RMSE покажет, на сколько денег в среднем наша модель ошибается в своих прогнозах. Если RMSE равна 50 000, это означает, что наша модель ошибается в среднем на 50 000 долларов при прогнозировании стоимости недвижимости.\n",
    "</div>"
   ]
  },
  {
   "cell_type": "markdown",
   "metadata": {},
   "source": [
    "Привет, Александр!)\n",
    "<br> Меня зовут Дуолан 👋 Буду проверять твой проект. Давай вместе доведем его до идеала 😉\n",
    "<br> Дальнейшее общение будет происходить на «ты», если это не вызывает никаких проблем.\n",
    "<br> Желательно реагировать на каждый мой комментарий («исправил», «не понятно как исправить ошибку», ...)\n",
    "<br> Пожалуйста, не удаляй мои комментарии, они будут необходимы для повторного ревью.\n",
    "\n",
    "Комментарии будут в <font color='green'>зеленой</font>, <font color='blue'>синей</font> или <font color='red'>красной</font> рамках:\n",
    "\n",
    "<div class=\"alert alert-block alert-success\">\n",
    "<b>✔️ Успех:</b> Если все сделано отлично\n",
    "</div>\n",
    "\n",
    "<div class=\"alert alert-block alert-warning\">\n",
    "<b>⚠️ Совет:</b> Если можно немного улучшить\n",
    "</div>\n",
    "\n",
    "<div class=\"alert alert-block alert-danger\">\n",
    "<b>❌ Замечание:</b> Если требуются исправления\n",
    "</div>\n",
    "\n",
    "Работа не может быть принята с красными комментариями.\n",
    "\n",
    "-------------------\n",
    "\n",
    "Будет очень хорошо, если ты будешь помечать свои действия следующим образом:\n",
    "\n",
    "<div class=\"alert alert-block alert-info\">\n",
    "<b>Комментарий студента:</b> ...\n",
    "</div>\n",
    "\n",
    "<div class=\"alert alert-block alert-info\">\n",
    "<b>Изменения:</b> Были внесены следующие изменения ...\n",
    "</div>"
   ]
  },
  {
   "cell_type": "markdown",
   "metadata": {},
   "source": [
    "### Опсание проекта  \n",
    "Сервис по продаже автомобилей с пробегом «Не бит, не крашен» разрабатывает приложение, чтобы привлечь новых клиентов. В нём можно будет узнать рыночную стоимость своего автомобиля. \n",
    "### Импорт библиотек"
   ]
  },
  {
   "cell_type": "code",
   "execution_count": 1,
   "metadata": {
    "scrolled": true
   },
   "outputs": [
    {
     "name": "stdout",
     "output_type": "stream",
     "text": [
      "Requirement already satisfied: phik in /opt/conda/lib/python3.9/site-packages (0.12.3)\n",
      "Requirement already satisfied: pandas>=0.25.1 in /opt/conda/lib/python3.9/site-packages (from phik) (1.2.4)\n",
      "Requirement already satisfied: numpy>=1.18.0 in /opt/conda/lib/python3.9/site-packages (from phik) (1.21.1)\n",
      "Requirement already satisfied: matplotlib>=2.2.3 in /opt/conda/lib/python3.9/site-packages (from phik) (3.3.4)\n",
      "Requirement already satisfied: joblib>=0.14.1 in /opt/conda/lib/python3.9/site-packages (from phik) (1.2.0)\n",
      "Requirement already satisfied: scipy>=1.5.2 in /opt/conda/lib/python3.9/site-packages (from phik) (1.9.1)\n",
      "Requirement already satisfied: kiwisolver>=1.0.1 in /opt/conda/lib/python3.9/site-packages (from matplotlib>=2.2.3->phik) (1.4.4)\n",
      "Requirement already satisfied: pyparsing!=2.0.4,!=2.1.2,!=2.1.6,>=2.0.3 in /opt/conda/lib/python3.9/site-packages (from matplotlib>=2.2.3->phik) (2.4.7)\n",
      "Requirement already satisfied: pillow>=6.2.0 in /opt/conda/lib/python3.9/site-packages (from matplotlib>=2.2.3->phik) (8.4.0)\n",
      "Requirement already satisfied: python-dateutil>=2.1 in /opt/conda/lib/python3.9/site-packages (from matplotlib>=2.2.3->phik) (2.8.1)\n",
      "Requirement already satisfied: cycler>=0.10 in /opt/conda/lib/python3.9/site-packages (from matplotlib>=2.2.3->phik) (0.11.0)\n",
      "Requirement already satisfied: pytz>=2017.3 in /opt/conda/lib/python3.9/site-packages (from pandas>=0.25.1->phik) (2021.1)\n",
      "Requirement already satisfied: six>=1.5 in /opt/conda/lib/python3.9/site-packages (from python-dateutil>=2.1->matplotlib>=2.2.3->phik) (1.16.0)\n",
      "Note: you may need to restart the kernel to use updated packages.\n"
     ]
    }
   ],
   "source": [
    "pip install phik"
   ]
  },
  {
   "cell_type": "code",
   "execution_count": 2,
   "metadata": {},
   "outputs": [
    {
     "name": "stdout",
     "output_type": "stream",
     "text": [
      "Requirement already satisfied: category_encoders in /opt/conda/lib/python3.9/site-packages (2.6.0)\n",
      "Requirement already satisfied: scikit-learn>=0.20.0 in /opt/conda/lib/python3.9/site-packages (from category_encoders) (1.2.2)\n",
      "Requirement already satisfied: patsy>=0.5.1 in /opt/conda/lib/python3.9/site-packages (from category_encoders) (0.5.2)\n",
      "Requirement already satisfied: numpy>=1.14.0 in /opt/conda/lib/python3.9/site-packages (from category_encoders) (1.21.1)\n",
      "Requirement already satisfied: scipy>=1.0.0 in /opt/conda/lib/python3.9/site-packages (from category_encoders) (1.9.1)\n",
      "Requirement already satisfied: statsmodels>=0.9.0 in /opt/conda/lib/python3.9/site-packages (from category_encoders) (0.13.2)\n",
      "Requirement already satisfied: pandas>=1.0.5 in /opt/conda/lib/python3.9/site-packages (from category_encoders) (1.2.4)\n",
      "Requirement already satisfied: python-dateutil>=2.7.3 in /opt/conda/lib/python3.9/site-packages (from pandas>=1.0.5->category_encoders) (2.8.1)\n",
      "Requirement already satisfied: pytz>=2017.3 in /opt/conda/lib/python3.9/site-packages (from pandas>=1.0.5->category_encoders) (2021.1)\n",
      "Requirement already satisfied: six in /opt/conda/lib/python3.9/site-packages (from patsy>=0.5.1->category_encoders) (1.16.0)\n",
      "Requirement already satisfied: threadpoolctl>=2.0.0 in /opt/conda/lib/python3.9/site-packages (from scikit-learn>=0.20.0->category_encoders) (3.1.0)\n",
      "Requirement already satisfied: joblib>=1.1.1 in /opt/conda/lib/python3.9/site-packages (from scikit-learn>=0.20.0->category_encoders) (1.2.0)\n",
      "Requirement already satisfied: packaging>=21.3 in /opt/conda/lib/python3.9/site-packages (from statsmodels>=0.9.0->category_encoders) (21.3)\n",
      "Requirement already satisfied: pyparsing!=3.0.5,>=2.0.2 in /opt/conda/lib/python3.9/site-packages (from packaging>=21.3->statsmodels>=0.9.0->category_encoders) (2.4.7)\n",
      "Note: you may need to restart the kernel to use updated packages.\n"
     ]
    }
   ],
   "source": [
    "pip install category_encoders"
   ]
  },
  {
   "cell_type": "code",
   "execution_count": 3,
   "metadata": {},
   "outputs": [
    {
     "name": "stdout",
     "output_type": "stream",
     "text": [
      "Requirement already satisfied: scikit-learn==1.2.2 in /opt/conda/lib/python3.9/site-packages (1.2.2)\n",
      "Requirement already satisfied: scipy>=1.3.2 in /opt/conda/lib/python3.9/site-packages (from scikit-learn==1.2.2) (1.9.1)\n",
      "Requirement already satisfied: joblib>=1.1.1 in /opt/conda/lib/python3.9/site-packages (from scikit-learn==1.2.2) (1.2.0)\n",
      "Requirement already satisfied: threadpoolctl>=2.0.0 in /opt/conda/lib/python3.9/site-packages (from scikit-learn==1.2.2) (3.1.0)\n",
      "Requirement already satisfied: numpy>=1.17.3 in /opt/conda/lib/python3.9/site-packages (from scikit-learn==1.2.2) (1.21.1)\n",
      "Note: you may need to restart the kernel to use updated packages.\n"
     ]
    }
   ],
   "source": [
    "pip install -U scikit-learn==1.2.2"
   ]
  },
  {
   "cell_type": "code",
   "execution_count": 4,
   "metadata": {},
   "outputs": [],
   "source": [
    "import pandas as pd\n",
    "import numpy as np\n",
    "\n",
    "import matplotlib.pyplot as plt\n",
    "import seaborn as sns\n",
    "\n",
    "from phik.report import plot_correlation_matrix\n",
    "\n",
    "from sklearn.model_selection import (train_test_split,\n",
    "                                     GridSearchCV)\n",
    "from sklearn.linear_model import LinearRegression\n",
    "from sklearn.tree import DecisionTreeRegressor\n",
    "from sklearn.metrics import mean_squared_error\n",
    "from sklearn.preprocessing import (OrdinalEncoder, \n",
    "                                   OneHotEncoder,\n",
    "                                   StandardScaler,\n",
    "                                  LabelEncoder)\n",
    "from sklearn.compose import make_column_transformer\n",
    "\n",
    "from lightgbm import LGBMRegressor\n",
    "from catboost import CatBoostRegressor, Pool"
   ]
  },
  {
   "cell_type": "markdown",
   "metadata": {},
   "source": [
    "<div class=\"alert alert-block alert-success\">\n",
    "<b>✔️ Успех:</b>\n",
    "\n",
    "Импорт выглядит отлично 👍\n",
    "</div>"
   ]
  },
  {
   "cell_type": "markdown",
   "metadata": {},
   "source": [
    "### Загрузка датафрейма и предопобработка данных"
   ]
  },
  {
   "cell_type": "code",
   "execution_count": 5,
   "metadata": {},
   "outputs": [
    {
     "data": {
      "text/html": [
       "<div>\n",
       "<style scoped>\n",
       "    .dataframe tbody tr th:only-of-type {\n",
       "        vertical-align: middle;\n",
       "    }\n",
       "\n",
       "    .dataframe tbody tr th {\n",
       "        vertical-align: top;\n",
       "    }\n",
       "\n",
       "    .dataframe thead th {\n",
       "        text-align: right;\n",
       "    }\n",
       "</style>\n",
       "<table border=\"1\" class=\"dataframe\">\n",
       "  <thead>\n",
       "    <tr style=\"text-align: right;\">\n",
       "      <th></th>\n",
       "      <th>DateCrawled</th>\n",
       "      <th>Price</th>\n",
       "      <th>VehicleType</th>\n",
       "      <th>RegistrationYear</th>\n",
       "      <th>Gearbox</th>\n",
       "      <th>Power</th>\n",
       "      <th>Model</th>\n",
       "      <th>Kilometer</th>\n",
       "      <th>RegistrationMonth</th>\n",
       "      <th>FuelType</th>\n",
       "      <th>Brand</th>\n",
       "      <th>Repaired</th>\n",
       "      <th>DateCreated</th>\n",
       "      <th>NumberOfPictures</th>\n",
       "      <th>PostalCode</th>\n",
       "      <th>LastSeen</th>\n",
       "    </tr>\n",
       "  </thead>\n",
       "  <tbody>\n",
       "    <tr>\n",
       "      <th>0</th>\n",
       "      <td>2016-03-24 11:52:17</td>\n",
       "      <td>480</td>\n",
       "      <td>NaN</td>\n",
       "      <td>1993</td>\n",
       "      <td>manual</td>\n",
       "      <td>0</td>\n",
       "      <td>golf</td>\n",
       "      <td>150000</td>\n",
       "      <td>0</td>\n",
       "      <td>petrol</td>\n",
       "      <td>volkswagen</td>\n",
       "      <td>NaN</td>\n",
       "      <td>2016-03-24 00:00:00</td>\n",
       "      <td>0</td>\n",
       "      <td>70435</td>\n",
       "      <td>2016-04-07 03:16:57</td>\n",
       "    </tr>\n",
       "    <tr>\n",
       "      <th>1</th>\n",
       "      <td>2016-03-24 10:58:45</td>\n",
       "      <td>18300</td>\n",
       "      <td>coupe</td>\n",
       "      <td>2011</td>\n",
       "      <td>manual</td>\n",
       "      <td>190</td>\n",
       "      <td>NaN</td>\n",
       "      <td>125000</td>\n",
       "      <td>5</td>\n",
       "      <td>gasoline</td>\n",
       "      <td>audi</td>\n",
       "      <td>yes</td>\n",
       "      <td>2016-03-24 00:00:00</td>\n",
       "      <td>0</td>\n",
       "      <td>66954</td>\n",
       "      <td>2016-04-07 01:46:50</td>\n",
       "    </tr>\n",
       "    <tr>\n",
       "      <th>2</th>\n",
       "      <td>2016-03-14 12:52:21</td>\n",
       "      <td>9800</td>\n",
       "      <td>suv</td>\n",
       "      <td>2004</td>\n",
       "      <td>auto</td>\n",
       "      <td>163</td>\n",
       "      <td>grand</td>\n",
       "      <td>125000</td>\n",
       "      <td>8</td>\n",
       "      <td>gasoline</td>\n",
       "      <td>jeep</td>\n",
       "      <td>NaN</td>\n",
       "      <td>2016-03-14 00:00:00</td>\n",
       "      <td>0</td>\n",
       "      <td>90480</td>\n",
       "      <td>2016-04-05 12:47:46</td>\n",
       "    </tr>\n",
       "    <tr>\n",
       "      <th>3</th>\n",
       "      <td>2016-03-17 16:54:04</td>\n",
       "      <td>1500</td>\n",
       "      <td>small</td>\n",
       "      <td>2001</td>\n",
       "      <td>manual</td>\n",
       "      <td>75</td>\n",
       "      <td>golf</td>\n",
       "      <td>150000</td>\n",
       "      <td>6</td>\n",
       "      <td>petrol</td>\n",
       "      <td>volkswagen</td>\n",
       "      <td>no</td>\n",
       "      <td>2016-03-17 00:00:00</td>\n",
       "      <td>0</td>\n",
       "      <td>91074</td>\n",
       "      <td>2016-03-17 17:40:17</td>\n",
       "    </tr>\n",
       "    <tr>\n",
       "      <th>4</th>\n",
       "      <td>2016-03-31 17:25:20</td>\n",
       "      <td>3600</td>\n",
       "      <td>small</td>\n",
       "      <td>2008</td>\n",
       "      <td>manual</td>\n",
       "      <td>69</td>\n",
       "      <td>fabia</td>\n",
       "      <td>90000</td>\n",
       "      <td>7</td>\n",
       "      <td>gasoline</td>\n",
       "      <td>skoda</td>\n",
       "      <td>no</td>\n",
       "      <td>2016-03-31 00:00:00</td>\n",
       "      <td>0</td>\n",
       "      <td>60437</td>\n",
       "      <td>2016-04-06 10:17:21</td>\n",
       "    </tr>\n",
       "  </tbody>\n",
       "</table>\n",
       "</div>"
      ],
      "text/plain": [
       "           DateCrawled  Price VehicleType  RegistrationYear Gearbox  Power  \\\n",
       "0  2016-03-24 11:52:17    480         NaN              1993  manual      0   \n",
       "1  2016-03-24 10:58:45  18300       coupe              2011  manual    190   \n",
       "2  2016-03-14 12:52:21   9800         suv              2004    auto    163   \n",
       "3  2016-03-17 16:54:04   1500       small              2001  manual     75   \n",
       "4  2016-03-31 17:25:20   3600       small              2008  manual     69   \n",
       "\n",
       "   Model  Kilometer  RegistrationMonth  FuelType       Brand Repaired  \\\n",
       "0   golf     150000                  0    petrol  volkswagen      NaN   \n",
       "1    NaN     125000                  5  gasoline        audi      yes   \n",
       "2  grand     125000                  8  gasoline        jeep      NaN   \n",
       "3   golf     150000                  6    petrol  volkswagen       no   \n",
       "4  fabia      90000                  7  gasoline       skoda       no   \n",
       "\n",
       "           DateCreated  NumberOfPictures  PostalCode             LastSeen  \n",
       "0  2016-03-24 00:00:00                 0       70435  2016-04-07 03:16:57  \n",
       "1  2016-03-24 00:00:00                 0       66954  2016-04-07 01:46:50  \n",
       "2  2016-03-14 00:00:00                 0       90480  2016-04-05 12:47:46  \n",
       "3  2016-03-17 00:00:00                 0       91074  2016-03-17 17:40:17  \n",
       "4  2016-03-31 00:00:00                 0       60437  2016-04-06 10:17:21  "
      ]
     },
     "execution_count": 5,
     "metadata": {},
     "output_type": "execute_result"
    }
   ],
   "source": [
    "try:\n",
    "    df = pd.read_csv('./datasets/autos.csv')\n",
    "except:\n",
    "    df = pd.read_csv('https://code.s3.yandex.net/datasets/autos.csv')\n",
    "\n",
    "df.head()"
   ]
  },
  {
   "cell_type": "code",
   "execution_count": 6,
   "metadata": {},
   "outputs": [
    {
     "name": "stdout",
     "output_type": "stream",
     "text": [
      "<class 'pandas.core.frame.DataFrame'>\n",
      "RangeIndex: 354369 entries, 0 to 354368\n",
      "Data columns (total 16 columns):\n",
      " #   Column             Non-Null Count   Dtype \n",
      "---  ------             --------------   ----- \n",
      " 0   DateCrawled        354369 non-null  object\n",
      " 1   Price              354369 non-null  int64 \n",
      " 2   VehicleType        316879 non-null  object\n",
      " 3   RegistrationYear   354369 non-null  int64 \n",
      " 4   Gearbox            334536 non-null  object\n",
      " 5   Power              354369 non-null  int64 \n",
      " 6   Model              334664 non-null  object\n",
      " 7   Kilometer          354369 non-null  int64 \n",
      " 8   RegistrationMonth  354369 non-null  int64 \n",
      " 9   FuelType           321474 non-null  object\n",
      " 10  Brand              354369 non-null  object\n",
      " 11  Repaired           283215 non-null  object\n",
      " 12  DateCreated        354369 non-null  object\n",
      " 13  NumberOfPictures   354369 non-null  int64 \n",
      " 14  PostalCode         354369 non-null  int64 \n",
      " 15  LastSeen           354369 non-null  object\n",
      "dtypes: int64(7), object(9)\n",
      "memory usage: 43.3+ MB\n"
     ]
    }
   ],
   "source": [
    "df.info()"
   ]
  },
  {
   "cell_type": "markdown",
   "metadata": {},
   "source": [
    "1. Названия столбцов стоит превести к pep8\n",
    "2. Дата скачивания ну бедт участвовать в модели, поэтому можно не менять формат на дату.\n",
    "3. Price - целевой целочисленный признак, нас это устраивает, но возможно входе разрабоки модели его придется привести к формату Float\n",
    "4. Datecreated - дата создания анкеты, нас мало интересует, возможно он сможет пригодиться, если мы увидим странные данные в старых анкетах, они могут быть не актуальны и в этом случае можно было бы отбросить часть старых данных.\n",
    "5. NumberOfPictures - Мы не хотим, чтобы предсказание цены учитывало \"Качество создания объявления\" (я бы уточнил у заказчика) Кол-во фото скорее всего увеличивает конверсию, но это не является критерием стоимости самого автомобиля.\n",
    "6. Почтовый индекс в модели участвовать не будет. То же самое с полем RegistrationMonth.\n",
    "7. Lastseen - аналогично"
   ]
  },
  {
   "cell_type": "code",
   "execution_count": 7,
   "metadata": {},
   "outputs": [],
   "source": [
    "#Переименование столбцов:\n",
    "df.columns = ['date_published', 'price', 'vehicle_type', \n",
    "              'registration_year', 'gearbox', 'power', \n",
    "              'model', 'kilometer', 'month_registration', \n",
    "              'fuel_type', 'brand', 'repaired', 'date_created', \n",
    "              'pictures', 'postal_code', 'lastseen']"
   ]
  },
  {
   "cell_type": "markdown",
   "metadata": {},
   "source": [
    "<div class=\"alert alert-block alert-success\">\n",
    "<b>✔️ Успех:</b> \n",
    "\n",
    "Работать с такими названиями гораздо удобнее)\n",
    "</div>"
   ]
  },
  {
   "cell_type": "code",
   "execution_count": 8,
   "metadata": {},
   "outputs": [
    {
     "data": {
      "image/png": "[encoded data removed]",
      "text/plain": [
       "<Figure size 360x144 with 1 Axes>"
      ]
     },
     "metadata": {
      "needs_background": "light"
     },
     "output_type": "display_data"
    }
   ],
   "source": [
    "df.isna().sum()[df.isna().sum()>0].sort_values().plot(kind ='barh', figsize=(5,2))\n",
    "plt.title('Количество пропусков в столбцах:')\n",
    "plt.show()"
   ]
  },
  {
   "cell_type": "markdown",
   "metadata": {},
   "source": [
    "* Первый осмотр показывает, что поле \"Модель\" мы вряд ли сможем заполнить, поэтому скорее всего придется по нему отбросить пропуски. Возможно эти же поля не содержат в себе Gearbox.\n",
    "* В столбце repaired возможно пропуски означают отсутствие\n",
    "* Столбец vehicle_type и fuel_type для определенных моделей может быть всегда один. "
   ]
  },
  {
   "cell_type": "code",
   "execution_count": 9,
   "metadata": {},
   "outputs": [
    {
     "data": {
      "image/png": "[encoded data removed]",
      "text/plain": [
       "<Figure size 360x144 with 1 Axes>"
      ]
     },
     "metadata": {
      "needs_background": "light"
     },
     "output_type": "display_data"
    }
   ],
   "source": [
    "df.isna().mean()[df.isna().mean()>0].sort_values().plot(kind ='barh', figsize=(5,2))\n",
    "plt.title('Доля пропусков в столбцах:')\n",
    "plt.show()"
   ]
  },
  {
   "cell_type": "markdown",
   "metadata": {},
   "source": [
    "В процентном соотношении количество пропусков доходит до 20%, что критично.\n",
    "Можно попробовать восстановить поля \"vehicle_type\" Например, если модель имеет только один тип кузова - проставить такой везде.\n",
    "То же самое можно сделать с Fuel type."
   ]
  },
  {
   "cell_type": "code",
   "execution_count": 10,
   "metadata": {},
   "outputs": [],
   "source": [
    "#Сохраним размер df перед началом преобразований.\n",
    "df_start = len(df)\n",
    "#Т.к. мы часто будем смотреть сколько данных отбросили - сделаем функцию, которая будет считать потери\n",
    "def lost_values():\n",
    "    display('Доля отбросанных значений {:2.2%}'.format(1-len(df)/df_start))"
   ]
  },
  {
   "cell_type": "code",
   "execution_count": 11,
   "metadata": {},
   "outputs": [
    {
     "data": {
      "text/plain": [
       "4"
      ]
     },
     "execution_count": 11,
     "metadata": {},
     "output_type": "execute_result"
    }
   ],
   "source": [
    "df.duplicated().sum()"
   ]
  },
  {
   "cell_type": "code",
   "execution_count": 12,
   "metadata": {},
   "outputs": [
    {
     "data": {
      "text/plain": [
       "'Доля отбросанных значений 0.00%'"
      ]
     },
     "metadata": {},
     "output_type": "display_data"
    }
   ],
   "source": [
    "#Отбросим 4 явных дубликата\n",
    "df = df.drop_duplicates()\n",
    "lost_values()"
   ]
  },
  {
   "cell_type": "markdown",
   "metadata": {},
   "source": [
    "<div class=\"alert alert-block alert-success\">\n",
    "<b>✔️ Успех:</b>\n",
    "\n",
    "От явных дубликатов избавились 👍\n",
    "</div>"
   ]
  },
  {
   "cell_type": "code",
   "execution_count": 13,
   "metadata": {},
   "outputs": [],
   "source": [
    "# Перед тем, как удалять строки с na стоит посмотреть наличие аномалий, возможно часть na откинется из-за аномальных значений.\n",
    "# Сразу выделим только те столбцы, которые можно будет использовать в модели\n",
    "df = df[['vehicle_type','registration_year','gearbox',\n",
    "                'power', 'model', 'fuel_type', 'brand', 'repaired', 'price']]\n",
    "# Все столбцы с пропусками понадобятся нам в модели."
   ]
  },
  {
   "cell_type": "markdown",
   "metadata": {},
   "source": [
    "<div class=\"alert alert-block alert-success\">\n",
    "<b>✔️ Успех:</b>\n",
    "\n",
    "Удалить неинформативные признаки - хорошее решение 👍\n",
    "</div>"
   ]
  },
  {
   "cell_type": "code",
   "execution_count": 14,
   "metadata": {},
   "outputs": [
    {
     "data": {
      "text/html": [
       "<div>\n",
       "<style scoped>\n",
       "    .dataframe tbody tr th:only-of-type {\n",
       "        vertical-align: middle;\n",
       "    }\n",
       "\n",
       "    .dataframe tbody tr th {\n",
       "        vertical-align: top;\n",
       "    }\n",
       "\n",
       "    .dataframe thead th {\n",
       "        text-align: right;\n",
       "    }\n",
       "</style>\n",
       "<table border=\"1\" class=\"dataframe\">\n",
       "  <thead>\n",
       "    <tr style=\"text-align: right;\">\n",
       "      <th></th>\n",
       "      <th>vehicle_type</th>\n",
       "      <th>registration_year</th>\n",
       "      <th>gearbox</th>\n",
       "      <th>power</th>\n",
       "      <th>model</th>\n",
       "      <th>fuel_type</th>\n",
       "      <th>brand</th>\n",
       "      <th>repaired</th>\n",
       "      <th>price</th>\n",
       "    </tr>\n",
       "  </thead>\n",
       "  <tbody>\n",
       "    <tr>\n",
       "      <th>count</th>\n",
       "      <td>316875</td>\n",
       "      <td>354365.000000</td>\n",
       "      <td>334532</td>\n",
       "      <td>354365.000000</td>\n",
       "      <td>334660</td>\n",
       "      <td>321470</td>\n",
       "      <td>354365</td>\n",
       "      <td>283211</td>\n",
       "      <td>354365.000000</td>\n",
       "    </tr>\n",
       "    <tr>\n",
       "      <th>unique</th>\n",
       "      <td>8</td>\n",
       "      <td>NaN</td>\n",
       "      <td>2</td>\n",
       "      <td>NaN</td>\n",
       "      <td>250</td>\n",
       "      <td>7</td>\n",
       "      <td>40</td>\n",
       "      <td>2</td>\n",
       "      <td>NaN</td>\n",
       "    </tr>\n",
       "    <tr>\n",
       "      <th>top</th>\n",
       "      <td>sedan</td>\n",
       "      <td>NaN</td>\n",
       "      <td>manual</td>\n",
       "      <td>NaN</td>\n",
       "      <td>golf</td>\n",
       "      <td>petrol</td>\n",
       "      <td>volkswagen</td>\n",
       "      <td>no</td>\n",
       "      <td>NaN</td>\n",
       "    </tr>\n",
       "    <tr>\n",
       "      <th>freq</th>\n",
       "      <td>91457</td>\n",
       "      <td>NaN</td>\n",
       "      <td>268249</td>\n",
       "      <td>NaN</td>\n",
       "      <td>29232</td>\n",
       "      <td>216349</td>\n",
       "      <td>77012</td>\n",
       "      <td>247158</td>\n",
       "      <td>NaN</td>\n",
       "    </tr>\n",
       "    <tr>\n",
       "      <th>mean</th>\n",
       "      <td>NaN</td>\n",
       "      <td>2004.234481</td>\n",
       "      <td>NaN</td>\n",
       "      <td>110.093816</td>\n",
       "      <td>NaN</td>\n",
       "      <td>NaN</td>\n",
       "      <td>NaN</td>\n",
       "      <td>NaN</td>\n",
       "      <td>4416.679830</td>\n",
       "    </tr>\n",
       "    <tr>\n",
       "      <th>std</th>\n",
       "      <td>NaN</td>\n",
       "      <td>90.228466</td>\n",
       "      <td>NaN</td>\n",
       "      <td>189.851330</td>\n",
       "      <td>NaN</td>\n",
       "      <td>NaN</td>\n",
       "      <td>NaN</td>\n",
       "      <td>NaN</td>\n",
       "      <td>4514.176349</td>\n",
       "    </tr>\n",
       "    <tr>\n",
       "      <th>min</th>\n",
       "      <td>NaN</td>\n",
       "      <td>1000.000000</td>\n",
       "      <td>NaN</td>\n",
       "      <td>0.000000</td>\n",
       "      <td>NaN</td>\n",
       "      <td>NaN</td>\n",
       "      <td>NaN</td>\n",
       "      <td>NaN</td>\n",
       "      <td>0.000000</td>\n",
       "    </tr>\n",
       "    <tr>\n",
       "      <th>25%</th>\n",
       "      <td>NaN</td>\n",
       "      <td>1999.000000</td>\n",
       "      <td>NaN</td>\n",
       "      <td>69.000000</td>\n",
       "      <td>NaN</td>\n",
       "      <td>NaN</td>\n",
       "      <td>NaN</td>\n",
       "      <td>NaN</td>\n",
       "      <td>1050.000000</td>\n",
       "    </tr>\n",
       "    <tr>\n",
       "      <th>50%</th>\n",
       "      <td>NaN</td>\n",
       "      <td>2003.000000</td>\n",
       "      <td>NaN</td>\n",
       "      <td>105.000000</td>\n",
       "      <td>NaN</td>\n",
       "      <td>NaN</td>\n",
       "      <td>NaN</td>\n",
       "      <td>NaN</td>\n",
       "      <td>2700.000000</td>\n",
       "    </tr>\n",
       "    <tr>\n",
       "      <th>75%</th>\n",
       "      <td>NaN</td>\n",
       "      <td>2008.000000</td>\n",
       "      <td>NaN</td>\n",
       "      <td>143.000000</td>\n",
       "      <td>NaN</td>\n",
       "      <td>NaN</td>\n",
       "      <td>NaN</td>\n",
       "      <td>NaN</td>\n",
       "      <td>6400.000000</td>\n",
       "    </tr>\n",
       "    <tr>\n",
       "      <th>max</th>\n",
       "      <td>NaN</td>\n",
       "      <td>9999.000000</td>\n",
       "      <td>NaN</td>\n",
       "      <td>20000.000000</td>\n",
       "      <td>NaN</td>\n",
       "      <td>NaN</td>\n",
       "      <td>NaN</td>\n",
       "      <td>NaN</td>\n",
       "      <td>20000.000000</td>\n",
       "    </tr>\n",
       "  </tbody>\n",
       "</table>\n",
       "</div>"
      ],
      "text/plain": [
       "       vehicle_type  registration_year gearbox          power   model  \\\n",
       "count        316875      354365.000000  334532  354365.000000  334660   \n",
       "unique            8                NaN       2            NaN     250   \n",
       "top           sedan                NaN  manual            NaN    golf   \n",
       "freq          91457                NaN  268249            NaN   29232   \n",
       "mean            NaN        2004.234481     NaN     110.093816     NaN   \n",
       "std             NaN          90.228466     NaN     189.851330     NaN   \n",
       "min             NaN        1000.000000     NaN       0.000000     NaN   \n",
       "25%             NaN        1999.000000     NaN      69.000000     NaN   \n",
       "50%             NaN        2003.000000     NaN     105.000000     NaN   \n",
       "75%             NaN        2008.000000     NaN     143.000000     NaN   \n",
       "max             NaN        9999.000000     NaN   20000.000000     NaN   \n",
       "\n",
       "       fuel_type       brand repaired          price  \n",
       "count     321470      354365   283211  354365.000000  \n",
       "unique         7          40        2            NaN  \n",
       "top       petrol  volkswagen       no            NaN  \n",
       "freq      216349       77012   247158            NaN  \n",
       "mean         NaN         NaN      NaN    4416.679830  \n",
       "std          NaN         NaN      NaN    4514.176349  \n",
       "min          NaN         NaN      NaN       0.000000  \n",
       "25%          NaN         NaN      NaN    1050.000000  \n",
       "50%          NaN         NaN      NaN    2700.000000  \n",
       "75%          NaN         NaN      NaN    6400.000000  \n",
       "max          NaN         NaN      NaN   20000.000000  "
      ]
     },
     "metadata": {},
     "output_type": "display_data"
    },
    {
     "data": {
      "text/html": [
       "<style  type=\"text/css\" >\n",
       "</style><table id=\"T_004d5_\" ><thead>    <tr>        <th class=\"blank level0\" ></th>        <th class=\"col_heading level0 col0\" >registration_year</th>        <th class=\"col_heading level0 col1\" >power</th>        <th class=\"col_heading level0 col2\" >price</th>    </tr></thead><tbody>\n",
       "                <tr>\n",
       "                        <th id=\"T_004d5_level0_row0\" class=\"row_heading level0 row0\" >count</th>\n",
       "                        <td id=\"T_004d5_row0_col0\" class=\"data row0 col0\" >354365.00</td>\n",
       "                        <td id=\"T_004d5_row0_col1\" class=\"data row0 col1\" >354365.00</td>\n",
       "                        <td id=\"T_004d5_row0_col2\" class=\"data row0 col2\" >354365.00</td>\n",
       "            </tr>\n",
       "            <tr>\n",
       "                        <th id=\"T_004d5_level0_row1\" class=\"row_heading level0 row1\" >mean</th>\n",
       "                        <td id=\"T_004d5_row1_col0\" class=\"data row1 col0\" >2004.23</td>\n",
       "                        <td id=\"T_004d5_row1_col1\" class=\"data row1 col1\" >110.09</td>\n",
       "                        <td id=\"T_004d5_row1_col2\" class=\"data row1 col2\" >4416.68</td>\n",
       "            </tr>\n",
       "            <tr>\n",
       "                        <th id=\"T_004d5_level0_row2\" class=\"row_heading level0 row2\" >std</th>\n",
       "                        <td id=\"T_004d5_row2_col0\" class=\"data row2 col0\" >90.23</td>\n",
       "                        <td id=\"T_004d5_row2_col1\" class=\"data row2 col1\" >189.85</td>\n",
       "                        <td id=\"T_004d5_row2_col2\" class=\"data row2 col2\" >4514.18</td>\n",
       "            </tr>\n",
       "            <tr>\n",
       "                        <th id=\"T_004d5_level0_row3\" class=\"row_heading level0 row3\" >min</th>\n",
       "                        <td id=\"T_004d5_row3_col0\" class=\"data row3 col0\" >1000.00</td>\n",
       "                        <td id=\"T_004d5_row3_col1\" class=\"data row3 col1\" >0.00</td>\n",
       "                        <td id=\"T_004d5_row3_col2\" class=\"data row3 col2\" >0.00</td>\n",
       "            </tr>\n",
       "            <tr>\n",
       "                        <th id=\"T_004d5_level0_row4\" class=\"row_heading level0 row4\" >25%</th>\n",
       "                        <td id=\"T_004d5_row4_col0\" class=\"data row4 col0\" >1999.00</td>\n",
       "                        <td id=\"T_004d5_row4_col1\" class=\"data row4 col1\" >69.00</td>\n",
       "                        <td id=\"T_004d5_row4_col2\" class=\"data row4 col2\" >1050.00</td>\n",
       "            </tr>\n",
       "            <tr>\n",
       "                        <th id=\"T_004d5_level0_row5\" class=\"row_heading level0 row5\" >50%</th>\n",
       "                        <td id=\"T_004d5_row5_col0\" class=\"data row5 col0\" >2003.00</td>\n",
       "                        <td id=\"T_004d5_row5_col1\" class=\"data row5 col1\" >105.00</td>\n",
       "                        <td id=\"T_004d5_row5_col2\" class=\"data row5 col2\" >2700.00</td>\n",
       "            </tr>\n",
       "            <tr>\n",
       "                        <th id=\"T_004d5_level0_row6\" class=\"row_heading level0 row6\" >75%</th>\n",
       "                        <td id=\"T_004d5_row6_col0\" class=\"data row6 col0\" >2008.00</td>\n",
       "                        <td id=\"T_004d5_row6_col1\" class=\"data row6 col1\" >143.00</td>\n",
       "                        <td id=\"T_004d5_row6_col2\" class=\"data row6 col2\" >6400.00</td>\n",
       "            </tr>\n",
       "            <tr>\n",
       "                        <th id=\"T_004d5_level0_row7\" class=\"row_heading level0 row7\" >max</th>\n",
       "                        <td id=\"T_004d5_row7_col0\" class=\"data row7 col0\" >9999.00</td>\n",
       "                        <td id=\"T_004d5_row7_col1\" class=\"data row7 col1\" >20000.00</td>\n",
       "                        <td id=\"T_004d5_row7_col2\" class=\"data row7 col2\" >20000.00</td>\n",
       "            </tr>\n",
       "            <tr>\n",
       "                        <th id=\"T_004d5_level0_row8\" class=\"row_heading level0 row8\" >0.01</th>\n",
       "                        <td id=\"T_004d5_row8_col0\" class=\"data row8 col0\" >1980.00</td>\n",
       "                        <td id=\"T_004d5_row8_col1\" class=\"data row8 col1\" >0.00</td>\n",
       "                        <td id=\"T_004d5_row8_col2\" class=\"data row8 col2\" >0.00</td>\n",
       "            </tr>\n",
       "            <tr>\n",
       "                        <th id=\"T_004d5_level0_row9\" class=\"row_heading level0 row9\" >0.02</th>\n",
       "                        <td id=\"T_004d5_row9_col0\" class=\"data row9 col0\" >1987.00</td>\n",
       "                        <td id=\"T_004d5_row9_col1\" class=\"data row9 col1\" >0.00</td>\n",
       "                        <td id=\"T_004d5_row9_col2\" class=\"data row9 col2\" >0.00</td>\n",
       "            </tr>\n",
       "            <tr>\n",
       "                        <th id=\"T_004d5_level0_row10\" class=\"row_heading level0 row10\" >0.98</th>\n",
       "                        <td id=\"T_004d5_row10_col0\" class=\"data row10 col0\" >2017.00</td>\n",
       "                        <td id=\"T_004d5_row10_col1\" class=\"data row10 col1\" >258.00</td>\n",
       "                        <td id=\"T_004d5_row10_col2\" class=\"data row10 col2\" >17499.00</td>\n",
       "            </tr>\n",
       "            <tr>\n",
       "                        <th id=\"T_004d5_level0_row11\" class=\"row_heading level0 row11\" >0.99</th>\n",
       "                        <td id=\"T_004d5_row11_col0\" class=\"data row11 col0\" >2018.00</td>\n",
       "                        <td id=\"T_004d5_row11_col1\" class=\"data row11 col1\" >300.00</td>\n",
       "                        <td id=\"T_004d5_row11_col2\" class=\"data row11 col2\" >18800.00</td>\n",
       "            </tr>\n",
       "    </tbody></table>"
      ],
      "text/plain": [
       "<pandas.io.formats.style.Styler at 0x7f03b00129d0>"
      ]
     },
     "execution_count": 14,
     "metadata": {},
     "output_type": "execute_result"
    }
   ],
   "source": [
    "display(df.describe(include='all'))\n",
    "pd.concat([df.describe(),df.quantile([0.01,0.02,0.98,0.99], numeric_only= True)]).style.format('{:.2f}')"
   ]
  },
  {
   "cell_type": "markdown",
   "metadata": {},
   "source": [
    "1. Есть поля с 0 ценой, стоит их отбросить, т.к. цену мы сможем только предсказывать. Для обучения они не нужны.\n",
    "2. Есть несколько полей с аномальным годом выпуска, их тоже нужно будет отбросить.\n",
    "3. В поле power есть значение 20 000\n",
    "\n",
    "Итого:\n",
    "1. Отбрасываем года < 1980\n",
    "2. По мощности и цене построим гистограмму, чтобы понять что нужно отбросить с нижней стороны."
   ]
  },
  {
   "cell_type": "code",
   "execution_count": 15,
   "metadata": {},
   "outputs": [
    {
     "data": {
      "image/png": "[encoded data removed]",
      "text/plain": [
       "<Figure size 432x288 with 1 Axes>"
      ]
     },
     "metadata": {
      "needs_background": "light"
     },
     "output_type": "display_data"
    }
   ],
   "source": [
    "df[df['price']<500]['price'].hist(bins = 50)\n",
    "plt.show()"
   ]
  },
  {
   "cell_type": "markdown",
   "metadata": {},
   "source": [
    "На бюджетные авто в основном ставят круглый ценник. Распределение по ценовым сегментам имеет схожу форму, поэтому скорее всего так и есть.\n",
    "Отбросим значения менее 50 долларов."
   ]
  },
  {
   "cell_type": "code",
   "execution_count": 16,
   "metadata": {},
   "outputs": [
    {
     "data": {
      "image/png": "[encoded data removed]",
      "text/plain": [
       "<Figure size 432x288 with 1 Axes>"
      ]
     },
     "metadata": {
      "needs_background": "light"
     },
     "output_type": "display_data"
    }
   ],
   "source": [
    "df[df['power']<100]['power'].hist(bins = 50)\n",
    "plt.show()"
   ]
  },
  {
   "cell_type": "markdown",
   "metadata": {},
   "source": [
    "Тут явно видно, что менее 20 лошадиных сил - почти всегда нули. "
   ]
  },
  {
   "cell_type": "code",
   "execution_count": 17,
   "metadata": {},
   "outputs": [
    {
     "data": {
      "image/png": "[encoded data removed]",
      "text/plain": [
       "<Figure size 432x288 with 1 Axes>"
      ]
     },
     "metadata": {
      "needs_background": "light"
     },
     "output_type": "display_data"
    }
   ],
   "source": [
    "df[df['registration_year']<1980]['registration_year'].hist(bins = 50)\n",
    "plt.show()"
   ]
  },
  {
   "cell_type": "markdown",
   "metadata": {},
   "source": [
    "Ситуация ясна - небольшое количество 1000 годов. "
   ]
  },
  {
   "cell_type": "code",
   "execution_count": 18,
   "metadata": {},
   "outputs": [
    {
     "data": {
      "text/plain": [
       "'Доля отбросанных значений 13.71%'"
      ]
     },
     "metadata": {},
     "output_type": "display_data"
    }
   ],
   "source": [
    "# Убираем аномалии:\n",
    "df = df[(df['price'] > 50) & \n",
    "        (df['power'] > 20) &\n",
    "        (df['registration_year']>1950) & (df['registration_year']<2021)]\n",
    "lost_values()"
   ]
  },
  {
   "cell_type": "markdown",
   "metadata": {},
   "source": [
    "<div class=\"alert alert-block alert-success\">\n",
    "<b>✔️ Успех:</b>\n",
    "\n",
    "С аномальными значениями успешно справились 👍\n",
    "</div>"
   ]
  },
  {
   "cell_type": "markdown",
   "metadata": {},
   "source": [
    "Много, но мы не сможем их корректно зааполнить. Обнадеживает, что датафрейм допольно большой и нам хватит данных для качественного обучения."
   ]
  },
  {
   "cell_type": "code",
   "execution_count": 19,
   "metadata": {},
   "outputs": [
    {
     "data": {
      "image/png": "[encoded data removed]",
      "text/plain": [
       "<Figure size 360x144 with 1 Axes>"
      ]
     },
     "metadata": {
      "needs_background": "light"
     },
     "output_type": "display_data"
    }
   ],
   "source": [
    "df.isna().mean()[df.isna().mean()>0].sort_values().plot(kind ='barh', figsize=(5,2))\n",
    "plt.title('Доля пропусков в столбцах:')\n",
    "plt.show()"
   ]
  },
  {
   "cell_type": "markdown",
   "metadata": {},
   "source": [
    "* Все равно осталось довольно много пропусков, которые мы уже не можем удалять.\n",
    "* Модель восстановить будет невозможно, заменим ее на unknown\n",
    "* Отсальные поля будем заполнять популярными значениями для модели."
   ]
  },
  {
   "cell_type": "code",
   "execution_count": 20,
   "metadata": {},
   "outputs": [
    {
     "data": {
      "text/plain": [
       "vehicle_type         0\n",
       "registration_year    0\n",
       "gearbox              0\n",
       "power                0\n",
       "model                0\n",
       "fuel_type            0\n",
       "brand                0\n",
       "repaired             0\n",
       "price                0\n",
       "dtype: int64"
      ]
     },
     "execution_count": 20,
     "metadata": {},
     "output_type": "execute_result"
    }
   ],
   "source": [
    "df['model'] = df['model'].fillna('unknown')\n",
    "\n",
    "mode_columns = ['repaired','vehicle_type','fuel_type','gearbox']\n",
    "\n",
    "for col in mode_columns:\n",
    "    df[col] = df.groupby('model')[col].transform(lambda x:x.fillna((x.mode()[0])))\n",
    "\n",
    "df.isna().sum()"
   ]
  },
  {
   "cell_type": "markdown",
   "metadata": {},
   "source": [
    "<div class=\"alert alert-block alert-success\">\n",
    "<b>✔️ Успех:</b>\n",
    "\n",
    "Пропуски успешно заполнены 👍 Модели теперь не будут капризничать)\n",
    "</div>"
   ]
  },
  {
   "cell_type": "code",
   "execution_count": 21,
   "metadata": {},
   "outputs": [
    {
     "name": "stdout",
     "output_type": "stream",
     "text": [
      "354369 305769\n"
     ]
    },
    {
     "data": {
      "text/plain": [
       "'Доля отбросанных значений 13.71%'"
      ]
     },
     "metadata": {},
     "output_type": "display_data"
    }
   ],
   "source": [
    "print (df_start, len(df))\n",
    "lost_values()\n"
   ]
  },
  {
   "cell_type": "markdown",
   "metadata": {},
   "source": [
    "#### Выводы по итогу предобработки данных:\n",
    "    1. Изначально мы получили датафрейм, в которых было большое количество пропусков. По не которым полям доля доходила до 20%.\n",
    "    2. Часть данных была заполнена некорректно, 13,7% данных были сверх реальных цифр, поэтому мы их сразу исключилий.\n",
    "    3. В оставшихся полях пропуски мы заполнили модой для модели машины, что вполне допустимо в этой ситуации.\n"
   ]
  },
  {
   "cell_type": "markdown",
   "metadata": {},
   "source": [
    "<div class=\"alert alert-block alert-success\">\n",
    "<b>✔️ Успех:</b>\n",
    "\n",
    "Данные успешно обработаны 👍\n",
    "</div>"
   ]
  },
  {
   "cell_type": "markdown",
   "metadata": {},
   "source": [
    "### Построение моделей\n",
    "\n",
    "Т.к. целевой столбец - числовой и нам надо будет считать RMSE будем использовать следующие модели для предсказания цены:  \n",
    "    1. LinearRegression - для обычной линейной регрессии  \n",
    "    2. DecisionTreeRegressor - для обычной линейной регрессии  \n",
    "    3. LightGBM - для градиентного бустинга  \n",
    "    4. CatBoost - для градиентного бустинга  \n",
    "\n"
   ]
  },
  {
   "cell_type": "markdown",
   "metadata": {},
   "source": [
    "#### Подготовка выборок для обучения:"
   ]
  },
  {
   "cell_type": "code",
   "execution_count": 22,
   "metadata": {},
   "outputs": [],
   "source": [
    "X = df.drop('price', axis=1)\n",
    "y = df['price']"
   ]
  },
  {
   "cell_type": "code",
   "execution_count": 23,
   "metadata": {},
   "outputs": [
    {
     "name": "stdout",
     "output_type": "stream",
     "text": [
      "<class 'pandas.core.frame.DataFrame'>\n",
      "Int64Index: 305769 entries, 1 to 354368\n",
      "Data columns (total 8 columns):\n",
      " #   Column             Non-Null Count   Dtype \n",
      "---  ------             --------------   ----- \n",
      " 0   vehicle_type       305769 non-null  object\n",
      " 1   registration_year  305769 non-null  int64 \n",
      " 2   gearbox            305769 non-null  object\n",
      " 3   power              305769 non-null  int64 \n",
      " 4   model              305769 non-null  object\n",
      " 5   fuel_type          305769 non-null  object\n",
      " 6   brand              305769 non-null  object\n",
      " 7   repaired           305769 non-null  object\n",
      "dtypes: int64(2), object(6)\n",
      "memory usage: 21.0+ MB\n"
     ]
    },
    {
     "data": {
      "text/plain": [
       "None"
      ]
     },
     "metadata": {},
     "output_type": "display_data"
    }
   ],
   "source": [
    "display(X.info())\n",
    "# Числовые столбцы: registration_year, power\n",
    "# Категориальные столбцы: vehicle_type, gearbox, model, fuel_type, brand, repaired"
   ]
  },
  {
   "cell_type": "code",
   "execution_count": 24,
   "metadata": {},
   "outputs": [
    {
     "name": "stdout",
     "output_type": "stream",
     "text": [
      "['vehicle_type', 'gearbox', 'model', 'fuel_type', 'brand', 'repaired']\n",
      "['registration_year', 'power']\n"
     ]
    },
    {
     "data": {
      "text/html": [
       "<div>\n",
       "<style scoped>\n",
       "    .dataframe tbody tr th:only-of-type {\n",
       "        vertical-align: middle;\n",
       "    }\n",
       "\n",
       "    .dataframe tbody tr th {\n",
       "        vertical-align: top;\n",
       "    }\n",
       "\n",
       "    .dataframe thead th {\n",
       "        text-align: right;\n",
       "    }\n",
       "</style>\n",
       "<table border=\"1\" class=\"dataframe\">\n",
       "  <thead>\n",
       "    <tr style=\"text-align: right;\">\n",
       "      <th></th>\n",
       "      <th>vehicle_type</th>\n",
       "      <th>registration_year</th>\n",
       "      <th>gearbox</th>\n",
       "      <th>power</th>\n",
       "      <th>model</th>\n",
       "      <th>fuel_type</th>\n",
       "      <th>brand</th>\n",
       "      <th>repaired</th>\n",
       "      <th>price</th>\n",
       "    </tr>\n",
       "  </thead>\n",
       "  <tbody>\n",
       "    <tr>\n",
       "      <th>1</th>\n",
       "      <td>coupe</td>\n",
       "      <td>2011</td>\n",
       "      <td>manual</td>\n",
       "      <td>190</td>\n",
       "      <td>unknown</td>\n",
       "      <td>gasoline</td>\n",
       "      <td>audi</td>\n",
       "      <td>yes</td>\n",
       "      <td>18300</td>\n",
       "    </tr>\n",
       "    <tr>\n",
       "      <th>2</th>\n",
       "      <td>suv</td>\n",
       "      <td>2004</td>\n",
       "      <td>auto</td>\n",
       "      <td>163</td>\n",
       "      <td>grand</td>\n",
       "      <td>gasoline</td>\n",
       "      <td>jeep</td>\n",
       "      <td>no</td>\n",
       "      <td>9800</td>\n",
       "    </tr>\n",
       "    <tr>\n",
       "      <th>3</th>\n",
       "      <td>small</td>\n",
       "      <td>2001</td>\n",
       "      <td>manual</td>\n",
       "      <td>75</td>\n",
       "      <td>golf</td>\n",
       "      <td>petrol</td>\n",
       "      <td>volkswagen</td>\n",
       "      <td>no</td>\n",
       "      <td>1500</td>\n",
       "    </tr>\n",
       "    <tr>\n",
       "      <th>4</th>\n",
       "      <td>small</td>\n",
       "      <td>2008</td>\n",
       "      <td>manual</td>\n",
       "      <td>69</td>\n",
       "      <td>fabia</td>\n",
       "      <td>gasoline</td>\n",
       "      <td>skoda</td>\n",
       "      <td>no</td>\n",
       "      <td>3600</td>\n",
       "    </tr>\n",
       "    <tr>\n",
       "      <th>5</th>\n",
       "      <td>sedan</td>\n",
       "      <td>1995</td>\n",
       "      <td>manual</td>\n",
       "      <td>102</td>\n",
       "      <td>3er</td>\n",
       "      <td>petrol</td>\n",
       "      <td>bmw</td>\n",
       "      <td>yes</td>\n",
       "      <td>650</td>\n",
       "    </tr>\n",
       "  </tbody>\n",
       "</table>\n",
       "</div>"
      ],
      "text/plain": [
       "  vehicle_type  registration_year gearbox  power    model fuel_type  \\\n",
       "1        coupe               2011  manual    190  unknown  gasoline   \n",
       "2          suv               2004    auto    163    grand  gasoline   \n",
       "3        small               2001  manual     75     golf    petrol   \n",
       "4        small               2008  manual     69    fabia  gasoline   \n",
       "5        sedan               1995  manual    102      3er    petrol   \n",
       "\n",
       "        brand repaired  price  \n",
       "1        audi      yes  18300  \n",
       "2        jeep       no   9800  \n",
       "3  volkswagen       no   1500  \n",
       "4       skoda       no   3600  \n",
       "5         bmw      yes    650  "
      ]
     },
     "execution_count": 24,
     "metadata": {},
     "output_type": "execute_result"
    }
   ],
   "source": [
    "cat_columns = X.select_dtypes(include='object').columns.to_list()\n",
    "digital_columns = X.drop(cat_columns,axis = 1).columns.to_list()\n",
    "print (cat_columns)\n",
    "print (digital_columns)\n",
    "df.head()"
   ]
  },
  {
   "cell_type": "code",
   "execution_count": 25,
   "metadata": {},
   "outputs": [
    {
     "data": {
      "image/png": "[encoded data removed]",
      "text/plain": [
       "<Figure size 432x288 with 2 Axes>"
      ]
     },
     "metadata": {
      "needs_background": "light"
     },
     "output_type": "display_data"
    }
   ],
   "source": [
    "phik_overview = df.phik_matrix(interval_cols=['registration_year','power','price'])\n",
    "sns.heatmap(phik_overview,annot=True)\n",
    "plt.show()\n"
   ]
  },
  {
   "cell_type": "markdown",
   "metadata": {},
   "source": [
    "* C целевым столбцом коррелируют дата регистрации и модель, что логично и для нас не критично.\n",
    "* А вот корреляция цены и года регистрации, а также модели и коробки передач плохо для линейной регрессии, что скорее всего повлияет на качество модели."
   ]
  },
  {
   "cell_type": "code",
   "execution_count": 26,
   "metadata": {},
   "outputs": [],
   "source": [
    "X_train, X_test, y_train, y_test = train_test_split(\n",
    "    X, y, test_size=0.25, random_state=12345)\n",
    "\n",
    "# Для корректной работы бибилиотек в столбце признаков выделим категориальные признаки\n",
    "X_train[cat_columns] = X_train[cat_columns].astype(\"category\")\n",
    "X_test[cat_columns] = X_test[cat_columns].astype(\"category\")"
   ]
  },
  {
   "cell_type": "markdown",
   "metadata": {},
   "source": [
    "<div class=\"alert alert-block alert-success\">\n",
    "<b>✔️ Успех:</b> \n",
    "\n",
    "Данные поделены верно, пропорции выбраны адекватные 👍\n",
    "</div>"
   ]
  },
  {
   "cell_type": "markdown",
   "metadata": {},
   "source": [
    "### Обучение различных моделей"
   ]
  },
  {
   "cell_type": "markdown",
   "metadata": {},
   "source": [
    "#### LIGHT GBM"
   ]
  },
  {
   "cell_type": "code",
   "execution_count": 27,
   "metadata": {},
   "outputs": [
    {
     "name": "stdout",
     "output_type": "stream",
     "text": [
      "Лучший результат: 2054.6611138613134\n",
      "Лучшие параметры: {'learning_rate': 0.1, 'max_depth': 4, 'num_leaves': 200}\n",
      "CPU times: user 16.3 s, sys: 112 ms, total: 16.4 s\n",
      "Wall time: 16.4 s\n"
     ]
    }
   ],
   "source": [
    "%%time\n",
    "#Из-за проблем с сервером яндекс, пришлось урезать кол-во данных для обучения и параметров в GridSearch, \n",
    "#Локально все выполняется без проблем.\n",
    "model_lgbm = LGBMRegressor(random_state=12345) \n",
    "\n",
    "lgbm_grid = {'learning_rate': [0.1],\n",
    "             'max_depth': [4],\n",
    "             'num_leaves': [200]}\n",
    "\n",
    "grid_lgbm = GridSearchCV(estimator=model_lgbm, \n",
    "                     param_grid = lgbm_grid, \n",
    "                     cv = 2, \n",
    "                     n_jobs=-1,\n",
    "                     scoring='neg_root_mean_squared_error')\n",
    "\n",
    "\n",
    "grid_lgbm.fit(X_train.head(10000), y_train.head(10000))\n",
    "\n",
    "res_lgbm = -grid_lgbm.best_score_\n",
    "params_lgbm = grid_lgbm.best_params_\n",
    "\n",
    "print ('Лучший результат:', res_lgbm)\n",
    "print ('Лучшие параметры:', params_lgbm)\n"
   ]
  },
  {
   "cell_type": "markdown",
   "metadata": {},
   "source": [
    "* Хорошее MSE (по условию задачи требуется менее 2500)\n",
    "* Обучение проходило довольно долго - 14с."
   ]
  },
  {
   "cell_type": "markdown",
   "metadata": {},
   "source": [
    "#### CAT BOOST"
   ]
  },
  {
   "cell_type": "code",
   "execution_count": 28,
   "metadata": {},
   "outputs": [
    {
     "name": "stdout",
     "output_type": "stream",
     "text": [
      "Лучший результат: 1826.7641282448699\n",
      "Лучшие параметры: {'depth': 10, 'l2_leaf_reg': 1, 'learning_rate': 0.1}\n",
      "CPU times: user 2min 19s, sys: 937 ms, total: 2min 20s\n",
      "Wall time: 2min 33s\n"
     ]
    }
   ],
   "source": [
    "%%time\n",
    "catboost = CatBoostRegressor(logging_level = 'Silent',\n",
    "                             cat_features = cat_columns,\n",
    "                             iterations=100\n",
    "                            )\n",
    "cb_grid = {'learning_rate': [0.03, 0.1],\n",
    "       'depth': [10],\n",
    "       'l2_leaf_reg': [1, 3, 5, 7, 9]}\n",
    "grid  = GridSearchCV(estimator=catboost, \n",
    "                     param_grid = cb_grid, \n",
    "                     cv = 2, \n",
    "                     n_jobs=-1,\n",
    "                     scoring='neg_root_mean_squared_error')\n",
    "\n",
    "grid.fit(X_train, y_train)\n",
    "\n",
    "res_cat = -grid.best_score_\n",
    "\n",
    "print ('Лучший результат:', res_cat)\n",
    "print ('Лучшие параметры:', grid.best_params_)"
   ]
  },
  {
   "cell_type": "markdown",
   "metadata": {},
   "source": [
    "* MSE хуже, чем в GBM, зато время обработки - в 3 раза быстрее, чем в Light GBM"
   ]
  },
  {
   "cell_type": "markdown",
   "metadata": {},
   "source": [
    "#### Линейная регрессия\n",
    "Т.к. классические методы не работают с незакодированными категориальными признаками. Сделаем для них отдельные признаки"
   ]
  },
  {
   "cell_type": "code",
   "execution_count": 29,
   "metadata": {},
   "outputs": [
    {
     "data": {
      "text/html": [
       "<div>\n",
       "<style scoped>\n",
       "    .dataframe tbody tr th:only-of-type {\n",
       "        vertical-align: middle;\n",
       "    }\n",
       "\n",
       "    .dataframe tbody tr th {\n",
       "        vertical-align: top;\n",
       "    }\n",
       "\n",
       "    .dataframe thead th {\n",
       "        text-align: right;\n",
       "    }\n",
       "</style>\n",
       "<table border=\"1\" class=\"dataframe\">\n",
       "  <thead>\n",
       "    <tr style=\"text-align: right;\">\n",
       "      <th></th>\n",
       "      <th>vehicle_type</th>\n",
       "      <th>registration_year</th>\n",
       "      <th>gearbox</th>\n",
       "      <th>power</th>\n",
       "      <th>model</th>\n",
       "      <th>fuel_type</th>\n",
       "      <th>brand</th>\n",
       "      <th>repaired</th>\n",
       "    </tr>\n",
       "  </thead>\n",
       "  <tbody>\n",
       "    <tr>\n",
       "      <th>244440</th>\n",
       "      <td>7.0</td>\n",
       "      <td>1998</td>\n",
       "      <td>1.0</td>\n",
       "      <td>136</td>\n",
       "      <td>42.0</td>\n",
       "      <td>6.0</td>\n",
       "      <td>24.0</td>\n",
       "      <td>1.0</td>\n",
       "    </tr>\n",
       "    <tr>\n",
       "      <th>8153</th>\n",
       "      <td>5.0</td>\n",
       "      <td>2012</td>\n",
       "      <td>0.0</td>\n",
       "      <td>70</td>\n",
       "      <td>106.0</td>\n",
       "      <td>6.0</td>\n",
       "      <td>32.0</td>\n",
       "      <td>0.0</td>\n",
       "    </tr>\n",
       "    <tr>\n",
       "      <th>179129</th>\n",
       "      <td>0.0</td>\n",
       "      <td>2006</td>\n",
       "      <td>0.0</td>\n",
       "      <td>150</td>\n",
       "      <td>237.0</td>\n",
       "      <td>2.0</td>\n",
       "      <td>20.0</td>\n",
       "      <td>0.0</td>\n",
       "    </tr>\n",
       "    <tr>\n",
       "      <th>295443</th>\n",
       "      <td>7.0</td>\n",
       "      <td>2000</td>\n",
       "      <td>1.0</td>\n",
       "      <td>83</td>\n",
       "      <td>166.0</td>\n",
       "      <td>6.0</td>\n",
       "      <td>22.0</td>\n",
       "      <td>0.0</td>\n",
       "    </tr>\n",
       "    <tr>\n",
       "      <th>184607</th>\n",
       "      <td>0.0</td>\n",
       "      <td>2008</td>\n",
       "      <td>1.0</td>\n",
       "      <td>75</td>\n",
       "      <td>50.0</td>\n",
       "      <td>2.0</td>\n",
       "      <td>5.0</td>\n",
       "      <td>0.0</td>\n",
       "    </tr>\n",
       "  </tbody>\n",
       "</table>\n",
       "</div>"
      ],
      "text/plain": [
       "        vehicle_type  registration_year  gearbox  power  model  fuel_type  \\\n",
       "244440           7.0               1998      1.0    136   42.0        6.0   \n",
       "8153             5.0               2012      0.0     70  106.0        6.0   \n",
       "179129           0.0               2006      0.0    150  237.0        2.0   \n",
       "295443           7.0               2000      1.0     83  166.0        6.0   \n",
       "184607           0.0               2008      1.0     75   50.0        2.0   \n",
       "\n",
       "        brand  repaired  \n",
       "244440   24.0       1.0  \n",
       "8153     32.0       0.0  \n",
       "179129   20.0       0.0  \n",
       "295443   22.0       0.0  \n",
       "184607    5.0       0.0  "
      ]
     },
     "execution_count": 29,
     "metadata": {},
     "output_type": "execute_result"
    }
   ],
   "source": [
    "ord_encoder = OrdinalEncoder()\n",
    "X_train_coded = X_train.copy()\n",
    "X_train_coded[cat_columns] = ord_encoder.fit_transform(X_train[cat_columns])\n",
    "X_test_coded = X_test.copy()\n",
    "X_test_coded[cat_columns] = ord_encoder.fit_transform(X_test[cat_columns])\n",
    "X_train_coded.head()"
   ]
  },
  {
   "cell_type": "code",
   "execution_count": 30,
   "metadata": {},
   "outputs": [
    {
     "name": "stdout",
     "output_type": "stream",
     "text": [
      "MSE с помощью классической линейной регрессии = 3790.23\n",
      "CPU times: user 89.3 ms, sys: 56.2 ms, total: 146 ms\n",
      "Wall time: 119 ms\n"
     ]
    }
   ],
   "source": [
    "%%time \n",
    "#Посмотрим как отработает модель с кодированием Ordinal\n",
    "model_lr = LinearRegression()\n",
    "model_lr.fit(X_train_coded,y_train)\n",
    "y_pred = model_lr.predict(X_test_coded)\n",
    "\n",
    "res_lr = mean_squared_error(y_pred, y_test)**0.5\n",
    "print ('MSE с помощью классической линейной регрессии = {:2.2f}'.format(res_lr))\n"
   ]
  },
  {
   "cell_type": "markdown",
   "metadata": {},
   "source": [
    "* Как и ожидалось линейная регрессия отработала плохо по 2 причинам.\n",
    "    1. Между некоторыми признаками есть сильная корреляция.\n",
    "    2. Метод кодирования Ordinal является не самым лучшим, т.к. он фактически делаем измеримую разницу между названиями, хотя по факту этого быть не должно.\n",
    "* Попробуем дать линейной регрессии второй шанс и использовать метод кодирования OHE. Также применим StandartScaler к числовым столбцам"
   ]
  },
  {
   "cell_type": "code",
   "execution_count": 31,
   "metadata": {},
   "outputs": [
    {
     "data": {
      "text/html": [
       "<div>\n",
       "<style scoped>\n",
       "    .dataframe tbody tr th:only-of-type {\n",
       "        vertical-align: middle;\n",
       "    }\n",
       "\n",
       "    .dataframe tbody tr th {\n",
       "        vertical-align: top;\n",
       "    }\n",
       "\n",
       "    .dataframe thead th {\n",
       "        text-align: right;\n",
       "    }\n",
       "</style>\n",
       "<table border=\"1\" class=\"dataframe\">\n",
       "  <thead>\n",
       "    <tr style=\"text-align: right;\">\n",
       "      <th></th>\n",
       "      <th>vehicle_type_convertible</th>\n",
       "      <th>vehicle_type_coupe</th>\n",
       "      <th>vehicle_type_other</th>\n",
       "      <th>vehicle_type_sedan</th>\n",
       "      <th>vehicle_type_small</th>\n",
       "      <th>vehicle_type_suv</th>\n",
       "      <th>vehicle_type_wagon</th>\n",
       "      <th>gearbox_manual</th>\n",
       "      <th>model_145</th>\n",
       "      <th>model_147</th>\n",
       "      <th>...</th>\n",
       "      <th>brand_sonstige_autos</th>\n",
       "      <th>brand_subaru</th>\n",
       "      <th>brand_suzuki</th>\n",
       "      <th>brand_toyota</th>\n",
       "      <th>brand_trabant</th>\n",
       "      <th>brand_volkswagen</th>\n",
       "      <th>brand_volvo</th>\n",
       "      <th>repaired_yes</th>\n",
       "      <th>registration_year</th>\n",
       "      <th>power</th>\n",
       "    </tr>\n",
       "  </thead>\n",
       "  <tbody>\n",
       "    <tr>\n",
       "      <th>0</th>\n",
       "      <td>0.0</td>\n",
       "      <td>0.0</td>\n",
       "      <td>0.0</td>\n",
       "      <td>0.0</td>\n",
       "      <td>0.0</td>\n",
       "      <td>0.0</td>\n",
       "      <td>1.0</td>\n",
       "      <td>1.0</td>\n",
       "      <td>0.0</td>\n",
       "      <td>0.0</td>\n",
       "      <td>...</td>\n",
       "      <td>0.0</td>\n",
       "      <td>0.0</td>\n",
       "      <td>0.0</td>\n",
       "      <td>0.0</td>\n",
       "      <td>0.0</td>\n",
       "      <td>0.0</td>\n",
       "      <td>0.0</td>\n",
       "      <td>1.0</td>\n",
       "      <td>-0.778733</td>\n",
       "      <td>0.065360</td>\n",
       "    </tr>\n",
       "    <tr>\n",
       "      <th>1</th>\n",
       "      <td>0.0</td>\n",
       "      <td>0.0</td>\n",
       "      <td>0.0</td>\n",
       "      <td>0.0</td>\n",
       "      <td>1.0</td>\n",
       "      <td>0.0</td>\n",
       "      <td>0.0</td>\n",
       "      <td>0.0</td>\n",
       "      <td>0.0</td>\n",
       "      <td>0.0</td>\n",
       "      <td>...</td>\n",
       "      <td>0.0</td>\n",
       "      <td>0.0</td>\n",
       "      <td>0.0</td>\n",
       "      <td>0.0</td>\n",
       "      <td>0.0</td>\n",
       "      <td>0.0</td>\n",
       "      <td>0.0</td>\n",
       "      <td>0.0</td>\n",
       "      <td>1.263930</td>\n",
       "      <td>-0.294735</td>\n",
       "    </tr>\n",
       "    <tr>\n",
       "      <th>2</th>\n",
       "      <td>0.0</td>\n",
       "      <td>0.0</td>\n",
       "      <td>0.0</td>\n",
       "      <td>0.0</td>\n",
       "      <td>0.0</td>\n",
       "      <td>0.0</td>\n",
       "      <td>0.0</td>\n",
       "      <td>0.0</td>\n",
       "      <td>0.0</td>\n",
       "      <td>0.0</td>\n",
       "      <td>...</td>\n",
       "      <td>0.0</td>\n",
       "      <td>0.0</td>\n",
       "      <td>0.0</td>\n",
       "      <td>0.0</td>\n",
       "      <td>0.0</td>\n",
       "      <td>0.0</td>\n",
       "      <td>0.0</td>\n",
       "      <td>0.0</td>\n",
       "      <td>0.388503</td>\n",
       "      <td>0.141744</td>\n",
       "    </tr>\n",
       "    <tr>\n",
       "      <th>3</th>\n",
       "      <td>0.0</td>\n",
       "      <td>0.0</td>\n",
       "      <td>0.0</td>\n",
       "      <td>0.0</td>\n",
       "      <td>0.0</td>\n",
       "      <td>0.0</td>\n",
       "      <td>1.0</td>\n",
       "      <td>1.0</td>\n",
       "      <td>0.0</td>\n",
       "      <td>0.0</td>\n",
       "      <td>...</td>\n",
       "      <td>0.0</td>\n",
       "      <td>0.0</td>\n",
       "      <td>0.0</td>\n",
       "      <td>0.0</td>\n",
       "      <td>0.0</td>\n",
       "      <td>0.0</td>\n",
       "      <td>0.0</td>\n",
       "      <td>0.0</td>\n",
       "      <td>-0.486924</td>\n",
       "      <td>-0.223807</td>\n",
       "    </tr>\n",
       "    <tr>\n",
       "      <th>4</th>\n",
       "      <td>0.0</td>\n",
       "      <td>0.0</td>\n",
       "      <td>0.0</td>\n",
       "      <td>0.0</td>\n",
       "      <td>0.0</td>\n",
       "      <td>0.0</td>\n",
       "      <td>0.0</td>\n",
       "      <td>1.0</td>\n",
       "      <td>0.0</td>\n",
       "      <td>0.0</td>\n",
       "      <td>...</td>\n",
       "      <td>0.0</td>\n",
       "      <td>0.0</td>\n",
       "      <td>0.0</td>\n",
       "      <td>0.0</td>\n",
       "      <td>0.0</td>\n",
       "      <td>0.0</td>\n",
       "      <td>0.0</td>\n",
       "      <td>0.0</td>\n",
       "      <td>0.680312</td>\n",
       "      <td>-0.267455</td>\n",
       "    </tr>\n",
       "  </tbody>\n",
       "</table>\n",
       "<p>5 rows × 305 columns</p>\n",
       "</div>"
      ],
      "text/plain": [
       "   vehicle_type_convertible  vehicle_type_coupe  vehicle_type_other  \\\n",
       "0                       0.0                 0.0                 0.0   \n",
       "1                       0.0                 0.0                 0.0   \n",
       "2                       0.0                 0.0                 0.0   \n",
       "3                       0.0                 0.0                 0.0   \n",
       "4                       0.0                 0.0                 0.0   \n",
       "\n",
       "   vehicle_type_sedan  vehicle_type_small  vehicle_type_suv  \\\n",
       "0                 0.0                 0.0               0.0   \n",
       "1                 0.0                 1.0               0.0   \n",
       "2                 0.0                 0.0               0.0   \n",
       "3                 0.0                 0.0               0.0   \n",
       "4                 0.0                 0.0               0.0   \n",
       "\n",
       "   vehicle_type_wagon  gearbox_manual  model_145  model_147  ...  \\\n",
       "0                 1.0             1.0        0.0        0.0  ...   \n",
       "1                 0.0             0.0        0.0        0.0  ...   \n",
       "2                 0.0             0.0        0.0        0.0  ...   \n",
       "3                 1.0             1.0        0.0        0.0  ...   \n",
       "4                 0.0             1.0        0.0        0.0  ...   \n",
       "\n",
       "   brand_sonstige_autos  brand_subaru  brand_suzuki  brand_toyota  \\\n",
       "0                   0.0           0.0           0.0           0.0   \n",
       "1                   0.0           0.0           0.0           0.0   \n",
       "2                   0.0           0.0           0.0           0.0   \n",
       "3                   0.0           0.0           0.0           0.0   \n",
       "4                   0.0           0.0           0.0           0.0   \n",
       "\n",
       "   brand_trabant  brand_volkswagen  brand_volvo  repaired_yes  \\\n",
       "0            0.0               0.0          0.0           1.0   \n",
       "1            0.0               0.0          0.0           0.0   \n",
       "2            0.0               0.0          0.0           0.0   \n",
       "3            0.0               0.0          0.0           0.0   \n",
       "4            0.0               0.0          0.0           0.0   \n",
       "\n",
       "   registration_year     power  \n",
       "0          -0.778733  0.065360  \n",
       "1           1.263930 -0.294735  \n",
       "2           0.388503  0.141744  \n",
       "3          -0.486924 -0.223807  \n",
       "4           0.680312 -0.267455  \n",
       "\n",
       "[5 rows x 305 columns]"
      ]
     },
     "execution_count": 31,
     "metadata": {},
     "output_type": "execute_result"
    }
   ],
   "source": [
    "# Создадим трансформер, который будет обрабатывать данные. Количественные - с помощью StandartScaler, качественные - OHE\n",
    "X_train_ohe = X_train.copy()\n",
    "\n",
    "col_transformer_ridge = make_column_transformer(\n",
    "    (\n",
    "        OneHotEncoder(drop='first', handle_unknown='ignore'),\n",
    "        cat_columns\n",
    "    ),\n",
    "    (\n",
    "        StandardScaler(), \n",
    "        digital_columns\n",
    "    ),\n",
    "    remainder='passthrough',\n",
    "    verbose_feature_names_out=False\n",
    ")\n",
    "\n",
    "X_train_ohe = pd.DataFrame.sparse.from_spmatrix(\n",
    "    col_transformer_ridge.fit_transform(X_train_ohe),\n",
    "    columns=col_transformer_ridge.get_feature_names_out()\n",
    ")\n",
    "X_train_ohe.head()"
   ]
  },
  {
   "cell_type": "code",
   "execution_count": 32,
   "metadata": {},
   "outputs": [
    {
     "data": {
      "text/html": [
       "<div>\n",
       "<style scoped>\n",
       "    .dataframe tbody tr th:only-of-type {\n",
       "        vertical-align: middle;\n",
       "    }\n",
       "\n",
       "    .dataframe tbody tr th {\n",
       "        vertical-align: top;\n",
       "    }\n",
       "\n",
       "    .dataframe thead th {\n",
       "        text-align: right;\n",
       "    }\n",
       "</style>\n",
       "<table border=\"1\" class=\"dataframe\">\n",
       "  <thead>\n",
       "    <tr style=\"text-align: right;\">\n",
       "      <th></th>\n",
       "      <th>vehicle_type_convertible</th>\n",
       "      <th>vehicle_type_coupe</th>\n",
       "      <th>vehicle_type_other</th>\n",
       "      <th>vehicle_type_sedan</th>\n",
       "      <th>vehicle_type_small</th>\n",
       "      <th>vehicle_type_suv</th>\n",
       "      <th>vehicle_type_wagon</th>\n",
       "      <th>gearbox_manual</th>\n",
       "      <th>model_145</th>\n",
       "      <th>model_147</th>\n",
       "      <th>...</th>\n",
       "      <th>brand_sonstige_autos</th>\n",
       "      <th>brand_subaru</th>\n",
       "      <th>brand_suzuki</th>\n",
       "      <th>brand_toyota</th>\n",
       "      <th>brand_trabant</th>\n",
       "      <th>brand_volkswagen</th>\n",
       "      <th>brand_volvo</th>\n",
       "      <th>repaired_yes</th>\n",
       "      <th>registration_year</th>\n",
       "      <th>power</th>\n",
       "    </tr>\n",
       "  </thead>\n",
       "  <tbody>\n",
       "    <tr>\n",
       "      <th>0</th>\n",
       "      <td>0.0</td>\n",
       "      <td>0.0</td>\n",
       "      <td>0.0</td>\n",
       "      <td>0.0</td>\n",
       "      <td>0.0</td>\n",
       "      <td>0.0</td>\n",
       "      <td>0.0</td>\n",
       "      <td>1.0</td>\n",
       "      <td>0.0</td>\n",
       "      <td>0.0</td>\n",
       "      <td>...</td>\n",
       "      <td>0.0</td>\n",
       "      <td>0.0</td>\n",
       "      <td>0.0</td>\n",
       "      <td>0.0</td>\n",
       "      <td>0.0</td>\n",
       "      <td>0.0</td>\n",
       "      <td>0.0</td>\n",
       "      <td>0.0</td>\n",
       "      <td>1.555739</td>\n",
       "      <td>0.174480</td>\n",
       "    </tr>\n",
       "    <tr>\n",
       "      <th>1</th>\n",
       "      <td>0.0</td>\n",
       "      <td>1.0</td>\n",
       "      <td>0.0</td>\n",
       "      <td>0.0</td>\n",
       "      <td>0.0</td>\n",
       "      <td>0.0</td>\n",
       "      <td>0.0</td>\n",
       "      <td>0.0</td>\n",
       "      <td>0.0</td>\n",
       "      <td>0.0</td>\n",
       "      <td>...</td>\n",
       "      <td>0.0</td>\n",
       "      <td>0.0</td>\n",
       "      <td>0.0</td>\n",
       "      <td>0.0</td>\n",
       "      <td>0.0</td>\n",
       "      <td>0.0</td>\n",
       "      <td>0.0</td>\n",
       "      <td>0.0</td>\n",
       "      <td>-0.778733</td>\n",
       "      <td>-0.267455</td>\n",
       "    </tr>\n",
       "    <tr>\n",
       "      <th>2</th>\n",
       "      <td>0.0</td>\n",
       "      <td>0.0</td>\n",
       "      <td>0.0</td>\n",
       "      <td>0.0</td>\n",
       "      <td>0.0</td>\n",
       "      <td>0.0</td>\n",
       "      <td>1.0</td>\n",
       "      <td>1.0</td>\n",
       "      <td>0.0</td>\n",
       "      <td>0.0</td>\n",
       "      <td>...</td>\n",
       "      <td>0.0</td>\n",
       "      <td>0.0</td>\n",
       "      <td>0.0</td>\n",
       "      <td>0.0</td>\n",
       "      <td>0.0</td>\n",
       "      <td>0.0</td>\n",
       "      <td>0.0</td>\n",
       "      <td>0.0</td>\n",
       "      <td>-0.195115</td>\n",
       "      <td>0.141744</td>\n",
       "    </tr>\n",
       "    <tr>\n",
       "      <th>3</th>\n",
       "      <td>0.0</td>\n",
       "      <td>0.0</td>\n",
       "      <td>0.0</td>\n",
       "      <td>0.0</td>\n",
       "      <td>1.0</td>\n",
       "      <td>0.0</td>\n",
       "      <td>0.0</td>\n",
       "      <td>1.0</td>\n",
       "      <td>0.0</td>\n",
       "      <td>0.0</td>\n",
       "      <td>...</td>\n",
       "      <td>0.0</td>\n",
       "      <td>0.0</td>\n",
       "      <td>0.0</td>\n",
       "      <td>0.0</td>\n",
       "      <td>0.0</td>\n",
       "      <td>0.0</td>\n",
       "      <td>0.0</td>\n",
       "      <td>1.0</td>\n",
       "      <td>-0.632829</td>\n",
       "      <td>-0.349295</td>\n",
       "    </tr>\n",
       "    <tr>\n",
       "      <th>4</th>\n",
       "      <td>0.0</td>\n",
       "      <td>0.0</td>\n",
       "      <td>0.0</td>\n",
       "      <td>0.0</td>\n",
       "      <td>1.0</td>\n",
       "      <td>0.0</td>\n",
       "      <td>0.0</td>\n",
       "      <td>0.0</td>\n",
       "      <td>0.0</td>\n",
       "      <td>0.0</td>\n",
       "      <td>...</td>\n",
       "      <td>0.0</td>\n",
       "      <td>0.0</td>\n",
       "      <td>0.0</td>\n",
       "      <td>0.0</td>\n",
       "      <td>0.0</td>\n",
       "      <td>0.0</td>\n",
       "      <td>0.0</td>\n",
       "      <td>0.0</td>\n",
       "      <td>1.263930</td>\n",
       "      <td>-0.011023</td>\n",
       "    </tr>\n",
       "  </tbody>\n",
       "</table>\n",
       "<p>5 rows × 305 columns</p>\n",
       "</div>"
      ],
      "text/plain": [
       "   vehicle_type_convertible  vehicle_type_coupe  vehicle_type_other  \\\n",
       "0                       0.0                 0.0                 0.0   \n",
       "1                       0.0                 1.0                 0.0   \n",
       "2                       0.0                 0.0                 0.0   \n",
       "3                       0.0                 0.0                 0.0   \n",
       "4                       0.0                 0.0                 0.0   \n",
       "\n",
       "   vehicle_type_sedan  vehicle_type_small  vehicle_type_suv  \\\n",
       "0                 0.0                 0.0               0.0   \n",
       "1                 0.0                 0.0               0.0   \n",
       "2                 0.0                 0.0               0.0   \n",
       "3                 0.0                 1.0               0.0   \n",
       "4                 0.0                 1.0               0.0   \n",
       "\n",
       "   vehicle_type_wagon  gearbox_manual  model_145  model_147  ...  \\\n",
       "0                 0.0             1.0        0.0        0.0  ...   \n",
       "1                 0.0             0.0        0.0        0.0  ...   \n",
       "2                 1.0             1.0        0.0        0.0  ...   \n",
       "3                 0.0             1.0        0.0        0.0  ...   \n",
       "4                 0.0             0.0        0.0        0.0  ...   \n",
       "\n",
       "   brand_sonstige_autos  brand_subaru  brand_suzuki  brand_toyota  \\\n",
       "0                   0.0           0.0           0.0           0.0   \n",
       "1                   0.0           0.0           0.0           0.0   \n",
       "2                   0.0           0.0           0.0           0.0   \n",
       "3                   0.0           0.0           0.0           0.0   \n",
       "4                   0.0           0.0           0.0           0.0   \n",
       "\n",
       "   brand_trabant  brand_volkswagen  brand_volvo  repaired_yes  \\\n",
       "0            0.0               0.0          0.0           0.0   \n",
       "1            0.0               0.0          0.0           0.0   \n",
       "2            0.0               0.0          0.0           0.0   \n",
       "3            0.0               0.0          0.0           1.0   \n",
       "4            0.0               0.0          0.0           0.0   \n",
       "\n",
       "   registration_year     power  \n",
       "0           1.555739  0.174480  \n",
       "1          -0.778733 -0.267455  \n",
       "2          -0.195115  0.141744  \n",
       "3          -0.632829 -0.349295  \n",
       "4           1.263930 -0.011023  \n",
       "\n",
       "[5 rows x 305 columns]"
      ]
     },
     "execution_count": 32,
     "metadata": {},
     "output_type": "execute_result"
    }
   ],
   "source": [
    "# трансформируем тестовую выборку\n",
    "X_test_ohe = X_test.copy()\n",
    "X_test_ohe = pd.DataFrame.sparse.from_spmatrix(\n",
    "    col_transformer_ridge.transform(X_test_ohe),\n",
    "    columns=col_transformer_ridge.get_feature_names_out()\n",
    ")\n",
    "X_test_ohe.head()"
   ]
  },
  {
   "cell_type": "markdown",
   "metadata": {},
   "source": [
    "Благодаря конутруктору количество столбцов совпадает в тестовой и обучающей выборках не смотря на то, что уникальные столбцы в некоторых столбцах не повторяются."
   ]
  },
  {
   "cell_type": "code",
   "execution_count": 33,
   "metadata": {},
   "outputs": [
    {
     "name": "stdout",
     "output_type": "stream",
     "text": [
      "MSE с помощью классической линейной регрессии = 3221.20\n",
      "CPU times: user 12.6 s, sys: 14.9 s, total: 27.5 s\n",
      "Wall time: 27.6 s\n"
     ]
    }
   ],
   "source": [
    "%%time \n",
    "#Посмотрим как отработает модель с кодированием OHE\n",
    "model_lr = LinearRegression()\n",
    "model_lr.fit(X_train_ohe,y_train)\n",
    "y_pred = model_lr.predict(X_test_ohe)\n",
    "res_lr = mean_squared_error(y_pred, y_test)**0.5\n",
    "print ('MSE с помощью классической линейной регрессии = {:2.2f}'.format(res_lr))"
   ]
  },
  {
   "cell_type": "markdown",
   "metadata": {},
   "source": [
    "Результат стал значительно лучше, но все равно не удовлетворяет требования заказчика."
   ]
  },
  {
   "cell_type": "markdown",
   "metadata": {},
   "source": [
    "<div class=\"alert alert-block alert-danger\">\n",
    "<b>❌ Замечание:</b>\n",
    "\n",
    "Кодировать данные стоит после разбиения)\n",
    "\n",
    "Кодирование переменных до разделения на обучающий и тестовый наборы может привести к \"утечке данных\". Это происходит потому, что кодирование во всем наборе данных, включая тестовый набор, может позволить модели запомнить целевые значения в тестовом наборе, которые не являются репрезентативными для реальных данных, с которыми модель еще не сталкивалась. Это может привести к чрезмерной подгонке и дать слишком оптимистичную оценку эффективности модели. Важно сначала разделить данные на обучающий и тестовый наборы, а затем выполнить кодирование, чтобы предотвратить утечку данных.\n",
    "</div>\n",
    "<font color = \"blue\"> Исправил. Кодирование сделано отдельно для тестовой и тренировочной выборок."
   ]
  },
  {
   "cell_type": "markdown",
   "metadata": {},
   "source": [
    "<div class=\"alert alert-block alert-success\">\n",
    "<b>V2 ✔️ Успешно исправлено</b>\n",
    "</div>"
   ]
  },
  {
   "cell_type": "markdown",
   "metadata": {},
   "source": [
    "<div class=\"alert alert-block alert-warning\">\n",
    "<b>⚠️ Совет:</b>\n",
    "\n",
    "Для прямого кодирования также есть вариант с fit и transform - OneHotEncoder из sklearn.\n",
    "  \n",
    "Вот блокнот с объяснением OneHotEncoder, make_column_transformer и make_pipeline:\n",
    "\n",
    "https://colab.research.google.com/drive/1_gAMXcQKoCShB_l8FNtYEejMnosm9mvt?usp=sharing\n",
    "</div>\n",
    "<font color = \"blue\"> Супер, спасибо за эту ссылку. Изначально у меня не получалось сделать OHE, т.к. уникальные значения в тестовой выборке не совпадали с тренировочной. Применив трансформер, все сработало четко."
   ]
  },
  {
   "cell_type": "markdown",
   "metadata": {},
   "source": [
    "<div class=\"alert alert-block alert-success\">\n",
    "<b>V2 ✔️ Успешно исправлено</b>\n",
    "</div>"
   ]
  },
  {
   "cell_type": "markdown",
   "metadata": {},
   "source": [
    "#### Дерево решений"
   ]
  },
  {
   "cell_type": "code",
   "execution_count": 34,
   "metadata": {},
   "outputs": [
    {
     "name": "stdout",
     "output_type": "stream",
     "text": [
      "Лучшие параметры: {'max_depth': 16, 'max_features': 9}\n",
      "Best MSE score:  1933.4534660655645\n",
      "CPU times: user 17 s, sys: 0 ns, total: 17 s\n",
      "Wall time: 17.1 s\n"
     ]
    }
   ],
   "source": [
    "%%time\n",
    "model_dr = DecisionTreeRegressor(random_state=12345) \n",
    "param_grid_dr = {\n",
    "    'max_depth': [3,9,14,16],\n",
    "    'max_features': [3,9,12]\n",
    "    \n",
    "}\n",
    "gs_dr = GridSearchCV(\n",
    "    model_dr, \n",
    "    param_grid=param_grid_dr, \n",
    "    scoring='neg_root_mean_squared_error', \n",
    "    cv = 5,\n",
    "    n_jobs=-1\n",
    ")\n",
    "\n",
    "gs_dr.fit (X_train_coded, y_train)\n",
    "\n",
    "res_dr = -gs_dr.best_score_\n",
    "print ('Лучшие параметры:',gs_dr.best_params_)\n",
    "print ('Best MSE score: ', res_dr)"
   ]
  },
  {
   "cell_type": "markdown",
   "metadata": {},
   "source": [
    "* А вот Дерево решений дало неплохое качество с высокой скоростью.\n",
    "* MSE получилось 1910, что ниже чем, в CAT boost и выше, чем в LGB.\n",
    "* Но здесь стоит отметить, что мы не подбирали гиперпараметры циклом. Если бы мы оставили тут цикл например для MAX DEPth, время обучения увеличилось бы в n - раз."
   ]
  },
  {
   "cell_type": "markdown",
   "metadata": {},
   "source": [
    "<div class=\"alert alert-block alert-danger\">\n",
    "<b>❌ Замечание:</b>\n",
    "\n",
    "Для моделей, основанных на деревьях решений, лучше использовать порядковое кодирование (OrdinalEncoder). Это должно ускорить их работу. Так как при большом количестве признаков, модель будет долго искать оптимальный сплит.\n",
    "</div>\n",
    "<font color = \"blue\"> Готово, для дерева решений был применен Ordinal кодер."
   ]
  },
  {
   "cell_type": "markdown",
   "metadata": {},
   "source": [
    "<div class=\"alert alert-block alert-success\">\n",
    "<b>V2 ✔️ Успешно исправлено</b>\n",
    "</div>"
   ]
  },
  {
   "cell_type": "markdown",
   "metadata": {},
   "source": [
    "<div class=\"alert alert-block alert-danger\">\n",
    "<b>❌ Замечание:</b>\n",
    "\n",
    "Стоит добавить оптимизацию (подбор гиперпараметров) хотя бы для одной модели.\n",
    "    \n",
    "В обучении нужно использовать кросс-валидацию, если у тебя всего две выборки.\n",
    "\n",
    "Можешь подбор гиперпараметров выполнить через GridSearchCV / RandomizedSearchCV ?)\n",
    "\n",
    "Либо можешь разделить данные на три выборки, и для обучения и анализа моделей использовать валидационную выборку.\n",
    "</div>\n",
    "<font color = \"blue\">Сделал через GridSearch для всех моделей. Но тут возникла сложность. Catboost стал очень долго обучаться при подборе гиперпараметров. Уменьшил кол-во итераций, стало терпимо. Если есть хорошая ссылка на ноутбук по настройки кэтбуста - был бы очень благодарен."
   ]
  },
  {
   "cell_type": "markdown",
   "metadata": {},
   "source": [
    "<div class=\"alert alert-block alert-success\">\n",
    "<b>V2 ✔️ Успешно исправлено</b>\n",
    "    \n",
    "Вот пример обучения модели:\n",
    "</div>\n",
    "\n",
    "```python\n",
    "import pandas as pd\n",
    "import numpy as np\n",
    "from catboost import CatBoostRegressor\n",
    "from sklearn.model_selection import GridSearchCV\n",
    "\n",
    "# Загрузите данные для обучения модели\n",
    "data = pd.read_csv('your_data.csv')\n",
    "\n",
    "# Разделите данные на признаки и целевую переменную\n",
    "X = data.drop('target_variable', axis=1)\n",
    "y = data['target_variable']\n",
    "\n",
    "# Определите модель CatBoost\n",
    "model = CatBoostRegressor()\n",
    "\n",
    "# Определите сетку гиперпараметров, которые вы хотите настроить\n",
    "param_grid = {'iterations': [100, 500, 1000],\n",
    "              'learning_rate': [0.01, 0.05, 0.1],\n",
    "              'depth': [4, 6, 8]}\n",
    "\n",
    "# Используйте GridSearchCV для настройки модели CatBoost с помощью сетки гиперпараметров\n",
    "grid_search = GridSearchCV(model, param_grid, cv=5, scoring='accuracy', n_jobs=-1)\n",
    "grid_result = grid_search.fit(X, y)\n",
    "\n",
    "# Выведите лучшие гиперпараметры и метрику\n",
    "print(f'Лучшие гиперпараметры: {grid_result.best_params_}')\n",
    "print(f'Точность на кросс-валидации: {grid_result.best_score_}')\n",
    "```"
   ]
  },
  {
   "cell_type": "markdown",
   "metadata": {},
   "source": [
    "## Анализ моделей"
   ]
  },
  {
   "cell_type": "markdown",
   "metadata": {},
   "source": [
    "<div class=\"alert alert-block alert-danger\">\n",
    "<b>❌ Замечание:</b>\n",
    "    \n",
    "Анализ моделей не должен включать тестовую выборку. Тестовая выборка используется в самом конце - в финальном тестировании лучшей модели. Выбирать лучшую модель, основываясь на результатах на тестовой выборке кажется неверным, так как это может привести к переобучению.\n",
    "\n",
    "Если валидационной выборки нет, то анализ моделей должен выглядеть так:\n",
    "\n",
    "1. RMSE вычисляется с помощью кросс-валидации на тренировочной выборке\n",
    "2. Время обучения = время model.fit(X_train, y_train)\n",
    "3. Время предсказания = model.predict(X_train)\n",
    "</div><font color = \"blue\"> Исправил, теперь на стадии обучения тестовая выборка не участвует нигде."
   ]
  },
  {
   "cell_type": "markdown",
   "metadata": {},
   "source": [
    "<div class=\"alert alert-block alert-success\">\n",
    "<b>V2 ✔️ Успешно исправлено</b>\n",
    "</div>"
   ]
  },
  {
   "cell_type": "code",
   "execution_count": 35,
   "metadata": {},
   "outputs": [
    {
     "data": {
      "text/html": [
       "<style  type=\"text/css\" >\n",
       "</style><table id=\"T_5bd05_\" ><thead>    <tr>        <th class=\"blank level0\" ></th>        <th class=\"col_heading level0 col0\" >Время обучения (сек)</th>        <th class=\"col_heading level0 col1\" >MSE</th>    </tr></thead><tbody>\n",
       "                <tr>\n",
       "                        <th id=\"T_5bd05_level0_row0\" class=\"row_heading level0 row0\" >LGBM</th>\n",
       "                        <td id=\"T_5bd05_row0_col0\" class=\"data row0 col0\" >16.10</td>\n",
       "                        <td id=\"T_5bd05_row0_col1\" class=\"data row0 col1\" >2054.66</td>\n",
       "            </tr>\n",
       "            <tr>\n",
       "                        <th id=\"T_5bd05_level0_row1\" class=\"row_heading level0 row1\" >CAT</th>\n",
       "                        <td id=\"T_5bd05_row1_col0\" class=\"data row1 col0\" >28.30</td>\n",
       "                        <td id=\"T_5bd05_row1_col1\" class=\"data row1 col1\" >1826.76</td>\n",
       "            </tr>\n",
       "            <tr>\n",
       "                        <th id=\"T_5bd05_level0_row2\" class=\"row_heading level0 row2\" >Линейная регрессия</th>\n",
       "                        <td id=\"T_5bd05_row2_col0\" class=\"data row2 col0\" >2.12</td>\n",
       "                        <td id=\"T_5bd05_row2_col1\" class=\"data row2 col1\" >3221.20</td>\n",
       "            </tr>\n",
       "            <tr>\n",
       "                        <th id=\"T_5bd05_level0_row3\" class=\"row_heading level0 row3\" >Дерево решений</th>\n",
       "                        <td id=\"T_5bd05_row3_col0\" class=\"data row3 col0\" >0.93</td>\n",
       "                        <td id=\"T_5bd05_row3_col1\" class=\"data row3 col1\" >1933.45</td>\n",
       "            </tr>\n",
       "    </tbody></table>"
      ],
      "text/plain": [
       "<pandas.io.formats.style.Styler at 0x7f03afbad220>"
      ]
     },
     "execution_count": 35,
     "metadata": {},
     "output_type": "execute_result"
    }
   ],
   "source": [
    "results = pd.DataFrame(data=[[16.1,res_lgbm],[28.3,res_cat],[2.12,res_lr],[0.93,res_dr]],\n",
    "                       index=['LGBM','CAT','Линейная регрессия','Дерево решений'],\n",
    "                       columns=['Время обучения (сек)', 'MSE']).style.format('{:.2f}')\n",
    "results"
   ]
  },
  {
   "cell_type": "markdown",
   "metadata": {},
   "source": [
    "На теущий момент сравнение не совсем корректно, ведь для мы использовали подбор параметров, но после передачи модели в экслуатацию мы можем не осуществлять эту процедуру и взять лучшие, которые мы определили ранее.\n",
    "Измерим время обучения каждой из 3 моделей без подбора:"
   ]
  },
  {
   "cell_type": "code",
   "execution_count": 36,
   "metadata": {},
   "outputs": [
    {
     "name": "stdout",
     "output_type": "stream",
     "text": [
      "\n",
      "CPU times: user 2min 48s, sys: 1.27 s, total: 2min 49s\n",
      "Wall time: 2min 50s\n"
     ]
    }
   ],
   "source": [
    "%%time\n",
    "model_lgbm_speed = LGBMRegressor(learning_rate = 0.1, \n",
    "                                 max_depth = 10, \n",
    "                                 num_leaves = 250,\n",
    "                                 random_state = 12345)\n",
    "model_lgbm_speed.fit(X_train,y_train)\n",
    "print()\n"
   ]
  },
  {
   "cell_type": "code",
   "execution_count": 37,
   "metadata": {},
   "outputs": [
    {
     "name": "stdout",
     "output_type": "stream",
     "text": [
      "\n",
      "CPU times: user 11.6 s, sys: 54.1 ms, total: 11.6 s\n",
      "Wall time: 12.4 s\n"
     ]
    }
   ],
   "source": [
    "%%time\n",
    "model_cat_speed = CatBoostRegressor(logging_level = 'Silent',\n",
    "                             cat_features = cat_columns,\n",
    "                             iterations=100,\n",
    "                             depth = 10,\n",
    "                             l2_leaf_reg = 1,\n",
    "                             learning_rate = 0.1)\n",
    "model_cat_speed.fit(X_train,y_train)\n",
    "print()"
   ]
  },
  {
   "cell_type": "code",
   "execution_count": 38,
   "metadata": {},
   "outputs": [
    {
     "name": "stdout",
     "output_type": "stream",
     "text": [
      "\n",
      "CPU times: user 13.3 s, sys: 16.9 s, total: 30.2 s\n",
      "Wall time: 30.1 s\n"
     ]
    }
   ],
   "source": [
    "%%time\n",
    "model_lr_speed = LinearRegression()\n",
    "model_lr_speed.fit(X_train_ohe,y_train)\n",
    "print()"
   ]
  },
  {
   "cell_type": "code",
   "execution_count": 39,
   "metadata": {},
   "outputs": [
    {
     "name": "stdout",
     "output_type": "stream",
     "text": [
      "\n",
      "CPU times: user 908 ms, sys: 47.2 ms, total: 955 ms\n",
      "Wall time: 984 ms\n"
     ]
    }
   ],
   "source": [
    "%%time\n",
    "model_dr_speed = DecisionTreeRegressor(max_depth=16,\n",
    "                                       max_features = 9,\n",
    "                                       random_state=12345) \n",
    "model_dr_speed.fit(X_train_ohe,y_train)\n",
    "print()"
   ]
  },
  {
   "cell_type": "code",
   "execution_count": 40,
   "metadata": {},
   "outputs": [
    {
     "data": {
      "text/html": [
       "<style  type=\"text/css\" >\n",
       "</style><table id=\"T_c2296_\" ><thead>    <tr>        <th class=\"blank level0\" ></th>        <th class=\"col_heading level0 col0\" >Время обучения (сек)</th>        <th class=\"col_heading level0 col1\" >MSE</th>    </tr></thead><tbody>\n",
       "                <tr>\n",
       "                        <th id=\"T_c2296_level0_row0\" class=\"row_heading level0 row0\" >LGBM</th>\n",
       "                        <td id=\"T_c2296_row0_col0\" class=\"data row0 col0\" >11.90</td>\n",
       "                        <td id=\"T_c2296_row0_col1\" class=\"data row0 col1\" >2054.66</td>\n",
       "            </tr>\n",
       "            <tr>\n",
       "                        <th id=\"T_c2296_level0_row1\" class=\"row_heading level0 row1\" >CAT</th>\n",
       "                        <td id=\"T_c2296_row1_col0\" class=\"data row1 col0\" >10.60</td>\n",
       "                        <td id=\"T_c2296_row1_col1\" class=\"data row1 col1\" >1826.76</td>\n",
       "            </tr>\n",
       "            <tr>\n",
       "                        <th id=\"T_c2296_level0_row2\" class=\"row_heading level0 row2\" >Линейная регрессия</th>\n",
       "                        <td id=\"T_c2296_row2_col0\" class=\"data row2 col0\" >40.30</td>\n",
       "                        <td id=\"T_c2296_row2_col1\" class=\"data row2 col1\" >3221.20</td>\n",
       "            </tr>\n",
       "            <tr>\n",
       "                        <th id=\"T_c2296_level0_row3\" class=\"row_heading level0 row3\" >Дерево решений</th>\n",
       "                        <td id=\"T_c2296_row3_col0\" class=\"data row3 col0\" >0.88</td>\n",
       "                        <td id=\"T_c2296_row3_col1\" class=\"data row3 col1\" >1933.45</td>\n",
       "            </tr>\n",
       "    </tbody></table>"
      ],
      "text/plain": [
       "<pandas.io.formats.style.Styler at 0x7f03afbce430>"
      ]
     },
     "execution_count": 40,
     "metadata": {},
     "output_type": "execute_result"
    }
   ],
   "source": [
    "results = pd.DataFrame(data=[[11.9,res_lgbm],[10.6,res_cat],[40.3,res_lr],[0.88,res_dr]],\n",
    "                       index=['LGBM','CAT','Линейная регрессия','Дерево решений'],\n",
    "                       columns=['Время обучения (сек)', 'MSE']).style.format('{:.2f}')\n",
    "results"
   ]
  },
  {
   "cell_type": "markdown",
   "metadata": {},
   "source": [
    "Мы видим, что для данной задачи отлично подходит модель дерева решений, которая показала MSE 1933, что сопоставимо с работой более сложных моделей. При это из-за простоты и меньшего количества итераций использовать ее считаю оптимальным вариантом."
   ]
  },
  {
   "cell_type": "markdown",
   "metadata": {},
   "source": [
    "<div class=\"alert alert-block alert-warning\">\n",
    "<b>⚠️ Совет:</b>\n",
    "\n",
    "Приятно было бы видеть результаты в информативной таблице\n",
    "</div><font color = \"blue\"> Готово, таблицу добавил"
   ]
  },
  {
   "cell_type": "markdown",
   "metadata": {},
   "source": [
    "<div class=\"alert alert-block alert-success\">\n",
    "<b>V2 ✔️ Успешно исправлено</b>\n",
    "</div>"
   ]
  },
  {
   "cell_type": "markdown",
   "metadata": {},
   "source": [
    "## Тестирование лучшей модели"
   ]
  },
  {
   "cell_type": "code",
   "execution_count": 41,
   "metadata": {},
   "outputs": [
    {
     "name": "stdout",
     "output_type": "stream",
     "text": [
      "Результат модели на тестовой выборке 1826\n"
     ]
    }
   ],
   "source": [
    "# При тестирования дерева решений на тестовой выборке, результат получился не удовлетворительным, поэтому\n",
    "# я решил остановиться на модели Catboost\n",
    "# Протестируем выбранную модель на тестовой выборке\n",
    "y_pred = model_cat_speed.predict(X_test)\n",
    "mse_test = mean_squared_error(y_pred, y_test)**0.5\n",
    "print ('Результат модели на тестовой выборке',round(mse_test))"
   ]
  },
  {
   "cell_type": "markdown",
   "metadata": {},
   "source": [
    "<div class=\"alert alert-block alert-danger\">\n",
    "<b>❌ Замечание:</b>\n",
    "\n",
    "После анализа моделей нужно порекомендовать заказчику одну модель на основе его критериев и провести на ней финальное тестирование.\n",
    "    \n",
    "Лучше в обучении и анализе не использовать тестовую выборку. Выбирать лучшую модель, основываясь на результатах на тестовой выборке кажется неверным, так как это может привести к переобучению.\n",
    "</div>"
   ]
  },
  {
   "cell_type": "markdown",
   "metadata": {},
   "source": [
    "<div class=\"alert alert-block alert-success\">\n",
    "<b>V2 ✔️ Успешно исправлено</b>\n",
    "</div>"
   ]
  },
  {
   "cell_type": "markdown",
   "metadata": {},
   "source": [
    "<div class=\"alert alert-block alert-info\">\n",
    "<b>Комментарий ревьюера:</b>\n",
    "\n",
    "Чтобы все было ясно, напишу конкретный план (структуру) обучения и анализа моделей:\n",
    "\n",
    "1. Обучение моделей. В обучении нужно рассмотреть хотя бы одну простую модель и один бустинг. Подбор гиперпараметров нужно провести хотя бы одной модели. Тут есть два варианта:\n",
    "    - без валидационной выборки. Здесь нужно подбирать гиперпараметры с помощью кросс-валидации (GridSearchCV, RandomizedSearchCV или вручную (cross_val_score));\n",
    "    - валидационная выборка есть. Здесь можно не использовать кросс-валидацию и подбирать гиперпараметры вручную.  \n",
    "2. Анализ моделей. После нахождения лучших гиперпараметров стоит измерить время обучения, предсказания и RMSE. Тут тоже есть два варианта:\n",
    "    - без валидационной выборки. RMSE на кросс-валидации. Время обучения = время model.fit(X_train). Время предсказания  = model.predict(X_train);\n",
    "    - валидационная выборка есть. RMSE на validation. Время обучения = время model.fit(X_train). Время предсказания = время model.predict(X_valid).  \n",
    "    \n",
    "    После этого напиши вывод по анализу (можешь также результаты моделей занести в общую таблицу) и посоветуй заказчику одну модель на основе его критериев;\n",
    "3. Тестирование. Рассчитай финальную метрику лучшей модели на тестовой выборке (до этого тестовая выборка нигде не должна использоваться!). RMSE должно быть меньше 2500. Если метрика не дотягивает, попробуй исправить мои замечания, также можешь потюнить гиперпараметры (на этапе обучения моделей, не на тестовой выборке!)\n",
    "</div><font color = \"blue\"> Дуолан, хочу поблагодарить за это ревью. Именно тут я понял как работает Гридсерч (давно планировал его освоить) и кросс-валидация. Понимаю, что еще есть большой резерв роста в плане настроек моделей. Хочу поблагодарить за детальные комментарии и качественный контент в виде ссылок. С точки зрения полезности одно из лучших ревью за все время."
   ]
  },
  {
   "cell_type": "markdown",
   "metadata": {},
   "source": [
    "<div class=\"alert alert-block alert-info\">\n",
    "<b>V2 Комментарий ревьюера:</b>\n",
    "\n",
    "Рад, что ревью оказалось полезным)\n",
    "</div>"
   ]
  },
  {
   "cell_type": "markdown",
   "metadata": {},
   "source": [
    "### Итоговые выводы  \n",
    "1. В первой части мы детально изучили датафрейм. Привели их к формату PEP8\n",
    "2. В ходе предобработки удалили дубликаты, заполнили пропуски, где это возможно.\n",
    "3. Далее разделили данные на обучающую и тестовую выборки и на этих данных обучили 4 модели:\n",
    "   1. Градиентный бустинг модель Light - GBM - оказалась самой точной, но не самой быстрой*.\n",
    "   2. Градиентный бустинг модель CAT - GBM - отработала быстрее всего с хорошей точностью*.\n",
    "   3. Классицеская линейная регрессия - отработала с неудовлетворительным уровнем точности с длительным временем обучения.\n",
    "   4. Дерево решений. Без учета перебора гиперпараметров отработала быстро с хорошим уровнем точности.\n",
    "4. Для каждой модели рассчитали МSЕ\n",
    "5. Для линейных моделей мы использовали 2 вида кодирования категориальных признаков - OHE и Ordinal\n",
    "6. По итогам обучения мы определили лучшие параметры с помощью метода Gridsearch.\n",
    "7. П.6 дал на возможность определить лучшие параметры и мы смогли измерить время обучения для каждой из моделей.\n",
    "8. В итоге мы определились с моделью и выбрали Catboost. Она обладает дастаточно высокой точностью и оптимальным временем обучения."
   ]
  },
  {
   "cell_type": "markdown",
   "metadata": {},
   "source": [
    "<div class=\"alert alert-block alert-success\">\n",
    "<b>✔️ Успех:</b>\n",
    "\n",
    "Вывод соответствует исследованию 👍\n",
    "</div>"
   ]
  },
  {
   "cell_type": "markdown",
   "metadata": {},
   "source": [
    "# <font color='orange'>Общее впечатление</font>\n",
    "* Этот проект выполнен очень хорошо\n",
    "* Видно, что приложено много усилий\n",
    "* Молодец, что структурируешь ноутбук, приятно проверять такие работы\n",
    "* У тебя чистый и лаконичный код\n",
    "* Мне было интересно читать твои промежуточные выводы\n",
    "* Твой уровень подачи материала находится на высоком уровне\n",
    "* Исправь, пожалуйста, мои замечания. Затем отправляй на повторную проверку\n",
    "* Жду новую версию проекта 👋"
   ]
  },
  {
   "cell_type": "markdown",
   "metadata": {},
   "source": [
    "# <font color='orange'>2. Общее впечатление</font>\n",
    "* Спасибо за быстрое внесение правок\n",
    "* Теперь проект выглядит лучше )\n",
    "* Критических замечаний нет\n",
    "* Молодец, отличная работа!\n",
    "* Надеюсь, ревью было полезным\n",
    "* Удачи в дальнейшем обучении 👋"
   ]
  },
  {
   "cell_type": "markdown",
   "metadata": {},
   "source": [
    "# <font color='orange'>Рекомендации 🔥</font>\n",
    "* Доступное объяснение про работу градиентного бустинга https://www.youtube.com/watch?v=ZNJ3lKyI-EY&t=995s\n",
    "* После просмотра видео можешь почитать статью про ансамбли и бустинги https://habr.com/ru/company/ods/blog/645887/\n",
    "* Подбор гиперпараметров для CatBoost https://habr.com/ru/company/otus/blog/527554/\n",
    "* Подбор гиперпараметров для LightGBM https://programmersought.com/article/40776531516/\n",
    "* Разумные способы кодирования категориальных данных для машинного обучения https://machinelearningmastery.ru/smarter-ways-to-encode-categorical-data-for-machine-learning-part-1-of-3-6dca2f71b159/\n",
    "* Статья про \"непонятную\" метрику ROC-AUC https://dyakonov.org/2017/07/28/auc-roc-площадь-под-кривой-ошибок/\n",
    "* Хочешь подтянуть математику для DS?) https://academy.stepik.org/math-for-data-science\n",
    "* Результы обучения моделей можно визуализировать 😎 https://www.datatechnotes.com/2019/08/elasticnet-regression-example-in-python.html\n",
    "* В нашем деле нужно быть всегда в курсе всех новинок, новостей и тд, вот тут публикуют новости в области DS: https://www.infoq.com/data-analysis/news/\n",
    "* Всем аналитикам данных рекомендую книгу Даниела Канемана \"Думай медленно, решай быстро\""
   ]
  }
 ],
 "metadata": {
  "ExecuteTimeLog": [
   {
    "duration": 1392,
    "start_time": "2023-03-09T12:48:14.150Z"
   },
   {
    "duration": 0,
    "start_time": "2023-03-09T12:48:15.544Z"
   },
   {
    "duration": 0,
    "start_time": "2023-03-09T12:48:15.545Z"
   },
   {
    "duration": 0,
    "start_time": "2023-03-09T12:48:15.547Z"
   },
   {
    "duration": 0,
    "start_time": "2023-03-09T12:48:15.548Z"
   },
   {
    "duration": 0,
    "start_time": "2023-03-09T12:48:15.549Z"
   },
   {
    "duration": 0,
    "start_time": "2023-03-09T12:48:15.550Z"
   },
   {
    "duration": 0,
    "start_time": "2023-03-09T12:48:15.551Z"
   },
   {
    "duration": 0,
    "start_time": "2023-03-09T12:48:15.552Z"
   },
   {
    "duration": 0,
    "start_time": "2023-03-09T12:48:15.553Z"
   },
   {
    "duration": 0,
    "start_time": "2023-03-09T12:48:15.555Z"
   },
   {
    "duration": 0,
    "start_time": "2023-03-09T12:48:15.556Z"
   },
   {
    "duration": 0,
    "start_time": "2023-03-09T12:48:15.557Z"
   },
   {
    "duration": 0,
    "start_time": "2023-03-09T12:48:15.558Z"
   },
   {
    "duration": 0,
    "start_time": "2023-03-09T12:48:15.559Z"
   },
   {
    "duration": 0,
    "start_time": "2023-03-09T12:48:15.560Z"
   },
   {
    "duration": 0,
    "start_time": "2023-03-09T12:48:15.562Z"
   },
   {
    "duration": 0,
    "start_time": "2023-03-09T12:48:15.563Z"
   },
   {
    "duration": 0,
    "start_time": "2023-03-09T12:48:15.564Z"
   },
   {
    "duration": 0,
    "start_time": "2023-03-09T12:48:15.565Z"
   },
   {
    "duration": 0,
    "start_time": "2023-03-09T12:48:15.566Z"
   },
   {
    "duration": 0,
    "start_time": "2023-03-09T12:48:15.567Z"
   },
   {
    "duration": 0,
    "start_time": "2023-03-09T12:48:15.611Z"
   },
   {
    "duration": 0,
    "start_time": "2023-03-09T12:48:15.613Z"
   },
   {
    "duration": 0,
    "start_time": "2023-03-09T12:48:15.614Z"
   },
   {
    "duration": 0,
    "start_time": "2023-03-09T12:48:15.616Z"
   },
   {
    "duration": 0,
    "start_time": "2023-03-09T12:48:15.617Z"
   },
   {
    "duration": 0,
    "start_time": "2023-03-09T12:48:15.618Z"
   },
   {
    "duration": 2992,
    "start_time": "2023-03-09T12:48:40.711Z"
   },
   {
    "duration": 2005,
    "start_time": "2023-03-09T12:48:49.575Z"
   },
   {
    "duration": 1512,
    "start_time": "2023-03-09T12:48:51.583Z"
   },
   {
    "duration": 1875,
    "start_time": "2023-03-09T12:48:53.097Z"
   },
   {
    "duration": 130,
    "start_time": "2023-03-09T12:48:54.974Z"
   },
   {
    "duration": 4,
    "start_time": "2023-03-09T12:48:55.111Z"
   },
   {
    "duration": 381,
    "start_time": "2023-03-09T12:48:55.117Z"
   },
   {
    "duration": 340,
    "start_time": "2023-03-09T12:48:55.500Z"
   },
   {
    "duration": 4,
    "start_time": "2023-03-09T12:48:55.842Z"
   },
   {
    "duration": 476,
    "start_time": "2023-03-09T12:48:55.848Z"
   },
   {
    "duration": 530,
    "start_time": "2023-03-09T12:48:56.326Z"
   },
   {
    "duration": 33,
    "start_time": "2023-03-09T12:48:56.857Z"
   },
   {
    "duration": 403,
    "start_time": "2023-03-09T12:48:56.892Z"
   },
   {
    "duration": 276,
    "start_time": "2023-03-09T12:48:57.297Z"
   },
   {
    "duration": 256,
    "start_time": "2023-03-09T12:48:57.576Z"
   },
   {
    "duration": 198,
    "start_time": "2023-03-09T12:48:57.834Z"
   },
   {
    "duration": 29,
    "start_time": "2023-03-09T12:48:58.034Z"
   },
   {
    "duration": 249,
    "start_time": "2023-03-09T12:48:58.065Z"
   },
   {
    "duration": 883,
    "start_time": "2023-03-09T12:48:58.317Z"
   },
   {
    "duration": 4,
    "start_time": "2023-03-09T12:48:59.201Z"
   },
   {
    "duration": 13,
    "start_time": "2023-03-09T12:48:59.212Z"
   },
   {
    "duration": 65,
    "start_time": "2023-03-09T12:48:59.227Z"
   },
   {
    "duration": 12,
    "start_time": "2023-03-09T12:48:59.312Z"
   },
   {
    "duration": 4613,
    "start_time": "2023-03-09T12:48:59.325Z"
   },
   {
    "duration": 270,
    "start_time": "2023-03-09T12:49:03.940Z"
   },
   {
    "duration": 19619,
    "start_time": "2023-03-09T12:49:04.213Z"
   },
   {
    "duration": 2142,
    "start_time": "2023-03-09T12:49:23.834Z"
   },
   {
    "duration": 1143,
    "start_time": "2023-03-09T12:49:25.978Z"
   },
   {
    "duration": 19490,
    "start_time": "2023-03-09T12:49:27.123Z"
   },
   {
    "duration": 5930,
    "start_time": "2023-03-09T12:49:46.615Z"
   },
   {
    "duration": 208,
    "start_time": "2023-03-09T12:53:55.448Z"
   },
   {
    "duration": 1449,
    "start_time": "2023-03-09T12:54:16.682Z"
   },
   {
    "duration": 33,
    "start_time": "2023-03-09T13:11:48.608Z"
   },
   {
    "duration": 53,
    "start_time": "2023-03-09T13:11:59.581Z"
   },
   {
    "duration": 27,
    "start_time": "2023-03-09T13:12:13.933Z"
   },
   {
    "duration": 25,
    "start_time": "2023-03-09T13:12:26.279Z"
   },
   {
    "duration": 13,
    "start_time": "2023-03-09T13:13:12.536Z"
   },
   {
    "duration": 58,
    "start_time": "2023-03-09T13:13:35.885Z"
   },
   {
    "duration": 214,
    "start_time": "2023-03-09T13:13:59.839Z"
   },
   {
    "duration": 211,
    "start_time": "2023-03-09T13:14:28.010Z"
   },
   {
    "duration": 473,
    "start_time": "2023-03-09T13:16:27.939Z"
   },
   {
    "duration": 19611,
    "start_time": "2023-03-09T13:16:34.601Z"
   },
   {
    "duration": 5,
    "start_time": "2023-03-09T13:19:05.806Z"
   },
   {
    "duration": 450,
    "start_time": "2023-03-09T13:20:10.505Z"
   },
   {
    "duration": 601,
    "start_time": "2023-03-09T13:22:49.590Z"
   },
   {
    "duration": 671,
    "start_time": "2023-03-09T13:22:53.819Z"
   },
   {
    "duration": 801,
    "start_time": "2023-03-09T13:24:06.145Z"
   },
   {
    "duration": 816,
    "start_time": "2023-03-09T13:24:20.932Z"
   },
   {
    "duration": 339,
    "start_time": "2023-03-09T13:24:46.257Z"
   },
   {
    "duration": 81,
    "start_time": "2023-03-09T13:25:57.336Z"
   },
   {
    "duration": 495,
    "start_time": "2023-03-09T13:26:24.604Z"
   },
   {
    "duration": 4,
    "start_time": "2023-03-09T13:30:19.893Z"
   },
   {
    "duration": 842,
    "start_time": "2023-03-09T13:31:14.752Z"
   },
   {
    "duration": 280,
    "start_time": "2023-03-09T13:31:54.632Z"
   },
   {
    "duration": 303,
    "start_time": "2023-03-09T13:32:54.664Z"
   },
   {
    "duration": 24,
    "start_time": "2023-03-09T13:33:02.335Z"
   },
   {
    "duration": 26,
    "start_time": "2023-03-09T13:33:37.549Z"
   },
   {
    "duration": 290,
    "start_time": "2023-03-09T13:33:43.204Z"
   },
   {
    "duration": 11,
    "start_time": "2023-03-09T13:44:07.076Z"
   },
   {
    "duration": 23,
    "start_time": "2023-03-09T13:44:16.750Z"
   },
   {
    "duration": 10,
    "start_time": "2023-03-09T13:44:43.656Z"
   },
   {
    "duration": 11,
    "start_time": "2023-03-09T13:45:45.746Z"
   },
   {
    "duration": 11,
    "start_time": "2023-03-09T13:46:13.546Z"
   },
   {
    "duration": 23,
    "start_time": "2023-03-09T13:46:25.872Z"
   },
   {
    "duration": 862,
    "start_time": "2023-03-09T13:55:16.135Z"
   },
   {
    "duration": 11,
    "start_time": "2023-03-09T13:58:11.554Z"
   },
   {
    "duration": 24,
    "start_time": "2023-03-09T13:58:55.410Z"
   },
   {
    "duration": 11,
    "start_time": "2023-03-09T13:59:36.136Z"
   },
   {
    "duration": 70,
    "start_time": "2023-03-09T13:59:54.916Z"
   },
   {
    "duration": 53,
    "start_time": "2023-03-09T14:00:00.951Z"
   },
   {
    "duration": 8672,
    "start_time": "2023-03-09T14:00:22.872Z"
   },
   {
    "duration": 71,
    "start_time": "2023-03-09T14:01:07.789Z"
   },
   {
    "duration": 569,
    "start_time": "2023-03-09T14:01:51.965Z"
   },
   {
    "duration": 767,
    "start_time": "2023-03-09T14:02:05.816Z"
   },
   {
    "duration": 15,
    "start_time": "2023-03-09T14:02:40.904Z"
   },
   {
    "duration": 15,
    "start_time": "2023-03-09T14:02:52.990Z"
   },
   {
    "duration": 1287,
    "start_time": "2023-03-09T14:03:05.695Z"
   },
   {
    "duration": 959,
    "start_time": "2023-03-09T14:04:22.004Z"
   },
   {
    "duration": 11,
    "start_time": "2023-03-09T14:09:02.173Z"
   },
   {
    "duration": 2785,
    "start_time": "2023-03-09T14:09:25.805Z"
   },
   {
    "duration": 106,
    "start_time": "2023-03-09T14:09:36.695Z"
   },
   {
    "duration": 496,
    "start_time": "2023-03-09T14:12:27.125Z"
   },
   {
    "duration": 4,
    "start_time": "2023-03-09T14:13:17.600Z"
   },
   {
    "duration": 4,
    "start_time": "2023-03-09T14:13:17.606Z"
   },
   {
    "duration": 1727,
    "start_time": "2023-03-09T14:13:17.612Z"
   },
   {
    "duration": 1533,
    "start_time": "2023-03-09T14:13:19.341Z"
   },
   {
    "duration": 120,
    "start_time": "2023-03-09T14:13:20.877Z"
   },
   {
    "duration": 16,
    "start_time": "2023-03-09T14:13:20.998Z"
   },
   {
    "duration": 344,
    "start_time": "2023-03-09T14:13:21.016Z"
   },
   {
    "duration": 417,
    "start_time": "2023-03-09T14:13:21.362Z"
   },
   {
    "duration": 3,
    "start_time": "2023-03-09T14:13:21.782Z"
   },
   {
    "duration": 519,
    "start_time": "2023-03-09T14:13:21.787Z"
   },
   {
    "duration": 536,
    "start_time": "2023-03-09T14:13:22.311Z"
   },
   {
    "duration": 36,
    "start_time": "2023-03-09T14:13:22.849Z"
   },
   {
    "duration": 398,
    "start_time": "2023-03-09T14:13:22.886Z"
   },
   {
    "duration": 189,
    "start_time": "2023-03-09T14:13:23.286Z"
   },
   {
    "duration": 219,
    "start_time": "2023-03-09T14:13:23.477Z"
   },
   {
    "duration": 192,
    "start_time": "2023-03-09T14:13:23.697Z"
   },
   {
    "duration": 40,
    "start_time": "2023-03-09T14:13:23.891Z"
   },
   {
    "duration": 300,
    "start_time": "2023-03-09T14:13:23.933Z"
   },
   {
    "duration": 966,
    "start_time": "2023-03-09T14:13:24.235Z"
   },
   {
    "duration": 13,
    "start_time": "2023-03-09T14:13:25.203Z"
   },
   {
    "duration": 20,
    "start_time": "2023-03-09T14:13:25.218Z"
   },
   {
    "duration": 86,
    "start_time": "2023-03-09T14:13:25.241Z"
   },
   {
    "duration": 13,
    "start_time": "2023-03-09T14:13:25.330Z"
   },
   {
    "duration": 4731,
    "start_time": "2023-03-09T14:13:25.345Z"
   },
   {
    "duration": 251,
    "start_time": "2023-03-09T14:13:30.078Z"
   },
   {
    "duration": 855,
    "start_time": "2023-03-09T14:13:58.784Z"
   },
   {
    "duration": 10210,
    "start_time": "2023-03-09T14:13:59.641Z"
   },
   {
    "duration": 160,
    "start_time": "2023-03-09T14:14:09.852Z"
   },
   {
    "duration": 634,
    "start_time": "2023-03-09T14:14:10.015Z"
   },
   {
    "duration": 213,
    "start_time": "2023-03-09T14:14:10.653Z"
   },
   {
    "duration": 14569,
    "start_time": "2023-03-09T14:14:10.868Z"
   },
   {
    "duration": 1464,
    "start_time": "2023-03-09T14:14:25.439Z"
   },
   {
    "duration": 859,
    "start_time": "2023-03-09T14:14:56.314Z"
   },
   {
    "duration": 10052,
    "start_time": "2023-03-09T14:14:59.170Z"
   },
   {
    "duration": 12786,
    "start_time": "2023-03-09T14:15:50.108Z"
   },
   {
    "duration": 180,
    "start_time": "2023-03-09T14:16:46.341Z"
   },
   {
    "duration": 21846,
    "start_time": "2023-03-09T14:16:55.978Z"
   },
   {
    "duration": 12820,
    "start_time": "2023-03-09T14:18:15.874Z"
   },
   {
    "duration": 13052,
    "start_time": "2023-03-09T14:18:30.149Z"
   },
   {
    "duration": 24449,
    "start_time": "2023-03-09T14:19:59.901Z"
   },
   {
    "duration": 20262,
    "start_time": "2023-03-09T14:20:37.680Z"
   },
   {
    "duration": 12537,
    "start_time": "2023-03-09T14:21:08.951Z"
   },
   {
    "duration": 12800,
    "start_time": "2023-03-09T14:22:09.486Z"
   },
   {
    "duration": 22300,
    "start_time": "2023-03-09T14:24:07.646Z"
   },
   {
    "duration": 12724,
    "start_time": "2023-03-09T14:39:40.429Z"
   },
   {
    "duration": 12624,
    "start_time": "2023-03-09T14:40:04.026Z"
   },
   {
    "duration": 12628,
    "start_time": "2023-03-09T14:40:26.806Z"
   },
   {
    "duration": 19718,
    "start_time": "2023-03-09T14:46:20.826Z"
   },
   {
    "duration": 213,
    "start_time": "2023-03-09T15:15:03.128Z"
   },
   {
    "duration": 4,
    "start_time": "2023-03-09T15:15:16.925Z"
   },
   {
    "duration": 6,
    "start_time": "2023-03-09T15:15:16.931Z"
   },
   {
    "duration": 1542,
    "start_time": "2023-03-09T15:15:16.940Z"
   },
   {
    "duration": 1978,
    "start_time": "2023-03-09T15:15:18.484Z"
   },
   {
    "duration": 122,
    "start_time": "2023-03-09T15:15:20.465Z"
   },
   {
    "duration": 4,
    "start_time": "2023-03-09T15:15:20.589Z"
   },
   {
    "duration": 348,
    "start_time": "2023-03-09T15:15:20.594Z"
   },
   {
    "duration": 427,
    "start_time": "2023-03-09T15:15:20.944Z"
   },
   {
    "duration": 4,
    "start_time": "2023-03-09T15:15:21.373Z"
   },
   {
    "duration": 515,
    "start_time": "2023-03-09T15:15:21.379Z"
   },
   {
    "duration": 552,
    "start_time": "2023-03-09T15:15:21.896Z"
   },
   {
    "duration": 36,
    "start_time": "2023-03-09T15:15:22.451Z"
   },
   {
    "duration": 414,
    "start_time": "2023-03-09T15:15:22.489Z"
   },
   {
    "duration": 205,
    "start_time": "2023-03-09T15:15:22.907Z"
   },
   {
    "duration": 211,
    "start_time": "2023-03-09T15:15:23.114Z"
   },
   {
    "duration": 185,
    "start_time": "2023-03-09T15:15:23.327Z"
   },
   {
    "duration": 34,
    "start_time": "2023-03-09T15:15:23.514Z"
   },
   {
    "duration": 302,
    "start_time": "2023-03-09T15:15:23.551Z"
   },
   {
    "duration": 974,
    "start_time": "2023-03-09T15:15:23.854Z"
   },
   {
    "duration": 6,
    "start_time": "2023-03-09T15:15:24.829Z"
   },
   {
    "duration": 14,
    "start_time": "2023-03-09T15:15:24.837Z"
   },
   {
    "duration": 82,
    "start_time": "2023-03-09T15:15:24.853Z"
   },
   {
    "duration": 12,
    "start_time": "2023-03-09T15:15:24.936Z"
   },
   {
    "duration": 4623,
    "start_time": "2023-03-09T15:15:24.950Z"
   },
   {
    "duration": 235,
    "start_time": "2023-03-09T15:15:29.575Z"
   },
   {
    "duration": 176524,
    "start_time": "2023-03-09T15:15:29.812Z"
   },
   {
    "duration": 1597,
    "start_time": "2023-03-09T15:18:26.338Z"
   },
   {
    "duration": 12971,
    "start_time": "2023-03-09T15:18:28.841Z"
   },
   {
    "duration": 21951,
    "start_time": "2023-03-09T15:18:41.915Z"
   },
   {
    "duration": 609,
    "start_time": "2023-03-09T15:19:03.868Z"
   },
   {
    "duration": 1016,
    "start_time": "2023-03-09T15:19:04.538Z"
   },
   {
    "duration": 78,
    "start_time": "2023-03-09T15:19:05.555Z"
   },
   {
    "duration": 82,
    "start_time": "2023-03-09T15:19:05.635Z"
   },
   {
    "duration": 59,
    "start_time": "2023-03-09T15:27:38.793Z"
   },
   {
    "duration": 16,
    "start_time": "2023-03-09T15:32:22.294Z"
   },
   {
    "duration": 24,
    "start_time": "2023-03-09T15:32:33.559Z"
   },
   {
    "duration": 31,
    "start_time": "2023-03-09T15:32:44.704Z"
   },
   {
    "duration": 24,
    "start_time": "2023-03-09T15:32:50.563Z"
   },
   {
    "duration": 26,
    "start_time": "2023-03-09T15:33:40.953Z"
   },
   {
    "duration": 32,
    "start_time": "2023-03-09T15:33:48.308Z"
   },
   {
    "duration": 36,
    "start_time": "2023-03-09T15:33:55.494Z"
   },
   {
    "duration": 70,
    "start_time": "2023-03-09T15:35:13.066Z"
   },
   {
    "duration": 3,
    "start_time": "2023-03-09T15:36:51.929Z"
   },
   {
    "duration": 17,
    "start_time": "2023-03-09T15:37:56.742Z"
   },
   {
    "duration": 26,
    "start_time": "2023-03-09T15:38:26.955Z"
   },
   {
    "duration": 22,
    "start_time": "2023-03-09T15:38:44.089Z"
   },
   {
    "duration": 19,
    "start_time": "2023-03-09T15:38:51.364Z"
   },
   {
    "duration": 72,
    "start_time": "2023-03-09T15:39:30.871Z"
   },
   {
    "duration": 32,
    "start_time": "2023-03-09T15:40:47.430Z"
   },
   {
    "duration": 22,
    "start_time": "2023-03-09T15:40:56.607Z"
   },
   {
    "duration": 41,
    "start_time": "2023-03-09T15:41:00.648Z"
   },
   {
    "duration": 903,
    "start_time": "2023-03-09T15:43:23.155Z"
   },
   {
    "duration": 6094,
    "start_time": "2023-03-09T15:44:08.742Z"
   },
   {
    "duration": 63,
    "start_time": "2023-03-09T15:44:27.555Z"
   },
   {
    "duration": 890,
    "start_time": "2023-03-09T15:44:44.575Z"
   },
   {
    "duration": 36,
    "start_time": "2023-03-09T15:45:03.982Z"
   },
   {
    "duration": 28,
    "start_time": "2023-03-09T15:45:57.253Z"
   },
   {
    "duration": 1366,
    "start_time": "2023-03-09T15:46:32.358Z"
   },
   {
    "duration": 1265,
    "start_time": "2023-03-09T15:46:41.620Z"
   },
   {
    "duration": 2415,
    "start_time": "2023-03-09T15:46:58.392Z"
   },
   {
    "duration": 5,
    "start_time": "2023-03-09T15:47:17.434Z"
   },
   {
    "duration": 37,
    "start_time": "2023-03-09T15:47:28.740Z"
   },
   {
    "duration": 63,
    "start_time": "2023-03-09T15:48:05.801Z"
   },
   {
    "duration": 77,
    "start_time": "2023-03-09T15:49:34.369Z"
   },
   {
    "duration": 79,
    "start_time": "2023-03-09T15:49:59.899Z"
   },
   {
    "duration": 83,
    "start_time": "2023-03-09T15:50:40.226Z"
   },
   {
    "duration": 1021,
    "start_time": "2023-03-09T15:50:55.055Z"
   },
   {
    "duration": 1008,
    "start_time": "2023-03-09T15:51:19.522Z"
   },
   {
    "duration": 977,
    "start_time": "2023-03-09T15:51:32.685Z"
   },
   {
    "duration": 962,
    "start_time": "2023-03-09T15:51:44.430Z"
   },
   {
    "duration": 82,
    "start_time": "2023-03-09T15:53:18.257Z"
   },
   {
    "duration": 2179,
    "start_time": "2023-03-09T15:53:22.895Z"
   },
   {
    "duration": 4,
    "start_time": "2023-03-09T15:55:14.949Z"
   },
   {
    "duration": 5,
    "start_time": "2023-03-09T15:55:14.955Z"
   },
   {
    "duration": 4,
    "start_time": "2023-03-09T15:55:14.962Z"
   },
   {
    "duration": 2065,
    "start_time": "2023-03-09T15:55:14.968Z"
   },
   {
    "duration": 1795,
    "start_time": "2023-03-09T15:55:17.036Z"
   },
   {
    "duration": 131,
    "start_time": "2023-03-09T15:55:18.833Z"
   },
   {
    "duration": 3,
    "start_time": "2023-03-09T15:55:18.966Z"
   },
   {
    "duration": 405,
    "start_time": "2023-03-09T15:55:18.971Z"
   },
   {
    "duration": 395,
    "start_time": "2023-03-09T15:55:19.378Z"
   },
   {
    "duration": 3,
    "start_time": "2023-03-09T15:55:19.775Z"
   },
   {
    "duration": 518,
    "start_time": "2023-03-09T15:55:19.779Z"
   },
   {
    "duration": 578,
    "start_time": "2023-03-09T15:55:20.299Z"
   },
   {
    "duration": 48,
    "start_time": "2023-03-09T15:55:20.879Z"
   },
   {
    "duration": 525,
    "start_time": "2023-03-09T15:55:20.930Z"
   },
   {
    "duration": 239,
    "start_time": "2023-03-09T15:55:21.457Z"
   },
   {
    "duration": 229,
    "start_time": "2023-03-09T15:55:21.699Z"
   },
   {
    "duration": 202,
    "start_time": "2023-03-09T15:55:21.930Z"
   },
   {
    "duration": 37,
    "start_time": "2023-03-09T15:55:22.134Z"
   },
   {
    "duration": 258,
    "start_time": "2023-03-09T15:55:22.174Z"
   },
   {
    "duration": 1012,
    "start_time": "2023-03-09T15:55:22.434Z"
   },
   {
    "duration": 6,
    "start_time": "2023-03-09T15:55:23.448Z"
   },
   {
    "duration": 22,
    "start_time": "2023-03-09T15:55:23.455Z"
   },
   {
    "duration": 78,
    "start_time": "2023-03-09T15:55:23.479Z"
   },
   {
    "duration": 53,
    "start_time": "2023-03-09T15:55:23.560Z"
   },
   {
    "duration": 64061,
    "start_time": "2023-03-09T15:55:23.615Z"
   },
   {
    "duration": 234,
    "start_time": "2023-03-09T15:56:27.678Z"
   },
   {
    "duration": 30941,
    "start_time": "2023-03-09T15:56:27.914Z"
   },
   {
    "duration": 1691,
    "start_time": "2023-03-09T15:56:58.857Z"
   },
   {
    "duration": 899,
    "start_time": "2023-03-09T15:57:00.550Z"
   },
   {
    "duration": 106,
    "start_time": "2023-03-09T15:57:01.451Z"
   },
   {
    "duration": 1030,
    "start_time": "2023-03-09T15:57:01.558Z"
   },
   {
    "duration": 2300,
    "start_time": "2023-03-09T15:57:02.591Z"
   },
   {
    "duration": 595,
    "start_time": "2023-03-09T15:57:04.893Z"
   },
   {
    "duration": 152,
    "start_time": "2023-03-09T16:00:27.826Z"
   },
   {
    "duration": 5,
    "start_time": "2023-03-09T16:02:04.042Z"
   },
   {
    "duration": 51,
    "start_time": "2023-03-09T16:02:20.981Z"
   },
   {
    "duration": 43,
    "start_time": "2023-03-09T16:02:35.714Z"
   },
   {
    "duration": 519,
    "start_time": "2023-03-09T16:03:14.577Z"
   },
   {
    "duration": 56,
    "start_time": "2023-03-09T16:04:05.311Z"
   },
   {
    "duration": 47,
    "start_time": "2023-03-09T16:04:46.073Z"
   },
   {
    "duration": 511,
    "start_time": "2023-03-09T16:04:56.660Z"
   },
   {
    "duration": 546,
    "start_time": "2023-03-09T16:05:13.691Z"
   },
   {
    "duration": 557,
    "start_time": "2023-03-09T16:05:19.437Z"
   },
   {
    "duration": 356,
    "start_time": "2023-03-09T16:06:05.946Z"
   },
   {
    "duration": 3,
    "start_time": "2023-03-09T16:06:28.127Z"
   },
   {
    "duration": 35,
    "start_time": "2023-03-09T16:06:28.133Z"
   },
   {
    "duration": 28,
    "start_time": "2023-03-09T16:06:28.170Z"
   },
   {
    "duration": 2232,
    "start_time": "2023-03-09T16:06:28.200Z"
   },
   {
    "duration": 2860,
    "start_time": "2023-03-09T16:06:30.435Z"
   },
   {
    "duration": 139,
    "start_time": "2023-03-09T16:06:33.297Z"
   },
   {
    "duration": 3,
    "start_time": "2023-03-09T16:06:33.438Z"
   },
   {
    "duration": 398,
    "start_time": "2023-03-09T16:06:33.443Z"
   },
   {
    "duration": 417,
    "start_time": "2023-03-09T16:06:33.843Z"
   },
   {
    "duration": 4,
    "start_time": "2023-03-09T16:06:34.263Z"
   },
   {
    "duration": 536,
    "start_time": "2023-03-09T16:06:34.269Z"
   },
   {
    "duration": 570,
    "start_time": "2023-03-09T16:06:34.811Z"
   },
   {
    "duration": 37,
    "start_time": "2023-03-09T16:06:35.383Z"
   },
   {
    "duration": 554,
    "start_time": "2023-03-09T16:06:35.424Z"
   },
   {
    "duration": 224,
    "start_time": "2023-03-09T16:06:35.979Z"
   },
   {
    "duration": 285,
    "start_time": "2023-03-09T16:06:36.205Z"
   },
   {
    "duration": 255,
    "start_time": "2023-03-09T16:06:36.491Z"
   },
   {
    "duration": 37,
    "start_time": "2023-03-09T16:06:36.748Z"
   },
   {
    "duration": 252,
    "start_time": "2023-03-09T16:06:36.786Z"
   },
   {
    "duration": 965,
    "start_time": "2023-03-09T16:06:37.040Z"
   },
   {
    "duration": 8,
    "start_time": "2023-03-09T16:06:38.007Z"
   },
   {
    "duration": 21,
    "start_time": "2023-03-09T16:06:38.017Z"
   },
   {
    "duration": 82,
    "start_time": "2023-03-09T16:06:38.041Z"
   },
   {
    "duration": 34,
    "start_time": "2023-03-09T16:06:38.125Z"
   },
   {
    "duration": 69938,
    "start_time": "2023-03-09T16:06:38.160Z"
   },
   {
    "duration": 237,
    "start_time": "2023-03-09T16:07:48.100Z"
   },
   {
    "duration": 4,
    "start_time": "2023-03-09T16:10:12.351Z"
   },
   {
    "duration": 6,
    "start_time": "2023-03-09T16:10:12.357Z"
   },
   {
    "duration": 8,
    "start_time": "2023-03-09T16:10:12.365Z"
   },
   {
    "duration": 1395,
    "start_time": "2023-03-09T16:10:12.375Z"
   },
   {
    "duration": 1684,
    "start_time": "2023-03-09T16:10:13.772Z"
   },
   {
    "duration": 119,
    "start_time": "2023-03-09T16:10:15.458Z"
   },
   {
    "duration": 3,
    "start_time": "2023-03-09T16:10:15.579Z"
   },
   {
    "duration": 348,
    "start_time": "2023-03-09T16:10:15.585Z"
   },
   {
    "duration": 328,
    "start_time": "2023-03-09T16:10:15.934Z"
   },
   {
    "duration": 3,
    "start_time": "2023-03-09T16:10:16.265Z"
   },
   {
    "duration": 499,
    "start_time": "2023-03-09T16:10:16.272Z"
   },
   {
    "duration": 605,
    "start_time": "2023-03-09T16:10:16.773Z"
   },
   {
    "duration": 48,
    "start_time": "2023-03-09T16:10:17.380Z"
   },
   {
    "duration": 388,
    "start_time": "2023-03-09T16:10:17.430Z"
   },
   {
    "duration": 194,
    "start_time": "2023-03-09T16:10:17.820Z"
   },
   {
    "duration": 213,
    "start_time": "2023-03-09T16:10:18.016Z"
   },
   {
    "duration": 185,
    "start_time": "2023-03-09T16:10:18.231Z"
   },
   {
    "duration": 28,
    "start_time": "2023-03-09T16:10:18.418Z"
   },
   {
    "duration": 257,
    "start_time": "2023-03-09T16:10:18.448Z"
   },
   {
    "duration": 959,
    "start_time": "2023-03-09T16:10:18.711Z"
   },
   {
    "duration": 5,
    "start_time": "2023-03-09T16:10:19.672Z"
   },
   {
    "duration": 33,
    "start_time": "2023-03-09T16:10:19.679Z"
   },
   {
    "duration": 65,
    "start_time": "2023-03-09T16:10:19.714Z"
   },
   {
    "duration": 48,
    "start_time": "2023-03-09T16:10:19.781Z"
   },
   {
    "duration": 137,
    "start_time": "2023-03-09T16:10:19.831Z"
   },
   {
    "duration": 0,
    "start_time": "2023-03-09T16:10:19.970Z"
   },
   {
    "duration": 0,
    "start_time": "2023-03-09T16:10:19.971Z"
   },
   {
    "duration": 0,
    "start_time": "2023-03-09T16:10:19.972Z"
   },
   {
    "duration": 0,
    "start_time": "2023-03-09T16:10:19.974Z"
   },
   {
    "duration": 0,
    "start_time": "2023-03-09T16:10:19.975Z"
   },
   {
    "duration": 0,
    "start_time": "2023-03-09T16:10:19.976Z"
   },
   {
    "duration": 0,
    "start_time": "2023-03-09T16:10:19.977Z"
   },
   {
    "duration": 0,
    "start_time": "2023-03-09T16:10:19.978Z"
   },
   {
    "duration": 15,
    "start_time": "2023-03-09T16:10:51.320Z"
   },
   {
    "duration": 10,
    "start_time": "2023-03-09T16:10:58.427Z"
   },
   {
    "duration": 5,
    "start_time": "2023-03-09T16:16:03.245Z"
   },
   {
    "duration": 9,
    "start_time": "2023-03-09T16:16:03.252Z"
   },
   {
    "duration": 8,
    "start_time": "2023-03-09T16:16:03.262Z"
   },
   {
    "duration": 1418,
    "start_time": "2023-03-09T16:16:03.272Z"
   },
   {
    "duration": 1744,
    "start_time": "2023-03-09T16:16:04.692Z"
   },
   {
    "duration": 128,
    "start_time": "2023-03-09T16:16:06.438Z"
   },
   {
    "duration": 5,
    "start_time": "2023-03-09T16:16:06.568Z"
   },
   {
    "duration": 388,
    "start_time": "2023-03-09T16:16:06.575Z"
   },
   {
    "duration": 358,
    "start_time": "2023-03-09T16:16:06.965Z"
   },
   {
    "duration": 5,
    "start_time": "2023-03-09T16:16:07.326Z"
   },
   {
    "duration": 545,
    "start_time": "2023-03-09T16:16:07.333Z"
   },
   {
    "duration": 532,
    "start_time": "2023-03-09T16:16:07.880Z"
   },
   {
    "duration": 35,
    "start_time": "2023-03-09T16:16:08.414Z"
   },
   {
    "duration": 486,
    "start_time": "2023-03-09T16:16:08.451Z"
   },
   {
    "duration": 194,
    "start_time": "2023-03-09T16:16:08.939Z"
   },
   {
    "duration": 219,
    "start_time": "2023-03-09T16:16:09.135Z"
   },
   {
    "duration": 207,
    "start_time": "2023-03-09T16:16:09.356Z"
   },
   {
    "duration": 38,
    "start_time": "2023-03-09T16:16:09.564Z"
   },
   {
    "duration": 294,
    "start_time": "2023-03-09T16:16:09.613Z"
   },
   {
    "duration": 923,
    "start_time": "2023-03-09T16:16:09.911Z"
   },
   {
    "duration": 4,
    "start_time": "2023-03-09T16:16:10.836Z"
   },
   {
    "duration": 16,
    "start_time": "2023-03-09T16:16:10.842Z"
   },
   {
    "duration": 87,
    "start_time": "2023-03-09T16:16:10.859Z"
   },
   {
    "duration": 36,
    "start_time": "2023-03-09T16:16:10.948Z"
   },
   {
    "duration": 5091,
    "start_time": "2023-03-09T16:16:11.013Z"
   },
   {
    "duration": 236,
    "start_time": "2023-03-09T16:16:16.106Z"
   },
   {
    "duration": 211786,
    "start_time": "2023-03-09T16:16:16.344Z"
   },
   {
    "duration": 1571,
    "start_time": "2023-03-09T16:19:48.133Z"
   },
   {
    "duration": 819,
    "start_time": "2023-03-09T16:19:49.705Z"
   },
   {
    "duration": 106,
    "start_time": "2023-03-09T16:19:50.525Z"
   },
   {
    "duration": 1041,
    "start_time": "2023-03-09T16:19:50.632Z"
   },
   {
    "duration": 181,
    "start_time": "2023-03-09T16:19:51.675Z"
   },
   {
    "duration": 0,
    "start_time": "2023-03-09T16:19:51.858Z"
   },
   {
    "duration": 84,
    "start_time": "2023-03-09T16:26:54.937Z"
   },
   {
    "duration": 4,
    "start_time": "2023-03-10T10:16:22.258Z"
   },
   {
    "duration": 8,
    "start_time": "2023-03-10T10:16:22.263Z"
   },
   {
    "duration": 5,
    "start_time": "2023-03-10T10:16:22.273Z"
   },
   {
    "duration": 1435,
    "start_time": "2023-03-10T10:16:22.280Z"
   },
   {
    "duration": 0,
    "start_time": "2023-03-10T10:16:23.717Z"
   },
   {
    "duration": 0,
    "start_time": "2023-03-10T10:16:23.718Z"
   },
   {
    "duration": 0,
    "start_time": "2023-03-10T10:16:23.720Z"
   },
   {
    "duration": 0,
    "start_time": "2023-03-10T10:16:23.721Z"
   },
   {
    "duration": 0,
    "start_time": "2023-03-10T10:16:23.722Z"
   },
   {
    "duration": 0,
    "start_time": "2023-03-10T10:16:23.723Z"
   },
   {
    "duration": 0,
    "start_time": "2023-03-10T10:16:23.724Z"
   },
   {
    "duration": 0,
    "start_time": "2023-03-10T10:16:23.726Z"
   },
   {
    "duration": 0,
    "start_time": "2023-03-10T10:16:23.727Z"
   },
   {
    "duration": 0,
    "start_time": "2023-03-10T10:16:23.728Z"
   },
   {
    "duration": 0,
    "start_time": "2023-03-10T10:16:23.729Z"
   },
   {
    "duration": 0,
    "start_time": "2023-03-10T10:16:23.730Z"
   },
   {
    "duration": 0,
    "start_time": "2023-03-10T10:16:23.732Z"
   },
   {
    "duration": 0,
    "start_time": "2023-03-10T10:16:23.733Z"
   },
   {
    "duration": 0,
    "start_time": "2023-03-10T10:16:23.734Z"
   },
   {
    "duration": 0,
    "start_time": "2023-03-10T10:16:23.735Z"
   },
   {
    "duration": 0,
    "start_time": "2023-03-10T10:16:23.736Z"
   },
   {
    "duration": 0,
    "start_time": "2023-03-10T10:16:23.737Z"
   },
   {
    "duration": 0,
    "start_time": "2023-03-10T10:16:23.738Z"
   },
   {
    "duration": 0,
    "start_time": "2023-03-10T10:16:23.739Z"
   },
   {
    "duration": 0,
    "start_time": "2023-03-10T10:16:23.740Z"
   },
   {
    "duration": 0,
    "start_time": "2023-03-10T10:16:23.742Z"
   },
   {
    "duration": 0,
    "start_time": "2023-03-10T10:16:23.743Z"
   },
   {
    "duration": 0,
    "start_time": "2023-03-10T10:16:23.744Z"
   },
   {
    "duration": 0,
    "start_time": "2023-03-10T10:16:23.745Z"
   },
   {
    "duration": 0,
    "start_time": "2023-03-10T10:16:23.746Z"
   },
   {
    "duration": 0,
    "start_time": "2023-03-10T10:16:23.747Z"
   },
   {
    "duration": 3325,
    "start_time": "2023-03-10T10:16:34.959Z"
   },
   {
    "duration": 2909,
    "start_time": "2023-03-10T10:16:42.575Z"
   },
   {
    "duration": 6189,
    "start_time": "2023-03-10T10:16:49.114Z"
   },
   {
    "duration": 4,
    "start_time": "2023-03-10T10:17:04.814Z"
   },
   {
    "duration": 15,
    "start_time": "2023-03-10T10:17:04.820Z"
   },
   {
    "duration": 14,
    "start_time": "2023-03-10T10:17:04.836Z"
   },
   {
    "duration": 1460,
    "start_time": "2023-03-10T10:17:04.852Z"
   },
   {
    "duration": 1510,
    "start_time": "2023-03-10T10:17:06.314Z"
   },
   {
    "duration": 143,
    "start_time": "2023-03-10T10:17:07.825Z"
   },
   {
    "duration": 3,
    "start_time": "2023-03-10T10:17:07.970Z"
   },
   {
    "duration": 406,
    "start_time": "2023-03-10T10:17:07.974Z"
   },
   {
    "duration": 389,
    "start_time": "2023-03-10T10:17:08.382Z"
   },
   {
    "duration": 3,
    "start_time": "2023-03-10T10:17:08.773Z"
   },
   {
    "duration": 496,
    "start_time": "2023-03-10T10:17:08.778Z"
   },
   {
    "duration": 512,
    "start_time": "2023-03-10T10:17:09.276Z"
   },
   {
    "duration": 35,
    "start_time": "2023-03-10T10:17:09.793Z"
   },
   {
    "duration": 495,
    "start_time": "2023-03-10T10:17:09.830Z"
   },
   {
    "duration": 187,
    "start_time": "2023-03-10T10:17:10.327Z"
   },
   {
    "duration": 200,
    "start_time": "2023-03-10T10:17:10.515Z"
   },
   {
    "duration": 197,
    "start_time": "2023-03-10T10:17:10.716Z"
   },
   {
    "duration": 28,
    "start_time": "2023-03-10T10:17:10.915Z"
   },
   {
    "duration": 294,
    "start_time": "2023-03-10T10:17:10.945Z"
   },
   {
    "duration": 939,
    "start_time": "2023-03-10T10:17:11.241Z"
   },
   {
    "duration": 15,
    "start_time": "2023-03-10T10:17:12.182Z"
   },
   {
    "duration": 13,
    "start_time": "2023-03-10T10:17:12.205Z"
   },
   {
    "duration": 94,
    "start_time": "2023-03-10T10:17:12.220Z"
   },
   {
    "duration": 30,
    "start_time": "2023-03-10T10:17:12.317Z"
   },
   {
    "duration": 4911,
    "start_time": "2023-03-10T10:17:12.349Z"
   },
   {
    "duration": 234,
    "start_time": "2023-03-10T10:17:17.262Z"
   },
   {
    "duration": 143712,
    "start_time": "2023-03-10T10:17:17.498Z"
   },
   {
    "duration": 1759,
    "start_time": "2023-03-10T10:19:41.212Z"
   },
   {
    "duration": 802,
    "start_time": "2023-03-10T10:19:42.973Z"
   },
   {
    "duration": 134,
    "start_time": "2023-03-10T10:19:43.777Z"
   },
   {
    "duration": 712,
    "start_time": "2023-03-10T10:19:43.914Z"
   },
   {
    "duration": 4451,
    "start_time": "2023-03-10T10:19:44.628Z"
   },
   {
    "duration": 4420,
    "start_time": "2023-03-10T10:19:54.346Z"
   },
   {
    "duration": 4751,
    "start_time": "2023-03-10T10:20:19.908Z"
   },
   {
    "duration": 110,
    "start_time": "2023-03-10T10:22:09.484Z"
   },
   {
    "duration": 10,
    "start_time": "2023-03-10T10:26:59.735Z"
   },
   {
    "duration": 4,
    "start_time": "2023-03-10T10:28:02.005Z"
   },
   {
    "duration": 4,
    "start_time": "2023-03-10T10:28:49.479Z"
   },
   {
    "duration": 7,
    "start_time": "2023-03-10T10:29:18.436Z"
   },
   {
    "duration": 3,
    "start_time": "2023-03-10T10:29:32.165Z"
   },
   {
    "duration": 16,
    "start_time": "2023-03-10T10:32:58.709Z"
   },
   {
    "duration": 11,
    "start_time": "2023-03-10T10:34:48.636Z"
   },
   {
    "duration": 475,
    "start_time": "2023-03-10T10:35:17.194Z"
   },
   {
    "duration": 560,
    "start_time": "2023-03-10T10:35:24.624Z"
   },
   {
    "duration": 564,
    "start_time": "2023-03-10T10:35:34.700Z"
   },
   {
    "duration": 613,
    "start_time": "2023-03-10T10:38:06.967Z"
   },
   {
    "duration": 656,
    "start_time": "2023-03-10T10:39:23.313Z"
   },
   {
    "duration": 561,
    "start_time": "2023-03-10T10:39:33.303Z"
   },
   {
    "duration": 145,
    "start_time": "2023-03-10T10:41:45.934Z"
   },
   {
    "duration": 217,
    "start_time": "2023-03-10T10:41:50.451Z"
   },
   {
    "duration": 170,
    "start_time": "2023-03-10T10:42:19.942Z"
   },
   {
    "duration": 225,
    "start_time": "2023-03-10T10:42:22.990Z"
   },
   {
    "duration": 46204,
    "start_time": "2023-03-10T10:44:21.890Z"
   },
   {
    "duration": 33967,
    "start_time": "2023-03-10T10:45:39.640Z"
   },
   {
    "duration": 6677,
    "start_time": "2023-03-10T10:47:03.803Z"
   },
   {
    "duration": 520,
    "start_time": "2023-03-10T10:47:47.501Z"
   },
   {
    "duration": 5,
    "start_time": "2023-03-10T11:08:26.807Z"
   },
   {
    "duration": 11,
    "start_time": "2023-03-10T11:09:58.222Z"
   },
   {
    "duration": 11,
    "start_time": "2023-03-10T11:10:07.938Z"
   },
   {
    "duration": 4580,
    "start_time": "2023-03-10T11:12:51.947Z"
   },
   {
    "duration": 4774,
    "start_time": "2023-03-10T11:13:12.175Z"
   },
   {
    "duration": 4612,
    "start_time": "2023-03-10T11:13:20.028Z"
   },
   {
    "duration": 4460,
    "start_time": "2023-03-10T11:14:20.322Z"
   },
   {
    "duration": 8910,
    "start_time": "2023-03-10T11:14:52.345Z"
   },
   {
    "duration": 6678,
    "start_time": "2023-03-10T11:15:08.083Z"
   },
   {
    "duration": 15884,
    "start_time": "2023-03-10T11:25:21.111Z"
   },
   {
    "duration": 15821,
    "start_time": "2023-03-10T11:26:14.478Z"
   },
   {
    "duration": 40,
    "start_time": "2023-03-10T11:27:16.339Z"
   },
   {
    "duration": 15688,
    "start_time": "2023-03-10T11:27:29.013Z"
   },
   {
    "duration": 16069,
    "start_time": "2023-03-10T11:30:44.119Z"
   },
   {
    "duration": 16209,
    "start_time": "2023-03-10T12:01:40.618Z"
   },
   {
    "duration": 17187,
    "start_time": "2023-03-10T12:05:49.783Z"
   },
   {
    "duration": 16212,
    "start_time": "2023-03-10T12:06:21.729Z"
   },
   {
    "duration": 7,
    "start_time": "2023-03-10T12:23:16.540Z"
   },
   {
    "duration": 5,
    "start_time": "2023-03-10T12:23:21.744Z"
   },
   {
    "duration": 1563,
    "start_time": "2023-03-10T12:23:34.319Z"
   },
   {
    "duration": 81,
    "start_time": "2023-03-10T12:26:17.329Z"
   },
   {
    "duration": 39,
    "start_time": "2023-03-10T12:29:28.792Z"
   },
   {
    "duration": 76,
    "start_time": "2023-03-10T12:29:49.218Z"
   },
   {
    "duration": 84,
    "start_time": "2023-03-10T12:30:14.499Z"
   },
   {
    "duration": 95,
    "start_time": "2023-03-10T12:30:44.582Z"
   },
   {
    "duration": 4,
    "start_time": "2023-03-10T12:31:10.587Z"
   },
   {
    "duration": 5,
    "start_time": "2023-03-10T12:36:34.182Z"
   },
   {
    "duration": 33,
    "start_time": "2023-03-10T12:36:34.189Z"
   },
   {
    "duration": 42,
    "start_time": "2023-03-10T12:36:34.224Z"
   },
   {
    "duration": 1379,
    "start_time": "2023-03-10T12:36:34.269Z"
   },
   {
    "duration": 1909,
    "start_time": "2023-03-10T12:36:35.649Z"
   },
   {
    "duration": 155,
    "start_time": "2023-03-10T12:36:37.559Z"
   },
   {
    "duration": 3,
    "start_time": "2023-03-10T12:36:37.716Z"
   },
   {
    "duration": 418,
    "start_time": "2023-03-10T12:36:37.721Z"
   },
   {
    "duration": 421,
    "start_time": "2023-03-10T12:36:38.140Z"
   },
   {
    "duration": 3,
    "start_time": "2023-03-10T12:36:38.564Z"
   },
   {
    "duration": 540,
    "start_time": "2023-03-10T12:36:38.568Z"
   },
   {
    "duration": 575,
    "start_time": "2023-03-10T12:36:39.110Z"
   },
   {
    "duration": 39,
    "start_time": "2023-03-10T12:36:39.686Z"
   },
   {
    "duration": 469,
    "start_time": "2023-03-10T12:36:39.727Z"
   },
   {
    "duration": 197,
    "start_time": "2023-03-10T12:36:40.200Z"
   },
   {
    "duration": 313,
    "start_time": "2023-03-10T12:36:40.399Z"
   },
   {
    "duration": 191,
    "start_time": "2023-03-10T12:36:40.714Z"
   },
   {
    "duration": 31,
    "start_time": "2023-03-10T12:36:40.907Z"
   },
   {
    "duration": 303,
    "start_time": "2023-03-10T12:36:40.940Z"
   },
   {
    "duration": 1017,
    "start_time": "2023-03-10T12:36:41.245Z"
   },
   {
    "duration": 5,
    "start_time": "2023-03-10T12:36:42.263Z"
   },
   {
    "duration": 36,
    "start_time": "2023-03-10T12:36:42.269Z"
   },
   {
    "duration": 106,
    "start_time": "2023-03-10T12:36:42.307Z"
   },
   {
    "duration": 50,
    "start_time": "2023-03-10T12:36:42.415Z"
   },
   {
    "duration": 4875,
    "start_time": "2023-03-10T12:36:42.467Z"
   },
   {
    "duration": 215,
    "start_time": "2023-03-10T12:36:47.344Z"
   },
   {
    "duration": 14550,
    "start_time": "2023-03-10T12:36:47.560Z"
   },
   {
    "duration": 840,
    "start_time": "2023-03-10T13:14:20.798Z"
   },
   {
    "duration": 155,
    "start_time": "2023-03-10T13:14:21.640Z"
   },
   {
    "duration": 658,
    "start_time": "2023-03-10T13:14:21.798Z"
   },
   {
    "duration": 220,
    "start_time": "2023-03-10T13:14:22.458Z"
   },
   {
    "duration": 37444,
    "start_time": "2023-03-10T13:14:22.680Z"
   },
   {
    "duration": 15895,
    "start_time": "2023-03-10T13:15:00.127Z"
   },
   {
    "duration": 2239302,
    "start_time": "2023-03-10T13:52:06.066Z"
   },
   {
    "duration": 454487,
    "start_time": "2023-03-10T15:18:23.702Z"
   },
   {
    "duration": 308,
    "start_time": "2023-03-10T15:38:13.957Z"
   },
   {
    "duration": 176,
    "start_time": "2023-03-10T15:38:31.908Z"
   },
   {
    "duration": 39,
    "start_time": "2023-03-10T15:38:53.069Z"
   },
   {
    "duration": 34,
    "start_time": "2023-03-10T15:38:57.821Z"
   },
   {
    "duration": 77,
    "start_time": "2023-03-10T15:57:50.976Z"
   },
   {
    "duration": 810,
    "start_time": "2023-03-10T15:57:51.054Z"
   },
   {
    "duration": 301112,
    "start_time": "2023-03-10T16:15:18.620Z"
   },
   {
    "duration": 261096,
    "start_time": "2023-03-10T16:58:47.710Z"
   },
   {
    "duration": 11,
    "start_time": "2023-03-10T17:08:00.406Z"
   },
   {
    "duration": 10,
    "start_time": "2023-03-10T17:08:40.034Z"
   },
   {
    "duration": 9,
    "start_time": "2023-03-10T17:09:22.387Z"
   },
   {
    "duration": 10,
    "start_time": "2023-03-10T17:10:03.381Z"
   },
   {
    "duration": 297308,
    "start_time": "2023-03-10T17:10:09.262Z"
   },
   {
    "duration": 15589,
    "start_time": "2023-03-10T17:16:17.172Z"
   },
   {
    "duration": 10,
    "start_time": "2023-03-10T17:17:32.339Z"
   },
   {
    "duration": 87,
    "start_time": "2023-03-10T17:18:14.413Z"
   },
   {
    "duration": 10,
    "start_time": "2023-03-10T17:18:31.149Z"
   },
   {
    "duration": 37695,
    "start_time": "2023-03-10T17:19:36.405Z"
   },
   {
    "duration": 10,
    "start_time": "2023-03-10T17:20:51.602Z"
   },
   {
    "duration": 9,
    "start_time": "2023-03-10T17:21:01.868Z"
   },
   {
    "duration": 10,
    "start_time": "2023-03-10T17:29:52.973Z"
   },
   {
    "duration": 9,
    "start_time": "2023-03-10T17:31:08.837Z"
   },
   {
    "duration": 41,
    "start_time": "2023-03-10T17:35:05.732Z"
   },
   {
    "duration": 37,
    "start_time": "2023-03-10T17:35:17.971Z"
   },
   {
    "duration": 39,
    "start_time": "2023-03-10T17:35:38.658Z"
   },
   {
    "duration": 273429,
    "start_time": "2023-03-10T17:36:49.867Z"
   },
   {
    "duration": 6,
    "start_time": "2023-03-10T17:41:46.247Z"
   },
   {
    "duration": 159,
    "start_time": "2023-03-10T17:43:01.914Z"
   },
   {
    "duration": 40,
    "start_time": "2023-03-10T17:44:55.953Z"
   },
   {
    "duration": 12983,
    "start_time": "2023-03-10T17:45:27.114Z"
   },
   {
    "duration": 77,
    "start_time": "2023-03-10T17:48:12.330Z"
   },
   {
    "duration": 11238,
    "start_time": "2023-03-10T17:48:40.791Z"
   },
   {
    "duration": 18752,
    "start_time": "2023-03-10T17:49:38.861Z"
   },
   {
    "duration": 12043,
    "start_time": "2023-03-10T17:50:12.854Z"
   },
   {
    "duration": 11090,
    "start_time": "2023-03-10T17:50:33.211Z"
   },
   {
    "duration": 40501,
    "start_time": "2023-03-10T17:51:37.497Z"
   },
   {
    "duration": 15560,
    "start_time": "2023-03-10T17:53:19.433Z"
   },
   {
    "duration": 870,
    "start_time": "2023-03-10T17:54:37.030Z"
   },
   {
    "duration": 884,
    "start_time": "2023-03-10T17:54:46.531Z"
   },
   {
    "duration": 7,
    "start_time": "2023-03-10T17:56:30.249Z"
   },
   {
    "duration": 33,
    "start_time": "2023-03-10T18:00:19.580Z"
   },
   {
    "duration": 34,
    "start_time": "2023-03-10T18:00:22.980Z"
   },
   {
    "duration": 10,
    "start_time": "2023-03-10T18:00:55.102Z"
   },
   {
    "duration": 78,
    "start_time": "2023-03-10T18:01:08.947Z"
   },
   {
    "duration": 87,
    "start_time": "2023-03-10T18:02:29.489Z"
   },
   {
    "duration": 63,
    "start_time": "2023-03-10T18:02:48.724Z"
   },
   {
    "duration": 79,
    "start_time": "2023-03-10T18:02:52.778Z"
   },
   {
    "duration": 2332,
    "start_time": "2023-03-10T18:06:26.155Z"
   },
   {
    "duration": 2345,
    "start_time": "2023-03-10T18:06:28.489Z"
   },
   {
    "duration": 2850,
    "start_time": "2023-03-10T18:06:30.836Z"
   },
   {
    "duration": 1528,
    "start_time": "2023-03-10T18:06:33.688Z"
   },
   {
    "duration": 1452,
    "start_time": "2023-03-10T18:06:35.218Z"
   },
   {
    "duration": 145,
    "start_time": "2023-03-10T18:06:36.671Z"
   },
   {
    "duration": 3,
    "start_time": "2023-03-10T18:06:36.818Z"
   },
   {
    "duration": 445,
    "start_time": "2023-03-10T18:06:36.823Z"
   },
   {
    "duration": 439,
    "start_time": "2023-03-10T18:06:37.269Z"
   },
   {
    "duration": 3,
    "start_time": "2023-03-10T18:06:37.710Z"
   },
   {
    "duration": 472,
    "start_time": "2023-03-10T18:06:37.715Z"
   },
   {
    "duration": 513,
    "start_time": "2023-03-10T18:06:38.189Z"
   },
   {
    "duration": 32,
    "start_time": "2023-03-10T18:06:38.704Z"
   },
   {
    "duration": 421,
    "start_time": "2023-03-10T18:06:38.739Z"
   },
   {
    "duration": 190,
    "start_time": "2023-03-10T18:06:39.161Z"
   },
   {
    "duration": 282,
    "start_time": "2023-03-10T18:06:39.353Z"
   },
   {
    "duration": 180,
    "start_time": "2023-03-10T18:06:39.637Z"
   },
   {
    "duration": 31,
    "start_time": "2023-03-10T18:06:39.819Z"
   },
   {
    "duration": 282,
    "start_time": "2023-03-10T18:06:39.852Z"
   },
   {
    "duration": 940,
    "start_time": "2023-03-10T18:06:40.136Z"
   },
   {
    "duration": 12,
    "start_time": "2023-03-10T18:06:41.078Z"
   },
   {
    "duration": 21,
    "start_time": "2023-03-10T18:06:41.092Z"
   },
   {
    "duration": 89,
    "start_time": "2023-03-10T18:06:41.116Z"
   },
   {
    "duration": 37,
    "start_time": "2023-03-10T18:06:41.207Z"
   },
   {
    "duration": 4995,
    "start_time": "2023-03-10T18:06:41.246Z"
   },
   {
    "duration": 268,
    "start_time": "2023-03-10T18:06:46.243Z"
   },
   {
    "duration": 2251,
    "start_time": "2023-03-10T18:33:32.629Z"
   },
   {
    "duration": 2232,
    "start_time": "2023-03-10T18:33:34.882Z"
   },
   {
    "duration": 2564,
    "start_time": "2023-03-10T18:33:37.117Z"
   },
   {
    "duration": 1271,
    "start_time": "2023-03-10T18:33:39.683Z"
   },
   {
    "duration": 1534,
    "start_time": "2023-03-10T18:33:40.955Z"
   },
   {
    "duration": 151,
    "start_time": "2023-03-10T18:33:42.491Z"
   },
   {
    "duration": 3,
    "start_time": "2023-03-10T18:33:42.644Z"
   },
   {
    "duration": 387,
    "start_time": "2023-03-10T18:33:42.648Z"
   },
   {
    "duration": 369,
    "start_time": "2023-03-10T18:33:43.037Z"
   },
   {
    "duration": 3,
    "start_time": "2023-03-10T18:33:43.407Z"
   },
   {
    "duration": 466,
    "start_time": "2023-03-10T18:33:43.412Z"
   },
   {
    "duration": 501,
    "start_time": "2023-03-10T18:33:43.880Z"
   },
   {
    "duration": 36,
    "start_time": "2023-03-10T18:33:44.382Z"
   },
   {
    "duration": 493,
    "start_time": "2023-03-10T18:33:44.420Z"
   },
   {
    "duration": 184,
    "start_time": "2023-03-10T18:33:44.915Z"
   },
   {
    "duration": 266,
    "start_time": "2023-03-10T18:33:45.101Z"
   },
   {
    "duration": 180,
    "start_time": "2023-03-10T18:33:45.368Z"
   },
   {
    "duration": 29,
    "start_time": "2023-03-10T18:33:45.550Z"
   },
   {
    "duration": 256,
    "start_time": "2023-03-10T18:33:45.590Z"
   },
   {
    "duration": 976,
    "start_time": "2023-03-10T18:33:45.847Z"
   },
   {
    "duration": 4,
    "start_time": "2023-03-10T18:33:46.824Z"
   },
   {
    "duration": 15,
    "start_time": "2023-03-10T18:33:46.830Z"
   },
   {
    "duration": 88,
    "start_time": "2023-03-10T18:33:46.847Z"
   },
   {
    "duration": 53,
    "start_time": "2023-03-10T18:33:46.937Z"
   },
   {
    "duration": 4667,
    "start_time": "2023-03-10T18:33:46.991Z"
   },
   {
    "duration": 219,
    "start_time": "2023-03-10T18:33:51.660Z"
   },
   {
    "duration": 2374,
    "start_time": "2023-03-10T18:50:21.202Z"
   },
   {
    "duration": 2350,
    "start_time": "2023-03-10T18:50:23.579Z"
   },
   {
    "duration": 2687,
    "start_time": "2023-03-10T18:50:25.931Z"
   },
   {
    "duration": 1323,
    "start_time": "2023-03-10T18:50:28.621Z"
   },
   {
    "duration": 1698,
    "start_time": "2023-03-10T18:50:29.946Z"
   },
   {
    "duration": 174,
    "start_time": "2023-03-10T18:50:31.646Z"
   },
   {
    "duration": 4,
    "start_time": "2023-03-10T18:50:31.821Z"
   },
   {
    "duration": 471,
    "start_time": "2023-03-10T18:50:31.826Z"
   },
   {
    "duration": 415,
    "start_time": "2023-03-10T18:50:32.299Z"
   },
   {
    "duration": 3,
    "start_time": "2023-03-10T18:50:32.717Z"
   },
   {
    "duration": 484,
    "start_time": "2023-03-10T18:50:32.722Z"
   },
   {
    "duration": 530,
    "start_time": "2023-03-10T18:50:33.208Z"
   },
   {
    "duration": 31,
    "start_time": "2023-03-10T18:50:33.739Z"
   },
   {
    "duration": 434,
    "start_time": "2023-03-10T18:50:33.772Z"
   },
   {
    "duration": 223,
    "start_time": "2023-03-10T18:50:34.208Z"
   },
   {
    "duration": 303,
    "start_time": "2023-03-10T18:50:34.435Z"
   },
   {
    "duration": 226,
    "start_time": "2023-03-10T18:50:34.740Z"
   },
   {
    "duration": 38,
    "start_time": "2023-03-10T18:50:34.968Z"
   },
   {
    "duration": 260,
    "start_time": "2023-03-10T18:50:35.008Z"
   },
   {
    "duration": 930,
    "start_time": "2023-03-10T18:50:35.270Z"
   },
   {
    "duration": 5,
    "start_time": "2023-03-10T18:50:36.202Z"
   },
   {
    "duration": 18,
    "start_time": "2023-03-10T18:50:36.209Z"
   },
   {
    "duration": 119,
    "start_time": "2023-03-10T18:50:36.229Z"
   },
   {
    "duration": 54,
    "start_time": "2023-03-10T18:50:36.350Z"
   },
   {
    "duration": 4625,
    "start_time": "2023-03-10T18:50:36.407Z"
   },
   {
    "duration": 228,
    "start_time": "2023-03-10T18:50:41.034Z"
   },
   {
    "duration": 191,
    "start_time": "2023-03-10T18:50:41.264Z"
   },
   {
    "duration": 144643,
    "start_time": "2023-03-10T18:50:41.458Z"
   },
   {
    "duration": 885,
    "start_time": "2023-03-10T18:53:06.103Z"
   },
   {
    "duration": 110,
    "start_time": "2023-03-10T18:53:06.990Z"
   },
   {
    "duration": 708,
    "start_time": "2023-03-10T18:53:07.103Z"
   },
   {
    "duration": 239,
    "start_time": "2023-03-10T18:53:07.813Z"
   },
   {
    "duration": 50847,
    "start_time": "2023-03-10T18:53:08.054Z"
   },
   {
    "duration": 16725,
    "start_time": "2023-03-10T18:53:58.904Z"
   },
   {
    "duration": 11,
    "start_time": "2023-03-10T18:54:15.631Z"
   },
   {
    "duration": 0,
    "start_time": "2023-03-10T18:54:15.644Z"
   },
   {
    "duration": 0,
    "start_time": "2023-03-10T18:54:15.645Z"
   },
   {
    "duration": 0,
    "start_time": "2023-03-10T18:54:15.647Z"
   },
   {
    "duration": 0,
    "start_time": "2023-03-10T18:54:15.649Z"
   },
   {
    "duration": 0,
    "start_time": "2023-03-10T18:54:15.650Z"
   },
   {
    "duration": 0,
    "start_time": "2023-03-10T18:54:15.651Z"
   },
   {
    "duration": 118656,
    "start_time": "2023-03-10T18:55:43.339Z"
   },
   {
    "duration": 10,
    "start_time": "2023-03-10T19:00:23.701Z"
   },
   {
    "duration": 2376,
    "start_time": "2023-03-10T19:00:54.584Z"
   },
   {
    "duration": 2293,
    "start_time": "2023-03-10T19:00:56.962Z"
   },
   {
    "duration": 2698,
    "start_time": "2023-03-10T19:00:59.258Z"
   },
   {
    "duration": 1381,
    "start_time": "2023-03-10T19:01:01.959Z"
   },
   {
    "duration": 1735,
    "start_time": "2023-03-10T19:01:03.341Z"
   },
   {
    "duration": 149,
    "start_time": "2023-03-10T19:01:05.079Z"
   },
   {
    "duration": 4,
    "start_time": "2023-03-10T19:01:05.230Z"
   },
   {
    "duration": 404,
    "start_time": "2023-03-10T19:01:05.235Z"
   },
   {
    "duration": 400,
    "start_time": "2023-03-10T19:01:05.641Z"
   },
   {
    "duration": 3,
    "start_time": "2023-03-10T19:01:06.044Z"
   },
   {
    "duration": 499,
    "start_time": "2023-03-10T19:01:06.049Z"
   },
   {
    "duration": 524,
    "start_time": "2023-03-10T19:01:06.550Z"
   },
   {
    "duration": 38,
    "start_time": "2023-03-10T19:01:07.076Z"
   },
   {
    "duration": 426,
    "start_time": "2023-03-10T19:01:07.116Z"
   },
   {
    "duration": 187,
    "start_time": "2023-03-10T19:01:07.543Z"
   },
   {
    "duration": 276,
    "start_time": "2023-03-10T19:01:07.732Z"
   },
   {
    "duration": 193,
    "start_time": "2023-03-10T19:01:08.011Z"
   },
   {
    "duration": 28,
    "start_time": "2023-03-10T19:01:08.206Z"
   },
   {
    "duration": 297,
    "start_time": "2023-03-10T19:01:08.236Z"
   },
   {
    "duration": 948,
    "start_time": "2023-03-10T19:01:08.535Z"
   },
   {
    "duration": 6,
    "start_time": "2023-03-10T19:01:09.485Z"
   },
   {
    "duration": 15,
    "start_time": "2023-03-10T19:01:09.492Z"
   },
   {
    "duration": 96,
    "start_time": "2023-03-10T19:01:09.509Z"
   },
   {
    "duration": 32,
    "start_time": "2023-03-10T19:01:09.607Z"
   },
   {
    "duration": 4957,
    "start_time": "2023-03-10T19:01:09.640Z"
   },
   {
    "duration": 254,
    "start_time": "2023-03-10T19:01:14.600Z"
   },
   {
    "duration": 10,
    "start_time": "2023-03-10T19:01:14.856Z"
   },
   {
    "duration": 0,
    "start_time": "2023-03-10T19:01:14.874Z"
   },
   {
    "duration": 0,
    "start_time": "2023-03-10T19:01:14.875Z"
   },
   {
    "duration": 0,
    "start_time": "2023-03-10T19:01:14.877Z"
   },
   {
    "duration": 0,
    "start_time": "2023-03-10T19:01:14.879Z"
   },
   {
    "duration": 0,
    "start_time": "2023-03-10T19:01:14.880Z"
   },
   {
    "duration": 0,
    "start_time": "2023-03-10T19:01:14.896Z"
   },
   {
    "duration": 0,
    "start_time": "2023-03-10T19:01:14.897Z"
   },
   {
    "duration": 0,
    "start_time": "2023-03-10T19:01:14.898Z"
   },
   {
    "duration": 0,
    "start_time": "2023-03-10T19:01:14.899Z"
   },
   {
    "duration": 0,
    "start_time": "2023-03-10T19:01:14.900Z"
   },
   {
    "duration": 0,
    "start_time": "2023-03-10T19:01:14.900Z"
   },
   {
    "duration": 0,
    "start_time": "2023-03-10T19:01:14.901Z"
   },
   {
    "duration": 0,
    "start_time": "2023-03-10T19:01:14.902Z"
   },
   {
    "duration": 0,
    "start_time": "2023-03-10T19:01:14.904Z"
   },
   {
    "duration": 2304,
    "start_time": "2023-03-10T19:02:17.373Z"
   },
   {
    "duration": 2373,
    "start_time": "2023-03-10T19:02:19.679Z"
   },
   {
    "duration": 2837,
    "start_time": "2023-03-10T19:02:22.055Z"
   },
   {
    "duration": 1396,
    "start_time": "2023-03-10T19:02:24.896Z"
   },
   {
    "duration": 1715,
    "start_time": "2023-03-10T19:02:26.295Z"
   },
   {
    "duration": 146,
    "start_time": "2023-03-10T19:02:28.013Z"
   },
   {
    "duration": 3,
    "start_time": "2023-03-10T19:02:28.161Z"
   },
   {
    "duration": 461,
    "start_time": "2023-03-10T19:02:28.166Z"
   },
   {
    "duration": 430,
    "start_time": "2023-03-10T19:02:28.629Z"
   },
   {
    "duration": 3,
    "start_time": "2023-03-10T19:02:29.062Z"
   },
   {
    "duration": 560,
    "start_time": "2023-03-10T19:02:29.067Z"
   },
   {
    "duration": 548,
    "start_time": "2023-03-10T19:02:29.628Z"
   },
   {
    "duration": 41,
    "start_time": "2023-03-10T19:02:30.178Z"
   },
   {
    "duration": 463,
    "start_time": "2023-03-10T19:02:30.221Z"
   },
   {
    "duration": 220,
    "start_time": "2023-03-10T19:02:30.686Z"
   },
   {
    "duration": 306,
    "start_time": "2023-03-10T19:02:30.908Z"
   },
   {
    "duration": 202,
    "start_time": "2023-03-10T19:02:31.216Z"
   },
   {
    "duration": 28,
    "start_time": "2023-03-10T19:02:31.419Z"
   },
   {
    "duration": 313,
    "start_time": "2023-03-10T19:02:31.449Z"
   },
   {
    "duration": 1018,
    "start_time": "2023-03-10T19:02:31.764Z"
   },
   {
    "duration": 11,
    "start_time": "2023-03-10T19:02:32.784Z"
   },
   {
    "duration": 26,
    "start_time": "2023-03-10T19:02:32.797Z"
   },
   {
    "duration": 104,
    "start_time": "2023-03-10T19:02:32.824Z"
   },
   {
    "duration": 37,
    "start_time": "2023-03-10T19:02:32.931Z"
   },
   {
    "duration": 5090,
    "start_time": "2023-03-10T19:02:32.970Z"
   },
   {
    "duration": 251,
    "start_time": "2023-03-10T19:02:38.062Z"
   },
   {
    "duration": 16476,
    "start_time": "2023-03-10T19:02:38.315Z"
   },
   {
    "duration": 153893,
    "start_time": "2023-03-10T19:02:54.796Z"
   },
   {
    "duration": 894,
    "start_time": "2023-03-10T19:05:28.691Z"
   },
   {
    "duration": 126,
    "start_time": "2023-03-10T19:05:29.587Z"
   },
   {
    "duration": 704,
    "start_time": "2023-03-10T19:05:29.802Z"
   },
   {
    "duration": 234,
    "start_time": "2023-03-10T19:05:30.507Z"
   },
   {
    "duration": 27560,
    "start_time": "2023-03-10T19:05:30.743Z"
   },
   {
    "duration": 17080,
    "start_time": "2023-03-10T19:05:58.305Z"
   },
   {
    "duration": 10,
    "start_time": "2023-03-10T19:06:15.387Z"
   },
   {
    "duration": 170508,
    "start_time": "2023-03-10T19:06:15.400Z"
   },
   {
    "duration": 12439,
    "start_time": "2023-03-10T19:09:05.910Z"
   },
   {
    "duration": 30154,
    "start_time": "2023-03-10T19:09:18.351Z"
   },
   {
    "duration": 989,
    "start_time": "2023-03-10T19:09:48.591Z"
   },
   {
    "duration": 10,
    "start_time": "2023-03-10T19:09:49.581Z"
   },
   {
    "duration": 90,
    "start_time": "2023-03-10T19:09:49.593Z"
   }
  ],
  "kernelspec": {
   "display_name": "Python 3 (ipykernel)",
   "language": "python",
   "name": "python3"
  },
  "language_info": {
   "codemirror_mode": {
    "name": "ipython",
    "version": 3
   },
   "file_extension": ".py",
   "mimetype": "text/x-python",
   "name": "python",
   "nbconvert_exporter": "python",
   "pygments_lexer": "ipython3",
   "version": "3.9.5"
  },
  "toc": {
   "base_numbering": 1,
   "nav_menu": {},
   "number_sections": true,
   "sideBar": true,
   "skip_h1_title": true,
   "title_cell": "Table of Contents",
   "title_sidebar": "Contents",
   "toc_cell": false,
   "toc_position": {},
   "toc_section_display": true,
   "toc_window_display": false
  },
  "vscode": {
   "interpreter": {
    "hash": "69a9047f428b72ee57fafcc30cfc1150f80b59105df1fa51f1e4927e742c9d0b"
   }
  }
 },
 "nbformat": 4,
 "nbformat_minor": 2
}

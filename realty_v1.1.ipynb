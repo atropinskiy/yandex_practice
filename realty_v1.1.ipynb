{
 "cells": [
  {
   "cell_type": "markdown",
   "metadata": {},
   "source": [
    "<div class=\"alert alert-success\">\n",
    "<font size=\"4\"><b>Комментарий ревьюера</b></font>\n",
    "    <br /> \n",
    "    <font size=\"3\", color = \"black\">\n",
    "<br />\n",
    "    Привет, Александр :) Спасибо, что прислал задание :) Меня зовут Ринат Хисамов и я буду проверять твой проект. Предлагаю обращаться друг к другу на ты. Так нам будет гораздо проще и удобней общаться).\n",
    "\n",
    "Мои комментарии обозначены пометкой <b>Комментарий ревьюера</b>. Далее в файле сможешь найти их в похожих ячейках (если фон комментария зелёный — всё сделано правильно (✔️), рекомендации таким же цветом. Отдельным цветом — блок ссылок (примеры ниже, 🍕). Оранжевым или светло желтым рекомендации, которые, хоть и не обязательны, но точно сделают ревью лучше. (⚠️); <u> красный комментарий</u>: код, график или вывод стоит переделать (❌)). \n",
    "\n",
    "Не удаляй все эти комментарии и постарайся учесть их в ходе выполнения данного проекта. \n",
    "Будет замечательно, если добавишь свои комментарии и пояснения✍\n",
    "        \n",
    "Поехали 🚀\n",
    "    <br />\n",
    "    </font>\n",
    "\n",
    "</div>"
   ]
  },
  {
   "cell_type": "markdown",
   "metadata": {},
   "source": [
    "<div style=\"border:solid steelblue 1px; padding: 20px\">\n",
    "    \n",
    "<font size=\"4\"><p style=\"text-align:center\"><b>Примеры комментариев </b></p></font>\n",
    "    \n",
    "<div style=\"border:solid steelblue 3px; padding: 20px\">\n",
    "<font size=\"4\"><b>🍕 Пример комментария - совета, здесь м.б. просто ссылка</b></font>\n",
    "    <br /> \n",
    "        <font size=\"3\", color = \"black\">\n",
    "<br />\n",
    "    Тут всего такого разного и вкусного :), есть способы прокачать проект визуализациями (ценит большинство \"боссов\")  <br /><br />\n",
    "        <a href=\"https://pyprog.pro/mpl/mpl_short_guide.html\">Краткое руководство по Matplotlib</a>\n",
    "        На сайте много полезных материалов, мне самому очень помогло в свое время, до сих пор подсматриваю :)\n",
    "\n",
    "\n",
    "</div>\n",
    "    \n",
    "<div class=\"alert alert-warning\", style=\"border:solid coral 3px; padding: 20px\">\n",
    "    <font size=\"3\"><b>⚠️ Пример оформления некритичного комментария</b>\n",
    "    <br /> \n",
    "    <font size=\"2\", color = \"black\">\n",
    "<br />\n",
    "    Рекомендации, которые, хоть и не обязательны, но точно сделают ревью лучше\n",
    "    <br />\n",
    "    </font>\n",
    "\n",
    "</div>\n",
    "    \n",
    "<div class=\"alert alert-danger\">\n",
    "<font size=\"3\"><b>❌ Пример оформления комментария к блоку(строке) программного кода (или выводу), который стоит переделать</b></font>\n",
    "    <br /> \n",
    "    <font size=\"2\", color = \"black\">\n",
    "<br />\n",
    "    Отправлен не тот проект, напиши в своих комментариях, что случилось? жду — <b>это пример</b>\n",
    "    <br />\n",
    "    </font>\n",
    "\n",
    "</div>\n",
    "    \n",
    "<div class=\"alert alert-success\">\n",
    "<font size=\"4\"><b>✔️ Пример оформления комментария, который нравится большинству студентов</b></font>\n",
    "    <br /> \n",
    "    <font size=\"3\", color = \"black\">\n",
    "<br />\n",
    "    Круто, молодец, отлично, логично, или — 👌, 👍, или — выводы отвечают на все вопросы к данным и проекту\n",
    "    <br />\n",
    "    </font>\n",
    "\n",
    "</div>"
   ]
  },
  {
   "cell_type": "markdown",
   "metadata": {},
   "source": [
    "# Для твоих вопросов или комментариев оставлю такую ячейку, чтобы было удобнее взаимодействовать на проекте"
   ]
  },
  {
   "cell_type": "markdown",
   "metadata": {},
   "source": [
    "<div class=\"alert alert-info\">\n",
    "<font size=\"4\", color = \"black\"><b>✍ Комментарий студента</b></font>\n",
    "    <br /> \n",
    "    <font size=\"3\", color = \"black\">\n",
    "<br /> ... , вот мой вопрос ...\n",
    "        \n",
    "        "
   ]
  },
  {
   "cell_type": "markdown",
   "metadata": {},
   "source": [
    "# Исследование объявлений о продаже квартир\n",
    "\n",
    "В вашем распоряжении данные сервиса Яндекс.Недвижимость — архив объявлений о продаже квартир в Санкт-Петербурге и соседних населённых пунктов за несколько лет. Нужно научиться определять рыночную стоимость объектов недвижимости. Ваша задача — установить параметры. Это позволит построить автоматизированную систему: она отследит аномалии и мошенническую деятельность. \n",
    "\n",
    "По каждой квартире на продажу доступны два вида данных. Первые вписаны пользователем, вторые — получены автоматически на основе картографических данных. Например, расстояние до центра, аэропорта, ближайшего парка и водоёма. "
   ]
  },
  {
   "cell_type": "markdown",
   "metadata": {},
   "source": [
    "<div class=\"alert alert-warning\", style=\"border:solid coral 3px; padding: 20px\">\n",
    "<font size=\"4\", color = \"DimGrey\"><b>⚠️ Комментарий ревьюера</b></font>\n",
    "    <br /> \n",
    "    <font size=\"3\", color = \"black\">\n",
    "<br />\n",
    "Название, краткое вступление в работу и главная задача зафиксированы. \n",
    "        \n",
    "Четкий план работ и перечень основных задач позволит коллегам быстрее вникнуть в суть проекта, + будет легче  идти к главной цели проекта"
   ]
  },
  {
   "cell_type": "markdown",
   "metadata": {},
   "source": [
    "### Откройте файл с данными и изучите общую информацию. "
   ]
  },
  {
   "cell_type": "markdown",
   "metadata": {},
   "source": [
    "<div class=\"alert alert-warning\", style=\"border:solid coral 3px; padding: 20px\">\n",
    "<font size=\"4\"><b>⚠️ Комментарий ревьюера</b></font>\n",
    "    <br /> \n",
    "    <font size=\"3\", color = \"black\">\n",
    "<br />стоит делить блок загрузки библиотек и код загрузки датасета, в случае необходимости добавления новых библиотек не придется загружать весь датасет заново и перезапускать проект целиком\n",
    "<div class=\"alert alert-info\">\n",
    "<font size=\"4\", color = \"black\"><b>✍ Комментарий студента</b></font>\n",
    "    <br /> \n",
    "    <font size=\"3\", color = \"black\">\n",
    "<br /> Готово ...\n",
    "        "
   ]
  },
  {
   "cell_type": "code",
   "execution_count": 4,
   "metadata": {
    "scrolled": false
   },
   "outputs": [],
   "source": [
    "#!pip3 install phik"
   ]
  },
  {
   "cell_type": "code",
   "execution_count": 5,
   "metadata": {},
   "outputs": [],
   "source": [
    "import pandas as pd\n",
    "import seaborn as sns\n",
    "import matplotlib.pyplot as plt\n",
    "import phik\n",
    "from phik.report import plot_correlation_matrix\n",
    "from phik import report\n",
    "import warnings\n",
    "# from statistics import correlation\n",
    "\n",
    "warnings.simplefilter(action='ignore', category=FutureWarning)\n",
    "pd.options.mode.chained_assignment = None "
   ]
  },
  {
   "cell_type": "code",
   "execution_count": 6,
   "metadata": {},
   "outputs": [
    {
     "data": {
      "text/html": [
       "<div>\n",
       "<style scoped>\n",
       "    .dataframe tbody tr th:only-of-type {\n",
       "        vertical-align: middle;\n",
       "    }\n",
       "\n",
       "    .dataframe tbody tr th {\n",
       "        vertical-align: top;\n",
       "    }\n",
       "\n",
       "    .dataframe thead th {\n",
       "        text-align: right;\n",
       "    }\n",
       "</style>\n",
       "<table border=\"1\" class=\"dataframe\">\n",
       "  <thead>\n",
       "    <tr style=\"text-align: right;\">\n",
       "      <th></th>\n",
       "      <th>total_images</th>\n",
       "      <th>last_price</th>\n",
       "      <th>total_area</th>\n",
       "      <th>first_day_exposition</th>\n",
       "      <th>rooms</th>\n",
       "      <th>ceiling_height</th>\n",
       "      <th>floors_total</th>\n",
       "      <th>living_area</th>\n",
       "      <th>floor</th>\n",
       "      <th>is_apartment</th>\n",
       "      <th>...</th>\n",
       "      <th>kitchen_area</th>\n",
       "      <th>balcony</th>\n",
       "      <th>locality_name</th>\n",
       "      <th>airports_nearest</th>\n",
       "      <th>cityCenters_nearest</th>\n",
       "      <th>parks_around3000</th>\n",
       "      <th>parks_nearest</th>\n",
       "      <th>ponds_around3000</th>\n",
       "      <th>ponds_nearest</th>\n",
       "      <th>days_exposition</th>\n",
       "    </tr>\n",
       "  </thead>\n",
       "  <tbody>\n",
       "    <tr>\n",
       "      <th>0</th>\n",
       "      <td>20</td>\n",
       "      <td>13000000.0</td>\n",
       "      <td>108.0</td>\n",
       "      <td>2019-03-07T00:00:00</td>\n",
       "      <td>3</td>\n",
       "      <td>2.70</td>\n",
       "      <td>16.0</td>\n",
       "      <td>51.0</td>\n",
       "      <td>8</td>\n",
       "      <td>NaN</td>\n",
       "      <td>...</td>\n",
       "      <td>25.0</td>\n",
       "      <td>NaN</td>\n",
       "      <td>Санкт-Петербург</td>\n",
       "      <td>18863.0</td>\n",
       "      <td>16028.0</td>\n",
       "      <td>1.0</td>\n",
       "      <td>482.0</td>\n",
       "      <td>2.0</td>\n",
       "      <td>755.0</td>\n",
       "      <td>NaN</td>\n",
       "    </tr>\n",
       "    <tr>\n",
       "      <th>1</th>\n",
       "      <td>7</td>\n",
       "      <td>3350000.0</td>\n",
       "      <td>40.4</td>\n",
       "      <td>2018-12-04T00:00:00</td>\n",
       "      <td>1</td>\n",
       "      <td>NaN</td>\n",
       "      <td>11.0</td>\n",
       "      <td>18.6</td>\n",
       "      <td>1</td>\n",
       "      <td>NaN</td>\n",
       "      <td>...</td>\n",
       "      <td>11.0</td>\n",
       "      <td>2.0</td>\n",
       "      <td>посёлок Шушары</td>\n",
       "      <td>12817.0</td>\n",
       "      <td>18603.0</td>\n",
       "      <td>0.0</td>\n",
       "      <td>NaN</td>\n",
       "      <td>0.0</td>\n",
       "      <td>NaN</td>\n",
       "      <td>81.0</td>\n",
       "    </tr>\n",
       "    <tr>\n",
       "      <th>2</th>\n",
       "      <td>10</td>\n",
       "      <td>5196000.0</td>\n",
       "      <td>56.0</td>\n",
       "      <td>2015-08-20T00:00:00</td>\n",
       "      <td>2</td>\n",
       "      <td>NaN</td>\n",
       "      <td>5.0</td>\n",
       "      <td>34.3</td>\n",
       "      <td>4</td>\n",
       "      <td>NaN</td>\n",
       "      <td>...</td>\n",
       "      <td>8.3</td>\n",
       "      <td>0.0</td>\n",
       "      <td>Санкт-Петербург</td>\n",
       "      <td>21741.0</td>\n",
       "      <td>13933.0</td>\n",
       "      <td>1.0</td>\n",
       "      <td>90.0</td>\n",
       "      <td>2.0</td>\n",
       "      <td>574.0</td>\n",
       "      <td>558.0</td>\n",
       "    </tr>\n",
       "    <tr>\n",
       "      <th>3</th>\n",
       "      <td>0</td>\n",
       "      <td>64900000.0</td>\n",
       "      <td>159.0</td>\n",
       "      <td>2015-07-24T00:00:00</td>\n",
       "      <td>3</td>\n",
       "      <td>NaN</td>\n",
       "      <td>14.0</td>\n",
       "      <td>NaN</td>\n",
       "      <td>9</td>\n",
       "      <td>NaN</td>\n",
       "      <td>...</td>\n",
       "      <td>NaN</td>\n",
       "      <td>0.0</td>\n",
       "      <td>Санкт-Петербург</td>\n",
       "      <td>28098.0</td>\n",
       "      <td>6800.0</td>\n",
       "      <td>2.0</td>\n",
       "      <td>84.0</td>\n",
       "      <td>3.0</td>\n",
       "      <td>234.0</td>\n",
       "      <td>424.0</td>\n",
       "    </tr>\n",
       "    <tr>\n",
       "      <th>4</th>\n",
       "      <td>2</td>\n",
       "      <td>10000000.0</td>\n",
       "      <td>100.0</td>\n",
       "      <td>2018-06-19T00:00:00</td>\n",
       "      <td>2</td>\n",
       "      <td>3.03</td>\n",
       "      <td>14.0</td>\n",
       "      <td>32.0</td>\n",
       "      <td>13</td>\n",
       "      <td>NaN</td>\n",
       "      <td>...</td>\n",
       "      <td>41.0</td>\n",
       "      <td>NaN</td>\n",
       "      <td>Санкт-Петербург</td>\n",
       "      <td>31856.0</td>\n",
       "      <td>8098.0</td>\n",
       "      <td>2.0</td>\n",
       "      <td>112.0</td>\n",
       "      <td>1.0</td>\n",
       "      <td>48.0</td>\n",
       "      <td>121.0</td>\n",
       "    </tr>\n",
       "  </tbody>\n",
       "</table>\n",
       "<p>5 rows × 22 columns</p>\n",
       "</div>"
      ],
      "text/plain": [
       "   total_images  last_price  total_area first_day_exposition  rooms  \\\n",
       "0            20  13000000.0       108.0  2019-03-07T00:00:00      3   \n",
       "1             7   3350000.0        40.4  2018-12-04T00:00:00      1   \n",
       "2            10   5196000.0        56.0  2015-08-20T00:00:00      2   \n",
       "3             0  64900000.0       159.0  2015-07-24T00:00:00      3   \n",
       "4             2  10000000.0       100.0  2018-06-19T00:00:00      2   \n",
       "\n",
       "   ceiling_height  floors_total  living_area  floor is_apartment  ...  \\\n",
       "0            2.70          16.0         51.0      8          NaN  ...   \n",
       "1             NaN          11.0         18.6      1          NaN  ...   \n",
       "2             NaN           5.0         34.3      4          NaN  ...   \n",
       "3             NaN          14.0          NaN      9          NaN  ...   \n",
       "4            3.03          14.0         32.0     13          NaN  ...   \n",
       "\n",
       "   kitchen_area  balcony    locality_name  airports_nearest  \\\n",
       "0          25.0      NaN  Санкт-Петербург           18863.0   \n",
       "1          11.0      2.0   посёлок Шушары           12817.0   \n",
       "2           8.3      0.0  Санкт-Петербург           21741.0   \n",
       "3           NaN      0.0  Санкт-Петербург           28098.0   \n",
       "4          41.0      NaN  Санкт-Петербург           31856.0   \n",
       "\n",
       "  cityCenters_nearest  parks_around3000  parks_nearest  ponds_around3000  \\\n",
       "0             16028.0               1.0          482.0               2.0   \n",
       "1             18603.0               0.0            NaN               0.0   \n",
       "2             13933.0               1.0           90.0               2.0   \n",
       "3              6800.0               2.0           84.0               3.0   \n",
       "4              8098.0               2.0          112.0               1.0   \n",
       "\n",
       "   ponds_nearest  days_exposition  \n",
       "0          755.0              NaN  \n",
       "1            NaN             81.0  \n",
       "2          574.0            558.0  \n",
       "3          234.0            424.0  \n",
       "4           48.0            121.0  \n",
       "\n",
       "[5 rows x 22 columns]"
      ]
     },
     "execution_count": 6,
     "metadata": {},
     "output_type": "execute_result"
    }
   ],
   "source": [
    "# df = pd.read_csv('./datasets/real_estate_data.csv', sep = '\\t')\n",
    "try:\n",
    "    df = pd.read_csv('./datasets/real_estate_data.csv', sep = '\\t')\n",
    "except:\n",
    "    df = pd.read_csv('https://code.s3.yandex.net/datasets/real_estate_data.csv', sep = '\\t')\n",
    "df.head(5)"
   ]
  },
  {
   "cell_type": "markdown",
   "metadata": {},
   "source": [
    "<div class=\"alert alert-danger\">\n",
    "<font size=\"4\"><b>❌ Комментарий ревьюера</b></font>\n",
    "    <br /> \n",
    "    <font size=\"3\", color = \"black\">\n",
    "<br /> в сетевой версии данные не загружены\n",
    "    \n",
    "часть библиотек не загружается\n",
    "        \n",
    "        from statistics import correlation\n",
    "        "
   ]
  },
  {
   "cell_type": "markdown",
   "metadata": {},
   "source": [
    "<div class=\"alert alert-success\">\n",
    "<font size=\"4\", color= \"seagreen\"><b>✔️ Комментарий ревьюера</b></font>\n",
    "    <br /> \n",
    "    <font size=\"3\", color = \"black\">\n",
    "<br />\n",
    "        Для подгрузки данных стоит использовать конструкцию try-except, она поможет избежать потенциальных ошибок при загрузке данных, связанных, например, с некорректным указанием путей\n",
    "\n",
    "[Try - Except](https://pythonworld.ru/tipy-dannyx-v-python/isklyucheniya-v-python-konstrukciya-try-except-dlya-obrabotki-isklyuchenij.html)"
   ]
  },
  {
   "cell_type": "code",
   "execution_count": 3,
   "metadata": {},
   "outputs": [
    {
     "name": "stdout",
     "output_type": "stream",
     "text": [
      "<class 'pandas.core.frame.DataFrame'>\n",
      "RangeIndex: 23699 entries, 0 to 23698\n",
      "Data columns (total 22 columns):\n",
      " #   Column                Non-Null Count  Dtype  \n",
      "---  ------                --------------  -----  \n",
      " 0   total_images          23699 non-null  int64  \n",
      " 1   last_price            23699 non-null  float64\n",
      " 2   total_area            23699 non-null  float64\n",
      " 3   first_day_exposition  23699 non-null  object \n",
      " 4   rooms                 23699 non-null  int64  \n",
      " 5   ceiling_height        14504 non-null  float64\n",
      " 6   floors_total          23613 non-null  float64\n",
      " 7   living_area           21796 non-null  float64\n",
      " 8   floor                 23699 non-null  int64  \n",
      " 9   is_apartment          2775 non-null   object \n",
      " 10  studio                23699 non-null  bool   \n",
      " 11  open_plan             23699 non-null  bool   \n",
      " 12  kitchen_area          21421 non-null  float64\n",
      " 13  balcony               12180 non-null  float64\n",
      " 14  locality_name         23650 non-null  object \n",
      " 15  airports_nearest      18157 non-null  float64\n",
      " 16  cityCenters_nearest   18180 non-null  float64\n",
      " 17  parks_around3000      18181 non-null  float64\n",
      " 18  parks_nearest         8079 non-null   float64\n",
      " 19  ponds_around3000      18181 non-null  float64\n",
      " 20  ponds_nearest         9110 non-null   float64\n",
      " 21  days_exposition       20518 non-null  float64\n",
      "dtypes: bool(2), float64(14), int64(3), object(3)\n",
      "memory usage: 3.7+ MB\n"
     ]
    }
   ],
   "source": [
    "df.info()"
   ]
  },
  {
   "cell_type": "markdown",
   "metadata": {},
   "source": [
    "* По типам данныех все неплохо. \n",
    "* Нужно будет заменить дату публикации."
   ]
  },
  {
   "cell_type": "code",
   "execution_count": 4,
   "metadata": {},
   "outputs": [
    {
     "data": {
      "text/plain": [
       "total_images                0\n",
       "last_price                  0\n",
       "total_area                  0\n",
       "first_day_exposition        0\n",
       "rooms                       0\n",
       "ceiling_height           9195\n",
       "floors_total               86\n",
       "living_area              1903\n",
       "floor                       0\n",
       "is_apartment            20924\n",
       "studio                      0\n",
       "open_plan                   0\n",
       "kitchen_area             2278\n",
       "balcony                 11519\n",
       "locality_name              49\n",
       "airports_nearest         5542\n",
       "cityCenters_nearest      5519\n",
       "parks_around3000         5518\n",
       "parks_nearest           15620\n",
       "ponds_around3000         5518\n",
       "ponds_nearest           14589\n",
       "days_exposition          3181\n",
       "dtype: int64"
      ]
     },
     "execution_count": 4,
     "metadata": {},
     "output_type": "execute_result"
    }
   ],
   "source": [
    "df.isna().sum()"
   ]
  },
  {
   "cell_type": "code",
   "execution_count": 5,
   "metadata": {},
   "outputs": [],
   "source": [
    "# check\n",
    "# пропущенные значения бары\n",
    "\n",
    "def pass_value_barh(df):\n",
    "    try:\n",
    "        (\n",
    "            (df.isna().mean()*100)\n",
    "            .to_frame()\n",
    "            .rename(columns = {0:'space'})\n",
    "            .query('space > 0')\n",
    "            .sort_values(by = 'space', ascending = True)\n",
    "            .plot(kind= 'barh', figsize=(19,6), rot = -5, legend = False, fontsize = 16)\n",
    "            .set_title('Пример' + \"\\n\", fontsize = 22, color = 'SteelBlue')    \n",
    "        );    \n",
    "    except:\n",
    "        print('пропусков не осталось :) ')"
   ]
  },
  {
   "cell_type": "code",
   "execution_count": 6,
   "metadata": {},
   "outputs": [
    {
     "data": {
      "image/png": "[encoded data removed]",
      "text/plain": [
       "<Figure size 1368x432 with 1 Axes>"
      ]
     },
     "metadata": {
      "needs_background": "light"
     },
     "output_type": "display_data"
    }
   ],
   "source": [
    "pass_value_barh(df)"
   ]
  },
  {
   "cell_type": "markdown",
   "metadata": {},
   "source": [
    "<div style=\"border:solid steelblue 3px; padding: 20px\">\n",
    "<font size=\"4\">🍕<b> Комментарий ревьюера</b></font>\n",
    "<br /> \n",
    "<font size=\"3\", color = \"black\">\n",
    "<br /> Наглядность представления информации одна из важных составляющих работы дата-аналитика или дата-сайентиста\n",
    "  "
   ]
  },
  {
   "cell_type": "markdown",
   "metadata": {},
   "source": []
  },
  {
   "cell_type": "markdown",
   "metadata": {},
   "source": [
    "<div class=\"alert alert-danger\">\n",
    "<font size=\"4\"><b>❌ Комментарий ревьюера</b></font>\n",
    "    <br /> \n",
    "    <font size=\"3\", color = \"black\">\n",
    "<br />Стоит выполнить пункт из брифа проекта \n",
    "        \n",
    "Шаг 1. Откройте файл с данными и изучите общую информацию\n",
    "+ __Постройте общую гистограмму для всех столбцов таблицы. Например, для датафрейма data это можно сделать командой data.hist(figsize=(15, 20)).__"
   ]
  },
  {
   "cell_type": "markdown",
   "metadata": {},
   "source": [
    "### Предобработка данных"
   ]
  },
  {
   "cell_type": "code",
   "execution_count": 7,
   "metadata": {},
   "outputs": [
    {
     "data": {
      "text/plain": [
       "0"
      ]
     },
     "execution_count": 7,
     "metadata": {},
     "output_type": "execute_result"
    }
   ],
   "source": [
    "#Поиск явных дубликатов\n",
    "df.duplicated().sum()\n",
    "#явных дубликатов нет"
   ]
  },
  {
   "cell_type": "code",
   "execution_count": 8,
   "metadata": {},
   "outputs": [
    {
     "data": {
      "text/html": [
       "<div>\n",
       "<style scoped>\n",
       "    .dataframe tbody tr th:only-of-type {\n",
       "        vertical-align: middle;\n",
       "    }\n",
       "\n",
       "    .dataframe tbody tr th {\n",
       "        vertical-align: top;\n",
       "    }\n",
       "\n",
       "    .dataframe thead th {\n",
       "        text-align: right;\n",
       "    }\n",
       "</style>\n",
       "<table border=\"1\" class=\"dataframe\">\n",
       "  <thead>\n",
       "    <tr style=\"text-align: right;\">\n",
       "      <th></th>\n",
       "      <th>total_images</th>\n",
       "      <th>last_price</th>\n",
       "      <th>total_area</th>\n",
       "      <th>rooms</th>\n",
       "      <th>ceiling_height</th>\n",
       "      <th>floors_total</th>\n",
       "      <th>living_area</th>\n",
       "      <th>floor</th>\n",
       "      <th>kitchen_area</th>\n",
       "      <th>balcony</th>\n",
       "      <th>airports_nearest</th>\n",
       "      <th>cityCenters_nearest</th>\n",
       "      <th>parks_around3000</th>\n",
       "      <th>parks_nearest</th>\n",
       "      <th>ponds_around3000</th>\n",
       "      <th>ponds_nearest</th>\n",
       "      <th>days_exposition</th>\n",
       "    </tr>\n",
       "  </thead>\n",
       "  <tbody>\n",
       "    <tr>\n",
       "      <th>count</th>\n",
       "      <td>23699.000000</td>\n",
       "      <td>2.369900e+04</td>\n",
       "      <td>23699.000000</td>\n",
       "      <td>23699.000000</td>\n",
       "      <td>14504.000000</td>\n",
       "      <td>23613.000000</td>\n",
       "      <td>21796.000000</td>\n",
       "      <td>23699.000000</td>\n",
       "      <td>21421.000000</td>\n",
       "      <td>12180.000000</td>\n",
       "      <td>18157.000000</td>\n",
       "      <td>18180.000000</td>\n",
       "      <td>18181.000000</td>\n",
       "      <td>8079.000000</td>\n",
       "      <td>18181.000000</td>\n",
       "      <td>9110.000000</td>\n",
       "      <td>20518.000000</td>\n",
       "    </tr>\n",
       "    <tr>\n",
       "      <th>mean</th>\n",
       "      <td>9.858475</td>\n",
       "      <td>6.541549e+06</td>\n",
       "      <td>60.348651</td>\n",
       "      <td>2.070636</td>\n",
       "      <td>2.771499</td>\n",
       "      <td>10.673824</td>\n",
       "      <td>34.457852</td>\n",
       "      <td>5.892358</td>\n",
       "      <td>10.569807</td>\n",
       "      <td>1.150082</td>\n",
       "      <td>28793.672193</td>\n",
       "      <td>14191.277833</td>\n",
       "      <td>0.611408</td>\n",
       "      <td>490.804555</td>\n",
       "      <td>0.770255</td>\n",
       "      <td>517.980900</td>\n",
       "      <td>180.888634</td>\n",
       "    </tr>\n",
       "    <tr>\n",
       "      <th>std</th>\n",
       "      <td>5.682529</td>\n",
       "      <td>1.088701e+07</td>\n",
       "      <td>35.654083</td>\n",
       "      <td>1.078405</td>\n",
       "      <td>1.261056</td>\n",
       "      <td>6.597173</td>\n",
       "      <td>22.030445</td>\n",
       "      <td>4.885249</td>\n",
       "      <td>5.905438</td>\n",
       "      <td>1.071300</td>\n",
       "      <td>12630.880622</td>\n",
       "      <td>8608.386210</td>\n",
       "      <td>0.802074</td>\n",
       "      <td>342.317995</td>\n",
       "      <td>0.938346</td>\n",
       "      <td>277.720643</td>\n",
       "      <td>219.727988</td>\n",
       "    </tr>\n",
       "    <tr>\n",
       "      <th>min</th>\n",
       "      <td>0.000000</td>\n",
       "      <td>1.219000e+04</td>\n",
       "      <td>12.000000</td>\n",
       "      <td>0.000000</td>\n",
       "      <td>1.000000</td>\n",
       "      <td>1.000000</td>\n",
       "      <td>2.000000</td>\n",
       "      <td>1.000000</td>\n",
       "      <td>1.300000</td>\n",
       "      <td>0.000000</td>\n",
       "      <td>0.000000</td>\n",
       "      <td>181.000000</td>\n",
       "      <td>0.000000</td>\n",
       "      <td>1.000000</td>\n",
       "      <td>0.000000</td>\n",
       "      <td>13.000000</td>\n",
       "      <td>1.000000</td>\n",
       "    </tr>\n",
       "    <tr>\n",
       "      <th>25%</th>\n",
       "      <td>6.000000</td>\n",
       "      <td>3.400000e+06</td>\n",
       "      <td>40.000000</td>\n",
       "      <td>1.000000</td>\n",
       "      <td>2.520000</td>\n",
       "      <td>5.000000</td>\n",
       "      <td>18.600000</td>\n",
       "      <td>2.000000</td>\n",
       "      <td>7.000000</td>\n",
       "      <td>0.000000</td>\n",
       "      <td>18585.000000</td>\n",
       "      <td>9238.000000</td>\n",
       "      <td>0.000000</td>\n",
       "      <td>288.000000</td>\n",
       "      <td>0.000000</td>\n",
       "      <td>294.000000</td>\n",
       "      <td>45.000000</td>\n",
       "    </tr>\n",
       "    <tr>\n",
       "      <th>50%</th>\n",
       "      <td>9.000000</td>\n",
       "      <td>4.650000e+06</td>\n",
       "      <td>52.000000</td>\n",
       "      <td>2.000000</td>\n",
       "      <td>2.650000</td>\n",
       "      <td>9.000000</td>\n",
       "      <td>30.000000</td>\n",
       "      <td>4.000000</td>\n",
       "      <td>9.100000</td>\n",
       "      <td>1.000000</td>\n",
       "      <td>26726.000000</td>\n",
       "      <td>13098.500000</td>\n",
       "      <td>0.000000</td>\n",
       "      <td>455.000000</td>\n",
       "      <td>1.000000</td>\n",
       "      <td>502.000000</td>\n",
       "      <td>95.000000</td>\n",
       "    </tr>\n",
       "    <tr>\n",
       "      <th>75%</th>\n",
       "      <td>14.000000</td>\n",
       "      <td>6.800000e+06</td>\n",
       "      <td>69.900000</td>\n",
       "      <td>3.000000</td>\n",
       "      <td>2.800000</td>\n",
       "      <td>16.000000</td>\n",
       "      <td>42.300000</td>\n",
       "      <td>8.000000</td>\n",
       "      <td>12.000000</td>\n",
       "      <td>2.000000</td>\n",
       "      <td>37273.000000</td>\n",
       "      <td>16293.000000</td>\n",
       "      <td>1.000000</td>\n",
       "      <td>612.000000</td>\n",
       "      <td>1.000000</td>\n",
       "      <td>729.000000</td>\n",
       "      <td>232.000000</td>\n",
       "    </tr>\n",
       "    <tr>\n",
       "      <th>max</th>\n",
       "      <td>50.000000</td>\n",
       "      <td>7.630000e+08</td>\n",
       "      <td>900.000000</td>\n",
       "      <td>19.000000</td>\n",
       "      <td>100.000000</td>\n",
       "      <td>60.000000</td>\n",
       "      <td>409.700000</td>\n",
       "      <td>33.000000</td>\n",
       "      <td>112.000000</td>\n",
       "      <td>5.000000</td>\n",
       "      <td>84869.000000</td>\n",
       "      <td>65968.000000</td>\n",
       "      <td>3.000000</td>\n",
       "      <td>3190.000000</td>\n",
       "      <td>3.000000</td>\n",
       "      <td>1344.000000</td>\n",
       "      <td>1580.000000</td>\n",
       "    </tr>\n",
       "  </tbody>\n",
       "</table>\n",
       "</div>"
      ],
      "text/plain": [
       "       total_images    last_price    total_area         rooms  ceiling_height  \\\n",
       "count  23699.000000  2.369900e+04  23699.000000  23699.000000    14504.000000   \n",
       "mean       9.858475  6.541549e+06     60.348651      2.070636        2.771499   \n",
       "std        5.682529  1.088701e+07     35.654083      1.078405        1.261056   \n",
       "min        0.000000  1.219000e+04     12.000000      0.000000        1.000000   \n",
       "25%        6.000000  3.400000e+06     40.000000      1.000000        2.520000   \n",
       "50%        9.000000  4.650000e+06     52.000000      2.000000        2.650000   \n",
       "75%       14.000000  6.800000e+06     69.900000      3.000000        2.800000   \n",
       "max       50.000000  7.630000e+08    900.000000     19.000000      100.000000   \n",
       "\n",
       "       floors_total   living_area         floor  kitchen_area       balcony  \\\n",
       "count  23613.000000  21796.000000  23699.000000  21421.000000  12180.000000   \n",
       "mean      10.673824     34.457852      5.892358     10.569807      1.150082   \n",
       "std        6.597173     22.030445      4.885249      5.905438      1.071300   \n",
       "min        1.000000      2.000000      1.000000      1.300000      0.000000   \n",
       "25%        5.000000     18.600000      2.000000      7.000000      0.000000   \n",
       "50%        9.000000     30.000000      4.000000      9.100000      1.000000   \n",
       "75%       16.000000     42.300000      8.000000     12.000000      2.000000   \n",
       "max       60.000000    409.700000     33.000000    112.000000      5.000000   \n",
       "\n",
       "       airports_nearest  cityCenters_nearest  parks_around3000  parks_nearest  \\\n",
       "count      18157.000000         18180.000000      18181.000000    8079.000000   \n",
       "mean       28793.672193         14191.277833          0.611408     490.804555   \n",
       "std        12630.880622          8608.386210          0.802074     342.317995   \n",
       "min            0.000000           181.000000          0.000000       1.000000   \n",
       "25%        18585.000000          9238.000000          0.000000     288.000000   \n",
       "50%        26726.000000         13098.500000          0.000000     455.000000   \n",
       "75%        37273.000000         16293.000000          1.000000     612.000000   \n",
       "max        84869.000000         65968.000000          3.000000    3190.000000   \n",
       "\n",
       "       ponds_around3000  ponds_nearest  days_exposition  \n",
       "count      18181.000000    9110.000000     20518.000000  \n",
       "mean           0.770255     517.980900       180.888634  \n",
       "std            0.938346     277.720643       219.727988  \n",
       "min            0.000000      13.000000         1.000000  \n",
       "25%            0.000000     294.000000        45.000000  \n",
       "50%            1.000000     502.000000        95.000000  \n",
       "75%            1.000000     729.000000       232.000000  \n",
       "max            3.000000    1344.000000      1580.000000  "
      ]
     },
     "execution_count": 8,
     "metadata": {},
     "output_type": "execute_result"
    }
   ],
   "source": [
    "df.describe()"
   ]
  },
  {
   "cell_type": "markdown",
   "metadata": {},
   "source": [
    "Данные о потолках по 9.2 тыс квартир отсутствуют. Доля существенная, поэтому заполним пропуски медианой"
   ]
  },
  {
   "cell_type": "code",
   "execution_count": 9,
   "metadata": {},
   "outputs": [],
   "source": [
    "#Высота потолка: Т.к. большинство значений находятся в интервале от 2.52 до 2.8 заполним пропуски медианой\n",
    "df['ceiling_height']=df['ceiling_height'].fillna(df['ceiling_height'].median())\n"
   ]
  },
  {
   "cell_type": "markdown",
   "metadata": {},
   "source": [
    "<div class=\"alert alert-warning\", style=\"border:solid coral 3px; padding: 20px\">\n",
    "<font size=\"4\", color = \"DimGrey\"><b>⚠️ Комментарий ревьюера</b></font>\n",
    "    <br /> \n",
    "    <font size=\"3\", color = \"black\">\n",
    "<br />При заполнении средним или медианой необходимо четко отслеживать изменение других статистик: стандартное отклонение, дисперсию и другие параметры выборки\n",
    "        \n",
    "... если рассмотреть районность высоты потолков, т.к. в современных районах Питера высота потолков будет ожидаема ниже, чем в исторических, мы увидим, что заполнение подобного объема пропусков медианой или средним значением «размажет» это отличительное свойство объектов недвижимости в центре Питера\n",
    "        \n",
    "[Обработка пропусков в данных](https://loginom.ru/blog/missing)"
   ]
  },
  {
   "cell_type": "markdown",
   "metadata": {},
   "source": [
    "Установить населенный пункт исходя из других параметров не получится. Очистим датасет от строк, где не указан город"
   ]
  },
  {
   "cell_type": "code",
   "execution_count": 10,
   "metadata": {},
   "outputs": [
    {
     "name": "stdout",
     "output_type": "stream",
     "text": [
      "Количество квартир до фильтрации: 23699\n",
      "Количество квартир после фильтрации: 23565\n"
     ]
    }
   ],
   "source": [
    "print ('Количество квартир до фильтрации:', len(df))\n",
    "df_good = df.dropna(subset=['locality_name','floors_total']) #эти поля заполнить не удастся и в них не так много данных, поэтому отбрасываем\n",
    "print ('Количество квартир после фильтрации:', len(df_good))"
   ]
  },
  {
   "cell_type": "code",
   "execution_count": 11,
   "metadata": {},
   "outputs": [
    {
     "data": {
      "text/plain": [
       "0.9397711143610353"
      ]
     },
     "execution_count": 11,
     "metadata": {},
     "output_type": "execute_result"
    }
   ],
   "source": [
    "df_good.corr()['living_area']['total_area']"
   ]
  },
  {
   "cell_type": "markdown",
   "metadata": {},
   "source": [
    "Жилая площадь коррелирует с общей площадью, найдем коэффициент:"
   ]
  },
  {
   "cell_type": "code",
   "execution_count": 12,
   "metadata": {},
   "outputs": [
    {
     "name": "stdout",
     "output_type": "stream",
     "text": [
      "0.5736591515482824\n"
     ]
    }
   ],
   "source": [
    "koef = df_good[df_good['living_area'] > 0]['living_area'].sum()/df_good[df_good['living_area'] > 0]['total_area'].sum()\n",
    "print(koef)"
   ]
  },
  {
   "cell_type": "markdown",
   "metadata": {},
   "source": [
    "В среднем размер жилой площади составляет 57% от общей площади заполним жилую площадь такими значениями"
   ]
  },
  {
   "cell_type": "code",
   "execution_count": 13,
   "metadata": {},
   "outputs": [
    {
     "name": "stdout",
     "output_type": "stream",
     "text": [
      "23565\n"
     ]
    }
   ],
   "source": [
    "df_good['living_area'] = df_good['living_area'].fillna(df['total_area']*koef)\n",
    "print(len(df_good))"
   ]
  },
  {
   "cell_type": "markdown",
   "metadata": {},
   "source": [
    "<div class=\"alert alert-danger\">\n",
    "<font size=\"4\"><b>❌ Комментарий ревьюера</b></font>\n",
    "    <br /> \n",
    "    <font size=\"3\", color = \"black\">\n",
    "<br />После заполнения синтетическими данными столбцов, стоит провести проверку на корректность значений всех наших площадей, т.к. есть (коридоры, сан.узлы, балконы)\n",
    "        \n",
    "        total_area*0.9 <= (living_area + kitchen_area)\n",
    "                                     \n",
    "если алгоритм приводит к появлению аномалий, стоит подумать над его содержимым"
   ]
  },
  {
   "cell_type": "markdown",
   "metadata": {},
   "source": [
    "Очень часто встречается число 4783 в пропусках, посмотрим, проверим в одних и тех же ли они строках/скорее всего они принадлежат к одной группе"
   ]
  },
  {
   "cell_type": "code",
   "execution_count": 14,
   "metadata": {},
   "outputs": [
    {
     "data": {
      "text/plain": [
       "total_images               0\n",
       "last_price                 0\n",
       "total_area                 0\n",
       "first_day_exposition       0\n",
       "rooms                      0\n",
       "ceiling_height             0\n",
       "floors_total               0\n",
       "living_area                0\n",
       "floor                      0\n",
       "is_apartment            4878\n",
       "studio                     0\n",
       "open_plan                  0\n",
       "kitchen_area             706\n",
       "balcony                 2697\n",
       "locality_name              0\n",
       "airports_nearest        5500\n",
       "cityCenters_nearest     5501\n",
       "parks_around3000        5500\n",
       "parks_nearest           5500\n",
       "ponds_around3000        5500\n",
       "ponds_nearest           5501\n",
       "days_exposition          864\n",
       "dtype: int64"
      ]
     },
     "execution_count": 14,
     "metadata": {},
     "output_type": "execute_result"
    }
   ],
   "source": [
    "df_good[df_good['cityCenters_nearest'].isna()].isna().sum()"
   ]
  },
  {
   "cell_type": "markdown",
   "metadata": {},
   "source": [
    "* Гипотеза подтвердилась 4783 незаполненных поля, не заполнены сразу в 7 полях.\n",
    "* Есть предположение, что именно эти поля заполняли вручную.\n"
   ]
  },
  {
   "cell_type": "markdown",
   "metadata": {},
   "source": [
    "<div class=\"alert alert-warning\", style=\"border:solid coral 3px; padding: 20px\">\n",
    "<font size=\"4\"><b>⚠️ Комментарий ревьюера </b></font>\n",
    "    <br /> \n",
    "    <font size=\"3\", color = \"black\">\n",
    "<br />Стоит знакомиться с описанием проекта\n",
    "        \n",
    "Описание проекта\n",
    "+ В вашем распоряжении данные сервиса Яндекс Недвижимость — архив объявлений за несколько лет о продаже квартир в Санкт-Петербурге и соседних населённых пунктах.\n",
    "+ Ваша задача — выполнить предобработку данных и изучить их, чтобы найти интересные особенности и зависимости, которые существуют на рынке недвижимости.\n",
    "+ О каждой квартире в базе содержится __два типа данных: добавленные пользователем и картографические.__ Например, к первому типу относятся площадь квартиры, её этаж и количество балконов, ко второму — расстояния до центра города, аэропорта и ближайшего парка.\n",
    "        \n",
    "можно сократить себе объем работы"
   ]
  },
  {
   "cell_type": "code",
   "execution_count": 15,
   "metadata": {},
   "outputs": [
    {
     "name": "stdout",
     "output_type": "stream",
     "text": [
      "total_images                0\n",
      "last_price                  0\n",
      "total_area                  0\n",
      "first_day_exposition        0\n",
      "rooms                       0\n",
      "ceiling_height              0\n",
      "floors_total                0\n",
      "living_area                 0\n",
      "floor                       0\n",
      "is_apartment            20805\n",
      "studio                      0\n",
      "open_plan                   0\n",
      "kitchen_area             2222\n",
      "balcony                 11475\n",
      "locality_name               0\n",
      "airports_nearest         5524\n",
      "cityCenters_nearest      5501\n",
      "parks_around3000         5500\n",
      "parks_nearest           15535\n",
      "ponds_around3000         5500\n",
      "ponds_nearest           14529\n",
      "days_exposition          3171\n",
      "dtype: int64\n",
      "Количество оставшихся строк: 23565\n"
     ]
    }
   ],
   "source": [
    "print(df_good.isna().sum())\n",
    "print('Количество оставшихся строк:', len(df_good))"
   ]
  },
  {
   "cell_type": "code",
   "execution_count": 16,
   "metadata": {},
   "outputs": [
    {
     "name": "stdout",
     "output_type": "stream",
     "text": [
      "Кол-во уникальных населенных пунктов до преобразования:  364\n",
      "Кол-во уникальных населенных пунктов после преобразования:  305\n",
      "23565\n"
     ]
    }
   ],
   "source": [
    "#Удаляем неявные дубликаты из названий населенных пунктов\n",
    "bad_words = [\n",
    "'поселок городского типа имени ',\n",
    "'садоводческое некоммерческое товарищество ',\n",
    "'посёлок городского типа имени ',\n",
    "'посёлок городского типа имени ',\n",
    "'поселок городского типа ',\n",
    "'посёлок городского типа ',\n",
    "'посёлок при железнодорожной станции ',\n",
    "'городской поселок ',\n",
    "'посёлок станции ',\n",
    "'городской посёлок ', \n",
    "'садовое товарищество ', \n",
    "'коттеджный посёлок ', \n",
    "'посёлок коттеджный ', \n",
    "'поселок коттеджный ', \n",
    "'коттеджный поселок ', \n",
    "'поселок станции ',\n",
    "'при железнодорожной станции ',\n",
    "'поселок ',\n",
    "'городской ',\n",
    "'деревня ',\n",
    "'посёлок ',\n",
    "'поселок ',\n",
    "'село ',\n",
    "'имени ', \n",
    "'станции ',]\n",
    "\n",
    "def locality_clean(x):\n",
    "    \n",
    "    for wrd in bad_words:\n",
    "        if str(wrd) in str(x): return(x.replace(wrd,''))\n",
    "    return(x)    \n",
    "\n",
    "df_good['short_locality_name']=df_good['locality_name'].apply(locality_clean)\n",
    "print('Кол-во уникальных населенных пунктов до преобразования: ', len(df_good['locality_name'].unique()))\n",
    "print('Кол-во уникальных населенных пунктов после преобразования: ',len(df_good['short_locality_name'].sort_values().unique()))\n",
    "#display(df_good['locality_name'].sort_values().unique())\n",
    "#display(df_good['short_locality_name'].sort_values().unique())\n",
    "print(len(df_good))"
   ]
  },
  {
   "cell_type": "markdown",
   "metadata": {},
   "source": [
    "* Если отбросить данные, где не заполнены поля, то получается, что замен нужно сделать гораздо меньше. \n",
    "* Посмотрим сколько локаций в этих группах"
   ]
  },
  {
   "cell_type": "code",
   "execution_count": 17,
   "metadata": {},
   "outputs": [
    {
     "data": {
      "text/plain": [
       "286"
      ]
     },
     "execution_count": 17,
     "metadata": {},
     "output_type": "execute_result"
    }
   ],
   "source": [
    "len(df_good[df_good['ponds_around3000'].isna()]['short_locality_name'].unique())"
   ]
  },
  {
   "cell_type": "markdown",
   "metadata": {},
   "source": [
    "286 населенных пунктов находятся в этой небольшой группе. Вывод: отбрасывать эти данные мы не будем, просто объединим их в отдельную группу. Скорее всего эти данные собирали люди, поэтому они и не смогли указать расстояния. Другие параметры мы можем использовать."
   ]
  },
  {
   "cell_type": "code",
   "execution_count": 18,
   "metadata": {},
   "outputs": [
    {
     "name": "stdout",
     "output_type": "stream",
     "text": [
      "<class 'pandas.core.frame.DataFrame'>\n",
      "RangeIndex: 23699 entries, 0 to 23698\n",
      "Data columns (total 22 columns):\n",
      " #   Column                Non-Null Count  Dtype  \n",
      "---  ------                --------------  -----  \n",
      " 0   total_images          23699 non-null  int64  \n",
      " 1   last_price            23699 non-null  float64\n",
      " 2   total_area            23699 non-null  float64\n",
      " 3   first_day_exposition  23699 non-null  object \n",
      " 4   rooms                 23699 non-null  int64  \n",
      " 5   ceiling_height        23699 non-null  float64\n",
      " 6   floors_total          23613 non-null  float64\n",
      " 7   living_area           21796 non-null  float64\n",
      " 8   floor                 23699 non-null  int64  \n",
      " 9   is_apartment          2775 non-null   object \n",
      " 10  studio                23699 non-null  bool   \n",
      " 11  open_plan             23699 non-null  bool   \n",
      " 12  kitchen_area          21421 non-null  float64\n",
      " 13  balcony               12180 non-null  float64\n",
      " 14  locality_name         23650 non-null  object \n",
      " 15  airports_nearest      18157 non-null  float64\n",
      " 16  cityCenters_nearest   18180 non-null  float64\n",
      " 17  parks_around3000      18181 non-null  float64\n",
      " 18  parks_nearest         8079 non-null   float64\n",
      " 19  ponds_around3000      18181 non-null  float64\n",
      " 20  ponds_nearest         9110 non-null   float64\n",
      " 21  days_exposition       20518 non-null  float64\n",
      "dtypes: bool(2), float64(14), int64(3), object(3)\n",
      "memory usage: 3.7+ MB\n"
     ]
    }
   ],
   "source": [
    "# check \n",
    "df.info()"
   ]
  },
  {
   "cell_type": "markdown",
   "metadata": {},
   "source": [
    "<div class=\"alert alert-danger\">\n",
    "<font size=\"4\"><b>❌ Комментарий ревьюера</b></font>\n",
    "    <br /> \n",
    "    <font size=\"3\", color = \"black\">\n",
    "<br />\n",
    "стоит сменить тип данных в \n",
    "        \n",
    "         \n",
    "         6   floors_total                     23613 non-null  float64       \n",
    "        \n",
    "пропуски можно удалить, кол-во их минимально\n",
    "         "
   ]
  },
  {
   "cell_type": "markdown",
   "metadata": {},
   "source": [
    "<div class=\"alert alert-success\">\n",
    "<font size=\"4\", color= \"seagreen\"><b>✔️ Комментарий ревьюера</b></font>\n",
    "    <br /> \n",
    "    <font size=\"3\", color = \"black\">\n",
    "<br />\n",
    "\n",
    "__проверим какие аномалии остались__ таблица ниже"
   ]
  },
  {
   "cell_type": "code",
   "execution_count": 19,
   "metadata": {
    "scrolled": false
   },
   "outputs": [
    {
     "data": {
      "text/html": [
       "<style type=\"text/css\">\n",
       "</style>\n",
       "<table id=\"T_e4bee\">\n",
       "  <thead>\n",
       "    <tr>\n",
       "      <th class=\"blank level0\" >&nbsp;</th>\n",
       "      <th id=\"T_e4bee_level0_col0\" class=\"col_heading level0 col0\" >rooms</th>\n",
       "      <th id=\"T_e4bee_level0_col1\" class=\"col_heading level0 col1\" >total_area</th>\n",
       "      <th id=\"T_e4bee_level0_col2\" class=\"col_heading level0 col2\" >ceiling_height</th>\n",
       "      <th id=\"T_e4bee_level0_col3\" class=\"col_heading level0 col3\" >days_exposition</th>\n",
       "      <th id=\"T_e4bee_level0_col4\" class=\"col_heading level0 col4\" >last_price</th>\n",
       "      <th id=\"T_e4bee_level0_col5\" class=\"col_heading level0 col5\" >living_area</th>\n",
       "      <th id=\"T_e4bee_level0_col6\" class=\"col_heading level0 col6\" >kitchen_area</th>\n",
       "      <th id=\"T_e4bee_level0_col7\" class=\"col_heading level0 col7\" >floor</th>\n",
       "      <th id=\"T_e4bee_level0_col8\" class=\"col_heading level0 col8\" >floors_total</th>\n",
       "    </tr>\n",
       "  </thead>\n",
       "  <tbody>\n",
       "    <tr>\n",
       "      <th id=\"T_e4bee_level0_row0\" class=\"row_heading level0 row0\" >count</th>\n",
       "      <td id=\"T_e4bee_row0_col0\" class=\"data row0 col0\" >23,699.00</td>\n",
       "      <td id=\"T_e4bee_row0_col1\" class=\"data row0 col1\" >23,699.00</td>\n",
       "      <td id=\"T_e4bee_row0_col2\" class=\"data row0 col2\" >23,699.00</td>\n",
       "      <td id=\"T_e4bee_row0_col3\" class=\"data row0 col3\" >20,518.00</td>\n",
       "      <td id=\"T_e4bee_row0_col4\" class=\"data row0 col4\" >23,699.00</td>\n",
       "      <td id=\"T_e4bee_row0_col5\" class=\"data row0 col5\" >21,796.00</td>\n",
       "      <td id=\"T_e4bee_row0_col6\" class=\"data row0 col6\" >21,421.00</td>\n",
       "      <td id=\"T_e4bee_row0_col7\" class=\"data row0 col7\" >23,699.00</td>\n",
       "      <td id=\"T_e4bee_row0_col8\" class=\"data row0 col8\" >23,613.00</td>\n",
       "    </tr>\n",
       "    <tr>\n",
       "      <th id=\"T_e4bee_level0_row1\" class=\"row_heading level0 row1\" >min</th>\n",
       "      <td id=\"T_e4bee_row1_col0\" class=\"data row1 col0\" >0.00</td>\n",
       "      <td id=\"T_e4bee_row1_col1\" class=\"data row1 col1\" >12.00</td>\n",
       "      <td id=\"T_e4bee_row1_col2\" class=\"data row1 col2\" >1.00</td>\n",
       "      <td id=\"T_e4bee_row1_col3\" class=\"data row1 col3\" >1.00</td>\n",
       "      <td id=\"T_e4bee_row1_col4\" class=\"data row1 col4\" >12,190.00</td>\n",
       "      <td id=\"T_e4bee_row1_col5\" class=\"data row1 col5\" >2.00</td>\n",
       "      <td id=\"T_e4bee_row1_col6\" class=\"data row1 col6\" >1.30</td>\n",
       "      <td id=\"T_e4bee_row1_col7\" class=\"data row1 col7\" >1.00</td>\n",
       "      <td id=\"T_e4bee_row1_col8\" class=\"data row1 col8\" >1.00</td>\n",
       "    </tr>\n",
       "    <tr>\n",
       "      <th id=\"T_e4bee_level0_row2\" class=\"row_heading level0 row2\" >max</th>\n",
       "      <td id=\"T_e4bee_row2_col0\" class=\"data row2 col0\" >19.00</td>\n",
       "      <td id=\"T_e4bee_row2_col1\" class=\"data row2 col1\" >900.00</td>\n",
       "      <td id=\"T_e4bee_row2_col2\" class=\"data row2 col2\" >100.00</td>\n",
       "      <td id=\"T_e4bee_row2_col3\" class=\"data row2 col3\" >1,580.00</td>\n",
       "      <td id=\"T_e4bee_row2_col4\" class=\"data row2 col4\" >763,000,000.00</td>\n",
       "      <td id=\"T_e4bee_row2_col5\" class=\"data row2 col5\" >409.70</td>\n",
       "      <td id=\"T_e4bee_row2_col6\" class=\"data row2 col6\" >112.00</td>\n",
       "      <td id=\"T_e4bee_row2_col7\" class=\"data row2 col7\" >33.00</td>\n",
       "      <td id=\"T_e4bee_row2_col8\" class=\"data row2 col8\" >60.00</td>\n",
       "    </tr>\n",
       "  </tbody>\n",
       "</table>\n"
      ],
      "text/plain": [
       "<pandas.io.formats.style.Styler at 0x7fec2c784760>"
      ]
     },
     "execution_count": 19,
     "metadata": {},
     "output_type": "execute_result"
    }
   ],
   "source": [
    "# check\n",
    "\n",
    "# Показатели о кол-ве объявлений в датасете, минимальных и максимальных значениях \n",
    "# в выбранных параметрах о продаже квартир\n",
    "# сырые данные\n",
    "\n",
    "data = df.copy()\n",
    "(\n",
    "    data[['rooms', 'total_area', 'ceiling_height', 'days_exposition', 'last_price', 'living_area',  'kitchen_area',\n",
    "          'floor', 'floors_total']]\n",
    "    .apply (['count', 'min', 'max'])   \n",
    "    .style.format(\"{:,.2f}\")\n",
    ")"
   ]
  },
  {
   "cell_type": "code",
   "execution_count": 20,
   "metadata": {
    "scrolled": false
   },
   "outputs": [
    {
     "data": {
      "text/html": [
       "<style type=\"text/css\">\n",
       "</style>\n",
       "<table id=\"T_db797\">\n",
       "  <thead>\n",
       "    <tr>\n",
       "      <th class=\"blank level0\" >&nbsp;</th>\n",
       "      <th id=\"T_db797_level0_col0\" class=\"col_heading level0 col0\" >rooms</th>\n",
       "      <th id=\"T_db797_level0_col1\" class=\"col_heading level0 col1\" >total_area</th>\n",
       "      <th id=\"T_db797_level0_col2\" class=\"col_heading level0 col2\" >ceiling_height</th>\n",
       "      <th id=\"T_db797_level0_col3\" class=\"col_heading level0 col3\" >days_exposition</th>\n",
       "      <th id=\"T_db797_level0_col4\" class=\"col_heading level0 col4\" >last_price</th>\n",
       "      <th id=\"T_db797_level0_col5\" class=\"col_heading level0 col5\" >living_area</th>\n",
       "      <th id=\"T_db797_level0_col6\" class=\"col_heading level0 col6\" >kitchen_area</th>\n",
       "      <th id=\"T_db797_level0_col7\" class=\"col_heading level0 col7\" >floor</th>\n",
       "      <th id=\"T_db797_level0_col8\" class=\"col_heading level0 col8\" >floors_total</th>\n",
       "    </tr>\n",
       "  </thead>\n",
       "  <tbody>\n",
       "    <tr>\n",
       "      <th id=\"T_db797_level0_row0\" class=\"row_heading level0 row0\" >count</th>\n",
       "      <td id=\"T_db797_row0_col0\" class=\"data row0 col0\" >23,565.00</td>\n",
       "      <td id=\"T_db797_row0_col1\" class=\"data row0 col1\" >23,565.00</td>\n",
       "      <td id=\"T_db797_row0_col2\" class=\"data row0 col2\" >23,565.00</td>\n",
       "      <td id=\"T_db797_row0_col3\" class=\"data row0 col3\" >20,394.00</td>\n",
       "      <td id=\"T_db797_row0_col4\" class=\"data row0 col4\" >23,565.00</td>\n",
       "      <td id=\"T_db797_row0_col5\" class=\"data row0 col5\" >23,565.00</td>\n",
       "      <td id=\"T_db797_row0_col6\" class=\"data row0 col6\" >21,343.00</td>\n",
       "      <td id=\"T_db797_row0_col7\" class=\"data row0 col7\" >23,565.00</td>\n",
       "      <td id=\"T_db797_row0_col8\" class=\"data row0 col8\" >23,565.00</td>\n",
       "    </tr>\n",
       "    <tr>\n",
       "      <th id=\"T_db797_level0_row1\" class=\"row_heading level0 row1\" >min</th>\n",
       "      <td id=\"T_db797_row1_col0\" class=\"data row1 col0\" >0.00</td>\n",
       "      <td id=\"T_db797_row1_col1\" class=\"data row1 col1\" >12.00</td>\n",
       "      <td id=\"T_db797_row1_col2\" class=\"data row1 col2\" >1.00</td>\n",
       "      <td id=\"T_db797_row1_col3\" class=\"data row1 col3\" >1.00</td>\n",
       "      <td id=\"T_db797_row1_col4\" class=\"data row1 col4\" >12,190.00</td>\n",
       "      <td id=\"T_db797_row1_col5\" class=\"data row1 col5\" >2.00</td>\n",
       "      <td id=\"T_db797_row1_col6\" class=\"data row1 col6\" >1.30</td>\n",
       "      <td id=\"T_db797_row1_col7\" class=\"data row1 col7\" >1.00</td>\n",
       "      <td id=\"T_db797_row1_col8\" class=\"data row1 col8\" >1.00</td>\n",
       "    </tr>\n",
       "    <tr>\n",
       "      <th id=\"T_db797_level0_row2\" class=\"row_heading level0 row2\" >max</th>\n",
       "      <td id=\"T_db797_row2_col0\" class=\"data row2 col0\" >19.00</td>\n",
       "      <td id=\"T_db797_row2_col1\" class=\"data row2 col1\" >900.00</td>\n",
       "      <td id=\"T_db797_row2_col2\" class=\"data row2 col2\" >100.00</td>\n",
       "      <td id=\"T_db797_row2_col3\" class=\"data row2 col3\" >1,580.00</td>\n",
       "      <td id=\"T_db797_row2_col4\" class=\"data row2 col4\" >763,000,000.00</td>\n",
       "      <td id=\"T_db797_row2_col5\" class=\"data row2 col5\" >409.70</td>\n",
       "      <td id=\"T_db797_row2_col6\" class=\"data row2 col6\" >112.00</td>\n",
       "      <td id=\"T_db797_row2_col7\" class=\"data row2 col7\" >33.00</td>\n",
       "      <td id=\"T_db797_row2_col8\" class=\"data row2 col8\" >60.00</td>\n",
       "    </tr>\n",
       "  </tbody>\n",
       "</table>\n"
      ],
      "text/plain": [
       "<pandas.io.formats.style.Styler at 0x7febce3511c0>"
      ]
     },
     "execution_count": 20,
     "metadata": {},
     "output_type": "execute_result"
    }
   ],
   "source": [
    "# check\n",
    "\n",
    "# Показатели о кол-ве объявлений в датасете, минимальных и максимальных значениях \n",
    "# в выбранных параметрах о продаже квартир\n",
    "\n",
    "\n",
    "(\n",
    "    df_good[['rooms', 'total_area', 'ceiling_height', 'days_exposition', 'last_price', 'living_area',  'kitchen_area',\n",
    "          'floor', 'floors_total']]\n",
    "    .apply (['count', 'min', 'max'])   \n",
    "    .style.format(\"{:,.2f}\")\n",
    ")"
   ]
  },
  {
   "cell_type": "markdown",
   "metadata": {},
   "source": [
    "<div class=\"alert alert-danger\">\n",
    "<font size=\"4\"><b>❌ Комментарий ревьюера</b></font>\n",
    "    <br /> \n",
    "    <font size=\"3\", color = \"black\">\n",
    "<br />остались аномалии и редкости в колонках: \n",
    "        \n",
    "        'rooms', 'total_area', 'ceiling_height', 'days_exposition', 'last_price', 'living_area',  'kitchen_area', 'floors_total'\n",
    "        \n",
    "стоит учесть наличие пропусков при фильтрации данных"
   ]
  },
  {
   "cell_type": "markdown",
   "metadata": {},
   "source": [
    "<div class=\"alert alert-success\">\n",
    "<font size=\"4\", color= \"seagreen\"><b>✔️ Комментарий ревьюера</b></font>\n",
    "    <br /> \n",
    "    <font size=\"3\", color = \"black\">\n",
    "<br />Для выполнения пункта 2.4. существует два подхода\n",
    "        \n",
    "Можно механически бороться с выбросами, ...\n",
    "               \n",
    "основная проблема такого подхода — не учитывается неоднородность нашей выборки: у нас здесь и малые поселки, и вторая столица страны, и исторический фонд и массовая застройка, и однушки и довольно большое кол-во многокомнатных квартир, или наоборот одна две квартиры с количеством комнат больше 7-ми ...\n",
    "        \n",
    "\n",
    "        \n",
    "если бы у нас в таблице были бы только однокомнатные квартиры из определенного района массовой застройки, тогда да, мы бы боролись с выбросами традиционными способами, при нашем многообразии населенных пунктов, многокомнатности такие подходы не работают... т.е. они работают, но это усложнит наш проект — придется разбить и объединить записи нашей таблицы по нескольким параметрам (кол-во комнат, район, и т.д.), а затем только выполнять все остальные пункты на каждой отдельной выборке\n",
    "        \n",
    "Остается другой подход — убираем редкие значения и следим за количеством потерь... \n",
    "         \n",
    "Для выборки из 23-х тысяч значений, 4 записи со стоимостью квадратного метра выше 10 млн. руб., довольно редкое явление\n",
    "\n",
    "Хороший пример, высота потолков, которую мы отрезаем по нижней и верхней планке, это скорее аномальные записи, посмотрим на другой аспект — на редкости: кол-во комнат\n",
    "\n",
    "__т.е. мы не говорим о том, что квартир с кол-ом комнат выше 7 не бывает, мы говорим, что для нашего исследования это редкие выбивающиеся из общей картины уникальные объекты, по которым необходимо проводить отдельную работу ...__\n",
    "        \n",
    "подобным образом рассматриваем и остальные параметры\n",
    "        \n",
    "наши помощники\n",
    "        \n",
    "1. гистограммы, с хорошим масштабом\n",
    "2. метод describe() или облегченная версия, пример выше\n",
    "3. метод value_counts()\n",
    "        \n",
    "плюс жизненный опыт "
   ]
  },
  {
   "cell_type": "code",
   "execution_count": 21,
   "metadata": {},
   "outputs": [
    {
     "data": {
      "text/html": [
       "<div>\n",
       "<style scoped>\n",
       "    .dataframe tbody tr th:only-of-type {\n",
       "        vertical-align: middle;\n",
       "    }\n",
       "\n",
       "    .dataframe tbody tr th {\n",
       "        vertical-align: top;\n",
       "    }\n",
       "\n",
       "    .dataframe thead th {\n",
       "        text-align: right;\n",
       "    }\n",
       "</style>\n",
       "<table border=\"1\" class=\"dataframe\">\n",
       "  <thead>\n",
       "    <tr style=\"text-align: right;\">\n",
       "      <th></th>\n",
       "      <th>rooms</th>\n",
       "    </tr>\n",
       "  </thead>\n",
       "  <tbody>\n",
       "    <tr>\n",
       "      <th>1</th>\n",
       "      <td>8047</td>\n",
       "    </tr>\n",
       "    <tr>\n",
       "      <th>2</th>\n",
       "      <td>7940</td>\n",
       "    </tr>\n",
       "    <tr>\n",
       "      <th>3</th>\n",
       "      <td>5814</td>\n",
       "    </tr>\n",
       "    <tr>\n",
       "      <th>4</th>\n",
       "      <td>1180</td>\n",
       "    </tr>\n",
       "    <tr>\n",
       "      <th>5</th>\n",
       "      <td>326</td>\n",
       "    </tr>\n",
       "    <tr>\n",
       "      <th>0</th>\n",
       "      <td>197</td>\n",
       "    </tr>\n",
       "    <tr>\n",
       "      <th>6</th>\n",
       "      <td>105</td>\n",
       "    </tr>\n",
       "    <tr>\n",
       "      <th>7</th>\n",
       "      <td>59</td>\n",
       "    </tr>\n",
       "    <tr>\n",
       "      <th>8</th>\n",
       "      <td>12</td>\n",
       "    </tr>\n",
       "    <tr>\n",
       "      <th>9</th>\n",
       "      <td>8</td>\n",
       "    </tr>\n",
       "    <tr>\n",
       "      <th>10</th>\n",
       "      <td>3</td>\n",
       "    </tr>\n",
       "    <tr>\n",
       "      <th>11</th>\n",
       "      <td>2</td>\n",
       "    </tr>\n",
       "    <tr>\n",
       "      <th>14</th>\n",
       "      <td>2</td>\n",
       "    </tr>\n",
       "    <tr>\n",
       "      <th>15</th>\n",
       "      <td>1</td>\n",
       "    </tr>\n",
       "    <tr>\n",
       "      <th>19</th>\n",
       "      <td>1</td>\n",
       "    </tr>\n",
       "    <tr>\n",
       "      <th>16</th>\n",
       "      <td>1</td>\n",
       "    </tr>\n",
       "    <tr>\n",
       "      <th>12</th>\n",
       "      <td>1</td>\n",
       "    </tr>\n",
       "  </tbody>\n",
       "</table>\n",
       "</div>"
      ],
      "text/plain": [
       "    rooms\n",
       "1    8047\n",
       "2    7940\n",
       "3    5814\n",
       "4    1180\n",
       "5     326\n",
       "0     197\n",
       "6     105\n",
       "7      59\n",
       "8      12\n",
       "9       8\n",
       "10      3\n",
       "11      2\n",
       "14      2\n",
       "15      1\n",
       "19      1\n",
       "16      1\n",
       "12      1"
      ]
     },
     "execution_count": 21,
     "metadata": {},
     "output_type": "execute_result"
    }
   ],
   "source": [
    "# check\n",
    "data.rooms.value_counts().to_frame()"
   ]
  },
  {
   "cell_type": "code",
   "execution_count": 22,
   "metadata": {
    "scrolled": false
   },
   "outputs": [
    {
     "data": {
      "image/png": "[encoded data removed]",
      "text/plain": [
       "<Figure size 1080x216 with 1 Axes>"
      ]
     },
     "metadata": {
      "needs_background": "light"
     },
     "output_type": "display_data"
    }
   ],
   "source": [
    "# check\n",
    "data.total_area.hist(bins = 150, figsize = (15,3));"
   ]
  },
  {
   "cell_type": "markdown",
   "metadata": {},
   "source": [
    "<div class=\"alert alert-success\">\n",
    "<font size=\"4\", color= \"seagreen\"><b>✔️ Комментарий ревьюера</b></font>\n",
    "    <br /> \n",
    "    <font size=\"3\", color = \"black\">\n",
    "<br />т.е. все квартиры более 250-ти квадратных метров можно считать редкостями\n",
    "        \n",
    "особенно это заметно на втором графике, где мы подробно рассматриваем промежуток от 180 кв. метров до 500"
   ]
  },
  {
   "cell_type": "code",
   "execution_count": 23,
   "metadata": {
    "scrolled": false
   },
   "outputs": [
    {
     "data": {
      "image/png": "[encoded data removed]",
      "text/plain": [
       "<Figure size 1080x216 with 1 Axes>"
      ]
     },
     "metadata": {
      "needs_background": "light"
     },
     "output_type": "display_data"
    }
   ],
   "source": [
    "# check\n",
    "data.total_area.hist(bins = 150, figsize = (15,3), range = (180,500));"
   ]
  },
  {
   "cell_type": "markdown",
   "metadata": {},
   "source": [
    "<div class=\"alert alert-danger\">\n",
    "<font size=\"4\"><b>❌ Комментарий ревьюера</b></font>\n",
    "    <br /> \n",
    "    <font size=\"3\", color = \"black\">\n",
    "<br />Осталось выполнить пункт 2.4 из брифа проекта\n",
    "\n",
    "2.4.\tНайдите и устраните редкие и выбивающиеся значения.\n",
    "        \n",
    "__Критичный уровень потерь записей на этапе предобработки составляет 10%, оптимальный 5%__"
   ]
  },
  {
   "cell_type": "code",
   "execution_count": 24,
   "metadata": {},
   "outputs": [
    {
     "data": {
      "text/html": [
       "<style type=\"text/css\">\n",
       "</style>\n",
       "<table id=\"T_51e67\">\n",
       "  <thead>\n",
       "    <tr>\n",
       "      <th class=\"blank level0\" >&nbsp;</th>\n",
       "      <th id=\"T_51e67_level0_col0\" class=\"col_heading level0 col0\" >rooms</th>\n",
       "      <th id=\"T_51e67_level0_col1\" class=\"col_heading level0 col1\" >total_area</th>\n",
       "      <th id=\"T_51e67_level0_col2\" class=\"col_heading level0 col2\" >ceiling_height</th>\n",
       "      <th id=\"T_51e67_level0_col3\" class=\"col_heading level0 col3\" >days_exposition</th>\n",
       "      <th id=\"T_51e67_level0_col4\" class=\"col_heading level0 col4\" >last_price</th>\n",
       "      <th id=\"T_51e67_level0_col5\" class=\"col_heading level0 col5\" >living_area</th>\n",
       "      <th id=\"T_51e67_level0_col6\" class=\"col_heading level0 col6\" >kitchen_area</th>\n",
       "      <th id=\"T_51e67_level0_col7\" class=\"col_heading level0 col7\" >floor</th>\n",
       "      <th id=\"T_51e67_level0_col8\" class=\"col_heading level0 col8\" >floors_total</th>\n",
       "    </tr>\n",
       "  </thead>\n",
       "  <tbody>\n",
       "    <tr>\n",
       "      <th id=\"T_51e67_level0_row0\" class=\"row_heading level0 row0\" >0.010000</th>\n",
       "      <td id=\"T_51e67_row0_col0\" class=\"data row0 col0\" >1.00</td>\n",
       "      <td id=\"T_51e67_row0_col1\" class=\"data row0 col1\" >25.20</td>\n",
       "      <td id=\"T_51e67_row0_col2\" class=\"data row0 col2\" >2.50</td>\n",
       "      <td id=\"T_51e67_row0_col3\" class=\"data row0 col3\" >4.00</td>\n",
       "      <td id=\"T_51e67_row0_col4\" class=\"data row0 col4\" >1,000,000.00</td>\n",
       "      <td id=\"T_51e67_row0_col5\" class=\"data row0 col5\" >13.00</td>\n",
       "      <td id=\"T_51e67_row0_col6\" class=\"data row0 col6\" >5.00</td>\n",
       "      <td id=\"T_51e67_row0_col7\" class=\"data row0 col7\" >1.00</td>\n",
       "      <td id=\"T_51e67_row0_col8\" class=\"data row0 col8\" >2.00</td>\n",
       "    </tr>\n",
       "    <tr>\n",
       "      <th id=\"T_51e67_level0_row1\" class=\"row_heading level0 row1\" >0.500000</th>\n",
       "      <td id=\"T_51e67_row1_col0\" class=\"data row1 col0\" >2.00</td>\n",
       "      <td id=\"T_51e67_row1_col1\" class=\"data row1 col1\" >52.00</td>\n",
       "      <td id=\"T_51e67_row1_col2\" class=\"data row1 col2\" >2.65</td>\n",
       "      <td id=\"T_51e67_row1_col3\" class=\"data row1 col3\" >95.00</td>\n",
       "      <td id=\"T_51e67_row1_col4\" class=\"data row1 col4\" >4,650,000.00</td>\n",
       "      <td id=\"T_51e67_row1_col5\" class=\"data row1 col5\" >30.00</td>\n",
       "      <td id=\"T_51e67_row1_col6\" class=\"data row1 col6\" >9.10</td>\n",
       "      <td id=\"T_51e67_row1_col7\" class=\"data row1 col7\" >4.00</td>\n",
       "      <td id=\"T_51e67_row1_col8\" class=\"data row1 col8\" >9.00</td>\n",
       "    </tr>\n",
       "    <tr>\n",
       "      <th id=\"T_51e67_level0_row2\" class=\"row_heading level0 row2\" >0.900000</th>\n",
       "      <td id=\"T_51e67_row2_col0\" class=\"data row2 col0\" >3.00</td>\n",
       "      <td id=\"T_51e67_row2_col1\" class=\"data row2 col1\" >93.52</td>\n",
       "      <td id=\"T_51e67_row2_col2\" class=\"data row2 col2\" >3.00</td>\n",
       "      <td id=\"T_51e67_row2_col3\" class=\"data row2 col3\" >460.00</td>\n",
       "      <td id=\"T_51e67_row2_col4\" class=\"data row2 col4\" >10,914,231.20</td>\n",
       "      <td id=\"T_51e67_row2_col5\" class=\"data row2 col5\" >55.00</td>\n",
       "      <td id=\"T_51e67_row2_col6\" class=\"data row2 col6\" >15.90</td>\n",
       "      <td id=\"T_51e67_row2_col7\" class=\"data row2 col7\" >13.00</td>\n",
       "      <td id=\"T_51e67_row2_col8\" class=\"data row2 col8\" >22.00</td>\n",
       "    </tr>\n",
       "    <tr>\n",
       "      <th id=\"T_51e67_level0_row3\" class=\"row_heading level0 row3\" >0.997600</th>\n",
       "      <td id=\"T_51e67_row3_col0\" class=\"data row3 col0\" >7.00</td>\n",
       "      <td id=\"T_51e67_row3_col1\" class=\"data row3 col1\" >309.74</td>\n",
       "      <td id=\"T_51e67_row3_col2\" class=\"data row3 col2\" >4.21</td>\n",
       "      <td id=\"T_51e67_row3_col3\" class=\"data row3 col3\" >1,311.28</td>\n",
       "      <td id=\"T_51e67_row3_col4\" class=\"data row3 col4\" >82,000,000.00</td>\n",
       "      <td id=\"T_51e67_row3_col5\" class=\"data row3 col5\" >181.25</td>\n",
       "      <td id=\"T_51e67_row3_col6\" class=\"data row3 col6\" >50.00</td>\n",
       "      <td id=\"T_51e67_row3_col7\" class=\"data row3 col7\" >25.00</td>\n",
       "      <td id=\"T_51e67_row3_col8\" class=\"data row3 col8\" >27.00</td>\n",
       "    </tr>\n",
       "  </tbody>\n",
       "</table>\n"
      ],
      "text/plain": [
       "<pandas.io.formats.style.Styler at 0x7febc5de24c0>"
      ]
     },
     "execution_count": 24,
     "metadata": {},
     "output_type": "execute_result"
    }
   ],
   "source": [
    "# check\n",
    "\n",
    "# Значения параметров объектов недвижимости на разных квантилях\n",
    "\n",
    "(\n",
    "    data[['rooms', 'total_area', 'ceiling_height', 'days_exposition', 'last_price', 'living_area',  \n",
    "        'kitchen_area', 'floor',   'floors_total']]\n",
    "    .quantile([0.01, .5, .90, .9976])  \n",
    "    .style.format(\"{:,.2f}\")\n",
    ")"
   ]
  },
  {
   "cell_type": "markdown",
   "metadata": {},
   "source": [
    "<div class=\"alert alert-success\">\n",
    "<font size=\"4\", color= \"seagreen\"><b>✔️ Комментарий ревьюера </b></font>\n",
    "    <br /> \n",
    "    <font size=\"3\", color = \"black\">\n",
    "<br />Квантили что это такое\n",
    "        \n",
    "https://fin-accounting.ru/cfa/l1/quantitative/cfa-quartiles-quintiles-deciles-percentiles?ysclid=l7gy2kky4i156375632\n",
    "        \n",
    "они помогают увидеть редкости и аномалии в данных"
   ]
  },
  {
   "cell_type": "markdown",
   "metadata": {},
   "source": [
    "### Посчитайте и добавьте в таблицу новые столбцы"
   ]
  },
  {
   "cell_type": "code",
   "execution_count": 25,
   "metadata": {},
   "outputs": [
    {
     "data": {
      "text/html": [
       "<div>\n",
       "<style scoped>\n",
       "    .dataframe tbody tr th:only-of-type {\n",
       "        vertical-align: middle;\n",
       "    }\n",
       "\n",
       "    .dataframe tbody tr th {\n",
       "        vertical-align: top;\n",
       "    }\n",
       "\n",
       "    .dataframe thead th {\n",
       "        text-align: right;\n",
       "    }\n",
       "</style>\n",
       "<table border=\"1\" class=\"dataframe\">\n",
       "  <thead>\n",
       "    <tr style=\"text-align: right;\">\n",
       "      <th></th>\n",
       "      <th>total_images</th>\n",
       "      <th>last_price</th>\n",
       "      <th>total_area</th>\n",
       "      <th>first_day_exposition</th>\n",
       "      <th>rooms</th>\n",
       "      <th>ceiling_height</th>\n",
       "      <th>floors_total</th>\n",
       "      <th>living_area</th>\n",
       "      <th>floor</th>\n",
       "      <th>is_apartment</th>\n",
       "      <th>...</th>\n",
       "      <th>ponds_around3000</th>\n",
       "      <th>ponds_nearest</th>\n",
       "      <th>days_exposition</th>\n",
       "      <th>short_locality_name</th>\n",
       "      <th>price_1m</th>\n",
       "      <th>exposition_month_week_day</th>\n",
       "      <th>exposition_month</th>\n",
       "      <th>exposition_year</th>\n",
       "      <th>floor_type</th>\n",
       "      <th>cityCenters_nearest_km</th>\n",
       "    </tr>\n",
       "  </thead>\n",
       "  <tbody>\n",
       "    <tr>\n",
       "      <th>0</th>\n",
       "      <td>20</td>\n",
       "      <td>13000000.0</td>\n",
       "      <td>108.0</td>\n",
       "      <td>2019-03-07</td>\n",
       "      <td>3</td>\n",
       "      <td>2.70</td>\n",
       "      <td>16.0</td>\n",
       "      <td>51.000000</td>\n",
       "      <td>8</td>\n",
       "      <td>NaN</td>\n",
       "      <td>...</td>\n",
       "      <td>2.0</td>\n",
       "      <td>755.0</td>\n",
       "      <td>NaN</td>\n",
       "      <td>Санкт-Петербург</td>\n",
       "      <td>120370.370370</td>\n",
       "      <td>3</td>\n",
       "      <td>3</td>\n",
       "      <td>2019</td>\n",
       "      <td>other</td>\n",
       "      <td>16.028</td>\n",
       "    </tr>\n",
       "    <tr>\n",
       "      <th>1</th>\n",
       "      <td>7</td>\n",
       "      <td>3350000.0</td>\n",
       "      <td>40.4</td>\n",
       "      <td>2018-12-04</td>\n",
       "      <td>1</td>\n",
       "      <td>2.65</td>\n",
       "      <td>11.0</td>\n",
       "      <td>18.600000</td>\n",
       "      <td>1</td>\n",
       "      <td>NaN</td>\n",
       "      <td>...</td>\n",
       "      <td>0.0</td>\n",
       "      <td>NaN</td>\n",
       "      <td>81.0</td>\n",
       "      <td>Шушары</td>\n",
       "      <td>82920.792079</td>\n",
       "      <td>1</td>\n",
       "      <td>12</td>\n",
       "      <td>2018</td>\n",
       "      <td>first</td>\n",
       "      <td>18.603</td>\n",
       "    </tr>\n",
       "    <tr>\n",
       "      <th>2</th>\n",
       "      <td>10</td>\n",
       "      <td>5196000.0</td>\n",
       "      <td>56.0</td>\n",
       "      <td>2015-08-20</td>\n",
       "      <td>2</td>\n",
       "      <td>2.65</td>\n",
       "      <td>5.0</td>\n",
       "      <td>34.300000</td>\n",
       "      <td>4</td>\n",
       "      <td>NaN</td>\n",
       "      <td>...</td>\n",
       "      <td>2.0</td>\n",
       "      <td>574.0</td>\n",
       "      <td>558.0</td>\n",
       "      <td>Санкт-Петербург</td>\n",
       "      <td>92785.714286</td>\n",
       "      <td>3</td>\n",
       "      <td>8</td>\n",
       "      <td>2015</td>\n",
       "      <td>other</td>\n",
       "      <td>13.933</td>\n",
       "    </tr>\n",
       "    <tr>\n",
       "      <th>3</th>\n",
       "      <td>0</td>\n",
       "      <td>64900000.0</td>\n",
       "      <td>159.0</td>\n",
       "      <td>2015-07-24</td>\n",
       "      <td>3</td>\n",
       "      <td>2.65</td>\n",
       "      <td>14.0</td>\n",
       "      <td>91.211805</td>\n",
       "      <td>9</td>\n",
       "      <td>NaN</td>\n",
       "      <td>...</td>\n",
       "      <td>3.0</td>\n",
       "      <td>234.0</td>\n",
       "      <td>424.0</td>\n",
       "      <td>Санкт-Петербург</td>\n",
       "      <td>408176.100629</td>\n",
       "      <td>4</td>\n",
       "      <td>7</td>\n",
       "      <td>2015</td>\n",
       "      <td>other</td>\n",
       "      <td>6.800</td>\n",
       "    </tr>\n",
       "    <tr>\n",
       "      <th>4</th>\n",
       "      <td>2</td>\n",
       "      <td>10000000.0</td>\n",
       "      <td>100.0</td>\n",
       "      <td>2018-06-19</td>\n",
       "      <td>2</td>\n",
       "      <td>3.03</td>\n",
       "      <td>14.0</td>\n",
       "      <td>32.000000</td>\n",
       "      <td>13</td>\n",
       "      <td>NaN</td>\n",
       "      <td>...</td>\n",
       "      <td>1.0</td>\n",
       "      <td>48.0</td>\n",
       "      <td>121.0</td>\n",
       "      <td>Санкт-Петербург</td>\n",
       "      <td>100000.000000</td>\n",
       "      <td>1</td>\n",
       "      <td>6</td>\n",
       "      <td>2018</td>\n",
       "      <td>other</td>\n",
       "      <td>8.098</td>\n",
       "    </tr>\n",
       "  </tbody>\n",
       "</table>\n",
       "<p>5 rows × 29 columns</p>\n",
       "</div>"
      ],
      "text/plain": [
       "   total_images  last_price  total_area first_day_exposition  rooms  \\\n",
       "0            20  13000000.0       108.0           2019-03-07      3   \n",
       "1             7   3350000.0        40.4           2018-12-04      1   \n",
       "2            10   5196000.0        56.0           2015-08-20      2   \n",
       "3             0  64900000.0       159.0           2015-07-24      3   \n",
       "4             2  10000000.0       100.0           2018-06-19      2   \n",
       "\n",
       "   ceiling_height  floors_total  living_area  floor is_apartment  ...  \\\n",
       "0            2.70          16.0    51.000000      8          NaN  ...   \n",
       "1            2.65          11.0    18.600000      1          NaN  ...   \n",
       "2            2.65           5.0    34.300000      4          NaN  ...   \n",
       "3            2.65          14.0    91.211805      9          NaN  ...   \n",
       "4            3.03          14.0    32.000000     13          NaN  ...   \n",
       "\n",
       "   ponds_around3000  ponds_nearest  days_exposition  short_locality_name  \\\n",
       "0               2.0          755.0              NaN      Санкт-Петербург   \n",
       "1               0.0            NaN             81.0               Шушары   \n",
       "2               2.0          574.0            558.0      Санкт-Петербург   \n",
       "3               3.0          234.0            424.0      Санкт-Петербург   \n",
       "4               1.0           48.0            121.0      Санкт-Петербург   \n",
       "\n",
       "        price_1m  exposition_month_week_day  exposition_month  \\\n",
       "0  120370.370370                          3                 3   \n",
       "1   82920.792079                          1                12   \n",
       "2   92785.714286                          3                 8   \n",
       "3  408176.100629                          4                 7   \n",
       "4  100000.000000                          1                 6   \n",
       "\n",
       "   exposition_year  floor_type  cityCenters_nearest_km  \n",
       "0             2019       other                  16.028  \n",
       "1             2018       first                  18.603  \n",
       "2             2015       other                  13.933  \n",
       "3             2015       other                   6.800  \n",
       "4             2018       other                   8.098  \n",
       "\n",
       "[5 rows x 29 columns]"
      ]
     },
     "execution_count": 25,
     "metadata": {},
     "output_type": "execute_result"
    }
   ],
   "source": [
    "df_good['price_1m']=df_good['last_price']/df_good['total_area']\n",
    "df_good['first_day_exposition']=pd.to_datetime(df_good['first_day_exposition'],format='%Y-%m-%dT%H:%M:%S') #Меняем тип данных на дату\n",
    "df_good['exposition_month_week_day'] = df_good['first_day_exposition'].dt.day_of_week\n",
    "df_good['exposition_month'] = df_good['first_day_exposition'].dt.month\n",
    "df_good['exposition_year'] = df_good['first_day_exposition'].dt.year\n",
    "def last_floor(row):\n",
    "    if row['floor'] == row['floors_total']: return('last')\n",
    "    elif row['floor'] == 1: return('first')\n",
    "    else: return ('other')\n",
    "df_good['floor_type'] = df_good.apply(last_floor, axis=1)\n",
    "df_good['cityCenters_nearest_km'] = df_good['cityCenters_nearest']/1000\n",
    "df_good.head(5)"
   ]
  },
  {
   "cell_type": "markdown",
   "metadata": {},
   "source": [
    "<div class=\"alert alert-danger\">\n",
    "<font size=\"4\"><b>❌ Комментарий ревьюера</b></font>\n",
    "    <br /> \n",
    "    <font size=\"3\", color = \"black\">\n",
    "<br />Стоит поработать над алгоритмом функции, в результате у нас появилось  несколько записей, когда первые этажи попали в категорию последних"
   ]
  },
  {
   "cell_type": "markdown",
   "metadata": {},
   "source": [
    "<div class=\"alert alert-danger\">\n",
    "<font size=\"4\"><b>❌ Комментарий ревьюера</b></font>\n",
    "    <br /> \n",
    "    <font size=\"3\", color = \"black\">\n",
    "<br />стоит выполнить пункт проекта\n",
    "        \n",
    "•\tрасстояние до центра города в километрах (переведите из м в км и __округлите до целых значений__).\n",
    "      "
   ]
  },
  {
   "cell_type": "markdown",
   "metadata": {},
   "source": [
    "Построим гистограммы параметров"
   ]
  },
  {
   "cell_type": "code",
   "execution_count": 26,
   "metadata": {
    "scrolled": false
   },
   "outputs": [
    {
     "data": {
      "image/png": "[encoded data removed]",
      "text/plain": [
       "<Figure size 288x288 with 1 Axes>"
      ]
     },
     "metadata": {
      "needs_background": "light"
     },
     "output_type": "display_data"
    },
    {
     "data": {
      "image/png": "[encoded data removed]",
      "text/plain": [
       "<Figure size 288x288 with 1 Axes>"
      ]
     },
     "metadata": {
      "needs_background": "light"
     },
     "output_type": "display_data"
    },
    {
     "data": {
      "image/png": "[encoded data removed]",
      "text/plain": [
       "<Figure size 288x288 with 1 Axes>"
      ]
     },
     "metadata": {
      "needs_background": "light"
     },
     "output_type": "display_data"
    },
    {
     "data": {
      "image/png": "[encoded data removed]",
      "text/plain": [
       "<Figure size 288x288 with 1 Axes>"
      ]
     },
     "metadata": {
      "needs_background": "light"
     },
     "output_type": "display_data"
    },
    {
     "data": {
      "image/png": "[encoded data removed]",
      "text/plain": [
       "<Figure size 288x288 with 1 Axes>"
      ]
     },
     "metadata": {
      "needs_background": "light"
     },
     "output_type": "display_data"
    },
    {
     "data": {
      "image/png": "[encoded data removed]",
      "text/plain": [
       "<Figure size 288x288 with 1 Axes>"
      ]
     },
     "metadata": {
      "needs_background": "light"
     },
     "output_type": "display_data"
    },
    {
     "data": {
      "image/png": "[encoded data removed]",
      "text/plain": [
       "<Figure size 288x288 with 1 Axes>"
      ]
     },
     "metadata": {
      "needs_background": "light"
     },
     "output_type": "display_data"
    },
    {
     "data": {
      "image/png": "[encoded data removed]",
      "text/plain": [
       "<Figure size 288x288 with 1 Axes>"
      ]
     },
     "metadata": {
      "needs_background": "light"
     },
     "output_type": "display_data"
    },
    {
     "data": {
      "image/png": "[encoded data removed]",
      "text/plain": [
       "<Figure size 288x288 with 1 Axes>"
      ]
     },
     "metadata": {
      "needs_background": "light"
     },
     "output_type": "display_data"
    },
    {
     "data": {
      "image/png": "[encoded data removed]",
      "text/plain": [
       "<Figure size 288x288 with 1 Axes>"
      ]
     },
     "metadata": {
      "needs_background": "light"
     },
     "output_type": "display_data"
    },
    {
     "data": {
      "image/png": "[encoded data removed]",
      "text/plain": [
       "<Figure size 288x288 with 1 Axes>"
      ]
     },
     "metadata": {
      "needs_background": "light"
     },
     "output_type": "display_data"
    },
    {
     "data": {
      "image/png": "[encoded data removed]",
      "text/plain": [
       "<Figure size 288x288 with 1 Axes>"
      ]
     },
     "metadata": {
      "needs_background": "light"
     },
     "output_type": "display_data"
    },
    {
     "data": {
      "image/png": "[encoded data removed]",
      "text/plain": [
       "<Figure size 288x288 with 1 Axes>"
      ]
     },
     "metadata": {
      "needs_background": "light"
     },
     "output_type": "display_data"
    }
   ],
   "source": [
    "params = [\n",
    "    'total_area',\n",
    "    'living_area',\n",
    "    'kitchen_area',\n",
    "    'last_price', \n",
    "    'rooms',\n",
    "    'ceiling_height',\n",
    "    'floor',\n",
    "    'floor_type',\n",
    "    'floors_total',\n",
    "    'cityCenters_nearest',\n",
    "    'airports_nearest',\n",
    "    'parks_nearest',\n",
    "    'exposition_month_week_day'\n",
    "    ]\n",
    "for par in params:\n",
    "    df_good[par].hist(bins = 30,figsize=(4,4))\n",
    "    plt.title(par)\n",
    "    plt.show()"
   ]
  },
  {
   "cell_type": "markdown",
   "metadata": {},
   "source": [
    "Итого оставим в датасете: \n",
    "\n",
    "* Общая площадь От 25 до 200м\n",
    "* Жилая площадь От 2 до 150м\n",
    "* Цена менее 40 млн\n",
    "* Комнат от 1 до 6\n",
    "* Площадь кухни < 35 м\n",
    "* Потолки от 1.5 до 5 м"
   ]
  },
  {
   "cell_type": "markdown",
   "metadata": {},
   "source": [
    "<div class=\"alert alert-warning\", style=\"border:solid coral 3px; padding: 20px\">\n",
    "<font size=\"4\", color = \"DimGrey\"><b>⚠️ Комментарий ревьюера</b></font>\n",
    "    <br /> \n",
    "    <font size=\"3\", color = \"black\">\n",
    "<br /> Хорошие графики, можно добавить кол-во корзин к параметрам гистограммы\n",
    "\n",
    "Подписи осей на графиках и название добавят ясности и читабельности.\n",
    "Это важные элементы любой визуализации. Как добавить подписи и названия, смотри [здесь](https://pyprog.pro/mpl/mpl_axis_signatures.html) и [там](https://pyprog.pro/mpl/mpl_title.html), и\n",
    "        \n",
    "[тут](https://proproprogs.ru/modules/matplotlib-razmeshchaem-standartnye-tekstovye-elementy-na-grafike?ysclid=l6agtioc6f299002507)"
   ]
  },
  {
   "cell_type": "markdown",
   "metadata": {},
   "source": [
    "<div class=\"alert alert-danger\">\n",
    "<font size=\"4\"><b>❌ Комментарий ревьюера</b></font>\n",
    "    <br /> \n",
    "    <font size=\"3\", color = \"black\">\n",
    "<br />          \n",
    "Осталось добавить одну гистограмму\n",
    "        \n",
    "Шаг 4. Проведите исследовательский анализ данных:\n",
    "1.\tИзучите следующие параметры объектов:\n",
    "    +\tобщая площадь;\n",
    "    +\tжилая площадь;\n",
    "    +\tплощадь кухни;\n",
    "    +\tцена объекта;\n",
    "    +\tколичество комнат;\n",
    "    +\tвысота потолков;\n",
    "    +\tэтаж квартиры;\n",
    "    +\tтип этажа квартиры («первый», «последний», «другой»);\n",
    "    +\tобщее количество этажей в доме;\n",
    "    +\tрасстояние до центра города в метрах;\n",
    "    +\tрасстояние до ближайшего аэропорта;\n",
    "    +\tрасстояние до ближайшего парка;\n",
    "    +\tдень и месяц публикации объявления.\n",
    "\n",
    "\n",
    "__Постройте отдельные гистограммы для каждого из этих параметров.__ Опишите все ваши наблюдения по параметрам в ячейке с типом markdown.        "
   ]
  },
  {
   "cell_type": "code",
   "execution_count": 27,
   "metadata": {},
   "outputs": [
    {
     "name": "stdout",
     "output_type": "stream",
     "text": [
      "Текущий размер датасета: 23565\n"
     ]
    }
   ],
   "source": [
    "print ('Текущий размер датасета:', len(df_good))"
   ]
  },
  {
   "cell_type": "code",
   "execution_count": 28,
   "metadata": {},
   "outputs": [
    {
     "name": "stdout",
     "output_type": "stream",
     "text": [
      "Размер датасета после фильтрации: 20810\n"
     ]
    }
   ],
   "source": [
    "\n",
    "df_good = df_good[(\n",
    "    (df_good['total_area']>=25)&\n",
    "    (df_good['total_area']<200)&\n",
    "    (df_good['living_area']<150)&\n",
    "    (df_good['last_price']<=40000000)&\n",
    "    (df_good['rooms']>0)&\n",
    "    (df_good['rooms']<=6)&\n",
    "    (df_good['kitchen_area']<35)&\n",
    "    (df_good['ceiling_height']>=1.5)&\n",
    "    (df_good['ceiling_height']<5))]\n",
    "\n",
    "print('Размер датасета после фильтрации:', len(df_good))"
   ]
  },
  {
   "cell_type": "markdown",
   "metadata": {},
   "source": [
    "<div class=\"alert alert-danger\">\n",
    "<font size=\"4\"><b>❌ Комментарий ревьюера</b></font>\n",
    "    <br /> \n",
    "    <font size=\"3\", color = \"black\">\n",
    "<br />\n",
    "\n",
    "            df_good = df_good[(\n",
    "                (df_good['total_area']>=25)&\n",
    "                (df_good['total_area']<200)&\n",
    "                (df_good['living_area']<150)&\n",
    "                (df_good['last_price']<=40000000)&\n",
    "                (df_good['rooms']>0)&\n",
    "                (df_good['rooms']<=6)&\n",
    "                (df_good['kitchen_area']<35)&\n",
    "                (df_good['ceiling_height']>=1.5)&\n",
    "                (df_good['ceiling_height']<5))]\n",
    "                                                                             \n",
    "Так мы познакомились с особенностью фильтрации в библиотеке пандас, все NaN убегают вместе со значениями, которые не подходят под нашу фильтрацию, поэтому процент потери записей огромен\n",
    "        \n",
    "Было больше 23-х тысяч записей, осталось 20810\n",
    "        \n",
    "стоит настроить условия фильтрации, чтобы не потерять записи с пропусками\n",
    "        \n",
    "<b>алгоритм фильтрации столбца с пропусками: задаем основное условие фильтрации, + прибавляем условие не трогать записи с пропусками</b>\n",
    "        \n",
    "стоит обратить внимание на весь код фильтрации, т.к. в нескольких колонках встречаются пропуски"
   ]
  },
  {
   "cell_type": "code",
   "execution_count": 29,
   "metadata": {
    "scrolled": false
   },
   "outputs": [
    {
     "data": {
      "text/html": [
       "<style type=\"text/css\">\n",
       "</style>\n",
       "<table id=\"T_372f4\">\n",
       "  <thead>\n",
       "    <tr>\n",
       "      <th class=\"blank level0\" >&nbsp;</th>\n",
       "      <th id=\"T_372f4_level0_col0\" class=\"col_heading level0 col0\" >rooms</th>\n",
       "      <th id=\"T_372f4_level0_col1\" class=\"col_heading level0 col1\" >total_area</th>\n",
       "      <th id=\"T_372f4_level0_col2\" class=\"col_heading level0 col2\" >ceiling_height</th>\n",
       "      <th id=\"T_372f4_level0_col3\" class=\"col_heading level0 col3\" >days_exposition</th>\n",
       "      <th id=\"T_372f4_level0_col4\" class=\"col_heading level0 col4\" >last_price</th>\n",
       "      <th id=\"T_372f4_level0_col5\" class=\"col_heading level0 col5\" >living_area</th>\n",
       "      <th id=\"T_372f4_level0_col6\" class=\"col_heading level0 col6\" >kitchen_area</th>\n",
       "      <th id=\"T_372f4_level0_col7\" class=\"col_heading level0 col7\" >floor</th>\n",
       "      <th id=\"T_372f4_level0_col8\" class=\"col_heading level0 col8\" >floors_total</th>\n",
       "    </tr>\n",
       "  </thead>\n",
       "  <tbody>\n",
       "    <tr>\n",
       "      <th id=\"T_372f4_level0_row0\" class=\"row_heading level0 row0\" >count</th>\n",
       "      <td id=\"T_372f4_row0_col0\" class=\"data row0 col0\" >20,810.00</td>\n",
       "      <td id=\"T_372f4_row0_col1\" class=\"data row0 col1\" >20,810.00</td>\n",
       "      <td id=\"T_372f4_row0_col2\" class=\"data row0 col2\" >20,810.00</td>\n",
       "      <td id=\"T_372f4_row0_col3\" class=\"data row0 col3\" >17,973.00</td>\n",
       "      <td id=\"T_372f4_row0_col4\" class=\"data row0 col4\" >20,810.00</td>\n",
       "      <td id=\"T_372f4_row0_col5\" class=\"data row0 col5\" >20,810.00</td>\n",
       "      <td id=\"T_372f4_row0_col6\" class=\"data row0 col6\" >20,810.00</td>\n",
       "      <td id=\"T_372f4_row0_col7\" class=\"data row0 col7\" >20,810.00</td>\n",
       "      <td id=\"T_372f4_row0_col8\" class=\"data row0 col8\" >20,810.00</td>\n",
       "    </tr>\n",
       "    <tr>\n",
       "      <th id=\"T_372f4_level0_row1\" class=\"row_heading level0 row1\" >min</th>\n",
       "      <td id=\"T_372f4_row1_col0\" class=\"data row1 col0\" >1.00</td>\n",
       "      <td id=\"T_372f4_row1_col1\" class=\"data row1 col1\" >25.00</td>\n",
       "      <td id=\"T_372f4_row1_col2\" class=\"data row1 col2\" >1.75</td>\n",
       "      <td id=\"T_372f4_row1_col3\" class=\"data row1 col3\" >1.00</td>\n",
       "      <td id=\"T_372f4_row1_col4\" class=\"data row1 col4\" >430,000.00</td>\n",
       "      <td id=\"T_372f4_row1_col5\" class=\"data row1 col5\" >2.00</td>\n",
       "      <td id=\"T_372f4_row1_col6\" class=\"data row1 col6\" >1.30</td>\n",
       "      <td id=\"T_372f4_row1_col7\" class=\"data row1 col7\" >1.00</td>\n",
       "      <td id=\"T_372f4_row1_col8\" class=\"data row1 col8\" >1.00</td>\n",
       "    </tr>\n",
       "    <tr>\n",
       "      <th id=\"T_372f4_level0_row2\" class=\"row_heading level0 row2\" >max</th>\n",
       "      <td id=\"T_372f4_row2_col0\" class=\"data row2 col0\" >6.00</td>\n",
       "      <td id=\"T_372f4_row2_col1\" class=\"data row2 col1\" >198.90</td>\n",
       "      <td id=\"T_372f4_row2_col2\" class=\"data row2 col2\" >4.80</td>\n",
       "      <td id=\"T_372f4_row2_col3\" class=\"data row2 col3\" >1,580.00</td>\n",
       "      <td id=\"T_372f4_row2_col4\" class=\"data row2 col4\" >40,000,000.00</td>\n",
       "      <td id=\"T_372f4_row2_col5\" class=\"data row2 col5\" >147.20</td>\n",
       "      <td id=\"T_372f4_row2_col6\" class=\"data row2 col6\" >34.80</td>\n",
       "      <td id=\"T_372f4_row2_col7\" class=\"data row2 col7\" >33.00</td>\n",
       "      <td id=\"T_372f4_row2_col8\" class=\"data row2 col8\" >60.00</td>\n",
       "    </tr>\n",
       "  </tbody>\n",
       "</table>\n"
      ],
      "text/plain": [
       "<pandas.io.formats.style.Styler at 0x7febc5dc8be0>"
      ]
     },
     "execution_count": 29,
     "metadata": {},
     "output_type": "execute_result"
    }
   ],
   "source": [
    "# check\n",
    "\n",
    "# Показатели о кол-ве объявлений в датасете, минимальных и максимальных значениях \n",
    "# в выбранных параметрах о продаже квартир\n",
    "\n",
    "\n",
    "(\n",
    "    df_good[['rooms', 'total_area', 'ceiling_height', 'days_exposition', 'last_price', 'living_area',  'kitchen_area',\n",
    "          'floor', 'floors_total']]\n",
    "    .apply (['count', 'min', 'max'])   \n",
    "    .style.format(\"{:,.2f}\")\n",
    ")"
   ]
  },
  {
   "cell_type": "markdown",
   "metadata": {},
   "source": [
    "<div class=\"alert alert-danger\">\n",
    "<font size=\"4\"><b>❌ Комментарий ревьюера</b></font>\n",
    "    <br /> \n",
    "    <font size=\"3\", color = \"black\">\n",
    "<br />Блок фильтрации стоит перенести в п.2.4, сначала чистим, затем исследуем выборку\n",
    "        \n",
    "остались аномалии и редкости в колонках: \n",
    "        \n",
    "        'ceiling_height', 'days_exposition', 'living_area',  'kitchen_area', 'floors_total'\n",
    "        \n",
    "стоит учесть наличие пропусков при фильтрации данных"
   ]
  },
  {
   "cell_type": "markdown",
   "metadata": {},
   "source": [
    "## Выводы по итогам предобработки данных\n",
    "* Изначально в датасете было 23699 строк\n",
    "* После фильтрации осталось 20810 (удалены аномальновысокие значения и неполные данные по ключевым полям)\n",
    "* Около 5000 строк не заполнены сразу по нескольким столбцам. Было установлено, что это одни и те же объекты. В основном расположенные в небольших городах, селах.\n",
    "\n",
    "### Датасет готов к анализу"
   ]
  },
  {
   "cell_type": "markdown",
   "metadata": {},
   "source": [
    "### Проведите исследовательский анализ данных"
   ]
  },
  {
   "cell_type": "code",
   "execution_count": 30,
   "metadata": {},
   "outputs": [
    {
     "name": "stdout",
     "output_type": "stream",
     "text": [
      "interval columns not set, guessing: ['total_area', 'living_area', 'kitchen_area', 'last_price', 'rooms', 'ceiling_height', 'floor', 'floors_total', 'cityCenters_nearest', 'airports_nearest', 'parks_nearest', 'exposition_month_week_day']\n"
     ]
    },
    {
     "data": {
      "text/html": [
       "<div>\n",
       "<style scoped>\n",
       "    .dataframe tbody tr th:only-of-type {\n",
       "        vertical-align: middle;\n",
       "    }\n",
       "\n",
       "    .dataframe tbody tr th {\n",
       "        vertical-align: top;\n",
       "    }\n",
       "\n",
       "    .dataframe thead th {\n",
       "        text-align: right;\n",
       "    }\n",
       "</style>\n",
       "<table border=\"1\" class=\"dataframe\">\n",
       "  <thead>\n",
       "    <tr style=\"text-align: right;\">\n",
       "      <th></th>\n",
       "      <th>last_price</th>\n",
       "      <th>cor</th>\n",
       "    </tr>\n",
       "  </thead>\n",
       "  <tbody>\n",
       "    <tr>\n",
       "      <th>last_price</th>\n",
       "      <td>1.000000</td>\n",
       "      <td>1.000000</td>\n",
       "    </tr>\n",
       "    <tr>\n",
       "      <th>total_area</th>\n",
       "      <td>0.764275</td>\n",
       "      <td>0.764855</td>\n",
       "    </tr>\n",
       "    <tr>\n",
       "      <th>living_area</th>\n",
       "      <td>0.693031</td>\n",
       "      <td>0.664018</td>\n",
       "    </tr>\n",
       "    <tr>\n",
       "      <th>kitchen_area</th>\n",
       "      <td>0.565146</td>\n",
       "      <td>0.560845</td>\n",
       "    </tr>\n",
       "    <tr>\n",
       "      <th>cityCenters_nearest</th>\n",
       "      <td>0.467734</td>\n",
       "      <td>-0.342394</td>\n",
       "    </tr>\n",
       "    <tr>\n",
       "      <th>rooms</th>\n",
       "      <td>0.455735</td>\n",
       "      <td>0.476763</td>\n",
       "    </tr>\n",
       "    <tr>\n",
       "      <th>ceiling_height</th>\n",
       "      <td>0.446795</td>\n",
       "      <td>0.413277</td>\n",
       "    </tr>\n",
       "    <tr>\n",
       "      <th>airports_nearest</th>\n",
       "      <td>0.223838</td>\n",
       "      <td>-0.038652</td>\n",
       "    </tr>\n",
       "    <tr>\n",
       "      <th>floors_total</th>\n",
       "      <td>0.185957</td>\n",
       "      <td>0.091708</td>\n",
       "    </tr>\n",
       "    <tr>\n",
       "      <th>floor_type</th>\n",
       "      <td>0.171457</td>\n",
       "      <td>NaN</td>\n",
       "    </tr>\n",
       "    <tr>\n",
       "      <th>floor</th>\n",
       "      <td>0.143674</td>\n",
       "      <td>0.087746</td>\n",
       "    </tr>\n",
       "    <tr>\n",
       "      <th>parks_nearest</th>\n",
       "      <td>0.094027</td>\n",
       "      <td>0.028085</td>\n",
       "    </tr>\n",
       "    <tr>\n",
       "      <th>exposition_month_week_day</th>\n",
       "      <td>0.027578</td>\n",
       "      <td>-0.014510</td>\n",
       "    </tr>\n",
       "  </tbody>\n",
       "</table>\n",
       "</div>"
      ],
      "text/plain": [
       "                           last_price       cor\n",
       "last_price                   1.000000  1.000000\n",
       "total_area                   0.764275  0.764855\n",
       "living_area                  0.693031  0.664018\n",
       "kitchen_area                 0.565146  0.560845\n",
       "cityCenters_nearest          0.467734 -0.342394\n",
       "rooms                        0.455735  0.476763\n",
       "ceiling_height               0.446795  0.413277\n",
       "airports_nearest             0.223838 -0.038652\n",
       "floors_total                 0.185957  0.091708\n",
       "floor_type                   0.171457       NaN\n",
       "floor                        0.143674  0.087746\n",
       "parks_nearest                0.094027  0.028085\n",
       "exposition_month_week_day    0.027578 -0.014510"
      ]
     },
     "execution_count": 30,
     "metadata": {},
     "output_type": "execute_result"
    }
   ],
   "source": [
    "# Посчитаем коэффициенты корреляции\n",
    "phik_overview = df_good[params].phik_matrix()\n",
    "cor = pd.DataFrame(df_good[params].corr())\n",
    "phik_overview['cor'] = cor['last_price']\n",
    "phik_overview.loc[:,['last_price','cor']].sort_values('last_price',ascending = False)"
   ]
  },
  {
   "cell_type": "markdown",
   "metadata": {},
   "source": [
    "* Самая высокая связь стоимости с площадью жилой, общей и кухни\n",
    "* Количество комнат также оказывает сильное влияние\n",
    "* Далее размер кухни\n",
    "* Коэффициенты по остальным параметрам низки, но мы посмотрим детальнее\n",
    "\n",
    "Проверим связи более детально:"
   ]
  },
  {
   "cell_type": "markdown",
   "metadata": {},
   "source": [
    "<div class=\"alert alert-warning\", style=\"border:solid coral 3px; padding: 20px\">\n",
    "<font size=\"4\", color = \"DimGrey\"><b>⚠️ Комментарий ревьюера</b></font>\n",
    "    <br /> \n",
    "    <font size=\"3\", color = \"black\">\n",
    "<br />Коэффициент корреляции рассчитывается для всех зависимостей из задания, исключая параметры - день недели и месяц — это не эффективно, т.к. это нелинейные параметры\n",
    "        \n",
    "чтобы они стали линейными, январь месяц 2015 года должен стать третьим и т.д., т.е. мы должны сделать перекодировку ..."
   ]
  },
  {
   "cell_type": "code",
   "execution_count": 31,
   "metadata": {},
   "outputs": [
    {
     "data": {
      "image/png": "[encoded data removed]",
      "text/plain": [
       "<Figure size 360x360 with 16 Axes>"
      ]
     },
     "metadata": {
      "needs_background": "light"
     },
     "output_type": "display_data"
    }
   ],
   "source": [
    "pd.plotting.scatter_matrix(df_good[['last_price','living_area','total_area','kitchen_area']], figsize=(5, 5)) #параметры площади скорее всего будут коррелировать между собой, поэтому сразу оценим их влияния на стоимость\n",
    "plt.show()"
   ]
  },
  {
   "cell_type": "markdown",
   "metadata": {},
   "source": [
    "* Ранее мы уже видели, что жилая площадь и общая почти полностью коррелируют между собой\n",
    "* А вот кухня значительно слабее связана с другими метриками, поэтому ее рассмотрим отдельно\n",
    "\n",
    "Посмотрим детальнее влияние площади и жил площади на стоимость\n",
    "Сделаем сегментацию и построим гистограмму"
   ]
  },
  {
   "cell_type": "markdown",
   "metadata": {},
   "source": [
    "<div class=\"alert alert-danger\">\n",
    "<font size=\"4\"><b>❌ Комментарий ревьюера</b></font>\n",
    "    <br /> \n",
    "    <font size=\"3\", color = \"black\">\n",
    "<br />  Стоит добавить для первых трех параметров отдельно три графика    \n",
    "        \n",
    "            Шаг 4. Проведите исследовательский анализ данных:\n",
    "\n",
    "            3.\tКакие факторы больше всего влияют на общую (полную) стоимость объекта?\n",
    "                Изучите, зависит ли цена от:\n",
    "                +\tобщей площади;\n",
    "                +\tжилой площади;\n",
    "                +\tплощади кухни;\n",
    "                +\tколичества комнат;\n",
    "                +\tэтажа, на котором расположена квартира (первый, последний, другой);\n",
    "                +\tдаты размещения (день недели, месяц, год).\n",
    "\n",
    "            Постройте графики, которые покажут зависимость цены от указанных выше параметров. Для подготовки данных перед визуализацией вы можете использовать сводные таблицы.\n",
    "\n",
    "        \n",
    "        \n",
    "Советы по графикам:\n",
    "        \n",
    "+ зависимость параметров (от площади, удалённости от центра) оптимальнее рассматривать на точечных графиках (тип scatter),\n",
    "+ динамику на линейных (это про сравнение цен за год, месяц, день недели), — стоит сгруппировать значения и рассчитать среднее или медианное значение \n",
    "+ сравнение цен на барах (для сравнение средней стоимости квартиры по трем категориям), — стоит сгруппировать значения и рассчитать среднее или медианное значение"
   ]
  },
  {
   "cell_type": "markdown",
   "metadata": {},
   "source": [
    "<div style=\"border:solid steelblue 3px; padding: 20px\">\n",
    "<font size=\"4\">🍕<b> Комментарий ревьюера</b></font>\n",
    "<br /> \n",
    "<font size=\"3\", color = \"black\">\n",
    "<br />  Можно попробовать настроить вид точечных графиков      \n",
    "    \n",
    "[5.2. Scatter - график разброса (точки)](https://pyprog.pro/mpl/mpl_scatter.html?ysclid=l65k3vmmqd649359421)\n",
    "    \n",
    "Примеры расчета коэф. корреляции и не только\n",
    "        \n",
    "[Исследуем отношение между переменными](https://dfedorov.spb.ru/pandas/downey/%D0%98%D1%81%D1%81%D0%BB%D0%B5%D0%B4%D1%83%D0%B5%D0%BC%20%D0%BE%D1%82%D0%BD%D0%BE%D1%88%D0%B5%D0%BD%D0%B8%D0%B5%20%D0%BC%D0%B5%D0%B6%D0%B4%D1%83%20%D0%BF%D0%B5%D1%80%D0%B5%D0%BC%D0%B5%D0%BD%D0%BD%D1%8B%D0%BC%D0%B8.html?ysclid=l9ev0utyg728177057)"
   ]
  },
  {
   "cell_type": "code",
   "execution_count": 32,
   "metadata": {},
   "outputs": [
    {
     "data": {
      "image/png": "[encoded data removed]",
      "text/plain": [
       "<Figure size 432x288 with 1 Axes>"
      ]
     },
     "metadata": {
      "needs_background": "light"
     },
     "output_type": "display_data"
    }
   ],
   "source": [
    "df_good['range_area']=pd.cut(df_good['total_area'], bins = 7, precision = 0)\n",
    "df_good.pivot_table(index = 'range_area', values= 'last_price', aggfunc='median').plot(kind = 'bar')\n",
    "plt.title('Зависимость цены от площади')\n",
    "plt.show()"
   ]
  },
  {
   "cell_type": "markdown",
   "metadata": {},
   "source": [
    "* До 210 кв. м цена растет почти линейно\n",
    "* Выше растет не так сильно"
   ]
  },
  {
   "cell_type": "code",
   "execution_count": 33,
   "metadata": {},
   "outputs": [
    {
     "data": {
      "image/png": "[encoded data removed]",
      "text/plain": [
       "<Figure size 432x288 with 1 Axes>"
      ]
     },
     "metadata": {
      "needs_background": "light"
     },
     "output_type": "display_data"
    }
   ],
   "source": [
    "df_good.groupby('floor_type')['last_price'].median().plot(kind = 'bar')\n",
    "plt.title('Зависимость цены от типа этажа')\n",
    "plt.show()"
   ]
  },
  {
   "cell_type": "markdown",
   "metadata": {},
   "source": [
    "* Первый этаж значительно дешевле двух остальных\n",
    "* Последний стоит дешевле, чем не последний и не первый"
   ]
  },
  {
   "cell_type": "code",
   "execution_count": 34,
   "metadata": {},
   "outputs": [
    {
     "data": {
      "image/png": "[encoded data removed]",
      "text/plain": [
       "<Figure size 432x288 with 1 Axes>"
      ]
     },
     "metadata": {
      "needs_background": "light"
     },
     "output_type": "display_data"
    }
   ],
   "source": [
    "df_good.groupby('rooms')['last_price'].median().plot(kind = 'bar')\n",
    "plt.title('Зависимость цены от количества комнат')\n",
    "plt.show()"
   ]
  },
  {
   "cell_type": "markdown",
   "metadata": {},
   "source": [
    "* График напоминает мультипликативный тренд, каждая последующая комната существенно увеличивает стоимость.\n",
    "* Разница между 1 и 2 комнатной квартирой незначительна"
   ]
  },
  {
   "cell_type": "markdown",
   "metadata": {},
   "source": [
    "Сделаем интервалы для кухни"
   ]
  },
  {
   "cell_type": "code",
   "execution_count": 35,
   "metadata": {},
   "outputs": [
    {
     "data": {
      "image/png": "[encoded data removed]",
      "text/plain": [
       "<Figure size 432x288 with 1 Axes>"
      ]
     },
     "metadata": {
      "needs_background": "light"
     },
     "output_type": "display_data"
    }
   ],
   "source": [
    "def kitchen(x):\n",
    "    if 0 < x <= 5: return ('1. До 5 м')\n",
    "    elif 5 < x <= 10: return ('2. 5-10 м')\n",
    "    elif 10 < x <= 15: return ('3. 10-15 м')    \n",
    "    elif 15 < x <= 20: return ('4. 15-20 м')\n",
    "    else: return ('5. >20 м')\n",
    "df_good['kitchen_group']=df_good['kitchen_area'].apply(kitchen)\n",
    "df_good.groupby('kitchen_group')['last_price'].median().plot(kind = 'bar')\n",
    "plt.title('Зависимость цены от размера кухни')\n",
    "plt.show()"
   ]
  },
  {
   "cell_type": "markdown",
   "metadata": {},
   "source": [
    "* Аналогичная ситуация как и с комнатами.\n",
    "* Квартиру с кухней до 5 метров можно купить дешевле "
   ]
  },
  {
   "cell_type": "code",
   "execution_count": 36,
   "metadata": {},
   "outputs": [
    {
     "data": {
      "image/png": "[encoded data removed]",
      "text/plain": [
       "<Figure size 432x288 with 1 Axes>"
      ]
     },
     "metadata": {
      "needs_background": "light"
     },
     "output_type": "display_data"
    }
   ],
   "source": [
    "df_good.groupby('exposition_month_week_day')['last_price'].median().plot(kind = 'bar')\n",
    "plt.title('Зависимость цены от дня недели')\n",
    "plt.show()"
   ]
  },
  {
   "cell_type": "markdown",
   "metadata": {},
   "source": [
    "Существенной зависимости стоимости квартиры от дня недели не выявлено"
   ]
  },
  {
   "cell_type": "code",
   "execution_count": 37,
   "metadata": {},
   "outputs": [
    {
     "data": {
      "image/png": "[encoded data removed]",
      "text/plain": [
       "<Figure size 432x288 with 1 Axes>"
      ]
     },
     "metadata": {
      "needs_background": "light"
     },
     "output_type": "display_data"
    }
   ],
   "source": [
    "df_good.groupby('exposition_month_week_day')['days_exposition'].median().plot(kind = 'bar')\n",
    "plt.title('Зависимость срока продажи от дня недели')\n",
    "plt.show()"
   ]
  },
  {
   "cell_type": "markdown",
   "metadata": {},
   "source": [
    "А вот на срок продажи день недели влияент.\n",
    "Квартиры, которые выставляют в понедельник продаются на 10 дней дольше."
   ]
  },
  {
   "cell_type": "code",
   "execution_count": 38,
   "metadata": {},
   "outputs": [
    {
     "data": {
      "image/png": "[encoded data removed]",
      "text/plain": [
       "<Figure size 432x288 with 1 Axes>"
      ]
     },
     "metadata": {
      "needs_background": "light"
     },
     "output_type": "display_data"
    }
   ],
   "source": [
    "df_good.groupby('exposition_month')['last_price'].median().plot(kind = 'bar')\n",
    "plt.title('Зависимость цены от месяца публикации')\n",
    "plt.show()"
   ]
  },
  {
   "cell_type": "markdown",
   "metadata": {},
   "source": [
    "Существенных отличий не выявлено"
   ]
  },
  {
   "cell_type": "code",
   "execution_count": 39,
   "metadata": {},
   "outputs": [
    {
     "data": {
      "image/png": "[encoded data removed]",
      "text/plain": [
       "<Figure size 432x288 with 1 Axes>"
      ]
     },
     "metadata": {
      "needs_background": "light"
     },
     "output_type": "display_data"
    }
   ],
   "source": [
    "df_good.groupby('exposition_month')['last_price'].count().plot(kind = 'bar')\n",
    "plt.title('Зависимость количества объявлений от месяца публикации')\n",
    "plt.show()"
   ]
  },
  {
   "cell_type": "markdown",
   "metadata": {},
   "source": [
    "В вот здесь явно видно, что основное количество объявлений публикуется с февраля по апрель и в ноябре.\n",
    "Меньше всего - в мае."
   ]
  },
  {
   "cell_type": "code",
   "execution_count": 40,
   "metadata": {},
   "outputs": [
    {
     "data": {
      "image/png": "[encoded data removed]",
      "text/plain": [
       "<Figure size 432x288 with 1 Axes>"
      ]
     },
     "metadata": {
      "needs_background": "light"
     },
     "output_type": "display_data"
    }
   ],
   "source": [
    "df_good.groupby('exposition_year')['last_price'].median().plot(kind = 'bar')\n",
    "plt.title('Зависимость цены от месяца публикации')\n",
    "plt.show()"
   ]
  },
  {
   "cell_type": "markdown",
   "metadata": {},
   "source": [
    "* Дороже всего квартиры продавались в 2014 году\n",
    "* В период 2016 есть небольшой рост, но больше похоже на стогнацию"
   ]
  },
  {
   "cell_type": "markdown",
   "metadata": {},
   "source": [
    "<div class=\"alert alert-warning\", style=\"border:solid coral 3px; padding: 20px\">\n",
    "<font size=\"4\", color = \"DimGrey\"><b>⚠️ Комментарий ревьюера</b></font>\n",
    "    <br /> \n",
    "    <font size=\"3\", color = \"black\">\n",
    "<br />\n",
    "        \n",
    "Не стоит ориентироваться на 2014 год, __т.к. кол-во объявлений было небольшим,__ а стоимость объявлений высокой, может быть это были маркетинговые объявления в начале работы сервиса или сам рынок только формировался ...\n",
    "        \n",
    "Можно посмотреть на изменение по годам средней площади продаваемых квартир и кол-ва объявлений "
   ]
  },
  {
   "cell_type": "code",
   "execution_count": 41,
   "metadata": {},
   "outputs": [
    {
     "data": {
      "image/png": "[encoded data removed]",
      "text/plain": [
       "<Figure size 432x288 with 1 Axes>"
      ]
     },
     "metadata": {
      "needs_background": "light"
     },
     "output_type": "display_data"
    }
   ],
   "source": [
    "sns.scatterplot(x = df_good['airports_nearest'], y= df_good['last_price'])\n",
    "plt.title('Зависимость цены от расстояния до аэропорта')\n",
    "plt.show()"
   ]
  },
  {
   "cell_type": "markdown",
   "metadata": {},
   "source": [
    "Есть всплеск в стоимости в интервале от 20 до 30 км.\n",
    "Здесь расположена основная часть дорогого жилья."
   ]
  },
  {
   "cell_type": "code",
   "execution_count": 42,
   "metadata": {},
   "outputs": [
    {
     "name": "stdout",
     "output_type": "stream",
     "text": [
      "Основные данные по сроку продажи:\n",
      "count    17973.000000\n",
      "mean       183.455238\n",
      "std        220.119277\n",
      "min          1.000000\n",
      "25%         44.000000\n",
      "50%        100.000000\n",
      "75%        236.000000\n",
      "max       1580.000000\n",
      "Name: days_exposition, dtype: float64\n"
     ]
    },
    {
     "data": {
      "image/png": "[encoded data removed]",
      "text/plain": [
       "<Figure size 432x288 with 1 Axes>"
      ]
     },
     "metadata": {
      "needs_background": "light"
     },
     "output_type": "display_data"
    }
   ],
   "source": [
    "#Задание №1: посмотреть как быстро продавались квартиры\n",
    "print('Основные данные по сроку продажи:')\n",
    "print(df_good['days_exposition'].describe())\n",
    "df_good['days_exposition'].hist(bins = 50)\n",
    "plt.show()"
   ]
  },
  {
   "cell_type": "markdown",
   "metadata": {},
   "source": [
    "* 50% квартир продаются от 45 до 232 дней.\n",
    "* 75% квартир продаются менее, чем за 232 дня.\n",
    "* Чаще всего срок продажи квартир занимает 95 дней. Быстрыми можно считать продажи с меньшим сроком.\n",
    "* Будем считать, что квартиры, которые продаются больше года довольно редки и требуют внимания.\n"
   ]
  },
  {
   "cell_type": "markdown",
   "metadata": {},
   "source": [
    "<div class=\"alert alert-success\">\n",
    "<font size=\"4\", color= \"seagreen\"><b>✔️ Комментарий ревьюера</b></font>\n",
    "    <br /> \n",
    "    <font size=\"3\", color = \"black\">\n",
    "<br />\n",
    "\n",
    "Скорость продаж квартир рассчитана корректно, __можно посмотреть на изменение средней  скорости продаж по годам__"
   ]
  },
  {
   "cell_type": "markdown",
   "metadata": {},
   "source": [
    "<div class=\"alert alert-warning\", style=\"border:solid coral 3px; padding: 20px\">\n",
    "<font size=\"4\", color = \"DimGrey\"><b>⚠️Комментарий ревьюера</b></font>\n",
    "    <br /> \n",
    "    <font size=\"3\", color = \"black\">\n",
    "<br />         \n",
    "Не исследованы моды в 'days_exposition' и как они влияют на скорость продажи, подсказка на что смотреть\n",
    "        \n",
    "[Условия размещения объявлений](https://yandex.ru/support/realty/owner/home/add-ads-housing.html)"
   ]
  },
  {
   "cell_type": "markdown",
   "metadata": {},
   "source": [
    "<div class=\"alert alert-warning\", style=\"border:solid coral 3px; padding: 20px\">\n",
    "<font size=\"4\", color = \"DimGrey\"><b>⚠️Комментарий ревьюера</b></font>\n",
    "    <br /> \n",
    "    <font size=\"3\", color = \"black\">\n",
    "<br />   Стоит навести порядок с расположением разделов на проекте\n",
    "        \n",
    "Структура проекта важна и для исполнителя и для заказчика, так они смогут говорить на одном языке и понимать друг-друга"
   ]
  },
  {
   "cell_type": "code",
   "execution_count": 43,
   "metadata": {},
   "outputs": [
    {
     "data": {
      "text/html": [
       "<div>\n",
       "<style scoped>\n",
       "    .dataframe tbody tr th:only-of-type {\n",
       "        vertical-align: middle;\n",
       "    }\n",
       "\n",
       "    .dataframe tbody tr th {\n",
       "        vertical-align: top;\n",
       "    }\n",
       "\n",
       "    .dataframe thead th {\n",
       "        text-align: right;\n",
       "    }\n",
       "</style>\n",
       "<table border=\"1\" class=\"dataframe\">\n",
       "  <thead>\n",
       "    <tr style=\"text-align: right;\">\n",
       "      <th></th>\n",
       "      <th>count</th>\n",
       "      <th>mean</th>\n",
       "    </tr>\n",
       "    <tr>\n",
       "      <th>short_locality_name</th>\n",
       "      <th></th>\n",
       "      <th></th>\n",
       "    </tr>\n",
       "  </thead>\n",
       "  <tbody>\n",
       "    <tr>\n",
       "      <th>Санкт-Петербург</th>\n",
       "      <td>13827</td>\n",
       "      <td>110609.920998</td>\n",
       "    </tr>\n",
       "    <tr>\n",
       "      <th>Пушкин</th>\n",
       "      <td>327</td>\n",
       "      <td>102871.947919</td>\n",
       "    </tr>\n",
       "    <tr>\n",
       "      <th>Кудрово</th>\n",
       "      <td>383</td>\n",
       "      <td>95154.530818</td>\n",
       "    </tr>\n",
       "    <tr>\n",
       "      <th>Парголово</th>\n",
       "      <td>289</td>\n",
       "      <td>90691.342386</td>\n",
       "    </tr>\n",
       "    <tr>\n",
       "      <th>Мурино</th>\n",
       "      <td>475</td>\n",
       "      <td>85537.438968</td>\n",
       "    </tr>\n",
       "    <tr>\n",
       "      <th>Шушары</th>\n",
       "      <td>395</td>\n",
       "      <td>78497.964277</td>\n",
       "    </tr>\n",
       "    <tr>\n",
       "      <th>Колпино</th>\n",
       "      <td>321</td>\n",
       "      <td>75129.845412</td>\n",
       "    </tr>\n",
       "    <tr>\n",
       "      <th>Всеволожск</th>\n",
       "      <td>355</td>\n",
       "      <td>68965.364068</td>\n",
       "    </tr>\n",
       "    <tr>\n",
       "      <th>Гатчина</th>\n",
       "      <td>293</td>\n",
       "      <td>68619.971416</td>\n",
       "    </tr>\n",
       "    <tr>\n",
       "      <th>Выборг</th>\n",
       "      <td>200</td>\n",
       "      <td>58225.462310</td>\n",
       "    </tr>\n",
       "  </tbody>\n",
       "</table>\n",
       "</div>"
      ],
      "text/plain": [
       "                     count           mean\n",
       "short_locality_name                      \n",
       "Санкт-Петербург      13827  110609.920998\n",
       "Пушкин                 327  102871.947919\n",
       "Кудрово                383   95154.530818\n",
       "Парголово              289   90691.342386\n",
       "Мурино                 475   85537.438968\n",
       "Шушары                 395   78497.964277\n",
       "Колпино                321   75129.845412\n",
       "Всеволожск             355   68965.364068\n",
       "Гатчина                293   68619.971416\n",
       "Выборг                 200   58225.462310"
      ]
     },
     "execution_count": 43,
     "metadata": {},
     "output_type": "execute_result"
    }
   ],
   "source": [
    "#Задание №3 \"Посчитайте среднюю цену одного квадратного метра в 10 населённых пунктах с наибольшим числом объявлений. Выделите населённые пункты с самой высокой и низкой стоимостью квадратного метра. Эти данные можно найти по имени в столбце `locality_name`.\n",
    "top10 = df_good.groupby('short_locality_name')['price_1m'].agg(['count','mean']).sort_values('count',ascending=False).head(10)\n",
    "top10.sort_values('mean',ascending=False)"
   ]
  },
  {
   "cell_type": "markdown",
   "metadata": {},
   "source": [
    "* Больше всего квартир по самой высокой стоимости в СПб. Средняя стоимость 1 квадратного метра составляет 110,7 тыс рублей.\n",
    "* Самое доступное жилье в Выборге почти в 2 раза дешевле, чем в Санкт-Петербурге - 58.2 тыс рублей."
   ]
  },
  {
   "cell_type": "markdown",
   "metadata": {},
   "source": [
    "<div class=\"alert alert-success\">\n",
    "<font size=\"4\", color= \"seagreen\"><b>✔️ Комментарий ревьюера</b></font>\n",
    "    <br /> \n",
    "    <font size=\"3\", color = \"black\">\n",
    "<br />ТОП-10 рассчитан корректно"
   ]
  },
  {
   "cell_type": "markdown",
   "metadata": {},
   "source": [
    "<div class=\"alert alert-warning\", style=\"border:solid coral 3px; padding: 20px\">\n",
    "<font size=\"4\"><b>⚠️ Комментарий ревьюера</b></font>\n",
    "    <br /> \n",
    "    <font size=\"3\", color = \"black\">\n",
    "<br />\n",
    "Недостаточно найти числа, стоит их показать красиво, удобно и наглядно, чтобы одного взгляда хватило, где самые самые, а где подешевле 📊"
   ]
  },
  {
   "cell_type": "markdown",
   "metadata": {},
   "source": [
    "<div style=\"border:solid steelblue 3px; padding: 20px\">\n",
    "<font size=\"4\">🍕<b> Комментарий ревьюера</b></font>\n",
    "<br /> \n",
    "<font size=\"3\", color = \"black\">\n",
    "<br />         \n",
    "    \n",
    "[Постер поможет выбирать вид графиков](https://www.notion.so/6c5ae8ceb8b5411e907c93c9b5e6a44e)"
   ]
  },
  {
   "cell_type": "markdown",
   "metadata": {},
   "source": [
    "<div class=\"alert alert-warning\", style=\"border:solid coral 3px; padding: 20px\">\n",
    "<font size=\"4\", color = \"DimGrey\"><b>⚠️ Комментарий ревьюера</b></font>\n",
    "    <br /> \n",
    "    <font size=\"3\", color = \"black\">\n",
    "<br /> на проектах стоит снижать размерность выводимой информации, где не требуется максимальная точность, до одного или двух знаков после запятой\n",
    "\n",
    "        Всеволожск\t355\t68965.364068\n",
    "        Гатчина\t293\t68619.971416\n",
    "        Выборг\t200\t58225.462310"
   ]
  },
  {
   "cell_type": "code",
   "execution_count": 44,
   "metadata": {},
   "outputs": [
    {
     "data": {
      "image/png": "[encoded data removed]",
      "text/plain": [
       "<Figure size 432x288 with 1 Axes>"
      ]
     },
     "metadata": {
      "needs_background": "light"
     },
     "output_type": "display_data"
    }
   ],
   "source": [
    "# Задание №4 выполнено задание: \"Ранее вы посчитали расстояние до центра в километрах. Теперь выделите квартиры в Санкт-Петербурге с помощью столбца `locality_name` и вычислите среднюю цену каждого километра. Опишите, как стоимость объектов зависит от расстояния до центра города.\"\n",
    "df_good_spb = df_good.query('short_locality_name == \"Санкт-Петербург\"')\n",
    "df_good_spb['cost_1km_from_centre']=df_good_spb['last_price']/df_good_spb['cityCenters_nearest_km']\n",
    "df_good_spb['center_range_group']=pd.cut(df_good_spb['cityCenters_nearest_km'],bins = 10, precision = 0)\n",
    "df_good_spb.groupby('center_range_group')['cost_1km_from_centre'].median().dropna().plot(kind = 'bar', x='center_range_group',y='cost_1km_from_centre')\n",
    "plt.show()\n"
   ]
  },
  {
   "cell_type": "markdown",
   "metadata": {},
   "source": [
    "<div class=\"alert alert-warning\", style=\"border:solid coral 3px; padding: 20px\">\n",
    "<font size=\"4\"><b>⚠️ Комментарий ревьюера</b></font>\n",
    "    <br /> \n",
    "    <font size=\"3\", color = \"black\">\n",
    "<br />\n",
    "Для красоты («продаваемости») всего проекта не стоит выходить за видимую ширину тетради юпитер ноутбука, коллеги ценят удобство прочтения кода. Широкие строки кода рекомендуется — делить <a href=\"https://qastack.ru/programming/53162/how-can-i-do-a-line-break-line-continuation-in-python\">Перенос длинных строк кода</a>. \n",
    "    \n",
    "</div>"
   ]
  },
  {
   "cell_type": "markdown",
   "metadata": {},
   "source": [
    "* Самая высокая цена метра у квартир, которые находятся на расстоянии менее 3 километров к центру города и составляет 5.6 млн рублей за квадратный метр.\n",
    "* На расстоянии от 3 до 6 км стоимость падает более, чем в 2 раза и находится в районе "
   ]
  },
  {
   "cell_type": "markdown",
   "metadata": {},
   "source": [
    "<div class=\"alert alert-danger\">\n",
    "<font size=\"4\"><b>❌ Комментарий ревьюера</b></font>\n",
    "    <br /> \n",
    "    <font size=\"3\", color = \"black\">\n",
    "<br />можешь объяснить физический смысл показателя\n",
    "        \n",
    "        df_good_spb['cost_1km_from_centre']=df_good_spb['last_price']/df_good_spb['cityCenters_nearest_km']\n",
    "        \n",
    "        \n",
    "что это такое и что он отражает"
   ]
  },
  {
   "cell_type": "markdown",
   "metadata": {},
   "source": [
    "# Общие выводы:\n",
    "1. На стоимость квартиры больше всего влияют следующие параметры в порядке уменьшения веса:\n",
    "   1. Общая площадь\n",
    "   2. Жилая площадь (почти линейно коррелирует с общей площадью)\n",
    "   3. Площадь кухни\n",
    "   4. Расстояние до центра города\n",
    "   5. Количество комнат\n",
    "   6. Расстояние до аэропорта.\n",
    "\n",
    "2. Дополнительные параметры, влияющие на стоимость:\n",
    "   1. Первый и последний этажи стоят дешевле остальных\n",
    "   2. День недели публикации объявления не влияет на стоимость, но влияет на срок продажи\n",
    "   3. В 2014 году квартиры продовались дороже всего начиная с 2015 года цены существенно снизились \n",
    "\n",
    "Было установлено, что по небольшим городам данные не указаны. Детальная информация есть только по крупным городам.\n"
   ]
  },
  {
   "cell_type": "markdown",
   "metadata": {},
   "source": [
    "<div class=\"alert alert-success\">\n",
    "<font size=\"4\", color= \"seagreen\"><b>✔️ Комментарий ревьюера</b></font>\n",
    "    <br /> \n",
    "    <font size=\"3\", color = \"black\">\n",
    "<br /> Хороший вывод, есть сравнения показателей, инсайты, анализ рынка недвижимости, молодец\n",
    "        \n",
    "Можно добавить значения исследуемых параметров (средние или медианные)"
   ]
  },
  {
   "cell_type": "markdown",
   "metadata": {},
   "source": [
    "<div class=\"alert alert-success\">\n",
    "<font size=\"5\"><b>✔️ Комментарий ревьюера</b></font>\n",
    "    <br /> \n",
    "    <font size=\"3\", color = \"black\">\n",
    "<br />    \n",
    "Выполнил исследовательскую работу, молодец, показал хороший уровень навыков программирования\n",
    "        \n",
    "Критические ❌ комментарии\n",
    "\n",
    "+ настроить загрузку сетевой версии\n",
    "+ п.1.3 добавление гистограмм\n",
    "+ проверить корректность заполнения пропусков синтетическими данными        \n",
    "+ сменить тип данных\n",
    "+ настроить фильтрацию редких значений в п.2.4\n",
    "+ подправить функцию категоризации этажности\n",
    "+ добавить гистограмму в п.4.1\n",
    "+ добавить графики в п.4.3\n",
    "+ подправить параметр и график в п.4.5\n",
    "\n",
    "        \n",
    "С ними важно поработать и исправить\n",
    "        \n",
    "Стоит обратить внимание и на такие комментарии ⚠️\n",
    "        \n",
    "Если будут вопросы про мои комментарии - задавай, если какой-то формат взаимодействия не устраивает или есть какие-то другие пожелания - пиши :)\n",
    "\n",
    "<div class=\"alert alert-success\">\n",
    "    <font size=\"5\"><b>Жду твой проект и твои комментарии 🤝</b></font><br />\n",
    "    \n",
    "нумерация пунктов из брифа проекта, у тебя они могут быть другие"
   ]
  },
  {
   "cell_type": "markdown",
   "metadata": {},
   "source": [
    "<div style=\"border:solid steelblue 3px; padding: 20px\">\n",
    "<font size=\"4\">🍕<b> Комментарий ревьюера</b></font>\n",
    "<br /> \n",
    "<font size=\"3\", color = \"black\">\n",
    "<br />    \n",
    "<p> Доп. материал: методы группировки и расчета суммы, средних и т.д.\n",
    "        \n",
    "[Подробное руководство по группировке и агрегированию с помощью pandas](https://dfedorov.spb.ru/pandas/%D0%9F%D0%BE%D0%B4%D1%80%D0%BE%D0%B1%D0%BD%D0%BE%D0%B5%20%D1%80%D1%83%D0%BA%D0%BE%D0%B2%D0%BE%D0%B4%D1%81%D1%82%D0%B2%D0%BE%20%D0%BF%D0%BE%20%D0%B3%D1%80%D1%83%D0%BF%D0%BF%D0%B8%D1%80%D0%BE%D0%B2%D0%BA%D0%B5%20%D0%B8%20%D0%B0%D0%B3%D1%80%D0%B5%D0%B3%D0%B8%D1%80%D0%BE%D0%B2%D0%B0%D0%BD%D0%B8%D1%8E%20%D1%81%20%D0%BF%D0%BE%D0%BC%D0%BE%D1%89%D1%8C%D1%8E%20pandas.html)\n",
    "    \n",
    " Интересная функция в библиотеке пандаса\n",
    "        \n",
    "[Понимание функции transform в Pandas](https://dfedorov.spb.ru/pandas/%D0%9F%D0%BE%D0%BD%D0%B8%D0%BC%D0%B0%D0%BD%D0%B8%D0%B5%20%D1%84%D1%83%D0%BD%D0%BA%D1%86%D0%B8%D0%B8%20transform%20%D0%B2%20Pandas.html)\n",
    "    \n",
    "[Как выбрать определенные столбцы из DataFrame](https://dfedorov.spb.ru/pandas/03.%20%D0%9A%D0%B0%D0%BA%20%D0%B2%D1%8B%D0%B1%D1%80%D0%B0%D1%82%D1%8C%20%D0%BF%D0%BE%D0%B4%D0%BC%D0%BD%D0%BE%D0%B6%D0%B5%D1%81%D1%82%D0%B2%D0%BE%20%D0%B8%D0%B7%20DataFrame_.html?ysclid=l9sps5lt6g576766938)"
   ]
  },
  {
   "cell_type": "markdown",
   "metadata": {},
   "source": [
    "**Чек-лист готовности проекта**\n",
    "\n",
    "Поставьте 'x' в выполненных пунктах. Далее нажмите Shift+Enter."
   ]
  },
  {
   "cell_type": "markdown",
   "metadata": {},
   "source": [
    "- [x]  открыт файл\n",
    "- [x]  файлы изучены (выведены первые строки, метод `info()`, гистограммы и т.д.)\n",
    "- [x]  определены пропущенные значения\n",
    "- [x]  заполнены пропущенные значения там, где это возможно\n",
    "- [x]  есть пояснение, какие пропущенные значения обнаружены\n",
    "- [x]  изменены типы данных\n",
    "- [x]  есть пояснение, в каких столбцах изменены типы и почему\n",
    "- [x]  устранены неявные дубликаты в названиях населённых пунктов\n",
    "- [x]  устранены редкие и выбивающиеся значения (аномалии) во всех столбцах\n",
    "- [x]  посчитано и добавлено в таблицу: цена одного квадратного метра\n",
    "- [x]  посчитано и добавлено в таблицу: день публикации объявления (0 - понедельник, 1 - вторник и т.д.)\n",
    "- [x]  посчитано и добавлено в таблицу: месяц публикации объявления\n",
    "- [x]  посчитано и добавлено в таблицу: год публикации объявления\n",
    "- [x]  посчитано и добавлено в таблицу: тип этажа квартиры (значения — «первый», «последний», «другой»)\n",
    "- [x]  посчитано и добавлено в таблицу: расстояние в км до центра города\n",
    "- [x]  изучены и описаны следующие параметры:\n",
    "        - общая площадь;\n",
    "        - жилая площадь;\n",
    "        - площадь кухни;\n",
    "        - цена объекта;\n",
    "        - количество комнат;\n",
    "        - высота потолков;\n",
    "        - этаж квартиры;\n",
    "        - тип этажа квартиры («первый», «последний», «другой»);\n",
    "        - общее количество этажей в доме;\n",
    "        - расстояние до центра города в метрах;\n",
    "        - расстояние до ближайшего аэропорта;\n",
    "        - расстояние до ближайшего парка;\n",
    "        - день и месяц публикации объявления\n",
    "- [x]  построены гистограммы для каждого параметра\n",
    "- [x]  выполнено задание: \"Изучите, как быстро продавались квартиры (столбец days_exposition). Этот параметр показывает, сколько дней «висело» каждое объявление.\n",
    "    - Постройте гистограмму.\n",
    "    - Посчитайте среднее и медиану.\n",
    "    - В ячейке типа markdown опишите, сколько обычно занимает продажа. Какие продажи можно считать быстрыми, а какие — необычно долгими?\"\n",
    "- [x]  выполнено задание: \"Какие факторы больше всего влияют на общую (полную) стоимость объекта? Постройте графики, которые покажут зависимость цены от указанных ниже параметров. Для подготовки данных перед визуализацией вы можете использовать сводные таблицы.\"\n",
    "   x    - общей площади;\n",
    "   x    - жилой площади;\n",
    "   x    - площади кухни;\n",
    "   x    - количество комнат;\n",
    "   x    - типа этажа, на котором расположена квартира (первый, последний, другой);\n",
    "   x    - даты размещения (день недели, месяц, год);\n",
    "- [x]  выполнено задание: \"Посчитайте среднюю цену одного квадратного метра в 10 населённых пунктах с наибольшим числом объявлений. Выделите населённые пункты с самой высокой и низкой стоимостью квадратного метра. Эти данные можно найти по имени в столбце `locality_name`.\"\n",
    "- [x]  выполнено задание: \"Ранее вы посчитали расстояние до центра в километрах. Теперь выделите квартиры в Санкт-Петербурге с помощью столбца `locality_name` и вычислите среднюю цену каждого километра. Опишите, как стоимость объектов зависит от расстояния до центра города.\"\n",
    "- [x]  в каждом этапе есть промежуточные выводы\n",
    "- [ ]  есть общий вывод"
   ]
  },
  {
   "cell_type": "markdown",
   "metadata": {},
   "source": []
  }
 ],
 "metadata": {
  "ExecuteTimeLog": [
   {
    "duration": 45,
    "start_time": "2022-11-02T17:31:43.546Z"
   },
   {
    "duration": 114,
    "start_time": "2022-11-02T17:33:20.824Z"
   },
   {
    "duration": 0,
    "start_time": "2022-11-02T17:33:20.940Z"
   },
   {
    "duration": 0,
    "start_time": "2022-11-02T17:33:20.942Z"
   },
   {
    "duration": 0,
    "start_time": "2022-11-02T17:33:20.943Z"
   },
   {
    "duration": 0,
    "start_time": "2022-11-02T17:33:20.944Z"
   },
   {
    "duration": 0,
    "start_time": "2022-11-02T17:33:20.945Z"
   },
   {
    "duration": 0,
    "start_time": "2022-11-02T17:33:20.946Z"
   },
   {
    "duration": 0,
    "start_time": "2022-11-02T17:33:20.947Z"
   },
   {
    "duration": 0,
    "start_time": "2022-11-02T17:33:20.948Z"
   },
   {
    "duration": 0,
    "start_time": "2022-11-02T17:33:20.949Z"
   },
   {
    "duration": 0,
    "start_time": "2022-11-02T17:33:20.950Z"
   },
   {
    "duration": 0,
    "start_time": "2022-11-02T17:33:20.951Z"
   },
   {
    "duration": 0,
    "start_time": "2022-11-02T17:33:21.023Z"
   },
   {
    "duration": 0,
    "start_time": "2022-11-02T17:33:21.024Z"
   },
   {
    "duration": 0,
    "start_time": "2022-11-02T17:33:21.025Z"
   },
   {
    "duration": 0,
    "start_time": "2022-11-02T17:33:21.026Z"
   },
   {
    "duration": 0,
    "start_time": "2022-11-02T17:33:21.027Z"
   },
   {
    "duration": 0,
    "start_time": "2022-11-02T17:33:21.029Z"
   },
   {
    "duration": 0,
    "start_time": "2022-11-02T17:33:21.029Z"
   },
   {
    "duration": 0,
    "start_time": "2022-11-02T17:33:21.031Z"
   },
   {
    "duration": 0,
    "start_time": "2022-11-02T17:33:21.033Z"
   },
   {
    "duration": 0,
    "start_time": "2022-11-02T17:33:21.034Z"
   },
   {
    "duration": 0,
    "start_time": "2022-11-02T17:33:21.035Z"
   },
   {
    "duration": 0,
    "start_time": "2022-11-02T17:33:21.036Z"
   },
   {
    "duration": 0,
    "start_time": "2022-11-02T17:33:21.038Z"
   },
   {
    "duration": 0,
    "start_time": "2022-11-02T17:33:21.039Z"
   },
   {
    "duration": 0,
    "start_time": "2022-11-02T17:33:21.040Z"
   },
   {
    "duration": 0,
    "start_time": "2022-11-02T17:33:21.041Z"
   },
   {
    "duration": 0,
    "start_time": "2022-11-02T17:33:21.042Z"
   },
   {
    "duration": 0,
    "start_time": "2022-11-02T17:33:21.043Z"
   },
   {
    "duration": 0,
    "start_time": "2022-11-02T17:33:21.044Z"
   },
   {
    "duration": 0,
    "start_time": "2022-11-02T17:33:21.045Z"
   },
   {
    "duration": 0,
    "start_time": "2022-11-02T17:33:21.047Z"
   },
   {
    "duration": 0,
    "start_time": "2022-11-02T17:33:21.122Z"
   },
   {
    "duration": 0,
    "start_time": "2022-11-02T17:33:21.124Z"
   },
   {
    "duration": 0,
    "start_time": "2022-11-02T17:33:21.125Z"
   },
   {
    "duration": 0,
    "start_time": "2022-11-02T17:33:21.126Z"
   },
   {
    "duration": 0,
    "start_time": "2022-11-02T17:33:21.128Z"
   },
   {
    "duration": 0,
    "start_time": "2022-11-02T17:33:21.129Z"
   },
   {
    "duration": 0,
    "start_time": "2022-11-02T17:33:21.130Z"
   },
   {
    "duration": 0,
    "start_time": "2022-11-02T17:33:21.131Z"
   },
   {
    "duration": 49,
    "start_time": "2022-11-02T17:34:05.552Z"
   },
   {
    "duration": 0,
    "start_time": "2022-11-02T17:34:05.603Z"
   },
   {
    "duration": 0,
    "start_time": "2022-11-02T17:34:05.604Z"
   },
   {
    "duration": 0,
    "start_time": "2022-11-02T17:34:05.605Z"
   },
   {
    "duration": 0,
    "start_time": "2022-11-02T17:34:05.607Z"
   },
   {
    "duration": 0,
    "start_time": "2022-11-02T17:34:05.608Z"
   },
   {
    "duration": 0,
    "start_time": "2022-11-02T17:34:05.609Z"
   },
   {
    "duration": 0,
    "start_time": "2022-11-02T17:34:05.610Z"
   },
   {
    "duration": 0,
    "start_time": "2022-11-02T17:34:05.611Z"
   },
   {
    "duration": 0,
    "start_time": "2022-11-02T17:34:05.612Z"
   },
   {
    "duration": 0,
    "start_time": "2022-11-02T17:34:05.613Z"
   },
   {
    "duration": 0,
    "start_time": "2022-11-02T17:34:05.614Z"
   },
   {
    "duration": 0,
    "start_time": "2022-11-02T17:34:05.615Z"
   },
   {
    "duration": 0,
    "start_time": "2022-11-02T17:34:05.621Z"
   },
   {
    "duration": 0,
    "start_time": "2022-11-02T17:34:05.622Z"
   },
   {
    "duration": 0,
    "start_time": "2022-11-02T17:34:05.623Z"
   },
   {
    "duration": 0,
    "start_time": "2022-11-02T17:34:05.624Z"
   },
   {
    "duration": 0,
    "start_time": "2022-11-02T17:34:05.625Z"
   },
   {
    "duration": 0,
    "start_time": "2022-11-02T17:34:05.626Z"
   },
   {
    "duration": 0,
    "start_time": "2022-11-02T17:34:05.627Z"
   },
   {
    "duration": 0,
    "start_time": "2022-11-02T17:34:05.628Z"
   },
   {
    "duration": 0,
    "start_time": "2022-11-02T17:34:05.629Z"
   },
   {
    "duration": 0,
    "start_time": "2022-11-02T17:34:05.629Z"
   },
   {
    "duration": 0,
    "start_time": "2022-11-02T17:34:05.630Z"
   },
   {
    "duration": 0,
    "start_time": "2022-11-02T17:34:05.632Z"
   },
   {
    "duration": 1,
    "start_time": "2022-11-02T17:34:05.632Z"
   },
   {
    "duration": 0,
    "start_time": "2022-11-02T17:34:05.634Z"
   },
   {
    "duration": 7,
    "start_time": "2022-11-02T17:34:05.637Z"
   },
   {
    "duration": 0,
    "start_time": "2022-11-02T17:34:05.646Z"
   },
   {
    "duration": 0,
    "start_time": "2022-11-02T17:34:05.647Z"
   },
   {
    "duration": 0,
    "start_time": "2022-11-02T17:34:05.649Z"
   },
   {
    "duration": 0,
    "start_time": "2022-11-02T17:34:05.650Z"
   },
   {
    "duration": 0,
    "start_time": "2022-11-02T17:34:05.651Z"
   },
   {
    "duration": 0,
    "start_time": "2022-11-02T17:34:05.652Z"
   },
   {
    "duration": 0,
    "start_time": "2022-11-02T17:34:05.653Z"
   },
   {
    "duration": 0,
    "start_time": "2022-11-02T17:34:05.654Z"
   },
   {
    "duration": 0,
    "start_time": "2022-11-02T17:34:05.656Z"
   },
   {
    "duration": 0,
    "start_time": "2022-11-02T17:34:05.657Z"
   },
   {
    "duration": 0,
    "start_time": "2022-11-02T17:34:05.721Z"
   },
   {
    "duration": 0,
    "start_time": "2022-11-02T17:34:05.724Z"
   },
   {
    "duration": 0,
    "start_time": "2022-11-02T17:34:05.725Z"
   },
   {
    "duration": 2758,
    "start_time": "2022-11-02T17:42:45.776Z"
   },
   {
    "duration": 1275,
    "start_time": "2022-11-02T17:42:56.028Z"
   },
   {
    "duration": 121,
    "start_time": "2022-11-02T17:43:11.386Z"
   },
   {
    "duration": 54,
    "start_time": "2022-11-02T17:43:16.643Z"
   },
   {
    "duration": 103,
    "start_time": "2022-11-02T17:43:22.779Z"
   },
   {
    "duration": 2142,
    "start_time": "2022-11-02T17:43:27.589Z"
   },
   {
    "duration": 1363,
    "start_time": "2022-11-02T17:43:29.733Z"
   },
   {
    "duration": 17,
    "start_time": "2022-11-02T17:43:31.098Z"
   },
   {
    "duration": 27,
    "start_time": "2022-11-02T17:43:31.117Z"
   },
   {
    "duration": 28,
    "start_time": "2022-11-02T17:43:31.146Z"
   },
   {
    "duration": 295,
    "start_time": "2022-11-02T17:43:31.176Z"
   },
   {
    "duration": 19,
    "start_time": "2022-11-02T17:43:31.473Z"
   },
   {
    "duration": 77,
    "start_time": "2022-11-02T17:43:31.494Z"
   },
   {
    "duration": 5,
    "start_time": "2022-11-02T17:43:31.573Z"
   },
   {
    "duration": 34,
    "start_time": "2022-11-02T17:43:31.579Z"
   },
   {
    "duration": 60,
    "start_time": "2022-11-02T17:43:31.614Z"
   },
   {
    "duration": 7,
    "start_time": "2022-11-02T17:43:31.676Z"
   },
   {
    "duration": 41,
    "start_time": "2022-11-02T17:43:31.685Z"
   },
   {
    "duration": 22,
    "start_time": "2022-11-02T17:43:31.729Z"
   },
   {
    "duration": 12,
    "start_time": "2022-11-02T17:43:31.752Z"
   },
   {
    "duration": 122,
    "start_time": "2022-11-02T17:43:31.765Z"
   },
   {
    "duration": 7,
    "start_time": "2022-11-02T17:43:31.888Z"
   },
   {
    "duration": 116,
    "start_time": "2022-11-02T17:43:31.896Z"
   },
   {
    "duration": 0,
    "start_time": "2022-11-02T17:43:32.014Z"
   },
   {
    "duration": 0,
    "start_time": "2022-11-02T17:43:32.016Z"
   },
   {
    "duration": 0,
    "start_time": "2022-11-02T17:43:32.022Z"
   },
   {
    "duration": 0,
    "start_time": "2022-11-02T17:43:32.023Z"
   },
   {
    "duration": 0,
    "start_time": "2022-11-02T17:43:32.024Z"
   },
   {
    "duration": 0,
    "start_time": "2022-11-02T17:43:32.025Z"
   },
   {
    "duration": 0,
    "start_time": "2022-11-02T17:43:32.027Z"
   },
   {
    "duration": 0,
    "start_time": "2022-11-02T17:43:32.028Z"
   },
   {
    "duration": 0,
    "start_time": "2022-11-02T17:43:32.030Z"
   },
   {
    "duration": 0,
    "start_time": "2022-11-02T17:43:32.031Z"
   },
   {
    "duration": 0,
    "start_time": "2022-11-02T17:43:32.033Z"
   },
   {
    "duration": 0,
    "start_time": "2022-11-02T17:43:32.034Z"
   },
   {
    "duration": 0,
    "start_time": "2022-11-02T17:43:32.035Z"
   },
   {
    "duration": 0,
    "start_time": "2022-11-02T17:43:32.037Z"
   },
   {
    "duration": 0,
    "start_time": "2022-11-02T17:43:32.037Z"
   },
   {
    "duration": 0,
    "start_time": "2022-11-02T17:43:32.038Z"
   },
   {
    "duration": 0,
    "start_time": "2022-11-02T17:43:32.039Z"
   },
   {
    "duration": 0,
    "start_time": "2022-11-02T17:43:32.040Z"
   },
   {
    "duration": 0,
    "start_time": "2022-11-02T17:43:32.041Z"
   },
   {
    "duration": 0,
    "start_time": "2022-11-02T17:43:32.042Z"
   },
   {
    "duration": 0,
    "start_time": "2022-11-02T17:43:32.043Z"
   },
   {
    "duration": 0,
    "start_time": "2022-11-02T17:43:32.044Z"
   },
   {
    "duration": 0,
    "start_time": "2022-11-02T17:43:32.045Z"
   },
   {
    "duration": 0,
    "start_time": "2022-11-02T17:43:32.046Z"
   },
   {
    "duration": 0,
    "start_time": "2022-11-02T17:43:32.047Z"
   },
   {
    "duration": 17,
    "start_time": "2022-11-02T17:56:25.365Z"
   },
   {
    "duration": 80,
    "start_time": "2022-11-02T17:56:26.957Z"
   },
   {
    "duration": 20,
    "start_time": "2022-11-02T17:56:28.389Z"
   },
   {
    "duration": 18,
    "start_time": "2022-11-02T17:56:45.919Z"
   },
   {
    "duration": 3,
    "start_time": "2022-11-02T17:57:45.089Z"
   },
   {
    "duration": 3,
    "start_time": "2022-11-02T17:58:34.546Z"
   },
   {
    "duration": 2088,
    "start_time": "2022-11-02T17:58:34.551Z"
   },
   {
    "duration": 16,
    "start_time": "2022-11-02T17:58:36.641Z"
   },
   {
    "duration": 12,
    "start_time": "2022-11-02T17:58:36.658Z"
   },
   {
    "duration": 3,
    "start_time": "2022-11-02T17:58:36.672Z"
   },
   {
    "duration": 239,
    "start_time": "2022-11-02T17:58:36.677Z"
   },
   {
    "duration": 20,
    "start_time": "2022-11-02T17:58:36.918Z"
   },
   {
    "duration": 69,
    "start_time": "2022-11-02T17:58:36.939Z"
   },
   {
    "duration": 15,
    "start_time": "2022-11-02T17:58:37.011Z"
   },
   {
    "duration": 19,
    "start_time": "2022-11-02T17:58:37.027Z"
   },
   {
    "duration": 39,
    "start_time": "2022-11-02T17:58:37.048Z"
   },
   {
    "duration": 36,
    "start_time": "2022-11-02T17:58:37.089Z"
   },
   {
    "duration": 5,
    "start_time": "2022-11-02T17:58:37.127Z"
   },
   {
    "duration": 11,
    "start_time": "2022-11-02T17:58:37.134Z"
   },
   {
    "duration": 12,
    "start_time": "2022-11-02T17:58:37.146Z"
   },
   {
    "duration": 193,
    "start_time": "2022-11-02T17:58:37.159Z"
   },
   {
    "duration": 6,
    "start_time": "2022-11-02T17:58:37.354Z"
   },
   {
    "duration": 16,
    "start_time": "2022-11-02T17:58:37.362Z"
   },
   {
    "duration": 78,
    "start_time": "2022-11-02T17:58:37.379Z"
   },
   {
    "duration": 23,
    "start_time": "2022-11-02T17:58:37.459Z"
   },
   {
    "duration": 7,
    "start_time": "2022-11-02T17:58:37.484Z"
   },
   {
    "duration": 322,
    "start_time": "2022-11-02T17:58:37.493Z"
   },
   {
    "duration": 350,
    "start_time": "2022-11-02T17:58:37.817Z"
   },
   {
    "duration": 14,
    "start_time": "2022-11-02T17:58:38.170Z"
   },
   {
    "duration": 296,
    "start_time": "2022-11-02T17:58:38.186Z"
   },
   {
    "duration": 1861,
    "start_time": "2022-11-02T17:58:38.484Z"
   },
   {
    "duration": 3,
    "start_time": "2022-11-02T17:58:40.347Z"
   },
   {
    "duration": 17,
    "start_time": "2022-11-02T17:58:40.351Z"
   },
   {
    "duration": 712,
    "start_time": "2022-11-02T17:58:40.369Z"
   },
   {
    "duration": 1478,
    "start_time": "2022-11-02T17:58:41.083Z"
   },
   {
    "duration": 156,
    "start_time": "2022-11-02T17:58:42.563Z"
   },
   {
    "duration": 101,
    "start_time": "2022-11-02T17:58:42.721Z"
   },
   {
    "duration": 117,
    "start_time": "2022-11-02T17:58:42.824Z"
   },
   {
    "duration": 118,
    "start_time": "2022-11-02T17:58:42.943Z"
   },
   {
    "duration": 116,
    "start_time": "2022-11-02T17:58:43.062Z"
   },
   {
    "duration": 117,
    "start_time": "2022-11-02T17:58:43.180Z"
   },
   {
    "duration": 138,
    "start_time": "2022-11-02T17:58:43.299Z"
   },
   {
    "duration": 132,
    "start_time": "2022-11-02T17:58:43.439Z"
   },
   {
    "duration": 123,
    "start_time": "2022-11-02T17:58:43.573Z"
   },
   {
    "duration": 169,
    "start_time": "2022-11-02T17:58:43.698Z"
   },
   {
    "duration": 179,
    "start_time": "2022-11-02T17:58:43.869Z"
   },
   {
    "duration": 12,
    "start_time": "2022-11-02T17:58:44.050Z"
   },
   {
    "duration": 269,
    "start_time": "2022-11-02T17:58:44.063Z"
   },
   {
    "duration": 18,
    "start_time": "2022-11-02T18:01:43.268Z"
   },
   {
    "duration": 5,
    "start_time": "2022-11-02T18:20:39.492Z"
   },
   {
    "duration": 1384,
    "start_time": "2022-11-02T18:20:39.499Z"
   },
   {
    "duration": 38,
    "start_time": "2022-11-02T18:20:40.885Z"
   },
   {
    "duration": 13,
    "start_time": "2022-11-02T18:20:40.925Z"
   },
   {
    "duration": 4,
    "start_time": "2022-11-02T18:20:40.940Z"
   },
   {
    "duration": 248,
    "start_time": "2022-11-02T18:20:40.946Z"
   },
   {
    "duration": 27,
    "start_time": "2022-11-02T18:20:41.196Z"
   },
   {
    "duration": 64,
    "start_time": "2022-11-02T18:20:41.226Z"
   },
   {
    "duration": 6,
    "start_time": "2022-11-02T18:20:41.293Z"
   },
   {
    "duration": 28,
    "start_time": "2022-11-02T18:20:41.300Z"
   },
   {
    "duration": 32,
    "start_time": "2022-11-02T18:20:41.329Z"
   },
   {
    "duration": 8,
    "start_time": "2022-11-02T18:20:41.363Z"
   },
   {
    "duration": 10,
    "start_time": "2022-11-02T18:20:41.373Z"
   },
   {
    "duration": 39,
    "start_time": "2022-11-02T18:20:41.384Z"
   },
   {
    "duration": 12,
    "start_time": "2022-11-02T18:20:41.425Z"
   },
   {
    "duration": 153,
    "start_time": "2022-11-02T18:20:41.438Z"
   },
   {
    "duration": 8,
    "start_time": "2022-11-02T18:20:41.593Z"
   },
   {
    "duration": 36,
    "start_time": "2022-11-02T18:20:41.603Z"
   },
   {
    "duration": 65,
    "start_time": "2022-11-02T18:20:41.641Z"
   },
   {
    "duration": 31,
    "start_time": "2022-11-02T18:20:41.707Z"
   },
   {
    "duration": 6,
    "start_time": "2022-11-02T18:20:41.740Z"
   },
   {
    "duration": 291,
    "start_time": "2022-11-02T18:20:41.748Z"
   },
   {
    "duration": 351,
    "start_time": "2022-11-02T18:20:42.041Z"
   },
   {
    "duration": 26,
    "start_time": "2022-11-02T18:20:42.397Z"
   },
   {
    "duration": 283,
    "start_time": "2022-11-02T18:20:42.425Z"
   },
   {
    "duration": 1755,
    "start_time": "2022-11-02T18:20:42.709Z"
   },
   {
    "duration": 3,
    "start_time": "2022-11-02T18:20:44.466Z"
   },
   {
    "duration": 16,
    "start_time": "2022-11-02T18:20:44.471Z"
   },
   {
    "duration": 38,
    "start_time": "2022-11-02T18:20:44.489Z"
   },
   {
    "duration": 747,
    "start_time": "2022-11-02T18:20:44.529Z"
   },
   {
    "duration": 1502,
    "start_time": "2022-11-02T18:20:45.278Z"
   },
   {
    "duration": 167,
    "start_time": "2022-11-02T18:20:46.782Z"
   },
   {
    "duration": 103,
    "start_time": "2022-11-02T18:20:46.951Z"
   },
   {
    "duration": 122,
    "start_time": "2022-11-02T18:20:47.056Z"
   },
   {
    "duration": 120,
    "start_time": "2022-11-02T18:20:47.180Z"
   },
   {
    "duration": 115,
    "start_time": "2022-11-02T18:20:47.301Z"
   },
   {
    "duration": 124,
    "start_time": "2022-11-02T18:20:47.421Z"
   },
   {
    "duration": 144,
    "start_time": "2022-11-02T18:20:47.548Z"
   },
   {
    "duration": 138,
    "start_time": "2022-11-02T18:20:47.695Z"
   },
   {
    "duration": 123,
    "start_time": "2022-11-02T18:20:47.835Z"
   },
   {
    "duration": 169,
    "start_time": "2022-11-02T18:20:47.960Z"
   },
   {
    "duration": 207,
    "start_time": "2022-11-02T18:20:48.131Z"
   },
   {
    "duration": 12,
    "start_time": "2022-11-02T18:20:48.340Z"
   },
   {
    "duration": 258,
    "start_time": "2022-11-02T18:20:48.354Z"
   },
   {
    "duration": 1490,
    "start_time": "2022-11-03T08:16:17.990Z"
   },
   {
    "duration": 3367,
    "start_time": "2022-11-03T08:16:27.879Z"
   },
   {
    "duration": 41,
    "start_time": "2022-11-03T08:16:33.667Z"
   },
   {
    "duration": 3,
    "start_time": "2022-11-03T08:16:54.441Z"
   },
   {
    "duration": 4,
    "start_time": "2022-11-03T08:16:56.821Z"
   },
   {
    "duration": 425,
    "start_time": "2022-11-03T08:17:43.489Z"
   }
  ],
  "kernelspec": {
   "display_name": "Python 3 (ipykernel)",
   "language": "python",
   "name": "python3"
  },
  "language_info": {
   "codemirror_mode": {
    "name": "ipython",
    "version": 3
   },
   "file_extension": ".py",
   "mimetype": "text/x-python",
   "name": "python",
   "nbconvert_exporter": "python",
   "pygments_lexer": "ipython3",
   "version": "3.10.5"
  },
  "toc": {
   "base_numbering": 1,
   "nav_menu": {},
   "number_sections": true,
   "sideBar": true,
   "skip_h1_title": true,
   "title_cell": "Table of Contents",
   "title_sidebar": "Contents",
   "toc_cell": false,
   "toc_position": {},
   "toc_section_display": true,
   "toc_window_display": true
  },
  "vscode": {
   "interpreter": {
    "hash": "69a9047f428b72ee57fafcc30cfc1150f80b59105df1fa51f1e4927e742c9d0b"
   }
  }
 },
 "nbformat": 4,
 "nbformat_minor": 2
}

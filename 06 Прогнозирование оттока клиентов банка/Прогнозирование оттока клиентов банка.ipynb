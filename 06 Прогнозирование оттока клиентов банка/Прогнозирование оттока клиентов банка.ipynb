{
 "cells": [
  {
   "cell_type": "markdown",
   "metadata": {},
   "source": [
    "### Описание проекта\n",
    "Из «Бета-Банка» стали уходить клиенты. Каждый месяц. Немного, но заметно. Банковские маркетологи посчитали: сохранять текущих клиентов дешевле, чем привлекать новых.  \n",
    "Нужно спрогнозировать, уйдёт клиент из банка в ближайшее время или нет. Вам предоставлены исторические данные о поведении клиентов и расторжении договоров с банком.   \n",
    "Постройте модель с предельно большим значением F1-меры. Чтобы сдать проект успешно, нужно довести метрику до 0.59. Проверьте F1-меру на тестовой выборке самостоятельно.  \n",
    "Дополнительно измеряйте AUC-ROC, сравнивайте её значение с F1-мерой."
   ]
  },
  {
   "cell_type": "code",
   "execution_count": 1,
   "metadata": {},
   "outputs": [],
   "source": [
    "#pip install fast_ml\n"
   ]
  },
  {
   "cell_type": "markdown",
   "metadata": {},
   "source": [
    "### Импорт бибилиотек"
   ]
  },
  {
   "cell_type": "code",
   "execution_count": 2,
   "metadata": {},
   "outputs": [],
   "source": [
    "import pandas as pd\n",
    "import numpy as np\n",
    "import matplotlib.pyplot as plt\n",
    "from sklearn.model_selection import train_test_split\n",
    "from fast_ml.model_development import train_valid_test_split\n",
    "from sklearn.tree import DecisionTreeClassifier\n",
    "from sklearn.ensemble import RandomForestClassifier\n",
    "from sklearn.linear_model import LogisticRegression \n",
    "from sklearn.preprocessing import StandardScaler\n",
    "from sklearn.metrics import (\n",
    "    accuracy_score, \n",
    "    f1_score, recall_score, \n",
    "    precision_score, \n",
    "    roc_auc_score, \n",
    "    roc_curve, \n",
    "    confusion_matrix)\n",
    "from sklearn.utils import shuffle"
   ]
  },
  {
   "cell_type": "markdown",
   "metadata": {},
   "source": [
    "### Загрузка датасета"
   ]
  },
  {
   "cell_type": "code",
   "execution_count": 3,
   "metadata": {},
   "outputs": [
    {
     "data": {
      "text/html": [
       "<div>\n",
       "<style scoped>\n",
       "    .dataframe tbody tr th:only-of-type {\n",
       "        vertical-align: middle;\n",
       "    }\n",
       "\n",
       "    .dataframe tbody tr th {\n",
       "        vertical-align: top;\n",
       "    }\n",
       "\n",
       "    .dataframe thead th {\n",
       "        text-align: right;\n",
       "    }\n",
       "</style>\n",
       "<table border=\"1\" class=\"dataframe\">\n",
       "  <thead>\n",
       "    <tr style=\"text-align: right;\">\n",
       "      <th></th>\n",
       "      <th>RowNumber</th>\n",
       "      <th>CustomerId</th>\n",
       "      <th>Surname</th>\n",
       "      <th>CreditScore</th>\n",
       "      <th>Geography</th>\n",
       "      <th>Gender</th>\n",
       "      <th>Age</th>\n",
       "      <th>Tenure</th>\n",
       "      <th>Balance</th>\n",
       "      <th>NumOfProducts</th>\n",
       "      <th>HasCrCard</th>\n",
       "      <th>IsActiveMember</th>\n",
       "      <th>EstimatedSalary</th>\n",
       "      <th>Exited</th>\n",
       "    </tr>\n",
       "  </thead>\n",
       "  <tbody>\n",
       "    <tr>\n",
       "      <th>0</th>\n",
       "      <td>1</td>\n",
       "      <td>15634602</td>\n",
       "      <td>Hargrave</td>\n",
       "      <td>619</td>\n",
       "      <td>France</td>\n",
       "      <td>Female</td>\n",
       "      <td>42</td>\n",
       "      <td>2.0</td>\n",
       "      <td>0.00</td>\n",
       "      <td>1</td>\n",
       "      <td>1</td>\n",
       "      <td>1</td>\n",
       "      <td>101348.88</td>\n",
       "      <td>1</td>\n",
       "    </tr>\n",
       "    <tr>\n",
       "      <th>1</th>\n",
       "      <td>2</td>\n",
       "      <td>15647311</td>\n",
       "      <td>Hill</td>\n",
       "      <td>608</td>\n",
       "      <td>Spain</td>\n",
       "      <td>Female</td>\n",
       "      <td>41</td>\n",
       "      <td>1.0</td>\n",
       "      <td>83807.86</td>\n",
       "      <td>1</td>\n",
       "      <td>0</td>\n",
       "      <td>1</td>\n",
       "      <td>112542.58</td>\n",
       "      <td>0</td>\n",
       "    </tr>\n",
       "    <tr>\n",
       "      <th>2</th>\n",
       "      <td>3</td>\n",
       "      <td>15619304</td>\n",
       "      <td>Onio</td>\n",
       "      <td>502</td>\n",
       "      <td>France</td>\n",
       "      <td>Female</td>\n",
       "      <td>42</td>\n",
       "      <td>8.0</td>\n",
       "      <td>159660.80</td>\n",
       "      <td>3</td>\n",
       "      <td>1</td>\n",
       "      <td>0</td>\n",
       "      <td>113931.57</td>\n",
       "      <td>1</td>\n",
       "    </tr>\n",
       "    <tr>\n",
       "      <th>3</th>\n",
       "      <td>4</td>\n",
       "      <td>15701354</td>\n",
       "      <td>Boni</td>\n",
       "      <td>699</td>\n",
       "      <td>France</td>\n",
       "      <td>Female</td>\n",
       "      <td>39</td>\n",
       "      <td>1.0</td>\n",
       "      <td>0.00</td>\n",
       "      <td>2</td>\n",
       "      <td>0</td>\n",
       "      <td>0</td>\n",
       "      <td>93826.63</td>\n",
       "      <td>0</td>\n",
       "    </tr>\n",
       "    <tr>\n",
       "      <th>4</th>\n",
       "      <td>5</td>\n",
       "      <td>15737888</td>\n",
       "      <td>Mitchell</td>\n",
       "      <td>850</td>\n",
       "      <td>Spain</td>\n",
       "      <td>Female</td>\n",
       "      <td>43</td>\n",
       "      <td>2.0</td>\n",
       "      <td>125510.82</td>\n",
       "      <td>1</td>\n",
       "      <td>1</td>\n",
       "      <td>1</td>\n",
       "      <td>79084.10</td>\n",
       "      <td>0</td>\n",
       "    </tr>\n",
       "  </tbody>\n",
       "</table>\n",
       "</div>"
      ],
      "text/plain": [
       "   RowNumber  CustomerId   Surname  CreditScore Geography  Gender  Age  \\\n",
       "0          1    15634602  Hargrave          619    France  Female   42   \n",
       "1          2    15647311      Hill          608     Spain  Female   41   \n",
       "2          3    15619304      Onio          502    France  Female   42   \n",
       "3          4    15701354      Boni          699    France  Female   39   \n",
       "4          5    15737888  Mitchell          850     Spain  Female   43   \n",
       "\n",
       "   Tenure    Balance  NumOfProducts  HasCrCard  IsActiveMember  \\\n",
       "0     2.0       0.00              1          1               1   \n",
       "1     1.0   83807.86              1          0               1   \n",
       "2     8.0  159660.80              3          1               0   \n",
       "3     1.0       0.00              2          0               0   \n",
       "4     2.0  125510.82              1          1               1   \n",
       "\n",
       "   EstimatedSalary  Exited  \n",
       "0        101348.88       1  \n",
       "1        112542.58       0  \n",
       "2        113931.57       1  \n",
       "3         93826.63       0  \n",
       "4         79084.10       0  "
      ]
     },
     "execution_count": 3,
     "metadata": {},
     "output_type": "execute_result"
    }
   ],
   "source": [
    "try:\n",
    "    df = pd.read_csv('./datasets/Churn.csv')\n",
    "except:\n",
    "    df = pd.read_csv('https://code.s3.yandex.net/datasets/Churn.csv')\n",
    "df.head(5)"
   ]
  },
  {
   "cell_type": "code",
   "execution_count": 4,
   "metadata": {},
   "outputs": [
    {
     "name": "stdout",
     "output_type": "stream",
     "text": [
      "<class 'pandas.core.frame.DataFrame'>\n",
      "RangeIndex: 10000 entries, 0 to 9999\n",
      "Data columns (total 14 columns):\n",
      " #   Column           Non-Null Count  Dtype  \n",
      "---  ------           --------------  -----  \n",
      " 0   RowNumber        10000 non-null  int64  \n",
      " 1   CustomerId       10000 non-null  int64  \n",
      " 2   Surname          10000 non-null  object \n",
      " 3   CreditScore      10000 non-null  int64  \n",
      " 4   Geography        10000 non-null  object \n",
      " 5   Gender           10000 non-null  object \n",
      " 6   Age              10000 non-null  int64  \n",
      " 7   Tenure           9091 non-null   float64\n",
      " 8   Balance          10000 non-null  float64\n",
      " 9   NumOfProducts    10000 non-null  int64  \n",
      " 10  HasCrCard        10000 non-null  int64  \n",
      " 11  IsActiveMember   10000 non-null  int64  \n",
      " 12  EstimatedSalary  10000 non-null  float64\n",
      " 13  Exited           10000 non-null  int64  \n",
      "dtypes: float64(3), int64(8), object(3)\n",
      "memory usage: 1.1+ MB\n"
     ]
    }
   ],
   "source": [
    "df.info()"
   ]
  },
  {
   "cell_type": "markdown",
   "metadata": {},
   "source": [
    "* В столбце Tenure не хватает около 1000 строк\n",
    "* 3 классовых столбца (object) остальные - числовые\n",
    "* Rownumber, CustomerId, Surname для модели использовать не будем, т.к. это уникальные значения, не являющиеся характиристиками заемщика.\n",
    "* Можно перевести столбец IsActiveMember в булевый формат"
   ]
  },
  {
   "cell_type": "code",
   "execution_count": 5,
   "metadata": {},
   "outputs": [],
   "source": [
    "df['IsActiveMember']=df['IsActiveMember'].astype('bool') #Изменим тип данных на булевый, чтобы меньше нагружать пк.\n",
    "df['Exited']=df['Exited'].astype('bool')\n",
    "df['HasCrCard']=df['HasCrCard'].astype('bool')"
   ]
  },
  {
   "cell_type": "code",
   "execution_count": 6,
   "metadata": {},
   "outputs": [
    {
     "data": {
      "text/html": [
       "<div>\n",
       "<style scoped>\n",
       "    .dataframe tbody tr th:only-of-type {\n",
       "        vertical-align: middle;\n",
       "    }\n",
       "\n",
       "    .dataframe tbody tr th {\n",
       "        vertical-align: top;\n",
       "    }\n",
       "\n",
       "    .dataframe thead th {\n",
       "        text-align: right;\n",
       "    }\n",
       "</style>\n",
       "<table border=\"1\" class=\"dataframe\">\n",
       "  <thead>\n",
       "    <tr style=\"text-align: right;\">\n",
       "      <th></th>\n",
       "      <th>RowNumber</th>\n",
       "      <th>CustomerId</th>\n",
       "      <th>Surname</th>\n",
       "      <th>CreditScore</th>\n",
       "      <th>Geography</th>\n",
       "      <th>Gender</th>\n",
       "      <th>Age</th>\n",
       "      <th>Tenure</th>\n",
       "      <th>Balance</th>\n",
       "      <th>NumOfProducts</th>\n",
       "      <th>HasCrCard</th>\n",
       "      <th>IsActiveMember</th>\n",
       "      <th>EstimatedSalary</th>\n",
       "      <th>Exited</th>\n",
       "    </tr>\n",
       "  </thead>\n",
       "  <tbody>\n",
       "    <tr>\n",
       "      <th>30</th>\n",
       "      <td>31</td>\n",
       "      <td>15589475</td>\n",
       "      <td>Azikiwe</td>\n",
       "      <td>591</td>\n",
       "      <td>Spain</td>\n",
       "      <td>Female</td>\n",
       "      <td>39</td>\n",
       "      <td>NaN</td>\n",
       "      <td>0.00</td>\n",
       "      <td>3</td>\n",
       "      <td>True</td>\n",
       "      <td>False</td>\n",
       "      <td>140469.38</td>\n",
       "      <td>True</td>\n",
       "    </tr>\n",
       "    <tr>\n",
       "      <th>48</th>\n",
       "      <td>49</td>\n",
       "      <td>15766205</td>\n",
       "      <td>Yin</td>\n",
       "      <td>550</td>\n",
       "      <td>Germany</td>\n",
       "      <td>Male</td>\n",
       "      <td>38</td>\n",
       "      <td>NaN</td>\n",
       "      <td>103391.38</td>\n",
       "      <td>1</td>\n",
       "      <td>False</td>\n",
       "      <td>True</td>\n",
       "      <td>90878.13</td>\n",
       "      <td>False</td>\n",
       "    </tr>\n",
       "    <tr>\n",
       "      <th>51</th>\n",
       "      <td>52</td>\n",
       "      <td>15768193</td>\n",
       "      <td>Trevisani</td>\n",
       "      <td>585</td>\n",
       "      <td>Germany</td>\n",
       "      <td>Male</td>\n",
       "      <td>36</td>\n",
       "      <td>NaN</td>\n",
       "      <td>146050.97</td>\n",
       "      <td>2</td>\n",
       "      <td>False</td>\n",
       "      <td>False</td>\n",
       "      <td>86424.57</td>\n",
       "      <td>False</td>\n",
       "    </tr>\n",
       "    <tr>\n",
       "      <th>53</th>\n",
       "      <td>54</td>\n",
       "      <td>15702298</td>\n",
       "      <td>Parkhill</td>\n",
       "      <td>655</td>\n",
       "      <td>Germany</td>\n",
       "      <td>Male</td>\n",
       "      <td>41</td>\n",
       "      <td>NaN</td>\n",
       "      <td>125561.97</td>\n",
       "      <td>1</td>\n",
       "      <td>False</td>\n",
       "      <td>False</td>\n",
       "      <td>164040.94</td>\n",
       "      <td>True</td>\n",
       "    </tr>\n",
       "    <tr>\n",
       "      <th>60</th>\n",
       "      <td>61</td>\n",
       "      <td>15651280</td>\n",
       "      <td>Hunter</td>\n",
       "      <td>742</td>\n",
       "      <td>Germany</td>\n",
       "      <td>Male</td>\n",
       "      <td>35</td>\n",
       "      <td>NaN</td>\n",
       "      <td>136857.00</td>\n",
       "      <td>1</td>\n",
       "      <td>False</td>\n",
       "      <td>False</td>\n",
       "      <td>84509.57</td>\n",
       "      <td>False</td>\n",
       "    </tr>\n",
       "    <tr>\n",
       "      <th>82</th>\n",
       "      <td>83</td>\n",
       "      <td>15641732</td>\n",
       "      <td>Mills</td>\n",
       "      <td>543</td>\n",
       "      <td>France</td>\n",
       "      <td>Female</td>\n",
       "      <td>36</td>\n",
       "      <td>NaN</td>\n",
       "      <td>0.00</td>\n",
       "      <td>2</td>\n",
       "      <td>False</td>\n",
       "      <td>False</td>\n",
       "      <td>26019.59</td>\n",
       "      <td>False</td>\n",
       "    </tr>\n",
       "    <tr>\n",
       "      <th>85</th>\n",
       "      <td>86</td>\n",
       "      <td>15805254</td>\n",
       "      <td>Ndukaku</td>\n",
       "      <td>652</td>\n",
       "      <td>Spain</td>\n",
       "      <td>Female</td>\n",
       "      <td>75</td>\n",
       "      <td>NaN</td>\n",
       "      <td>0.00</td>\n",
       "      <td>2</td>\n",
       "      <td>True</td>\n",
       "      <td>True</td>\n",
       "      <td>114675.75</td>\n",
       "      <td>False</td>\n",
       "    </tr>\n",
       "    <tr>\n",
       "      <th>94</th>\n",
       "      <td>95</td>\n",
       "      <td>15676966</td>\n",
       "      <td>Capon</td>\n",
       "      <td>730</td>\n",
       "      <td>Spain</td>\n",
       "      <td>Male</td>\n",
       "      <td>42</td>\n",
       "      <td>NaN</td>\n",
       "      <td>0.00</td>\n",
       "      <td>2</td>\n",
       "      <td>False</td>\n",
       "      <td>True</td>\n",
       "      <td>85982.47</td>\n",
       "      <td>False</td>\n",
       "    </tr>\n",
       "    <tr>\n",
       "      <th>99</th>\n",
       "      <td>100</td>\n",
       "      <td>15633059</td>\n",
       "      <td>Fanucci</td>\n",
       "      <td>413</td>\n",
       "      <td>France</td>\n",
       "      <td>Male</td>\n",
       "      <td>34</td>\n",
       "      <td>NaN</td>\n",
       "      <td>0.00</td>\n",
       "      <td>2</td>\n",
       "      <td>False</td>\n",
       "      <td>False</td>\n",
       "      <td>6534.18</td>\n",
       "      <td>False</td>\n",
       "    </tr>\n",
       "    <tr>\n",
       "      <th>111</th>\n",
       "      <td>112</td>\n",
       "      <td>15665790</td>\n",
       "      <td>Rowntree</td>\n",
       "      <td>538</td>\n",
       "      <td>Germany</td>\n",
       "      <td>Male</td>\n",
       "      <td>39</td>\n",
       "      <td>NaN</td>\n",
       "      <td>108055.10</td>\n",
       "      <td>2</td>\n",
       "      <td>True</td>\n",
       "      <td>False</td>\n",
       "      <td>27231.26</td>\n",
       "      <td>False</td>\n",
       "    </tr>\n",
       "  </tbody>\n",
       "</table>\n",
       "</div>"
      ],
      "text/plain": [
       "     RowNumber  CustomerId    Surname  CreditScore Geography  Gender  Age  \\\n",
       "30          31    15589475    Azikiwe          591     Spain  Female   39   \n",
       "48          49    15766205        Yin          550   Germany    Male   38   \n",
       "51          52    15768193  Trevisani          585   Germany    Male   36   \n",
       "53          54    15702298   Parkhill          655   Germany    Male   41   \n",
       "60          61    15651280     Hunter          742   Germany    Male   35   \n",
       "82          83    15641732      Mills          543    France  Female   36   \n",
       "85          86    15805254    Ndukaku          652     Spain  Female   75   \n",
       "94          95    15676966      Capon          730     Spain    Male   42   \n",
       "99         100    15633059    Fanucci          413    France    Male   34   \n",
       "111        112    15665790   Rowntree          538   Germany    Male   39   \n",
       "\n",
       "     Tenure    Balance  NumOfProducts  HasCrCard  IsActiveMember  \\\n",
       "30      NaN       0.00              3       True           False   \n",
       "48      NaN  103391.38              1      False            True   \n",
       "51      NaN  146050.97              2      False           False   \n",
       "53      NaN  125561.97              1      False           False   \n",
       "60      NaN  136857.00              1      False           False   \n",
       "82      NaN       0.00              2      False           False   \n",
       "85      NaN       0.00              2       True            True   \n",
       "94      NaN       0.00              2      False            True   \n",
       "99      NaN       0.00              2      False           False   \n",
       "111     NaN  108055.10              2       True           False   \n",
       "\n",
       "     EstimatedSalary  Exited  \n",
       "30         140469.38    True  \n",
       "48          90878.13   False  \n",
       "51          86424.57   False  \n",
       "53         164040.94    True  \n",
       "60          84509.57   False  \n",
       "82          26019.59   False  \n",
       "85         114675.75   False  \n",
       "94          85982.47   False  \n",
       "99           6534.18   False  \n",
       "111         27231.26   False  "
      ]
     },
     "execution_count": 6,
     "metadata": {},
     "output_type": "execute_result"
    }
   ],
   "source": [
    "df[df['Tenure'].isna()].head(10) #Есть смысл посмотреть другие столбцы, где Tenure = NA"
   ]
  },
  {
   "cell_type": "markdown",
   "metadata": {},
   "source": [
    "Какой-либо закономерностей я тут не увидел. Поэтому построим гистограмму столбца Tenure"
   ]
  },
  {
   "cell_type": "code",
   "execution_count": 7,
   "metadata": {},
   "outputs": [
    {
     "data": {
      "image/png": "[encoded data removed]",
      "text/plain": [
       "<Figure size 640x480 with 1 Axes>"
      ]
     },
     "metadata": {},
     "output_type": "display_data"
    }
   ],
   "source": [
    "df['Tenure'].hist(bins = 10)\n",
    "plt.title('Гистограмма срока в течение которого человек является клиентом банка')\n",
    "plt.show()"
   ]
  },
  {
   "cell_type": "markdown",
   "metadata": {},
   "source": [
    "Люди распределены довольно равномерно, чуть меньше людей только начали пользоваться банком и больше людей, которые уже 10 лет являются его клиентами.\n",
    "Для начала заполним пропуски медианой, если этот способ не даст достаточной точности при построении модели, можно исопльзовать и другие варианты."
   ]
  },
  {
   "cell_type": "code",
   "execution_count": 8,
   "metadata": {},
   "outputs": [],
   "source": [
    "df['Tenure'] = df['Tenure'].fillna(df['Tenure'].median())"
   ]
  },
  {
   "cell_type": "code",
   "execution_count": 9,
   "metadata": {},
   "outputs": [
    {
     "data": {
      "text/html": [
       "<div>\n",
       "<style scoped>\n",
       "    .dataframe tbody tr th:only-of-type {\n",
       "        vertical-align: middle;\n",
       "    }\n",
       "\n",
       "    .dataframe tbody tr th {\n",
       "        vertical-align: top;\n",
       "    }\n",
       "\n",
       "    .dataframe thead th {\n",
       "        text-align: right;\n",
       "    }\n",
       "</style>\n",
       "<table border=\"1\" class=\"dataframe\">\n",
       "  <thead>\n",
       "    <tr style=\"text-align: right;\">\n",
       "      <th></th>\n",
       "      <th>RowNumber</th>\n",
       "      <th>CustomerId</th>\n",
       "      <th>Surname</th>\n",
       "      <th>CreditScore</th>\n",
       "      <th>Geography</th>\n",
       "      <th>Gender</th>\n",
       "      <th>Age</th>\n",
       "      <th>Tenure</th>\n",
       "      <th>Balance</th>\n",
       "      <th>NumOfProducts</th>\n",
       "      <th>HasCrCard</th>\n",
       "      <th>IsActiveMember</th>\n",
       "      <th>EstimatedSalary</th>\n",
       "      <th>Exited</th>\n",
       "    </tr>\n",
       "  </thead>\n",
       "  <tbody>\n",
       "    <tr>\n",
       "      <th>count</th>\n",
       "      <td>10000.00000</td>\n",
       "      <td>1.000000e+04</td>\n",
       "      <td>10000</td>\n",
       "      <td>10000.000000</td>\n",
       "      <td>10000</td>\n",
       "      <td>10000</td>\n",
       "      <td>10000.000000</td>\n",
       "      <td>10000.00000</td>\n",
       "      <td>10000.000000</td>\n",
       "      <td>10000.000000</td>\n",
       "      <td>10000</td>\n",
       "      <td>10000</td>\n",
       "      <td>10000.000000</td>\n",
       "      <td>10000</td>\n",
       "    </tr>\n",
       "    <tr>\n",
       "      <th>unique</th>\n",
       "      <td>NaN</td>\n",
       "      <td>NaN</td>\n",
       "      <td>2932</td>\n",
       "      <td>NaN</td>\n",
       "      <td>3</td>\n",
       "      <td>2</td>\n",
       "      <td>NaN</td>\n",
       "      <td>NaN</td>\n",
       "      <td>NaN</td>\n",
       "      <td>NaN</td>\n",
       "      <td>2</td>\n",
       "      <td>2</td>\n",
       "      <td>NaN</td>\n",
       "      <td>2</td>\n",
       "    </tr>\n",
       "    <tr>\n",
       "      <th>top</th>\n",
       "      <td>NaN</td>\n",
       "      <td>NaN</td>\n",
       "      <td>Smith</td>\n",
       "      <td>NaN</td>\n",
       "      <td>France</td>\n",
       "      <td>Male</td>\n",
       "      <td>NaN</td>\n",
       "      <td>NaN</td>\n",
       "      <td>NaN</td>\n",
       "      <td>NaN</td>\n",
       "      <td>True</td>\n",
       "      <td>True</td>\n",
       "      <td>NaN</td>\n",
       "      <td>False</td>\n",
       "    </tr>\n",
       "    <tr>\n",
       "      <th>freq</th>\n",
       "      <td>NaN</td>\n",
       "      <td>NaN</td>\n",
       "      <td>32</td>\n",
       "      <td>NaN</td>\n",
       "      <td>5014</td>\n",
       "      <td>5457</td>\n",
       "      <td>NaN</td>\n",
       "      <td>NaN</td>\n",
       "      <td>NaN</td>\n",
       "      <td>NaN</td>\n",
       "      <td>7055</td>\n",
       "      <td>5151</td>\n",
       "      <td>NaN</td>\n",
       "      <td>7963</td>\n",
       "    </tr>\n",
       "    <tr>\n",
       "      <th>mean</th>\n",
       "      <td>5000.50000</td>\n",
       "      <td>1.569094e+07</td>\n",
       "      <td>NaN</td>\n",
       "      <td>650.528800</td>\n",
       "      <td>NaN</td>\n",
       "      <td>NaN</td>\n",
       "      <td>38.921800</td>\n",
       "      <td>4.99790</td>\n",
       "      <td>76485.889288</td>\n",
       "      <td>1.530200</td>\n",
       "      <td>NaN</td>\n",
       "      <td>NaN</td>\n",
       "      <td>100090.239881</td>\n",
       "      <td>NaN</td>\n",
       "    </tr>\n",
       "    <tr>\n",
       "      <th>std</th>\n",
       "      <td>2886.89568</td>\n",
       "      <td>7.193619e+04</td>\n",
       "      <td>NaN</td>\n",
       "      <td>96.653299</td>\n",
       "      <td>NaN</td>\n",
       "      <td>NaN</td>\n",
       "      <td>10.487806</td>\n",
       "      <td>2.76001</td>\n",
       "      <td>62397.405202</td>\n",
       "      <td>0.581654</td>\n",
       "      <td>NaN</td>\n",
       "      <td>NaN</td>\n",
       "      <td>57510.492818</td>\n",
       "      <td>NaN</td>\n",
       "    </tr>\n",
       "    <tr>\n",
       "      <th>min</th>\n",
       "      <td>1.00000</td>\n",
       "      <td>1.556570e+07</td>\n",
       "      <td>NaN</td>\n",
       "      <td>350.000000</td>\n",
       "      <td>NaN</td>\n",
       "      <td>NaN</td>\n",
       "      <td>18.000000</td>\n",
       "      <td>0.00000</td>\n",
       "      <td>0.000000</td>\n",
       "      <td>1.000000</td>\n",
       "      <td>NaN</td>\n",
       "      <td>NaN</td>\n",
       "      <td>11.580000</td>\n",
       "      <td>NaN</td>\n",
       "    </tr>\n",
       "    <tr>\n",
       "      <th>25%</th>\n",
       "      <td>2500.75000</td>\n",
       "      <td>1.562853e+07</td>\n",
       "      <td>NaN</td>\n",
       "      <td>584.000000</td>\n",
       "      <td>NaN</td>\n",
       "      <td>NaN</td>\n",
       "      <td>32.000000</td>\n",
       "      <td>3.00000</td>\n",
       "      <td>0.000000</td>\n",
       "      <td>1.000000</td>\n",
       "      <td>NaN</td>\n",
       "      <td>NaN</td>\n",
       "      <td>51002.110000</td>\n",
       "      <td>NaN</td>\n",
       "    </tr>\n",
       "    <tr>\n",
       "      <th>50%</th>\n",
       "      <td>5000.50000</td>\n",
       "      <td>1.569074e+07</td>\n",
       "      <td>NaN</td>\n",
       "      <td>652.000000</td>\n",
       "      <td>NaN</td>\n",
       "      <td>NaN</td>\n",
       "      <td>37.000000</td>\n",
       "      <td>5.00000</td>\n",
       "      <td>97198.540000</td>\n",
       "      <td>1.000000</td>\n",
       "      <td>NaN</td>\n",
       "      <td>NaN</td>\n",
       "      <td>100193.915000</td>\n",
       "      <td>NaN</td>\n",
       "    </tr>\n",
       "    <tr>\n",
       "      <th>75%</th>\n",
       "      <td>7500.25000</td>\n",
       "      <td>1.575323e+07</td>\n",
       "      <td>NaN</td>\n",
       "      <td>718.000000</td>\n",
       "      <td>NaN</td>\n",
       "      <td>NaN</td>\n",
       "      <td>44.000000</td>\n",
       "      <td>7.00000</td>\n",
       "      <td>127644.240000</td>\n",
       "      <td>2.000000</td>\n",
       "      <td>NaN</td>\n",
       "      <td>NaN</td>\n",
       "      <td>149388.247500</td>\n",
       "      <td>NaN</td>\n",
       "    </tr>\n",
       "    <tr>\n",
       "      <th>max</th>\n",
       "      <td>10000.00000</td>\n",
       "      <td>1.581569e+07</td>\n",
       "      <td>NaN</td>\n",
       "      <td>850.000000</td>\n",
       "      <td>NaN</td>\n",
       "      <td>NaN</td>\n",
       "      <td>92.000000</td>\n",
       "      <td>10.00000</td>\n",
       "      <td>250898.090000</td>\n",
       "      <td>4.000000</td>\n",
       "      <td>NaN</td>\n",
       "      <td>NaN</td>\n",
       "      <td>199992.480000</td>\n",
       "      <td>NaN</td>\n",
       "    </tr>\n",
       "  </tbody>\n",
       "</table>\n",
       "</div>"
      ],
      "text/plain": [
       "          RowNumber    CustomerId Surname   CreditScore Geography Gender  \\\n",
       "count   10000.00000  1.000000e+04   10000  10000.000000     10000  10000   \n",
       "unique          NaN           NaN    2932           NaN         3      2   \n",
       "top             NaN           NaN   Smith           NaN    France   Male   \n",
       "freq            NaN           NaN      32           NaN      5014   5457   \n",
       "mean     5000.50000  1.569094e+07     NaN    650.528800       NaN    NaN   \n",
       "std      2886.89568  7.193619e+04     NaN     96.653299       NaN    NaN   \n",
       "min         1.00000  1.556570e+07     NaN    350.000000       NaN    NaN   \n",
       "25%      2500.75000  1.562853e+07     NaN    584.000000       NaN    NaN   \n",
       "50%      5000.50000  1.569074e+07     NaN    652.000000       NaN    NaN   \n",
       "75%      7500.25000  1.575323e+07     NaN    718.000000       NaN    NaN   \n",
       "max     10000.00000  1.581569e+07     NaN    850.000000       NaN    NaN   \n",
       "\n",
       "                 Age       Tenure        Balance  NumOfProducts HasCrCard  \\\n",
       "count   10000.000000  10000.00000   10000.000000   10000.000000     10000   \n",
       "unique           NaN          NaN            NaN            NaN         2   \n",
       "top              NaN          NaN            NaN            NaN      True   \n",
       "freq             NaN          NaN            NaN            NaN      7055   \n",
       "mean       38.921800      4.99790   76485.889288       1.530200       NaN   \n",
       "std        10.487806      2.76001   62397.405202       0.581654       NaN   \n",
       "min        18.000000      0.00000       0.000000       1.000000       NaN   \n",
       "25%        32.000000      3.00000       0.000000       1.000000       NaN   \n",
       "50%        37.000000      5.00000   97198.540000       1.000000       NaN   \n",
       "75%        44.000000      7.00000  127644.240000       2.000000       NaN   \n",
       "max        92.000000     10.00000  250898.090000       4.000000       NaN   \n",
       "\n",
       "       IsActiveMember  EstimatedSalary Exited  \n",
       "count           10000     10000.000000  10000  \n",
       "unique              2              NaN      2  \n",
       "top              True              NaN  False  \n",
       "freq             5151              NaN   7963  \n",
       "mean              NaN    100090.239881    NaN  \n",
       "std               NaN     57510.492818    NaN  \n",
       "min               NaN        11.580000    NaN  \n",
       "25%               NaN     51002.110000    NaN  \n",
       "50%               NaN    100193.915000    NaN  \n",
       "75%               NaN    149388.247500    NaN  \n",
       "max               NaN    199992.480000    NaN  "
      ]
     },
     "execution_count": 9,
     "metadata": {},
     "output_type": "execute_result"
    }
   ],
   "source": [
    "df.describe(include='all')"
   ]
  },
  {
   "cell_type": "markdown",
   "metadata": {},
   "source": [
    "* Первые 2 столбца нас не интересуют. Т.к. это идентификаторы, не содержащие полезной информации для модели.\n",
    "* CreditScore потребует масштабирования как и другие числовые столбцы\n",
    "* Явных аномалий на данной стадии не выявлено\n"
   ]
  },
  {
   "cell_type": "code",
   "execution_count": 10,
   "metadata": {},
   "outputs": [
    {
     "data": {
      "text/plain": [
       "0"
      ]
     },
     "execution_count": 10,
     "metadata": {},
     "output_type": "execute_result"
    }
   ],
   "source": [
    "df.duplicated().sum()"
   ]
  },
  {
   "cell_type": "markdown",
   "metadata": {},
   "source": [
    "* Явных дубликатов нет"
   ]
  },
  {
   "cell_type": "markdown",
   "metadata": {},
   "source": [
    "### Подготовка данных для моделей"
   ]
  },
  {
   "cell_type": "code",
   "execution_count": 11,
   "metadata": {},
   "outputs": [
    {
     "name": "stdout",
     "output_type": "stream",
     "text": [
      "Размеры полученных выборок:\n",
      "Тренировочная:  (8000, 11) (8000,)\n",
      "Валидационная:  (1000, 11) (1000,)\n",
      "Тестовая:  (1000, 11) (1000,)\n"
     ]
    }
   ],
   "source": [
    "df_ml = df.drop(['RowNumber','CustomerId','Surname'],axis = 1) #Удаляем прядковые столбцы, которые не нужны в модели\n",
    "df_ml = pd.get_dummies(df_ml, drop_first=True) #Преобразуем категориальные данные методом Ohe\n",
    "features = df_ml.drop(['Exited'],axis=1)\n",
    "target = df_ml['Exited']\n",
    "X_train, y_train, X_valid, y_valid, X_test, y_test = train_valid_test_split(\n",
    "    df_ml, target = 'Exited', train_size=0.8, valid_size=0.1, test_size=0.1)#Разделим данные на 3 группы в соотношении 80-10-10\n",
    "print ('Размеры полученных выборок:')\n",
    "print(\"Тренировочная: \", X_train.shape,y_train.shape)\n",
    "print(\"Валидационная: \",X_valid.shape,y_valid.shape)\n",
    "print(\"Тестовая: \",X_test.shape,y_test.shape)"
   ]
  },
  {
   "cell_type": "code",
   "execution_count": 12,
   "metadata": {},
   "outputs": [
    {
     "data": {
      "text/html": [
       "<div>\n",
       "<style scoped>\n",
       "    .dataframe tbody tr th:only-of-type {\n",
       "        vertical-align: middle;\n",
       "    }\n",
       "\n",
       "    .dataframe tbody tr th {\n",
       "        vertical-align: top;\n",
       "    }\n",
       "\n",
       "    .dataframe thead th {\n",
       "        text-align: right;\n",
       "    }\n",
       "</style>\n",
       "<table border=\"1\" class=\"dataframe\">\n",
       "  <thead>\n",
       "    <tr style=\"text-align: right;\">\n",
       "      <th></th>\n",
       "      <th>CreditScore</th>\n",
       "      <th>Age</th>\n",
       "      <th>Tenure</th>\n",
       "      <th>Balance</th>\n",
       "      <th>NumOfProducts</th>\n",
       "      <th>HasCrCard</th>\n",
       "      <th>IsActiveMember</th>\n",
       "      <th>EstimatedSalary</th>\n",
       "      <th>Geography_Germany</th>\n",
       "      <th>Geography_Spain</th>\n",
       "      <th>Gender_Male</th>\n",
       "    </tr>\n",
       "  </thead>\n",
       "  <tbody>\n",
       "    <tr>\n",
       "      <th>1656</th>\n",
       "      <td>581</td>\n",
       "      <td>31</td>\n",
       "      <td>6.0</td>\n",
       "      <td>116891.72</td>\n",
       "      <td>1</td>\n",
       "      <td>True</td>\n",
       "      <td>False</td>\n",
       "      <td>107137.30</td>\n",
       "      <td>1</td>\n",
       "      <td>0</td>\n",
       "      <td>1</td>\n",
       "    </tr>\n",
       "    <tr>\n",
       "      <th>3855</th>\n",
       "      <td>708</td>\n",
       "      <td>32</td>\n",
       "      <td>3.0</td>\n",
       "      <td>151691.44</td>\n",
       "      <td>2</td>\n",
       "      <td>True</td>\n",
       "      <td>True</td>\n",
       "      <td>172810.51</td>\n",
       "      <td>1</td>\n",
       "      <td>0</td>\n",
       "      <td>1</td>\n",
       "    </tr>\n",
       "    <tr>\n",
       "      <th>6581</th>\n",
       "      <td>576</td>\n",
       "      <td>71</td>\n",
       "      <td>6.0</td>\n",
       "      <td>140273.47</td>\n",
       "      <td>1</td>\n",
       "      <td>True</td>\n",
       "      <td>True</td>\n",
       "      <td>193135.25</td>\n",
       "      <td>1</td>\n",
       "      <td>0</td>\n",
       "      <td>0</td>\n",
       "    </tr>\n",
       "    <tr>\n",
       "      <th>1801</th>\n",
       "      <td>452</td>\n",
       "      <td>30</td>\n",
       "      <td>7.0</td>\n",
       "      <td>112935.87</td>\n",
       "      <td>1</td>\n",
       "      <td>True</td>\n",
       "      <td>True</td>\n",
       "      <td>99017.34</td>\n",
       "      <td>0</td>\n",
       "      <td>0</td>\n",
       "      <td>1</td>\n",
       "    </tr>\n",
       "    <tr>\n",
       "      <th>7566</th>\n",
       "      <td>574</td>\n",
       "      <td>36</td>\n",
       "      <td>4.0</td>\n",
       "      <td>77967.50</td>\n",
       "      <td>1</td>\n",
       "      <td>True</td>\n",
       "      <td>False</td>\n",
       "      <td>167066.95</td>\n",
       "      <td>0</td>\n",
       "      <td>1</td>\n",
       "      <td>1</td>\n",
       "    </tr>\n",
       "  </tbody>\n",
       "</table>\n",
       "</div>"
      ],
      "text/plain": [
       "      CreditScore  Age  Tenure    Balance  NumOfProducts  HasCrCard  \\\n",
       "1656          581   31     6.0  116891.72              1       True   \n",
       "3855          708   32     3.0  151691.44              2       True   \n",
       "6581          576   71     6.0  140273.47              1       True   \n",
       "1801          452   30     7.0  112935.87              1       True   \n",
       "7566          574   36     4.0   77967.50              1       True   \n",
       "\n",
       "      IsActiveMember  EstimatedSalary  Geography_Germany  Geography_Spain  \\\n",
       "1656           False        107137.30                  1                0   \n",
       "3855            True        172810.51                  1                0   \n",
       "6581            True        193135.25                  1                0   \n",
       "1801            True         99017.34                  0                0   \n",
       "7566           False        167066.95                  0                1   \n",
       "\n",
       "      Gender_Male  \n",
       "1656            1  \n",
       "3855            1  \n",
       "6581            0  \n",
       "1801            1  \n",
       "7566            1  "
      ]
     },
     "execution_count": 12,
     "metadata": {},
     "output_type": "execute_result"
    }
   ],
   "source": [
    "X_train.head()"
   ]
  },
  {
   "cell_type": "code",
   "execution_count": 13,
   "metadata": {},
   "outputs": [
    {
     "data": {
      "text/html": [
       "<div>\n",
       "<style scoped>\n",
       "    .dataframe tbody tr th:only-of-type {\n",
       "        vertical-align: middle;\n",
       "    }\n",
       "\n",
       "    .dataframe tbody tr th {\n",
       "        vertical-align: top;\n",
       "    }\n",
       "\n",
       "    .dataframe thead th {\n",
       "        text-align: right;\n",
       "    }\n",
       "</style>\n",
       "<table border=\"1\" class=\"dataframe\">\n",
       "  <thead>\n",
       "    <tr style=\"text-align: right;\">\n",
       "      <th></th>\n",
       "      <th>CreditScore</th>\n",
       "      <th>Age</th>\n",
       "      <th>Tenure</th>\n",
       "      <th>Balance</th>\n",
       "      <th>NumOfProducts</th>\n",
       "      <th>HasCrCard</th>\n",
       "      <th>IsActiveMember</th>\n",
       "      <th>EstimatedSalary</th>\n",
       "      <th>Geography_Germany</th>\n",
       "      <th>Geography_Spain</th>\n",
       "      <th>Gender_Male</th>\n",
       "    </tr>\n",
       "  </thead>\n",
       "  <tbody>\n",
       "    <tr>\n",
       "      <th>1656</th>\n",
       "      <td>-0.721784</td>\n",
       "      <td>-0.760731</td>\n",
       "      <td>0.373611</td>\n",
       "      <td>0.645264</td>\n",
       "      <td>-0.911383</td>\n",
       "      <td>True</td>\n",
       "      <td>False</td>\n",
       "      <td>0.134136</td>\n",
       "      <td>1</td>\n",
       "      <td>0</td>\n",
       "      <td>1</td>\n",
       "    </tr>\n",
       "    <tr>\n",
       "      <th>3855</th>\n",
       "      <td>0.592090</td>\n",
       "      <td>-0.665521</td>\n",
       "      <td>-0.714311</td>\n",
       "      <td>1.203296</td>\n",
       "      <td>0.806587</td>\n",
       "      <td>True</td>\n",
       "      <td>True</td>\n",
       "      <td>1.279495</td>\n",
       "      <td>1</td>\n",
       "      <td>0</td>\n",
       "      <td>1</td>\n",
       "    </tr>\n",
       "    <tr>\n",
       "      <th>6581</th>\n",
       "      <td>-0.773511</td>\n",
       "      <td>3.047685</td>\n",
       "      <td>0.373611</td>\n",
       "      <td>1.020203</td>\n",
       "      <td>-0.911383</td>\n",
       "      <td>True</td>\n",
       "      <td>True</td>\n",
       "      <td>1.633964</td>\n",
       "      <td>1</td>\n",
       "      <td>0</td>\n",
       "      <td>0</td>\n",
       "    </tr>\n",
       "    <tr>\n",
       "      <th>1801</th>\n",
       "      <td>-2.056349</td>\n",
       "      <td>-0.855941</td>\n",
       "      <td>0.736251</td>\n",
       "      <td>0.581830</td>\n",
       "      <td>-0.911383</td>\n",
       "      <td>True</td>\n",
       "      <td>True</td>\n",
       "      <td>-0.007479</td>\n",
       "      <td>0</td>\n",
       "      <td>0</td>\n",
       "      <td>1</td>\n",
       "    </tr>\n",
       "    <tr>\n",
       "      <th>7566</th>\n",
       "      <td>-0.794202</td>\n",
       "      <td>-0.284679</td>\n",
       "      <td>-0.351671</td>\n",
       "      <td>0.021093</td>\n",
       "      <td>-0.911383</td>\n",
       "      <td>True</td>\n",
       "      <td>False</td>\n",
       "      <td>1.179326</td>\n",
       "      <td>0</td>\n",
       "      <td>1</td>\n",
       "      <td>1</td>\n",
       "    </tr>\n",
       "  </tbody>\n",
       "</table>\n",
       "</div>"
      ],
      "text/plain": [
       "      CreditScore       Age    Tenure   Balance  NumOfProducts  HasCrCard  \\\n",
       "1656    -0.721784 -0.760731  0.373611  0.645264      -0.911383       True   \n",
       "3855     0.592090 -0.665521 -0.714311  1.203296       0.806587       True   \n",
       "6581    -0.773511  3.047685  0.373611  1.020203      -0.911383       True   \n",
       "1801    -2.056349 -0.855941  0.736251  0.581830      -0.911383       True   \n",
       "7566    -0.794202 -0.284679 -0.351671  0.021093      -0.911383       True   \n",
       "\n",
       "      IsActiveMember  EstimatedSalary  Geography_Germany  Geography_Spain  \\\n",
       "1656           False         0.134136                  1                0   \n",
       "3855            True         1.279495                  1                0   \n",
       "6581            True         1.633964                  1                0   \n",
       "1801            True        -0.007479                  0                0   \n",
       "7566           False         1.179326                  0                1   \n",
       "\n",
       "      Gender_Male  \n",
       "1656            1  \n",
       "3855            1  \n",
       "6581            0  \n",
       "1801            1  \n",
       "7566            1  "
      ]
     },
     "execution_count": 13,
     "metadata": {},
     "output_type": "execute_result"
    }
   ],
   "source": [
    "#Отберем числовые поля\n",
    "numeric = ['CreditScore','Age', 'Tenure', 'Balance', 'NumOfProducts', 'EstimatedSalary']\n",
    "scaler = StandardScaler()\n",
    "scaler.fit(X_train[numeric])\n",
    "X_train[numeric] = scaler.transform(X_train[numeric])\n",
    "X_valid[numeric] = scaler.transform(X_valid[numeric])\n",
    "X_test[numeric] = scaler.transform(X_test[numeric])\n",
    "X_train.head(5)"
   ]
  },
  {
   "cell_type": "code",
   "execution_count": 14,
   "metadata": {},
   "outputs": [
    {
     "data": {
      "text/plain": [
       "False    0.795375\n",
       "True     0.204625\n",
       "Name: Exited, dtype: float64"
      ]
     },
     "execution_count": 14,
     "metadata": {},
     "output_type": "execute_result"
    }
   ],
   "source": [
    "y_train.value_counts(normalize=True)"
   ]
  },
  {
   "cell_type": "markdown",
   "metadata": {},
   "source": [
    "Наблюдается дисбаланс, необходимо увеличить количество положительных данных, используя технику upsampling\n",
    "Доля положительных ответов составляет всего 20% значит модель чаще всего будет отвечать False, для тренировочной выборки есть смысл увеличить или уменьшить количество данных методами upsampling и downsampling"
   ]
  },
  {
   "cell_type": "code",
   "execution_count": 15,
   "metadata": {},
   "outputs": [],
   "source": [
    "def upsample(features, target, repeat):\n",
    "    features_zeros = features[target == False]\n",
    "    features_ones = features[target == True]\n",
    "    target_zeros = target[target == False]\n",
    "    target_ones = target[target == True]\n",
    "\n",
    "    features_upsampled = pd.concat([features_zeros] + [features_ones] * repeat)\n",
    "    target_upsampled = pd.concat([target_zeros] + [target_ones] * repeat)\n",
    "    \n",
    "    features_upsampled, target_upsampled = shuffle(features_upsampled, target_upsampled, random_state=12345)\n",
    "    return features_upsampled, target_upsampled\n",
    "X_upsampled, y_upsampled = upsample(X_train, y_train, 3)\n"
   ]
  },
  {
   "cell_type": "code",
   "execution_count": 16,
   "metadata": {},
   "outputs": [],
   "source": [
    "# Сразу сделаем функцию преобразования сособом downsampling\n",
    "def downsampling(features,target):\n",
    "    features_null=features[target==0]\n",
    "    features_one=features[target==1]\n",
    "    target_null=target[target==0]\n",
    "    target_one=target[target==1]\n",
    "    \n",
    "    features_downsampled=pd.concat([features_null.sample(frac=0.4,random_state=1234)]+[features_one])\n",
    "    target_downsampled=pd.concat([target_null.sample(frac=0.4,random_state=1234)]+[target_one])\n",
    "    \n",
    "    X_downsampled,y_downsampled=shuffle(features_downsampled,target_downsampled,random_state=1234)\n",
    "    return X_downsampled,y_downsampled\n",
    "X_downsampled, y_downsampled = downsampling(X_train, y_train)"
   ]
  },
  {
   "cell_type": "code",
   "execution_count": 17,
   "metadata": {},
   "outputs": [
    {
     "data": {
      "text/plain": [
       "False    0.564396\n",
       "True     0.435604\n",
       "Name: Exited, dtype: float64"
      ]
     },
     "execution_count": 17,
     "metadata": {},
     "output_type": "execute_result"
    }
   ],
   "source": [
    "y_upsampled.value_counts(normalize=True)"
   ]
  },
  {
   "cell_type": "markdown",
   "metadata": {},
   "source": [
    "### Модель случайный лес\n",
    "По заданию будем обучать модели на необработанных данных"
   ]
  },
  {
   "cell_type": "code",
   "execution_count": 18,
   "metadata": {},
   "outputs": [
    {
     "name": "stdout",
     "output_type": "stream",
     "text": [
      "Accuracy наилучшей модели на валидационной выборке: 0.5696594427244582 est = 40 depth = 11\n",
      "Модель \"Случайный лес: Метрики качества:\n"
     ]
    },
    {
     "data": {
      "text/html": [
       "<div>\n",
       "<style scoped>\n",
       "    .dataframe tbody tr th:only-of-type {\n",
       "        vertical-align: middle;\n",
       "    }\n",
       "\n",
       "    .dataframe tbody tr th {\n",
       "        vertical-align: top;\n",
       "    }\n",
       "\n",
       "    .dataframe thead th {\n",
       "        text-align: right;\n",
       "    }\n",
       "</style>\n",
       "<table border=\"1\" class=\"dataframe\">\n",
       "  <thead>\n",
       "    <tr style=\"text-align: right;\">\n",
       "      <th></th>\n",
       "      <th>0</th>\n",
       "      <th>1</th>\n",
       "    </tr>\n",
       "  </thead>\n",
       "  <tbody>\n",
       "    <tr>\n",
       "      <th>0</th>\n",
       "      <td>769</td>\n",
       "      <td>26</td>\n",
       "    </tr>\n",
       "    <tr>\n",
       "      <th>1</th>\n",
       "      <td>113</td>\n",
       "      <td>92</td>\n",
       "    </tr>\n",
       "  </tbody>\n",
       "</table>\n",
       "</div>"
      ],
      "text/plain": [
       "     0   1\n",
       "0  769  26\n",
       "1  113  92"
      ]
     },
     "metadata": {},
     "output_type": "display_data"
    },
    {
     "name": "stdout",
     "output_type": "stream",
     "text": [
      "Полнота 0.44878048780487806\n",
      "Точность 0.7796610169491526\n",
      "F1-мера 0.5696594427244582\n",
      "Мера Roc Auc 0.7080380426445774\n"
     ]
    }
   ],
   "source": [
    "best_result = 0\n",
    "best_est = 0\n",
    "\n",
    "for depth in range (1,13):\n",
    "    for est in range (40,55):\n",
    "        model_RF = RandomForestClassifier(random_state=12345, n_estimators=est, max_depth = depth)\n",
    "        model_RF.fit(X_train, y_train)\n",
    "        RF_prediction = model_RF.predict(X_valid)\n",
    "        result = f1_score(y_valid, RF_prediction)\n",
    "        if result > best_result:\n",
    "            best_est = est\n",
    "            best_result = result\n",
    "            best_model = model_RF\n",
    "            best_pred = RF_prediction\n",
    "            best_depth = depth\n",
    "print(\"Accuracy наилучшей модели на валидационной выборке:\", best_result,\"est =\", best_est, \"depth =\", best_depth)\n",
    "print ('Модель \"Случайный лес: Метрики качества:')\n",
    "display(pd.DataFrame(confusion_matrix(y_valid, best_pred)))\n",
    "print(\"Полнота\" , recall_score(y_valid, best_pred))\n",
    "print(\"Точность\", precision_score(y_valid, best_pred))\n",
    "print(\"F1-мера\", f1_score(y_valid, best_pred))\n",
    "print (\"Мера Roc Auc\", roc_auc_score(y_valid,best_pred))"
   ]
  },
  {
   "cell_type": "markdown",
   "metadata": {},
   "source": [
    "Апсемплинг позволил улучшить качество модели, посмотрим на остальные модели\n",
    "Мы сразу уложились в таргет, F1 > 60%"
   ]
  },
  {
   "cell_type": "markdown",
   "metadata": {},
   "source": [
    "### Модель \"Логическая регрессия\""
   ]
  },
  {
   "cell_type": "code",
   "execution_count": 19,
   "metadata": {},
   "outputs": [
    {
     "name": "stdout",
     "output_type": "stream",
     "text": [
      "Модель \"Логическая регрессия: Метрики качества:\n"
     ]
    },
    {
     "data": {
      "text/html": [
       "<div>\n",
       "<style scoped>\n",
       "    .dataframe tbody tr th:only-of-type {\n",
       "        vertical-align: middle;\n",
       "    }\n",
       "\n",
       "    .dataframe tbody tr th {\n",
       "        vertical-align: top;\n",
       "    }\n",
       "\n",
       "    .dataframe thead th {\n",
       "        text-align: right;\n",
       "    }\n",
       "</style>\n",
       "<table border=\"1\" class=\"dataframe\">\n",
       "  <thead>\n",
       "    <tr style=\"text-align: right;\">\n",
       "      <th></th>\n",
       "      <th>0</th>\n",
       "      <th>1</th>\n",
       "    </tr>\n",
       "  </thead>\n",
       "  <tbody>\n",
       "    <tr>\n",
       "      <th>0</th>\n",
       "      <td>588</td>\n",
       "      <td>207</td>\n",
       "    </tr>\n",
       "    <tr>\n",
       "      <th>1</th>\n",
       "      <td>67</td>\n",
       "      <td>138</td>\n",
       "    </tr>\n",
       "  </tbody>\n",
       "</table>\n",
       "</div>"
      ],
      "text/plain": [
       "     0    1\n",
       "0  588  207\n",
       "1   67  138"
      ]
     },
     "metadata": {},
     "output_type": "display_data"
    },
    {
     "name": "stdout",
     "output_type": "stream",
     "text": [
      "Полнота 0.6731707317073171\n",
      "Точность 0.4\n",
      "F1-мера 0.5018181818181818\n",
      "Мера Roc Auc 0.7063966866083756\n"
     ]
    }
   ],
   "source": [
    "model_LR = LogisticRegression(random_state=12345, solver='liblinear', max_iter=1000, class_weight='balanced') \n",
    "model_LR.fit(X_train, y_train)\n",
    "LR_prediction = model_LR.predict(X_valid)\n",
    "print ('Модель \"Логическая регрессия: Метрики качества:')\n",
    "display(pd.DataFrame(confusion_matrix(y_valid, LR_prediction)))\n",
    "print(\"Полнота\" , recall_score(y_valid, LR_prediction))\n",
    "print(\"Точность\", precision_score(y_valid, LR_prediction))\n",
    "print(\"F1-мера\", f1_score(y_valid, LR_prediction))\n",
    "print (\"Мера Roc Auc\", roc_auc_score(y_valid,LR_prediction))"
   ]
  },
  {
   "cell_type": "markdown",
   "metadata": {},
   "source": [
    "Очень слабый результат. Линейная модель дала бы лучше результат, чем регрессия\n"
   ]
  },
  {
   "cell_type": "markdown",
   "metadata": {},
   "source": [
    "### Модель \"Дерево решений\""
   ]
  },
  {
   "cell_type": "code",
   "execution_count": 20,
   "metadata": {},
   "outputs": [
    {
     "name": "stdout",
     "output_type": "stream",
     "text": [
      "Accuracy наилучшей модели на валидационной выборке: 0.5386064030131826 max_depth = 40\n",
      "Модель \"Дерево решений: Метрики качества:\n"
     ]
    },
    {
     "data": {
      "text/html": [
       "<div>\n",
       "<style scoped>\n",
       "    .dataframe tbody tr th:only-of-type {\n",
       "        vertical-align: middle;\n",
       "    }\n",
       "\n",
       "    .dataframe tbody tr th {\n",
       "        vertical-align: top;\n",
       "    }\n",
       "\n",
       "    .dataframe thead th {\n",
       "        text-align: right;\n",
       "    }\n",
       "</style>\n",
       "<table border=\"1\" class=\"dataframe\">\n",
       "  <thead>\n",
       "    <tr style=\"text-align: right;\">\n",
       "      <th></th>\n",
       "      <th>0</th>\n",
       "      <th>1</th>\n",
       "    </tr>\n",
       "  </thead>\n",
       "  <tbody>\n",
       "    <tr>\n",
       "      <th>0</th>\n",
       "      <td>612</td>\n",
       "      <td>183</td>\n",
       "    </tr>\n",
       "    <tr>\n",
       "      <th>1</th>\n",
       "      <td>62</td>\n",
       "      <td>143</td>\n",
       "    </tr>\n",
       "  </tbody>\n",
       "</table>\n",
       "</div>"
      ],
      "text/plain": [
       "     0    1\n",
       "0  612  183\n",
       "1   62  143"
      ]
     },
     "metadata": {},
     "output_type": "display_data"
    },
    {
     "name": "stdout",
     "output_type": "stream",
     "text": [
      "Полнота 0.697560975609756\n",
      "Точность 0.4386503067484663\n",
      "F1-мера 0.5386064030131826\n",
      "Мера Roc Auc 0.7080380426445774\n"
     ]
    }
   ],
   "source": [
    "best_result = 0\n",
    "best_depth = 0\n",
    "for depth in range (1,6):\n",
    "    model_DR = DecisionTreeClassifier(random_state=12345, max_depth=depth, class_weight='balanced')\n",
    "    model_DR.fit(X_train, y_train)\n",
    "    DF_prediction = model_DR.predict(X_valid)\n",
    "    result = f1_score(y_valid, DF_prediction)\n",
    "    if result > best_result:\n",
    "        best_depth = depth\n",
    "        best_result = result\n",
    "        best_model_DR = model_DR\n",
    "        best_pred_DR = DF_prediction\n",
    "print(\"Accuracy наилучшей модели на валидационной выборке:\", best_result,\"max_depth =\", best_est)\n",
    "print ('Модель \"Дерево решений: Метрики качества:')\n",
    "display(pd.DataFrame(confusion_matrix(y_valid, best_pred_DR)))\n",
    "print(\"Полнота\" , recall_score(y_valid, best_pred_DR))\n",
    "print(\"Точность\", precision_score(y_valid, best_pred_DR))\n",
    "print(\"F1-мера\", f1_score(y_valid, best_pred_DR))\n",
    "print (\"Мера Roc Auc\", roc_auc_score(y_valid,best_pred))"
   ]
  },
  {
   "cell_type": "markdown",
   "metadata": {},
   "source": [
    "Тоже низкий результат. Очень часто дает негативные предсказания, значение True.  \n",
    "По итогам этапа валидации оставляем модель случайного леса.\n",
    "Проверим его не тестовой выборке"
   ]
  },
  {
   "cell_type": "markdown",
   "metadata": {},
   "source": [
    "Выводы по итогам этапа валидации:\n",
    "* Лучший f1score мы получили в модели Дерево решений -0,58\n",
    "* Второе место - Логическая регрессия 0,45\n",
    "* Третье место - Логическая регрессия. \n",
    "* Также в регрессии мы применили способ сбалансированных классов, что позволило улучшить результат.\n"
   ]
  },
  {
   "cell_type": "markdown",
   "metadata": {},
   "source": [
    "### Теперь обучим модель на данных с учетом способа upsampling"
   ]
  },
  {
   "cell_type": "code",
   "execution_count": 21,
   "metadata": {},
   "outputs": [
    {
     "name": "stdout",
     "output_type": "stream",
     "text": [
      "Accuracy наилучшей модели на валидационной выборке: 0.5522682445759369 max_depth = 7\n",
      "Модель \"Дерево решений: Метрики качества:\n"
     ]
    },
    {
     "data": {
      "text/html": [
       "<div>\n",
       "<style scoped>\n",
       "    .dataframe tbody tr th:only-of-type {\n",
       "        vertical-align: middle;\n",
       "    }\n",
       "\n",
       "    .dataframe tbody tr th {\n",
       "        vertical-align: top;\n",
       "    }\n",
       "\n",
       "    .dataframe thead th {\n",
       "        text-align: right;\n",
       "    }\n",
       "</style>\n",
       "<table border=\"1\" class=\"dataframe\">\n",
       "  <thead>\n",
       "    <tr style=\"text-align: right;\">\n",
       "      <th></th>\n",
       "      <th>0</th>\n",
       "      <th>1</th>\n",
       "    </tr>\n",
       "  </thead>\n",
       "  <tbody>\n",
       "    <tr>\n",
       "      <th>0</th>\n",
       "      <td>633</td>\n",
       "      <td>162</td>\n",
       "    </tr>\n",
       "    <tr>\n",
       "      <th>1</th>\n",
       "      <td>65</td>\n",
       "      <td>140</td>\n",
       "    </tr>\n",
       "  </tbody>\n",
       "</table>\n",
       "</div>"
      ],
      "text/plain": [
       "     0    1\n",
       "0  633  162\n",
       "1   65  140"
      ]
     },
     "metadata": {},
     "output_type": "display_data"
    },
    {
     "name": "stdout",
     "output_type": "stream",
     "text": [
      "Полнота 0.6829268292682927\n",
      "Точность 0.46357615894039733\n",
      "F1-мера 0.5522682445759369\n",
      "roc_auc_score 0.7395766221813163\n"
     ]
    }
   ],
   "source": [
    "best_result = 0\n",
    "best_depth = 0\n",
    "for depth in range (3,11):\n",
    "    model_DR = DecisionTreeClassifier(random_state=12345, max_depth=depth, class_weight='balanced')\n",
    "    model_DR.fit(X_upsampled, y_upsampled)\n",
    "    DF_prediction = model_DR.predict(X_valid)\n",
    "    result = f1_score(y_valid, DF_prediction)\n",
    "    if result > best_result:\n",
    "        best_depth = depth\n",
    "        best_result = result\n",
    "        best_model_DR_up = model_DR\n",
    "        best_pred_DR = DF_prediction\n",
    "print(\"Accuracy наилучшей модели на валидационной выборке:\", best_result,\"max_depth =\", best_depth)\n",
    "print ('Модель \"Дерево решений: Метрики качества:')\n",
    "display(pd.DataFrame(confusion_matrix(y_valid, best_pred_DR)))\n",
    "print(\"Полнота\" , recall_score(y_valid, best_pred_DR))\n",
    "print(\"Точность\", precision_score(y_valid, best_pred_DR))\n",
    "print(\"F1-мера\", f1_score(y_valid, best_pred_DR))\n",
    "print(\"roc_auc_score\", roc_auc_score(y_valid, best_pred_DR))"
   ]
  },
  {
   "cell_type": "markdown",
   "metadata": {},
   "source": [
    "Отличный результат: нам удалось повысить полноту, т.е. мы нашли почти 70% верных данных. При этом попали в таргет по F1"
   ]
  },
  {
   "cell_type": "code",
   "execution_count": 22,
   "metadata": {},
   "outputs": [
    {
     "name": "stdout",
     "output_type": "stream",
     "text": [
      "Accuracy наилучшей модели на валидационной выборке: 0.6019417475728155 est = 42 depth = 9\n",
      "Модель \"Случайный лес: Метрики качества:\n"
     ]
    },
    {
     "data": {
      "text/html": [
       "<div>\n",
       "<style scoped>\n",
       "    .dataframe tbody tr th:only-of-type {\n",
       "        vertical-align: middle;\n",
       "    }\n",
       "\n",
       "    .dataframe tbody tr th {\n",
       "        vertical-align: top;\n",
       "    }\n",
       "\n",
       "    .dataframe thead th {\n",
       "        text-align: right;\n",
       "    }\n",
       "</style>\n",
       "<table border=\"1\" class=\"dataframe\">\n",
       "  <thead>\n",
       "    <tr style=\"text-align: right;\">\n",
       "      <th></th>\n",
       "      <th>0</th>\n",
       "      <th>1</th>\n",
       "    </tr>\n",
       "  </thead>\n",
       "  <tbody>\n",
       "    <tr>\n",
       "      <th>0</th>\n",
       "      <td>712</td>\n",
       "      <td>83</td>\n",
       "    </tr>\n",
       "    <tr>\n",
       "      <th>1</th>\n",
       "      <td>81</td>\n",
       "      <td>124</td>\n",
       "    </tr>\n",
       "  </tbody>\n",
       "</table>\n",
       "</div>"
      ],
      "text/plain": [
       "     0    1\n",
       "0  712   83\n",
       "1   81  124"
      ]
     },
     "metadata": {},
     "output_type": "display_data"
    },
    {
     "name": "stdout",
     "output_type": "stream",
     "text": [
      "Полнота 0.6048780487804878\n",
      "Точность 0.5990338164251208\n",
      "F1-мера 0.6019417475728155\n",
      "Мера Roc Auc 0.7502377665286087\n"
     ]
    }
   ],
   "source": [
    "best_result = 0\n",
    "best_est = 0\n",
    "\n",
    "for depth in range (1,13):\n",
    "    for est in range (40,55):\n",
    "        model_RF = RandomForestClassifier(random_state=12345, n_estimators=est, max_depth = depth)\n",
    "        model_RF.fit(X_upsampled, y_upsampled)\n",
    "        RF_prediction = model_RF.predict(X_valid)\n",
    "        result = f1_score(y_valid, RF_prediction)\n",
    "        if result > best_result:\n",
    "            best_est = est\n",
    "            best_result = result\n",
    "            best_model = model_RF\n",
    "            best_pred = RF_prediction\n",
    "            best_depth = depth\n",
    "print(\"Accuracy наилучшей модели на валидационной выборке:\", best_result,\"est =\", best_est, \"depth =\", best_depth)\n",
    "print ('Модель \"Случайный лес: Метрики качества:')\n",
    "display(pd.DataFrame(confusion_matrix(y_valid, best_pred)))\n",
    "print(\"Полнота\" , recall_score(y_valid, best_pred))\n",
    "print(\"Точность\", precision_score(y_valid, best_pred))\n",
    "print(\"F1-мера\", f1_score(y_valid, best_pred))\n",
    "print (\"Мера Roc Auc\", roc_auc_score(y_valid,best_pred))"
   ]
  },
  {
   "cell_type": "markdown",
   "metadata": {},
   "source": [
    "### Обучение с использованием способа downsampling"
   ]
  },
  {
   "cell_type": "code",
   "execution_count": 23,
   "metadata": {},
   "outputs": [
    {
     "name": "stdout",
     "output_type": "stream",
     "text": [
      "Accuracy наилучшей модели на валидационной выборке: 0.5689277899343546 max_depth = 42\n",
      "Модель \"Дерево решений: Метрики качества:\n"
     ]
    },
    {
     "data": {
      "text/html": [
       "<div>\n",
       "<style scoped>\n",
       "    .dataframe tbody tr th:only-of-type {\n",
       "        vertical-align: middle;\n",
       "    }\n",
       "\n",
       "    .dataframe tbody tr th {\n",
       "        vertical-align: top;\n",
       "    }\n",
       "\n",
       "    .dataframe thead th {\n",
       "        text-align: right;\n",
       "    }\n",
       "</style>\n",
       "<table border=\"1\" class=\"dataframe\">\n",
       "  <thead>\n",
       "    <tr style=\"text-align: right;\">\n",
       "      <th></th>\n",
       "      <th>0</th>\n",
       "      <th>1</th>\n",
       "    </tr>\n",
       "  </thead>\n",
       "  <tbody>\n",
       "    <tr>\n",
       "      <th>0</th>\n",
       "      <td>673</td>\n",
       "      <td>122</td>\n",
       "    </tr>\n",
       "    <tr>\n",
       "      <th>1</th>\n",
       "      <td>75</td>\n",
       "      <td>130</td>\n",
       "    </tr>\n",
       "  </tbody>\n",
       "</table>\n",
       "</div>"
      ],
      "text/plain": [
       "     0    1\n",
       "0  673  122\n",
       "1   75  130"
      ]
     },
     "metadata": {},
     "output_type": "display_data"
    },
    {
     "name": "stdout",
     "output_type": "stream",
     "text": [
      "Полнота 0.6341463414634146\n",
      "Точность 0.5158730158730159\n",
      "F1-мера 0.5689277899343546\n",
      "roc_auc_score 0.7403436109832797\n"
     ]
    }
   ],
   "source": [
    "best_result = 0\n",
    "best_depth = 0\n",
    "for depth in range (1,6):\n",
    "    model_DR = DecisionTreeClassifier(random_state=12345, max_depth=depth)\n",
    "    model_DR.fit(X_downsampled, y_downsampled)\n",
    "    DF_prediction = model_DR.predict(X_valid)\n",
    "    result = f1_score(y_valid, DF_prediction)\n",
    "    if result > best_result:\n",
    "        best_depth = depth\n",
    "        best_result = result\n",
    "        best_model_DR = model_DR\n",
    "        best_pred_DR = DF_prediction\n",
    "print(\"Accuracy наилучшей модели на валидационной выборке:\", best_result,\"max_depth =\", best_est)\n",
    "print ('Модель \"Дерево решений: Метрики качества:')\n",
    "display(pd.DataFrame(confusion_matrix(y_valid, best_pred_DR)))\n",
    "print(\"Полнота\" , recall_score(y_valid, best_pred_DR))\n",
    "print(\"Точность\", precision_score(y_valid, best_pred_DR))\n",
    "print(\"F1-мера\", f1_score(y_valid, best_pred_DR))\n",
    "print (\"roc_auc_score\", roc_auc_score(y_valid,best_pred_DR))"
   ]
  },
  {
   "cell_type": "markdown",
   "metadata": {},
   "source": [
    "Метод downsampling отработал хуже, поэтому остановимся на методе upsampling"
   ]
  },
  {
   "cell_type": "code",
   "execution_count": 24,
   "metadata": {},
   "outputs": [
    {
     "name": "stdout",
     "output_type": "stream",
     "text": [
      "Модель \"Случайный лес: Метрики качества на тестовой выборке:\n"
     ]
    },
    {
     "data": {
      "text/html": [
       "<div>\n",
       "<style scoped>\n",
       "    .dataframe tbody tr th:only-of-type {\n",
       "        vertical-align: middle;\n",
       "    }\n",
       "\n",
       "    .dataframe tbody tr th {\n",
       "        vertical-align: top;\n",
       "    }\n",
       "\n",
       "    .dataframe thead th {\n",
       "        text-align: right;\n",
       "    }\n",
       "</style>\n",
       "<table border=\"1\" class=\"dataframe\">\n",
       "  <thead>\n",
       "    <tr style=\"text-align: right;\">\n",
       "      <th></th>\n",
       "      <th>0</th>\n",
       "      <th>1</th>\n",
       "    </tr>\n",
       "  </thead>\n",
       "  <tbody>\n",
       "    <tr>\n",
       "      <th>0</th>\n",
       "      <td>723</td>\n",
       "      <td>82</td>\n",
       "    </tr>\n",
       "    <tr>\n",
       "      <th>1</th>\n",
       "      <td>75</td>\n",
       "      <td>120</td>\n",
       "    </tr>\n",
       "  </tbody>\n",
       "</table>\n",
       "</div>"
      ],
      "text/plain": [
       "     0    1\n",
       "0  723   82\n",
       "1   75  120"
      ]
     },
     "metadata": {},
     "output_type": "display_data"
    },
    {
     "name": "stdout",
     "output_type": "stream",
     "text": [
      "Полнота 0.6153846153846154\n",
      "Точность 0.594059405940594\n",
      "F1-мера 0.6045340050377833\n",
      "roc_auc_score 0.7567606306736742\n"
     ]
    }
   ],
   "source": [
    "best_pred_final = best_model.predict(X_test)\n",
    "print ('Модель \"Случайный лес: Метрики качества на тестовой выборке:')\n",
    "display(pd.DataFrame(confusion_matrix(y_test, best_pred_final)))\n",
    "print(\"Полнота\" , recall_score(y_test, best_pred_final))\n",
    "print(\"Точность\", precision_score(y_test, best_pred_final))\n",
    "print(\"F1-мера\", f1_score(y_test, best_pred_final))\n",
    "print (\"roc_auc_score\", roc_auc_score(y_test,best_pred_final))"
   ]
  },
  {
   "cell_type": "markdown",
   "metadata": {},
   "source": [
    "На тестовой выборке модель отработала хуже, но результат вполне удовлетворительный по точности и гораздо лучше константы"
   ]
  },
  {
   "cell_type": "code",
   "execution_count": 25,
   "metadata": {},
   "outputs": [],
   "source": [
    "probabilities_test = model_RF.predict_proba(X_test)\n",
    "probabilities_one_test = probabilities_test[:, 1]\n",
    "fpr, tpr, thresholds = roc_curve(y_test, probabilities_one_test)"
   ]
  },
  {
   "cell_type": "code",
   "execution_count": 26,
   "metadata": {},
   "outputs": [
    {
     "data": {
      "image/png": "[encoded data removed]",
      "text/plain": [
       "<Figure size 640x480 with 1 Axes>"
      ]
     },
     "metadata": {},
     "output_type": "display_data"
    },
    {
     "name": "stdout",
     "output_type": "stream",
     "text": [
      "Auc_roc для константы на тестовой выборке 0.5\n",
      "roc_auc_score для итоговой модели 0.7567606306736742\n"
     ]
    }
   ],
   "source": [
    "plt.figure()\n",
    "plt.plot([0, 1], [0, 1], linestyle='--')\n",
    "plt.plot(fpr, tpr)\n",
    "plt.xlim([0.0, 1.0])\n",
    "plt.ylim([0.0, 1.0])\n",
    "plt.xlabel('False Positive Rate')\n",
    "plt.ylabel('True Positive Rate')\n",
    "plt.title('ROC-кривая')\n",
    "plt.show()\n",
    "target_allzero_predicion_constant = pd.Series(0, index=y_test.index)\n",
    "auc_roc_reg=roc_auc_score(y_test,target_allzero_predicion_constant)\n",
    "print (\"Auc_roc для константы на тестовой выборке\",auc_roc_reg)\n",
    "print (\"roc_auc_score для итоговой модели\", roc_auc_score(y_test,best_pred_final))\n"
   ]
  },
  {
   "cell_type": "markdown",
   "metadata": {},
   "source": [
    "Отлично, мы видим, что наша модель работает гораздо лучше, а ее качественные показатели попали в таргет."
   ]
  },
  {
   "cell_type": "markdown",
   "metadata": {},
   "source": [
    "### Выводы"
   ]
  },
  {
   "cell_type": "markdown",
   "metadata": {},
   "source": [
    "* В полученном датасете в одном из полей отсутствовали значения. Изучив список было принятно решение заполнить пропуски медианным значением.\n",
    "* На этапе валидации была выбрана модель \"Случайный лес\", т.к. ее показатели были значительно выше других моделей. F1 score составил 63.4%\n",
    "* В ходе работы над моделью выяснилось, что целевой столбец содержит только 20% положительных ответов, в результате чего был использован метод upsample\n",
    "* При тестировании на тестовой выборке модель также отлично справилась, f1 score получилось 60,2%"
   ]
  }
 ],
 "metadata": {
  "ExecuteTimeLog": [
   {
    "duration": 1474,
    "start_time": "2022-12-27T14:13:58.540Z"
   },
   {
    "duration": 50,
    "start_time": "2022-12-27T14:14:17.665Z"
   },
   {
    "duration": 45,
    "start_time": "2022-12-27T14:14:38.789Z"
   },
   {
    "duration": 10,
    "start_time": "2022-12-27T14:14:44.514Z"
   },
   {
    "duration": 62,
    "start_time": "2022-12-27T14:14:53.738Z"
   },
   {
    "duration": 45,
    "start_time": "2022-12-27T14:14:59.418Z"
   },
   {
    "duration": 2533,
    "start_time": "2022-12-27T14:15:11.786Z"
   },
   {
    "duration": 63,
    "start_time": "2022-12-27T14:15:27.712Z"
   },
   {
    "duration": 51,
    "start_time": "2022-12-27T14:16:01.946Z"
   },
   {
    "duration": 13,
    "start_time": "2022-12-27T14:16:28.100Z"
   },
   {
    "duration": 44,
    "start_time": "2022-12-27T14:16:53.420Z"
   },
   {
    "duration": 51,
    "start_time": "2022-12-27T14:17:19.256Z"
   },
   {
    "duration": 67,
    "start_time": "2022-12-27T14:18:16.175Z"
   },
   {
    "duration": 50,
    "start_time": "2022-12-27T14:18:27.212Z"
   },
   {
    "duration": 0,
    "start_time": "2022-12-27T14:18:27.264Z"
   },
   {
    "duration": 0,
    "start_time": "2022-12-27T14:18:27.265Z"
   },
   {
    "duration": 0,
    "start_time": "2022-12-27T14:18:27.266Z"
   },
   {
    "duration": 0,
    "start_time": "2022-12-27T14:18:27.267Z"
   },
   {
    "duration": 0,
    "start_time": "2022-12-27T14:18:27.268Z"
   },
   {
    "duration": 0,
    "start_time": "2022-12-27T14:18:27.269Z"
   },
   {
    "duration": 0,
    "start_time": "2022-12-27T14:18:27.270Z"
   },
   {
    "duration": 0,
    "start_time": "2022-12-27T14:18:27.270Z"
   },
   {
    "duration": 0,
    "start_time": "2022-12-27T14:18:27.271Z"
   },
   {
    "duration": 0,
    "start_time": "2022-12-27T14:18:27.272Z"
   },
   {
    "duration": 0,
    "start_time": "2022-12-27T14:18:27.273Z"
   },
   {
    "duration": 0,
    "start_time": "2022-12-27T14:18:27.274Z"
   },
   {
    "duration": 0,
    "start_time": "2022-12-27T14:18:27.275Z"
   },
   {
    "duration": 0,
    "start_time": "2022-12-27T14:18:27.276Z"
   },
   {
    "duration": 0,
    "start_time": "2022-12-27T14:18:27.277Z"
   },
   {
    "duration": 0,
    "start_time": "2022-12-27T14:18:27.278Z"
   },
   {
    "duration": 0,
    "start_time": "2022-12-27T14:18:27.279Z"
   },
   {
    "duration": 0,
    "start_time": "2022-12-27T14:18:27.280Z"
   },
   {
    "duration": 0,
    "start_time": "2022-12-27T14:18:27.281Z"
   },
   {
    "duration": 0,
    "start_time": "2022-12-27T14:18:27.282Z"
   },
   {
    "duration": 0,
    "start_time": "2022-12-27T14:18:27.282Z"
   },
   {
    "duration": 42,
    "start_time": "2022-12-27T14:19:17.636Z"
   },
   {
    "duration": 1308,
    "start_time": "2022-12-27T14:19:23.349Z"
   },
   {
    "duration": 160,
    "start_time": "2022-12-27T14:19:28.473Z"
   },
   {
    "duration": 13,
    "start_time": "2022-12-27T14:19:47.956Z"
   },
   {
    "duration": 5,
    "start_time": "2022-12-27T14:19:51.058Z"
   },
   {
    "duration": 16,
    "start_time": "2022-12-27T14:19:59.156Z"
   },
   {
    "duration": 146,
    "start_time": "2022-12-27T14:20:06.630Z"
   },
   {
    "duration": 32,
    "start_time": "2022-12-27T14:20:42.758Z"
   },
   {
    "duration": 62,
    "start_time": "2022-12-27T14:20:49.681Z"
   },
   {
    "duration": 22,
    "start_time": "2022-12-27T14:22:57.760Z"
   },
   {
    "duration": 2676,
    "start_time": "2022-12-27T14:23:08.449Z"
   },
   {
    "duration": 119,
    "start_time": "2022-12-27T14:23:16.675Z"
   },
   {
    "duration": 12,
    "start_time": "2022-12-27T14:23:23.859Z"
   },
   {
    "duration": 19,
    "start_time": "2022-12-27T14:23:25.474Z"
   },
   {
    "duration": 12,
    "start_time": "2022-12-27T14:23:28.412Z"
   },
   {
    "duration": 32,
    "start_time": "2022-12-27T14:23:39.931Z"
   },
   {
    "duration": 6,
    "start_time": "2022-12-27T14:23:43.364Z"
   },
   {
    "duration": 24,
    "start_time": "2022-12-27T14:30:18.267Z"
   },
   {
    "duration": 11,
    "start_time": "2022-12-27T14:30:21.483Z"
   },
   {
    "duration": 24,
    "start_time": "2022-12-27T14:30:24.120Z"
   },
   {
    "duration": 18,
    "start_time": "2022-12-27T14:30:30.300Z"
   },
   {
    "duration": 11,
    "start_time": "2022-12-27T14:30:34.666Z"
   },
   {
    "duration": 36,
    "start_time": "2022-12-27T14:30:36.219Z"
   },
   {
    "duration": 7,
    "start_time": "2022-12-27T14:30:39.074Z"
   },
   {
    "duration": 7,
    "start_time": "2022-12-27T14:30:49.113Z"
   },
   {
    "duration": 11,
    "start_time": "2022-12-27T14:30:51.843Z"
   },
   {
    "duration": 10,
    "start_time": "2022-12-27T14:30:54.961Z"
   },
   {
    "duration": 25,
    "start_time": "2022-12-27T14:30:56.719Z"
   },
   {
    "duration": 5,
    "start_time": "2022-12-27T14:31:20.840Z"
   },
   {
    "duration": 43,
    "start_time": "2022-12-27T14:31:23.156Z"
   },
   {
    "duration": 24,
    "start_time": "2022-12-27T14:34:25.881Z"
   },
   {
    "duration": 23,
    "start_time": "2022-12-27T14:34:26.743Z"
   },
   {
    "duration": 2186,
    "start_time": "2022-12-27T14:34:37.275Z"
   },
   {
    "duration": 1380,
    "start_time": "2022-12-27T14:34:39.463Z"
   },
   {
    "duration": 712,
    "start_time": "2022-12-27T14:34:40.847Z"
   },
   {
    "duration": 12,
    "start_time": "2022-12-27T14:34:41.562Z"
   },
   {
    "duration": 5,
    "start_time": "2022-12-27T14:34:41.576Z"
   },
   {
    "duration": 18,
    "start_time": "2022-12-27T14:34:41.582Z"
   },
   {
    "duration": 157,
    "start_time": "2022-12-27T14:34:41.602Z"
   },
   {
    "duration": 5,
    "start_time": "2022-12-27T14:34:41.761Z"
   },
   {
    "duration": 56,
    "start_time": "2022-12-27T14:34:41.777Z"
   },
   {
    "duration": 14,
    "start_time": "2022-12-27T14:34:41.836Z"
   },
   {
    "duration": 42,
    "start_time": "2022-12-27T14:34:41.852Z"
   },
   {
    "duration": 13,
    "start_time": "2022-12-27T14:34:41.896Z"
   },
   {
    "duration": 35,
    "start_time": "2022-12-27T14:34:41.912Z"
   },
   {
    "duration": 28,
    "start_time": "2022-12-27T14:34:41.949Z"
   },
   {
    "duration": 16,
    "start_time": "2022-12-27T14:34:41.979Z"
   },
   {
    "duration": 7,
    "start_time": "2022-12-27T14:34:41.996Z"
   },
   {
    "duration": 399,
    "start_time": "2022-12-27T14:34:53.680Z"
   },
   {
    "duration": 349,
    "start_time": "2022-12-27T14:34:54.080Z"
   },
   {
    "duration": 69,
    "start_time": "2022-12-27T14:34:54.430Z"
   },
   {
    "duration": 50,
    "start_time": "2022-12-27T14:34:54.501Z"
   },
   {
    "duration": 133,
    "start_time": "2022-12-27T14:34:54.553Z"
   },
   {
    "duration": 11823,
    "start_time": "2022-12-27T14:35:06.796Z"
   },
   {
    "duration": 11627,
    "start_time": "2022-12-27T14:37:45.869Z"
   },
   {
    "duration": 2977,
    "start_time": "2023-01-09T10:48:02.524Z"
   },
   {
    "duration": 1404,
    "start_time": "2023-01-09T10:48:07.456Z"
   },
   {
    "duration": 117,
    "start_time": "2023-01-09T10:48:48.330Z"
   },
   {
    "duration": 12,
    "start_time": "2023-01-09T10:48:53.514Z"
   },
   {
    "duration": 5,
    "start_time": "2023-01-09T10:48:58.229Z"
   },
   {
    "duration": 17,
    "start_time": "2023-01-09T10:49:00.053Z"
   },
   {
    "duration": 128,
    "start_time": "2023-01-09T10:49:02.831Z"
   },
   {
    "duration": 5,
    "start_time": "2023-01-09T10:49:06.298Z"
   },
   {
    "duration": 48,
    "start_time": "2023-01-09T10:49:08.258Z"
   },
   {
    "duration": 22,
    "start_time": "2023-01-09T10:49:53.999Z"
   },
   {
    "duration": 11,
    "start_time": "2023-01-09T10:50:44.129Z"
   },
   {
    "duration": 31,
    "start_time": "2023-01-09T10:50:50.877Z"
   },
   {
    "duration": 6,
    "start_time": "2023-01-09T10:51:02.720Z"
   },
   {
    "duration": 57,
    "start_time": "2023-01-09T10:55:20.698Z"
   },
   {
    "duration": 105,
    "start_time": "2023-01-09T10:55:26.739Z"
   },
   {
    "duration": 2053,
    "start_time": "2023-01-09T10:55:34.110Z"
   },
   {
    "duration": 1254,
    "start_time": "2023-01-09T10:55:36.166Z"
   },
   {
    "duration": 101,
    "start_time": "2023-01-09T10:55:37.421Z"
   },
   {
    "duration": 12,
    "start_time": "2023-01-09T10:55:37.525Z"
   },
   {
    "duration": 5,
    "start_time": "2023-01-09T10:55:37.539Z"
   },
   {
    "duration": 18,
    "start_time": "2023-01-09T10:55:37.545Z"
   },
   {
    "duration": 154,
    "start_time": "2023-01-09T10:55:37.564Z"
   },
   {
    "duration": 4,
    "start_time": "2023-01-09T10:55:37.720Z"
   },
   {
    "duration": 45,
    "start_time": "2023-01-09T10:55:37.725Z"
   },
   {
    "duration": 30,
    "start_time": "2023-01-09T10:55:37.773Z"
   },
   {
    "duration": 17,
    "start_time": "2023-01-09T10:55:37.805Z"
   },
   {
    "duration": 10,
    "start_time": "2023-01-09T10:55:37.824Z"
   },
   {
    "duration": 32,
    "start_time": "2023-01-09T10:55:37.835Z"
   },
   {
    "duration": 28,
    "start_time": "2023-01-09T10:55:37.869Z"
   },
   {
    "duration": 13,
    "start_time": "2023-01-09T10:55:37.899Z"
   },
   {
    "duration": 17,
    "start_time": "2023-01-09T10:55:37.913Z"
   },
   {
    "duration": 449,
    "start_time": "2023-01-09T10:56:24.253Z"
   },
   {
    "duration": 300,
    "start_time": "2023-01-09T10:56:24.704Z"
   },
   {
    "duration": 37,
    "start_time": "2023-01-09T10:56:25.006Z"
   },
   {
    "duration": 28,
    "start_time": "2023-01-09T10:56:25.044Z"
   },
   {
    "duration": 130,
    "start_time": "2023-01-09T10:56:25.073Z"
   },
   {
    "duration": 25161,
    "start_time": "2023-01-09T10:57:58.754Z"
   },
   {
    "duration": 2064,
    "start_time": "2023-01-09T10:58:39.128Z"
   },
   {
    "duration": 1363,
    "start_time": "2023-01-09T10:58:41.194Z"
   },
   {
    "duration": 96,
    "start_time": "2023-01-09T10:58:42.559Z"
   },
   {
    "duration": 10,
    "start_time": "2023-01-09T10:58:42.657Z"
   },
   {
    "duration": 5,
    "start_time": "2023-01-09T10:58:42.669Z"
   },
   {
    "duration": 15,
    "start_time": "2023-01-09T10:58:42.675Z"
   },
   {
    "duration": 134,
    "start_time": "2023-01-09T10:58:42.692Z"
   },
   {
    "duration": 5,
    "start_time": "2023-01-09T10:58:42.827Z"
   },
   {
    "duration": 52,
    "start_time": "2023-01-09T10:58:42.834Z"
   },
   {
    "duration": 18,
    "start_time": "2023-01-09T10:58:42.888Z"
   },
   {
    "duration": 18,
    "start_time": "2023-01-09T10:58:42.908Z"
   },
   {
    "duration": 17,
    "start_time": "2023-01-09T10:58:42.928Z"
   },
   {
    "duration": 51,
    "start_time": "2023-01-09T10:58:42.946Z"
   },
   {
    "duration": 6,
    "start_time": "2023-01-09T10:58:42.999Z"
   },
   {
    "duration": 15,
    "start_time": "2023-01-09T10:58:43.006Z"
   },
   {
    "duration": 5,
    "start_time": "2023-01-09T10:58:43.023Z"
   },
   {
    "duration": 12772,
    "start_time": "2023-01-09T10:58:43.030Z"
   },
   {
    "duration": 493,
    "start_time": "2023-01-09T10:58:55.804Z"
   },
   {
    "duration": 225,
    "start_time": "2023-01-09T10:58:56.299Z"
   },
   {
    "duration": 33,
    "start_time": "2023-01-09T10:58:56.526Z"
   },
   {
    "duration": 45,
    "start_time": "2023-01-09T10:58:56.560Z"
   },
   {
    "duration": 119,
    "start_time": "2023-01-09T10:58:56.607Z"
   },
   {
    "duration": 4,
    "start_time": "2023-01-09T10:58:56.728Z"
   },
   {
    "duration": 102,
    "start_time": "2023-01-09T10:58:56.733Z"
   },
   {
    "duration": 28,
    "start_time": "2023-01-09T10:58:56.850Z"
   },
   {
    "duration": 5,
    "start_time": "2023-01-09T10:58:59.469Z"
   },
   {
    "duration": 16,
    "start_time": "2023-01-09T10:59:01.492Z"
   },
   {
    "duration": 4,
    "start_time": "2023-01-09T10:59:06.692Z"
   },
   {
    "duration": 106,
    "start_time": "2023-01-09T10:59:08.791Z"
   },
   {
    "duration": 10,
    "start_time": "2023-01-09T10:59:13.095Z"
   },
   {
    "duration": 17,
    "start_time": "2023-01-09T10:59:15.574Z"
   },
   {
    "duration": 11,
    "start_time": "2023-01-09T10:59:19.731Z"
   },
   {
    "duration": 34,
    "start_time": "2023-01-09T10:59:21.592Z"
   },
   {
    "duration": 6,
    "start_time": "2023-01-09T10:59:24.596Z"
   },
   {
    "duration": 15,
    "start_time": "2023-01-09T10:59:27.423Z"
   },
   {
    "duration": 5,
    "start_time": "2023-01-09T10:59:32.631Z"
   },
   {
    "duration": 9765,
    "start_time": "2023-01-09T11:01:07.323Z"
   },
   {
    "duration": 117,
    "start_time": "2023-01-09T11:03:33.201Z"
   },
   {
    "duration": 9133,
    "start_time": "2023-01-09T11:04:24.148Z"
   },
   {
    "duration": 31,
    "start_time": "2023-01-09T11:04:55.111Z"
   },
   {
    "duration": 31,
    "start_time": "2023-01-09T11:05:00.644Z"
   },
   {
    "duration": 37,
    "start_time": "2023-01-09T11:05:09.868Z"
   },
   {
    "duration": 9304,
    "start_time": "2023-01-09T11:05:37.366Z"
   },
   {
    "duration": 575,
    "start_time": "2023-01-09T11:07:22.123Z"
   },
   {
    "duration": 181,
    "start_time": "2023-01-09T11:08:12.947Z"
   },
   {
    "duration": 97,
    "start_time": "2023-01-09T11:08:45.173Z"
   },
   {
    "duration": 99,
    "start_time": "2023-01-09T11:09:29.222Z"
   },
   {
    "duration": 17,
    "start_time": "2023-01-09T11:10:47.999Z"
   },
   {
    "duration": 17,
    "start_time": "2023-01-09T11:10:58.791Z"
   },
   {
    "duration": 18,
    "start_time": "2023-01-09T11:11:26.440Z"
   },
   {
    "duration": 24,
    "start_time": "2023-01-09T11:11:44.907Z"
   },
   {
    "duration": 19,
    "start_time": "2023-01-09T11:12:16.797Z"
   },
   {
    "duration": 21,
    "start_time": "2023-01-09T11:12:51.094Z"
   },
   {
    "duration": 773,
    "start_time": "2023-01-09T11:21:22.828Z"
   },
   {
    "duration": 96,
    "start_time": "2023-01-09T11:25:01.327Z"
   },
   {
    "duration": 2,
    "start_time": "2023-01-09T11:29:48.632Z"
   },
   {
    "duration": 123,
    "start_time": "2023-01-09T11:33:19.782Z"
   },
   {
    "duration": 16,
    "start_time": "2023-01-09T11:36:39.597Z"
   },
   {
    "duration": 19,
    "start_time": "2023-01-09T11:36:42.640Z"
   },
   {
    "duration": 32,
    "start_time": "2023-01-09T11:37:00.268Z"
   },
   {
    "duration": 132,
    "start_time": "2023-01-09T11:37:19.382Z"
   },
   {
    "duration": 122,
    "start_time": "2023-01-09T11:38:57.842Z"
   },
   {
    "duration": 139,
    "start_time": "2023-01-09T11:40:01.575Z"
   },
   {
    "duration": 19,
    "start_time": "2023-01-09T11:40:33.747Z"
   },
   {
    "duration": 142,
    "start_time": "2023-01-09T11:41:31.306Z"
   },
   {
    "duration": 120,
    "start_time": "2023-01-09T11:41:56.467Z"
   },
   {
    "duration": 127,
    "start_time": "2023-01-09T11:43:55.615Z"
   },
   {
    "duration": 15,
    "start_time": "2023-01-09T11:44:41.300Z"
   },
   {
    "duration": 125,
    "start_time": "2023-01-09T11:45:27.876Z"
   },
   {
    "duration": 129,
    "start_time": "2023-01-09T11:45:30.028Z"
   },
   {
    "duration": 112,
    "start_time": "2023-01-09T11:58:37.482Z"
   },
   {
    "duration": 103,
    "start_time": "2023-01-09T11:59:05.741Z"
   },
   {
    "duration": 109,
    "start_time": "2023-01-09T11:59:33.104Z"
   },
   {
    "duration": 114,
    "start_time": "2023-01-09T12:01:20.242Z"
   },
   {
    "duration": 118,
    "start_time": "2023-01-09T12:01:25.588Z"
   },
   {
    "duration": 13,
    "start_time": "2023-01-09T12:07:21.065Z"
   },
   {
    "duration": 4,
    "start_time": "2023-01-09T12:10:12.167Z"
   },
   {
    "duration": 5,
    "start_time": "2023-01-09T12:11:51.084Z"
   },
   {
    "duration": 11,
    "start_time": "2023-01-09T12:12:25.383Z"
   },
   {
    "duration": 5,
    "start_time": "2023-01-09T12:12:52.020Z"
   },
   {
    "duration": 11,
    "start_time": "2023-01-09T12:14:01.563Z"
   },
   {
    "duration": 11,
    "start_time": "2023-01-09T12:14:12.117Z"
   },
   {
    "duration": 12,
    "start_time": "2023-01-09T12:14:40.619Z"
   },
   {
    "duration": 68,
    "start_time": "2023-01-09T12:14:47.269Z"
   },
   {
    "duration": 9507,
    "start_time": "2023-01-09T12:20:01.092Z"
   },
   {
    "duration": 692,
    "start_time": "2023-01-09T12:20:50.809Z"
   },
   {
    "duration": 716,
    "start_time": "2023-01-09T12:21:12.982Z"
   },
   {
    "duration": 107,
    "start_time": "2023-01-09T12:21:28.425Z"
   },
   {
    "duration": 149,
    "start_time": "2023-01-09T12:22:18.036Z"
   },
   {
    "duration": 67,
    "start_time": "2023-01-09T12:22:41.361Z"
   },
   {
    "duration": 68,
    "start_time": "2023-01-09T12:22:58.717Z"
   },
   {
    "duration": 82,
    "start_time": "2023-01-09T12:23:18.919Z"
   },
   {
    "duration": 76,
    "start_time": "2023-01-09T12:24:01.218Z"
   },
   {
    "duration": 69,
    "start_time": "2023-01-09T12:24:52.549Z"
   },
   {
    "duration": 18,
    "start_time": "2023-01-09T12:26:53.017Z"
   },
   {
    "duration": 1970,
    "start_time": "2023-01-09T12:27:15.524Z"
   },
   {
    "duration": 1308,
    "start_time": "2023-01-09T12:27:17.496Z"
   },
   {
    "duration": 105,
    "start_time": "2023-01-09T12:27:18.806Z"
   },
   {
    "duration": 12,
    "start_time": "2023-01-09T12:27:18.913Z"
   },
   {
    "duration": 7,
    "start_time": "2023-01-09T12:27:18.926Z"
   },
   {
    "duration": 15,
    "start_time": "2023-01-09T12:27:18.934Z"
   },
   {
    "duration": 175,
    "start_time": "2023-01-09T12:27:18.950Z"
   },
   {
    "duration": 4,
    "start_time": "2023-01-09T12:27:19.127Z"
   },
   {
    "duration": 51,
    "start_time": "2023-01-09T12:27:19.133Z"
   },
   {
    "duration": 11,
    "start_time": "2023-01-09T12:27:19.199Z"
   },
   {
    "duration": 21,
    "start_time": "2023-01-09T12:27:19.211Z"
   },
   {
    "duration": 11,
    "start_time": "2023-01-09T12:27:19.233Z"
   },
   {
    "duration": 56,
    "start_time": "2023-01-09T12:27:19.245Z"
   },
   {
    "duration": 5,
    "start_time": "2023-01-09T12:27:19.302Z"
   },
   {
    "duration": 12,
    "start_time": "2023-01-09T12:27:19.309Z"
   },
   {
    "duration": 9,
    "start_time": "2023-01-09T12:27:19.322Z"
   },
   {
    "duration": 6,
    "start_time": "2023-01-09T12:27:19.332Z"
   },
   {
    "duration": 9660,
    "start_time": "2023-01-09T12:27:19.339Z"
   },
   {
    "duration": 304,
    "start_time": "2023-01-09T12:27:29.001Z"
   },
   {
    "duration": 200,
    "start_time": "2023-01-09T12:27:29.309Z"
   },
   {
    "duration": 146,
    "start_time": "2023-01-09T12:27:29.511Z"
   },
   {
    "duration": 84,
    "start_time": "2023-01-09T12:27:29.659Z"
   },
   {
    "duration": 15,
    "start_time": "2023-01-09T12:27:29.744Z"
   },
   {
    "duration": 42,
    "start_time": "2023-01-09T12:27:29.761Z"
   },
   {
    "duration": 233,
    "start_time": "2023-01-09T12:27:29.804Z"
   },
   {
    "duration": 11,
    "start_time": "2023-01-09T12:30:21.737Z"
   },
   {
    "duration": 11,
    "start_time": "2023-01-09T12:30:24.057Z"
   },
   {
    "duration": 7,
    "start_time": "2023-01-09T12:30:27.785Z"
   },
   {
    "duration": 9768,
    "start_time": "2023-01-09T12:30:36.554Z"
   },
   {
    "duration": 244,
    "start_time": "2023-01-09T12:31:51.154Z"
   },
   {
    "duration": 104,
    "start_time": "2023-01-09T12:31:58.173Z"
   },
   {
    "duration": 131,
    "start_time": "2023-01-09T12:32:19.639Z"
   },
   {
    "duration": 206,
    "start_time": "2023-01-09T12:32:36.534Z"
   },
   {
    "duration": 190,
    "start_time": "2023-01-09T12:32:47.095Z"
   },
   {
    "duration": 77,
    "start_time": "2023-01-09T12:34:18.724Z"
   },
   {
    "duration": 197,
    "start_time": "2023-01-09T12:34:24.279Z"
   },
   {
    "duration": 17,
    "start_time": "2023-01-09T12:34:33.695Z"
   },
   {
    "duration": 13,
    "start_time": "2023-01-09T12:35:32.538Z"
   },
   {
    "duration": 229,
    "start_time": "2023-01-09T12:35:38.674Z"
   },
   {
    "duration": 17,
    "start_time": "2023-01-09T12:35:58.604Z"
   },
   {
    "duration": 201,
    "start_time": "2023-01-09T12:37:12.896Z"
   },
   {
    "duration": 17,
    "start_time": "2023-01-09T12:37:28.509Z"
   },
   {
    "duration": 141,
    "start_time": "2023-01-09T12:38:07.570Z"
   },
   {
    "duration": 158,
    "start_time": "2023-01-09T12:40:19.180Z"
   },
   {
    "duration": 110,
    "start_time": "2023-01-09T12:40:43.637Z"
   },
   {
    "duration": 106,
    "start_time": "2023-01-09T12:41:11.973Z"
   },
   {
    "duration": 112,
    "start_time": "2023-01-09T12:41:54.071Z"
   },
   {
    "duration": 124,
    "start_time": "2023-01-09T12:42:35.811Z"
   },
   {
    "duration": 23,
    "start_time": "2023-01-09T12:46:06.722Z"
   },
   {
    "duration": 130,
    "start_time": "2023-01-09T12:46:06.747Z"
   },
   {
    "duration": 7919,
    "start_time": "2023-01-09T12:48:34.882Z"
   },
   {
    "duration": 123,
    "start_time": "2023-01-09T12:49:39.045Z"
   },
   {
    "duration": 121,
    "start_time": "2023-01-09T12:52:02.244Z"
   },
   {
    "duration": 134,
    "start_time": "2023-01-09T12:52:44.737Z"
   },
   {
    "duration": 14,
    "start_time": "2023-01-09T12:56:21.613Z"
   },
   {
    "duration": 116,
    "start_time": "2023-01-09T12:59:52.183Z"
   },
   {
    "duration": 206,
    "start_time": "2023-01-09T13:00:10.991Z"
   },
   {
    "duration": 18,
    "start_time": "2023-01-09T13:00:19.983Z"
   },
   {
    "duration": 16,
    "start_time": "2023-01-09T13:00:59.381Z"
   },
   {
    "duration": 112,
    "start_time": "2023-01-09T13:01:00.778Z"
   },
   {
    "duration": 2963,
    "start_time": "2023-01-09T15:17:15.363Z"
   },
   {
    "duration": 1740,
    "start_time": "2023-01-09T15:17:18.328Z"
   },
   {
    "duration": 101,
    "start_time": "2023-01-09T15:17:20.069Z"
   },
   {
    "duration": 12,
    "start_time": "2023-01-09T15:17:20.172Z"
   },
   {
    "duration": 6,
    "start_time": "2023-01-09T15:17:20.185Z"
   },
   {
    "duration": 16,
    "start_time": "2023-01-09T15:17:20.193Z"
   },
   {
    "duration": 136,
    "start_time": "2023-01-09T15:17:20.210Z"
   },
   {
    "duration": 4,
    "start_time": "2023-01-09T15:17:20.348Z"
   },
   {
    "duration": 52,
    "start_time": "2023-01-09T15:17:20.354Z"
   },
   {
    "duration": 10,
    "start_time": "2023-01-09T15:17:20.409Z"
   },
   {
    "duration": 20,
    "start_time": "2023-01-09T15:17:20.420Z"
   },
   {
    "duration": 10,
    "start_time": "2023-01-09T15:17:20.441Z"
   },
   {
    "duration": 59,
    "start_time": "2023-01-09T15:17:20.452Z"
   },
   {
    "duration": 5,
    "start_time": "2023-01-09T15:17:20.512Z"
   },
   {
    "duration": 12,
    "start_time": "2023-01-09T15:17:20.518Z"
   },
   {
    "duration": 11,
    "start_time": "2023-01-09T15:17:20.531Z"
   },
   {
    "duration": 14,
    "start_time": "2023-01-09T15:17:20.543Z"
   },
   {
    "duration": 7924,
    "start_time": "2023-01-09T15:17:20.559Z"
   },
   {
    "duration": 116,
    "start_time": "2023-01-09T15:17:28.484Z"
   },
   {
    "duration": 200,
    "start_time": "2023-01-09T15:17:28.602Z"
   },
   {
    "duration": 196,
    "start_time": "2023-01-09T15:17:28.803Z"
   },
   {
    "duration": 72,
    "start_time": "2023-01-09T15:17:29.001Z"
   },
   {
    "duration": 32,
    "start_time": "2023-01-09T15:17:29.074Z"
   },
   {
    "duration": 16,
    "start_time": "2023-01-09T15:17:29.107Z"
   },
   {
    "duration": 214,
    "start_time": "2023-01-09T15:17:29.125Z"
   },
   {
    "duration": 60,
    "start_time": "2023-01-09T16:47:26.213Z"
   },
   {
    "duration": 2544,
    "start_time": "2023-01-09T16:47:35.051Z"
   },
   {
    "duration": 1589,
    "start_time": "2023-01-09T16:47:37.597Z"
   },
   {
    "duration": 155,
    "start_time": "2023-01-09T16:47:39.188Z"
   },
   {
    "duration": 12,
    "start_time": "2023-01-09T16:47:39.345Z"
   },
   {
    "duration": 4,
    "start_time": "2023-01-09T16:47:39.359Z"
   },
   {
    "duration": 23,
    "start_time": "2023-01-09T16:47:39.364Z"
   },
   {
    "duration": 145,
    "start_time": "2023-01-09T16:47:39.389Z"
   },
   {
    "duration": 4,
    "start_time": "2023-01-09T16:47:39.536Z"
   },
   {
    "duration": 58,
    "start_time": "2023-01-09T16:47:39.542Z"
   },
   {
    "duration": 12,
    "start_time": "2023-01-09T16:47:39.603Z"
   },
   {
    "duration": 22,
    "start_time": "2023-01-09T16:47:39.616Z"
   },
   {
    "duration": 11,
    "start_time": "2023-01-09T16:47:39.640Z"
   },
   {
    "duration": 68,
    "start_time": "2023-01-09T16:47:39.652Z"
   },
   {
    "duration": 6,
    "start_time": "2023-01-09T16:47:39.722Z"
   },
   {
    "duration": 14,
    "start_time": "2023-01-09T16:47:39.730Z"
   },
   {
    "duration": 12,
    "start_time": "2023-01-09T16:47:39.745Z"
   },
   {
    "duration": 6,
    "start_time": "2023-01-09T16:47:39.759Z"
   },
   {
    "duration": 8435,
    "start_time": "2023-01-09T16:47:39.767Z"
   },
   {
    "duration": 200,
    "start_time": "2023-01-09T16:47:48.204Z"
   },
   {
    "duration": 151,
    "start_time": "2023-01-09T16:47:48.408Z"
   },
   {
    "duration": 364,
    "start_time": "2023-01-09T16:47:48.560Z"
   },
   {
    "duration": 90,
    "start_time": "2023-01-09T16:47:48.925Z"
   },
   {
    "duration": 20,
    "start_time": "2023-01-09T16:47:49.017Z"
   },
   {
    "duration": 19,
    "start_time": "2023-01-09T16:47:49.039Z"
   },
   {
    "duration": 155,
    "start_time": "2023-01-09T16:47:49.060Z"
   },
   {
    "duration": 371,
    "start_time": "2023-01-09T16:48:27.838Z"
   },
   {
    "duration": 19,
    "start_time": "2023-01-09T16:48:58.091Z"
   },
   {
    "duration": 463,
    "start_time": "2023-01-09T16:49:17.215Z"
   },
   {
    "duration": 17,
    "start_time": "2023-01-09T16:49:53.401Z"
   },
   {
    "duration": 102,
    "start_time": "2023-01-09T16:54:35.583Z"
   },
   {
    "duration": 505,
    "start_time": "2023-01-09T16:54:56.214Z"
   },
   {
    "duration": 1872,
    "start_time": "2023-01-09T16:55:10.196Z"
   },
   {
    "duration": 1405,
    "start_time": "2023-01-09T16:55:12.071Z"
   },
   {
    "duration": 83,
    "start_time": "2023-01-09T16:55:13.478Z"
   },
   {
    "duration": 12,
    "start_time": "2023-01-09T16:55:13.563Z"
   },
   {
    "duration": 7,
    "start_time": "2023-01-09T16:55:13.578Z"
   },
   {
    "duration": 16,
    "start_time": "2023-01-09T16:55:13.587Z"
   },
   {
    "duration": 153,
    "start_time": "2023-01-09T16:55:13.605Z"
   },
   {
    "duration": 4,
    "start_time": "2023-01-09T16:55:13.760Z"
   },
   {
    "duration": 56,
    "start_time": "2023-01-09T16:55:13.766Z"
   },
   {
    "duration": 11,
    "start_time": "2023-01-09T16:55:13.824Z"
   },
   {
    "duration": 21,
    "start_time": "2023-01-09T16:55:13.836Z"
   },
   {
    "duration": 11,
    "start_time": "2023-01-09T16:55:13.859Z"
   },
   {
    "duration": 39,
    "start_time": "2023-01-09T16:55:13.896Z"
   },
   {
    "duration": 6,
    "start_time": "2023-01-09T16:55:13.937Z"
   },
   {
    "duration": 11,
    "start_time": "2023-01-09T16:55:13.945Z"
   },
   {
    "duration": 38,
    "start_time": "2023-01-09T16:55:13.958Z"
   },
   {
    "duration": 7,
    "start_time": "2023-01-09T16:55:13.998Z"
   },
   {
    "duration": 8292,
    "start_time": "2023-01-09T16:55:14.007Z"
   },
   {
    "duration": 201,
    "start_time": "2023-01-09T16:55:22.301Z"
   },
   {
    "duration": 118,
    "start_time": "2023-01-09T16:55:22.504Z"
   },
   {
    "duration": 489,
    "start_time": "2023-01-09T16:55:22.623Z"
   },
   {
    "duration": 88,
    "start_time": "2023-01-09T16:55:23.113Z"
   },
   {
    "duration": 16,
    "start_time": "2023-01-09T16:55:23.203Z"
   },
   {
    "duration": 22,
    "start_time": "2023-01-09T16:55:23.221Z"
   },
   {
    "duration": 141,
    "start_time": "2023-01-09T16:55:23.244Z"
   },
   {
    "duration": 297,
    "start_time": "2023-01-09T16:55:42.266Z"
   },
   {
    "duration": 287,
    "start_time": "2023-01-09T16:56:21.985Z"
   },
   {
    "duration": 43201,
    "start_time": "2023-01-09T16:57:24.575Z"
   },
   {
    "duration": 117,
    "start_time": "2023-01-09T16:59:30.563Z"
   },
   {
    "duration": 57002,
    "start_time": "2023-01-09T16:59:40.834Z"
   },
   {
    "duration": 35,
    "start_time": "2023-01-09T17:02:03.994Z"
   },
   {
    "duration": 1922,
    "start_time": "2023-01-09T17:02:34.172Z"
   },
   {
    "duration": 1355,
    "start_time": "2023-01-09T17:02:36.097Z"
   },
   {
    "duration": 95,
    "start_time": "2023-01-09T17:02:37.453Z"
   },
   {
    "duration": 13,
    "start_time": "2023-01-09T17:02:37.550Z"
   },
   {
    "duration": 5,
    "start_time": "2023-01-09T17:02:37.565Z"
   },
   {
    "duration": 19,
    "start_time": "2023-01-09T17:02:37.571Z"
   },
   {
    "duration": 154,
    "start_time": "2023-01-09T17:02:37.591Z"
   },
   {
    "duration": 5,
    "start_time": "2023-01-09T17:02:37.746Z"
   },
   {
    "duration": 57,
    "start_time": "2023-01-09T17:02:37.752Z"
   },
   {
    "duration": 10,
    "start_time": "2023-01-09T17:02:37.811Z"
   },
   {
    "duration": 19,
    "start_time": "2023-01-09T17:02:37.823Z"
   },
   {
    "duration": 11,
    "start_time": "2023-01-09T17:02:37.844Z"
   },
   {
    "duration": 60,
    "start_time": "2023-01-09T17:02:37.856Z"
   },
   {
    "duration": 7,
    "start_time": "2023-01-09T17:02:37.918Z"
   },
   {
    "duration": 13,
    "start_time": "2023-01-09T17:02:37.927Z"
   },
   {
    "duration": 13,
    "start_time": "2023-01-09T17:02:37.942Z"
   },
   {
    "duration": 6,
    "start_time": "2023-01-09T17:02:37.957Z"
   },
   {
    "duration": 43592,
    "start_time": "2023-01-09T17:02:37.964Z"
   },
   {
    "duration": 138,
    "start_time": "2023-01-09T17:03:21.558Z"
   },
   {
    "duration": 211,
    "start_time": "2023-01-09T17:03:21.698Z"
   },
   {
    "duration": 320,
    "start_time": "2023-01-09T17:03:21.911Z"
   },
   {
    "duration": 57190,
    "start_time": "2023-01-09T17:03:22.233Z"
   },
   {
    "duration": 83,
    "start_time": "2023-01-09T17:04:19.425Z"
   },
   {
    "duration": 29,
    "start_time": "2023-01-09T17:04:19.509Z"
   },
   {
    "duration": 24,
    "start_time": "2023-01-09T17:04:19.539Z"
   },
   {
    "duration": 143,
    "start_time": "2023-01-09T17:04:19.564Z"
   },
   {
    "duration": 81,
    "start_time": "2023-01-09T19:02:51.294Z"
   }
  ],
  "kernelspec": {
   "display_name": "Python 3 (ipykernel)",
   "language": "python",
   "name": "python3"
  },
  "language_info": {
   "codemirror_mode": {
    "name": "ipython",
    "version": 3
   },
   "file_extension": ".py",
   "mimetype": "text/x-python",
   "name": "python",
   "nbconvert_exporter": "python",
   "pygments_lexer": "ipython3",
   "version": "3.10.5"
  },
  "toc": {
   "base_numbering": 1,
   "nav_menu": {},
   "number_sections": true,
   "sideBar": true,
   "skip_h1_title": true,
   "title_cell": "Table of Contents",
   "title_sidebar": "Contents",
   "toc_cell": false,
   "toc_position": {},
   "toc_section_display": true,
   "toc_window_display": false
  },
  "vscode": {
   "interpreter": {
    "hash": "69a9047f428b72ee57fafcc30cfc1150f80b59105df1fa51f1e4927e742c9d0b"
   }
  }
 },
 "nbformat": 4,
 "nbformat_minor": 2
}

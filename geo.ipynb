{
 "cells": [
  {
   "attachments": {},
   "cell_type": "markdown",
   "metadata": {},
   "source": [
    "### Описание проекта"
   ]
  },
  {
   "attachments": {},
   "cell_type": "markdown",
   "metadata": {},
   "source": [
    "Вы работаете в добывающей компании «ГлавРосГосНефть». Нужно решить, где бурить новую скважину.   \n",
    "Шаги для выбора локации обычно такие:\n",
    "* В избранном регионе собирают характеристики для скважин: качество нефти и объём её запасов;\n",
    "* Строят модель для предсказания объёма запасов в новых скважинах;\n",
    "* Выбирают скважины с самыми высокими оценками значений;\n",
    "* Определяют регион с максимальной суммарной прибылью отобранных скважин.\n",
    "* Вам предоставлены пробы нефти в трёх регионах. Характеристики для каждой скважины в регионе уже известны. Постройте модель для определения региона, где добыча принесёт наибольшую прибыль. \n",
    "* Проанализируйте возможную прибыль и риски техникой Bootstrap."
   ]
  },
  {
   "attachments": {},
   "cell_type": "markdown",
   "metadata": {},
   "source": [
    "### Импорт бибилиотек"
   ]
  },
  {
   "cell_type": "code",
   "execution_count": 132,
   "metadata": {},
   "outputs": [],
   "source": [
    "import pandas as pd\n",
    "import numpy as np\n",
    "import matplotlib.pyplot as plt\n",
    "from sklearn.model_selection import train_test_split\n",
    "from sklearn.linear_model import LinearRegression\n",
    "from sklearn.metrics import mean_squared_error\n",
    "from numpy.random import RandomState"
   ]
  },
  {
   "attachments": {},
   "cell_type": "markdown",
   "metadata": {},
   "source": [
    "### Закгрузка датасета"
   ]
  },
  {
   "cell_type": "code",
   "execution_count": 133,
   "metadata": {},
   "outputs": [
    {
     "data": {
      "text/html": [
       "<div>\n",
       "<style scoped>\n",
       "    .dataframe tbody tr th:only-of-type {\n",
       "        vertical-align: middle;\n",
       "    }\n",
       "\n",
       "    .dataframe tbody tr th {\n",
       "        vertical-align: top;\n",
       "    }\n",
       "\n",
       "    .dataframe thead th {\n",
       "        text-align: right;\n",
       "    }\n",
       "</style>\n",
       "<table border=\"1\" class=\"dataframe\">\n",
       "  <thead>\n",
       "    <tr style=\"text-align: right;\">\n",
       "      <th></th>\n",
       "      <th>id</th>\n",
       "      <th>f0</th>\n",
       "      <th>f1</th>\n",
       "      <th>f2</th>\n",
       "      <th>product</th>\n",
       "    </tr>\n",
       "  </thead>\n",
       "  <tbody>\n",
       "    <tr>\n",
       "      <th>0</th>\n",
       "      <td>txEyH</td>\n",
       "      <td>0.705745</td>\n",
       "      <td>-0.497823</td>\n",
       "      <td>1.22117</td>\n",
       "      <td>105.280062</td>\n",
       "    </tr>\n",
       "    <tr>\n",
       "      <th>1</th>\n",
       "      <td>2acmU</td>\n",
       "      <td>1.334711</td>\n",
       "      <td>-0.340164</td>\n",
       "      <td>4.36508</td>\n",
       "      <td>73.037750</td>\n",
       "    </tr>\n",
       "  </tbody>\n",
       "</table>\n",
       "</div>"
      ],
      "text/plain": [
       "      id        f0        f1       f2     product\n",
       "0  txEyH  0.705745 -0.497823  1.22117  105.280062\n",
       "1  2acmU  1.334711 -0.340164  4.36508   73.037750"
      ]
     },
     "metadata": {},
     "output_type": "display_data"
    },
    {
     "data": {
      "text/html": [
       "<div>\n",
       "<style scoped>\n",
       "    .dataframe tbody tr th:only-of-type {\n",
       "        vertical-align: middle;\n",
       "    }\n",
       "\n",
       "    .dataframe tbody tr th {\n",
       "        vertical-align: top;\n",
       "    }\n",
       "\n",
       "    .dataframe thead th {\n",
       "        text-align: right;\n",
       "    }\n",
       "</style>\n",
       "<table border=\"1\" class=\"dataframe\">\n",
       "  <thead>\n",
       "    <tr style=\"text-align: right;\">\n",
       "      <th></th>\n",
       "      <th>id</th>\n",
       "      <th>f0</th>\n",
       "      <th>f1</th>\n",
       "      <th>f2</th>\n",
       "      <th>product</th>\n",
       "    </tr>\n",
       "  </thead>\n",
       "  <tbody>\n",
       "    <tr>\n",
       "      <th>0</th>\n",
       "      <td>kBEdx</td>\n",
       "      <td>-15.001348</td>\n",
       "      <td>-8.276000</td>\n",
       "      <td>-0.005876</td>\n",
       "      <td>3.179103</td>\n",
       "    </tr>\n",
       "    <tr>\n",
       "      <th>1</th>\n",
       "      <td>62mP7</td>\n",
       "      <td>14.272088</td>\n",
       "      <td>-3.475083</td>\n",
       "      <td>0.999183</td>\n",
       "      <td>26.953261</td>\n",
       "    </tr>\n",
       "  </tbody>\n",
       "</table>\n",
       "</div>"
      ],
      "text/plain": [
       "      id         f0        f1        f2    product\n",
       "0  kBEdx -15.001348 -8.276000 -0.005876   3.179103\n",
       "1  62mP7  14.272088 -3.475083  0.999183  26.953261"
      ]
     },
     "metadata": {},
     "output_type": "display_data"
    },
    {
     "data": {
      "text/html": [
       "<div>\n",
       "<style scoped>\n",
       "    .dataframe tbody tr th:only-of-type {\n",
       "        vertical-align: middle;\n",
       "    }\n",
       "\n",
       "    .dataframe tbody tr th {\n",
       "        vertical-align: top;\n",
       "    }\n",
       "\n",
       "    .dataframe thead th {\n",
       "        text-align: right;\n",
       "    }\n",
       "</style>\n",
       "<table border=\"1\" class=\"dataframe\">\n",
       "  <thead>\n",
       "    <tr style=\"text-align: right;\">\n",
       "      <th></th>\n",
       "      <th>id</th>\n",
       "      <th>f0</th>\n",
       "      <th>f1</th>\n",
       "      <th>f2</th>\n",
       "      <th>product</th>\n",
       "    </tr>\n",
       "  </thead>\n",
       "  <tbody>\n",
       "    <tr>\n",
       "      <th>0</th>\n",
       "      <td>fwXo0</td>\n",
       "      <td>-1.146987</td>\n",
       "      <td>0.963328</td>\n",
       "      <td>-0.828965</td>\n",
       "      <td>27.758673</td>\n",
       "    </tr>\n",
       "    <tr>\n",
       "      <th>1</th>\n",
       "      <td>WJtFt</td>\n",
       "      <td>0.262778</td>\n",
       "      <td>0.269839</td>\n",
       "      <td>-2.530187</td>\n",
       "      <td>56.069697</td>\n",
       "    </tr>\n",
       "  </tbody>\n",
       "</table>\n",
       "</div>"
      ],
      "text/plain": [
       "      id        f0        f1        f2    product\n",
       "0  fwXo0 -1.146987  0.963328 -0.828965  27.758673\n",
       "1  WJtFt  0.262778  0.269839 -2.530187  56.069697"
      ]
     },
     "metadata": {},
     "output_type": "display_data"
    }
   ],
   "source": [
    "try:\n",
    "    df0 = pd.read_csv('./datasets/geo_data_0.csv')\n",
    "    df1 = pd.read_csv('./datasets/geo_data_1.csv')\n",
    "    df2 = pd.read_csv('./datasets/geo_data_2.csv')\n",
    "except:\n",
    "    df0 = pd.read_csv('https://code.s3.yandex.net/datasets/geo_data_0.csv')\n",
    "    df1 = pd.read_csv('https://code.s3.yandex.net/datasets/geo_data_1.csv')\n",
    "    df2 = pd.read_csv('https://code.s3.yandex.net/datasets/geo_data_1.csv')\n",
    "display(df0.head(2),df1.head(2),df2.head(2))"
   ]
  },
  {
   "attachments": {},
   "cell_type": "markdown",
   "metadata": {},
   "source": [
    "* id — уникальный идентификатор скважины;\n",
    "* f0, f1, f2 — три признака точек (неважно, что они означают, но сами признаки значимы);\n",
    "* product — объём запасов в скважине (тыс. баррелей)."
   ]
  },
  {
   "cell_type": "code",
   "execution_count": 134,
   "metadata": {},
   "outputs": [],
   "source": [
    "#df2.info()"
   ]
  },
  {
   "attachments": {},
   "cell_type": "markdown",
   "metadata": {},
   "source": [
    "Пропущенных данных нет, тип данных - float, предобработка не требуется"
   ]
  },
  {
   "cell_type": "code",
   "execution_count": 135,
   "metadata": {},
   "outputs": [
    {
     "data": {
      "image/png": "[encoded data removed]",
      "text/plain": [
       "<Figure size 640x480 with 3 Axes>"
      ]
     },
     "metadata": {},
     "output_type": "display_data"
    }
   ],
   "source": [
    "\n",
    "plt.subplot(3, 1, 1)\n",
    "plt.hist(df0['product'])\n",
    "plt.title('Гистограммы целевого признака')\n",
    "plt.subplot(3, 1, 2)\n",
    "plt.hist(df1['product'])\n",
    "plt.subplot(3, 1, 3)\n",
    "plt.hist(df2['product'])\n",
    "plt.show()"
   ]
  },
  {
   "attachments": {},
   "cell_type": "markdown",
   "metadata": {},
   "source": [
    "* geo_0 и geo_2 нормально распределены вокруг среднего, а geo_1 от них отличается.\n",
    "* Т.к. нам требуется предсказывать добычу в регионе воспользуемся моделями "
   ]
  },
  {
   "cell_type": "code",
   "execution_count": 136,
   "metadata": {},
   "outputs": [
    {
     "data": {
      "image/png": "[encoded data removed]",
      "text/plain": [
       "<Figure size 640x480 with 9 Axes>"
      ]
     },
     "metadata": {},
     "output_type": "display_data"
    }
   ],
   "source": [
    "plt.subplot(3, 3, 1)\n",
    "plt.hist(df0['f0'])\n",
    "plt.subplot(3, 3, 2)\n",
    "plt.hist(df1['f0'])\n",
    "plt.subplot(3, 3, 3)\n",
    "plt.hist(df2['f0'])\n",
    "plt.subplot(3, 3, 4)\n",
    "plt.hist(df0['f1'])\n",
    "plt.subplot(3, 3, 5)\n",
    "plt.hist(df1['f1'])\n",
    "plt.subplot(3, 3, 6)\n",
    "plt.hist(df2['f1'])\n",
    "plt.subplot(3, 3, 7)\n",
    "plt.hist(df0['f2'])\n",
    "plt.subplot(3, 3, 8)\n",
    "plt.hist(df1['f2'])\n",
    "plt.subplot(3, 3, 9)\n",
    "plt.hist(df2['f2'])\n",
    "plt.show()"
   ]
  },
  {
   "attachments": {},
   "cell_type": "markdown",
   "metadata": {},
   "source": [
    "По признакам существенные отличия также у geo_1"
   ]
  },
  {
   "cell_type": "code",
   "execution_count": 137,
   "metadata": {},
   "outputs": [
    {
     "data": {
      "text/html": [
       "<div>\n",
       "<style scoped>\n",
       "    .dataframe tbody tr th:only-of-type {\n",
       "        vertical-align: middle;\n",
       "    }\n",
       "\n",
       "    .dataframe tbody tr th {\n",
       "        vertical-align: top;\n",
       "    }\n",
       "\n",
       "    .dataframe thead th {\n",
       "        text-align: right;\n",
       "    }\n",
       "</style>\n",
       "<table border=\"1\" class=\"dataframe\">\n",
       "  <thead>\n",
       "    <tr style=\"text-align: right;\">\n",
       "      <th></th>\n",
       "      <th>f0</th>\n",
       "      <th>f1</th>\n",
       "      <th>f2</th>\n",
       "      <th>product</th>\n",
       "    </tr>\n",
       "  </thead>\n",
       "  <tbody>\n",
       "    <tr>\n",
       "      <th>count</th>\n",
       "      <td>100000.000000</td>\n",
       "      <td>100000.000000</td>\n",
       "      <td>100000.000000</td>\n",
       "      <td>100000.000000</td>\n",
       "    </tr>\n",
       "    <tr>\n",
       "      <th>mean</th>\n",
       "      <td>0.500419</td>\n",
       "      <td>0.250143</td>\n",
       "      <td>2.502647</td>\n",
       "      <td>92.500000</td>\n",
       "    </tr>\n",
       "    <tr>\n",
       "      <th>std</th>\n",
       "      <td>0.871832</td>\n",
       "      <td>0.504433</td>\n",
       "      <td>3.248248</td>\n",
       "      <td>44.288691</td>\n",
       "    </tr>\n",
       "    <tr>\n",
       "      <th>min</th>\n",
       "      <td>-1.408605</td>\n",
       "      <td>-0.848218</td>\n",
       "      <td>-12.088328</td>\n",
       "      <td>0.000000</td>\n",
       "    </tr>\n",
       "    <tr>\n",
       "      <th>25%</th>\n",
       "      <td>-0.072580</td>\n",
       "      <td>-0.200881</td>\n",
       "      <td>0.287748</td>\n",
       "      <td>56.497507</td>\n",
       "    </tr>\n",
       "    <tr>\n",
       "      <th>50%</th>\n",
       "      <td>0.502360</td>\n",
       "      <td>0.250252</td>\n",
       "      <td>2.515969</td>\n",
       "      <td>91.849972</td>\n",
       "    </tr>\n",
       "    <tr>\n",
       "      <th>75%</th>\n",
       "      <td>1.073581</td>\n",
       "      <td>0.700646</td>\n",
       "      <td>4.715088</td>\n",
       "      <td>128.564089</td>\n",
       "    </tr>\n",
       "    <tr>\n",
       "      <th>max</th>\n",
       "      <td>2.362331</td>\n",
       "      <td>1.343769</td>\n",
       "      <td>16.003790</td>\n",
       "      <td>185.364347</td>\n",
       "    </tr>\n",
       "  </tbody>\n",
       "</table>\n",
       "</div>"
      ],
      "text/plain": [
       "                  f0             f1             f2        product\n",
       "count  100000.000000  100000.000000  100000.000000  100000.000000\n",
       "mean        0.500419       0.250143       2.502647      92.500000\n",
       "std         0.871832       0.504433       3.248248      44.288691\n",
       "min        -1.408605      -0.848218     -12.088328       0.000000\n",
       "25%        -0.072580      -0.200881       0.287748      56.497507\n",
       "50%         0.502360       0.250252       2.515969      91.849972\n",
       "75%         1.073581       0.700646       4.715088     128.564089\n",
       "max         2.362331       1.343769      16.003790     185.364347"
      ]
     },
     "metadata": {},
     "output_type": "display_data"
    },
    {
     "data": {
      "text/html": [
       "<div>\n",
       "<style scoped>\n",
       "    .dataframe tbody tr th:only-of-type {\n",
       "        vertical-align: middle;\n",
       "    }\n",
       "\n",
       "    .dataframe tbody tr th {\n",
       "        vertical-align: top;\n",
       "    }\n",
       "\n",
       "    .dataframe thead th {\n",
       "        text-align: right;\n",
       "    }\n",
       "</style>\n",
       "<table border=\"1\" class=\"dataframe\">\n",
       "  <thead>\n",
       "    <tr style=\"text-align: right;\">\n",
       "      <th></th>\n",
       "      <th>f0</th>\n",
       "      <th>f1</th>\n",
       "      <th>f2</th>\n",
       "      <th>product</th>\n",
       "    </tr>\n",
       "  </thead>\n",
       "  <tbody>\n",
       "    <tr>\n",
       "      <th>count</th>\n",
       "      <td>100000.000000</td>\n",
       "      <td>100000.000000</td>\n",
       "      <td>100000.000000</td>\n",
       "      <td>100000.000000</td>\n",
       "    </tr>\n",
       "    <tr>\n",
       "      <th>mean</th>\n",
       "      <td>1.141296</td>\n",
       "      <td>-4.796579</td>\n",
       "      <td>2.494541</td>\n",
       "      <td>68.825000</td>\n",
       "    </tr>\n",
       "    <tr>\n",
       "      <th>std</th>\n",
       "      <td>8.965932</td>\n",
       "      <td>5.119872</td>\n",
       "      <td>1.703572</td>\n",
       "      <td>45.944423</td>\n",
       "    </tr>\n",
       "    <tr>\n",
       "      <th>min</th>\n",
       "      <td>-31.609576</td>\n",
       "      <td>-26.358598</td>\n",
       "      <td>-0.018144</td>\n",
       "      <td>0.000000</td>\n",
       "    </tr>\n",
       "    <tr>\n",
       "      <th>25%</th>\n",
       "      <td>-6.298551</td>\n",
       "      <td>-8.267985</td>\n",
       "      <td>1.000021</td>\n",
       "      <td>26.953261</td>\n",
       "    </tr>\n",
       "    <tr>\n",
       "      <th>50%</th>\n",
       "      <td>1.153055</td>\n",
       "      <td>-4.813172</td>\n",
       "      <td>2.011479</td>\n",
       "      <td>57.085625</td>\n",
       "    </tr>\n",
       "    <tr>\n",
       "      <th>75%</th>\n",
       "      <td>8.621015</td>\n",
       "      <td>-1.332816</td>\n",
       "      <td>3.999904</td>\n",
       "      <td>107.813044</td>\n",
       "    </tr>\n",
       "    <tr>\n",
       "      <th>max</th>\n",
       "      <td>29.421755</td>\n",
       "      <td>18.734063</td>\n",
       "      <td>5.019721</td>\n",
       "      <td>137.945408</td>\n",
       "    </tr>\n",
       "  </tbody>\n",
       "</table>\n",
       "</div>"
      ],
      "text/plain": [
       "                  f0             f1             f2        product\n",
       "count  100000.000000  100000.000000  100000.000000  100000.000000\n",
       "mean        1.141296      -4.796579       2.494541      68.825000\n",
       "std         8.965932       5.119872       1.703572      45.944423\n",
       "min       -31.609576     -26.358598      -0.018144       0.000000\n",
       "25%        -6.298551      -8.267985       1.000021      26.953261\n",
       "50%         1.153055      -4.813172       2.011479      57.085625\n",
       "75%         8.621015      -1.332816       3.999904     107.813044\n",
       "max        29.421755      18.734063       5.019721     137.945408"
      ]
     },
     "metadata": {},
     "output_type": "display_data"
    },
    {
     "data": {
      "text/html": [
       "<div>\n",
       "<style scoped>\n",
       "    .dataframe tbody tr th:only-of-type {\n",
       "        vertical-align: middle;\n",
       "    }\n",
       "\n",
       "    .dataframe tbody tr th {\n",
       "        vertical-align: top;\n",
       "    }\n",
       "\n",
       "    .dataframe thead th {\n",
       "        text-align: right;\n",
       "    }\n",
       "</style>\n",
       "<table border=\"1\" class=\"dataframe\">\n",
       "  <thead>\n",
       "    <tr style=\"text-align: right;\">\n",
       "      <th></th>\n",
       "      <th>f0</th>\n",
       "      <th>f1</th>\n",
       "      <th>f2</th>\n",
       "      <th>product</th>\n",
       "    </tr>\n",
       "  </thead>\n",
       "  <tbody>\n",
       "    <tr>\n",
       "      <th>count</th>\n",
       "      <td>100000.000000</td>\n",
       "      <td>100000.000000</td>\n",
       "      <td>100000.000000</td>\n",
       "      <td>100000.000000</td>\n",
       "    </tr>\n",
       "    <tr>\n",
       "      <th>mean</th>\n",
       "      <td>0.002023</td>\n",
       "      <td>-0.002081</td>\n",
       "      <td>2.495128</td>\n",
       "      <td>95.000000</td>\n",
       "    </tr>\n",
       "    <tr>\n",
       "      <th>std</th>\n",
       "      <td>1.732045</td>\n",
       "      <td>1.730417</td>\n",
       "      <td>3.473445</td>\n",
       "      <td>44.749921</td>\n",
       "    </tr>\n",
       "    <tr>\n",
       "      <th>min</th>\n",
       "      <td>-8.760004</td>\n",
       "      <td>-7.084020</td>\n",
       "      <td>-11.970335</td>\n",
       "      <td>0.000000</td>\n",
       "    </tr>\n",
       "    <tr>\n",
       "      <th>25%</th>\n",
       "      <td>-1.162288</td>\n",
       "      <td>-1.174820</td>\n",
       "      <td>0.130359</td>\n",
       "      <td>59.450441</td>\n",
       "    </tr>\n",
       "    <tr>\n",
       "      <th>50%</th>\n",
       "      <td>0.009424</td>\n",
       "      <td>-0.009482</td>\n",
       "      <td>2.484236</td>\n",
       "      <td>94.925613</td>\n",
       "    </tr>\n",
       "    <tr>\n",
       "      <th>75%</th>\n",
       "      <td>1.158535</td>\n",
       "      <td>1.163678</td>\n",
       "      <td>4.858794</td>\n",
       "      <td>130.595027</td>\n",
       "    </tr>\n",
       "    <tr>\n",
       "      <th>max</th>\n",
       "      <td>7.238262</td>\n",
       "      <td>7.844801</td>\n",
       "      <td>16.739402</td>\n",
       "      <td>190.029838</td>\n",
       "    </tr>\n",
       "  </tbody>\n",
       "</table>\n",
       "</div>"
      ],
      "text/plain": [
       "                  f0             f1             f2        product\n",
       "count  100000.000000  100000.000000  100000.000000  100000.000000\n",
       "mean        0.002023      -0.002081       2.495128      95.000000\n",
       "std         1.732045       1.730417       3.473445      44.749921\n",
       "min        -8.760004      -7.084020     -11.970335       0.000000\n",
       "25%        -1.162288      -1.174820       0.130359      59.450441\n",
       "50%         0.009424      -0.009482       2.484236      94.925613\n",
       "75%         1.158535       1.163678       4.858794     130.595027\n",
       "max         7.238262       7.844801      16.739402     190.029838"
      ]
     },
     "metadata": {},
     "output_type": "display_data"
    }
   ],
   "source": [
    "display(df0.describe())\n",
    "display(df1.describe())\n",
    "display(df2.describe())"
   ]
  },
  {
   "attachments": {},
   "cell_type": "markdown",
   "metadata": {},
   "source": [
    "Смущает наличие истощенных скважин, но с другой стороны модель учтет это"
   ]
  },
  {
   "cell_type": "code",
   "execution_count": 138,
   "metadata": {},
   "outputs": [],
   "source": [
    "# Разделим каждый датасет не признаки и целевой столбец\n",
    "X_0 = df0.drop(['product','id'], axis = 1)\n",
    "X_1 = df1.drop(['product','id'], axis = 1)\n",
    "X_2 = df2.drop(['product','id'], axis = 1)\n",
    "y_0 = df0['product']\n",
    "y_1 = df1['product']\n",
    "y_2 = df2['product']"
   ]
  },
  {
   "cell_type": "code",
   "execution_count": 139,
   "metadata": {},
   "outputs": [
    {
     "name": "stdout",
     "output_type": "stream",
     "text": [
      "Размер тренировочной выборки 0 (75000, 3) (75000,)\n",
      "Размер тренировочной выборки 1 (75000, 3) (75000,)\n",
      "Размер тренировочной выборки 2 (75000, 3) (75000,)\n",
      "Размер валидационной выборки 0 (25000, 3) (25000,)\n",
      "Размер валидационной выборки 1 (25000, 3) (25000,)\n",
      "Размер валидационной выборки 2 (25000, 3) (25000,)\n"
     ]
    }
   ],
   "source": [
    "# Разделим датасеты на тренировочную и валидационную выборки\n",
    "X_0_train, X_0_valid, y_0_train, y_0_valid = train_test_split(X_0, y_0, test_size=0.25, random_state=12345)\n",
    "X_1_train, X_1_valid, y_1_train, y_1_valid = train_test_split(X_1, y_1, test_size=0.25, random_state=12345)\n",
    "X_2_train, X_2_valid, y_2_train, y_2_valid = train_test_split(X_2, y_2, test_size=0.25, random_state=12345)\n",
    "print ('Размер тренировочной выборки 0', X_0_train.shape, y_0_train.shape)\n",
    "print ('Размер тренировочной выборки 1', X_1_train.shape, y_1_train.shape)\n",
    "print ('Размер тренировочной выборки 2', X_2_train.shape, y_2_train.shape)\n",
    "print ('Размер валидационной выборки 0', X_0_valid.shape, y_0_valid.shape)\n",
    "print ('Размер валидационной выборки 1', X_1_valid.shape, y_1_valid.shape)\n",
    "print ('Размер валидационной выборки 2', X_2_valid.shape, y_2_valid.shape)"
   ]
  },
  {
   "cell_type": "code",
   "execution_count": 140,
   "metadata": {},
   "outputs": [
    {
     "name": "stdout",
     "output_type": "stream",
     "text": [
      "Модель обучена\n"
     ]
    }
   ],
   "source": [
    "#Обучим модель на тренировочных данных\n",
    "model_0 = LinearRegression()\n",
    "model_1 = LinearRegression() \n",
    "model_2 = LinearRegression()\n",
    "model_0.fit(X_0_train,y_0_train)\n",
    "model_1.fit(X_1_train,y_1_train)\n",
    "model_2.fit(X_2_train,y_2_train)\n",
    "print ('Модель обучена')"
   ]
  },
  {
   "cell_type": "code",
   "execution_count": 141,
   "metadata": {},
   "outputs": [],
   "source": [
    "#Получем предсказания\n",
    "pred_0 = model_0.predict(X_0_valid)\n",
    "pred_1 = model_1.predict(X_1_valid)\n",
    "pred_2 = model_2.predict(X_2_valid)"
   ]
  },
  {
   "cell_type": "code",
   "execution_count": 142,
   "metadata": {},
   "outputs": [
    {
     "name": "stdout",
     "output_type": "stream",
     "text": [
      "RMSE модели_0: 37.5794217150813\n",
      "RMSE модели_1: 0.8930992867756165\n",
      "RMSE модели_2: 40.02970873393434\n"
     ]
    }
   ],
   "source": [
    "print('RMSE модели_0:', mean_squared_error(y_0_valid, pred_0)**0.5)\n",
    "print('RMSE модели_1:', mean_squared_error(y_1_valid, pred_1)**0.5)\n",
    "print('RMSE модели_2:', mean_squared_error(y_2_valid, pred_2)**0.5)"
   ]
  },
  {
   "cell_type": "code",
   "execution_count": 143,
   "metadata": {},
   "outputs": [
    {
     "name": "stdout",
     "output_type": "stream",
     "text": [
      "Средний запас сырья в регионе 0: 92.59256778438035\n",
      "Средний запас сырья в регионе 1: 68.72854689544602\n",
      "Средний запас сырья в регионе 2: 94.96504596800489\n"
     ]
    }
   ],
   "source": [
    "print('Средний запас сырья в регионе 0:', pred_0.mean())\n",
    "print('Средний запас сырья в регионе 1:', pred_1.mean())\n",
    "print('Средний запас сырья в регионе 2:', pred_2.mean())"
   ]
  },
  {
   "attachments": {},
   "cell_type": "markdown",
   "metadata": {},
   "source": [
    "### Выводы ч. 1\n",
    "* Точнее всего работает модель 1, средняя ошибка в ней - самая маленькая, менее 1000 баррелей\n",
    "* Модели 1 и 3 могут допускать ошибку в 37-40 тысяч барелей, что довольно много (почти треть от среднего)"
   ]
  },
  {
   "attachments": {},
   "cell_type": "markdown",
   "metadata": {},
   "source": [
    "### Расчет экономических показателей\n",
    "* При разведке региона исследуют 500 точек, из которых с помощью машинного обучения выбирают 200 лучших для разработки.\n",
    "* Бюджет на разработку скважин в регионе — 10 млрд рублей.\n",
    "* При нынешних ценах один баррель сырья приносит 450 рублей дохода. Доход с каждой единицы продукта составляет 450 тыс. рублей, поскольку объём указан в тысячах баррелей.\n",
    "* После оценки рисков нужно оставить лишь те регионы, в которых вероятность убытков меньше 2.5%. Среди них выбирают регион с наибольшей средней прибылью."
   ]
  },
  {
   "cell_type": "code",
   "execution_count": 144,
   "metadata": {},
   "outputs": [
    {
     "name": "stdout",
     "output_type": "stream",
     "text": [
      "Бюджет на 1 скважину = 50000000.0\n",
      "Минимальное количество продукта для безубыточной инвестиции = 112.0\n"
     ]
    }
   ],
   "source": [
    "# Определим константы исходя из задания\n",
    "budget = 10000000000\n",
    "unit_profit = 450000\n",
    "count = 500\n",
    "best_count = 200\n",
    "# Чтобы скваржина отработать в 0, запаса скважины должно хватить на то, чтобы отбить затраты\n",
    "budget_1 = budget/200\n",
    "print ('Бюджет на 1 скважину =', budget_1)\n",
    "min_product = budget_1/unit_profit\n",
    "print ('Минимальное количество продукта для безубыточной инвестиции =', np.ceil(min_product))"
   ]
  },
  {
   "attachments": {},
   "cell_type": "markdown",
   "metadata": {},
   "source": [
    "* Средние показатели всех 3 регионов ниже минимальной планки для безубыточного производства, при этом судя по гистограммам мы можем найти такие месторождения, где показатель выше минимума\n",
    "* Теперь у нас все готово, чтобы посчитать какой выхлоп мы получим в каждом из регионов, если начнем разработку 200 лучших скважин"
   ]
  },
  {
   "cell_type": "code",
   "execution_count": 223,
   "metadata": {},
   "outputs": [],
   "source": [
    "#Функция для расчета прибыли каждого региона\n",
    "def profit (target, predict, count):\n",
    "    predict_sorted = pd.Series(predict)\n",
    "    predict_sorted = predict_sorted.sort_values(ascending = False)\n",
    "    selected = target[predict_sorted.index].head(count)\n",
    "    return unit_profit*selected.sum()-budget"
   ]
  },
  {
   "cell_type": "code",
   "execution_count": 228,
   "metadata": {},
   "outputs": [],
   "source": [
    "#Теперь нам нужны предсказания по каждой скважине, т.к. мы можем брать в разработку скважины, которые использовались в тренировочных моделях\n",
    "pred_final_0 = pd.Series(model_0.predict(X_0))\n",
    "pred_final_1 = pd.Series(model_0.predict(X_1))\n",
    "pred_final_2 = pd.Series(model_0.predict(X_2))"
   ]
  },
  {
   "cell_type": "code",
   "execution_count": 225,
   "metadata": {},
   "outputs": [
    {
     "data": {
      "text/plain": [
       "0     95.461973\n",
       "1    116.227394\n",
       "2     88.750254\n",
       "3     95.419237\n",
       "4    114.138969\n",
       "dtype: float64"
      ]
     },
     "execution_count": 225,
     "metadata": {},
     "output_type": "execute_result"
    }
   ],
   "source": [
    "pred_final_0.head()"
   ]
  },
  {
   "cell_type": "code",
   "execution_count": 229,
   "metadata": {},
   "outputs": [
    {
     "name": "stdout",
     "output_type": "stream",
     "text": [
      "Максимальная прибыль регион 0 (млрд) 3.494104192112015\n",
      "Максимальная прибыль регион 1 (млрд) -1.8419942837507324\n",
      "Максимальная прибыль регион 2 (млрд) 3.2460290047726974\n"
     ]
    }
   ],
   "source": [
    "# Рассчетаем прибыль с топ 200 точек каждого региона\n",
    "print ('Максимальная прибыль регион 0 (млрд)', profit(y_0,pred_final_0,200)/1000000000)\n",
    "print ('Максимальная прибыль регион 1 (млрд)', profit(y_1,pred_final_1,200)/1000000000)\n",
    "print ('Максимальная прибыль регион 2 (млрд)', profit(y_2,pred_final_2,200)/1000000000)"
   ]
  },
  {
   "attachments": {},
   "cell_type": "markdown",
   "metadata": {},
   "source": [
    "* В 0 и 2 регионе прибыль составит более 3 млрд рублей, при условии, что удастся разработать самые лучшие скважины.\n",
    "* В регионе 1 инвестиции не окупятся даже если разработать топ скважины."
   ]
  },
  {
   "cell_type": "code",
   "execution_count": 262,
   "metadata": {},
   "outputs": [],
   "source": [
    "# Посчитаем риск уйти в минус в каждом регионе, для этого также сделаем функцию\n",
    "state = RandomState(12345) \n",
    "def bootstrap (target, prediction, count, number):\n",
    "    values = []\n",
    "    k = 0\n",
    "    for i in range(count):\n",
    "        target_subsample = target.sample(n=number, replace=True, random_state=state)\n",
    "        prediction_subsample = prediction[target_subsample.index]\n",
    "        if (profit(target_subsample,prediction_subsample,200)<0): k += 1\n",
    "        values.append(profit(target_subsample,prediction_subsample,200))\n",
    "\n",
    "    return pd.Series(values), k"
   ]
  },
  {
   "cell_type": "code",
   "execution_count": 264,
   "metadata": {},
   "outputs": [
    {
     "name": "stdout",
     "output_type": "stream",
     "text": [
      "Регион_0, среднее: (млрд) 0.42\n",
      "Регион_0, 2.5% квантиль: (млрд) -0.11\n",
      "Регион_0, 97.5% квантиль (млрд): 0.92\n",
      "Шанс остаться в убытке : 5.10%\n"
     ]
    }
   ],
   "source": [
    "# Регион 0 расчет метрик\n",
    "val, k = bootstrap (y_0,pred_final_0,1000,500)\n",
    "print ('Регион_0, среднее: (млрд) {:.2f}'.format(val.mean()/1000000000))\n",
    "print ('Регион_0, 2.5% квантиль: (млрд) {:.2f}'.format(val.quantile(0.025)/1000000000))\n",
    "print ('Регион_0, 97.5% квантиль (млрд): {:.2f}'.format(val.quantile(0.975)/1000000000))\n",
    "print ('Шанс остаться в убытке : {:.2%}'.format(k/1000))"
   ]
  },
  {
   "cell_type": "code",
   "execution_count": 258,
   "metadata": {},
   "outputs": [
    {
     "name": "stdout",
     "output_type": "stream",
     "text": [
      "Регион_0, среднее: (млрд) -3.22\n",
      "Регион_0, 2.5% квантиль: (млрд) -3.81\n",
      "Регион_0, 97.5% квантиль (млрд): -2.65\n",
      "Шанс остаться в убытке : 100.00%\n"
     ]
    }
   ],
   "source": [
    "# Регион 1 расчет метрик\n",
    "val, k = bootstrap (y_1,pred_final_1,1000,500)\n",
    "print ('Регион_0, среднее: (млрд) {:.2f}'.format(val.mean()/1000000000))\n",
    "print ('Регион_0, 2.5% квантиль: (млрд) {:.2f}'.format(val.quantile(0.025)/1000000000))\n",
    "print ('Регион_0, 97.5% квантиль (млрд): {:.2f}'.format(val.quantile(0.975)/1000000000))\n",
    "print ('Шанс остаться в убытке : {:.2%}'.format(k/1000))"
   ]
  },
  {
   "cell_type": "code",
   "execution_count": 265,
   "metadata": {},
   "outputs": [
    {
     "name": "stdout",
     "output_type": "stream",
     "text": [
      "Регион_0, среднее: (млрд) -0.16\n",
      "Регион_0, 2.5% квантиль: (млрд) -0.71\n",
      "Регион_0, 97.5% квантиль (млрд): 0.37\n",
      "Шанс остаться в убытке : 71.40%\n"
     ]
    }
   ],
   "source": [
    "# Регион 2 расчет метрик\n",
    "val, k = bootstrap (y_2,pred_final_2,1000,500)\n",
    "print ('Регион_0, среднее: (млрд) {:.2f}'.format(val.mean()/1000000000))\n",
    "print ('Регион_0, 2.5% квантиль: (млрд) {:.2f}'.format(val.quantile(0.025)/1000000000))\n",
    "print ('Регион_0, 97.5% квантиль (млрд): {:.2f}'.format(val.quantile(0.975)/1000000000))\n",
    "print ('Шанс остаться в убытке : {:.2%}'.format(k/1000))"
   ]
  },
  {
   "attachments": {},
   "cell_type": "markdown",
   "metadata": {},
   "source": [
    "### Итоговые выводы\n",
    "* Самый привлекательный регион для инвестиций - регион 1. Шанс не окупиться составляет лишь 5.1% средняя прибыль составит 0.41 млрд\n",
    "* Второй регион убыточный в 100% случаях\n",
    "* Третий регион с высокой вероятностью - 71.4 не окупит инвестиции"
   ]
  }
 ],
 "metadata": {
  "kernelspec": {
   "display_name": "Python 3",
   "language": "python",
   "name": "python3"
  },
  "language_info": {
   "codemirror_mode": {
    "name": "ipython",
    "version": 3
   },
   "file_extension": ".py",
   "mimetype": "text/x-python",
   "name": "python",
   "nbconvert_exporter": "python",
   "pygments_lexer": "ipython3",
   "version": "3.10.5"
  },
  "orig_nbformat": 4,
  "vscode": {
   "interpreter": {
    "hash": "69a9047f428b72ee57fafcc30cfc1150f80b59105df1fa51f1e4927e742c9d0b"
   }
  }
 },
 "nbformat": 4,
 "nbformat_minor": 2
}

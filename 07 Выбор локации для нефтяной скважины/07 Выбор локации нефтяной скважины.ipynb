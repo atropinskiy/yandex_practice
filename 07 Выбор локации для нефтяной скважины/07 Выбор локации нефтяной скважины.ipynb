{
 "cells": [
  {
   "cell_type": "markdown",
   "metadata": {},
   "source": [
    "### Описание проекта"
   ]
  },
  {
   "cell_type": "markdown",
   "metadata": {},
   "source": [
    "Вы работаете в добывающей компании «ГлавРосГосНефть». Нужно решить, где бурить новую скважину.   \n",
    "Шаги для выбора локации обычно такие:\n",
    "* В избранном регионе собирают характеристики для скважин: качество нефти и объём её запасов;\n",
    "* Строят модель для предсказания объёма запасов в новых скважинах;\n",
    "* Выбирают скважины с самыми высокими оценками значений;\n",
    "* Определяют регион с максимальной суммарной прибылью отобранных скважин.\n",
    "* Вам предоставлены пробы нефти в трёх регионах. Характеристики для каждой скважины в регионе уже известны. Постройте модель для определения региона, где добыча принесёт наибольшую прибыль. \n",
    "* Проанализируйте возможную прибыль и риски техникой Bootstrap."
   ]
  },
  {
   "cell_type": "code",
   "execution_count": 29,
   "metadata": {},
   "outputs": [],
   "source": [
    "# pip install pandas-profiling"
   ]
  },
  {
   "cell_type": "markdown",
   "metadata": {},
   "source": [
    "### Импорт бибилиотек"
   ]
  },
  {
   "cell_type": "code",
   "execution_count": 30,
   "metadata": {},
   "outputs": [],
   "source": [
    "import pandas as pd\n",
    "import numpy as np\n",
    "import matplotlib.pyplot as plt\n",
    "import pandas_profiling\n",
    "from sklearn.model_selection import train_test_split\n",
    "from sklearn.linear_model import LinearRegression\n",
    "from sklearn.metrics import mean_squared_error\n",
    "from numpy.random import RandomState"
   ]
  },
  {
   "cell_type": "markdown",
   "metadata": {},
   "source": [
    "<div class=\"alert alert-block alert-success\">\n",
    "<b>Успех:</b> Импорты  на месте\n",
    "</div>\n",
    "\n"
   ]
  },
  {
   "cell_type": "markdown",
   "metadata": {},
   "source": [
    "### Закгрузка датасета"
   ]
  },
  {
   "cell_type": "code",
   "execution_count": 31,
   "metadata": {},
   "outputs": [
    {
     "data": {
      "text/html": [
       "<div>\n",
       "<style scoped>\n",
       "    .dataframe tbody tr th:only-of-type {\n",
       "        vertical-align: middle;\n",
       "    }\n",
       "\n",
       "    .dataframe tbody tr th {\n",
       "        vertical-align: top;\n",
       "    }\n",
       "\n",
       "    .dataframe thead th {\n",
       "        text-align: right;\n",
       "    }\n",
       "</style>\n",
       "<table border=\"1\" class=\"dataframe\">\n",
       "  <thead>\n",
       "    <tr style=\"text-align: right;\">\n",
       "      <th></th>\n",
       "      <th>id</th>\n",
       "      <th>f0</th>\n",
       "      <th>f1</th>\n",
       "      <th>f2</th>\n",
       "      <th>product</th>\n",
       "    </tr>\n",
       "  </thead>\n",
       "  <tbody>\n",
       "    <tr>\n",
       "      <th>0</th>\n",
       "      <td>txEyH</td>\n",
       "      <td>0.705745</td>\n",
       "      <td>-0.497823</td>\n",
       "      <td>1.22117</td>\n",
       "      <td>105.280062</td>\n",
       "    </tr>\n",
       "    <tr>\n",
       "      <th>1</th>\n",
       "      <td>2acmU</td>\n",
       "      <td>1.334711</td>\n",
       "      <td>-0.340164</td>\n",
       "      <td>4.36508</td>\n",
       "      <td>73.037750</td>\n",
       "    </tr>\n",
       "  </tbody>\n",
       "</table>\n",
       "</div>"
      ],
      "text/plain": [
       "      id        f0        f1       f2     product\n",
       "0  txEyH  0.705745 -0.497823  1.22117  105.280062\n",
       "1  2acmU  1.334711 -0.340164  4.36508   73.037750"
      ]
     },
     "metadata": {},
     "output_type": "display_data"
    },
    {
     "data": {
      "text/html": [
       "<div>\n",
       "<style scoped>\n",
       "    .dataframe tbody tr th:only-of-type {\n",
       "        vertical-align: middle;\n",
       "    }\n",
       "\n",
       "    .dataframe tbody tr th {\n",
       "        vertical-align: top;\n",
       "    }\n",
       "\n",
       "    .dataframe thead th {\n",
       "        text-align: right;\n",
       "    }\n",
       "</style>\n",
       "<table border=\"1\" class=\"dataframe\">\n",
       "  <thead>\n",
       "    <tr style=\"text-align: right;\">\n",
       "      <th></th>\n",
       "      <th>id</th>\n",
       "      <th>f0</th>\n",
       "      <th>f1</th>\n",
       "      <th>f2</th>\n",
       "      <th>product</th>\n",
       "    </tr>\n",
       "  </thead>\n",
       "  <tbody>\n",
       "    <tr>\n",
       "      <th>0</th>\n",
       "      <td>kBEdx</td>\n",
       "      <td>-15.001348</td>\n",
       "      <td>-8.276000</td>\n",
       "      <td>-0.005876</td>\n",
       "      <td>3.179103</td>\n",
       "    </tr>\n",
       "    <tr>\n",
       "      <th>1</th>\n",
       "      <td>62mP7</td>\n",
       "      <td>14.272088</td>\n",
       "      <td>-3.475083</td>\n",
       "      <td>0.999183</td>\n",
       "      <td>26.953261</td>\n",
       "    </tr>\n",
       "  </tbody>\n",
       "</table>\n",
       "</div>"
      ],
      "text/plain": [
       "      id         f0        f1        f2    product\n",
       "0  kBEdx -15.001348 -8.276000 -0.005876   3.179103\n",
       "1  62mP7  14.272088 -3.475083  0.999183  26.953261"
      ]
     },
     "metadata": {},
     "output_type": "display_data"
    },
    {
     "data": {
      "text/html": [
       "<div>\n",
       "<style scoped>\n",
       "    .dataframe tbody tr th:only-of-type {\n",
       "        vertical-align: middle;\n",
       "    }\n",
       "\n",
       "    .dataframe tbody tr th {\n",
       "        vertical-align: top;\n",
       "    }\n",
       "\n",
       "    .dataframe thead th {\n",
       "        text-align: right;\n",
       "    }\n",
       "</style>\n",
       "<table border=\"1\" class=\"dataframe\">\n",
       "  <thead>\n",
       "    <tr style=\"text-align: right;\">\n",
       "      <th></th>\n",
       "      <th>id</th>\n",
       "      <th>f0</th>\n",
       "      <th>f1</th>\n",
       "      <th>f2</th>\n",
       "      <th>product</th>\n",
       "    </tr>\n",
       "  </thead>\n",
       "  <tbody>\n",
       "    <tr>\n",
       "      <th>0</th>\n",
       "      <td>fwXo0</td>\n",
       "      <td>-1.146987</td>\n",
       "      <td>0.963328</td>\n",
       "      <td>-0.828965</td>\n",
       "      <td>27.758673</td>\n",
       "    </tr>\n",
       "    <tr>\n",
       "      <th>1</th>\n",
       "      <td>WJtFt</td>\n",
       "      <td>0.262778</td>\n",
       "      <td>0.269839</td>\n",
       "      <td>-2.530187</td>\n",
       "      <td>56.069697</td>\n",
       "    </tr>\n",
       "  </tbody>\n",
       "</table>\n",
       "</div>"
      ],
      "text/plain": [
       "      id        f0        f1        f2    product\n",
       "0  fwXo0 -1.146987  0.963328 -0.828965  27.758673\n",
       "1  WJtFt  0.262778  0.269839 -2.530187  56.069697"
      ]
     },
     "metadata": {},
     "output_type": "display_data"
    }
   ],
   "source": [
    "try:\n",
    "    df0 = pd.read_csv('./datasets/geo_data_0.csv')\n",
    "    df1 = pd.read_csv('./datasets/geo_data_1.csv')\n",
    "    df2 = pd.read_csv('./datasets/geo_data_2.csv')\n",
    "except:\n",
    "    df0 = pd.read_csv('https://code.s3.yandex.net/datasets/geo_data_0.csv')\n",
    "    df1 = pd.read_csv('https://code.s3.yandex.net/datasets/geo_data_1.csv')\n",
    "    df2 = pd.read_csv('https://code.s3.yandex.net/datasets/geo_data_2.csv')\n",
    "display(df0.head(2),df1.head(2),df2.head(2))"
   ]
  },
  {
   "cell_type": "markdown",
   "metadata": {},
   "source": [
    "* id — уникальный идентификатор скважины;\n",
    "* f0, f1, f2 — три признака точек (неважно, что они означают, но сами признаки значимы);\n",
    "* product — объём запасов в скважине (тыс. баррелей)."
   ]
  },
  {
   "cell_type": "markdown",
   "metadata": {},
   "source": [
    "Пропущенных данных нет, тип данных - float, предобработка не требуется"
   ]
  },
  {
   "cell_type": "code",
   "execution_count": 32,
   "metadata": {},
   "outputs": [
    {
     "data": {
      "image/png": "[encoded data removed]",
      "text/plain": [
       "<Figure size 640x480 with 3 Axes>"
      ]
     },
     "metadata": {},
     "output_type": "display_data"
    }
   ],
   "source": [
    "%matplotlib inline\n",
    "\n",
    "plt.subplot(3, 1, 1)\n",
    "plt.hist(df0['product'])\n",
    "plt.title('Гистограммы целевого признака')\n",
    "plt.subplot(3, 1, 2)\n",
    "plt.hist(df1['product'])\n",
    "plt.subplot(3, 1, 3)\n",
    "plt.hist(df2['product'])\n",
    "plt.show()"
   ]
  },
  {
   "cell_type": "markdown",
   "metadata": {},
   "source": [
    "* geo_0 и geo_2 нормально распределены вокруг среднего, а geo_1 от них отличается.\n",
    "* Т.к. нам требуется предсказывать добычу в регионе воспользуемся моделями "
   ]
  },
  {
   "cell_type": "code",
   "execution_count": 33,
   "metadata": {},
   "outputs": [
    {
     "data": {
      "image/png": "[encoded data removed]",
      "text/plain": [
       "<Figure size 640x480 with 9 Axes>"
      ]
     },
     "metadata": {},
     "output_type": "display_data"
    }
   ],
   "source": [
    "def graph(df,col,i):\n",
    "    plt.subplot(3,3,i)\n",
    "    plt.hist(df[col])\n",
    "dfs = [df0,df1,df2]\n",
    "cols = ['f0','f1','f2']\n",
    "i = 1\n",
    "for df in dfs:\n",
    "    for col in cols:\n",
    "        graph(df,col,i)\n",
    "        i += 1"
   ]
  },
  {
   "cell_type": "markdown",
   "metadata": {},
   "source": [
    "По признакам существенные отличия также у geo_1"
   ]
  },
  {
   "cell_type": "code",
   "execution_count": 34,
   "metadata": {
    "scrolled": true
   },
   "outputs": [
    {
     "data": {
      "text/html": [
       "<div>\n",
       "<style scoped>\n",
       "    .dataframe tbody tr th:only-of-type {\n",
       "        vertical-align: middle;\n",
       "    }\n",
       "\n",
       "    .dataframe tbody tr th {\n",
       "        vertical-align: top;\n",
       "    }\n",
       "\n",
       "    .dataframe thead th {\n",
       "        text-align: right;\n",
       "    }\n",
       "</style>\n",
       "<table border=\"1\" class=\"dataframe\">\n",
       "  <thead>\n",
       "    <tr style=\"text-align: right;\">\n",
       "      <th></th>\n",
       "      <th>f0</th>\n",
       "      <th>f1</th>\n",
       "      <th>f2</th>\n",
       "      <th>product</th>\n",
       "    </tr>\n",
       "  </thead>\n",
       "  <tbody>\n",
       "    <tr>\n",
       "      <th>count</th>\n",
       "      <td>100000.000000</td>\n",
       "      <td>100000.000000</td>\n",
       "      <td>100000.000000</td>\n",
       "      <td>100000.000000</td>\n",
       "    </tr>\n",
       "    <tr>\n",
       "      <th>mean</th>\n",
       "      <td>0.500419</td>\n",
       "      <td>0.250143</td>\n",
       "      <td>2.502647</td>\n",
       "      <td>92.500000</td>\n",
       "    </tr>\n",
       "    <tr>\n",
       "      <th>std</th>\n",
       "      <td>0.871832</td>\n",
       "      <td>0.504433</td>\n",
       "      <td>3.248248</td>\n",
       "      <td>44.288691</td>\n",
       "    </tr>\n",
       "    <tr>\n",
       "      <th>min</th>\n",
       "      <td>-1.408605</td>\n",
       "      <td>-0.848218</td>\n",
       "      <td>-12.088328</td>\n",
       "      <td>0.000000</td>\n",
       "    </tr>\n",
       "    <tr>\n",
       "      <th>25%</th>\n",
       "      <td>-0.072580</td>\n",
       "      <td>-0.200881</td>\n",
       "      <td>0.287748</td>\n",
       "      <td>56.497507</td>\n",
       "    </tr>\n",
       "    <tr>\n",
       "      <th>50%</th>\n",
       "      <td>0.502360</td>\n",
       "      <td>0.250252</td>\n",
       "      <td>2.515969</td>\n",
       "      <td>91.849972</td>\n",
       "    </tr>\n",
       "    <tr>\n",
       "      <th>75%</th>\n",
       "      <td>1.073581</td>\n",
       "      <td>0.700646</td>\n",
       "      <td>4.715088</td>\n",
       "      <td>128.564089</td>\n",
       "    </tr>\n",
       "    <tr>\n",
       "      <th>max</th>\n",
       "      <td>2.362331</td>\n",
       "      <td>1.343769</td>\n",
       "      <td>16.003790</td>\n",
       "      <td>185.364347</td>\n",
       "    </tr>\n",
       "  </tbody>\n",
       "</table>\n",
       "</div>"
      ],
      "text/plain": [
       "                  f0             f1             f2        product\n",
       "count  100000.000000  100000.000000  100000.000000  100000.000000\n",
       "mean        0.500419       0.250143       2.502647      92.500000\n",
       "std         0.871832       0.504433       3.248248      44.288691\n",
       "min        -1.408605      -0.848218     -12.088328       0.000000\n",
       "25%        -0.072580      -0.200881       0.287748      56.497507\n",
       "50%         0.502360       0.250252       2.515969      91.849972\n",
       "75%         1.073581       0.700646       4.715088     128.564089\n",
       "max         2.362331       1.343769      16.003790     185.364347"
      ]
     },
     "metadata": {},
     "output_type": "display_data"
    },
    {
     "data": {
      "text/html": [
       "<div>\n",
       "<style scoped>\n",
       "    .dataframe tbody tr th:only-of-type {\n",
       "        vertical-align: middle;\n",
       "    }\n",
       "\n",
       "    .dataframe tbody tr th {\n",
       "        vertical-align: top;\n",
       "    }\n",
       "\n",
       "    .dataframe thead th {\n",
       "        text-align: right;\n",
       "    }\n",
       "</style>\n",
       "<table border=\"1\" class=\"dataframe\">\n",
       "  <thead>\n",
       "    <tr style=\"text-align: right;\">\n",
       "      <th></th>\n",
       "      <th>f0</th>\n",
       "      <th>f1</th>\n",
       "      <th>f2</th>\n",
       "      <th>product</th>\n",
       "    </tr>\n",
       "  </thead>\n",
       "  <tbody>\n",
       "    <tr>\n",
       "      <th>count</th>\n",
       "      <td>100000.000000</td>\n",
       "      <td>100000.000000</td>\n",
       "      <td>100000.000000</td>\n",
       "      <td>100000.000000</td>\n",
       "    </tr>\n",
       "    <tr>\n",
       "      <th>mean</th>\n",
       "      <td>1.141296</td>\n",
       "      <td>-4.796579</td>\n",
       "      <td>2.494541</td>\n",
       "      <td>68.825000</td>\n",
       "    </tr>\n",
       "    <tr>\n",
       "      <th>std</th>\n",
       "      <td>8.965932</td>\n",
       "      <td>5.119872</td>\n",
       "      <td>1.703572</td>\n",
       "      <td>45.944423</td>\n",
       "    </tr>\n",
       "    <tr>\n",
       "      <th>min</th>\n",
       "      <td>-31.609576</td>\n",
       "      <td>-26.358598</td>\n",
       "      <td>-0.018144</td>\n",
       "      <td>0.000000</td>\n",
       "    </tr>\n",
       "    <tr>\n",
       "      <th>25%</th>\n",
       "      <td>-6.298551</td>\n",
       "      <td>-8.267985</td>\n",
       "      <td>1.000021</td>\n",
       "      <td>26.953261</td>\n",
       "    </tr>\n",
       "    <tr>\n",
       "      <th>50%</th>\n",
       "      <td>1.153055</td>\n",
       "      <td>-4.813172</td>\n",
       "      <td>2.011479</td>\n",
       "      <td>57.085625</td>\n",
       "    </tr>\n",
       "    <tr>\n",
       "      <th>75%</th>\n",
       "      <td>8.621015</td>\n",
       "      <td>-1.332816</td>\n",
       "      <td>3.999904</td>\n",
       "      <td>107.813044</td>\n",
       "    </tr>\n",
       "    <tr>\n",
       "      <th>max</th>\n",
       "      <td>29.421755</td>\n",
       "      <td>18.734063</td>\n",
       "      <td>5.019721</td>\n",
       "      <td>137.945408</td>\n",
       "    </tr>\n",
       "  </tbody>\n",
       "</table>\n",
       "</div>"
      ],
      "text/plain": [
       "                  f0             f1             f2        product\n",
       "count  100000.000000  100000.000000  100000.000000  100000.000000\n",
       "mean        1.141296      -4.796579       2.494541      68.825000\n",
       "std         8.965932       5.119872       1.703572      45.944423\n",
       "min       -31.609576     -26.358598      -0.018144       0.000000\n",
       "25%        -6.298551      -8.267985       1.000021      26.953261\n",
       "50%         1.153055      -4.813172       2.011479      57.085625\n",
       "75%         8.621015      -1.332816       3.999904     107.813044\n",
       "max        29.421755      18.734063       5.019721     137.945408"
      ]
     },
     "metadata": {},
     "output_type": "display_data"
    },
    {
     "data": {
      "text/html": [
       "<div>\n",
       "<style scoped>\n",
       "    .dataframe tbody tr th:only-of-type {\n",
       "        vertical-align: middle;\n",
       "    }\n",
       "\n",
       "    .dataframe tbody tr th {\n",
       "        vertical-align: top;\n",
       "    }\n",
       "\n",
       "    .dataframe thead th {\n",
       "        text-align: right;\n",
       "    }\n",
       "</style>\n",
       "<table border=\"1\" class=\"dataframe\">\n",
       "  <thead>\n",
       "    <tr style=\"text-align: right;\">\n",
       "      <th></th>\n",
       "      <th>f0</th>\n",
       "      <th>f1</th>\n",
       "      <th>f2</th>\n",
       "      <th>product</th>\n",
       "    </tr>\n",
       "  </thead>\n",
       "  <tbody>\n",
       "    <tr>\n",
       "      <th>count</th>\n",
       "      <td>100000.000000</td>\n",
       "      <td>100000.000000</td>\n",
       "      <td>100000.000000</td>\n",
       "      <td>100000.000000</td>\n",
       "    </tr>\n",
       "    <tr>\n",
       "      <th>mean</th>\n",
       "      <td>0.002023</td>\n",
       "      <td>-0.002081</td>\n",
       "      <td>2.495128</td>\n",
       "      <td>95.000000</td>\n",
       "    </tr>\n",
       "    <tr>\n",
       "      <th>std</th>\n",
       "      <td>1.732045</td>\n",
       "      <td>1.730417</td>\n",
       "      <td>3.473445</td>\n",
       "      <td>44.749921</td>\n",
       "    </tr>\n",
       "    <tr>\n",
       "      <th>min</th>\n",
       "      <td>-8.760004</td>\n",
       "      <td>-7.084020</td>\n",
       "      <td>-11.970335</td>\n",
       "      <td>0.000000</td>\n",
       "    </tr>\n",
       "    <tr>\n",
       "      <th>25%</th>\n",
       "      <td>-1.162288</td>\n",
       "      <td>-1.174820</td>\n",
       "      <td>0.130359</td>\n",
       "      <td>59.450441</td>\n",
       "    </tr>\n",
       "    <tr>\n",
       "      <th>50%</th>\n",
       "      <td>0.009424</td>\n",
       "      <td>-0.009482</td>\n",
       "      <td>2.484236</td>\n",
       "      <td>94.925613</td>\n",
       "    </tr>\n",
       "    <tr>\n",
       "      <th>75%</th>\n",
       "      <td>1.158535</td>\n",
       "      <td>1.163678</td>\n",
       "      <td>4.858794</td>\n",
       "      <td>130.595027</td>\n",
       "    </tr>\n",
       "    <tr>\n",
       "      <th>max</th>\n",
       "      <td>7.238262</td>\n",
       "      <td>7.844801</td>\n",
       "      <td>16.739402</td>\n",
       "      <td>190.029838</td>\n",
       "    </tr>\n",
       "  </tbody>\n",
       "</table>\n",
       "</div>"
      ],
      "text/plain": [
       "                  f0             f1             f2        product\n",
       "count  100000.000000  100000.000000  100000.000000  100000.000000\n",
       "mean        0.002023      -0.002081       2.495128      95.000000\n",
       "std         1.732045       1.730417       3.473445      44.749921\n",
       "min        -8.760004      -7.084020     -11.970335       0.000000\n",
       "25%        -1.162288      -1.174820       0.130359      59.450441\n",
       "50%         0.009424      -0.009482       2.484236      94.925613\n",
       "75%         1.158535       1.163678       4.858794     130.595027\n",
       "max         7.238262       7.844801      16.739402     190.029838"
      ]
     },
     "metadata": {},
     "output_type": "display_data"
    }
   ],
   "source": [
    "for df in dfs:\n",
    "    display(df.describe())"
   ]
  },
  {
   "cell_type": "markdown",
   "metadata": {},
   "source": [
    "Смущает наличие истощенных скважин, но с другой стороны модель учтет это"
   ]
  },
  {
   "cell_type": "code",
   "execution_count": 35,
   "metadata": {},
   "outputs": [],
   "source": [
    "# Разделим каждый датасет не признаки и целевой столбец\n",
    "X_0 = df0.drop(['product','id'], axis = 1)\n",
    "X_1 = df1.drop(['product','id'], axis = 1)\n",
    "X_2 = df2.drop(['product','id'], axis = 1)\n",
    "y_0 = df0['product']\n",
    "y_1 = df1['product']\n",
    "y_2 = df2['product']"
   ]
  },
  {
   "cell_type": "code",
   "execution_count": 36,
   "metadata": {},
   "outputs": [
    {
     "name": "stdout",
     "output_type": "stream",
     "text": [
      "Размер тренировочной выборки 0 (75000, 3) (75000,)\n",
      "Размер тренировочной выборки 1 (75000, 3) (75000,)\n",
      "Размер тренировочной выборки 2 (75000, 3) (75000,)\n",
      "Размер валидационной выборки 0 (25000, 3) (25000,)\n",
      "Размер валидационной выборки 1 (25000, 3) (25000,)\n",
      "Размер валидационной выборки 2 (25000, 3) (25000,)\n"
     ]
    }
   ],
   "source": [
    "# Разделим датасеты на тренировочную и валидационную выборки\n",
    "X_0_train, X_0_valid, y_0_train, y_0_valid = train_test_split(X_0, y_0, test_size=0.25, random_state=12345)\n",
    "X_1_train, X_1_valid, y_1_train, y_1_valid = train_test_split(X_1, y_1, test_size=0.25, random_state=12345)\n",
    "X_2_train, X_2_valid, y_2_train, y_2_valid = train_test_split(X_2, y_2, test_size=0.25, random_state=12345)\n",
    "print ('Размер тренировочной выборки 0', X_0_train.shape, y_0_train.shape)\n",
    "print ('Размер тренировочной выборки 1', X_1_train.shape, y_1_train.shape)\n",
    "print ('Размер тренировочной выборки 2', X_2_train.shape, y_2_train.shape)\n",
    "print ('Размер валидационной выборки 0', X_0_valid.shape, y_0_valid.shape)\n",
    "print ('Размер валидационной выборки 1', X_1_valid.shape, y_1_valid.shape)\n",
    "print ('Размер валидационной выборки 2', X_2_valid.shape, y_2_valid.shape)"
   ]
  },
  {
   "cell_type": "code",
   "execution_count": 37,
   "metadata": {},
   "outputs": [
    {
     "name": "stdout",
     "output_type": "stream",
     "text": [
      "Модель обучена\n"
     ]
    }
   ],
   "source": [
    "#Обучим модель на тренировочных данных\n",
    "model_0 = LinearRegression()\n",
    "model_1 = LinearRegression() \n",
    "model_2 = LinearRegression()\n",
    "model_0.fit(X_0_train,y_0_train)\n",
    "model_1.fit(X_1_train,y_1_train)\n",
    "model_2.fit(X_2_train,y_2_train)\n",
    "print ('Модель обучена')"
   ]
  },
  {
   "cell_type": "code",
   "execution_count": 38,
   "metadata": {},
   "outputs": [],
   "source": [
    "#Получем предсказания\n",
    "pred_0 = model_0.predict(X_0_valid)\n",
    "pred_1 = model_1.predict(X_1_valid)\n",
    "pred_2 = model_2.predict(X_2_valid)"
   ]
  },
  {
   "cell_type": "code",
   "execution_count": 39,
   "metadata": {},
   "outputs": [
    {
     "name": "stdout",
     "output_type": "stream",
     "text": [
      "RMSE модели_0: 37.5794217150813\n",
      "RMSE модели_1: 0.8930992867756165\n",
      "RMSE модели_2: 40.02970873393434\n"
     ]
    }
   ],
   "source": [
    "print('RMSE модели_0:', mean_squared_error(y_0_valid, pred_0)**0.5)\n",
    "print('RMSE модели_1:', mean_squared_error(y_1_valid, pred_1)**0.5)\n",
    "print('RMSE модели_2:', mean_squared_error(y_2_valid, pred_2)**0.5)"
   ]
  },
  {
   "cell_type": "code",
   "execution_count": 40,
   "metadata": {},
   "outputs": [
    {
     "name": "stdout",
     "output_type": "stream",
     "text": [
      "Средний запас сырья в регионе 0: 92.59256778438035\n",
      "Средний запас сырья в регионе 1: 68.72854689544602\n",
      "Средний запас сырья в регионе 2: 94.96504596800489\n"
     ]
    }
   ],
   "source": [
    "print('Средний запас сырья в регионе 0:', pred_0.mean())\n",
    "print('Средний запас сырья в регионе 1:', pred_1.mean())\n",
    "print('Средний запас сырья в регионе 2:', pred_2.mean())"
   ]
  },
  {
   "cell_type": "markdown",
   "metadata": {},
   "source": [
    "### Выводы ч. 1\n",
    "* Точнее всего работает модель 1, средняя ошибка в ней - самая маленькая, менее 1000 баррелей\n",
    "* Модели 1 и 3 могут допускать ошибку в 37-40 тысяч барелей, что довольно много (почти треть от среднего)"
   ]
  },
  {
   "cell_type": "markdown",
   "metadata": {},
   "source": [
    "### Расчет экономических показателей\n",
    "* При разведке региона исследуют 500 точек, из которых с помощью машинного обучения выбирают 200 лучших для разработки.\n",
    "* Бюджет на разработку скважин в регионе — 10 млрд рублей.\n",
    "* При нынешних ценах один баррель сырья приносит 450 рублей дохода. Доход с каждой единицы продукта составляет 450 тыс. рублей, поскольку объём указан в тысячах баррелей.\n",
    "* После оценки рисков нужно оставить лишь те регионы, в которых вероятность убытков меньше 2.5%. Среди них выбирают регион с наибольшей средней прибылью."
   ]
  },
  {
   "cell_type": "code",
   "execution_count": 41,
   "metadata": {},
   "outputs": [
    {
     "name": "stdout",
     "output_type": "stream",
     "text": [
      "Бюджет на 1 скважину = 50000000.0\n",
      "Минимальное количество продукта для безубыточной инвестиции = 112.0\n"
     ]
    }
   ],
   "source": [
    "# Определим константы исходя из задания\n",
    "BUDGET = 10_000_000_000\n",
    "UNIT_PROFIT = 450000\n",
    "COUNT = 500\n",
    "BEST_COUNT = 200\n",
    "# Чтобы скваржина отработать в 0, запаса скважины должно хватить на то, чтобы отбить затраты\n",
    "BUDGET_1 = BUDGET/200\n",
    "print ('Бюджет на 1 скважину =', BUDGET_1)\n",
    "min_product = BUDGET_1/UNIT_PROFIT\n",
    "print ('Минимальное количество продукта для безубыточной инвестиции =', np.ceil(min_product))"
   ]
  },
  {
   "cell_type": "markdown",
   "metadata": {},
   "source": [
    "* Средние показатели всех 3 регионов ниже минимальной планки для безубыточного производства, при этом судя по гистограммам мы можем найти такие месторождения, где показатель выше минимума\n",
    "* Теперь у нас все готово, чтобы посчитать какой выхлоп мы получим в каждом из регионов, если начнем разработку 200 лучших скважин"
   ]
  },
  {
   "cell_type": "markdown",
   "metadata": {},
   "source": [
    "<div class=\"alert alert-block alert-success\">\n",
    "<b>Успех:</b> Значение для безубыточной разработки посчитано верно, с выводом согласен  \n",
    "</div>"
   ]
  },
  {
   "cell_type": "code",
   "execution_count": 42,
   "metadata": {},
   "outputs": [],
   "source": [
    "#Функция для расчета прибыли каждого региона\n",
    "def profit (target, predict, count):\n",
    "    target = target.reset_index(drop = True)\n",
    "    predict = predict.reset_index(drop = True)\n",
    "    predict_sorted = pd.Series(predict)\n",
    "    predict_sorted = predict_sorted.sort_values(ascending = False)\n",
    "    selected = target[predict_sorted.index].head(count)\n",
    "    return int(UNIT_PROFIT*selected.sum()-BUDGET)"
   ]
  },
  {
   "cell_type": "code",
   "execution_count": 43,
   "metadata": {},
   "outputs": [],
   "source": [
    "#Теперь нам нужны предсказания по каждой скважине, т.к. мы можем брать в разработку скважины, которые использовались в тренировочных моделях\n",
    "pred_final_0 = pd.Series(model_0.predict(X_0_valid))\n",
    "pred_final_1 = pd.Series(model_1.predict(X_1_valid))\n",
    "pred_final_2 = pd.Series(model_2.predict(X_2_valid))"
   ]
  },
  {
   "cell_type": "code",
   "execution_count": 44,
   "metadata": {},
   "outputs": [
    {
     "data": {
      "text/plain": [
       "0    95.894952\n",
       "1    77.572583\n",
       "2    77.892640\n",
       "3    90.175134\n",
       "4    70.510088\n",
       "dtype: float64"
      ]
     },
     "execution_count": 44,
     "metadata": {},
     "output_type": "execute_result"
    }
   ],
   "source": [
    "pred_final_0.head()"
   ]
  },
  {
   "cell_type": "code",
   "execution_count": 45,
   "metadata": {},
   "outputs": [
    {
     "name": "stdout",
     "output_type": "stream",
     "text": [
      "Максимальная прибыль регион 0 (млрд) 3.320826043\n",
      "Максимальная прибыль регион 1 (млрд) 2.415086696\n",
      "Максимальная прибыль регион 2 (млрд) 2.710349963\n"
     ]
    }
   ],
   "source": [
    "# Рассчетаем прибыль с топ 200 точек каждого региона\n",
    "print ('Максимальная прибыль регион 0 (млрд)', profit(y_0_valid,pred_final_0,200)/1000000000)\n",
    "print ('Максимальная прибыль регион 1 (млрд)', profit(y_1_valid,pred_final_1,200)/1000000000)\n",
    "print ('Максимальная прибыль регион 2 (млрд)', profit(y_2_valid,pred_final_2,200)/1000000000)"
   ]
  },
  {
   "cell_type": "markdown",
   "metadata": {},
   "source": [
    "* В 0 и 2 регионе прибыль составит более 3 млрд рублей, при условии, что удастся разработать самые лучшие скважины.\n",
    "* В регионе 1 инвестиции не окупятся даже если разработать топ скважины."
   ]
  },
  {
   "cell_type": "code",
   "execution_count": 46,
   "metadata": {},
   "outputs": [],
   "source": [
    "# Посчитаем риск уйти в минус в каждом регионе, для этого также сделаем функцию\n",
    "state = RandomState(12345) \n",
    "def bootstrap (target, prediction, count, number):\n",
    "    values = []\n",
    "    target.index = prediction.index\n",
    "    for i in range(count):\n",
    "        target_subsample = target.sample(n=number, replace=True, random_state=state)\n",
    "        prediction_subsample = prediction[target_subsample.index]\n",
    "        values.append(int(profit(target_subsample,prediction_subsample,200)))\n",
    "    values = pd.Series(values)\n",
    "    risk = int(len(values[values < 0]))/1000\n",
    "    #print ((values < 0).mean())\n",
    "\n",
    "    return pd.Series(values), risk"
   ]
  },
  {
   "cell_type": "code",
   "execution_count": 47,
   "metadata": {},
   "outputs": [
    {
     "name": "stdout",
     "output_type": "stream",
     "text": [
      "Регион_0, среднее: (млрд) 0.40\n",
      "Регион_0, 2.5% квантиль: (млрд) -0.11\n",
      "Регион_0, 97.5% квантиль (млрд): 0.91\n",
      "Шанс остаться в убытке : 6.90%\n"
     ]
    }
   ],
   "source": [
    "# Регион 0 расчет метрик\n",
    "val, k = bootstrap (y_0_valid,pred_final_0,1000,500)\n",
    "print ('Регион_0, среднее: (млрд) {:.2f}'.format(val.mean()/1000000000))\n",
    "print ('Регион_0, 2.5% квантиль: (млрд) {:.2f}'.format(val.quantile(0.025)/1000000000))\n",
    "print ('Регион_0, 97.5% квантиль (млрд): {:.2f}'.format(val.quantile(0.975)/1000000000))\n",
    "print ('Шанс остаться в убытке : {:.2%}'.format(k))"
   ]
  },
  {
   "cell_type": "code",
   "execution_count": 48,
   "metadata": {},
   "outputs": [
    {
     "name": "stdout",
     "output_type": "stream",
     "text": [
      "Регион_0, среднее: (млрд) 0.46\n",
      "Регион_0, 2.5% квантиль: (млрд) 0.08\n",
      "Регион_0, 97.5% квантиль (млрд): 0.86\n",
      "Шанс остаться в убытке : 0.70%\n"
     ]
    }
   ],
   "source": [
    "# Регион 1 расчет метрик\n",
    "val, k = bootstrap (y_1_valid,pred_final_1,1000,500)\n",
    "print ('Регион_0, среднее: (млрд) {:.2f}'.format(val.mean()/1000000000))\n",
    "print ('Регион_0, 2.5% квантиль: (млрд) {:.2f}'.format(val.quantile(0.025)/1000000000))\n",
    "print ('Регион_0, 97.5% квантиль (млрд): {:.2f}'.format(val.quantile(0.975)/1000000000))\n",
    "print ('Шанс остаться в убытке : {:.2%}'.format(k))"
   ]
  },
  {
   "cell_type": "code",
   "execution_count": 49,
   "metadata": {},
   "outputs": [
    {
     "name": "stdout",
     "output_type": "stream",
     "text": [
      "Регион_0, среднее: (млрд) 0.39\n",
      "Регион_0, 2.5% квантиль: (млрд) -0.11\n",
      "Регион_0, 97.5% квантиль (млрд): 0.93\n",
      "Шанс остаться в убытке : 6.50%\n"
     ]
    }
   ],
   "source": [
    "# Регион 2 расчет метрик\n",
    "val, k = bootstrap (y_2_valid,pred_final_2,1000,500)\n",
    "print ('Регион_0, среднее: (млрд) {:.2f}'.format(val.mean()/1000000000))\n",
    "print ('Регион_0, 2.5% квантиль: (млрд) {:.2f}'.format(val.quantile(0.025)/1000000000))\n",
    "print ('Регион_0, 97.5% квантиль (млрд): {:.2f}'.format(val.quantile(0.975)/1000000000))\n",
    "print ('Шанс остаться в убытке : {:.2%}'.format(k))"
   ]
  },
  {
   "cell_type": "markdown",
   "metadata": {},
   "source": [
    "### Итоговые выводы\n",
    "* Самый привлекательный регион для инвестиций - регион 1. Шанс не окупиться составляет лишь 0.7% средняя прибыль составит 0.46 млрд. При это даже 2.5% процентиль положительный.\n",
    "* В 0 и 2 регионе шанс не окупиться около 7%\n"
   ]
  }
 ],
 "metadata": {
  "ExecuteTimeLog": [
   {
    "duration": 2808,
    "start_time": "2023-01-16T16:36:51.900Z"
   },
   {
    "duration": 961,
    "start_time": "2023-01-16T16:36:54.710Z"
   },
   {
    "duration": 3,
    "start_time": "2023-01-16T16:36:55.678Z"
   },
   {
    "duration": 348,
    "start_time": "2023-01-16T16:36:55.682Z"
   },
   {
    "duration": 633,
    "start_time": "2023-01-16T16:36:56.032Z"
   },
   {
    "duration": 203,
    "start_time": "2023-01-16T16:36:56.667Z"
   },
   {
    "duration": 8,
    "start_time": "2023-01-16T16:36:56.877Z"
   },
   {
    "duration": 39,
    "start_time": "2023-01-16T16:36:56.886Z"
   },
   {
    "duration": 22,
    "start_time": "2023-01-16T16:36:56.927Z"
   },
   {
    "duration": 39,
    "start_time": "2023-01-16T16:36:56.951Z"
   },
   {
    "duration": 98,
    "start_time": "2023-01-16T16:36:56.992Z"
   },
   {
    "duration": 5,
    "start_time": "2023-01-16T16:36:57.178Z"
   },
   {
    "duration": 19,
    "start_time": "2023-01-16T16:36:57.185Z"
   },
   {
    "duration": 8,
    "start_time": "2023-01-16T16:36:57.206Z"
   },
   {
    "duration": 63,
    "start_time": "2023-01-16T16:36:57.216Z"
   },
   {
    "duration": 100,
    "start_time": "2023-01-16T16:36:57.281Z"
   },
   {
    "duration": 67,
    "start_time": "2023-01-16T16:36:57.383Z"
   },
   {
    "duration": 5,
    "start_time": "2023-01-16T16:36:57.452Z"
   },
   {
    "duration": 2196,
    "start_time": "2023-01-16T16:36:57.458Z"
   },
   {
    "duration": 2106,
    "start_time": "2023-01-16T16:36:59.656Z"
   },
   {
    "duration": 2141,
    "start_time": "2023-01-16T16:37:01.764Z"
   },
   {
    "duration": 6,
    "start_time": "2023-01-16T16:37:30.612Z"
   },
   {
    "duration": 6,
    "start_time": "2023-01-16T16:37:46.332Z"
   },
   {
    "duration": 138,
    "start_time": "2023-01-16T16:38:39.533Z"
   },
   {
    "duration": 6,
    "start_time": "2023-01-16T16:38:43.313Z"
   },
   {
    "duration": 5,
    "start_time": "2023-01-16T16:38:47.809Z"
   },
   {
    "duration": 48,
    "start_time": "2023-01-16T16:38:53.833Z"
   },
   {
    "duration": 46,
    "start_time": "2023-01-16T16:38:57.975Z"
   },
   {
    "duration": 58,
    "start_time": "2023-01-16T16:39:02.774Z"
   },
   {
    "duration": 14038,
    "start_time": "2023-01-17T13:17:50.626Z"
   },
   {
    "duration": 2965,
    "start_time": "2023-01-17T13:18:21.207Z"
   },
   {
    "duration": 1187,
    "start_time": "2023-01-17T13:18:24.175Z"
   },
   {
    "duration": 8972,
    "start_time": "2023-01-17T13:18:34.766Z"
   },
   {
    "duration": 669,
    "start_time": "2023-01-17T13:23:02.619Z"
   },
   {
    "duration": 8140,
    "start_time": "2023-01-17T13:23:13.108Z"
   },
   {
    "duration": 7,
    "start_time": "2023-01-17T13:25:14.507Z"
   },
   {
    "duration": 167,
    "start_time": "2023-01-17T13:28:01.801Z"
   },
   {
    "duration": 662,
    "start_time": "2023-01-17T13:28:16.384Z"
   },
   {
    "duration": 122,
    "start_time": "2023-01-17T13:28:35.523Z"
   },
   {
    "duration": 216,
    "start_time": "2023-01-17T13:28:47.607Z"
   },
   {
    "duration": 73,
    "start_time": "2023-01-17T13:31:39.550Z"
   },
   {
    "duration": 85,
    "start_time": "2023-01-17T13:31:46.132Z"
   },
   {
    "duration": 915,
    "start_time": "2023-01-17T13:32:22.376Z"
   },
   {
    "duration": 102,
    "start_time": "2023-01-17T13:33:26.545Z"
   },
   {
    "duration": 8,
    "start_time": "2023-01-17T13:37:52.294Z"
   },
   {
    "duration": 26,
    "start_time": "2023-01-17T13:37:54.118Z"
   },
   {
    "duration": 24,
    "start_time": "2023-01-17T13:37:56.010Z"
   },
   {
    "duration": 110,
    "start_time": "2023-01-17T13:37:57.616Z"
   },
   {
    "duration": 7,
    "start_time": "2023-01-17T13:37:59.445Z"
   },
   {
    "duration": 6,
    "start_time": "2023-01-17T13:38:01.047Z"
   },
   {
    "duration": 5,
    "start_time": "2023-01-17T13:38:51.283Z"
   },
   {
    "duration": 73,
    "start_time": "2023-01-17T13:39:56.341Z"
   },
   {
    "duration": 3,
    "start_time": "2023-01-17T13:39:58.837Z"
   },
   {
    "duration": 10,
    "start_time": "2023-01-17T13:40:01.390Z"
   },
   {
    "duration": 5,
    "start_time": "2023-01-17T13:40:03.431Z"
   },
   {
    "duration": 21,
    "start_time": "2023-01-17T13:40:10.811Z"
   },
   {
    "duration": 4,
    "start_time": "2023-01-17T13:40:15.565Z"
   },
   {
    "duration": 3,
    "start_time": "2023-01-17T13:40:44.519Z"
   },
   {
    "duration": 22,
    "start_time": "2023-01-17T13:40:50.896Z"
   },
   {
    "duration": 5,
    "start_time": "2023-01-17T13:44:32.145Z"
   },
   {
    "duration": 31,
    "start_time": "2023-01-17T13:44:34.433Z"
   },
   {
    "duration": 18,
    "start_time": "2023-01-17T13:45:00.522Z"
   },
   {
    "duration": 18,
    "start_time": "2023-01-17T13:45:25.056Z"
   },
   {
    "duration": 6,
    "start_time": "2023-01-17T13:45:44.706Z"
   },
   {
    "duration": 32,
    "start_time": "2023-01-17T13:46:53.890Z"
   },
   {
    "duration": 103,
    "start_time": "2023-01-17T13:48:32.824Z"
   },
   {
    "duration": 8,
    "start_time": "2023-01-17T13:48:37.367Z"
   },
   {
    "duration": 4,
    "start_time": "2023-01-17T13:51:52.492Z"
   },
   {
    "duration": 5,
    "start_time": "2023-01-17T13:52:00.619Z"
   },
   {
    "duration": 10,
    "start_time": "2023-01-17T13:52:02.847Z"
   },
   {
    "duration": 5,
    "start_time": "2023-01-17T13:52:05.206Z"
   },
   {
    "duration": 21,
    "start_time": "2023-01-17T13:52:07.703Z"
   },
   {
    "duration": 25,
    "start_time": "2023-01-17T13:52:27.117Z"
   },
   {
    "duration": 5,
    "start_time": "2023-01-17T13:52:37.513Z"
   },
   {
    "duration": 4,
    "start_time": "2023-01-17T13:52:39.684Z"
   },
   {
    "duration": 25,
    "start_time": "2023-01-17T13:52:41.790Z"
   },
   {
    "duration": 5,
    "start_time": "2023-01-17T13:53:04.046Z"
   },
   {
    "duration": 27,
    "start_time": "2023-01-17T13:53:06.444Z"
   },
   {
    "duration": 26,
    "start_time": "2023-01-17T13:53:12.112Z"
   },
   {
    "duration": 7,
    "start_time": "2023-01-17T13:53:36.919Z"
   },
   {
    "duration": 5,
    "start_time": "2023-01-17T13:53:41.608Z"
   },
   {
    "duration": 27,
    "start_time": "2023-01-17T13:53:43.718Z"
   },
   {
    "duration": 4,
    "start_time": "2023-01-17T13:54:07.651Z"
   },
   {
    "duration": 27,
    "start_time": "2023-01-17T13:54:09.422Z"
   },
   {
    "duration": 6,
    "start_time": "2023-01-17T13:55:20.935Z"
   },
   {
    "duration": 28,
    "start_time": "2023-01-17T13:55:22.736Z"
   },
   {
    "duration": 30,
    "start_time": "2023-01-17T13:59:20.984Z"
   },
   {
    "duration": 6,
    "start_time": "2023-01-17T14:00:15.312Z"
   },
   {
    "duration": 31,
    "start_time": "2023-01-17T14:00:17.587Z"
   },
   {
    "duration": 30,
    "start_time": "2023-01-17T14:00:37.631Z"
   },
   {
    "duration": 5,
    "start_time": "2023-01-17T14:00:56.181Z"
   },
   {
    "duration": 38,
    "start_time": "2023-01-17T14:00:57.944Z"
   },
   {
    "duration": 5,
    "start_time": "2023-01-17T14:02:13.866Z"
   },
   {
    "duration": 41,
    "start_time": "2023-01-17T14:02:16.192Z"
   },
   {
    "duration": 15,
    "start_time": "2023-01-17T14:02:49.806Z"
   },
   {
    "duration": 20,
    "start_time": "2023-01-17T14:02:51.306Z"
   },
   {
    "duration": 4,
    "start_time": "2023-01-17T14:02:53.450Z"
   },
   {
    "duration": 25,
    "start_time": "2023-01-17T14:02:55.677Z"
   },
   {
    "duration": 5,
    "start_time": "2023-01-17T14:03:35.606Z"
   },
   {
    "duration": 42,
    "start_time": "2023-01-17T14:03:37.720Z"
   },
   {
    "duration": 5,
    "start_time": "2023-01-17T14:04:41.712Z"
   },
   {
    "duration": 31,
    "start_time": "2023-01-17T14:04:43.812Z"
   },
   {
    "duration": 4,
    "start_time": "2023-01-17T14:06:57.037Z"
   },
   {
    "duration": 11,
    "start_time": "2023-01-17T14:06:58.702Z"
   },
   {
    "duration": 7,
    "start_time": "2023-01-17T14:07:00.290Z"
   },
   {
    "duration": 20,
    "start_time": "2023-01-17T14:07:01.614Z"
   },
   {
    "duration": 4,
    "start_time": "2023-01-17T14:07:03.592Z"
   },
   {
    "duration": 1247,
    "start_time": "2023-01-17T14:07:06.172Z"
   },
   {
    "duration": 5,
    "start_time": "2023-01-17T14:07:27.013Z"
   },
   {
    "duration": 1207,
    "start_time": "2023-01-17T14:07:28.940Z"
   },
   {
    "duration": 6,
    "start_time": "2023-01-17T14:07:52.230Z"
   },
   {
    "duration": 1287,
    "start_time": "2023-01-17T14:08:00.349Z"
   },
   {
    "duration": 4,
    "start_time": "2023-01-17T14:10:33.014Z"
   },
   {
    "duration": 1220,
    "start_time": "2023-01-17T14:10:34.849Z"
   },
   {
    "duration": 6,
    "start_time": "2023-01-17T14:12:56.920Z"
   },
   {
    "duration": 1253,
    "start_time": "2023-01-17T14:13:00.937Z"
   },
   {
    "duration": 6,
    "start_time": "2023-01-17T14:13:05.583Z"
   },
   {
    "duration": 1205,
    "start_time": "2023-01-17T14:13:07.342Z"
   },
   {
    "duration": 5,
    "start_time": "2023-01-17T14:13:23.572Z"
   },
   {
    "duration": 1255,
    "start_time": "2023-01-17T14:13:25.493Z"
   },
   {
    "duration": 72,
    "start_time": "2023-01-17T14:14:35.332Z"
   },
   {
    "duration": 5,
    "start_time": "2023-01-17T14:14:59.134Z"
   },
   {
    "duration": 1275,
    "start_time": "2023-01-17T14:15:01.681Z"
   },
   {
    "duration": 5,
    "start_time": "2023-01-17T14:15:21.520Z"
   },
   {
    "duration": 1263,
    "start_time": "2023-01-17T14:15:23.221Z"
   },
   {
    "duration": 4,
    "start_time": "2023-01-17T14:15:59.414Z"
   },
   {
    "duration": 1191,
    "start_time": "2023-01-17T14:16:07.422Z"
   },
   {
    "duration": 5,
    "start_time": "2023-01-17T14:16:18.055Z"
   },
   {
    "duration": 1266,
    "start_time": "2023-01-17T14:16:19.455Z"
   },
   {
    "duration": 6,
    "start_time": "2023-01-17T14:16:38.170Z"
   },
   {
    "duration": 1275,
    "start_time": "2023-01-17T14:16:39.959Z"
   },
   {
    "duration": 96,
    "start_time": "2023-01-17T14:17:02.450Z"
   },
   {
    "duration": 86,
    "start_time": "2023-01-17T14:17:19.744Z"
   },
   {
    "duration": 69,
    "start_time": "2023-01-17T14:17:51.262Z"
   },
   {
    "duration": 78,
    "start_time": "2023-01-17T14:18:53.941Z"
   },
   {
    "duration": 5,
    "start_time": "2023-01-17T14:19:15.992Z"
   },
   {
    "duration": 1274,
    "start_time": "2023-01-17T14:19:19.209Z"
   },
   {
    "duration": 4,
    "start_time": "2023-01-17T14:20:07.630Z"
   },
   {
    "duration": 12,
    "start_time": "2023-01-17T14:20:09.606Z"
   },
   {
    "duration": 5,
    "start_time": "2023-01-17T14:20:11.540Z"
   },
   {
    "duration": 20,
    "start_time": "2023-01-17T14:20:13.327Z"
   },
   {
    "duration": 4,
    "start_time": "2023-01-17T14:20:16.518Z"
   },
   {
    "duration": 1249,
    "start_time": "2023-01-17T14:20:18.406Z"
   },
   {
    "duration": 5,
    "start_time": "2023-01-17T14:20:37.561Z"
   },
   {
    "duration": 1259,
    "start_time": "2023-01-17T14:20:39.447Z"
   },
   {
    "duration": 5,
    "start_time": "2023-01-17T14:21:37.713Z"
   },
   {
    "duration": 1294,
    "start_time": "2023-01-17T14:21:39.432Z"
   },
   {
    "duration": 7,
    "start_time": "2023-01-17T14:21:52.203Z"
   },
   {
    "duration": 1278,
    "start_time": "2023-01-17T14:21:54.340Z"
   },
   {
    "duration": 5,
    "start_time": "2023-01-17T14:22:37.350Z"
   },
   {
    "duration": 1321,
    "start_time": "2023-01-17T14:22:39.253Z"
   },
   {
    "duration": 5,
    "start_time": "2023-01-17T14:22:55.906Z"
   },
   {
    "duration": 1268,
    "start_time": "2023-01-17T14:22:57.654Z"
   },
   {
    "duration": 4,
    "start_time": "2023-01-17T14:23:18.205Z"
   },
   {
    "duration": 1297,
    "start_time": "2023-01-17T14:23:20.021Z"
   },
   {
    "duration": 1221,
    "start_time": "2023-01-17T14:23:34.038Z"
   },
   {
    "duration": 1196,
    "start_time": "2023-01-17T14:24:06.415Z"
   },
   {
    "duration": 4,
    "start_time": "2023-01-17T14:24:49.016Z"
   },
   {
    "duration": 3,
    "start_time": "2023-01-17T14:24:55.987Z"
   },
   {
    "duration": 920,
    "start_time": "2023-01-17T14:24:57.569Z"
   },
   {
    "duration": 851,
    "start_time": "2023-01-17T14:25:01.904Z"
   },
   {
    "duration": 306,
    "start_time": "2023-01-17T14:25:07.207Z"
   },
   {
    "duration": 926,
    "start_time": "2023-01-17T14:25:19.589Z"
   },
   {
    "duration": 7826,
    "start_time": "2023-01-17T14:25:27.711Z"
   },
   {
    "duration": 537,
    "start_time": "2023-01-17T14:25:38.362Z"
   },
   {
    "duration": 621,
    "start_time": "2023-01-17T14:25:41.171Z"
   },
   {
    "duration": 112,
    "start_time": "2023-01-17T14:25:44.108Z"
   },
   {
    "duration": 8,
    "start_time": "2023-01-17T14:25:46.644Z"
   },
   {
    "duration": 32,
    "start_time": "2023-01-17T14:25:48.035Z"
   },
   {
    "duration": 26,
    "start_time": "2023-01-17T14:25:49.284Z"
   },
   {
    "duration": 12,
    "start_time": "2023-01-17T14:25:50.051Z"
   },
   {
    "duration": 7,
    "start_time": "2023-01-17T14:25:50.449Z"
   },
   {
    "duration": 5,
    "start_time": "2023-01-17T14:25:53.611Z"
   },
   {
    "duration": 5,
    "start_time": "2023-01-17T14:25:58.273Z"
   },
   {
    "duration": 4,
    "start_time": "2023-01-17T14:25:59.965Z"
   },
   {
    "duration": 14,
    "start_time": "2023-01-17T14:26:01.708Z"
   },
   {
    "duration": 6,
    "start_time": "2023-01-17T14:26:03.774Z"
   },
   {
    "duration": 22,
    "start_time": "2023-01-17T14:26:05.408Z"
   },
   {
    "duration": 5,
    "start_time": "2023-01-17T14:26:08.740Z"
   },
   {
    "duration": 1211,
    "start_time": "2023-01-17T14:26:15.808Z"
   },
   {
    "duration": 1259,
    "start_time": "2023-01-17T14:26:18.394Z"
   },
   {
    "duration": 1199,
    "start_time": "2023-01-17T14:26:21.348Z"
   },
   {
    "duration": 1213,
    "start_time": "2023-01-17T14:27:28.749Z"
   },
   {
    "duration": 1218,
    "start_time": "2023-01-17T14:27:31.666Z"
   },
   {
    "duration": 5,
    "start_time": "2023-01-17T14:28:24.692Z"
   },
   {
    "duration": 11,
    "start_time": "2023-01-17T14:28:26.907Z"
   },
   {
    "duration": 7,
    "start_time": "2023-01-17T14:28:30.343Z"
   },
   {
    "duration": 19,
    "start_time": "2023-01-17T14:28:32.581Z"
   },
   {
    "duration": 5,
    "start_time": "2023-01-17T14:28:34.166Z"
   },
   {
    "duration": 1245,
    "start_time": "2023-01-17T14:28:36.016Z"
   },
   {
    "duration": 3,
    "start_time": "2023-01-17T15:57:37.692Z"
   },
   {
    "duration": 768,
    "start_time": "2023-01-17T15:57:37.697Z"
   },
   {
    "duration": 0,
    "start_time": "2023-01-17T15:57:38.467Z"
   },
   {
    "duration": 0,
    "start_time": "2023-01-17T15:57:38.468Z"
   },
   {
    "duration": 0,
    "start_time": "2023-01-17T15:57:38.470Z"
   },
   {
    "duration": 0,
    "start_time": "2023-01-17T15:57:38.471Z"
   },
   {
    "duration": 0,
    "start_time": "2023-01-17T15:57:38.472Z"
   },
   {
    "duration": 0,
    "start_time": "2023-01-17T15:57:38.474Z"
   },
   {
    "duration": 0,
    "start_time": "2023-01-17T15:57:38.476Z"
   },
   {
    "duration": 0,
    "start_time": "2023-01-17T15:57:38.477Z"
   },
   {
    "duration": 0,
    "start_time": "2023-01-17T15:57:38.478Z"
   },
   {
    "duration": 0,
    "start_time": "2023-01-17T15:57:38.480Z"
   },
   {
    "duration": 0,
    "start_time": "2023-01-17T15:57:38.481Z"
   },
   {
    "duration": 0,
    "start_time": "2023-01-17T15:57:38.483Z"
   },
   {
    "duration": 0,
    "start_time": "2023-01-17T15:57:38.484Z"
   },
   {
    "duration": 0,
    "start_time": "2023-01-17T15:57:38.485Z"
   },
   {
    "duration": 0,
    "start_time": "2023-01-17T15:57:38.486Z"
   },
   {
    "duration": 0,
    "start_time": "2023-01-17T15:57:38.487Z"
   },
   {
    "duration": 0,
    "start_time": "2023-01-17T15:57:38.488Z"
   },
   {
    "duration": 0,
    "start_time": "2023-01-17T15:57:38.489Z"
   },
   {
    "duration": 0,
    "start_time": "2023-01-17T15:57:38.490Z"
   },
   {
    "duration": 0,
    "start_time": "2023-01-17T15:57:38.492Z"
   },
   {
    "duration": 1996,
    "start_time": "2023-01-17T15:58:38.822Z"
   },
   {
    "duration": 825,
    "start_time": "2023-01-17T15:58:40.820Z"
   },
   {
    "duration": 45,
    "start_time": "2023-01-17T15:58:41.646Z"
   },
   {
    "duration": 264,
    "start_time": "2023-01-17T15:58:47.571Z"
   },
   {
    "duration": 541,
    "start_time": "2023-01-17T15:58:48.108Z"
   },
   {
    "duration": 164,
    "start_time": "2023-01-17T15:58:48.770Z"
   },
   {
    "duration": 8,
    "start_time": "2023-01-17T15:58:49.493Z"
   },
   {
    "duration": 35,
    "start_time": "2023-01-17T15:58:49.670Z"
   },
   {
    "duration": 20,
    "start_time": "2023-01-17T15:58:49.841Z"
   },
   {
    "duration": 11,
    "start_time": "2023-01-17T15:58:50.362Z"
   },
   {
    "duration": 98,
    "start_time": "2023-01-17T15:58:50.446Z"
   },
   {
    "duration": 4,
    "start_time": "2023-01-17T15:58:50.546Z"
   },
   {
    "duration": 4,
    "start_time": "2023-01-17T15:58:51.022Z"
   },
   {
    "duration": 3,
    "start_time": "2023-01-17T15:58:51.272Z"
   },
   {
    "duration": 9,
    "start_time": "2023-01-17T15:58:51.442Z"
   },
   {
    "duration": 5,
    "start_time": "2023-01-17T15:58:51.692Z"
   },
   {
    "duration": 17,
    "start_time": "2023-01-17T15:58:51.772Z"
   },
   {
    "duration": 4,
    "start_time": "2023-01-17T15:58:52.292Z"
   },
   {
    "duration": 1007,
    "start_time": "2023-01-17T15:58:53.052Z"
   },
   {
    "duration": 1074,
    "start_time": "2023-01-17T15:58:54.060Z"
   },
   {
    "duration": 980,
    "start_time": "2023-01-17T15:58:55.136Z"
   },
   {
    "duration": 4,
    "start_time": "2023-01-17T15:59:33.652Z"
   },
   {
    "duration": 6,
    "start_time": "2023-01-17T15:59:34.462Z"
   },
   {
    "duration": 1034,
    "start_time": "2023-01-17T15:59:35.163Z"
   },
   {
    "duration": 1044,
    "start_time": "2023-01-17T15:59:42.791Z"
   },
   {
    "duration": 0,
    "start_time": "2023-01-17T15:59:43.844Z"
   },
   {
    "duration": 6,
    "start_time": "2023-01-17T16:01:13.942Z"
   },
   {
    "duration": 5,
    "start_time": "2023-01-17T16:01:19.752Z"
   },
   {
    "duration": 13,
    "start_time": "2023-01-17T16:01:37.092Z"
   },
   {
    "duration": 5,
    "start_time": "2023-01-17T16:01:37.952Z"
   },
   {
    "duration": 18,
    "start_time": "2023-01-17T16:01:38.143Z"
   },
   {
    "duration": 5,
    "start_time": "2023-01-17T16:01:39.532Z"
   },
   {
    "duration": 1055,
    "start_time": "2023-01-17T16:01:40.372Z"
   },
   {
    "duration": 0,
    "start_time": "2023-01-17T16:01:41.428Z"
   },
   {
    "duration": 0,
    "start_time": "2023-01-17T16:01:41.430Z"
   },
   {
    "duration": 1126,
    "start_time": "2023-01-17T16:01:44.502Z"
   },
   {
    "duration": 1069,
    "start_time": "2023-01-17T16:01:46.810Z"
   },
   {
    "duration": 10,
    "start_time": "2023-01-17T16:01:51.272Z"
   },
   {
    "duration": 4,
    "start_time": "2023-01-17T16:02:37.510Z"
   },
   {
    "duration": 1086,
    "start_time": "2023-01-17T16:02:38.522Z"
   },
   {
    "duration": 4,
    "start_time": "2023-01-17T16:03:23.773Z"
   },
   {
    "duration": 1129,
    "start_time": "2023-01-17T16:03:23.779Z"
   },
   {
    "duration": 1017,
    "start_time": "2023-01-17T16:03:24.910Z"
   },
   {
    "duration": 1083,
    "start_time": "2023-01-17T16:03:25.929Z"
   },
   {
    "duration": 4,
    "start_time": "2023-01-17T16:03:34.178Z"
   },
   {
    "duration": 62,
    "start_time": "2023-01-17T16:03:34.481Z"
   },
   {
    "duration": 5,
    "start_time": "2023-01-17T16:03:35.000Z"
   },
   {
    "duration": 17,
    "start_time": "2023-01-17T16:03:35.142Z"
   },
   {
    "duration": 5,
    "start_time": "2023-01-17T16:03:35.468Z"
   },
   {
    "duration": 1067,
    "start_time": "2023-01-17T16:03:36.691Z"
   },
   {
    "duration": 1048,
    "start_time": "2023-01-17T16:03:37.760Z"
   },
   {
    "duration": 46,
    "start_time": "2023-01-17T17:14:02.201Z"
   },
   {
    "duration": 784,
    "start_time": "2023-01-17T17:14:08.652Z"
   },
   {
    "duration": 3,
    "start_time": "2023-01-17T17:14:12.095Z"
   },
   {
    "duration": 12514,
    "start_time": "2023-01-17T17:14:16.053Z"
   },
   {
    "duration": 3620,
    "start_time": "2023-01-17T17:14:28.569Z"
   },
   {
    "duration": 869,
    "start_time": "2023-01-17T17:14:32.191Z"
   },
   {
    "duration": 7687,
    "start_time": "2023-01-17T17:14:33.062Z"
   },
   {
    "duration": 296,
    "start_time": "2023-01-17T17:14:40.751Z"
   },
   {
    "duration": 536,
    "start_time": "2023-01-17T17:14:41.048Z"
   },
   {
    "duration": 102,
    "start_time": "2023-01-17T17:14:41.585Z"
   },
   {
    "duration": 8,
    "start_time": "2023-01-17T17:14:41.689Z"
   },
   {
    "duration": 48,
    "start_time": "2023-01-17T17:14:41.698Z"
   },
   {
    "duration": 21,
    "start_time": "2023-01-17T17:14:41.749Z"
   },
   {
    "duration": 73,
    "start_time": "2023-01-17T17:14:41.772Z"
   },
   {
    "duration": 97,
    "start_time": "2023-01-17T17:14:41.847Z"
   },
   {
    "duration": 12,
    "start_time": "2023-01-17T17:14:41.946Z"
   },
   {
    "duration": 86,
    "start_time": "2023-01-17T17:14:41.960Z"
   },
   {
    "duration": 5,
    "start_time": "2023-01-17T17:14:42.047Z"
   },
   {
    "duration": 91,
    "start_time": "2023-01-17T17:14:42.053Z"
   },
   {
    "duration": 12,
    "start_time": "2023-01-17T17:14:48.200Z"
   },
   {
    "duration": 5,
    "start_time": "2023-01-17T17:14:50.006Z"
   },
   {
    "duration": 16,
    "start_time": "2023-01-17T17:14:51.558Z"
   },
   {
    "duration": 5,
    "start_time": "2023-01-17T17:14:53.957Z"
   },
   {
    "duration": 1160,
    "start_time": "2023-01-17T17:15:01.062Z"
   },
   {
    "duration": 1137,
    "start_time": "2023-01-17T17:15:02.465Z"
   },
   {
    "duration": 1126,
    "start_time": "2023-01-17T17:15:07.905Z"
   },
   {
    "duration": 6,
    "start_time": "2023-01-17T17:17:25.326Z"
   }
  ],
  "kernelspec": {
   "display_name": "Python 3 (ipykernel)",
   "language": "python",
   "name": "python3"
  },
  "language_info": {
   "codemirror_mode": {
    "name": "ipython",
    "version": 3
   },
   "file_extension": ".py",
   "mimetype": "text/x-python",
   "name": "python",
   "nbconvert_exporter": "python",
   "pygments_lexer": "ipython3",
   "version": "3.10.5"
  },
  "toc": {
   "base_numbering": 1,
   "nav_menu": {},
   "number_sections": true,
   "sideBar": true,
   "skip_h1_title": true,
   "title_cell": "Table of Contents",
   "title_sidebar": "Contents",
   "toc_cell": false,
   "toc_position": {},
   "toc_section_display": true,
   "toc_window_display": false
  },
  "vscode": {
   "interpreter": {
    "hash": "69a9047f428b72ee57fafcc30cfc1150f80b59105df1fa51f1e4927e742c9d0b"
   }
  }
 },
 "nbformat": 4,
 "nbformat_minor": 2
}

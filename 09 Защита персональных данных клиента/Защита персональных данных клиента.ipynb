{
 "cells": [
  {
   "cell_type": "markdown",
   "metadata": {},
   "source": [
    "#### Описание проекта  \n",
    "Вам нужно защитить данные клиентов страховой компании «Хоть потоп». Разработайте такой метод преобразования данных, чтобы по ним было сложно восстановить персональную информацию. Обоснуйте корректность его работы.\n",
    "Нужно защитить данные, чтобы при преобразовании качество моделей машинного обучения не ухудшилось. Подбирать наилучшую модель не требуется."
   ]
  },
  {
   "cell_type": "markdown",
   "metadata": {},
   "source": [
    "### Загрузка данных"
   ]
  },
  {
   "cell_type": "code",
   "execution_count": 3,
   "metadata": {},
   "outputs": [],
   "source": [
    "#pip install plotly==5.5.0"
   ]
  },
  {
   "cell_type": "code",
   "execution_count": 4,
   "metadata": {},
   "outputs": [],
   "source": [
    "#pip install phik --user"
   ]
  },
  {
   "cell_type": "code",
   "execution_count": 5,
   "metadata": {},
   "outputs": [],
   "source": [
    "import pandas as pd\n",
    "import numpy as np\n",
    "import matplotlib.pyplot as plt\n",
    "\n",
    "import plotly.express as px\n",
    "import plotly.graph_objects as go\n",
    "import seaborn as sns\n",
    "\n",
    "from sklearn.linear_model import LinearRegression\n",
    "from sklearn.model_selection import train_test_split\n",
    "from sklearn.metrics import r2_score, mean_squared_error\n",
    "\n",
    "from phik.report import plot_correlation_matrix\n",
    "\n",
    "import warnings\n",
    "warnings.filterwarnings('ignore')"
   ]
  },
  {
   "cell_type": "code",
   "execution_count": 6,
   "metadata": {},
   "outputs": [
    {
     "data": {
      "text/html": [
       "<div>\n",
       "<style scoped>\n",
       "    .dataframe tbody tr th:only-of-type {\n",
       "        vertical-align: middle;\n",
       "    }\n",
       "\n",
       "    .dataframe tbody tr th {\n",
       "        vertical-align: top;\n",
       "    }\n",
       "\n",
       "    .dataframe thead th {\n",
       "        text-align: right;\n",
       "    }\n",
       "</style>\n",
       "<table border=\"1\" class=\"dataframe\">\n",
       "  <thead>\n",
       "    <tr style=\"text-align: right;\">\n",
       "      <th></th>\n",
       "      <th>Пол</th>\n",
       "      <th>Возраст</th>\n",
       "      <th>Зарплата</th>\n",
       "      <th>Члены семьи</th>\n",
       "      <th>Страховые выплаты</th>\n",
       "    </tr>\n",
       "  </thead>\n",
       "  <tbody>\n",
       "    <tr>\n",
       "      <th>0</th>\n",
       "      <td>1</td>\n",
       "      <td>41.0</td>\n",
       "      <td>49600.0</td>\n",
       "      <td>1</td>\n",
       "      <td>0</td>\n",
       "    </tr>\n",
       "    <tr>\n",
       "      <th>1</th>\n",
       "      <td>0</td>\n",
       "      <td>46.0</td>\n",
       "      <td>38000.0</td>\n",
       "      <td>1</td>\n",
       "      <td>1</td>\n",
       "    </tr>\n",
       "    <tr>\n",
       "      <th>2</th>\n",
       "      <td>0</td>\n",
       "      <td>29.0</td>\n",
       "      <td>21000.0</td>\n",
       "      <td>0</td>\n",
       "      <td>0</td>\n",
       "    </tr>\n",
       "    <tr>\n",
       "      <th>3</th>\n",
       "      <td>0</td>\n",
       "      <td>21.0</td>\n",
       "      <td>41700.0</td>\n",
       "      <td>2</td>\n",
       "      <td>0</td>\n",
       "    </tr>\n",
       "    <tr>\n",
       "      <th>4</th>\n",
       "      <td>1</td>\n",
       "      <td>28.0</td>\n",
       "      <td>26100.0</td>\n",
       "      <td>0</td>\n",
       "      <td>0</td>\n",
       "    </tr>\n",
       "  </tbody>\n",
       "</table>\n",
       "</div>"
      ],
      "text/plain": [
       "   Пол  Возраст  Зарплата  Члены семьи  Страховые выплаты\n",
       "0    1     41.0   49600.0            1                  0\n",
       "1    0     46.0   38000.0            1                  1\n",
       "2    0     29.0   21000.0            0                  0\n",
       "3    0     21.0   41700.0            2                  0\n",
       "4    1     28.0   26100.0            0                  0"
      ]
     },
     "execution_count": 6,
     "metadata": {},
     "output_type": "execute_result"
    }
   ],
   "source": [
    "try:\n",
    "    df = pd.read_csv('./datasets/insurance.csv')\n",
    "except:\n",
    "    df = pd.read_csv('https://code.s3.yandex.net/datasets/insurance.csv')\n",
    "\n",
    "df.head()\n"
   ]
  },
  {
   "cell_type": "code",
   "execution_count": 7,
   "metadata": {
    "scrolled": false
   },
   "outputs": [
    {
     "name": "stdout",
     "output_type": "stream",
     "text": [
      "<class 'pandas.core.frame.DataFrame'>\n",
      "RangeIndex: 5000 entries, 0 to 4999\n",
      "Data columns (total 5 columns):\n",
      " #   Column             Non-Null Count  Dtype  \n",
      "---  ------             --------------  -----  \n",
      " 0   Пол                5000 non-null   int64  \n",
      " 1   Возраст            5000 non-null   float64\n",
      " 2   Зарплата           5000 non-null   float64\n",
      " 3   Члены семьи        5000 non-null   int64  \n",
      " 4   Страховые выплаты  5000 non-null   int64  \n",
      "dtypes: float64(2), int64(3)\n",
      "memory usage: 195.4 KB\n"
     ]
    }
   ],
   "source": [
    "df.info()"
   ]
  },
  {
   "cell_type": "markdown",
   "metadata": {},
   "source": [
    "* Пропусков нет\n",
    "* Тип данных корректный"
   ]
  },
  {
   "cell_type": "code",
   "execution_count": 8,
   "metadata": {},
   "outputs": [
    {
     "data": {
      "text/html": [
       "<div>\n",
       "<style scoped>\n",
       "    .dataframe tbody tr th:only-of-type {\n",
       "        vertical-align: middle;\n",
       "    }\n",
       "\n",
       "    .dataframe tbody tr th {\n",
       "        vertical-align: top;\n",
       "    }\n",
       "\n",
       "    .dataframe thead th {\n",
       "        text-align: right;\n",
       "    }\n",
       "</style>\n",
       "<table border=\"1\" class=\"dataframe\">\n",
       "  <thead>\n",
       "    <tr style=\"text-align: right;\">\n",
       "      <th></th>\n",
       "      <th>Пол</th>\n",
       "      <th>Возраст</th>\n",
       "      <th>Зарплата</th>\n",
       "      <th>Члены семьи</th>\n",
       "      <th>Страховые выплаты</th>\n",
       "    </tr>\n",
       "  </thead>\n",
       "  <tbody>\n",
       "    <tr>\n",
       "      <th>2429</th>\n",
       "      <td>1</td>\n",
       "      <td>18.0</td>\n",
       "      <td>39800.0</td>\n",
       "      <td>2</td>\n",
       "      <td>0</td>\n",
       "    </tr>\n",
       "    <tr>\n",
       "      <th>2512</th>\n",
       "      <td>1</td>\n",
       "      <td>19.0</td>\n",
       "      <td>43200.0</td>\n",
       "      <td>1</td>\n",
       "      <td>0</td>\n",
       "    </tr>\n",
       "    <tr>\n",
       "      <th>2269</th>\n",
       "      <td>1</td>\n",
       "      <td>19.0</td>\n",
       "      <td>43200.0</td>\n",
       "      <td>1</td>\n",
       "      <td>0</td>\n",
       "    </tr>\n",
       "    <tr>\n",
       "      <th>4129</th>\n",
       "      <td>1</td>\n",
       "      <td>19.0</td>\n",
       "      <td>35600.0</td>\n",
       "      <td>2</td>\n",
       "      <td>0</td>\n",
       "    </tr>\n",
       "    <tr>\n",
       "      <th>2853</th>\n",
       "      <td>0</td>\n",
       "      <td>19.0</td>\n",
       "      <td>51700.0</td>\n",
       "      <td>0</td>\n",
       "      <td>0</td>\n",
       "    </tr>\n",
       "    <tr>\n",
       "      <th>2694</th>\n",
       "      <td>1</td>\n",
       "      <td>19.0</td>\n",
       "      <td>52600.0</td>\n",
       "      <td>0</td>\n",
       "      <td>0</td>\n",
       "    </tr>\n",
       "    <tr>\n",
       "      <th>4935</th>\n",
       "      <td>1</td>\n",
       "      <td>19.0</td>\n",
       "      <td>32700.0</td>\n",
       "      <td>0</td>\n",
       "      <td>0</td>\n",
       "    </tr>\n",
       "    <tr>\n",
       "      <th>4726</th>\n",
       "      <td>1</td>\n",
       "      <td>19.0</td>\n",
       "      <td>31700.0</td>\n",
       "      <td>1</td>\n",
       "      <td>0</td>\n",
       "    </tr>\n",
       "    <tr>\n",
       "      <th>887</th>\n",
       "      <td>1</td>\n",
       "      <td>19.0</td>\n",
       "      <td>35500.0</td>\n",
       "      <td>0</td>\n",
       "      <td>0</td>\n",
       "    </tr>\n",
       "    <tr>\n",
       "      <th>3419</th>\n",
       "      <td>1</td>\n",
       "      <td>19.0</td>\n",
       "      <td>41600.0</td>\n",
       "      <td>1</td>\n",
       "      <td>0</td>\n",
       "    </tr>\n",
       "  </tbody>\n",
       "</table>\n",
       "</div>"
      ],
      "text/plain": [
       "      Пол  Возраст  Зарплата  Члены семьи  Страховые выплаты\n",
       "2429    1     18.0   39800.0            2                  0\n",
       "2512    1     19.0   43200.0            1                  0\n",
       "2269    1     19.0   43200.0            1                  0\n",
       "4129    1     19.0   35600.0            2                  0\n",
       "2853    0     19.0   51700.0            0                  0\n",
       "2694    1     19.0   52600.0            0                  0\n",
       "4935    1     19.0   32700.0            0                  0\n",
       "4726    1     19.0   31700.0            1                  0\n",
       "887     1     19.0   35500.0            0                  0\n",
       "3419    1     19.0   41600.0            1                  0"
      ]
     },
     "execution_count": 8,
     "metadata": {},
     "output_type": "execute_result"
    }
   ],
   "source": [
    "df[df.duplicated()==True].sort_values('Возраст').head(10)"
   ]
  },
  {
   "cell_type": "markdown",
   "metadata": {},
   "source": [
    "* Есть дубликаты, и смущает, что зарплата сходится рубль в рубль. Пока оставлю, допуская вероятность того, что в кредитном брокере сотрудник выбирает уровень дохода из списка или брокер округляет указанную сумму."
   ]
  },
  {
   "cell_type": "code",
   "execution_count": 9,
   "metadata": {},
   "outputs": [
    {
     "data": {
      "text/plain": [
       "45800.0    29\n",
       "37100.0    28\n",
       "41500.0    27\n",
       "43200.0    27\n",
       "46800.0    26\n",
       "           ..\n",
       "63500.0     1\n",
       "62600.0     1\n",
       "15200.0     1\n",
       "65900.0     1\n",
       "56800.0     1\n",
       "Name: Зарплата, Length: 524, dtype: int64"
      ]
     },
     "execution_count": 9,
     "metadata": {},
     "output_type": "execute_result"
    }
   ],
   "source": [
    "df['Зарплата'].value_counts().sort_values(ascending=False)"
   ]
  },
  {
   "cell_type": "markdown",
   "metadata": {},
   "source": [
    "Да, похоже на то. Довольно много повторяющихся значений, шаг зарплаты - 100"
   ]
  },
  {
   "cell_type": "code",
   "execution_count": 10,
   "metadata": {},
   "outputs": [
    {
     "data": {
      "image/png": "[encoded data removed]",
      "text/plain": [
       "<Figure size 800x800 with 6 Axes>"
      ]
     },
     "metadata": {},
     "output_type": "display_data"
    }
   ],
   "source": [
    "df.hist(figsize=(8,8), bins = 50)\n",
    "plt.show()"
   ]
  },
  {
   "cell_type": "code",
   "execution_count": 11,
   "metadata": {},
   "outputs": [
    {
     "data": {
      "text/html": [
       "<div>\n",
       "<style scoped>\n",
       "    .dataframe tbody tr th:only-of-type {\n",
       "        vertical-align: middle;\n",
       "    }\n",
       "\n",
       "    .dataframe tbody tr th {\n",
       "        vertical-align: top;\n",
       "    }\n",
       "\n",
       "    .dataframe thead th {\n",
       "        text-align: right;\n",
       "    }\n",
       "</style>\n",
       "<table border=\"1\" class=\"dataframe\">\n",
       "  <thead>\n",
       "    <tr style=\"text-align: right;\">\n",
       "      <th></th>\n",
       "      <th>Пол</th>\n",
       "      <th>Возраст</th>\n",
       "      <th>Зарплата</th>\n",
       "      <th>Члены семьи</th>\n",
       "      <th>Страховые выплаты</th>\n",
       "    </tr>\n",
       "  </thead>\n",
       "  <tbody>\n",
       "    <tr>\n",
       "      <th>count</th>\n",
       "      <td>5000.000000</td>\n",
       "      <td>5000.000000</td>\n",
       "      <td>5000.000000</td>\n",
       "      <td>5000.000000</td>\n",
       "      <td>5000.000000</td>\n",
       "    </tr>\n",
       "    <tr>\n",
       "      <th>mean</th>\n",
       "      <td>0.499000</td>\n",
       "      <td>30.952800</td>\n",
       "      <td>39916.360000</td>\n",
       "      <td>1.194200</td>\n",
       "      <td>0.148000</td>\n",
       "    </tr>\n",
       "    <tr>\n",
       "      <th>std</th>\n",
       "      <td>0.500049</td>\n",
       "      <td>8.440807</td>\n",
       "      <td>9900.083569</td>\n",
       "      <td>1.091387</td>\n",
       "      <td>0.463183</td>\n",
       "    </tr>\n",
       "    <tr>\n",
       "      <th>min</th>\n",
       "      <td>0.000000</td>\n",
       "      <td>18.000000</td>\n",
       "      <td>5300.000000</td>\n",
       "      <td>0.000000</td>\n",
       "      <td>0.000000</td>\n",
       "    </tr>\n",
       "    <tr>\n",
       "      <th>25%</th>\n",
       "      <td>0.000000</td>\n",
       "      <td>24.000000</td>\n",
       "      <td>33300.000000</td>\n",
       "      <td>0.000000</td>\n",
       "      <td>0.000000</td>\n",
       "    </tr>\n",
       "    <tr>\n",
       "      <th>50%</th>\n",
       "      <td>0.000000</td>\n",
       "      <td>30.000000</td>\n",
       "      <td>40200.000000</td>\n",
       "      <td>1.000000</td>\n",
       "      <td>0.000000</td>\n",
       "    </tr>\n",
       "    <tr>\n",
       "      <th>75%</th>\n",
       "      <td>1.000000</td>\n",
       "      <td>37.000000</td>\n",
       "      <td>46600.000000</td>\n",
       "      <td>2.000000</td>\n",
       "      <td>0.000000</td>\n",
       "    </tr>\n",
       "    <tr>\n",
       "      <th>max</th>\n",
       "      <td>1.000000</td>\n",
       "      <td>65.000000</td>\n",
       "      <td>79000.000000</td>\n",
       "      <td>6.000000</td>\n",
       "      <td>5.000000</td>\n",
       "    </tr>\n",
       "  </tbody>\n",
       "</table>\n",
       "</div>"
      ],
      "text/plain": [
       "               Пол      Возраст      Зарплата  Члены семьи  Страховые выплаты\n",
       "count  5000.000000  5000.000000   5000.000000  5000.000000        5000.000000\n",
       "mean      0.499000    30.952800  39916.360000     1.194200           0.148000\n",
       "std       0.500049     8.440807   9900.083569     1.091387           0.463183\n",
       "min       0.000000    18.000000   5300.000000     0.000000           0.000000\n",
       "25%       0.000000    24.000000  33300.000000     0.000000           0.000000\n",
       "50%       0.000000    30.000000  40200.000000     1.000000           0.000000\n",
       "75%       1.000000    37.000000  46600.000000     2.000000           0.000000\n",
       "max       1.000000    65.000000  79000.000000     6.000000           5.000000"
      ]
     },
     "execution_count": 11,
     "metadata": {},
     "output_type": "execute_result"
    }
   ],
   "source": [
    "df.describe()"
   ]
  },
  {
   "cell_type": "markdown",
   "metadata": {},
   "source": [
    "Сильных выпадов я не вижу. Возраст от 18 до 65 скорее всего ограничен програмно. Смущает 5 в страховых выплатах. Также стоит посмотреть на значения."
   ]
  },
  {
   "cell_type": "code",
   "execution_count": 12,
   "metadata": {},
   "outputs": [
    {
     "data": {
      "text/plain": [
       "0    4436\n",
       "1     423\n",
       "2     115\n",
       "3      18\n",
       "4       7\n",
       "5       1\n",
       "Name: Страховые выплаты, dtype: int64"
      ]
     },
     "execution_count": 12,
     "metadata": {},
     "output_type": "execute_result"
    }
   ],
   "source": [
    "df['Страховые выплаты'].value_counts()"
   ]
  },
  {
   "cell_type": "markdown",
   "metadata": {},
   "source": [
    "В целом я допускаю, что одному и тому же человека могли сделать несколько выплат, хотя можно заменить все, что больше 1 на 1."
   ]
  },
  {
   "cell_type": "code",
   "execution_count": 13,
   "metadata": {},
   "outputs": [
    {
     "data": {
      "application/vnd.plotly.v1+json": {
       "config": {
        "plotlyServerURL": "https://plot.ly"
       },
       "data": [
        {
         "coloraxis": "coloraxis",
         "hovertemplate": "x: %{x}<br>y: %{y}<br>color: %{z}<extra></extra>",
         "name": "0",
         "texttemplate": "%{z}",
         "type": "heatmap",
         "x": [
          "Пол",
          "Возраст",
          "Зарплата",
          "Члены семьи",
          "Страховые выплаты"
         ],
         "xaxis": "x",
         "y": [
          "Пол",
          "Возраст",
          "Зарплата",
          "Члены семьи",
          "Страховые выплаты"
         ],
         "yaxis": "y",
         "z": [
          [
           1,
           0,
           0.01,
           -0.01,
           0.01
          ],
          [
           0,
           1,
           -0.02,
           -0.01,
           0.65
          ],
          [
           0.01,
           -0.02,
           1,
           -0.03,
           -0.01
          ],
          [
           -0.01,
           -0.01,
           -0.03,
           1,
           -0.04
          ],
          [
           0.01,
           0.65,
           -0.01,
           -0.04,
           1
          ]
         ]
        }
       ],
       "layout": {
        "coloraxis": {
         "colorscale": [
          [
           0,
           "#0d0887"
          ],
          [
           0.1111111111111111,
           "#46039f"
          ],
          [
           0.2222222222222222,
           "#7201a8"
          ],
          [
           0.3333333333333333,
           "#9c179e"
          ],
          [
           0.4444444444444444,
           "#bd3786"
          ],
          [
           0.5555555555555556,
           "#d8576b"
          ],
          [
           0.6666666666666666,
           "#ed7953"
          ],
          [
           0.7777777777777778,
           "#fb9f3a"
          ],
          [
           0.8888888888888888,
           "#fdca26"
          ],
          [
           1,
           "#f0f921"
          ]
         ]
        },
        "margin": {
         "t": 60
        },
        "template": {
         "data": {
          "bar": [
           {
            "error_x": {
             "color": "#2a3f5f"
            },
            "error_y": {
             "color": "#2a3f5f"
            },
            "marker": {
             "line": {
              "color": "#E5ECF6",
              "width": 0.5
             },
             "pattern": {
              "fillmode": "overlay",
              "size": 10,
              "solidity": 0.2
             }
            },
            "type": "bar"
           }
          ],
          "barpolar": [
           {
            "marker": {
             "line": {
              "color": "#E5ECF6",
              "width": 0.5
             },
             "pattern": {
              "fillmode": "overlay",
              "size": 10,
              "solidity": 0.2
             }
            },
            "type": "barpolar"
           }
          ],
          "carpet": [
           {
            "aaxis": {
             "endlinecolor": "#2a3f5f",
             "gridcolor": "white",
             "linecolor": "white",
             "minorgridcolor": "white",
             "startlinecolor": "#2a3f5f"
            },
            "baxis": {
             "endlinecolor": "#2a3f5f",
             "gridcolor": "white",
             "linecolor": "white",
             "minorgridcolor": "white",
             "startlinecolor": "#2a3f5f"
            },
            "type": "carpet"
           }
          ],
          "choropleth": [
           {
            "colorbar": {
             "outlinewidth": 0,
             "ticks": ""
            },
            "type": "choropleth"
           }
          ],
          "contour": [
           {
            "colorbar": {
             "outlinewidth": 0,
             "ticks": ""
            },
            "colorscale": [
             [
              0,
              "#0d0887"
             ],
             [
              0.1111111111111111,
              "#46039f"
             ],
             [
              0.2222222222222222,
              "#7201a8"
             ],
             [
              0.3333333333333333,
              "#9c179e"
             ],
             [
              0.4444444444444444,
              "#bd3786"
             ],
             [
              0.5555555555555556,
              "#d8576b"
             ],
             [
              0.6666666666666666,
              "#ed7953"
             ],
             [
              0.7777777777777778,
              "#fb9f3a"
             ],
             [
              0.8888888888888888,
              "#fdca26"
             ],
             [
              1,
              "#f0f921"
             ]
            ],
            "type": "contour"
           }
          ],
          "contourcarpet": [
           {
            "colorbar": {
             "outlinewidth": 0,
             "ticks": ""
            },
            "type": "contourcarpet"
           }
          ],
          "heatmap": [
           {
            "colorbar": {
             "outlinewidth": 0,
             "ticks": ""
            },
            "colorscale": [
             [
              0,
              "#0d0887"
             ],
             [
              0.1111111111111111,
              "#46039f"
             ],
             [
              0.2222222222222222,
              "#7201a8"
             ],
             [
              0.3333333333333333,
              "#9c179e"
             ],
             [
              0.4444444444444444,
              "#bd3786"
             ],
             [
              0.5555555555555556,
              "#d8576b"
             ],
             [
              0.6666666666666666,
              "#ed7953"
             ],
             [
              0.7777777777777778,
              "#fb9f3a"
             ],
             [
              0.8888888888888888,
              "#fdca26"
             ],
             [
              1,
              "#f0f921"
             ]
            ],
            "type": "heatmap"
           }
          ],
          "heatmapgl": [
           {
            "colorbar": {
             "outlinewidth": 0,
             "ticks": ""
            },
            "colorscale": [
             [
              0,
              "#0d0887"
             ],
             [
              0.1111111111111111,
              "#46039f"
             ],
             [
              0.2222222222222222,
              "#7201a8"
             ],
             [
              0.3333333333333333,
              "#9c179e"
             ],
             [
              0.4444444444444444,
              "#bd3786"
             ],
             [
              0.5555555555555556,
              "#d8576b"
             ],
             [
              0.6666666666666666,
              "#ed7953"
             ],
             [
              0.7777777777777778,
              "#fb9f3a"
             ],
             [
              0.8888888888888888,
              "#fdca26"
             ],
             [
              1,
              "#f0f921"
             ]
            ],
            "type": "heatmapgl"
           }
          ],
          "histogram": [
           {
            "marker": {
             "pattern": {
              "fillmode": "overlay",
              "size": 10,
              "solidity": 0.2
             }
            },
            "type": "histogram"
           }
          ],
          "histogram2d": [
           {
            "colorbar": {
             "outlinewidth": 0,
             "ticks": ""
            },
            "colorscale": [
             [
              0,
              "#0d0887"
             ],
             [
              0.1111111111111111,
              "#46039f"
             ],
             [
              0.2222222222222222,
              "#7201a8"
             ],
             [
              0.3333333333333333,
              "#9c179e"
             ],
             [
              0.4444444444444444,
              "#bd3786"
             ],
             [
              0.5555555555555556,
              "#d8576b"
             ],
             [
              0.6666666666666666,
              "#ed7953"
             ],
             [
              0.7777777777777778,
              "#fb9f3a"
             ],
             [
              0.8888888888888888,
              "#fdca26"
             ],
             [
              1,
              "#f0f921"
             ]
            ],
            "type": "histogram2d"
           }
          ],
          "histogram2dcontour": [
           {
            "colorbar": {
             "outlinewidth": 0,
             "ticks": ""
            },
            "colorscale": [
             [
              0,
              "#0d0887"
             ],
             [
              0.1111111111111111,
              "#46039f"
             ],
             [
              0.2222222222222222,
              "#7201a8"
             ],
             [
              0.3333333333333333,
              "#9c179e"
             ],
             [
              0.4444444444444444,
              "#bd3786"
             ],
             [
              0.5555555555555556,
              "#d8576b"
             ],
             [
              0.6666666666666666,
              "#ed7953"
             ],
             [
              0.7777777777777778,
              "#fb9f3a"
             ],
             [
              0.8888888888888888,
              "#fdca26"
             ],
             [
              1,
              "#f0f921"
             ]
            ],
            "type": "histogram2dcontour"
           }
          ],
          "mesh3d": [
           {
            "colorbar": {
             "outlinewidth": 0,
             "ticks": ""
            },
            "type": "mesh3d"
           }
          ],
          "parcoords": [
           {
            "line": {
             "colorbar": {
              "outlinewidth": 0,
              "ticks": ""
             }
            },
            "type": "parcoords"
           }
          ],
          "pie": [
           {
            "automargin": true,
            "type": "pie"
           }
          ],
          "scatter": [
           {
            "fillpattern": {
             "fillmode": "overlay",
             "size": 10,
             "solidity": 0.2
            },
            "type": "scatter"
           }
          ],
          "scatter3d": [
           {
            "line": {
             "colorbar": {
              "outlinewidth": 0,
              "ticks": ""
             }
            },
            "marker": {
             "colorbar": {
              "outlinewidth": 0,
              "ticks": ""
             }
            },
            "type": "scatter3d"
           }
          ],
          "scattercarpet": [
           {
            "marker": {
             "colorbar": {
              "outlinewidth": 0,
              "ticks": ""
             }
            },
            "type": "scattercarpet"
           }
          ],
          "scattergeo": [
           {
            "marker": {
             "colorbar": {
              "outlinewidth": 0,
              "ticks": ""
             }
            },
            "type": "scattergeo"
           }
          ],
          "scattergl": [
           {
            "marker": {
             "colorbar": {
              "outlinewidth": 0,
              "ticks": ""
             }
            },
            "type": "scattergl"
           }
          ],
          "scattermapbox": [
           {
            "marker": {
             "colorbar": {
              "outlinewidth": 0,
              "ticks": ""
             }
            },
            "type": "scattermapbox"
           }
          ],
          "scatterpolar": [
           {
            "marker": {
             "colorbar": {
              "outlinewidth": 0,
              "ticks": ""
             }
            },
            "type": "scatterpolar"
           }
          ],
          "scatterpolargl": [
           {
            "marker": {
             "colorbar": {
              "outlinewidth": 0,
              "ticks": ""
             }
            },
            "type": "scatterpolargl"
           }
          ],
          "scatterternary": [
           {
            "marker": {
             "colorbar": {
              "outlinewidth": 0,
              "ticks": ""
             }
            },
            "type": "scatterternary"
           }
          ],
          "surface": [
           {
            "colorbar": {
             "outlinewidth": 0,
             "ticks": ""
            },
            "colorscale": [
             [
              0,
              "#0d0887"
             ],
             [
              0.1111111111111111,
              "#46039f"
             ],
             [
              0.2222222222222222,
              "#7201a8"
             ],
             [
              0.3333333333333333,
              "#9c179e"
             ],
             [
              0.4444444444444444,
              "#bd3786"
             ],
             [
              0.5555555555555556,
              "#d8576b"
             ],
             [
              0.6666666666666666,
              "#ed7953"
             ],
             [
              0.7777777777777778,
              "#fb9f3a"
             ],
             [
              0.8888888888888888,
              "#fdca26"
             ],
             [
              1,
              "#f0f921"
             ]
            ],
            "type": "surface"
           }
          ],
          "table": [
           {
            "cells": {
             "fill": {
              "color": "#EBF0F8"
             },
             "line": {
              "color": "white"
             }
            },
            "header": {
             "fill": {
              "color": "#C8D4E3"
             },
             "line": {
              "color": "white"
             }
            },
            "type": "table"
           }
          ]
         },
         "layout": {
          "annotationdefaults": {
           "arrowcolor": "#2a3f5f",
           "arrowhead": 0,
           "arrowwidth": 1
          },
          "autotypenumbers": "strict",
          "coloraxis": {
           "colorbar": {
            "outlinewidth": 0,
            "ticks": ""
           }
          },
          "colorscale": {
           "diverging": [
            [
             0,
             "#8e0152"
            ],
            [
             0.1,
             "#c51b7d"
            ],
            [
             0.2,
             "#de77ae"
            ],
            [
             0.3,
             "#f1b6da"
            ],
            [
             0.4,
             "#fde0ef"
            ],
            [
             0.5,
             "#f7f7f7"
            ],
            [
             0.6,
             "#e6f5d0"
            ],
            [
             0.7,
             "#b8e186"
            ],
            [
             0.8,
             "#7fbc41"
            ],
            [
             0.9,
             "#4d9221"
            ],
            [
             1,
             "#276419"
            ]
           ],
           "sequential": [
            [
             0,
             "#0d0887"
            ],
            [
             0.1111111111111111,
             "#46039f"
            ],
            [
             0.2222222222222222,
             "#7201a8"
            ],
            [
             0.3333333333333333,
             "#9c179e"
            ],
            [
             0.4444444444444444,
             "#bd3786"
            ],
            [
             0.5555555555555556,
             "#d8576b"
            ],
            [
             0.6666666666666666,
             "#ed7953"
            ],
            [
             0.7777777777777778,
             "#fb9f3a"
            ],
            [
             0.8888888888888888,
             "#fdca26"
            ],
            [
             1,
             "#f0f921"
            ]
           ],
           "sequentialminus": [
            [
             0,
             "#0d0887"
            ],
            [
             0.1111111111111111,
             "#46039f"
            ],
            [
             0.2222222222222222,
             "#7201a8"
            ],
            [
             0.3333333333333333,
             "#9c179e"
            ],
            [
             0.4444444444444444,
             "#bd3786"
            ],
            [
             0.5555555555555556,
             "#d8576b"
            ],
            [
             0.6666666666666666,
             "#ed7953"
            ],
            [
             0.7777777777777778,
             "#fb9f3a"
            ],
            [
             0.8888888888888888,
             "#fdca26"
            ],
            [
             1,
             "#f0f921"
            ]
           ]
          },
          "colorway": [
           "#636efa",
           "#EF553B",
           "#00cc96",
           "#ab63fa",
           "#FFA15A",
           "#19d3f3",
           "#FF6692",
           "#B6E880",
           "#FF97FF",
           "#FECB52"
          ],
          "font": {
           "color": "#2a3f5f"
          },
          "geo": {
           "bgcolor": "white",
           "lakecolor": "white",
           "landcolor": "#E5ECF6",
           "showlakes": true,
           "showland": true,
           "subunitcolor": "white"
          },
          "hoverlabel": {
           "align": "left"
          },
          "hovermode": "closest",
          "mapbox": {
           "style": "light"
          },
          "paper_bgcolor": "white",
          "plot_bgcolor": "#E5ECF6",
          "polar": {
           "angularaxis": {
            "gridcolor": "white",
            "linecolor": "white",
            "ticks": ""
           },
           "bgcolor": "#E5ECF6",
           "radialaxis": {
            "gridcolor": "white",
            "linecolor": "white",
            "ticks": ""
           }
          },
          "scene": {
           "xaxis": {
            "backgroundcolor": "#E5ECF6",
            "gridcolor": "white",
            "gridwidth": 2,
            "linecolor": "white",
            "showbackground": true,
            "ticks": "",
            "zerolinecolor": "white"
           },
           "yaxis": {
            "backgroundcolor": "#E5ECF6",
            "gridcolor": "white",
            "gridwidth": 2,
            "linecolor": "white",
            "showbackground": true,
            "ticks": "",
            "zerolinecolor": "white"
           },
           "zaxis": {
            "backgroundcolor": "#E5ECF6",
            "gridcolor": "white",
            "gridwidth": 2,
            "linecolor": "white",
            "showbackground": true,
            "ticks": "",
            "zerolinecolor": "white"
           }
          },
          "shapedefaults": {
           "line": {
            "color": "#2a3f5f"
           }
          },
          "ternary": {
           "aaxis": {
            "gridcolor": "white",
            "linecolor": "white",
            "ticks": ""
           },
           "baxis": {
            "gridcolor": "white",
            "linecolor": "white",
            "ticks": ""
           },
           "bgcolor": "#E5ECF6",
           "caxis": {
            "gridcolor": "white",
            "linecolor": "white",
            "ticks": ""
           }
          },
          "title": {
           "x": 0.05
          },
          "xaxis": {
           "automargin": true,
           "gridcolor": "white",
           "linecolor": "white",
           "ticks": "",
           "title": {
            "standoff": 15
           },
           "zerolinecolor": "white",
           "zerolinewidth": 2
          },
          "yaxis": {
           "automargin": true,
           "gridcolor": "white",
           "linecolor": "white",
           "ticks": "",
           "title": {
            "standoff": 15
           },
           "zerolinecolor": "white",
           "zerolinewidth": 2
          }
         }
        },
        "width": 600,
        "xaxis": {
         "anchor": "y",
         "constrain": "domain",
         "domain": [
          0,
          1
         ],
         "scaleanchor": "y"
        },
        "yaxis": {
         "anchor": "x",
         "autorange": "reversed",
         "constrain": "domain",
         "domain": [
          0,
          1
         ]
        }
       }
      }
     },
     "metadata": {},
     "output_type": "display_data"
    }
   ],
   "source": [
    "fig = px.imshow(df.corr().round(2),text_auto=True,width=600)\n",
    "fig.show()"
   ]
  },
  {
   "cell_type": "markdown",
   "metadata": {},
   "source": [
    "* Мы видим, что между собой признаки не коррелируют.\n",
    "* Есть корреляция Целевого столбца и возраста 0.65, но для нас это не критично, нам важно, чтобы признаки не коррелировали между собой."
   ]
  },
  {
   "cell_type": "code",
   "execution_count": 14,
   "metadata": {},
   "outputs": [
    {
     "data": {
      "application/vnd.plotly.v1+json": {
       "config": {
        "plotlyServerURL": "https://plot.ly"
       },
       "data": [
        {
         "coloraxis": "coloraxis",
         "hovertemplate": "x: %{x}<br>y: %{y}<br>color: %{z}<extra></extra>",
         "name": "0",
         "texttemplate": "%{z}",
         "type": "heatmap",
         "x": [
          "Пол",
          "Возраст",
          "Зарплата",
          "Члены семьи",
          "Страховые выплаты"
         ],
         "xaxis": "x",
         "y": [
          "Пол",
          "Возраст",
          "Зарплата",
          "Члены семьи",
          "Страховые выплаты"
         ],
         "yaxis": "y",
         "z": [
          [
           1,
           0,
           0,
           0,
           0.03
          ],
          [
           0,
           1,
           0.07,
           0,
           0.88
          ],
          [
           0,
           0.07,
           1,
           0,
           0
          ],
          [
           0,
           0,
           0,
           1,
           0
          ],
          [
           0.03,
           0.88,
           0,
           0,
           1
          ]
         ]
        }
       ],
       "layout": {
        "coloraxis": {
         "colorscale": [
          [
           0,
           "#0d0887"
          ],
          [
           0.1111111111111111,
           "#46039f"
          ],
          [
           0.2222222222222222,
           "#7201a8"
          ],
          [
           0.3333333333333333,
           "#9c179e"
          ],
          [
           0.4444444444444444,
           "#bd3786"
          ],
          [
           0.5555555555555556,
           "#d8576b"
          ],
          [
           0.6666666666666666,
           "#ed7953"
          ],
          [
           0.7777777777777778,
           "#fb9f3a"
          ],
          [
           0.8888888888888888,
           "#fdca26"
          ],
          [
           1,
           "#f0f921"
          ]
         ]
        },
        "margin": {
         "t": 60
        },
        "template": {
         "data": {
          "bar": [
           {
            "error_x": {
             "color": "#2a3f5f"
            },
            "error_y": {
             "color": "#2a3f5f"
            },
            "marker": {
             "line": {
              "color": "#E5ECF6",
              "width": 0.5
             },
             "pattern": {
              "fillmode": "overlay",
              "size": 10,
              "solidity": 0.2
             }
            },
            "type": "bar"
           }
          ],
          "barpolar": [
           {
            "marker": {
             "line": {
              "color": "#E5ECF6",
              "width": 0.5
             },
             "pattern": {
              "fillmode": "overlay",
              "size": 10,
              "solidity": 0.2
             }
            },
            "type": "barpolar"
           }
          ],
          "carpet": [
           {
            "aaxis": {
             "endlinecolor": "#2a3f5f",
             "gridcolor": "white",
             "linecolor": "white",
             "minorgridcolor": "white",
             "startlinecolor": "#2a3f5f"
            },
            "baxis": {
             "endlinecolor": "#2a3f5f",
             "gridcolor": "white",
             "linecolor": "white",
             "minorgridcolor": "white",
             "startlinecolor": "#2a3f5f"
            },
            "type": "carpet"
           }
          ],
          "choropleth": [
           {
            "colorbar": {
             "outlinewidth": 0,
             "ticks": ""
            },
            "type": "choropleth"
           }
          ],
          "contour": [
           {
            "colorbar": {
             "outlinewidth": 0,
             "ticks": ""
            },
            "colorscale": [
             [
              0,
              "#0d0887"
             ],
             [
              0.1111111111111111,
              "#46039f"
             ],
             [
              0.2222222222222222,
              "#7201a8"
             ],
             [
              0.3333333333333333,
              "#9c179e"
             ],
             [
              0.4444444444444444,
              "#bd3786"
             ],
             [
              0.5555555555555556,
              "#d8576b"
             ],
             [
              0.6666666666666666,
              "#ed7953"
             ],
             [
              0.7777777777777778,
              "#fb9f3a"
             ],
             [
              0.8888888888888888,
              "#fdca26"
             ],
             [
              1,
              "#f0f921"
             ]
            ],
            "type": "contour"
           }
          ],
          "contourcarpet": [
           {
            "colorbar": {
             "outlinewidth": 0,
             "ticks": ""
            },
            "type": "contourcarpet"
           }
          ],
          "heatmap": [
           {
            "colorbar": {
             "outlinewidth": 0,
             "ticks": ""
            },
            "colorscale": [
             [
              0,
              "#0d0887"
             ],
             [
              0.1111111111111111,
              "#46039f"
             ],
             [
              0.2222222222222222,
              "#7201a8"
             ],
             [
              0.3333333333333333,
              "#9c179e"
             ],
             [
              0.4444444444444444,
              "#bd3786"
             ],
             [
              0.5555555555555556,
              "#d8576b"
             ],
             [
              0.6666666666666666,
              "#ed7953"
             ],
             [
              0.7777777777777778,
              "#fb9f3a"
             ],
             [
              0.8888888888888888,
              "#fdca26"
             ],
             [
              1,
              "#f0f921"
             ]
            ],
            "type": "heatmap"
           }
          ],
          "heatmapgl": [
           {
            "colorbar": {
             "outlinewidth": 0,
             "ticks": ""
            },
            "colorscale": [
             [
              0,
              "#0d0887"
             ],
             [
              0.1111111111111111,
              "#46039f"
             ],
             [
              0.2222222222222222,
              "#7201a8"
             ],
             [
              0.3333333333333333,
              "#9c179e"
             ],
             [
              0.4444444444444444,
              "#bd3786"
             ],
             [
              0.5555555555555556,
              "#d8576b"
             ],
             [
              0.6666666666666666,
              "#ed7953"
             ],
             [
              0.7777777777777778,
              "#fb9f3a"
             ],
             [
              0.8888888888888888,
              "#fdca26"
             ],
             [
              1,
              "#f0f921"
             ]
            ],
            "type": "heatmapgl"
           }
          ],
          "histogram": [
           {
            "marker": {
             "pattern": {
              "fillmode": "overlay",
              "size": 10,
              "solidity": 0.2
             }
            },
            "type": "histogram"
           }
          ],
          "histogram2d": [
           {
            "colorbar": {
             "outlinewidth": 0,
             "ticks": ""
            },
            "colorscale": [
             [
              0,
              "#0d0887"
             ],
             [
              0.1111111111111111,
              "#46039f"
             ],
             [
              0.2222222222222222,
              "#7201a8"
             ],
             [
              0.3333333333333333,
              "#9c179e"
             ],
             [
              0.4444444444444444,
              "#bd3786"
             ],
             [
              0.5555555555555556,
              "#d8576b"
             ],
             [
              0.6666666666666666,
              "#ed7953"
             ],
             [
              0.7777777777777778,
              "#fb9f3a"
             ],
             [
              0.8888888888888888,
              "#fdca26"
             ],
             [
              1,
              "#f0f921"
             ]
            ],
            "type": "histogram2d"
           }
          ],
          "histogram2dcontour": [
           {
            "colorbar": {
             "outlinewidth": 0,
             "ticks": ""
            },
            "colorscale": [
             [
              0,
              "#0d0887"
             ],
             [
              0.1111111111111111,
              "#46039f"
             ],
             [
              0.2222222222222222,
              "#7201a8"
             ],
             [
              0.3333333333333333,
              "#9c179e"
             ],
             [
              0.4444444444444444,
              "#bd3786"
             ],
             [
              0.5555555555555556,
              "#d8576b"
             ],
             [
              0.6666666666666666,
              "#ed7953"
             ],
             [
              0.7777777777777778,
              "#fb9f3a"
             ],
             [
              0.8888888888888888,
              "#fdca26"
             ],
             [
              1,
              "#f0f921"
             ]
            ],
            "type": "histogram2dcontour"
           }
          ],
          "mesh3d": [
           {
            "colorbar": {
             "outlinewidth": 0,
             "ticks": ""
            },
            "type": "mesh3d"
           }
          ],
          "parcoords": [
           {
            "line": {
             "colorbar": {
              "outlinewidth": 0,
              "ticks": ""
             }
            },
            "type": "parcoords"
           }
          ],
          "pie": [
           {
            "automargin": true,
            "type": "pie"
           }
          ],
          "scatter": [
           {
            "fillpattern": {
             "fillmode": "overlay",
             "size": 10,
             "solidity": 0.2
            },
            "type": "scatter"
           }
          ],
          "scatter3d": [
           {
            "line": {
             "colorbar": {
              "outlinewidth": 0,
              "ticks": ""
             }
            },
            "marker": {
             "colorbar": {
              "outlinewidth": 0,
              "ticks": ""
             }
            },
            "type": "scatter3d"
           }
          ],
          "scattercarpet": [
           {
            "marker": {
             "colorbar": {
              "outlinewidth": 0,
              "ticks": ""
             }
            },
            "type": "scattercarpet"
           }
          ],
          "scattergeo": [
           {
            "marker": {
             "colorbar": {
              "outlinewidth": 0,
              "ticks": ""
             }
            },
            "type": "scattergeo"
           }
          ],
          "scattergl": [
           {
            "marker": {
             "colorbar": {
              "outlinewidth": 0,
              "ticks": ""
             }
            },
            "type": "scattergl"
           }
          ],
          "scattermapbox": [
           {
            "marker": {
             "colorbar": {
              "outlinewidth": 0,
              "ticks": ""
             }
            },
            "type": "scattermapbox"
           }
          ],
          "scatterpolar": [
           {
            "marker": {
             "colorbar": {
              "outlinewidth": 0,
              "ticks": ""
             }
            },
            "type": "scatterpolar"
           }
          ],
          "scatterpolargl": [
           {
            "marker": {
             "colorbar": {
              "outlinewidth": 0,
              "ticks": ""
             }
            },
            "type": "scatterpolargl"
           }
          ],
          "scatterternary": [
           {
            "marker": {
             "colorbar": {
              "outlinewidth": 0,
              "ticks": ""
             }
            },
            "type": "scatterternary"
           }
          ],
          "surface": [
           {
            "colorbar": {
             "outlinewidth": 0,
             "ticks": ""
            },
            "colorscale": [
             [
              0,
              "#0d0887"
             ],
             [
              0.1111111111111111,
              "#46039f"
             ],
             [
              0.2222222222222222,
              "#7201a8"
             ],
             [
              0.3333333333333333,
              "#9c179e"
             ],
             [
              0.4444444444444444,
              "#bd3786"
             ],
             [
              0.5555555555555556,
              "#d8576b"
             ],
             [
              0.6666666666666666,
              "#ed7953"
             ],
             [
              0.7777777777777778,
              "#fb9f3a"
             ],
             [
              0.8888888888888888,
              "#fdca26"
             ],
             [
              1,
              "#f0f921"
             ]
            ],
            "type": "surface"
           }
          ],
          "table": [
           {
            "cells": {
             "fill": {
              "color": "#EBF0F8"
             },
             "line": {
              "color": "white"
             }
            },
            "header": {
             "fill": {
              "color": "#C8D4E3"
             },
             "line": {
              "color": "white"
             }
            },
            "type": "table"
           }
          ]
         },
         "layout": {
          "annotationdefaults": {
           "arrowcolor": "#2a3f5f",
           "arrowhead": 0,
           "arrowwidth": 1
          },
          "autotypenumbers": "strict",
          "coloraxis": {
           "colorbar": {
            "outlinewidth": 0,
            "ticks": ""
           }
          },
          "colorscale": {
           "diverging": [
            [
             0,
             "#8e0152"
            ],
            [
             0.1,
             "#c51b7d"
            ],
            [
             0.2,
             "#de77ae"
            ],
            [
             0.3,
             "#f1b6da"
            ],
            [
             0.4,
             "#fde0ef"
            ],
            [
             0.5,
             "#f7f7f7"
            ],
            [
             0.6,
             "#e6f5d0"
            ],
            [
             0.7,
             "#b8e186"
            ],
            [
             0.8,
             "#7fbc41"
            ],
            [
             0.9,
             "#4d9221"
            ],
            [
             1,
             "#276419"
            ]
           ],
           "sequential": [
            [
             0,
             "#0d0887"
            ],
            [
             0.1111111111111111,
             "#46039f"
            ],
            [
             0.2222222222222222,
             "#7201a8"
            ],
            [
             0.3333333333333333,
             "#9c179e"
            ],
            [
             0.4444444444444444,
             "#bd3786"
            ],
            [
             0.5555555555555556,
             "#d8576b"
            ],
            [
             0.6666666666666666,
             "#ed7953"
            ],
            [
             0.7777777777777778,
             "#fb9f3a"
            ],
            [
             0.8888888888888888,
             "#fdca26"
            ],
            [
             1,
             "#f0f921"
            ]
           ],
           "sequentialminus": [
            [
             0,
             "#0d0887"
            ],
            [
             0.1111111111111111,
             "#46039f"
            ],
            [
             0.2222222222222222,
             "#7201a8"
            ],
            [
             0.3333333333333333,
             "#9c179e"
            ],
            [
             0.4444444444444444,
             "#bd3786"
            ],
            [
             0.5555555555555556,
             "#d8576b"
            ],
            [
             0.6666666666666666,
             "#ed7953"
            ],
            [
             0.7777777777777778,
             "#fb9f3a"
            ],
            [
             0.8888888888888888,
             "#fdca26"
            ],
            [
             1,
             "#f0f921"
            ]
           ]
          },
          "colorway": [
           "#636efa",
           "#EF553B",
           "#00cc96",
           "#ab63fa",
           "#FFA15A",
           "#19d3f3",
           "#FF6692",
           "#B6E880",
           "#FF97FF",
           "#FECB52"
          ],
          "font": {
           "color": "#2a3f5f"
          },
          "geo": {
           "bgcolor": "white",
           "lakecolor": "white",
           "landcolor": "#E5ECF6",
           "showlakes": true,
           "showland": true,
           "subunitcolor": "white"
          },
          "hoverlabel": {
           "align": "left"
          },
          "hovermode": "closest",
          "mapbox": {
           "style": "light"
          },
          "paper_bgcolor": "white",
          "plot_bgcolor": "#E5ECF6",
          "polar": {
           "angularaxis": {
            "gridcolor": "white",
            "linecolor": "white",
            "ticks": ""
           },
           "bgcolor": "#E5ECF6",
           "radialaxis": {
            "gridcolor": "white",
            "linecolor": "white",
            "ticks": ""
           }
          },
          "scene": {
           "xaxis": {
            "backgroundcolor": "#E5ECF6",
            "gridcolor": "white",
            "gridwidth": 2,
            "linecolor": "white",
            "showbackground": true,
            "ticks": "",
            "zerolinecolor": "white"
           },
           "yaxis": {
            "backgroundcolor": "#E5ECF6",
            "gridcolor": "white",
            "gridwidth": 2,
            "linecolor": "white",
            "showbackground": true,
            "ticks": "",
            "zerolinecolor": "white"
           },
           "zaxis": {
            "backgroundcolor": "#E5ECF6",
            "gridcolor": "white",
            "gridwidth": 2,
            "linecolor": "white",
            "showbackground": true,
            "ticks": "",
            "zerolinecolor": "white"
           }
          },
          "shapedefaults": {
           "line": {
            "color": "#2a3f5f"
           }
          },
          "ternary": {
           "aaxis": {
            "gridcolor": "white",
            "linecolor": "white",
            "ticks": ""
           },
           "baxis": {
            "gridcolor": "white",
            "linecolor": "white",
            "ticks": ""
           },
           "bgcolor": "#E5ECF6",
           "caxis": {
            "gridcolor": "white",
            "linecolor": "white",
            "ticks": ""
           }
          },
          "title": {
           "x": 0.05
          },
          "xaxis": {
           "automargin": true,
           "gridcolor": "white",
           "linecolor": "white",
           "ticks": "",
           "title": {
            "standoff": 15
           },
           "zerolinecolor": "white",
           "zerolinewidth": 2
          },
          "yaxis": {
           "automargin": true,
           "gridcolor": "white",
           "linecolor": "white",
           "ticks": "",
           "title": {
            "standoff": 15
           },
           "zerolinecolor": "white",
           "zerolinewidth": 2
          }
         }
        },
        "width": 600,
        "xaxis": {
         "anchor": "y",
         "constrain": "domain",
         "domain": [
          0,
          1
         ],
         "scaleanchor": "y"
        },
        "yaxis": {
         "anchor": "x",
         "autorange": "reversed",
         "constrain": "domain",
         "domain": [
          0,
          1
         ]
        }
       }
      }
     },
     "metadata": {},
     "output_type": "display_data"
    }
   ],
   "source": [
    "phik_overview = df.phik_matrix(df.columns)\n",
    "fig1 = px.imshow(phik_overview.round(2),text_auto=True,width=600)\n",
    "fig1.show()"
   ]
  },
  {
   "cell_type": "markdown",
   "metadata": {},
   "source": [
    "Метод Phik также не установил существенных связей между признаками, что возволяет нам использовать модель линейной регрессии."
   ]
  },
  {
   "cell_type": "markdown",
   "metadata": {},
   "source": [
    "#### Выводы из 1 части:\n",
    "1. В целом качество данных находита на хорошем уровне:\n",
    "    * Нет пропусков\n",
    "    * Есть дубликаты, но было решено их оставить, т.к. не хватает информации и они адекватны\n",
    "    * Типы данных соответствуют значениям\n",
    "2. Мы выяснили какие столбцы являются признаками и какой столбец является целевым.\n",
    "3. Мы проверили двумя способами связи между столбцами. Только один столбец коррелирует с целевым, а признаки между собой не коррелируют, что дает нам право использовать метод линейной регрессии при построении модели."
   ]
  },
  {
   "cell_type": "markdown",
   "metadata": {},
   "source": [
    "### Умножение матриц  \n",
    "Обозначения:\n",
    "\n",
    "- $X$ — матрица признаков (нулевой столбец состоит из единиц)\n",
    "\n",
    "- $y$ — вектор целевого признака\n",
    "\n",
    "- $P$ — матрица, на которую умножаются признаки\n",
    "\n",
    "- $w$ — вектор весов линейной регрессии (нулевой элемент равен сдвигу)\n",
    "\n",
    "Предсказания:\n",
    "\n",
    "$$\n",
    "a = Xw\n",
    "$$\n",
    "\n",
    "Задача обучения:\n",
    "\n",
    "$$\n",
    "w = \\arg\\min_w MSE(Xw, y)\n",
    "$$\n",
    "\n",
    "Формула обучения:\n",
    "\n",
    "$$\n",
    "w = (X^T X)^{-1} X^T y\n",
    "$$\n",
    "\n",
    "Умножим матрицу признаков X на обратимую матрицу P:\n",
    "\n",
    "$$\n",
    "a' = (XP)w'\n",
    "$$\n",
    "\n",
    "\n",
    "$$\n",
    "w' = ((XP)^T XP)^{-1} (XP)^T y\n",
    "$$\n",
    "\n",
    "Согласно свойству обратной матрицы:\n",
    "$$\n",
    "(AB)^{-1}=B^{-1}A^{-1}\n",
    "$$\n",
    "$$\n",
    "w' = ((XP)^T XP)^{-1} (XP)^T y = (P^TX^TXP)^{-1}P^TX^Ty\n",
    "$$\n",
    "\n",
    "$$\n",
    "w' = P^{-1}(X^{T} X)^{-1}(P^T)^{-1}P^TX^Ty\n",
    "$$\n",
    "$$\n",
    "w' = P^{-1}(X^{T} X)^{-1}EX^Ty = P^{-1}(X^{T} X)^{-1}X^Ty\n",
    "$$\n",
    "Правая - чать - это w\n",
    "$$\n",
    "w' = P^{-1}w\n",
    "$$\n",
    "\n",
    "$$\n",
    "a' = XPw'=XPP^{-1}w=XEw=Xw=a\n",
    "$$\n",
    "\n",
    "Итого мы выяснили, что при умножении на обратимую матрицу коэффициенты линейной регрессии не изменятся. Что и требовалось."
   ]
  },
  {
   "cell_type": "markdown",
   "metadata": {},
   "source": [
    "#### Выводы из 2 части:\n",
    "1. Используя свойства умножения матриц мы пришли к тому, что если умножить матрицу признаков на обратимую матрицу, предсказания a по признакам X Будут равняться предсказаниям по признакам XP.\n",
    "2. Из этого следует, что и параметры линейной регрессии R2 буду идентичны."
   ]
  },
  {
   "cell_type": "markdown",
   "metadata": {},
   "source": [
    "### Алгоритм преобразования\n"
   ]
  },
  {
   "cell_type": "markdown",
   "metadata": {},
   "source": [
    "В п.2 мы доказали, что если умножить признаки на обратимую матрицу, мы сможем получить такие же предсказания как и с изначальными данными, если заново обучим модель.  \n",
    "В этом случае та матрица, на которую мы умножали в дальнейшем станет ключом, с помощью которого мы сможем восстановить исходные данные. \n",
    "Алгоритм преобразования будет следующим:\n",
    "1. Сгенерировать случайную матрицу размером X * X, где X - количество признаков.\n",
    "2. Проверить ее на обратимость.\n",
    "3. В случае успеха сохраняем ее как ключ для дальнейшей расшифровки и умножаем матрицу признаков на нее.\n",
    "4. Обучаем модель по новым признакам.\n",
    "5. Получаем идентичные предсказания, которые можно будет использовать в работе и не беспокоиться за их конфиденциальность, ведь для не обладающего ключом это будут случайные цифры.\n",
    "6. При обучении модели важно, чтобы значение R2 почти не отличалось от модели, построенной на непреобразованных данных"
   ]
  },
  {
   "cell_type": "markdown",
   "metadata": {},
   "source": [
    "### Проверка алгоритма\n",
    "Отлично, благодаря 2 функциям мы разработали алгоритм, который при кодировании преобразует данные и выдает ключ, с помощью которого данные можно будет привести к изначальному виду. "
   ]
  },
  {
   "cell_type": "markdown",
   "metadata": {},
   "source": [
    "Для начала проверим гипотезу о том, что умножение на обратимую матрицу не искажает предсказания:\n",
    "1. Обучим модель.\n",
    "2. Посчитаем основные метрики на изначальной матрице и умноженной. Сравним их.\n",
    "3. Посмотрим как коррелируют между собой новые метрики."
   ]
  },
  {
   "cell_type": "code",
   "execution_count": 15,
   "metadata": {},
   "outputs": [
    {
     "data": {
      "text/plain": [
       "(3750, 4)"
      ]
     },
     "metadata": {},
     "output_type": "display_data"
    },
    {
     "data": {
      "text/plain": [
       "(1250, 4)"
      ]
     },
     "metadata": {},
     "output_type": "display_data"
    },
    {
     "data": {
      "text/plain": [
       "(3750,)"
      ]
     },
     "metadata": {},
     "output_type": "display_data"
    },
    {
     "data": {
      "text/plain": [
       "(1250,)"
      ]
     },
     "metadata": {},
     "output_type": "display_data"
    }
   ],
   "source": [
    "model = LinearRegression()\n",
    "X = df.drop('Страховые выплаты', axis=1)\n",
    "y = df['Страховые выплаты']\n",
    "\n",
    "X_train, X_test, y_train, y_test = train_test_split(\n",
    "    X, y, test_size=0.25, random_state=12345)\n",
    "\n",
    "for i in [X_train, X_test, y_train, y_test]:\n",
    "    display(i.shape)\n"
   ]
  },
  {
   "cell_type": "code",
   "execution_count": 16,
   "metadata": {},
   "outputs": [
    {
     "name": "stdout",
     "output_type": "stream",
     "text": [
      "MSE: 0.11660517472525776\n",
      "R2: 0.43522757127025646\n"
     ]
    }
   ],
   "source": [
    "model.fit(X_train ,y_train)\n",
    "predictions = model.predict(X_test)\n",
    "mse = mean_squared_error(y_test, predictions)\n",
    "r2 = r2_score(y_test, predictions)\n",
    "print (\"MSE:\",mse)\n",
    "print (\"R2:\",r2)"
   ]
  },
  {
   "cell_type": "markdown",
   "metadata": {},
   "source": [
    "Теперь посмотрим как модель сработает на измененных данных:"
   ]
  },
  {
   "cell_type": "code",
   "execution_count": 17,
   "metadata": {},
   "outputs": [
    {
     "data": {
      "text/plain": [
       "array([[-0.83292578, -0.46937539,  0.58111885, -0.04445651],\n",
       "       [ 1.08676263,  0.16304492,  0.01648201, -0.37624528],\n",
       "       [ 0.68060712,  0.57819694, -0.03061999, -0.29241688],\n",
       "       [ 0.26733472,  0.11618186,  0.43978522,  0.21856114]])"
      ]
     },
     "execution_count": 17,
     "metadata": {},
     "output_type": "execute_result"
    }
   ],
   "source": [
    "matrix = np.random.normal(0, 1, (4, 4))\n",
    "inv_matrix = np.linalg.inv(matrix)\n",
    "inv_matrix"
   ]
  },
  {
   "cell_type": "markdown",
   "metadata": {},
   "source": [
    "Мы сразу проверили матрицу на обратимость, все в порядке.\n",
    "\n",
    "Теперь рассчитаем новые веса для обычной матрицы:"
   ]
  },
  {
   "cell_type": "code",
   "execution_count": 18,
   "metadata": {},
   "outputs": [
    {
     "name": "stdout",
     "output_type": "stream",
     "text": [
      "MSE_new: 0.11660517472520805\n",
      "R2_new: 0.43522757127049727\n",
      "MSE_diff 4.9710235927591384e-14\n",
      "R2_diff -2.4080737404119645e-13\n"
     ]
    }
   ],
   "source": [
    "X_train_new = X_train @ matrix\n",
    "X_test_new = X_test @ matrix\n",
    "model_new = LinearRegression()\n",
    "model_new.fit(X_train_new,y_train)\n",
    "predictions_new = model_new.predict(X_test_new)\n",
    "mse_new = mean_squared_error(y_test, predictions_new)\n",
    "r2_new = r2_score(y_test, predictions_new)\n",
    "print (\"MSE_new:\",mse_new)\n",
    "print (\"R2_new:\",r2_new)\n",
    "print (\"MSE_diff\", mse-mse_new)\n",
    "print (\"R2_diff\", r2-r2_new)"
   ]
  },
  {
   "cell_type": "markdown",
   "metadata": {},
   "source": [
    "Отлично, качество модели не изменилось."
   ]
  },
  {
   "cell_type": "code",
   "execution_count": 19,
   "metadata": {},
   "outputs": [
    {
     "name": "stdout",
     "output_type": "stream",
     "text": [
      "-9.761452992815278e-05\n"
     ]
    }
   ],
   "source": [
    "#Вес изначальной матрицы\n",
    "w = np.linalg.inv(X_train.T.dot(X_train)).dot(X_train.T).dot(y_train)\n",
    "#Вектор предсказаний\n",
    "a = X_train @ w\n",
    "#Вес измененной матрицы\n",
    "w1 = np.linalg.inv(X_train_new.T.dot(X_train_new)).dot(X_train_new.T).dot(y_train)\n",
    "#Вектор предсказаний для измененной матрицы\n",
    "a1 = X_train_new @ w1\n",
    "#Суммарные отличия разниц 2 векторов\n",
    "print (sum(a1-a))\n",
    "\n"
   ]
  },
  {
   "cell_type": "markdown",
   "metadata": {},
   "source": [
    "Разработаем универсальную функцию кодирования, которая на вход будет принимать датафрейм с презнаками, а на выходе выдавать преобразованный датафрейм и ключ в виде обратимой матрицы."
   ]
  },
  {
   "cell_type": "code",
   "execution_count": 20,
   "metadata": {},
   "outputs": [
    {
     "data": {
      "text/html": [
       "<div>\n",
       "<style scoped>\n",
       "    .dataframe tbody tr th:only-of-type {\n",
       "        vertical-align: middle;\n",
       "    }\n",
       "\n",
       "    .dataframe tbody tr th {\n",
       "        vertical-align: top;\n",
       "    }\n",
       "\n",
       "    .dataframe thead th {\n",
       "        text-align: right;\n",
       "    }\n",
       "</style>\n",
       "<table border=\"1\" class=\"dataframe\">\n",
       "  <thead>\n",
       "    <tr style=\"text-align: right;\">\n",
       "      <th></th>\n",
       "      <th>0</th>\n",
       "      <th>1</th>\n",
       "      <th>2</th>\n",
       "      <th>3</th>\n",
       "    </tr>\n",
       "  </thead>\n",
       "  <tbody>\n",
       "    <tr>\n",
       "      <th>0</th>\n",
       "      <td>846445.0</td>\n",
       "      <td>1342835.0</td>\n",
       "      <td>1092934.0</td>\n",
       "      <td>2184842.0</td>\n",
       "    </tr>\n",
       "    <tr>\n",
       "      <th>1</th>\n",
       "      <td>649534.0</td>\n",
       "      <td>1030019.0</td>\n",
       "      <td>837944.0</td>\n",
       "      <td>1674679.0</td>\n",
       "    </tr>\n",
       "    <tr>\n",
       "      <th>2</th>\n",
       "      <td>359175.0</td>\n",
       "      <td>569494.0</td>\n",
       "      <td>463218.0</td>\n",
       "      <td>925653.0</td>\n",
       "    </tr>\n",
       "    <tr>\n",
       "      <th>3</th>\n",
       "      <td>710643.0</td>\n",
       "      <td>1127832.0</td>\n",
       "      <td>918306.0</td>\n",
       "      <td>1836111.0</td>\n",
       "    </tr>\n",
       "    <tr>\n",
       "      <th>4</th>\n",
       "      <td>445886.0</td>\n",
       "      <td>707154.0</td>\n",
       "      <td>575376.0</td>\n",
       "      <td>1150044.0</td>\n",
       "    </tr>\n",
       "  </tbody>\n",
       "</table>\n",
       "</div>"
      ],
      "text/plain": [
       "          0          1          2          3\n",
       "0  846445.0  1342835.0  1092934.0  2184842.0\n",
       "1  649534.0  1030019.0   837944.0  1674679.0\n",
       "2  359175.0   569494.0   463218.0   925653.0\n",
       "3  710643.0  1127832.0   918306.0  1836111.0\n",
       "4  445886.0   707154.0   575376.0  1150044.0"
      ]
     },
     "execution_count": 20,
     "metadata": {},
     "output_type": "execute_result"
    }
   ],
   "source": [
    "def coding(X_for_code):\n",
    "    matrix = np.random.randint(100,size = (4, 4))\n",
    "    encoded_features = X_for_code.dot(matrix)\n",
    "    return encoded_features,matrix\n",
    "\n",
    "X_coded = coding(X)\n",
    "X_coded[0].head(5)"
   ]
  },
  {
   "cell_type": "markdown",
   "metadata": {},
   "source": [
    "Ранее мы доказали, что даже при видоизменении данных, можно будет обучить модель и получить такое же качество. Теперь нам нужно написать функцию, которая позволит вернуться к изначальным данным, т.к. произвести дешифровку. На вход она будет принимать измененную матрицу, а на выходе должна дать изначальную."
   ]
  },
  {
   "cell_type": "code",
   "execution_count": 21,
   "metadata": {},
   "outputs": [
    {
     "data": {
      "text/html": [
       "<div>\n",
       "<style scoped>\n",
       "    .dataframe tbody tr th:only-of-type {\n",
       "        vertical-align: middle;\n",
       "    }\n",
       "\n",
       "    .dataframe tbody tr th {\n",
       "        vertical-align: top;\n",
       "    }\n",
       "\n",
       "    .dataframe thead th {\n",
       "        text-align: right;\n",
       "    }\n",
       "</style>\n",
       "<table border=\"1\" class=\"dataframe\">\n",
       "  <thead>\n",
       "    <tr style=\"text-align: right;\">\n",
       "      <th></th>\n",
       "      <th>Пол</th>\n",
       "      <th>Возраст</th>\n",
       "      <th>Зарплата</th>\n",
       "      <th>Члены семьи</th>\n",
       "    </tr>\n",
       "  </thead>\n",
       "  <tbody>\n",
       "    <tr>\n",
       "      <th>0</th>\n",
       "      <td>1.0</td>\n",
       "      <td>41.0</td>\n",
       "      <td>49600.0</td>\n",
       "      <td>1.0</td>\n",
       "    </tr>\n",
       "    <tr>\n",
       "      <th>1</th>\n",
       "      <td>0.0</td>\n",
       "      <td>46.0</td>\n",
       "      <td>38000.0</td>\n",
       "      <td>1.0</td>\n",
       "    </tr>\n",
       "    <tr>\n",
       "      <th>2</th>\n",
       "      <td>0.0</td>\n",
       "      <td>29.0</td>\n",
       "      <td>21000.0</td>\n",
       "      <td>0.0</td>\n",
       "    </tr>\n",
       "    <tr>\n",
       "      <th>3</th>\n",
       "      <td>0.0</td>\n",
       "      <td>21.0</td>\n",
       "      <td>41700.0</td>\n",
       "      <td>2.0</td>\n",
       "    </tr>\n",
       "    <tr>\n",
       "      <th>4</th>\n",
       "      <td>1.0</td>\n",
       "      <td>28.0</td>\n",
       "      <td>26100.0</td>\n",
       "      <td>0.0</td>\n",
       "    </tr>\n",
       "  </tbody>\n",
       "</table>\n",
       "</div>"
      ],
      "text/plain": [
       "   Пол  Возраст  Зарплата  Члены семьи\n",
       "0  1.0     41.0   49600.0          1.0\n",
       "1  0.0     46.0   38000.0          1.0\n",
       "2  0.0     29.0   21000.0          0.0\n",
       "3  0.0     21.0   41700.0          2.0\n",
       "4  1.0     28.0   26100.0          0.0"
      ]
     },
     "metadata": {},
     "output_type": "display_data"
    },
    {
     "data": {
      "text/html": [
       "<div>\n",
       "<style scoped>\n",
       "    .dataframe tbody tr th:only-of-type {\n",
       "        vertical-align: middle;\n",
       "    }\n",
       "\n",
       "    .dataframe tbody tr th {\n",
       "        vertical-align: top;\n",
       "    }\n",
       "\n",
       "    .dataframe thead th {\n",
       "        text-align: right;\n",
       "    }\n",
       "</style>\n",
       "<table border=\"1\" class=\"dataframe\">\n",
       "  <thead>\n",
       "    <tr style=\"text-align: right;\">\n",
       "      <th></th>\n",
       "      <th>Пол</th>\n",
       "      <th>Возраст</th>\n",
       "      <th>Зарплата</th>\n",
       "      <th>Члены семьи</th>\n",
       "    </tr>\n",
       "  </thead>\n",
       "  <tbody>\n",
       "    <tr>\n",
       "      <th>0</th>\n",
       "      <td>1</td>\n",
       "      <td>41.0</td>\n",
       "      <td>49600.0</td>\n",
       "      <td>1</td>\n",
       "    </tr>\n",
       "    <tr>\n",
       "      <th>1</th>\n",
       "      <td>0</td>\n",
       "      <td>46.0</td>\n",
       "      <td>38000.0</td>\n",
       "      <td>1</td>\n",
       "    </tr>\n",
       "    <tr>\n",
       "      <th>2</th>\n",
       "      <td>0</td>\n",
       "      <td>29.0</td>\n",
       "      <td>21000.0</td>\n",
       "      <td>0</td>\n",
       "    </tr>\n",
       "    <tr>\n",
       "      <th>3</th>\n",
       "      <td>0</td>\n",
       "      <td>21.0</td>\n",
       "      <td>41700.0</td>\n",
       "      <td>2</td>\n",
       "    </tr>\n",
       "    <tr>\n",
       "      <th>4</th>\n",
       "      <td>1</td>\n",
       "      <td>28.0</td>\n",
       "      <td>26100.0</td>\n",
       "      <td>0</td>\n",
       "    </tr>\n",
       "  </tbody>\n",
       "</table>\n",
       "</div>"
      ],
      "text/plain": [
       "   Пол  Возраст  Зарплата  Члены семьи\n",
       "0    1     41.0   49600.0            1\n",
       "1    0     46.0   38000.0            1\n",
       "2    0     29.0   21000.0            0\n",
       "3    0     21.0   41700.0            2\n",
       "4    1     28.0   26100.0            0"
      ]
     },
     "metadata": {},
     "output_type": "display_data"
    }
   ],
   "source": [
    "def decoding(coded,matrix):\n",
    "    decoded_features = abs(round(coded @ np.linalg.inv(matrix)))\n",
    "    decoded_features.columns = X.columns\n",
    "    return decoded_features\n",
    "\n",
    "display(decoding(X_coded[0],X_coded[1]).head(5))\n",
    "display(X.head(5))"
   ]
  },
  {
   "cell_type": "markdown",
   "metadata": {},
   "source": [
    "### Итоговые выводы"
   ]
  },
  {
   "cell_type": "markdown",
   "metadata": {},
   "source": [
    "1. Изначально у нас был датафрейм. В первой части мы провели предобработку данных, изучили их и разбили на несколько выборок.\n",
    "2. После этого убедились в том, что шифровка данных путем умножения на обратимую матрицу не приводит к ухудшению качества данных. Мы доказали, что изменив признаки и обучив модель по новым признакам, мы получим идентичные предсказания.\n",
    "3. Разработали метод шифровки, который генерирует ключ в виде матрицы и позволяет хранить данные в зашифрованном виде.\n",
    "4. Проверили алгоритм на практике и убедились в высокой точности данного метода.\n",
    "5. Также в ходе работы была обучена модель, которая предсказывает целевой признак со следующими характеристиками:\n",
    "    * MSE = 0.11\n",
    "    * R2 = 0.43\n",
    "6. Выполнив проверку получили идентичные данные, сравнили их точечно и убедились, что все работает.  \n",
    "Благодаря данной работе заказчик сможет не беспокоиться о хранении данных, ведь они будут зашифрованы. Также ключ при необходимости можно будет поменять, но при это нужно будет произвести процедуру дешифровки и шифрования повторно."
   ]
  }
 ],
 "metadata": {
  "ExecuteTimeLog": [
   {
    "duration": 3279,
    "start_time": "2023-03-01T03:05:28.374Z"
   },
   {
    "duration": 214,
    "start_time": "2023-03-01T03:05:31.655Z"
   },
   {
    "duration": 14,
    "start_time": "2023-03-01T03:05:31.877Z"
   },
   {
    "duration": 38,
    "start_time": "2023-03-01T03:05:31.946Z"
   },
   {
    "duration": 9,
    "start_time": "2023-03-01T03:05:31.986Z"
   },
   {
    "duration": 1390,
    "start_time": "2023-03-01T03:05:31.997Z"
   },
   {
    "duration": 89,
    "start_time": "2023-03-01T03:05:33.389Z"
   },
   {
    "duration": 10,
    "start_time": "2023-03-01T03:05:33.483Z"
   },
   {
    "duration": 303,
    "start_time": "2023-03-01T03:05:33.545Z"
   },
   {
    "duration": 0,
    "start_time": "2023-03-01T03:05:33.851Z"
   },
   {
    "duration": 0,
    "start_time": "2023-03-01T03:05:33.852Z"
   },
   {
    "duration": 0,
    "start_time": "2023-03-01T03:05:33.856Z"
   },
   {
    "duration": 0,
    "start_time": "2023-03-01T03:05:33.857Z"
   },
   {
    "duration": 0,
    "start_time": "2023-03-01T03:05:33.859Z"
   },
   {
    "duration": 0,
    "start_time": "2023-03-01T03:05:34.055Z"
   },
   {
    "duration": 0,
    "start_time": "2023-03-01T03:05:34.056Z"
   },
   {
    "duration": 12,
    "start_time": "2023-03-01T03:13:15.817Z"
   },
   {
    "duration": 14,
    "start_time": "2023-03-01T03:13:16.146Z"
   },
   {
    "duration": 6,
    "start_time": "2023-03-01T03:13:16.770Z"
   },
   {
    "duration": 12,
    "start_time": "2023-03-01T03:13:17.115Z"
   },
   {
    "duration": 12,
    "start_time": "2023-03-01T03:13:17.471Z"
   },
   {
    "duration": 15,
    "start_time": "2023-03-01T03:13:18.182Z"
   },
   {
    "duration": 19,
    "start_time": "2023-03-01T03:13:18.569Z"
   },
   {
    "duration": 52,
    "start_time": "2023-03-01T11:46:44.199Z"
   },
   {
    "duration": 1792,
    "start_time": "2023-03-01T11:46:54.657Z"
   },
   {
    "duration": 118,
    "start_time": "2023-03-01T11:46:56.451Z"
   },
   {
    "duration": 11,
    "start_time": "2023-03-01T11:46:56.570Z"
   },
   {
    "duration": 19,
    "start_time": "2023-03-01T11:46:56.583Z"
   },
   {
    "duration": 23,
    "start_time": "2023-03-01T11:46:56.606Z"
   },
   {
    "duration": 955,
    "start_time": "2023-03-01T11:46:56.630Z"
   },
   {
    "duration": 35,
    "start_time": "2023-03-01T11:46:57.587Z"
   },
   {
    "duration": 6,
    "start_time": "2023-03-01T11:46:57.623Z"
   },
   {
    "duration": 126,
    "start_time": "2023-03-01T11:46:57.630Z"
   },
   {
    "duration": 0,
    "start_time": "2023-03-01T11:46:57.758Z"
   },
   {
    "duration": 0,
    "start_time": "2023-03-01T11:46:57.759Z"
   },
   {
    "duration": 0,
    "start_time": "2023-03-01T11:46:57.760Z"
   },
   {
    "duration": 0,
    "start_time": "2023-03-01T11:46:57.761Z"
   },
   {
    "duration": 0,
    "start_time": "2023-03-01T11:46:57.763Z"
   },
   {
    "duration": 0,
    "start_time": "2023-03-01T11:46:57.764Z"
   },
   {
    "duration": 0,
    "start_time": "2023-03-01T11:46:57.766Z"
   },
   {
    "duration": 2585,
    "start_time": "2023-03-01T11:47:14.492Z"
   },
   {
    "duration": 23,
    "start_time": "2023-03-01T11:47:56.093Z"
   },
   {
    "duration": 75,
    "start_time": "2023-03-01T11:48:08.449Z"
   },
   {
    "duration": 117,
    "start_time": "2023-03-01T11:48:35.720Z"
   },
   {
    "duration": 1346,
    "start_time": "2023-03-01T11:48:40.946Z"
   },
   {
    "duration": 2901,
    "start_time": "2023-03-01T11:48:52.565Z"
   },
   {
    "duration": 31,
    "start_time": "2023-03-01T11:49:02.241Z"
   },
   {
    "duration": 3,
    "start_time": "2023-03-01T11:51:03.365Z"
   },
   {
    "duration": 2264,
    "start_time": "2023-03-01T11:51:07.179Z"
   },
   {
    "duration": 2265,
    "start_time": "2023-03-01T11:51:22.740Z"
   },
   {
    "duration": 1529,
    "start_time": "2023-03-01T11:51:25.018Z"
   },
   {
    "duration": 104,
    "start_time": "2023-03-01T11:51:26.552Z"
   },
   {
    "duration": 11,
    "start_time": "2023-03-01T11:51:26.659Z"
   },
   {
    "duration": 23,
    "start_time": "2023-03-01T11:51:26.671Z"
   },
   {
    "duration": 10,
    "start_time": "2023-03-01T11:51:26.696Z"
   },
   {
    "duration": 1014,
    "start_time": "2023-03-01T11:51:26.709Z"
   },
   {
    "duration": 22,
    "start_time": "2023-03-01T11:51:27.725Z"
   },
   {
    "duration": 5,
    "start_time": "2023-03-01T11:51:27.749Z"
   },
   {
    "duration": 139,
    "start_time": "2023-03-01T11:51:27.755Z"
   },
   {
    "duration": 0,
    "start_time": "2023-03-01T11:51:27.896Z"
   },
   {
    "duration": 0,
    "start_time": "2023-03-01T11:51:27.897Z"
   },
   {
    "duration": 0,
    "start_time": "2023-03-01T11:51:27.905Z"
   },
   {
    "duration": 0,
    "start_time": "2023-03-01T11:51:27.906Z"
   },
   {
    "duration": 0,
    "start_time": "2023-03-01T11:51:27.907Z"
   },
   {
    "duration": 0,
    "start_time": "2023-03-01T11:51:27.908Z"
   },
   {
    "duration": 0,
    "start_time": "2023-03-01T11:51:27.908Z"
   },
   {
    "duration": 406,
    "start_time": "2023-03-01T11:51:45.220Z"
   },
   {
    "duration": 67,
    "start_time": "2023-03-01T11:51:58.453Z"
   },
   {
    "duration": 37,
    "start_time": "2023-03-01T11:52:52.123Z"
   },
   {
    "duration": 16,
    "start_time": "2023-03-01T11:58:13.757Z"
   },
   {
    "duration": 22001,
    "start_time": "2023-03-01T11:58:46.552Z"
   },
   {
    "duration": 0,
    "start_time": "2023-03-01T11:59:08.582Z"
   },
   {
    "duration": 39,
    "start_time": "2023-03-01T11:59:11.464Z"
   },
   {
    "duration": 14,
    "start_time": "2023-03-01T11:59:21.585Z"
   },
   {
    "duration": 14,
    "start_time": "2023-03-01T11:59:35.073Z"
   },
   {
    "duration": 2558,
    "start_time": "2023-03-01T12:00:29.673Z"
   },
   {
    "duration": 1671,
    "start_time": "2023-03-01T12:00:32.234Z"
   },
   {
    "duration": 90,
    "start_time": "2023-03-01T12:00:33.906Z"
   },
   {
    "duration": 20,
    "start_time": "2023-03-01T12:00:33.997Z"
   },
   {
    "duration": 22,
    "start_time": "2023-03-01T12:00:34.019Z"
   },
   {
    "duration": 8,
    "start_time": "2023-03-01T12:00:34.043Z"
   },
   {
    "duration": 921,
    "start_time": "2023-03-01T12:00:34.054Z"
   },
   {
    "duration": 39,
    "start_time": "2023-03-01T12:00:34.977Z"
   },
   {
    "duration": 6,
    "start_time": "2023-03-01T12:00:35.018Z"
   },
   {
    "duration": 421,
    "start_time": "2023-03-01T12:00:35.026Z"
   },
   {
    "duration": 12,
    "start_time": "2023-03-01T12:00:35.449Z"
   },
   {
    "duration": 24,
    "start_time": "2023-03-01T12:00:35.463Z"
   },
   {
    "duration": 28,
    "start_time": "2023-03-01T12:00:35.489Z"
   },
   {
    "duration": 97,
    "start_time": "2023-03-01T12:00:35.520Z"
   },
   {
    "duration": 207,
    "start_time": "2023-03-01T12:00:35.619Z"
   },
   {
    "duration": 200,
    "start_time": "2023-03-01T12:00:35.830Z"
   },
   {
    "duration": 80,
    "start_time": "2023-03-01T12:00:36.032Z"
   },
   {
    "duration": 42,
    "start_time": "2023-03-01T12:00:50.231Z"
   },
   {
    "duration": 108,
    "start_time": "2023-03-01T12:02:57.898Z"
   },
   {
    "duration": 87,
    "start_time": "2023-03-01T12:06:00.074Z"
   },
   {
    "duration": 122,
    "start_time": "2023-03-01T12:06:19.575Z"
   },
   {
    "duration": 43,
    "start_time": "2023-03-01T12:07:27.992Z"
   },
   {
    "duration": 2336,
    "start_time": "2023-03-01T12:24:13.012Z"
   },
   {
    "duration": 1493,
    "start_time": "2023-03-01T12:24:15.350Z"
   },
   {
    "duration": 186,
    "start_time": "2023-03-01T12:24:16.845Z"
   },
   {
    "duration": 12,
    "start_time": "2023-03-01T12:24:17.033Z"
   },
   {
    "duration": 17,
    "start_time": "2023-03-01T12:24:17.048Z"
   },
   {
    "duration": 6,
    "start_time": "2023-03-01T12:24:17.067Z"
   },
   {
    "duration": 843,
    "start_time": "2023-03-01T12:24:17.075Z"
   },
   {
    "duration": 23,
    "start_time": "2023-03-01T12:24:17.920Z"
   },
   {
    "duration": 5,
    "start_time": "2023-03-01T12:24:17.945Z"
   },
   {
    "duration": 356,
    "start_time": "2023-03-01T12:24:17.952Z"
   },
   {
    "duration": 245,
    "start_time": "2023-03-01T12:24:18.310Z"
   },
   {
    "duration": 14,
    "start_time": "2023-03-01T12:24:18.557Z"
   },
   {
    "duration": 38,
    "start_time": "2023-03-01T12:24:18.573Z"
   },
   {
    "duration": 7,
    "start_time": "2023-03-01T12:24:18.614Z"
   },
   {
    "duration": 92,
    "start_time": "2023-03-01T12:24:18.623Z"
   },
   {
    "duration": 95,
    "start_time": "2023-03-01T12:24:18.717Z"
   },
   {
    "duration": 191,
    "start_time": "2023-03-01T12:24:18.814Z"
   },
   {
    "duration": 103,
    "start_time": "2023-03-01T12:24:19.007Z"
   },
   {
    "duration": 11,
    "start_time": "2023-03-01T13:18:27.895Z"
   },
   {
    "duration": 19,
    "start_time": "2023-03-01T13:19:39.136Z"
   },
   {
    "duration": 84,
    "start_time": "2023-03-01T13:19:50.422Z"
   },
   {
    "duration": 2163,
    "start_time": "2023-03-01T13:31:36.879Z"
   },
   {
    "duration": 1425,
    "start_time": "2023-03-01T13:31:39.045Z"
   },
   {
    "duration": 1540,
    "start_time": "2023-03-01T13:31:40.471Z"
   },
   {
    "duration": 11,
    "start_time": "2023-03-01T13:31:42.013Z"
   },
   {
    "duration": 23,
    "start_time": "2023-03-01T13:31:42.026Z"
   },
   {
    "duration": 19,
    "start_time": "2023-03-01T13:31:42.050Z"
   },
   {
    "duration": 856,
    "start_time": "2023-03-01T13:31:42.070Z"
   },
   {
    "duration": 24,
    "start_time": "2023-03-01T13:31:42.927Z"
   },
   {
    "duration": 5,
    "start_time": "2023-03-01T13:31:42.953Z"
   },
   {
    "duration": 389,
    "start_time": "2023-03-01T13:31:42.959Z"
   },
   {
    "duration": 159,
    "start_time": "2023-03-01T13:31:43.349Z"
   },
   {
    "duration": 11,
    "start_time": "2023-03-01T13:31:43.510Z"
   },
   {
    "duration": 20,
    "start_time": "2023-03-01T13:31:43.522Z"
   },
   {
    "duration": 6,
    "start_time": "2023-03-01T13:31:43.544Z"
   },
   {
    "duration": 67,
    "start_time": "2023-03-01T13:31:43.552Z"
   },
   {
    "duration": 92,
    "start_time": "2023-03-01T13:31:43.621Z"
   },
   {
    "duration": 189,
    "start_time": "2023-03-01T13:31:43.716Z"
   },
   {
    "duration": 21,
    "start_time": "2023-03-01T13:31:43.907Z"
   },
   {
    "duration": 20932,
    "start_time": "2023-03-02T03:27:13.796Z"
   },
   {
    "duration": 1704,
    "start_time": "2023-03-02T03:27:34.730Z"
   },
   {
    "duration": 0,
    "start_time": "2023-03-02T03:27:36.437Z"
   },
   {
    "duration": 0,
    "start_time": "2023-03-02T03:27:36.438Z"
   },
   {
    "duration": 0,
    "start_time": "2023-03-02T03:27:36.439Z"
   },
   {
    "duration": 0,
    "start_time": "2023-03-02T03:27:36.441Z"
   },
   {
    "duration": 0,
    "start_time": "2023-03-02T03:27:36.442Z"
   },
   {
    "duration": 0,
    "start_time": "2023-03-02T03:27:36.443Z"
   },
   {
    "duration": 0,
    "start_time": "2023-03-02T03:27:36.443Z"
   },
   {
    "duration": 0,
    "start_time": "2023-03-02T03:27:36.444Z"
   },
   {
    "duration": 0,
    "start_time": "2023-03-02T03:27:36.445Z"
   },
   {
    "duration": 0,
    "start_time": "2023-03-02T03:27:36.446Z"
   },
   {
    "duration": 0,
    "start_time": "2023-03-02T03:27:36.447Z"
   },
   {
    "duration": 0,
    "start_time": "2023-03-02T03:27:36.448Z"
   },
   {
    "duration": 0,
    "start_time": "2023-03-02T03:27:36.449Z"
   },
   {
    "duration": 0,
    "start_time": "2023-03-02T03:27:36.449Z"
   },
   {
    "duration": 0,
    "start_time": "2023-03-02T03:27:36.450Z"
   },
   {
    "duration": 0,
    "start_time": "2023-03-02T03:27:36.452Z"
   },
   {
    "duration": 2847,
    "start_time": "2023-03-02T03:28:24.423Z"
   },
   {
    "duration": 2084,
    "start_time": "2023-03-02T03:28:54.373Z"
   },
   {
    "duration": 1993,
    "start_time": "2023-03-02T03:28:56.459Z"
   },
   {
    "duration": 1613,
    "start_time": "2023-03-02T03:28:58.454Z"
   },
   {
    "duration": 159,
    "start_time": "2023-03-02T03:29:00.070Z"
   },
   {
    "duration": 10,
    "start_time": "2023-03-02T03:29:00.230Z"
   },
   {
    "duration": 28,
    "start_time": "2023-03-02T03:29:00.241Z"
   },
   {
    "duration": 13,
    "start_time": "2023-03-02T03:29:00.271Z"
   },
   {
    "duration": 757,
    "start_time": "2023-03-02T03:29:00.286Z"
   },
   {
    "duration": 20,
    "start_time": "2023-03-02T03:29:01.045Z"
   },
   {
    "duration": 19,
    "start_time": "2023-03-02T03:29:01.067Z"
   },
   {
    "duration": 366,
    "start_time": "2023-03-02T03:29:01.087Z"
   },
   {
    "duration": 179,
    "start_time": "2023-03-02T03:29:01.454Z"
   },
   {
    "duration": 11,
    "start_time": "2023-03-02T03:29:01.634Z"
   },
   {
    "duration": 39,
    "start_time": "2023-03-02T03:29:01.646Z"
   },
   {
    "duration": 4,
    "start_time": "2023-03-02T03:29:01.688Z"
   },
   {
    "duration": 13,
    "start_time": "2023-03-02T03:29:01.694Z"
   },
   {
    "duration": 84,
    "start_time": "2023-03-02T03:29:01.709Z"
   },
   {
    "duration": 98,
    "start_time": "2023-03-02T03:29:01.795Z"
   },
   {
    "duration": 105,
    "start_time": "2023-03-02T03:29:01.986Z"
   },
   {
    "duration": 2281,
    "start_time": "2023-03-02T03:52:18.589Z"
   },
   {
    "duration": 2033,
    "start_time": "2023-03-02T03:52:20.872Z"
   },
   {
    "duration": 1703,
    "start_time": "2023-03-02T03:52:22.908Z"
   },
   {
    "duration": 98,
    "start_time": "2023-03-02T03:52:24.613Z"
   },
   {
    "duration": 11,
    "start_time": "2023-03-02T03:52:24.712Z"
   },
   {
    "duration": 16,
    "start_time": "2023-03-02T03:52:24.725Z"
   },
   {
    "duration": 17,
    "start_time": "2023-03-02T03:52:24.742Z"
   },
   {
    "duration": 770,
    "start_time": "2023-03-02T03:52:24.760Z"
   },
   {
    "duration": 23,
    "start_time": "2023-03-02T03:52:25.532Z"
   },
   {
    "duration": 6,
    "start_time": "2023-03-02T03:52:25.558Z"
   },
   {
    "duration": 376,
    "start_time": "2023-03-02T03:52:25.565Z"
   },
   {
    "duration": 243,
    "start_time": "2023-03-02T03:52:25.943Z"
   },
   {
    "duration": 12,
    "start_time": "2023-03-02T03:52:26.188Z"
   },
   {
    "duration": 11,
    "start_time": "2023-03-02T03:52:26.202Z"
   },
   {
    "duration": 5,
    "start_time": "2023-03-02T03:52:26.215Z"
   },
   {
    "duration": 74,
    "start_time": "2023-03-02T03:52:26.222Z"
   },
   {
    "duration": 290,
    "start_time": "2023-03-02T03:52:26.298Z"
   },
   {
    "duration": 116,
    "start_time": "2023-03-02T03:52:26.590Z"
   },
   {
    "duration": 81,
    "start_time": "2023-03-02T03:52:26.709Z"
   }
  ],
  "kernelspec": {
   "display_name": "Python 3 (ipykernel)",
   "language": "python",
   "name": "python3"
  },
  "language_info": {
   "codemirror_mode": {
    "name": "ipython",
    "version": 3
   },
   "file_extension": ".py",
   "mimetype": "text/x-python",
   "name": "python",
   "nbconvert_exporter": "python",
   "pygments_lexer": "ipython3",
   "version": "3.10.5"
  },
  "toc": {
   "base_numbering": 1,
   "nav_menu": {},
   "number_sections": true,
   "sideBar": true,
   "skip_h1_title": true,
   "title_cell": "Table of Contents",
   "title_sidebar": "Contents",
   "toc_cell": false,
   "toc_position": {
    "height": "calc(100% - 180px)",
    "left": "10px",
    "top": "150px",
    "width": "259.594px"
   },
   "toc_section_display": true,
   "toc_window_display": true
  },
  "vscode": {
   "interpreter": {
    "hash": "69a9047f428b72ee57fafcc30cfc1150f80b59105df1fa51f1e4927e742c9d0b"
   }
  }
 },
 "nbformat": 4,
 "nbformat_minor": 2
}
